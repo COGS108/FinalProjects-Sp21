{
 "cells": [
  {
   "cell_type": "markdown",
   "metadata": {},
   "source": [
    "# How Low Income can Impact Air Quality Levels"
   ]
  },
  {
   "cell_type": "markdown",
   "metadata": {},
   "source": [
    "# Overview"
   ]
  },
  {
   "cell_type": "markdown",
   "metadata": {},
   "source": [
    "Climate change continues to become a worldwide concern and there are specific worries about how these issues may disproportionately affect people with lower socioeconomic status. To discover more about these issues, we used average income per county in California and average air quality within those counties to see if there is a correlation. We used the method of linear regression in order to analyze their relationship. After graphing the results we saw that the models did not have a significant p-value, which led us to reject the null hypothesis and make the conclusion that there is no relationship between the median AQI & income in California."
   ]
  },
  {
   "cell_type": "markdown",
   "metadata": {},
   "source": [
    "# Names\n",
    "\n",
    "- Cristian Jarquin\n",
    "- Vanessa Komar \n",
    "- Ivan Cervantes Palomino\n",
    "- Bridget Phimmasone\n",
    "- Sierra Rose"
   ]
  },
  {
   "cell_type": "markdown",
   "metadata": {},
   "source": [
    "<a id='research_question'></a>\n",
    "# Research Question"
   ]
  },
  {
   "cell_type": "markdown",
   "metadata": {},
   "source": [
    "##### What is the relationship between the air quality and the median household incomes across California?"
   ]
  },
  {
   "cell_type": "markdown",
   "metadata": {},
   "source": [
    "<a id='background'></a>\n",
    "\n",
    "## Background & Prior Work"
   ]
  },
  {
   "cell_type": "markdown",
   "metadata": {},
   "source": [
    "We know that climate change is a tough topic that politicians and pseudo scientists have been arguing against for decades and has gained crowds of activists all over the world. \n",
    "\n",
    "Climate change poses health risks and financial risks especially for low income families due to high risk of natural disasters, pollution, lack of knowledge on climate change and its effects, lack of resources, reliable infrastructure and proper maintenance, and lack of health, homeowners, or renters insurance.\n",
    "\n",
    "An example of how climate change can create disparities for low income are the extremely hot summers that are increasing in temperature every year. People might not have the financial stability to buy luxury items like A/C and it forces people to live in rough hot conditions. Another example is the lack of green spaces, which has been known to create less respect and care for the environment from residents. Not only that, but the lack of green spaces in communities allow the air quality to worsen over time. The lack of knowledge on climate change supports a completely different lifestyle for these people because they don't know that certain acts and events create an even more polluted environment, making it worse and worse for the ozone in these communities, which explains the hotter temperatures, worse weather conditions and poor air quality.\n",
    "\n",
    "A few of our groupmates have taken classes that spoke on similar topics regarding climate change. Our prior class work relates to our project because we gained knowledge on information related to our question in regards to climate change. However none of our previous projects have asked a similar question to ours.\n",
    "\n",
    "According to the American Lung Association and a study on how Low-income neighborhoods disproportionately feel environmental burdens, air quality may have a bigger negative impact on lower income communities. So, not only may areas with lower income have worse air quality, but this bad air quality may disproportionately affect their daily lives. These communities don’t have the necessary funding or support for systems such as urban greening that could help with bad air quality.\n",
    "\n",
    "References (include links):\n",
    "- 1) https://www.lung.org/clean-air/outdoors/who-is-at-risk/disparities\n",
    "- 2) https://www.smartcitiesdive.com/news/study-low-income-neighborhoods-disproportionately-feel-environmental-burde/543498/\n"
   ]
  },
  {
   "cell_type": "markdown",
   "metadata": {},
   "source": [
    "# Hypothesis\n"
   ]
  },
  {
   "cell_type": "markdown",
   "metadata": {},
   "source": [
    "##### We hypothesize that climate change disproportionately impacts the air quality in which these low-income families reside throughout California.\n"
   ]
  },
  {
   "cell_type": "markdown",
   "metadata": {},
   "source": [
    "# Dataset(s)"
   ]
  },
  {
   "cell_type": "markdown",
   "metadata": {},
   "source": [
    "For our data, we seeked out datasets in which we could extract median household income and air quality from counties in California. In order to get the air quality of each county, we are using the AQI (air quality index) as a measurement recorded by the EPA (United States Environmental Agency). We decided to store the AQI and the income of each county as float values, and the county name as a string. In order to eliminate potential confounds particular to a specific year, we collected the average income from 2015-2019 and calculated the average AQI value of each county from 2010-2020. "
   ]
  },
  {
   "cell_type": "markdown",
   "metadata": {},
   "source": [
    "Dataset 1: Air Quality Index Report\n",
    "- Link to Dataset: https://www.epa.gov/outdoor-air-quality-data/air-quality-index-report\n",
    "- Number of Observations: 53-54\n",
    "- This dataset gives us the air quality index report for a selected year within a selected region. We will be using/combining datasets from 11 different years (2010-2020) containing data on the AQI of each county in California. \n"
   ]
  },
  {
   "cell_type": "markdown",
   "metadata": {},
   "source": [
    "Dataset 2: Median Household Income by County\n",
    "- Link to Dataset: https://www.census.gov/search-results.html?q=california+income+by+county&page=1&stateGeo=none&searchtype=web&cssp=SERP&_charset_=UTF-8\n",
    "- Number of Observations: 58\n",
    "- This dataset provides the median household income for each county in California. It includes income data from 2015-2019."
   ]
  },
  {
   "cell_type": "markdown",
   "metadata": {},
   "source": [
    "We extracted the number of good/moderate/unhealthy for sensitive groups/unhealthy/very unhealthy days/AQI max/AQI 90th Percentile/AQI Median for each county in California for the 11 different years (2010-2020). We needed to get rid of the 5 counties from dataset 2 that dataset 1 did not have, and this left us with 53 total observations/counties. From dataset 2, we got the average income to classify each county. From here we want to look at the trends within the different levels of income."
   ]
  },
  {
   "cell_type": "markdown",
   "metadata": {},
   "source": [
    "Dataset 3: California County Boundaries 2016\n",
    "- Link to Dataset: https://data.ca.gov/dataset/ca-geographic-boundaries \n",
    "- Number of Observations: 58 \n",
    "- This dataset provides the geographical locations and boundaries for each county in California. It includes data from 2016.\n"
   ]
  },
  {
   "cell_type": "markdown",
   "metadata": {},
   "source": [
    "# Setup"
   ]
  },
  {
   "cell_type": "markdown",
   "metadata": {},
   "source": [
    "First, we need to import the appropriate libraries for our data and analysis. "
   ]
  },
  {
   "cell_type": "code",
   "execution_count": 1,
   "metadata": {},
   "outputs": [],
   "source": [
    "# import pandas & numpy library\n",
    "import pandas as pd\n",
    "import numpy as np\n",
    "\n",
    "# import seaborn and matplotlib\n",
    "import seaborn as sns\n",
    "import matplotlib.pylab as plt\n",
    "\n",
    "# Statmodels & patsy\n",
    "import patsy\n",
    "import statsmodels.api as sm\n",
    "\n",
    "#geopandas\n",
    "import geopandas as gdp\n",
    "%matplotlib inline "
   ]
  },
  {
   "cell_type": "markdown",
   "metadata": {},
   "source": [
    "Next we need to import the 11 datasets containing the AQI report of each county in California over the last 11 years. "
   ]
  },
  {
   "cell_type": "code",
   "execution_count": 2,
   "metadata": {},
   "outputs": [
    {
     "name": "stdout",
     "output_type": "stream",
     "text": [
      "(53, 17)\n"
     ]
    },
    {
     "data": {
      "text/html": [
       "<div>\n",
       "<style scoped>\n",
       "    .dataframe tbody tr th:only-of-type {\n",
       "        vertical-align: middle;\n",
       "    }\n",
       "\n",
       "    .dataframe tbody tr th {\n",
       "        vertical-align: top;\n",
       "    }\n",
       "\n",
       "    .dataframe thead th {\n",
       "        text-align: right;\n",
       "    }\n",
       "</style>\n",
       "<table border=\"1\" class=\"dataframe\">\n",
       "  <thead>\n",
       "    <tr style=\"text-align: right;\">\n",
       "      <th></th>\n",
       "      <th>County Code</th>\n",
       "      <th>County</th>\n",
       "      <th># Days with AQI</th>\n",
       "      <th>Good</th>\n",
       "      <th>Moderate</th>\n",
       "      <th>Unhealthy for Sensitive Groups</th>\n",
       "      <th>Unhealthy</th>\n",
       "      <th>Very Unhealthy</th>\n",
       "      <th>AQI Maximum</th>\n",
       "      <th>AQI 90th Percentile</th>\n",
       "      <th>AQI Median</th>\n",
       "      <th># Days CO</th>\n",
       "      <th># Days NO2</th>\n",
       "      <th># Days O3</th>\n",
       "      <th># Days SO2</th>\n",
       "      <th># Days PM2.5</th>\n",
       "      <th># Days PM10</th>\n",
       "    </tr>\n",
       "  </thead>\n",
       "  <tbody>\n",
       "    <tr>\n",
       "      <th>0</th>\n",
       "      <td>6001</td>\n",
       "      <td>Alameda County, CA</td>\n",
       "      <td>366</td>\n",
       "      <td>236</td>\n",
       "      <td>110</td>\n",
       "      <td>8</td>\n",
       "      <td>11</td>\n",
       "      <td>1</td>\n",
       "      <td>218</td>\n",
       "      <td>79.0</td>\n",
       "      <td>43.0</td>\n",
       "      <td>.</td>\n",
       "      <td>9</td>\n",
       "      <td>152</td>\n",
       "      <td>.</td>\n",
       "      <td>205</td>\n",
       "      <td>.</td>\n",
       "    </tr>\n",
       "    <tr>\n",
       "      <th>1</th>\n",
       "      <td>6005</td>\n",
       "      <td>Amador County, CA</td>\n",
       "      <td>359</td>\n",
       "      <td>327</td>\n",
       "      <td>29</td>\n",
       "      <td>2</td>\n",
       "      <td>1</td>\n",
       "      <td>.</td>\n",
       "      <td>156</td>\n",
       "      <td>50.0</td>\n",
       "      <td>37.0</td>\n",
       "      <td>.</td>\n",
       "      <td>.</td>\n",
       "      <td>359</td>\n",
       "      <td>.</td>\n",
       "      <td>.</td>\n",
       "      <td>.</td>\n",
       "    </tr>\n",
       "    <tr>\n",
       "      <th>2</th>\n",
       "      <td>6007</td>\n",
       "      <td>Butte County, CA</td>\n",
       "      <td>366</td>\n",
       "      <td>183</td>\n",
       "      <td>144</td>\n",
       "      <td>18</td>\n",
       "      <td>18</td>\n",
       "      <td>3</td>\n",
       "      <td>379</td>\n",
       "      <td>110.0</td>\n",
       "      <td>50.5</td>\n",
       "      <td>.</td>\n",
       "      <td>.</td>\n",
       "      <td>195</td>\n",
       "      <td>.</td>\n",
       "      <td>166</td>\n",
       "      <td>5</td>\n",
       "    </tr>\n",
       "    <tr>\n",
       "      <th>3</th>\n",
       "      <td>6009</td>\n",
       "      <td>Calaveras County, CA</td>\n",
       "      <td>364</td>\n",
       "      <td>260</td>\n",
       "      <td>81</td>\n",
       "      <td>10</td>\n",
       "      <td>13</td>\n",
       "      <td>.</td>\n",
       "      <td>192</td>\n",
       "      <td>77.0</td>\n",
       "      <td>44.0</td>\n",
       "      <td>.</td>\n",
       "      <td>.</td>\n",
       "      <td>232</td>\n",
       "      <td>.</td>\n",
       "      <td>127</td>\n",
       "      <td>5</td>\n",
       "    </tr>\n",
       "    <tr>\n",
       "      <th>4</th>\n",
       "      <td>6011</td>\n",
       "      <td>Colusa County, CA</td>\n",
       "      <td>366</td>\n",
       "      <td>247</td>\n",
       "      <td>87</td>\n",
       "      <td>9</td>\n",
       "      <td>23</td>\n",
       "      <td>.</td>\n",
       "      <td>198</td>\n",
       "      <td>86.0</td>\n",
       "      <td>38.0</td>\n",
       "      <td>.</td>\n",
       "      <td>.</td>\n",
       "      <td>183</td>\n",
       "      <td>.</td>\n",
       "      <td>150</td>\n",
       "      <td>33</td>\n",
       "    </tr>\n",
       "  </tbody>\n",
       "</table>\n",
       "</div>"
      ],
      "text/plain": [
       "   County Code                County  # Days with AQI  Good  Moderate  \\\n",
       "0         6001    Alameda County, CA              366   236       110   \n",
       "1         6005     Amador County, CA              359   327        29   \n",
       "2         6007      Butte County, CA              366   183       144   \n",
       "3         6009  Calaveras County, CA              364   260        81   \n",
       "4         6011     Colusa County, CA              366   247        87   \n",
       "\n",
       "   Unhealthy for Sensitive Groups Unhealthy Very Unhealthy  AQI Maximum  \\\n",
       "0                               8        11              1          218   \n",
       "1                               2         1              .          156   \n",
       "2                              18        18              3          379   \n",
       "3                              10        13              .          192   \n",
       "4                               9        23              .          198   \n",
       "\n",
       "   AQI 90th Percentile  AQI Median # Days CO # Days NO2 # Days O3 # Days SO2  \\\n",
       "0                 79.0        43.0         .          9       152          .   \n",
       "1                 50.0        37.0         .          .       359          .   \n",
       "2                110.0        50.5         .          .       195          .   \n",
       "3                 77.0        44.0         .          .       232          .   \n",
       "4                 86.0        38.0         .          .       183          .   \n",
       "\n",
       "  # Days PM2.5 # Days PM10  \n",
       "0          205           .  \n",
       "1            .           .  \n",
       "2          166           5  \n",
       "3          127           5  \n",
       "4          150          33  "
      ]
     },
     "execution_count": 2,
     "metadata": {},
     "output_type": "execute_result"
    }
   ],
   "source": [
    "# import dataset 1 for the years 2010-2020\n",
    "aqi_2010 = pd.read_csv('/Users/sierrarose/Documents/CSVs/aqireport2010.csv')\n",
    "aqi_2011 = pd.read_csv('/Users/sierrarose/Documents/CSVs/aqireport2011.csv')\n",
    "aqi_2012 = pd.read_csv('/Users/sierrarose/Documents/CSVs/aqireport2012.csv')\n",
    "aqi_2013 = pd.read_csv('/Users/sierrarose/Documents/CSVs/aqireport2013.csv')\n",
    "aqi_2014 = pd.read_csv('/Users/sierrarose/Documents/CSVs/aqireport2014.csv')\n",
    "aqi_2015 = pd.read_csv('/Users/sierrarose/Documents/CSVs/aqireport2015.csv')\n",
    "aqi_2016 = pd.read_csv('/Users/sierrarose/Documents/CSVs/aqireport2016.csv')\n",
    "aqi_2017 = pd.read_csv('/Users/sierrarose/Documents/CSVs/aqireport2017.csv')\n",
    "aqi_2018 = pd.read_csv('/Users/sierrarose/Documents/CSVs/aqireport2018.csv')\n",
    "aqi_2019 = pd.read_csv('/Users/sierrarose/Documents/CSVs/aqireport2019.csv')\n",
    "aqi_2020 = pd.read_csv('/Users/sierrarose/Documents/CSVs/aqireport2020.csv')\n",
    "\n",
    "# example of what these datasets should look like\n",
    "print(aqi_2020.shape)\n",
    "aqi_2020.head()"
   ]
  },
  {
   "cell_type": "markdown",
   "metadata": {},
   "source": [
    "We also need to import the dataset containing the median income of each county in California between 2015-2019."
   ]
  },
  {
   "cell_type": "code",
   "execution_count": 3,
   "metadata": {},
   "outputs": [
    {
     "name": "stdout",
     "output_type": "stream",
     "text": [
      "(60, 3)\n"
     ]
    },
    {
     "data": {
      "text/html": [
       "<div>\n",
       "<style scoped>\n",
       "    .dataframe tbody tr th:only-of-type {\n",
       "        vertical-align: middle;\n",
       "    }\n",
       "\n",
       "    .dataframe tbody tr th {\n",
       "        vertical-align: top;\n",
       "    }\n",
       "\n",
       "    .dataframe thead th {\n",
       "        text-align: right;\n",
       "    }\n",
       "</style>\n",
       "<table border=\"1\" class=\"dataframe\">\n",
       "  <thead>\n",
       "    <tr style=\"text-align: right;\">\n",
       "      <th></th>\n",
       "      <th>Median Household Income by County</th>\n",
       "      <th>Unnamed: 1</th>\n",
       "      <th>Unnamed: 2</th>\n",
       "    </tr>\n",
       "  </thead>\n",
       "  <tbody>\n",
       "    <tr>\n",
       "      <th>0</th>\n",
       "      <td>County</td>\n",
       "      <td>Income</td>\n",
       "      <td>Margin Of Error</td>\n",
       "    </tr>\n",
       "    <tr>\n",
       "      <th>1</th>\n",
       "      <td>Alameda County</td>\n",
       "      <td>$99,406</td>\n",
       "      <td>+/- $921</td>\n",
       "    </tr>\n",
       "    <tr>\n",
       "      <th>2</th>\n",
       "      <td>Alpine County</td>\n",
       "      <td>$63,750</td>\n",
       "      <td>+/- $17,778</td>\n",
       "    </tr>\n",
       "    <tr>\n",
       "      <th>3</th>\n",
       "      <td>Amador County</td>\n",
       "      <td>$62,772</td>\n",
       "      <td>+/- $2,756</td>\n",
       "    </tr>\n",
       "    <tr>\n",
       "      <th>4</th>\n",
       "      <td>Butte County</td>\n",
       "      <td>$52,537</td>\n",
       "      <td>+/- $1,618</td>\n",
       "    </tr>\n",
       "  </tbody>\n",
       "</table>\n",
       "</div>"
      ],
      "text/plain": [
       "  Median Household Income by County Unnamed: 1       Unnamed: 2\n",
       "0                            County     Income  Margin Of Error\n",
       "1                    Alameda County    $99,406         +/- $921\n",
       "2                     Alpine County    $63,750      +/- $17,778\n",
       "3                     Amador County    $62,772       +/- $2,756\n",
       "4                      Butte County    $52,537       +/- $1,618"
      ]
     },
     "execution_count": 3,
     "metadata": {},
     "output_type": "execute_result"
    }
   ],
   "source": [
    "#import dataset 2\n",
    "income = pd.read_csv('https://raw.githubusercontent.com/J-Cristian/Climate-Income-GroupProject/main/Median%20Household%20Income%20by%20County.csv')\n",
    "print(income.shape)\n",
    "income.head()"
   ]
  },
  {
   "cell_type": "markdown",
   "metadata": {},
   "source": [
    "Finally, we need to import the geopandas dataset for our map data visualizations of the counties in California."
   ]
  },
  {
   "cell_type": "code",
   "execution_count": 4,
   "metadata": {},
   "outputs": [
    {
     "data": {
      "text/plain": [
       "<AxesSubplot:>"
      ]
     },
     "execution_count": 4,
     "metadata": {},
     "output_type": "execute_result"
    },
    {
     "data": {
      "image/png": "[encoded data removed]",
      "text/plain": [
       "<Figure size 432x288 with 1 Axes>"
      ]
     },
     "metadata": {
      "needs_background": "light"
     },
     "output_type": "display_data"
    }
   ],
   "source": [
    "path = r\"/Users/sierrarose/Downloads/CA_Counties/CA_Counties_TIGER2016.shp\"\n",
    "shp = gdp.read_file(path)\n",
    "shp.plot()"
   ]
  },
  {
   "cell_type": "markdown",
   "metadata": {},
   "source": [
    "# Data Cleaning"
   ]
  },
  {
   "cell_type": "markdown",
   "metadata": {},
   "source": [
    "For the Income dataset we deleted the first row and renamed our columns. We also got rid of the last row since it doesn’t hold any information on for the counties in California. The shape of the dataset is now  (57,3). Then, we changed the string values of the income and margin of error to float values. We also had to drop five counties (Alpine County, Lassen County, Modoc County, Sierra County, and Yuba County) because there was no data available for them in the air quality dataset. In the air quality dataset, we replaced all columns containing a “.” with a “0.” and we dropped “, CA” from the “County” column so that just the name of the county would be displayed and not the redundant information which would also keep the naming convention consistent between our two datasets. We also added a “Year” column for each of the datasets in order to distinguish the data across all years and got rid of the latter 6 columns because they were not relevant towards our research question."
   ]
  },
  {
   "cell_type": "markdown",
   "metadata": {},
   "source": [
    "### Cleaning the Income Dataset\n",
    "\n",
    "We removed the first row of the income dataset, because it was actually the column names. We also removed the last row because it included the source of the data and not actual data. Then we renamed the columns appropriately."
   ]
  },
  {
   "cell_type": "code",
   "execution_count": 4,
   "metadata": {},
   "outputs": [
    {
     "name": "stdout",
     "output_type": "stream",
     "text": [
      "(58, 3)\n"
     ]
    },
    {
     "data": {
      "text/html": [
       "<div>\n",
       "<style scoped>\n",
       "    .dataframe tbody tr th:only-of-type {\n",
       "        vertical-align: middle;\n",
       "    }\n",
       "\n",
       "    .dataframe tbody tr th {\n",
       "        vertical-align: top;\n",
       "    }\n",
       "\n",
       "    .dataframe thead th {\n",
       "        text-align: right;\n",
       "    }\n",
       "</style>\n",
       "<table border=\"1\" class=\"dataframe\">\n",
       "  <thead>\n",
       "    <tr style=\"text-align: right;\">\n",
       "      <th></th>\n",
       "      <th>County</th>\n",
       "      <th>Income</th>\n",
       "      <th>Margin of Error</th>\n",
       "    </tr>\n",
       "  </thead>\n",
       "  <tbody>\n",
       "    <tr>\n",
       "      <th>1</th>\n",
       "      <td>Alameda County</td>\n",
       "      <td>$99,406</td>\n",
       "      <td>+/- $921</td>\n",
       "    </tr>\n",
       "    <tr>\n",
       "      <th>2</th>\n",
       "      <td>Alpine County</td>\n",
       "      <td>$63,750</td>\n",
       "      <td>+/- $17,778</td>\n",
       "    </tr>\n",
       "    <tr>\n",
       "      <th>3</th>\n",
       "      <td>Amador County</td>\n",
       "      <td>$62,772</td>\n",
       "      <td>+/- $2,756</td>\n",
       "    </tr>\n",
       "    <tr>\n",
       "      <th>4</th>\n",
       "      <td>Butte County</td>\n",
       "      <td>$52,537</td>\n",
       "      <td>+/- $1,618</td>\n",
       "    </tr>\n",
       "    <tr>\n",
       "      <th>5</th>\n",
       "      <td>Calaveras County</td>\n",
       "      <td>$63,158</td>\n",
       "      <td>+/- $4,128</td>\n",
       "    </tr>\n",
       "  </tbody>\n",
       "</table>\n",
       "</div>"
      ],
      "text/plain": [
       "             County   Income Margin of Error\n",
       "1    Alameda County  $99,406        +/- $921\n",
       "2     Alpine County  $63,750     +/- $17,778\n",
       "3     Amador County  $62,772      +/- $2,756\n",
       "4      Butte County  $52,537      +/- $1,618\n",
       "5  Calaveras County  $63,158      +/- $4,128"
      ]
     },
     "execution_count": 4,
     "metadata": {},
     "output_type": "execute_result"
    }
   ],
   "source": [
    "income = income.iloc[1: , :]\n",
    "income = income.iloc[:-1 , :]\n",
    "income.columns = ['County', 'Income','Margin of Error']\n",
    "\n",
    "# look at dataset with new column names\n",
    "print(income.shape)\n",
    "income.head()"
   ]
  },
  {
   "cell_type": "markdown",
   "metadata": {},
   "source": [
    "We then changed the money values in the income column and the margin of error column from dollars to float values to make future analysis easier."
   ]
  },
  {
   "cell_type": "code",
   "execution_count": 5,
   "metadata": {},
   "outputs": [
    {
     "name": "stdout",
     "output_type": "stream",
     "text": [
      "(58, 3)\n"
     ]
    },
    {
     "data": {
      "text/html": [
       "<div>\n",
       "<style scoped>\n",
       "    .dataframe tbody tr th:only-of-type {\n",
       "        vertical-align: middle;\n",
       "    }\n",
       "\n",
       "    .dataframe tbody tr th {\n",
       "        vertical-align: top;\n",
       "    }\n",
       "\n",
       "    .dataframe thead th {\n",
       "        text-align: right;\n",
       "    }\n",
       "</style>\n",
       "<table border=\"1\" class=\"dataframe\">\n",
       "  <thead>\n",
       "    <tr style=\"text-align: right;\">\n",
       "      <th></th>\n",
       "      <th>County</th>\n",
       "      <th>Income</th>\n",
       "      <th>Margin of Error</th>\n",
       "    </tr>\n",
       "  </thead>\n",
       "  <tbody>\n",
       "    <tr>\n",
       "      <th>1</th>\n",
       "      <td>Alameda County</td>\n",
       "      <td>99406.0</td>\n",
       "      <td>921.0</td>\n",
       "    </tr>\n",
       "    <tr>\n",
       "      <th>2</th>\n",
       "      <td>Alpine County</td>\n",
       "      <td>63750.0</td>\n",
       "      <td>17778.0</td>\n",
       "    </tr>\n",
       "    <tr>\n",
       "      <th>3</th>\n",
       "      <td>Amador County</td>\n",
       "      <td>62772.0</td>\n",
       "      <td>2756.0</td>\n",
       "    </tr>\n",
       "    <tr>\n",
       "      <th>4</th>\n",
       "      <td>Butte County</td>\n",
       "      <td>52537.0</td>\n",
       "      <td>1618.0</td>\n",
       "    </tr>\n",
       "    <tr>\n",
       "      <th>5</th>\n",
       "      <td>Calaveras County</td>\n",
       "      <td>63158.0</td>\n",
       "      <td>4128.0</td>\n",
       "    </tr>\n",
       "  </tbody>\n",
       "</table>\n",
       "</div>"
      ],
      "text/plain": [
       "             County   Income  Margin of Error\n",
       "1    Alameda County  99406.0            921.0\n",
       "2     Alpine County  63750.0          17778.0\n",
       "3     Amador County  62772.0           2756.0\n",
       "4      Butte County  52537.0           1618.0\n",
       "5  Calaveras County  63158.0           4128.0"
      ]
     },
     "execution_count": 5,
     "metadata": {},
     "output_type": "execute_result"
    }
   ],
   "source": [
    "def money(number):\n",
    "    number = number.strip('$')\n",
    "    number = number.replace(',','')\n",
    "    number = float(number)\n",
    "    return number\n",
    "def error(number):\n",
    "    number = number.strip('+/- $')\n",
    "    number = number.replace(',','')\n",
    "    number = float(number)\n",
    "    return number\n",
    "\n",
    "income['Income'] = income['Income'].apply(money)\n",
    "income['Margin of Error'] = income['Margin of Error'].apply(error)\n",
    "\n",
    "# Income after these changes \n",
    "print(income.shape)\n",
    "income.head()"
   ]
  },
  {
   "cell_type": "markdown",
   "metadata": {},
   "source": [
    "Because of these changes, we needed to reset the indices of the income dataset."
   ]
  },
  {
   "cell_type": "code",
   "execution_count": 6,
   "metadata": {},
   "outputs": [
    {
     "name": "stdout",
     "output_type": "stream",
     "text": [
      "(58, 3)\n"
     ]
    },
    {
     "data": {
      "text/html": [
       "<div>\n",
       "<style scoped>\n",
       "    .dataframe tbody tr th:only-of-type {\n",
       "        vertical-align: middle;\n",
       "    }\n",
       "\n",
       "    .dataframe tbody tr th {\n",
       "        vertical-align: top;\n",
       "    }\n",
       "\n",
       "    .dataframe thead th {\n",
       "        text-align: right;\n",
       "    }\n",
       "</style>\n",
       "<table border=\"1\" class=\"dataframe\">\n",
       "  <thead>\n",
       "    <tr style=\"text-align: right;\">\n",
       "      <th></th>\n",
       "      <th>County</th>\n",
       "      <th>Income</th>\n",
       "      <th>Margin of Error</th>\n",
       "    </tr>\n",
       "  </thead>\n",
       "  <tbody>\n",
       "    <tr>\n",
       "      <th>0</th>\n",
       "      <td>Alameda County</td>\n",
       "      <td>99406.0</td>\n",
       "      <td>921.0</td>\n",
       "    </tr>\n",
       "    <tr>\n",
       "      <th>1</th>\n",
       "      <td>Alpine County</td>\n",
       "      <td>63750.0</td>\n",
       "      <td>17778.0</td>\n",
       "    </tr>\n",
       "    <tr>\n",
       "      <th>2</th>\n",
       "      <td>Amador County</td>\n",
       "      <td>62772.0</td>\n",
       "      <td>2756.0</td>\n",
       "    </tr>\n",
       "    <tr>\n",
       "      <th>3</th>\n",
       "      <td>Butte County</td>\n",
       "      <td>52537.0</td>\n",
       "      <td>1618.0</td>\n",
       "    </tr>\n",
       "    <tr>\n",
       "      <th>4</th>\n",
       "      <td>Calaveras County</td>\n",
       "      <td>63158.0</td>\n",
       "      <td>4128.0</td>\n",
       "    </tr>\n",
       "  </tbody>\n",
       "</table>\n",
       "</div>"
      ],
      "text/plain": [
       "             County   Income  Margin of Error\n",
       "0    Alameda County  99406.0            921.0\n",
       "1     Alpine County  63750.0          17778.0\n",
       "2     Amador County  62772.0           2756.0\n",
       "3      Butte County  52537.0           1618.0\n",
       "4  Calaveras County  63158.0           4128.0"
      ]
     },
     "execution_count": 6,
     "metadata": {},
     "output_type": "execute_result"
    }
   ],
   "source": [
    "income = income.reset_index(drop=True)\n",
    "\n",
    "# income with fixed indices\n",
    "print(income.shape)\n",
    "income.head()"
   ]
  },
  {
   "cell_type": "markdown",
   "metadata": {},
   "source": [
    "Finally, we dropped 5 counties that were missing from the AQI dataset so that the data was consistent between the datasets."
   ]
  },
  {
   "cell_type": "code",
   "execution_count": 7,
   "metadata": {},
   "outputs": [
    {
     "name": "stdout",
     "output_type": "stream",
     "text": [
      "(53, 3)\n"
     ]
    },
    {
     "data": {
      "text/html": [
       "<div>\n",
       "<style scoped>\n",
       "    .dataframe tbody tr th:only-of-type {\n",
       "        vertical-align: middle;\n",
       "    }\n",
       "\n",
       "    .dataframe tbody tr th {\n",
       "        vertical-align: top;\n",
       "    }\n",
       "\n",
       "    .dataframe thead th {\n",
       "        text-align: right;\n",
       "    }\n",
       "</style>\n",
       "<table border=\"1\" class=\"dataframe\">\n",
       "  <thead>\n",
       "    <tr style=\"text-align: right;\">\n",
       "      <th></th>\n",
       "      <th>County</th>\n",
       "      <th>Income</th>\n",
       "      <th>Margin of Error</th>\n",
       "    </tr>\n",
       "  </thead>\n",
       "  <tbody>\n",
       "    <tr>\n",
       "      <th>0</th>\n",
       "      <td>Alameda County</td>\n",
       "      <td>99406.0</td>\n",
       "      <td>921.0</td>\n",
       "    </tr>\n",
       "    <tr>\n",
       "      <th>1</th>\n",
       "      <td>Amador County</td>\n",
       "      <td>62772.0</td>\n",
       "      <td>2756.0</td>\n",
       "    </tr>\n",
       "    <tr>\n",
       "      <th>2</th>\n",
       "      <td>Butte County</td>\n",
       "      <td>52537.0</td>\n",
       "      <td>1618.0</td>\n",
       "    </tr>\n",
       "    <tr>\n",
       "      <th>3</th>\n",
       "      <td>Calaveras County</td>\n",
       "      <td>63158.0</td>\n",
       "      <td>4128.0</td>\n",
       "    </tr>\n",
       "    <tr>\n",
       "      <th>4</th>\n",
       "      <td>Colusa County</td>\n",
       "      <td>59401.0</td>\n",
       "      <td>4265.0</td>\n",
       "    </tr>\n",
       "  </tbody>\n",
       "</table>\n",
       "</div>"
      ],
      "text/plain": [
       "             County   Income  Margin of Error\n",
       "0    Alameda County  99406.0            921.0\n",
       "1     Amador County  62772.0           2756.0\n",
       "2      Butte County  52537.0           1618.0\n",
       "3  Calaveras County  63158.0           4128.0\n",
       "4     Colusa County  59401.0           4265.0"
      ]
     },
     "execution_count": 7,
     "metadata": {},
     "output_type": "execute_result"
    }
   ],
   "source": [
    "##drop 5 counties\n",
    "income = income.drop(income.index[[1,17,24,45,57]])\n",
    "income = income.reset_index(drop=True)\n",
    "\n",
    "# look at final cleaned income dataset\n",
    "print(income.shape)\n",
    "income.head()"
   ]
  },
  {
   "cell_type": "markdown",
   "metadata": {},
   "source": [
    "### Cleaning the AQI Dataset\n",
    "\n",
    "First we extracted the columns that we will be using for each year."
   ]
  },
  {
   "cell_type": "code",
   "execution_count": 8,
   "metadata": {},
   "outputs": [
    {
     "name": "stdout",
     "output_type": "stream",
     "text": [
      "(53, 6)\n"
     ]
    },
    {
     "data": {
      "text/html": [
       "<div>\n",
       "<style scoped>\n",
       "    .dataframe tbody tr th:only-of-type {\n",
       "        vertical-align: middle;\n",
       "    }\n",
       "\n",
       "    .dataframe tbody tr th {\n",
       "        vertical-align: top;\n",
       "    }\n",
       "\n",
       "    .dataframe thead th {\n",
       "        text-align: right;\n",
       "    }\n",
       "</style>\n",
       "<table border=\"1\" class=\"dataframe\">\n",
       "  <thead>\n",
       "    <tr style=\"text-align: right;\">\n",
       "      <th></th>\n",
       "      <th>County</th>\n",
       "      <th># Days with AQI</th>\n",
       "      <th>Good</th>\n",
       "      <th>Moderate</th>\n",
       "      <th>Unhealthy</th>\n",
       "      <th>AQI Median</th>\n",
       "    </tr>\n",
       "  </thead>\n",
       "  <tbody>\n",
       "    <tr>\n",
       "      <th>0</th>\n",
       "      <td>Alameda County, CA</td>\n",
       "      <td>366</td>\n",
       "      <td>236</td>\n",
       "      <td>110</td>\n",
       "      <td>11</td>\n",
       "      <td>43.0</td>\n",
       "    </tr>\n",
       "    <tr>\n",
       "      <th>1</th>\n",
       "      <td>Amador County, CA</td>\n",
       "      <td>359</td>\n",
       "      <td>327</td>\n",
       "      <td>29</td>\n",
       "      <td>1</td>\n",
       "      <td>37.0</td>\n",
       "    </tr>\n",
       "    <tr>\n",
       "      <th>2</th>\n",
       "      <td>Butte County, CA</td>\n",
       "      <td>366</td>\n",
       "      <td>183</td>\n",
       "      <td>144</td>\n",
       "      <td>18</td>\n",
       "      <td>50.5</td>\n",
       "    </tr>\n",
       "    <tr>\n",
       "      <th>3</th>\n",
       "      <td>Calaveras County, CA</td>\n",
       "      <td>364</td>\n",
       "      <td>260</td>\n",
       "      <td>81</td>\n",
       "      <td>13</td>\n",
       "      <td>44.0</td>\n",
       "    </tr>\n",
       "    <tr>\n",
       "      <th>4</th>\n",
       "      <td>Colusa County, CA</td>\n",
       "      <td>366</td>\n",
       "      <td>247</td>\n",
       "      <td>87</td>\n",
       "      <td>23</td>\n",
       "      <td>38.0</td>\n",
       "    </tr>\n",
       "  </tbody>\n",
       "</table>\n",
       "</div>"
      ],
      "text/plain": [
       "                 County  # Days with AQI  Good  Moderate Unhealthy  AQI Median\n",
       "0    Alameda County, CA              366   236       110        11        43.0\n",
       "1     Amador County, CA              359   327        29         1        37.0\n",
       "2      Butte County, CA              366   183       144        18        50.5\n",
       "3  Calaveras County, CA              364   260        81        13        44.0\n",
       "4     Colusa County, CA              366   247        87        23        38.0"
      ]
     },
     "execution_count": 8,
     "metadata": {},
     "output_type": "execute_result"
    }
   ],
   "source": [
    "aqi_2010 = aqi_2010[['County','# Days with AQI','Good','Moderate','Unhealthy','AQI Median']]\n",
    "aqi_2011 = aqi_2011[['County','# Days with AQI','Good','Moderate','Unhealthy','AQI Median']]\n",
    "aqi_2012 = aqi_2012[['County','# Days with AQI','Good','Moderate','Unhealthy','AQI Median']]\n",
    "aqi_2013 = aqi_2013[['County','# Days with AQI','Good','Moderate','Unhealthy','AQI Median']]\n",
    "aqi_2014 = aqi_2014[['County','# Days with AQI','Good','Moderate','Unhealthy','AQI Median']]\n",
    "aqi_2015 = aqi_2015[['County','# Days with AQI','Good','Moderate','Unhealthy','AQI Median']]\n",
    "aqi_2016 = aqi_2016[['County','# Days with AQI','Good','Moderate','Unhealthy','AQI Median']]\n",
    "aqi_2017 = aqi_2017[['County','# Days with AQI','Good','Moderate','Unhealthy','AQI Median']]\n",
    "aqi_2018 = aqi_2018[['County','# Days with AQI','Good','Moderate','Unhealthy','AQI Median']]\n",
    "aqi_2019 = aqi_2019[['County','# Days with AQI','Good','Moderate','Unhealthy','AQI Median']]\n",
    "aqi_2020 = aqi_2020[['County','# Days with AQI','Good','Moderate','Unhealthy','AQI Median']]\n",
    "\n",
    "# what each dataset should look like now\n",
    "print(aqi_2020.shape)\n",
    "aqi_2020.head()"
   ]
  },
  {
   "cell_type": "markdown",
   "metadata": {},
   "source": [
    "Then, we added a column providing the year for when we combine the datasets."
   ]
  },
  {
   "cell_type": "code",
   "execution_count": 9,
   "metadata": {},
   "outputs": [
    {
     "name": "stdout",
     "output_type": "stream",
     "text": [
      "(53, 7)\n"
     ]
    },
    {
     "data": {
      "text/html": [
       "<div>\n",
       "<style scoped>\n",
       "    .dataframe tbody tr th:only-of-type {\n",
       "        vertical-align: middle;\n",
       "    }\n",
       "\n",
       "    .dataframe tbody tr th {\n",
       "        vertical-align: top;\n",
       "    }\n",
       "\n",
       "    .dataframe thead th {\n",
       "        text-align: right;\n",
       "    }\n",
       "</style>\n",
       "<table border=\"1\" class=\"dataframe\">\n",
       "  <thead>\n",
       "    <tr style=\"text-align: right;\">\n",
       "      <th></th>\n",
       "      <th>County</th>\n",
       "      <th># Days with AQI</th>\n",
       "      <th>Good</th>\n",
       "      <th>Moderate</th>\n",
       "      <th>Unhealthy</th>\n",
       "      <th>AQI Median</th>\n",
       "      <th>Year</th>\n",
       "    </tr>\n",
       "  </thead>\n",
       "  <tbody>\n",
       "    <tr>\n",
       "      <th>0</th>\n",
       "      <td>Alameda County, CA</td>\n",
       "      <td>366</td>\n",
       "      <td>236</td>\n",
       "      <td>110</td>\n",
       "      <td>11</td>\n",
       "      <td>43.0</td>\n",
       "      <td>2020</td>\n",
       "    </tr>\n",
       "    <tr>\n",
       "      <th>1</th>\n",
       "      <td>Amador County, CA</td>\n",
       "      <td>359</td>\n",
       "      <td>327</td>\n",
       "      <td>29</td>\n",
       "      <td>1</td>\n",
       "      <td>37.0</td>\n",
       "      <td>2020</td>\n",
       "    </tr>\n",
       "    <tr>\n",
       "      <th>2</th>\n",
       "      <td>Butte County, CA</td>\n",
       "      <td>366</td>\n",
       "      <td>183</td>\n",
       "      <td>144</td>\n",
       "      <td>18</td>\n",
       "      <td>50.5</td>\n",
       "      <td>2020</td>\n",
       "    </tr>\n",
       "    <tr>\n",
       "      <th>3</th>\n",
       "      <td>Calaveras County, CA</td>\n",
       "      <td>364</td>\n",
       "      <td>260</td>\n",
       "      <td>81</td>\n",
       "      <td>13</td>\n",
       "      <td>44.0</td>\n",
       "      <td>2020</td>\n",
       "    </tr>\n",
       "    <tr>\n",
       "      <th>4</th>\n",
       "      <td>Colusa County, CA</td>\n",
       "      <td>366</td>\n",
       "      <td>247</td>\n",
       "      <td>87</td>\n",
       "      <td>23</td>\n",
       "      <td>38.0</td>\n",
       "      <td>2020</td>\n",
       "    </tr>\n",
       "  </tbody>\n",
       "</table>\n",
       "</div>"
      ],
      "text/plain": [
       "                 County  # Days with AQI  Good  Moderate Unhealthy  \\\n",
       "0    Alameda County, CA              366   236       110        11   \n",
       "1     Amador County, CA              359   327        29         1   \n",
       "2      Butte County, CA              366   183       144        18   \n",
       "3  Calaveras County, CA              364   260        81        13   \n",
       "4     Colusa County, CA              366   247        87        23   \n",
       "\n",
       "   AQI Median  Year  \n",
       "0        43.0  2020  \n",
       "1        37.0  2020  \n",
       "2        50.5  2020  \n",
       "3        44.0  2020  \n",
       "4        38.0  2020  "
      ]
     },
     "execution_count": 9,
     "metadata": {},
     "output_type": "execute_result"
    }
   ],
   "source": [
    "aqi_2010['Year'] = 2010\n",
    "aqi_2011['Year'] = 2011\n",
    "aqi_2012['Year'] = 2012\n",
    "aqi_2013['Year'] = 2013\n",
    "aqi_2014['Year'] = 2014\n",
    "aqi_2015['Year'] = 2015\n",
    "aqi_2016['Year'] = 2016\n",
    "aqi_2017['Year'] = 2017\n",
    "aqi_2018['Year'] = 2018\n",
    "aqi_2019['Year'] = 2019\n",
    "aqi_2020['Year'] = 2020\n",
    "\n",
    "# what each dataset should look like now\n",
    "print(aqi_2020.shape)\n",
    "aqi_2020.head()"
   ]
  },
  {
   "cell_type": "markdown",
   "metadata": {},
   "source": [
    "We found that some of the datasets were missing Alpine County, so we ommitted it completely."
   ]
  },
  {
   "cell_type": "code",
   "execution_count": 10,
   "metadata": {},
   "outputs": [
    {
     "name": "stdout",
     "output_type": "stream",
     "text": [
      "(53, 7)\n"
     ]
    },
    {
     "data": {
      "text/html": [
       "<div>\n",
       "<style scoped>\n",
       "    .dataframe tbody tr th:only-of-type {\n",
       "        vertical-align: middle;\n",
       "    }\n",
       "\n",
       "    .dataframe tbody tr th {\n",
       "        vertical-align: top;\n",
       "    }\n",
       "\n",
       "    .dataframe thead th {\n",
       "        text-align: right;\n",
       "    }\n",
       "</style>\n",
       "<table border=\"1\" class=\"dataframe\">\n",
       "  <thead>\n",
       "    <tr style=\"text-align: right;\">\n",
       "      <th></th>\n",
       "      <th>County</th>\n",
       "      <th># Days with AQI</th>\n",
       "      <th>Good</th>\n",
       "      <th>Moderate</th>\n",
       "      <th>Unhealthy</th>\n",
       "      <th>AQI Median</th>\n",
       "      <th>Year</th>\n",
       "    </tr>\n",
       "  </thead>\n",
       "  <tbody>\n",
       "    <tr>\n",
       "      <th>0</th>\n",
       "      <td>Alameda County, CA</td>\n",
       "      <td>365</td>\n",
       "      <td>220</td>\n",
       "      <td>134</td>\n",
       "      <td>.</td>\n",
       "      <td>44.0</td>\n",
       "      <td>2011</td>\n",
       "    </tr>\n",
       "    <tr>\n",
       "      <th>2</th>\n",
       "      <td>Amador County, CA</td>\n",
       "      <td>363</td>\n",
       "      <td>284</td>\n",
       "      <td>76</td>\n",
       "      <td>.</td>\n",
       "      <td>38.0</td>\n",
       "      <td>2011</td>\n",
       "    </tr>\n",
       "    <tr>\n",
       "      <th>3</th>\n",
       "      <td>Butte County, CA</td>\n",
       "      <td>365</td>\n",
       "      <td>149</td>\n",
       "      <td>192</td>\n",
       "      <td>.</td>\n",
       "      <td>55.0</td>\n",
       "      <td>2011</td>\n",
       "    </tr>\n",
       "    <tr>\n",
       "      <th>4</th>\n",
       "      <td>Calaveras County, CA</td>\n",
       "      <td>364</td>\n",
       "      <td>216</td>\n",
       "      <td>137</td>\n",
       "      <td>.</td>\n",
       "      <td>46.0</td>\n",
       "      <td>2011</td>\n",
       "    </tr>\n",
       "    <tr>\n",
       "      <th>5</th>\n",
       "      <td>Colusa County, CA</td>\n",
       "      <td>365</td>\n",
       "      <td>260</td>\n",
       "      <td>103</td>\n",
       "      <td>.</td>\n",
       "      <td>43.0</td>\n",
       "      <td>2011</td>\n",
       "    </tr>\n",
       "  </tbody>\n",
       "</table>\n",
       "</div>"
      ],
      "text/plain": [
       "                 County  # Days with AQI  Good  Moderate Unhealthy  \\\n",
       "0    Alameda County, CA              365   220       134         .   \n",
       "2     Amador County, CA              363   284        76         .   \n",
       "3      Butte County, CA              365   149       192         .   \n",
       "4  Calaveras County, CA              364   216       137         .   \n",
       "5     Colusa County, CA              365   260       103         .   \n",
       "\n",
       "   AQI Median  Year  \n",
       "0        44.0  2011  \n",
       "2        38.0  2011  \n",
       "3        55.0  2011  \n",
       "4        46.0  2011  \n",
       "5        43.0  2011  "
      ]
     },
     "execution_count": 10,
     "metadata": {},
     "output_type": "execute_result"
    }
   ],
   "source": [
    "aqi_2011 = aqi_2011.drop(aqi_2011.index[1])\n",
    "aqi_2012 = aqi_2012.drop(aqi_2012.index[1])\n",
    "aqi_2013 = aqi_2013.drop(aqi_2013.index[1])\n",
    "aqi_2014 = aqi_2014.drop(aqi_2014.index[1])\n",
    "aqi_2015 = aqi_2015.drop(aqi_2015.index[1])\n",
    "aqi_2016 = aqi_2016.drop(aqi_2016.index[1])\n",
    "\n",
    "# what each dataset should look like now\n",
    "print(aqi_2011.shape)\n",
    "aqi_2011.head()"
   ]
  },
  {
   "cell_type": "markdown",
   "metadata": {},
   "source": [
    "We then combined all 11 years into one dataset by stacking them. We also had to reset the indices again. "
   ]
  },
  {
   "cell_type": "code",
   "execution_count": 11,
   "metadata": {},
   "outputs": [
    {
     "name": "stdout",
     "output_type": "stream",
     "text": [
      "(583, 7)\n"
     ]
    },
    {
     "data": {
      "text/html": [
       "<div>\n",
       "<style scoped>\n",
       "    .dataframe tbody tr th:only-of-type {\n",
       "        vertical-align: middle;\n",
       "    }\n",
       "\n",
       "    .dataframe tbody tr th {\n",
       "        vertical-align: top;\n",
       "    }\n",
       "\n",
       "    .dataframe thead th {\n",
       "        text-align: right;\n",
       "    }\n",
       "</style>\n",
       "<table border=\"1\" class=\"dataframe\">\n",
       "  <thead>\n",
       "    <tr style=\"text-align: right;\">\n",
       "      <th></th>\n",
       "      <th>County</th>\n",
       "      <th># Days with AQI</th>\n",
       "      <th>Good</th>\n",
       "      <th>Moderate</th>\n",
       "      <th>Unhealthy</th>\n",
       "      <th>AQI Median</th>\n",
       "      <th>Year</th>\n",
       "    </tr>\n",
       "  </thead>\n",
       "  <tbody>\n",
       "    <tr>\n",
       "      <th>0</th>\n",
       "      <td>Alameda County, CA</td>\n",
       "      <td>365</td>\n",
       "      <td>245</td>\n",
       "      <td>115</td>\n",
       "      <td>1</td>\n",
       "      <td>43.0</td>\n",
       "      <td>2010</td>\n",
       "    </tr>\n",
       "    <tr>\n",
       "      <th>1</th>\n",
       "      <td>Amador County, CA</td>\n",
       "      <td>361</td>\n",
       "      <td>302</td>\n",
       "      <td>48</td>\n",
       "      <td>1</td>\n",
       "      <td>35.0</td>\n",
       "      <td>2010</td>\n",
       "    </tr>\n",
       "    <tr>\n",
       "      <th>2</th>\n",
       "      <td>Butte County, CA</td>\n",
       "      <td>365</td>\n",
       "      <td>208</td>\n",
       "      <td>144</td>\n",
       "      <td>.</td>\n",
       "      <td>47.0</td>\n",
       "      <td>2010</td>\n",
       "    </tr>\n",
       "    <tr>\n",
       "      <th>3</th>\n",
       "      <td>Calaveras County, CA</td>\n",
       "      <td>365</td>\n",
       "      <td>271</td>\n",
       "      <td>81</td>\n",
       "      <td>1</td>\n",
       "      <td>41.0</td>\n",
       "      <td>2010</td>\n",
       "    </tr>\n",
       "    <tr>\n",
       "      <th>4</th>\n",
       "      <td>Colusa County, CA</td>\n",
       "      <td>353</td>\n",
       "      <td>322</td>\n",
       "      <td>30</td>\n",
       "      <td>.</td>\n",
       "      <td>38.0</td>\n",
       "      <td>2010</td>\n",
       "    </tr>\n",
       "  </tbody>\n",
       "</table>\n",
       "</div>"
      ],
      "text/plain": [
       "                 County  # Days with AQI  Good Moderate Unhealthy  AQI Median  \\\n",
       "0    Alameda County, CA              365   245      115         1        43.0   \n",
       "1     Amador County, CA              361   302       48         1        35.0   \n",
       "2      Butte County, CA              365   208      144         .        47.0   \n",
       "3  Calaveras County, CA              365   271       81         1        41.0   \n",
       "4     Colusa County, CA              353   322       30         .        38.0   \n",
       "\n",
       "   Year  \n",
       "0  2010  \n",
       "1  2010  \n",
       "2  2010  \n",
       "3  2010  \n",
       "4  2010  "
      ]
     },
     "execution_count": 11,
     "metadata": {},
     "output_type": "execute_result"
    }
   ],
   "source": [
    "aqi_data = pd.concat([aqi_2010, aqi_2011], axis=0)\n",
    "aqi_data = pd.concat([aqi_data, aqi_2012], axis=0)\n",
    "aqi_data = pd.concat([aqi_data, aqi_2013], axis=0)\n",
    "aqi_data = pd.concat([aqi_data, aqi_2014], axis=0)\n",
    "aqi_data = pd.concat([aqi_data, aqi_2015], axis=0)\n",
    "aqi_data = pd.concat([aqi_data, aqi_2016], axis=0)\n",
    "aqi_data = pd.concat([aqi_data, aqi_2017], axis=0)\n",
    "aqi_data = pd.concat([aqi_data, aqi_2018], axis=0)\n",
    "aqi_data = pd.concat([aqi_data, aqi_2019], axis=0)\n",
    "aqi_data = pd.concat([aqi_data, aqi_2020], axis=0)\n",
    "\n",
    "aqi_data = aqi_data.reset_index(drop=True)\n",
    "\n",
    "# what the new large dataset looks like\n",
    "print(aqi_data.shape)\n",
    "aqi_data.head()"
   ]
  },
  {
   "cell_type": "markdown",
   "metadata": {},
   "source": [
    "We also replaced the periods that were representing no days with zeros and removed the state from the county names."
   ]
  },
  {
   "cell_type": "code",
   "execution_count": 12,
   "metadata": {},
   "outputs": [
    {
     "name": "stdout",
     "output_type": "stream",
     "text": [
      "(583, 7)\n"
     ]
    },
    {
     "data": {
      "text/html": [
       "<div>\n",
       "<style scoped>\n",
       "    .dataframe tbody tr th:only-of-type {\n",
       "        vertical-align: middle;\n",
       "    }\n",
       "\n",
       "    .dataframe tbody tr th {\n",
       "        vertical-align: top;\n",
       "    }\n",
       "\n",
       "    .dataframe thead th {\n",
       "        text-align: right;\n",
       "    }\n",
       "</style>\n",
       "<table border=\"1\" class=\"dataframe\">\n",
       "  <thead>\n",
       "    <tr style=\"text-align: right;\">\n",
       "      <th></th>\n",
       "      <th>County</th>\n",
       "      <th># Days with AQI</th>\n",
       "      <th>Good</th>\n",
       "      <th>Moderate</th>\n",
       "      <th>Unhealthy</th>\n",
       "      <th>AQI Median</th>\n",
       "      <th>Year</th>\n",
       "    </tr>\n",
       "  </thead>\n",
       "  <tbody>\n",
       "    <tr>\n",
       "      <th>0</th>\n",
       "      <td>Alameda County</td>\n",
       "      <td>365</td>\n",
       "      <td>245</td>\n",
       "      <td>115</td>\n",
       "      <td>1</td>\n",
       "      <td>43.0</td>\n",
       "      <td>2010</td>\n",
       "    </tr>\n",
       "    <tr>\n",
       "      <th>1</th>\n",
       "      <td>Amador County</td>\n",
       "      <td>361</td>\n",
       "      <td>302</td>\n",
       "      <td>48</td>\n",
       "      <td>1</td>\n",
       "      <td>35.0</td>\n",
       "      <td>2010</td>\n",
       "    </tr>\n",
       "    <tr>\n",
       "      <th>2</th>\n",
       "      <td>Butte County</td>\n",
       "      <td>365</td>\n",
       "      <td>208</td>\n",
       "      <td>144</td>\n",
       "      <td>0</td>\n",
       "      <td>47.0</td>\n",
       "      <td>2010</td>\n",
       "    </tr>\n",
       "    <tr>\n",
       "      <th>3</th>\n",
       "      <td>Calaveras County</td>\n",
       "      <td>365</td>\n",
       "      <td>271</td>\n",
       "      <td>81</td>\n",
       "      <td>1</td>\n",
       "      <td>41.0</td>\n",
       "      <td>2010</td>\n",
       "    </tr>\n",
       "    <tr>\n",
       "      <th>4</th>\n",
       "      <td>Colusa County</td>\n",
       "      <td>353</td>\n",
       "      <td>322</td>\n",
       "      <td>30</td>\n",
       "      <td>0</td>\n",
       "      <td>38.0</td>\n",
       "      <td>2010</td>\n",
       "    </tr>\n",
       "  </tbody>\n",
       "</table>\n",
       "</div>"
      ],
      "text/plain": [
       "             County  # Days with AQI  Good Moderate Unhealthy  AQI Median  \\\n",
       "0    Alameda County              365   245      115         1        43.0   \n",
       "1     Amador County              361   302       48         1        35.0   \n",
       "2      Butte County              365   208      144         0        47.0   \n",
       "3  Calaveras County              365   271       81         1        41.0   \n",
       "4     Colusa County              353   322       30         0        38.0   \n",
       "\n",
       "   Year  \n",
       "0  2010  \n",
       "1  2010  \n",
       "2  2010  \n",
       "3  2010  \n",
       "4  2010  "
      ]
     },
     "execution_count": 12,
     "metadata": {},
     "output_type": "execute_result"
    }
   ],
   "source": [
    "aqi_data = aqi_data.replace('.',0)\n",
    "\n",
    "def counties(name):\n",
    "    name = name.rstrip(', CA')\n",
    "    return name\n",
    "\n",
    "aqi_data['County'] = aqi_data['County'].apply(counties)\n",
    "\n",
    "# what the new large dataset looks like\n",
    "print(aqi_data.shape)\n",
    "aqi_data.head()"
   ]
  },
  {
   "cell_type": "markdown",
   "metadata": {},
   "source": [
    "Finally, we converted the rest of the columns to a numeric type. "
   ]
  },
  {
   "cell_type": "code",
   "execution_count": 23,
   "metadata": {},
   "outputs": [
    {
     "name": "stdout",
     "output_type": "stream",
     "text": [
      "County              object\n",
      "# Days with AQI      int64\n",
      "Good                 int64\n",
      "Moderate             int64\n",
      "Unhealthy            int64\n",
      "AQI Median         float64\n",
      "Year                 int64\n",
      "dtype: object\n",
      "County              object\n",
      "# Days with AQI      int64\n",
      "Good                 int64\n",
      "Moderate             int64\n",
      "Unhealthy            int64\n",
      "AQI Median         float64\n",
      "Year                 int64\n",
      "dtype: object\n"
     ]
    }
   ],
   "source": [
    "print(aqi_data.dtypes)\n",
    "aqi_data['Unhealthy'] = pd.to_numeric(aqi_data['Unhealthy'])\n",
    "aqi_data['Moderate'] = pd.to_numeric(aqi_data['Moderate'])\n",
    "print(aqi_data.dtypes)"
   ]
  },
  {
   "cell_type": "markdown",
   "metadata": {},
   "source": [
    "# Data Analysis & Results"
   ]
  },
  {
   "cell_type": "markdown",
   "metadata": {},
   "source": [
    "### Classify income as low or medium/high\n",
    "\n",
    "To classify a county as low income, we used the definition from the CA census that states that “Low-Income Families are defined as families whose incomes do not exceed 80 percent of the median family income.” We used $75,235 as CA’s median income from https://www.census.gov/quickfacts/fact/table/CA/INC110219. \n",
    "\n",
    "We then calculated 80 percent of this, and compared the income of each county. This is the value to determine if it would be considered low income."
   ]
  },
  {
   "cell_type": "code",
   "execution_count": 14,
   "metadata": {},
   "outputs": [
    {
     "name": "stdout",
     "output_type": "stream",
     "text": [
      "60188.0\n"
     ]
    }
   ],
   "source": [
    "#California median income\n",
    "medianCA_income = 75235\n",
    "\n",
    "#max to be considered low income\n",
    "max_lowIncome = 0.8 * 75235\n",
    "\n",
    "print(max_lowIncome)"
   ]
  },
  {
   "cell_type": "markdown",
   "metadata": {},
   "source": [
    "The minimum theshold to be consided median-high income is $60,188.01. Anything below this is considered low income, according to our definition."
   ]
  },
  {
   "cell_type": "code",
   "execution_count": 15,
   "metadata": {},
   "outputs": [
    {
     "data": {
      "text/html": [
       "<div>\n",
       "<style scoped>\n",
       "    .dataframe tbody tr th:only-of-type {\n",
       "        vertical-align: middle;\n",
       "    }\n",
       "\n",
       "    .dataframe tbody tr th {\n",
       "        vertical-align: top;\n",
       "    }\n",
       "\n",
       "    .dataframe thead th {\n",
       "        text-align: right;\n",
       "    }\n",
       "</style>\n",
       "<table border=\"1\" class=\"dataframe\">\n",
       "  <thead>\n",
       "    <tr style=\"text-align: right;\">\n",
       "      <th></th>\n",
       "      <th>County</th>\n",
       "      <th>Income</th>\n",
       "      <th>Margin of Error</th>\n",
       "      <th>Low Income</th>\n",
       "    </tr>\n",
       "  </thead>\n",
       "  <tbody>\n",
       "    <tr>\n",
       "      <th>0</th>\n",
       "      <td>Alameda County</td>\n",
       "      <td>99406.0</td>\n",
       "      <td>921.0</td>\n",
       "      <td>False</td>\n",
       "    </tr>\n",
       "    <tr>\n",
       "      <th>1</th>\n",
       "      <td>Amador County</td>\n",
       "      <td>62772.0</td>\n",
       "      <td>2756.0</td>\n",
       "      <td>False</td>\n",
       "    </tr>\n",
       "    <tr>\n",
       "      <th>2</th>\n",
       "      <td>Butte County</td>\n",
       "      <td>52537.0</td>\n",
       "      <td>1618.0</td>\n",
       "      <td>True</td>\n",
       "    </tr>\n",
       "    <tr>\n",
       "      <th>3</th>\n",
       "      <td>Calaveras County</td>\n",
       "      <td>63158.0</td>\n",
       "      <td>4128.0</td>\n",
       "      <td>False</td>\n",
       "    </tr>\n",
       "    <tr>\n",
       "      <th>4</th>\n",
       "      <td>Colusa County</td>\n",
       "      <td>59401.0</td>\n",
       "      <td>4265.0</td>\n",
       "      <td>True</td>\n",
       "    </tr>\n",
       "  </tbody>\n",
       "</table>\n",
       "</div>"
      ],
      "text/plain": [
       "             County   Income  Margin of Error  Low Income\n",
       "0    Alameda County  99406.0            921.0       False\n",
       "1     Amador County  62772.0           2756.0       False\n",
       "2      Butte County  52537.0           1618.0        True\n",
       "3  Calaveras County  63158.0           4128.0       False\n",
       "4     Colusa County  59401.0           4265.0        True"
      ]
     },
     "execution_count": 15,
     "metadata": {},
     "output_type": "execute_result"
    }
   ],
   "source": [
    "income['Low Income'] = np.where(income['Income'] < max_lowIncome, True, False)\n",
    "income.head()"
   ]
  },
  {
   "cell_type": "code",
   "execution_count": 16,
   "metadata": {},
   "outputs": [
    {
     "data": {
      "text/html": [
       "<div>\n",
       "<style scoped>\n",
       "    .dataframe tbody tr th:only-of-type {\n",
       "        vertical-align: middle;\n",
       "    }\n",
       "\n",
       "    .dataframe tbody tr th {\n",
       "        vertical-align: top;\n",
       "    }\n",
       "\n",
       "    .dataframe thead th {\n",
       "        text-align: right;\n",
       "    }\n",
       "</style>\n",
       "<table border=\"1\" class=\"dataframe\">\n",
       "  <thead>\n",
       "    <tr style=\"text-align: right;\">\n",
       "      <th></th>\n",
       "      <th>Income</th>\n",
       "      <th>Margin of Error</th>\n",
       "    </tr>\n",
       "  </thead>\n",
       "  <tbody>\n",
       "    <tr>\n",
       "      <th>count</th>\n",
       "      <td>53.000000</td>\n",
       "      <td>53.000000</td>\n",
       "    </tr>\n",
       "    <tr>\n",
       "      <th>mean</th>\n",
       "      <td>68897.698113</td>\n",
       "      <td>2205.207547</td>\n",
       "    </tr>\n",
       "    <tr>\n",
       "      <th>std</th>\n",
       "      <td>20681.386568</td>\n",
       "      <td>1408.397376</td>\n",
       "    </tr>\n",
       "    <tr>\n",
       "      <th>min</th>\n",
       "      <td>40846.000000</td>\n",
       "      <td>347.000000</td>\n",
       "    </tr>\n",
       "    <tr>\n",
       "      <th>25%</th>\n",
       "      <td>53672.000000</td>\n",
       "      <td>1157.000000</td>\n",
       "    </tr>\n",
       "    <tr>\n",
       "      <th>50%</th>\n",
       "      <td>63158.000000</td>\n",
       "      <td>1761.000000</td>\n",
       "    </tr>\n",
       "    <tr>\n",
       "      <th>75%</th>\n",
       "      <td>81472.000000</td>\n",
       "      <td>2854.000000</td>\n",
       "    </tr>\n",
       "    <tr>\n",
       "      <th>max</th>\n",
       "      <td>124055.000000</td>\n",
       "      <td>6457.000000</td>\n",
       "    </tr>\n",
       "  </tbody>\n",
       "</table>\n",
       "</div>"
      ],
      "text/plain": [
       "              Income  Margin of Error\n",
       "count      53.000000        53.000000\n",
       "mean    68897.698113      2205.207547\n",
       "std     20681.386568      1408.397376\n",
       "min     40846.000000       347.000000\n",
       "25%     53672.000000      1157.000000\n",
       "50%     63158.000000      1761.000000\n",
       "75%     81472.000000      2854.000000\n",
       "max    124055.000000      6457.000000"
      ]
     },
     "execution_count": 16,
     "metadata": {},
     "output_type": "execute_result"
    }
   ],
   "source": [
    "income.describe()"
   ]
  },
  {
   "cell_type": "code",
   "execution_count": 17,
   "metadata": {},
   "outputs": [
    {
     "data": {
      "text/plain": [
       "False    30\n",
       "True     23\n",
       "Name: Low Income, dtype: int64"
      ]
     },
     "execution_count": 17,
     "metadata": {},
     "output_type": "execute_result"
    }
   ],
   "source": [
    "income['Low Income'].value_counts()"
   ]
  },
  {
   "cell_type": "markdown",
   "metadata": {},
   "source": [
    "According to our definition of low income, 43.4% (23/53) of the California counties included in this dataset are classified as counties in which the median income is considered to be low income."
   ]
  },
  {
   "cell_type": "markdown",
   "metadata": {},
   "source": [
    "### Air Quality of Each County in California"
   ]
  },
  {
   "cell_type": "markdown",
   "metadata": {},
   "source": [
    "In order to get the average AQI level, the average number of days with a good AQI level, the average number of days with a moderate AQI level, and the average number of days with an unhealthy AQI level, we found the mean of each of these values over the 11 years for each county."
   ]
  },
  {
   "cell_type": "code",
   "execution_count": 26,
   "metadata": {},
   "outputs": [
    {
     "data": {
      "text/html": [
       "<div>\n",
       "<style scoped>\n",
       "    .dataframe tbody tr th:only-of-type {\n",
       "        vertical-align: middle;\n",
       "    }\n",
       "\n",
       "    .dataframe tbody tr th {\n",
       "        vertical-align: top;\n",
       "    }\n",
       "\n",
       "    .dataframe thead th {\n",
       "        text-align: right;\n",
       "    }\n",
       "</style>\n",
       "<table border=\"1\" class=\"dataframe\">\n",
       "  <thead>\n",
       "    <tr style=\"text-align: right;\">\n",
       "      <th></th>\n",
       "      <th>County</th>\n",
       "      <th>Overall_AQI_Median</th>\n",
       "      <th>Overall_Good</th>\n",
       "      <th>Overall_Unhealthy</th>\n",
       "      <th>Overall_Moderate</th>\n",
       "    </tr>\n",
       "  </thead>\n",
       "  <tbody>\n",
       "    <tr>\n",
       "      <th>0</th>\n",
       "      <td>Alameda County</td>\n",
       "      <td>45.000000</td>\n",
       "      <td>225.000000</td>\n",
       "      <td>2.636364</td>\n",
       "      <td>129.000000</td>\n",
       "    </tr>\n",
       "    <tr>\n",
       "      <th>1</th>\n",
       "      <td>Amador County</td>\n",
       "      <td>38.636364</td>\n",
       "      <td>291.636364</td>\n",
       "      <td>0.272727</td>\n",
       "      <td>63.545455</td>\n",
       "    </tr>\n",
       "    <tr>\n",
       "      <th>2</th>\n",
       "      <td>Butte County</td>\n",
       "      <td>52.045455</td>\n",
       "      <td>172.454545</td>\n",
       "      <td>4.000000</td>\n",
       "      <td>172.090909</td>\n",
       "    </tr>\n",
       "    <tr>\n",
       "      <th>3</th>\n",
       "      <td>Calaveras County</td>\n",
       "      <td>45.318182</td>\n",
       "      <td>236.090909</td>\n",
       "      <td>2.272727</td>\n",
       "      <td>113.727273</td>\n",
       "    </tr>\n",
       "    <tr>\n",
       "      <th>4</th>\n",
       "      <td>Colusa County</td>\n",
       "      <td>42.090909</td>\n",
       "      <td>257.000000</td>\n",
       "      <td>4.181818</td>\n",
       "      <td>99.272727</td>\n",
       "    </tr>\n",
       "  </tbody>\n",
       "</table>\n",
       "</div>"
      ],
      "text/plain": [
       "             County  Overall_AQI_Median  Overall_Good  Overall_Unhealthy  \\\n",
       "0    Alameda County           45.000000    225.000000           2.636364   \n",
       "1     Amador County           38.636364    291.636364           0.272727   \n",
       "2      Butte County           52.045455    172.454545           4.000000   \n",
       "3  Calaveras County           45.318182    236.090909           2.272727   \n",
       "4     Colusa County           42.090909    257.000000           4.181818   \n",
       "\n",
       "   Overall_Moderate  \n",
       "0        129.000000  \n",
       "1         63.545455  \n",
       "2        172.090909  \n",
       "3        113.727273  \n",
       "4         99.272727  "
      ]
     },
     "execution_count": 26,
     "metadata": {},
     "output_type": "execute_result"
    }
   ],
   "source": [
    "countyGrouped = aqi_data.groupby(\"County\")\n",
    "aqiMedian_by_county = countyGrouped['AQI Median'].mean().to_frame(name = 'Overall_AQI_Median').reset_index()\n",
    "aqiGood_by_county = countyGrouped['Good'].mean().to_frame(name = 'Overall_Good').reset_index()\n",
    "aqiUnhealthy_by_county = countyGrouped['Unhealthy'].mean().to_frame(name = 'Overall_Unhealthy').reset_index()\n",
    "aqiModerate_by_county = countyGrouped['Moderate'].mean().to_frame(name = 'Overall_Moderate').reset_index()\n",
    "aqi_by_county = pd.merge(aqiMedian_by_county, aqiGood_by_county)\n",
    "aqi_by_county = pd.merge(aqi_by_county, aqiUnhealthy_by_county)\n",
    "aqi_by_county = pd.merge(aqi_by_county, aqiModerate_by_county)\n",
    "#aqi_by_county['Overall_Bad'] = 365 - aqi_by_county['Overall_Good'] \n",
    "aqi_by_county.head()"
   ]
  },
  {
   "cell_type": "markdown",
   "metadata": {},
   "source": [
    "Now we can combine the income with the above data for each county."
   ]
  },
  {
   "cell_type": "code",
   "execution_count": 27,
   "metadata": {},
   "outputs": [
    {
     "data": {
      "text/html": [
       "<div>\n",
       "<style scoped>\n",
       "    .dataframe tbody tr th:only-of-type {\n",
       "        vertical-align: middle;\n",
       "    }\n",
       "\n",
       "    .dataframe tbody tr th {\n",
       "        vertical-align: top;\n",
       "    }\n",
       "\n",
       "    .dataframe thead th {\n",
       "        text-align: right;\n",
       "    }\n",
       "</style>\n",
       "<table border=\"1\" class=\"dataframe\">\n",
       "  <thead>\n",
       "    <tr style=\"text-align: right;\">\n",
       "      <th></th>\n",
       "      <th>County</th>\n",
       "      <th>Income</th>\n",
       "      <th>Margin of Error</th>\n",
       "      <th>Low Income</th>\n",
       "      <th>Overall_AQI_Median</th>\n",
       "      <th>Overall_Good</th>\n",
       "      <th>Overall_Unhealthy</th>\n",
       "      <th>Overall_Moderate</th>\n",
       "    </tr>\n",
       "  </thead>\n",
       "  <tbody>\n",
       "    <tr>\n",
       "      <th>0</th>\n",
       "      <td>Alameda County</td>\n",
       "      <td>99406.0</td>\n",
       "      <td>921.0</td>\n",
       "      <td>False</td>\n",
       "      <td>45.000000</td>\n",
       "      <td>225.000000</td>\n",
       "      <td>2.636364</td>\n",
       "      <td>129.000000</td>\n",
       "    </tr>\n",
       "    <tr>\n",
       "      <th>1</th>\n",
       "      <td>Amador County</td>\n",
       "      <td>62772.0</td>\n",
       "      <td>2756.0</td>\n",
       "      <td>False</td>\n",
       "      <td>38.636364</td>\n",
       "      <td>291.636364</td>\n",
       "      <td>0.272727</td>\n",
       "      <td>63.545455</td>\n",
       "    </tr>\n",
       "    <tr>\n",
       "      <th>2</th>\n",
       "      <td>Butte County</td>\n",
       "      <td>52537.0</td>\n",
       "      <td>1618.0</td>\n",
       "      <td>True</td>\n",
       "      <td>52.045455</td>\n",
       "      <td>172.454545</td>\n",
       "      <td>4.000000</td>\n",
       "      <td>172.090909</td>\n",
       "    </tr>\n",
       "    <tr>\n",
       "      <th>3</th>\n",
       "      <td>Calaveras County</td>\n",
       "      <td>63158.0</td>\n",
       "      <td>4128.0</td>\n",
       "      <td>False</td>\n",
       "      <td>45.318182</td>\n",
       "      <td>236.090909</td>\n",
       "      <td>2.272727</td>\n",
       "      <td>113.727273</td>\n",
       "    </tr>\n",
       "    <tr>\n",
       "      <th>4</th>\n",
       "      <td>Colusa County</td>\n",
       "      <td>59401.0</td>\n",
       "      <td>4265.0</td>\n",
       "      <td>True</td>\n",
       "      <td>42.090909</td>\n",
       "      <td>257.000000</td>\n",
       "      <td>4.181818</td>\n",
       "      <td>99.272727</td>\n",
       "    </tr>\n",
       "  </tbody>\n",
       "</table>\n",
       "</div>"
      ],
      "text/plain": [
       "             County   Income  Margin of Error  Low Income  Overall_AQI_Median  \\\n",
       "0    Alameda County  99406.0            921.0       False           45.000000   \n",
       "1     Amador County  62772.0           2756.0       False           38.636364   \n",
       "2      Butte County  52537.0           1618.0        True           52.045455   \n",
       "3  Calaveras County  63158.0           4128.0       False           45.318182   \n",
       "4     Colusa County  59401.0           4265.0        True           42.090909   \n",
       "\n",
       "   Overall_Good  Overall_Unhealthy  Overall_Moderate  \n",
       "0    225.000000           2.636364        129.000000  \n",
       "1    291.636364           0.272727         63.545455  \n",
       "2    172.454545           4.000000        172.090909  \n",
       "3    236.090909           2.272727        113.727273  \n",
       "4    257.000000           4.181818         99.272727  "
      ]
     },
     "execution_count": 27,
     "metadata": {},
     "output_type": "execute_result"
    }
   ],
   "source": [
    "all_data = pd.merge(income, aqi_by_county)\n",
    "all_data.head()"
   ]
  },
  {
   "cell_type": "markdown",
   "metadata": {},
   "source": [
    "We used pd.describe() to look at the mean across all the counties for each of these columns. From this description we can see that days with a good AQI level are a lot more common than days with a moderate AQI level, and even more common than days with an unhealthy AQI level."
   ]
  },
  {
   "cell_type": "code",
   "execution_count": 29,
   "metadata": {},
   "outputs": [
    {
     "data": {
      "text/html": [
       "<div>\n",
       "<style scoped>\n",
       "    .dataframe tbody tr th:only-of-type {\n",
       "        vertical-align: middle;\n",
       "    }\n",
       "\n",
       "    .dataframe tbody tr th {\n",
       "        vertical-align: top;\n",
       "    }\n",
       "\n",
       "    .dataframe thead th {\n",
       "        text-align: right;\n",
       "    }\n",
       "</style>\n",
       "<table border=\"1\" class=\"dataframe\">\n",
       "  <thead>\n",
       "    <tr style=\"text-align: right;\">\n",
       "      <th></th>\n",
       "      <th>Income</th>\n",
       "      <th>Margin of Error</th>\n",
       "      <th>Overall_AQI_Median</th>\n",
       "      <th>Overall_Good</th>\n",
       "      <th>Overall_Unhealthy</th>\n",
       "      <th>Overall_Moderate</th>\n",
       "    </tr>\n",
       "  </thead>\n",
       "  <tbody>\n",
       "    <tr>\n",
       "      <th>count</th>\n",
       "      <td>53.000000</td>\n",
       "      <td>53.000000</td>\n",
       "      <td>53.000000</td>\n",
       "      <td>53.000000</td>\n",
       "      <td>53.000000</td>\n",
       "      <td>53.000000</td>\n",
       "    </tr>\n",
       "    <tr>\n",
       "      <th>mean</th>\n",
       "      <td>68897.698113</td>\n",
       "      <td>2205.207547</td>\n",
       "      <td>47.955403</td>\n",
       "      <td>210.317324</td>\n",
       "      <td>6.600343</td>\n",
       "      <td>114.907376</td>\n",
       "    </tr>\n",
       "    <tr>\n",
       "      <th>std</th>\n",
       "      <td>20681.386568</td>\n",
       "      <td>1408.397376</td>\n",
       "      <td>15.308269</td>\n",
       "      <td>84.822108</td>\n",
       "      <td>10.498802</td>\n",
       "      <td>58.632559</td>\n",
       "    </tr>\n",
       "    <tr>\n",
       "      <th>min</th>\n",
       "      <td>40846.000000</td>\n",
       "      <td>347.000000</td>\n",
       "      <td>17.454545</td>\n",
       "      <td>35.000000</td>\n",
       "      <td>0.272727</td>\n",
       "      <td>9.636364</td>\n",
       "    </tr>\n",
       "    <tr>\n",
       "      <th>25%</th>\n",
       "      <td>53672.000000</td>\n",
       "      <td>1157.000000</td>\n",
       "      <td>37.727273</td>\n",
       "      <td>149.181818</td>\n",
       "      <td>1.636364</td>\n",
       "      <td>66.545455</td>\n",
       "    </tr>\n",
       "    <tr>\n",
       "      <th>50%</th>\n",
       "      <td>63158.000000</td>\n",
       "      <td>1761.000000</td>\n",
       "      <td>44.545455</td>\n",
       "      <td>232.272727</td>\n",
       "      <td>2.636364</td>\n",
       "      <td>110.454545</td>\n",
       "    </tr>\n",
       "    <tr>\n",
       "      <th>75%</th>\n",
       "      <td>81472.000000</td>\n",
       "      <td>2854.000000</td>\n",
       "      <td>52.272727</td>\n",
       "      <td>280.181818</td>\n",
       "      <td>4.909091</td>\n",
       "      <td>165.636364</td>\n",
       "    </tr>\n",
       "    <tr>\n",
       "      <th>max</th>\n",
       "      <td>124055.000000</td>\n",
       "      <td>6457.000000</td>\n",
       "      <td>87.272727</td>\n",
       "      <td>349.818182</td>\n",
       "      <td>50.727273</td>\n",
       "      <td>251.727273</td>\n",
       "    </tr>\n",
       "  </tbody>\n",
       "</table>\n",
       "</div>"
      ],
      "text/plain": [
       "              Income  Margin of Error  Overall_AQI_Median  Overall_Good  \\\n",
       "count      53.000000        53.000000           53.000000     53.000000   \n",
       "mean    68897.698113      2205.207547           47.955403    210.317324   \n",
       "std     20681.386568      1408.397376           15.308269     84.822108   \n",
       "min     40846.000000       347.000000           17.454545     35.000000   \n",
       "25%     53672.000000      1157.000000           37.727273    149.181818   \n",
       "50%     63158.000000      1761.000000           44.545455    232.272727   \n",
       "75%     81472.000000      2854.000000           52.272727    280.181818   \n",
       "max    124055.000000      6457.000000           87.272727    349.818182   \n",
       "\n",
       "       Overall_Unhealthy  Overall_Moderate  \n",
       "count          53.000000         53.000000  \n",
       "mean            6.600343        114.907376  \n",
       "std            10.498802         58.632559  \n",
       "min             0.272727          9.636364  \n",
       "25%             1.636364         66.545455  \n",
       "50%             2.636364        110.454545  \n",
       "75%             4.909091        165.636364  \n",
       "max            50.727273        251.727273  "
      ]
     },
     "execution_count": 29,
     "metadata": {},
     "output_type": "execute_result"
    }
   ],
   "source": [
    "all_data.describe()"
   ]
  },
  {
   "cell_type": "markdown",
   "metadata": {},
   "source": [
    "### Geographical Representation of AQI and Income Data"
   ]
  },
  {
   "cell_type": "code",
   "execution_count": 22,
   "metadata": {},
   "outputs": [
    {
     "data": {
      "text/html": [
       "<div>\n",
       "<style scoped>\n",
       "    .dataframe tbody tr th:only-of-type {\n",
       "        vertical-align: middle;\n",
       "    }\n",
       "\n",
       "    .dataframe tbody tr th {\n",
       "        vertical-align: top;\n",
       "    }\n",
       "\n",
       "    .dataframe thead th {\n",
       "        text-align: right;\n",
       "    }\n",
       "</style>\n",
       "<table border=\"1\" class=\"dataframe\">\n",
       "  <thead>\n",
       "    <tr style=\"text-align: right;\">\n",
       "      <th></th>\n",
       "      <th>STATEFP</th>\n",
       "      <th>COUNTYFP</th>\n",
       "      <th>COUNTYNS</th>\n",
       "      <th>GEOID</th>\n",
       "      <th>NAME</th>\n",
       "      <th>County</th>\n",
       "      <th>LSAD</th>\n",
       "      <th>CLASSFP</th>\n",
       "      <th>MTFCC</th>\n",
       "      <th>CSAFP</th>\n",
       "      <th>...</th>\n",
       "      <th>INTPTLAT</th>\n",
       "      <th>INTPTLON</th>\n",
       "      <th>geometry</th>\n",
       "      <th>Income</th>\n",
       "      <th>Margin of Error</th>\n",
       "      <th>Low Income</th>\n",
       "      <th>Overall_AQI_Median</th>\n",
       "      <th>Overall_Good</th>\n",
       "      <th>Overall_Unhealthy</th>\n",
       "      <th>Overall_Moderate</th>\n",
       "    </tr>\n",
       "  </thead>\n",
       "  <tbody>\n",
       "    <tr>\n",
       "      <th>0</th>\n",
       "      <td>06</td>\n",
       "      <td>001</td>\n",
       "      <td>01675839</td>\n",
       "      <td>06001</td>\n",
       "      <td>Alameda</td>\n",
       "      <td>Alameda County</td>\n",
       "      <td>06</td>\n",
       "      <td>H1</td>\n",
       "      <td>G4020</td>\n",
       "      <td>488</td>\n",
       "      <td>...</td>\n",
       "      <td>+37.6471385</td>\n",
       "      <td>-121.9124880</td>\n",
       "      <td>POLYGON ((-13612246.763 4538150.085, -13612346...</td>\n",
       "      <td>99406.0</td>\n",
       "      <td>921.0</td>\n",
       "      <td>False</td>\n",
       "      <td>45.000000</td>\n",
       "      <td>225.000000</td>\n",
       "      <td>2.636364</td>\n",
       "      <td>129.000000</td>\n",
       "    </tr>\n",
       "    <tr>\n",
       "      <th>1</th>\n",
       "      <td>06</td>\n",
       "      <td>005</td>\n",
       "      <td>01675841</td>\n",
       "      <td>06005</td>\n",
       "      <td>Amador</td>\n",
       "      <td>Amador County</td>\n",
       "      <td>06</td>\n",
       "      <td>H1</td>\n",
       "      <td>G4020</td>\n",
       "      <td>None</td>\n",
       "      <td>...</td>\n",
       "      <td>+38.4435501</td>\n",
       "      <td>-120.6538563</td>\n",
       "      <td>POLYGON ((-13472697.863 4647652.232, -13472697...</td>\n",
       "      <td>62772.0</td>\n",
       "      <td>2756.0</td>\n",
       "      <td>False</td>\n",
       "      <td>38.636364</td>\n",
       "      <td>291.636364</td>\n",
       "      <td>0.272727</td>\n",
       "      <td>63.545455</td>\n",
       "    </tr>\n",
       "    <tr>\n",
       "      <th>2</th>\n",
       "      <td>06</td>\n",
       "      <td>007</td>\n",
       "      <td>01675842</td>\n",
       "      <td>06007</td>\n",
       "      <td>Butte</td>\n",
       "      <td>Butte County</td>\n",
       "      <td>06</td>\n",
       "      <td>H1</td>\n",
       "      <td>G4020</td>\n",
       "      <td>None</td>\n",
       "      <td>...</td>\n",
       "      <td>+39.6659588</td>\n",
       "      <td>-121.6019188</td>\n",
       "      <td>POLYGON ((-13565004.793 4798394.124, -13564991...</td>\n",
       "      <td>52537.0</td>\n",
       "      <td>1618.0</td>\n",
       "      <td>True</td>\n",
       "      <td>52.045455</td>\n",
       "      <td>172.454545</td>\n",
       "      <td>4.000000</td>\n",
       "      <td>172.090909</td>\n",
       "    </tr>\n",
       "    <tr>\n",
       "      <th>3</th>\n",
       "      <td>06</td>\n",
       "      <td>009</td>\n",
       "      <td>01675885</td>\n",
       "      <td>06009</td>\n",
       "      <td>Calaveras</td>\n",
       "      <td>Calaveras County</td>\n",
       "      <td>06</td>\n",
       "      <td>H1</td>\n",
       "      <td>G4020</td>\n",
       "      <td>None</td>\n",
       "      <td>...</td>\n",
       "      <td>+38.1838996</td>\n",
       "      <td>-120.5614415</td>\n",
       "      <td>POLYGON ((-13428575.483 4627725.228, -13428534...</td>\n",
       "      <td>63158.0</td>\n",
       "      <td>4128.0</td>\n",
       "      <td>False</td>\n",
       "      <td>45.318182</td>\n",
       "      <td>236.090909</td>\n",
       "      <td>2.272727</td>\n",
       "      <td>113.727273</td>\n",
       "    </tr>\n",
       "    <tr>\n",
       "      <th>4</th>\n",
       "      <td>06</td>\n",
       "      <td>011</td>\n",
       "      <td>01675902</td>\n",
       "      <td>06011</td>\n",
       "      <td>Colusa</td>\n",
       "      <td>Colusa County</td>\n",
       "      <td>06</td>\n",
       "      <td>H1</td>\n",
       "      <td>G4020</td>\n",
       "      <td>None</td>\n",
       "      <td>...</td>\n",
       "      <td>+39.1777385</td>\n",
       "      <td>-122.2375629</td>\n",
       "      <td>POLYGON ((-13589905.407 4781178.200, -13589880...</td>\n",
       "      <td>59401.0</td>\n",
       "      <td>4265.0</td>\n",
       "      <td>True</td>\n",
       "      <td>42.090909</td>\n",
       "      <td>257.000000</td>\n",
       "      <td>4.181818</td>\n",
       "      <td>99.272727</td>\n",
       "    </tr>\n",
       "  </tbody>\n",
       "</table>\n",
       "<p>5 rows × 25 columns</p>\n",
       "</div>"
      ],
      "text/plain": [
       "  STATEFP COUNTYFP  COUNTYNS  GEOID       NAME            County LSAD CLASSFP  \\\n",
       "0      06      001  01675839  06001    Alameda    Alameda County   06      H1   \n",
       "1      06      005  01675841  06005     Amador     Amador County   06      H1   \n",
       "2      06      007  01675842  06007      Butte      Butte County   06      H1   \n",
       "3      06      009  01675885  06009  Calaveras  Calaveras County   06      H1   \n",
       "4      06      011  01675902  06011     Colusa     Colusa County   06      H1   \n",
       "\n",
       "   MTFCC CSAFP  ...     INTPTLAT      INTPTLON  \\\n",
       "0  G4020   488  ...  +37.6471385  -121.9124880   \n",
       "1  G4020  None  ...  +38.4435501  -120.6538563   \n",
       "2  G4020  None  ...  +39.6659588  -121.6019188   \n",
       "3  G4020  None  ...  +38.1838996  -120.5614415   \n",
       "4  G4020  None  ...  +39.1777385  -122.2375629   \n",
       "\n",
       "                                            geometry   Income  \\\n",
       "0  POLYGON ((-13612246.763 4538150.085, -13612346...  99406.0   \n",
       "1  POLYGON ((-13472697.863 4647652.232, -13472697...  62772.0   \n",
       "2  POLYGON ((-13565004.793 4798394.124, -13564991...  52537.0   \n",
       "3  POLYGON ((-13428575.483 4627725.228, -13428534...  63158.0   \n",
       "4  POLYGON ((-13589905.407 4781178.200, -13589880...  59401.0   \n",
       "\n",
       "   Margin of Error Low Income Overall_AQI_Median Overall_Good  \\\n",
       "0            921.0      False          45.000000   225.000000   \n",
       "1           2756.0      False          38.636364   291.636364   \n",
       "2           1618.0       True          52.045455   172.454545   \n",
       "3           4128.0      False          45.318182   236.090909   \n",
       "4           4265.0       True          42.090909   257.000000   \n",
       "\n",
       "   Overall_Unhealthy  Overall_Moderate  \n",
       "0           2.636364        129.000000  \n",
       "1           0.272727         63.545455  \n",
       "2           4.000000        172.090909  \n",
       "3           2.272727        113.727273  \n",
       "4           4.181818         99.272727  \n",
       "\n",
       "[5 rows x 25 columns]"
      ]
     },
     "execution_count": 22,
     "metadata": {},
     "output_type": "execute_result"
    }
   ],
   "source": [
    "shp = shp.rename(columns={'NAMELSAD': 'County'})\n",
    "df = shp.merge(all_data, on=\"County\", how=\"right\")\n",
    "gdf = gdp.GeoDataFrame(df)\n",
    "gdf.head()"
   ]
  },
  {
   "cell_type": "markdown",
   "metadata": {},
   "source": [
    "### Income Across the Counties in California"
   ]
  },
  {
   "cell_type": "markdown",
   "metadata": {},
   "source": [
    "This plot shows which counties and how many counties are labeled as low income countiesl"
   ]
  },
  {
   "cell_type": "code",
   "execution_count": 56,
   "metadata": {},
   "outputs": [
    {
     "data": {
      "text/plain": [
       "<AxesSubplot:>"
      ]
     },
     "execution_count": 56,
     "metadata": {},
     "output_type": "execute_result"
    },
    {
     "data": {
      "image/png": "[encoded data removed]",
      "text/plain": [
       "<Figure size 432x288 with 2 Axes>"
      ]
     },
     "metadata": {
      "needs_background": "light"
     },
     "output_type": "display_data"
    }
   ],
   "source": [
    "fig, ax = plt.subplots(1, 1)\n",
    "gdf.plot(column='Low Income',\n",
    "            ax=ax,\n",
    "            legend=True,\n",
    "            legend_kwds={'label': \"Low Income by County\",\n",
    "                        'orientation': \"vertical\"})"
   ]
  },
  {
   "cell_type": "markdown",
   "metadata": {},
   "source": [
    "This plot shows the actual median income of each county across California."
   ]
  },
  {
   "cell_type": "code",
   "execution_count": 57,
   "metadata": {},
   "outputs": [
    {
     "data": {
      "text/plain": [
       "<AxesSubplot:>"
      ]
     },
     "execution_count": 57,
     "metadata": {},
     "output_type": "execute_result"
    },
    {
     "data": {
      "image/png": "[encoded data removed]",
      "text/plain": [
       "<Figure size 432x288 with 2 Axes>"
      ]
     },
     "metadata": {
      "needs_background": "light"
     },
     "output_type": "display_data"
    }
   ],
   "source": [
    "fig, ax = plt.subplots(1, 1)\n",
    "gdf.plot(column='Income',\n",
    "            ax=ax,\n",
    "            legend=True,\n",
    "            legend_kwds={'label': \"Income by County\",\n",
    "                        'orientation': \"vertical\"})\n"
   ]
  },
  {
   "cell_type": "markdown",
   "metadata": {},
   "source": [
    "### Median AQI Level in Each County in California"
   ]
  },
  {
   "cell_type": "markdown",
   "metadata": {},
   "source": [
    "We used geopandas to show the median AQI levels across California."
   ]
  },
  {
   "cell_type": "code",
   "execution_count": 53,
   "metadata": {},
   "outputs": [
    {
     "data": {
      "text/plain": [
       "<AxesSubplot:>"
      ]
     },
     "execution_count": 53,
     "metadata": {},
     "output_type": "execute_result"
    },
    {
     "data": {
      "image/png": "[encoded data removed]",
      "text/plain": [
       "<Figure size 432x288 with 2 Axes>"
      ]
     },
     "metadata": {
      "needs_background": "light"
     },
     "output_type": "display_data"
    }
   ],
   "source": [
    "fig, ax = plt.subplots(1, 1)\n",
    "gdf.plot(column='Overall_AQI_Median',\n",
    "            ax=ax,\n",
    "            legend=True,\n",
    "            legend_kwds={'label': \"AQI Median by County\",\n",
    "                        'orientation': \"vertical\"})\n"
   ]
  },
  {
   "cell_type": "markdown",
   "metadata": {},
   "source": [
    "We used a bar chart to highlight each county’s average air quality over the 11 year span of 2010 to 2020. The red bars represent the counties in which the median income is below our calculated income threshold, and the blue bars represent the counties that are above this threshold. As can be seen, the bar chart shows great variety between the median AQI level of the counties. It can also be seen from the bar chart that there does not appear to be a distinct trend or difference between the two income levels in terms of the median AQI level."
   ]
  },
  {
   "cell_type": "code",
   "execution_count": 55,
   "metadata": {},
   "outputs": [
    {
     "data": {
      "text/plain": [
       "Text(0.5, 1.0, 'Average AQI Median from 2010-2020 for Each County in California')"
      ]
     },
     "execution_count": 55,
     "metadata": {},
     "output_type": "execute_result"
    },
    {
     "data": {
      "image/png": "[encoded data removed]",
      "text/plain": [
       "<Figure size 432x288 with 1 Axes>"
      ]
     },
     "metadata": {
      "needs_background": "light"
     },
     "output_type": "display_data"
    }
   ],
   "source": [
    "#bar1 = sns.barplot(x='County',  y='Overall_AQI_Median', data=all_data, color='darkblue')\n",
    "plt.xticks(rotation=90)\n",
    "plt.tight_layout()\n",
    "\n",
    "mask1 = all_data['Low Income'] == True\n",
    "mask2 = all_data['Low Income'] == False\n",
    "\n",
    "plt.bar(all_data['County'][mask1], all_data['Overall_AQI_Median'][mask1], color = 'red')\n",
    "plt.bar(all_data['County'][mask2], all_data['Overall_AQI_Median'][mask2], color = 'blue')\n",
    "plt.legend(['Low Income', 'Medium/High Income'])\n",
    "\n",
    "plt.xlabel(\"County\")\n",
    "plt.ylabel(\"Median AQI Level\")\n",
    "plt.title(\"Average AQI Median from 2010-2020 for Each County in California\")"
   ]
  },
  {
   "cell_type": "code",
   "execution_count": 62,
   "metadata": {},
   "outputs": [
    {
     "name": "stdout",
     "output_type": "stream",
     "text": [
      "48.34782608695652\n",
      "47.654545454545456\n"
     ]
    }
   ],
   "source": [
    "low_income_data = all_data[all_data['Low Income'] == True]\n",
    "low_income_aqi_mean = low_income_data['Overall_AQI_Median'].mean()\n",
    "print(low_income_aqi_mean)\n",
    "\n",
    "non_low_income_data = all_data[all_data['Low Income'] == False]\n",
    "non_low_income_aqi_mean = non_low_income_data['Overall_AQI_Median'].mean()\n",
    "print(non_low_income_aqi_mean)"
   ]
  },
  {
   "cell_type": "markdown",
   "metadata": {},
   "source": [
    "Above we calculated the mean of the overall AQI median for the counties with low median income and the mean of the overall AQI median for the counties with non low income. The low income AQI mean is 48.35 and the non low income AQI mean is 47.65 which is not a significant difference in mean overall AQI median."
   ]
  },
  {
   "cell_type": "markdown",
   "metadata": {},
   "source": [
    "This scatterplot shows the relationship between median AQI level and median income."
   ]
  },
  {
   "cell_type": "code",
   "execution_count": 31,
   "metadata": {},
   "outputs": [
    {
     "data": {
      "text/plain": [
       "Text(0.5, 1.0, 'AQI Median Across Different County Incomes')"
      ]
     },
     "execution_count": 31,
     "metadata": {},
     "output_type": "execute_result"
    },
    {
     "data": {
      "image/png": "[encoded data removed]",
      "text/plain": [
       "<Figure size 432x288 with 1 Axes>"
      ]
     },
     "metadata": {
      "needs_background": "light"
     },
     "output_type": "display_data"
    }
   ],
   "source": [
    "sns.scatterplot(x='Income',y='Overall_AQI_Median',data=all_data)\n",
    "plt.title('AQI Median Across Different County Incomes')"
   ]
  },
  {
   "cell_type": "markdown",
   "metadata": {},
   "source": [
    "We now want to look at how income can impact AQI levels. "
   ]
  },
  {
   "cell_type": "code",
   "execution_count": 33,
   "metadata": {},
   "outputs": [],
   "source": [
    "outcome_aqi_median, predictors_aqi_median = patsy.dmatrices(\"Overall_AQI_Median ~ Income\", all_data)\n",
    "model_aqi_median = sm.OLS(outcome_aqi_median, predictors_aqi_median)"
   ]
  },
  {
   "cell_type": "code",
   "execution_count": 34,
   "metadata": {},
   "outputs": [
    {
     "name": "stdout",
     "output_type": "stream",
     "text": [
      "                            OLS Regression Results                            \n",
      "==============================================================================\n",
      "Dep. Variable:     Overall_AQI_Median   R-squared:                       0.017\n",
      "Model:                            OLS   Adj. R-squared:                 -0.002\n",
      "Method:                 Least Squares   F-statistic:                    0.8723\n",
      "Date:                Mon, 07 Jun 2021   Prob (F-statistic):              0.355\n",
      "Time:                        20:41:50   Log-Likelihood:                -218.85\n",
      "No. Observations:                  53   AIC:                             441.7\n",
      "Df Residuals:                      51   BIC:                             445.6\n",
      "Df Model:                           1                                         \n",
      "Covariance Type:            nonrobust                                         \n",
      "==============================================================================\n",
      "                 coef    std err          t      P>|t|      [0.025      0.975]\n",
      "------------------------------------------------------------------------------\n",
      "Intercept     54.5687      7.387      7.387      0.000      39.738      69.399\n",
      "Income     -9.599e-05      0.000     -0.934      0.355      -0.000       0.000\n",
      "==============================================================================\n",
      "Omnibus:                        6.775   Durbin-Watson:                   2.082\n",
      "Prob(Omnibus):                  0.034   Jarque-Bera (JB):                5.757\n",
      "Skew:                           0.740   Prob(JB):                       0.0562\n",
      "Kurtosis:                       3.647   Cond. No.                     2.52e+05\n",
      "==============================================================================\n",
      "\n",
      "Notes:\n",
      "[1] Standard Errors assume that the covariance matrix of the errors is correctly specified.\n",
      "[2] The condition number is large, 2.52e+05. This might indicate that there are\n",
      "strong multicollinearity or other numerical problems.\n"
     ]
    }
   ],
   "source": [
    "## fit the model\n",
    "results_aqi_median = model_aqi_median.fit()\n",
    "\n",
    "## look at the results\n",
    "print(results_aqi_median.summary())"
   ]
  },
  {
   "cell_type": "code",
   "execution_count": 35,
   "metadata": {},
   "outputs": [
    {
     "data": {
      "image/png": "[encoded data removed]",
      "text/plain": [
       "<Figure size 432x288 with 1 Axes>"
      ]
     },
     "metadata": {
      "needs_background": "light"
     },
     "output_type": "display_data"
    }
   ],
   "source": [
    "# Plot the orginal data (as before)\n",
    "sns.scatterplot(x='Income',y='Overall_AQI_Median',data=all_data)\n",
    "\n",
    "# Generate and plot the model fit line\n",
    "xs = np.arange(all_data['Income'].min(), all_data['Income'].max())\n",
    "ys = -9.599e-05  * xs + 54.5687\n",
    "plt.plot(xs, ys, '--k', linewidth=4, label='Model')\n",
    "\n",
    "plt.xlabel('Income')\n",
    "plt.ylabel('Median AQI')\n",
    "plt.legend();"
   ]
  },
  {
   "cell_type": "markdown",
   "metadata": {},
   "source": [
    "According to our analysis, with a p-value of 0.355 we fail to reject the null hypothesis and conclude that there is no significant relationship between the income of a county and the median AQI level of that county."
   ]
  },
  {
   "cell_type": "markdown",
   "metadata": {},
   "source": [
    "### Number of Days With a Good AQI Level"
   ]
  },
  {
   "cell_type": "markdown",
   "metadata": {},
   "source": [
    "We used geopandas to show the average number of days with a good AQI level across the counties in California."
   ]
  },
  {
   "cell_type": "code",
   "execution_count": 54,
   "metadata": {},
   "outputs": [
    {
     "data": {
      "text/plain": [
       "<AxesSubplot:>"
      ]
     },
     "execution_count": 54,
     "metadata": {},
     "output_type": "execute_result"
    },
    {
     "data": {
      "image/png": "[encoded data removed]",
      "text/plain": [
       "<Figure size 432x288 with 2 Axes>"
      ]
     },
     "metadata": {
      "needs_background": "light"
     },
     "output_type": "display_data"
    }
   ],
   "source": [
    "fig, ax = plt.subplots(1, 1)\n",
    "gdf.plot(column='Overall_Good',\n",
    "            ax=ax,\n",
    "            legend=True,\n",
    "            legend_kwds={'label': \"# of Good AQI days by County\",\n",
    "                        'orientation': \"vertical\"})\n"
   ]
  },
  {
   "cell_type": "markdown",
   "metadata": {},
   "source": [
    "We used a bar chart to highlight each county’s average number of days with good AQI levels over the 11 year span of 2010 to 2020. The red bars represent the counties in which the median income is below our calculated income threshold, and the blue bars represent the counties that are above this threshold. As can be seen, the bar chart shows great variety between the Median number of days with a good AQI Level for the counties. It can also be seen from the bar chart that there does not appear to be a distinct trend or difference between the two income levels in terms of the median AQI level."
   ]
  },
  {
   "cell_type": "code",
   "execution_count": 54,
   "metadata": {},
   "outputs": [
    {
     "data": {
      "text/plain": [
       "Text(0.5, 1.0, 'Average Number of Days with a Good AQI Level from 2010-2020 for Each County in California')"
      ]
     },
     "execution_count": 54,
     "metadata": {},
     "output_type": "execute_result"
    },
    {
     "data": {
      "image/png": "[encoded data removed]",
      "text/plain": [
       "<Figure size 432x288 with 1 Axes>"
      ]
     },
     "metadata": {
      "needs_background": "light"
     },
     "output_type": "display_data"
    }
   ],
   "source": [
    "plt.xticks(rotation=90)\n",
    "plt.tight_layout()\n",
    "\n",
    "mask1 = all_data['Low Income'] == True\n",
    "mask2 = all_data['Low Income'] == False\n",
    "\n",
    "plt.bar(all_data['County'][mask1], all_data['Overall_Good'][mask1], color = 'red')\n",
    "plt.bar(all_data['County'][mask2], all_data['Overall_Good'][mask2], color = 'blue')\n",
    "plt.legend(['Low Income', 'Medium/High Income'])\n",
    "\n",
    "plt.xlabel(\"County\")\n",
    "plt.ylabel(\"Median number of days with a good AQI Level\")\n",
    "plt.title(\"Average Number of Days with a Good AQI Level from 2010-2020 for Each County in California\")"
   ]
  },
  {
   "cell_type": "code",
   "execution_count": 63,
   "metadata": {},
   "outputs": [
    {
     "name": "stdout",
     "output_type": "stream",
     "text": [
      "197.5177865612648\n",
      "220.13030303030308\n"
     ]
    }
   ],
   "source": [
    "low_income_good_mean = low_income_data['Overall_Good'].mean()\n",
    "print(low_income_good_mean)\n",
    "\n",
    "non_low_income_good_mean = non_low_income_data['Overall_Good'].mean()\n",
    "print(non_low_income_good_mean)"
   ]
  },
  {
   "cell_type": "markdown",
   "metadata": {},
   "source": [
    "Above we calculated the mean of the overall good days for the counties with low median income and the mean of the overall good days for the counties with non low income. The low income overall good days mean is 197.52 and the non low income overall good days mean is 220.13. While the mean for the low income is lower than the mean for the non low income a conclusion cannot be made from this alone."
   ]
  },
  {
   "cell_type": "markdown",
   "metadata": {},
   "source": [
    "This scatter plot shows the number of overall good air quality days and the income with each dot on the graph being a county in california. This will help us represent the relationship between income and air quality to highlight how income may be correlated with good air quality."
   ]
  },
  {
   "cell_type": "code",
   "execution_count": 36,
   "metadata": {
    "scrolled": true
   },
   "outputs": [
    {
     "data": {
      "text/plain": [
       "<AxesSubplot:xlabel='Income', ylabel='Overall_Good'>"
      ]
     },
     "execution_count": 36,
     "metadata": {},
     "output_type": "execute_result"
    },
    {
     "data": {
      "image/png": "[encoded data removed]",
      "text/plain": [
       "<Figure size 432x288 with 1 Axes>"
      ]
     },
     "metadata": {
      "needs_background": "light"
     },
     "output_type": "display_data"
    }
   ],
   "source": [
    "sns.scatterplot(x='Income',y='Overall_Good',data=all_data)"
   ]
  },
  {
   "cell_type": "markdown",
   "metadata": {},
   "source": [
    "We want to look at how income (predictor) can impact the number of days with good AQI value (outcome)."
   ]
  },
  {
   "cell_type": "code",
   "execution_count": 30,
   "metadata": {},
   "outputs": [],
   "source": [
    "outcome_good, predictors_good = patsy.dmatrices(\"Overall_Good ~ Income\", all_data)\n",
    "model_good = sm.OLS(outcome_good, predictors_good)"
   ]
  },
  {
   "cell_type": "code",
   "execution_count": 31,
   "metadata": {},
   "outputs": [
    {
     "name": "stdout",
     "output_type": "stream",
     "text": [
      "                            OLS Regression Results                            \n",
      "==============================================================================\n",
      "Dep. Variable:           Overall_Good   R-squared:                       0.066\n",
      "Model:                            OLS   Adj. R-squared:                  0.048\n",
      "Method:                 Least Squares   F-statistic:                     3.630\n",
      "Date:                Wed, 02 Jun 2021   Prob (F-statistic):             0.0624\n",
      "Time:                        14:00:40   Log-Likelihood:                -308.23\n",
      "No. Observations:                  53   AIC:                             620.5\n",
      "Df Residuals:                      51   BIC:                             624.4\n",
      "Df Model:                           1                                         \n",
      "Covariance Type:            nonrobust                                         \n",
      "==============================================================================\n",
      "                 coef    std err          t      P>|t|      [0.025      0.975]\n",
      "------------------------------------------------------------------------------\n",
      "Intercept    137.4671     39.887      3.446      0.001      57.390     217.544\n",
      "Income         0.0011      0.001      1.905      0.062   -5.68e-05       0.002\n",
      "==============================================================================\n",
      "Omnibus:                        1.393   Durbin-Watson:                   1.946\n",
      "Prob(Omnibus):                  0.498   Jarque-Bera (JB):                1.355\n",
      "Skew:                          -0.285   Prob(JB):                        0.508\n",
      "Kurtosis:                       2.462   Cond. No.                     2.52e+05\n",
      "==============================================================================\n",
      "\n",
      "Notes:\n",
      "[1] Standard Errors assume that the covariance matrix of the errors is correctly specified.\n",
      "[2] The condition number is large, 2.52e+05. This might indicate that there are\n",
      "strong multicollinearity or other numerical problems.\n"
     ]
    }
   ],
   "source": [
    "## fit the model\n",
    "results_good = model_good.fit()\n",
    "\n",
    "## look at the results\n",
    "print(results_good.summary())"
   ]
  },
  {
   "cell_type": "code",
   "execution_count": 39,
   "metadata": {},
   "outputs": [
    {
     "data": {
      "image/png": "[encoded data removed]",
      "text/plain": [
       "<Figure size 432x288 with 1 Axes>"
      ]
     },
     "metadata": {
      "needs_background": "light"
     },
     "output_type": "display_data"
    }
   ],
   "source": [
    "# Plot the orginal data (as before)\n",
    "sns.scatterplot(x='Income',y='Overall_Good',data=all_data)\n",
    "\n",
    "# Generate and plot the model fit line\n",
    "xs = np.arange(all_data['Income'].min(), all_data['Income'].max())\n",
    "ys = 0.0011 * xs + 137.4671\n",
    "plt.plot(xs, ys, '--k', linewidth=4, label='Model')\n",
    "\n",
    "plt.xlabel('Income')\n",
    "plt.ylabel('Days with Good AQI')\n",
    "plt.legend();"
   ]
  },
  {
   "cell_type": "markdown",
   "metadata": {},
   "source": [
    "According to our analysis, with a p-value of 0.062, we fail to reject the null hypothesis and conclude that the income of a county is not significantly correlated with the number of days with a good AQI level in the county. However, the p-value is quite low and further analysis may be needed to make this conclusion."
   ]
  },
  {
   "cell_type": "markdown",
   "metadata": {},
   "source": [
    "### Number of Days With an Unhealthy AQI Level"
   ]
  },
  {
   "cell_type": "markdown",
   "metadata": {},
   "source": [
    "We used geopandas to show the average number of days with an unhealthy AQI level across the counties in California."
   ]
  },
  {
   "cell_type": "code",
   "execution_count": 55,
   "metadata": {},
   "outputs": [
    {
     "data": {
      "text/plain": [
       "<AxesSubplot:>"
      ]
     },
     "execution_count": 55,
     "metadata": {},
     "output_type": "execute_result"
    },
    {
     "data": {
      "image/png": "[encoded data removed]",
      "text/plain": [
       "<Figure size 432x288 with 2 Axes>"
      ]
     },
     "metadata": {
      "needs_background": "light"
     },
     "output_type": "display_data"
    }
   ],
   "source": [
    "fig, ax = plt.subplots(1, 1)\n",
    "gdf.plot(column='Overall_Unhealthy',\n",
    "            ax=ax,\n",
    "            legend=True,\n",
    "            legend_kwds={'label': \"# of Unhealthy AQI days by County\",\n",
    "                        'orientation': \"vertical\"})\n"
   ]
  },
  {
   "cell_type": "markdown",
   "metadata": {},
   "source": [
    "We used a bar chart to highlight each county’s average number of days with unhealthy AQI levels over the 11 year span of 2010 to 2020. The red bars represent the counties in which the median income is below our calculated income threshold, and the blue bars represent the counties that are above this threshold. As can be seen, the bar chart shows great variety between the Median number of days with an unhealthy AQI Level for the counties. It can also be seen from the bar chart that there does not appear to be a distinct trend or difference between the two income levels in terms of the AQI level."
   ]
  },
  {
   "cell_type": "code",
   "execution_count": 57,
   "metadata": {},
   "outputs": [
    {
     "data": {
      "text/plain": [
       "Text(0.5, 1.0, 'Average Number of Days with an Unhealthy AQI Level from 2010-2020 for Each County in California')"
      ]
     },
     "execution_count": 57,
     "metadata": {},
     "output_type": "execute_result"
    },
    {
     "data": {
      "image/png": "[encoded data removed]",
      "text/plain": [
       "<Figure size 432x288 with 1 Axes>"
      ]
     },
     "metadata": {
      "needs_background": "light"
     },
     "output_type": "display_data"
    }
   ],
   "source": [
    "plt.xticks(rotation=90)\n",
    "plt.tight_layout()\n",
    "\n",
    "mask1 = all_data['Low Income'] == True\n",
    "mask2 = all_data['Low Income'] == False\n",
    "\n",
    "plt.bar(all_data['County'][mask1], all_data['Overall_Unhealthy'][mask1], color = 'red')\n",
    "plt.bar(all_data['County'][mask2], all_data['Overall_Unhealthy'][mask2], color = 'blue')\n",
    "plt.legend(['Low Income', 'Medium/High Income'])\n",
    "\n",
    "plt.xlabel(\"County\")\n",
    "plt.ylabel(\"Median number of days with an Unhealthy AQI Level\")\n",
    "plt.title(\"Average Number of Days with an Unhealthy AQI Level from 2010-2020 for Each County in California\")"
   ]
  },
  {
   "cell_type": "code",
   "execution_count": 64,
   "metadata": {
    "scrolled": true
   },
   "outputs": [
    {
     "name": "stdout",
     "output_type": "stream",
     "text": [
      "6.782608695652175\n",
      "6.46060606060606\n"
     ]
    }
   ],
   "source": [
    "low_income_unhealthy_mean = low_income_data['Overall_Unhealthy'].mean()\n",
    "print(low_income_unhealthy_mean)\n",
    "\n",
    "non_low_income_unhealthy_mean = non_low_income_data['Overall_Unhealthy'].mean()\n",
    "print(non_low_income_unhealthy_mean)"
   ]
  },
  {
   "cell_type": "markdown",
   "metadata": {},
   "source": [
    "Above we calculated the mean of the overall unhealthy days for the counties with low median income and the mean of the overall good days for the counties with non low income. The low income overall good days mean is 6.78 and the non low income overall good days mean is 6.46. This is not a significant difference in the mean of the overall unhealthy days."
   ]
  },
  {
   "cell_type": "markdown",
   "metadata": {},
   "source": [
    "This scatterplot shows the number of unhealthy air quality days in a year. Each instance corresponds to an income in incrementing order."
   ]
  },
  {
   "cell_type": "code",
   "execution_count": 38,
   "metadata": {},
   "outputs": [
    {
     "data": {
      "text/plain": [
       "<AxesSubplot:xlabel='Income', ylabel='Overall_Unhealthy'>"
      ]
     },
     "execution_count": 38,
     "metadata": {},
     "output_type": "execute_result"
    },
    {
     "data": {
      "image/png": "[encoded data removed]",
      "text/plain": [
       "<Figure size 432x288 with 1 Axes>"
      ]
     },
     "metadata": {
      "needs_background": "light"
     },
     "output_type": "display_data"
    }
   ],
   "source": [
    "sns.scatterplot(x='Income',y='Overall_Unhealthy',data=all_data)"
   ]
  },
  {
   "cell_type": "markdown",
   "metadata": {},
   "source": [
    "We want to look at how income can impact the number of days with an unhealthy AQI value."
   ]
  },
  {
   "cell_type": "code",
   "execution_count": 41,
   "metadata": {},
   "outputs": [],
   "source": [
    "outcome_Unhealthy, predictors_Unhealthy = patsy.dmatrices(\"Overall_Unhealthy ~ Income\", all_data)\n",
    "model_Unhealthy = sm.OLS(outcome_Unhealthy, predictors_Unhealthy)"
   ]
  },
  {
   "cell_type": "code",
   "execution_count": 43,
   "metadata": {},
   "outputs": [
    {
     "name": "stdout",
     "output_type": "stream",
     "text": [
      "                            OLS Regression Results                            \n",
      "==============================================================================\n",
      "Dep. Variable:      Overall_Unhealthy   R-squared:                       0.036\n",
      "Model:                            OLS   Adj. R-squared:                  0.017\n",
      "Method:                 Least Squares   F-statistic:                     1.880\n",
      "Date:                Mon, 07 Jun 2021   Prob (F-statistic):              0.176\n",
      "Time:                        20:58:15   Log-Likelihood:                -198.36\n",
      "No. Observations:                  53   AIC:                             400.7\n",
      "Df Residuals:                      51   BIC:                             404.7\n",
      "Df Model:                           1                                         \n",
      "Covariance Type:            nonrobust                                         \n",
      "==============================================================================\n",
      "                 coef    std err          t      P>|t|      [0.025      0.975]\n",
      "------------------------------------------------------------------------------\n",
      "Intercept     13.1949      5.018      2.630      0.011       3.121      23.269\n",
      "Income     -9.572e-05   6.98e-05     -1.371      0.176      -0.000    4.44e-05\n",
      "==============================================================================\n",
      "Omnibus:                       46.819   Durbin-Watson:                   2.170\n",
      "Prob(Omnibus):                  0.000   Jarque-Bera (JB):              151.151\n",
      "Skew:                           2.592   Prob(JB):                     1.51e-33\n",
      "Kurtosis:                       9.447   Cond. No.                     2.52e+05\n",
      "==============================================================================\n",
      "\n",
      "Notes:\n",
      "[1] Standard Errors assume that the covariance matrix of the errors is correctly specified.\n",
      "[2] The condition number is large, 2.52e+05. This might indicate that there are\n",
      "strong multicollinearity or other numerical problems.\n"
     ]
    }
   ],
   "source": [
    "## fit the model\n",
    "results_Unhealthy = model_Unhealthy.fit()\n",
    "\n",
    "## look at the results\n",
    "print(results_Unhealthy.summary())"
   ]
  },
  {
   "cell_type": "code",
   "execution_count": 45,
   "metadata": {
    "scrolled": false
   },
   "outputs": [
    {
     "data": {
      "image/png": "[encoded data removed]",
      "text/plain": [
       "<Figure size 432x288 with 1 Axes>"
      ]
     },
     "metadata": {
      "needs_background": "light"
     },
     "output_type": "display_data"
    }
   ],
   "source": [
    "# Plot the orginal data (as before)\n",
    "sns.scatterplot(x='Income',y='Overall_Unhealthy',data=all_data)\n",
    "\n",
    "# Generate and plot the model fit line\n",
    "xs = np.arange(all_data['Income'].min(), all_data['Income'].max())\n",
    "ys = -9.572e-05  * xs + 13.1949\n",
    "plt.plot(xs, ys, '--k', linewidth=4, label='Model')\n",
    "\n",
    "plt.xlabel('Income')\n",
    "plt.ylabel('Days with Unhealthy AQI')\n",
    "plt.legend();"
   ]
  },
  {
   "cell_type": "markdown",
   "metadata": {},
   "source": [
    "According to our analysis, with a p-value of 0.176, we fail to reject the null hypothesis and conclude that the income of a county is not significantly correlated with the number of days with an unhealthy AQI level."
   ]
  },
  {
   "cell_type": "markdown",
   "metadata": {},
   "source": [
    "### Number of Days With a Moderate AQI Level\n",
    "\n",
    "We used a bar chart to highlight each county’s average number of days with moderate AQI levels over the 11 year span of 2010 to 2020. The red bars represent the counties in which the median income is below our calculated income threshold, and the blue bars represent the counties that are above this threshold. As can be seen, the bar chart shows great variety between the Median number of days with an moderate AQI Level for the counties. It can also be seen from the bar chart that there does not appear to be a distinct trend or difference between the two income levels in terms of the AQI level."
   ]
  },
  {
   "cell_type": "code",
   "execution_count": 58,
   "metadata": {},
   "outputs": [
    {
     "data": {
      "text/plain": [
       "Text(0.5, 1.0, 'Average Number of Days with a Moderate AQI Level from 2010-2020 for Each County in California')"
      ]
     },
     "execution_count": 58,
     "metadata": {},
     "output_type": "execute_result"
    },
    {
     "data": {
      "image/png": "[encoded data removed]",
      "text/plain": [
       "<Figure size 432x288 with 1 Axes>"
      ]
     },
     "metadata": {
      "needs_background": "light"
     },
     "output_type": "display_data"
    }
   ],
   "source": [
    "plt.xticks(rotation=90)\n",
    "plt.tight_layout()\n",
    "\n",
    "mask1 = all_data['Low Income'] == True\n",
    "mask2 = all_data['Low Income'] == False\n",
    "\n",
    "plt.bar(all_data['County'][mask1], all_data['Overall_Moderate'][mask1], color = 'red')\n",
    "plt.bar(all_data['County'][mask2], all_data['Overall_Moderate'][mask2], color = 'blue')\n",
    "plt.legend(['Low Income', 'Medium/High Income'])\n",
    "\n",
    "plt.xlabel(\"County\")\n",
    "plt.ylabel(\"Median number of days with a Moderate AQI Level\")\n",
    "plt.title(\"Average Number of Days with a Moderate AQI Level from 2010-2020 for Each County in California\")"
   ]
  },
  {
   "cell_type": "code",
   "execution_count": 65,
   "metadata": {},
   "outputs": [
    {
     "name": "stdout",
     "output_type": "stream",
     "text": [
      "111.92094861660078\n",
      "117.1969696969697\n"
     ]
    }
   ],
   "source": [
    "low_income_moderate_mean = low_income_data['Overall_Moderate'].mean()\n",
    "print(low_income_moderate_mean)\n",
    "\n",
    "non_low_income_moderate_mean = non_low_income_data['Overall_Moderate'].mean()\n",
    "print(non_low_income_moderate_mean)"
   ]
  },
  {
   "cell_type": "markdown",
   "metadata": {},
   "source": [
    "Above we calculated the mean of the overall moderate days for the counties with low median income and the mean of the overall good days for the counties with non low income. The low income overall good days mean is 111.92 and the non low income overall good days mean is 117.2. This is not a significant difference in the mean of the overall unhealthy days."
   ]
  },
  {
   "cell_type": "markdown",
   "metadata": {},
   "source": [
    "This scatterplot shows the number of moderate air quality days in a year for each county in california in relationship to it's income."
   ]
  },
  {
   "cell_type": "code",
   "execution_count": 38,
   "metadata": {},
   "outputs": [
    {
     "data": {
      "text/plain": [
       "<AxesSubplot:xlabel='Income', ylabel='Overall_Unhealthy'>"
      ]
     },
     "execution_count": 38,
     "metadata": {},
     "output_type": "execute_result"
    },
    {
     "data": {
      "image/png": "[encoded data removed]",
      "text/plain": [
       "<Figure size 432x288 with 1 Axes>"
      ]
     },
     "metadata": {
      "needs_background": "light"
     },
     "output_type": "display_data"
    }
   ],
   "source": [
    "sns.scatterplot(x='Income',y='Overall_Moderate',data=all_data)"
   ]
  },
  {
   "cell_type": "markdown",
   "metadata": {},
   "source": [
    "We want to look at how income can impact the number of days with a moderate AQI value."
   ]
  },
  {
   "cell_type": "code",
   "execution_count": 46,
   "metadata": {},
   "outputs": [],
   "source": [
    "outcome_Moderate, predictors_Moderate = patsy.dmatrices(\"Overall_Moderate ~ Income\", all_data)\n",
    "model_Moderate = sm.OLS(outcome_Moderate, predictors_Moderate)"
   ]
  },
  {
   "cell_type": "code",
   "execution_count": 47,
   "metadata": {},
   "outputs": [
    {
     "name": "stdout",
     "output_type": "stream",
     "text": [
      "                            OLS Regression Results                            \n",
      "==============================================================================\n",
      "Dep. Variable:       Overall_Moderate   R-squared:                       0.001\n",
      "Model:                            OLS   Adj. R-squared:                 -0.018\n",
      "Method:                 Least Squares   F-statistic:                   0.06103\n",
      "Date:                Mon, 07 Jun 2021   Prob (F-statistic):              0.806\n",
      "Time:                        21:02:45   Log-Likelihood:                -290.45\n",
      "No. Observations:                  53   AIC:                             584.9\n",
      "Df Residuals:                      51   BIC:                             588.8\n",
      "Df Model:                           1                                         \n",
      "Covariance Type:            nonrobust                                         \n",
      "==============================================================================\n",
      "                 coef    std err          t      P>|t|      [0.025      0.975]\n",
      "------------------------------------------------------------------------------\n",
      "Intercept    121.6603     28.518      4.266      0.000      64.409     178.912\n",
      "Income     -9.801e-05      0.000     -0.247      0.806      -0.001       0.001\n",
      "==============================================================================\n",
      "Omnibus:                        2.740   Durbin-Watson:                   2.229\n",
      "Prob(Omnibus):                  0.254   Jarque-Bera (JB):                1.589\n",
      "Skew:                           0.118   Prob(JB):                        0.452\n",
      "Kurtosis:                       2.185   Cond. No.                     2.52e+05\n",
      "==============================================================================\n",
      "\n",
      "Notes:\n",
      "[1] Standard Errors assume that the covariance matrix of the errors is correctly specified.\n",
      "[2] The condition number is large, 2.52e+05. This might indicate that there are\n",
      "strong multicollinearity or other numerical problems.\n"
     ]
    }
   ],
   "source": [
    "## fit the model\n",
    "results_Moderate = model_Moderate.fit()\n",
    "\n",
    "## look at the results\n",
    "print(results_Moderate.summary())"
   ]
  },
  {
   "cell_type": "code",
   "execution_count": 48,
   "metadata": {
    "scrolled": false
   },
   "outputs": [
    {
     "data": {
      "image/png": "[encoded data removed]",
      "text/plain": [
       "<Figure size 432x288 with 1 Axes>"
      ]
     },
     "metadata": {
      "needs_background": "light"
     },
     "output_type": "display_data"
    }
   ],
   "source": [
    "# Plot the orginal data (as before)\n",
    "sns.scatterplot(x='Income',y='Overall_Moderate',data=all_data)\n",
    "\n",
    "# Generate and plot the model fit line\n",
    "xs = np.arange(all_data['Income'].min(), all_data['Income'].max())\n",
    "ys = -9.801e-05  * xs + 121.6603\n",
    "plt.plot(xs, ys, '--k', linewidth=4, label='Model')\n",
    "\n",
    "plt.xlabel('Income')\n",
    "plt.ylabel('Days with Moderate AQI')\n",
    "plt.legend();"
   ]
  },
  {
   "cell_type": "markdown",
   "metadata": {},
   "source": [
    "According to our analysis, with a p-value of 0.806, we fail to reject the null hypothesis and conclude that the income of a county is not significantly correlated with the number of days with a moderate AQI level."
   ]
  },
  {
   "cell_type": "markdown",
   "metadata": {},
   "source": [
    "### General Trend of Air Quality from 2010-2020"
   ]
  },
  {
   "cell_type": "markdown",
   "metadata": {},
   "source": [
    "#### General Trend of Average Median AQI Level from 2010-2020"
   ]
  },
  {
   "cell_type": "code",
   "execution_count": 66,
   "metadata": {},
   "outputs": [
    {
     "data": {
      "text/html": [
       "<div>\n",
       "<style scoped>\n",
       "    .dataframe tbody tr th:only-of-type {\n",
       "        vertical-align: middle;\n",
       "    }\n",
       "\n",
       "    .dataframe tbody tr th {\n",
       "        vertical-align: top;\n",
       "    }\n",
       "\n",
       "    .dataframe thead th {\n",
       "        text-align: right;\n",
       "    }\n",
       "</style>\n",
       "<table border=\"1\" class=\"dataframe\">\n",
       "  <thead>\n",
       "    <tr style=\"text-align: right;\">\n",
       "      <th></th>\n",
       "      <th>Year</th>\n",
       "      <th>Overall_AQI_Median</th>\n",
       "      <th>Overall_Good</th>\n",
       "      <th>Overall_Unhealthy</th>\n",
       "      <th>Overall_Moderate</th>\n",
       "    </tr>\n",
       "  </thead>\n",
       "  <tbody>\n",
       "    <tr>\n",
       "      <th>0</th>\n",
       "      <td>2010</td>\n",
       "      <td>45.320755</td>\n",
       "      <td>221.849057</td>\n",
       "      <td>5.320755</td>\n",
       "      <td>102.339623</td>\n",
       "    </tr>\n",
       "    <tr>\n",
       "      <th>1</th>\n",
       "      <td>2011</td>\n",
       "      <td>49.556604</td>\n",
       "      <td>196.735849</td>\n",
       "      <td>7.150943</td>\n",
       "      <td>122.584906</td>\n",
       "    </tr>\n",
       "    <tr>\n",
       "      <th>2</th>\n",
       "      <td>2012</td>\n",
       "      <td>48.801887</td>\n",
       "      <td>205.792453</td>\n",
       "      <td>6.962264</td>\n",
       "      <td>115.886792</td>\n",
       "    </tr>\n",
       "    <tr>\n",
       "      <th>3</th>\n",
       "      <td>2013</td>\n",
       "      <td>49.679245</td>\n",
       "      <td>194.113208</td>\n",
       "      <td>5.000000</td>\n",
       "      <td>129.509434</td>\n",
       "    </tr>\n",
       "    <tr>\n",
       "      <th>4</th>\n",
       "      <td>2014</td>\n",
       "      <td>49.377358</td>\n",
       "      <td>196.566038</td>\n",
       "      <td>5.490566</td>\n",
       "      <td>123.283019</td>\n",
       "    </tr>\n",
       "  </tbody>\n",
       "</table>\n",
       "</div>"
      ],
      "text/plain": [
       "   Year  Overall_AQI_Median  Overall_Good  Overall_Unhealthy  Overall_Moderate\n",
       "0  2010           45.320755    221.849057           5.320755        102.339623\n",
       "1  2011           49.556604    196.735849           7.150943        122.584906\n",
       "2  2012           48.801887    205.792453           6.962264        115.886792\n",
       "3  2013           49.679245    194.113208           5.000000        129.509434\n",
       "4  2014           49.377358    196.566038           5.490566        123.283019"
      ]
     },
     "execution_count": 66,
     "metadata": {},
     "output_type": "execute_result"
    }
   ],
   "source": [
    "yearGrouped = aqi_data.groupby(\"Year\")\n",
    "aqiMedian_by_year = yearGrouped['AQI Median'].mean().to_frame(name = 'Overall_AQI_Median').reset_index()\n",
    "aqiGood_by_year = yearGrouped['Good'].mean().to_frame(name = 'Overall_Good').reset_index()\n",
    "aqiUnhealthy_by_year = yearGrouped['Unhealthy'].mean().to_frame(name = 'Overall_Unhealthy').reset_index()\n",
    "aqiModerate_by_year = yearGrouped['Moderate'].mean().to_frame(name = 'Overall_Moderate').reset_index()\n",
    "aqi_by_year = pd.merge(aqiMedian_by_year, aqiGood_by_year)\n",
    "aqi_by_year = pd.merge(aqi_by_year, aqiUnhealthy_by_year)\n",
    "aqi_by_year = pd.merge(aqi_by_year, aqiModerate_by_year)\n",
    "#aqi_by_county['Overall_Bad'] = 365 - aqi_by_county['Overall_Good'] \n",
    "aqi_by_year.head()"
   ]
  },
  {
   "cell_type": "code",
   "execution_count": 69,
   "metadata": {
    "scrolled": true
   },
   "outputs": [
    {
     "data": {
      "text/plain": [
       "[<matplotlib.lines.Line2D at 0x7fcf106747c0>]"
      ]
     },
     "execution_count": 69,
     "metadata": {},
     "output_type": "execute_result"
    },
    {
     "data": {
      "image/png": "[encoded data removed]",
      "text/plain": [
       "<Figure size 432x288 with 1 Axes>"
      ]
     },
     "metadata": {
      "needs_background": "light"
     },
     "output_type": "display_data"
    }
   ],
   "source": [
    "sns.scatterplot(x='Year',y='Overall_AQI_Median',data=aqi_by_year)\n",
    "m, b = np.polyfit(aqi_by_year['Year'], aqi_by_year['Overall_AQI_Median'], 1)\n",
    "plt.plot(aqi_by_year['Year'], m*aqi_by_year['Year'] + b)"
   ]
  },
  {
   "cell_type": "markdown",
   "metadata": {},
   "source": [
    "It is important to note that in general, the median AQI level across all the counties in CA has gotten worse, meaning the air quality has gotten worse. This directly reflects the trend of climate change getting worse. It is also important to keep in mind that there was a pandemic in 2020. The air quality has a massive dip in 2019 to about 44 on average, and then jumps back up to about 48 on average in 2020."
   ]
  },
  {
   "cell_type": "markdown",
   "metadata": {},
   "source": [
    "#### General Trend of Average Number of Days with a Good AQI Level from 2010-2020"
   ]
  },
  {
   "cell_type": "code",
   "execution_count": 70,
   "metadata": {
    "scrolled": true
   },
   "outputs": [
    {
     "data": {
      "text/plain": [
       "[<matplotlib.lines.Line2D at 0x7fcee013d760>]"
      ]
     },
     "execution_count": 70,
     "metadata": {},
     "output_type": "execute_result"
    },
    {
     "data": {
      "image/png": "[encoded data removed]",
      "text/plain": [
       "<Figure size 432x288 with 1 Axes>"
      ]
     },
     "metadata": {
      "needs_background": "light"
     },
     "output_type": "display_data"
    }
   ],
   "source": [
    "sns.scatterplot(x='Year',y='Overall_Good',data=aqi_by_year)\n",
    "m, b = np.polyfit(aqi_by_year['Year'], aqi_by_year['Overall_Good'], 1)\n",
    "plt.plot(aqi_by_year['Year'], m*aqi_by_year['Year'] + b)"
   ]
  },
  {
   "cell_type": "markdown",
   "metadata": {},
   "source": [
    "It is surprising that although the median AQI index across California has been slightly decreasing since 2010, the number of days with a good AQI level has been increasing. More future analysis should be done to explain this phenomena. Below we can see that bad days are also increasing, so these unhealthy days must have a largely impact than the good leveled days. "
   ]
  },
  {
   "cell_type": "markdown",
   "metadata": {},
   "source": [
    "#### General Trend of Average Number of Days with an Unhealthy AQI Level from 2010-2020"
   ]
  },
  {
   "cell_type": "code",
   "execution_count": 72,
   "metadata": {},
   "outputs": [
    {
     "data": {
      "text/plain": [
       "[<matplotlib.lines.Line2D at 0x7fcf0178cdc0>]"
      ]
     },
     "execution_count": 72,
     "metadata": {},
     "output_type": "execute_result"
    },
    {
     "data": {
      "image/png": "[encoded data removed]",
      "text/plain": [
       "<Figure size 432x288 with 1 Axes>"
      ]
     },
     "metadata": {
      "needs_background": "light"
     },
     "output_type": "display_data"
    }
   ],
   "source": [
    "sns.scatterplot(x='Year',y='Overall_Unhealthy',data=aqi_by_year)\n",
    "m, b = np.polyfit(aqi_by_year['Year'], aqi_by_year['Overall_Unhealthy'], 1)\n",
    "plt.plot(aqi_by_year['Year'], m*aqi_by_year['Year'] + b)"
   ]
  },
  {
   "cell_type": "markdown",
   "metadata": {},
   "source": [
    "Interestingly enough, the number of days with bad AQI levels is increasing along side the number of days with a bad AQI level. The upward trend in both the number of days with an unhealthy AQI level and the number of days with a good AQI level is reflected below in the decreasing number of days with a moderate AQI level."
   ]
  },
  {
   "cell_type": "markdown",
   "metadata": {},
   "source": [
    "#### General Trend of Average Number of Days with a Moderate AQI Level from 2010-2020"
   ]
  },
  {
   "cell_type": "code",
   "execution_count": 73,
   "metadata": {},
   "outputs": [
    {
     "data": {
      "text/plain": [
       "[<matplotlib.lines.Line2D at 0x7fcf209a0f10>]"
      ]
     },
     "execution_count": 73,
     "metadata": {},
     "output_type": "execute_result"
    },
    {
     "data": {
      "image/png": "[encoded data removed]",
      "text/plain": [
       "<Figure size 432x288 with 1 Axes>"
      ]
     },
     "metadata": {
      "needs_background": "light"
     },
     "output_type": "display_data"
    }
   ],
   "source": [
    "sns.scatterplot(x='Year',y='Overall_Moderate',data=aqi_by_year)\n",
    "m, b = np.polyfit(aqi_by_year['Year'], aqi_by_year['Overall_Moderate'], 1)\n",
    "plt.plot(aqi_by_year['Year'], m*aqi_by_year['Year'] + b)"
   ]
  },
  {
   "cell_type": "markdown",
   "metadata": {},
   "source": [
    "Overall, the number of days with a moderate AQI level across California is decreasing. This is not surprising after looking at the increasing trend of days with a good or an unhealthy AQI level. "
   ]
  },
  {
   "cell_type": "markdown",
   "metadata": {},
   "source": [
    "# Ethics & Privacy"
   ]
  },
  {
   "cell_type": "markdown",
   "metadata": {},
   "source": [
    "Overall, the datasets we used was publicly available and contained no sensitive personal information about the participants. The datasets provided was from official US government websites. \n",
    "\n",
    "Regarding our datasets, there were a few concerns about the bias and skew of the datasets.\n",
    "\n",
    "First off, there were concerns of location bias due to the fact that our analysis focused on counties as opposed to cities/ towns. \n",
    "\n",
    "We also had concerns of bias from our county income dataset due to the fact that the dataset contained the median household income of counties in California; however, a single county can account for lots of cities with widely varying incomes. Not only that, but all counties in California except for one county have unincorporated areas which aren't accurately accounted for in the census. Aside from that, only 53 out of the 58 counties in California were included in our analysis due to gaps and inconsistencies of information within the corresponding datasets.\n",
    "\n",
    "With that being said, we predict we’d be able to see clearer trends between median household income for cities and their air quality index if we had data that contained the median household income for cities in California and the AQI for those cities.\n",
    "\n",
    "Not only is there a bias for the state we chose but also a location bias for the counties of California we analyzed. And since our data is specific to California, we do not believe that we can generalize our findings to the rest of the United States.\n",
    "\n",
    "Lastly, there were concerns of AQI bias due to possible cross-pollution which could interfere with true AQI data and make it much more complicated to see any true relationship with the income of these counties and their AQI. The article states:\n",
    "\n",
    "#### “Winds flowing down from the South Coast air basin and Los Angeles can also play a role in significantly elevating San Diego air pollution levels. Los Angeles ozone is the worst in the nation. State studies identify transported air pollution as an additional challenge for San Diego in meeting federal ozone attainment levels.”\n",
    "More information can be found via this link: \n",
    "https://www.iqair.com/us/usa/california/san-diego\n",
    "\n",
    "\n",
    "Due to the fact that there was no significant correlation between our datasets, there may be an ethical concern that our results could be interpreted to show that low income communities and people with lower socioeconomic statuses are not disproportionately affected by climate change. We therefore would like to make it clear that do not provide any clear interpretation of how climate change is affecting people in low income communities."
   ]
  },
  {
   "cell_type": "markdown",
   "metadata": {},
   "source": [
    "# Conclusion & Discussion"
   ]
  },
  {
   "cell_type": "markdown",
   "metadata": {},
   "source": [
    "### Conclusion from analysis"
   ]
  },
  {
   "cell_type": "markdown",
   "metadata": {},
   "source": [
    "#### Conclusions About Air Quality in Low Income Communities"
   ]
  },
  {
   "cell_type": "markdown",
   "metadata": {},
   "source": [
    "In conclusion, we did not find any significant relationship between Air Quality measured by AQI level and the median income of a county in California. More specifically, we found no significant relationship between median AQI level and income, number of days with a good AQI level and income, number of days with an unhealthy AQI level and income, and number of days with a moderate AQI level and income. The closest we came to a significant finding was the relationship between the number of days with a good AQI level and median income of a community, which indicates that further research should be done and will be discussed in our further research section. This in no way means that low income communities are disproportionately affected by climate change, since we were only succesfully able to look at the relationship between air quality and income. Just because there was no significant correlation regarding air quality doesn't mean these communities are more severly impacted by the effects of climate change such as natural disasters. "
   ]
  },
  {
   "cell_type": "markdown",
   "metadata": {},
   "source": [
    "#### Conclusions About General Trends"
   ]
  },
  {
   "cell_type": "markdown",
   "metadata": {},
   "source": [
    "In general, the median AQI level across all counties in California has been decreasing since 2010. This indicates that air quality has been worsening. It is important to consider confounds such as the pandemic in 2020 which could slightly alter the trend, making it less intense since the air quality was probably better while everybody was indoors. Air quality could have been getting exponentialoy worse, and then gone back up since less people were driving and impacting the environment while quarantining.\n",
    "\n",
    "Additionally, the number of days with a good AQI level and the number of days with an unhealthy AQI level across California have both been increasing since 2010. In turn, the number of days with a moderate AQI level across California has been decreasing since 2010. \n",
    "\n",
    "These trends lead to questions driving future research suggested below."
   ]
  },
  {
   "cell_type": "markdown",
   "metadata": {},
   "source": [
    "### Limitations"
   ]
  },
  {
   "cell_type": "markdown",
   "metadata": {},
   "source": [
    "- We only looked at the relationship between the median income of a county and the reported AQI (air quality index). We chose to only look at this aspect of climate change because of the limited choices we had for data. \n",
    "- We were also only able to look at 53 counties in California, and there can be much disparity within the communities within each county. \n",
    "- It is difficult to determine the true impact of climate change on low income communities through air quality alone.\n",
    "- It is difficult to find a relationship between county incomes and AQI due to potential cross-pollution from neighboring regions."
   ]
  },
  {
   "cell_type": "markdown",
   "metadata": {},
   "source": [
    "### Future Research"
   ]
  },
  {
   "cell_type": "markdown",
   "metadata": {},
   "source": [
    "- There could be other ways that climate change affects low-income communities different form higher income communities. For example, it could be more difficult for these low income communities to recover from any natural disasters caused by climate change.\n",
    "- It might be helpful to look more specifically at neighborhoods in a county because of the disparity that can be in place in a city.\n",
    "- It might also be helpful to do a separate analysis on how other factors such as popultion distribution or population density may have a larger correlation to climate change\n",
    "- One question we have from our findings is how does a decreasing AQI level and the increasing number of days with an unhealthy AQI level disproportionaly affect low income communities? In other words, could a slight downward trend in air quality could disproportionaly affect low income communities in an exponential way?\n",
    "- Another question that arose was what is causing the increasing number of unhealthy days? And how are these days disproportionately affecting low income communities? \n",
    "- What is causing BOTH days with good AQI levels and days with unhealhy AQI levels to increase?\n",
    "\n",
    "Looking at the potential confounds in the general trends and their impact on low income communities could give greater insight into the disparity within the effects of climate change in communities with different incomes."
   ]
  },
  {
   "cell_type": "markdown",
   "metadata": {},
   "source": [
    "# Team Contributions"
   ]
  },
  {
   "cell_type": "markdown",
   "metadata": {},
   "source": [
    "Cristian Jarquin: Presentation, Geopandas, EDA, Dataset Git Upload.\n",
    "\n",
    "Vanessa Komar: Sources, Data Cleaning, Data Analysis, Ethics & Privacy, Future Research. \n",
    "\n",
    "Ivan Cervantes Palomino: Sources/References, Background & Prior Work, Ethics & Privacy, EDA, Limitations.\n",
    "\n",
    "Bridget Phimmasone: Overview, Ethics & Privacy, Video Editing.\n",
    "\n",
    "Sierra Rose: Sources/References, Data Cleaning, EDA, Data Analysis, Conclusion/Discussion/Limitations."
   ]
  }
 ],
 "metadata": {
  "kernelspec": {
   "display_name": "Python 3",
   "language": "python",
   "name": "python3"
  },
  "language_info": {
   "codemirror_mode": {
    "name": "ipython",
    "version": 3
   },
   "file_extension": ".py",
   "mimetype": "text/x-python",
   "name": "python",
   "nbconvert_exporter": "python",
   "pygments_lexer": "ipython3",
   "version": "3.7.7"
  }
 },
 "nbformat": 4,
 "nbformat_minor": 2
}
