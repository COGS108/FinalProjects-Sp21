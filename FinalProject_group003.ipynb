{
 "cells": [
  {
   "cell_type": "markdown",
   "metadata": {},
   "source": [
    "# COGS 108 - Final Project: Analysis of the Post-Graduation Salaries of Undergraduates by Region"
   ]
  },
  {
   "cell_type": "markdown",
   "metadata": {},
   "source": [
    "# Overview"
   ]
  },
  {
   "cell_type": "markdown",
   "metadata": {},
   "source": [
    "As current undergraduate students close to beginning our professional careers, we were interested in the potential effect our undergraduate institution will have on our post-graduation salaries. Specifically we sought to figure out whether attending a private or public school made a significant difference in a person’s early career pay. After conducting our analysis of Payscale data, we have concluded that while there is no significant effect of private vs. public schools on post-graduation salary, region (North-East vs. Pacific) does have an effect."
   ]
  },
  {
   "cell_type": "markdown",
   "metadata": {},
   "source": [
    "# Names\n",
    "\n",
    "- Noura Tbeileh\n",
    "- Lydia Smith\n",
    "- Meera Bhargava\n",
    "- Elvin Anam"
   ]
  },
  {
   "cell_type": "markdown",
   "metadata": {},
   "source": [
    "<a id='research_question'></a>\n",
    "# Research Question"
   ]
  },
  {
   "cell_type": "markdown",
   "metadata": {},
   "source": [
    "What is the effect of attending a private vs. public undergraduate university on a person's post-graduation salary? What is the effect of the region on the post-graduation salary of a private vs. public school graduate?"
   ]
  },
  {
   "cell_type": "markdown",
   "metadata": {},
   "source": [
    "<a id='background'></a>\n",
    "\n",
    "## Background & Prior Work"
   ]
  },
  {
   "cell_type": "markdown",
   "metadata": {},
   "source": [
    "References:\n",
    "\n",
    "1) https://scholarworks.gvsu.edu/cgi/viewcontent.cgi?article=1661&context=honorsprojects\n",
    "\n",
    "2) https://www.cnbc.com/2019/11/14/new-research-finds-private-colleges-pay-off-more-than-public-colleges.html\n",
    "\n",
    "3) https://www.cnbc.com/2019/12/13/cost-of-college-increased-by-more-than-25percent-in-the-last-10-years.html \n",
    "\n",
    "4) https://www.topuniversities.com/where-to-study/north-america/united-states/us-universities-east-versus-west \n",
    "\n",
    "It is well known that a college degree is important for a successful job, yet it is so expensive to attend college. Furthermore, the type of university you attend, public or private, has an impact on your income post-graduation (2). Public universities are owned by the state government and generally have a lower tuition rate while private universities generally have a higher tuition rate but may boast more prestige in the hiring process post-graduation. \"After factoring in average scholarship awards, a top fifty public university’s net cost is an average of \\$15,168 less per academic year than a top fifty private institution’s net cost\" (1). In fact, college tuition has increased by 25% in the past 10 years and has become almost unaffordable for many people to attend (3). In 10 years, public universities have increased by 29.8% from \\$16,450 in 2008 to \\$21,370 in 2018 due to the increase in public university cost without a parallel increase in state funding (3). And those numbers keep rising. \n",
    "\n",
    "There are many top tier universities, including the Ivy League schools, in the northeast. Schools like Harvard, Yale, Columbia, and Princeton are all private universities in the northeast. On the other hand, many of the high ranking pacific schools are public, especially in California where the top ranking schools include the University of California, Berkeley and the University of California, Los Angeles. We are interested in looking to see if the region has an impact on post-graduation income (4). \n",
    "\n",
    "With all this in mind we would like to know, realistically does attending a private university result in a higher income post \n",
    "graduation. As many high school students choose which universities they want to attend, it would be useful to understand if there is a difference in income post-graduation depending on whether they choose to attend a private vs. a public school. We are particularly interested in this finding because we are all college students studying at a public university, the University of California, San Diego, and will soon be seeking employment. It will be interesting if we can infer if attending public university will significantly affect our post-graduation salary."
   ]
  },
  {
   "cell_type": "markdown",
   "metadata": {},
   "source": [
    "# Hypothesis\n"
   ]
  },
  {
   "cell_type": "markdown",
   "metadata": {},
   "source": [
    "We think that attending a private college vs. public university will have an impact on initial salary. Due to the prestige that comes with a private university education we think that individuals who attended private institutions will have a higher starting salary than those who went to public universities. "
   ]
  },
  {
   "cell_type": "markdown",
   "metadata": {},
   "source": [
    "# Dataset(s)"
   ]
  },
  {
   "cell_type": "markdown",
   "metadata": {},
   "source": [
    "## Specific Dataset - Pacific States\n",
    "Dataset Name: The Best Colleges in California by Salary Potential\n",
    "\n",
    "Link to the dataset: https://www.payscale.com/college-salary-report/best-schools-by-state/bachelors/california/page/4  \n",
    "\n",
    "Number of observations: 96\n",
    "\n",
    "This dataset allows us to view California specific colleges categorized by the same name, school type, early career pay, and the percent of STEM degrees. \n",
    "\n",
    "## Specific Dataset - Pacific States\n",
    "Dataset Name: The Best Colleges in Alaska by Salary Potential\n",
    "\n",
    "Link to the dataset: https://www.payscale.com/college-salary-report/best-schools-by-state/bachelors/alaska \n",
    "\n",
    "Number of observations: 4\n",
    "\n",
    "This dataset allows us to view Alaska specific colleges categorized by the same name, school type, early career pay, and the percent of STEM degrees. \n",
    "\n",
    "## Specific Dataset - Pacific States\n",
    "Dataset Name: The Best Colleges in Hawaii by Salary Potential\n",
    "\n",
    "Link to the dataset: https://www.payscale.com/college-salary-report/best-schools-by-state/bachelors/hawaii \n",
    "\n",
    "Number of observations: 6\n",
    "\n",
    "This dataset allows us to view Hawaii specific colleges categorized by the same name, school type, early career pay, and the percent of STEM degrees. \n",
    "\n",
    "## Specific Dataset - Pacific States\n",
    "Dataset Name: The Best Colleges in Washington by Salary Potential\n",
    "\n",
    "Link to the dataset: https://www.payscale.com/college-salary-report/best-schools-by-state/bachelors/washington  \n",
    "\n",
    "Number of observations: 26\n",
    "\n",
    "This dataset allows us to view Washington specific colleges categorized by the same name, school type, early career pay, and the percent of STEM degrees. \n",
    "\n",
    "## Specific Dataset - Northeast States\n",
    "Dataset Name: The Best Colleges in Connecticut by Salary Potential\n",
    "\n",
    "Link to the dataset: https://www.payscale.com/college-salary-report/best-schools-by-state/bachelors/connecticut \n",
    "\n",
    "Number of observations: 19\n",
    "\n",
    "This dataset allows us to view Connecticut specific colleges categorized by the same name, school type, early career pay, and the percent of STEM degrees. \n",
    "\n",
    "## Specific Dataset - Northeast States\n",
    "Dataset Name: The Best Colleges in Maine by Salary Potential\n",
    "\n",
    "Link to the dataset: https://www.payscale.com/college-salary-report/best-schools-by-state/bachelors/maine \n",
    "\n",
    "Number of observations: 17 \n",
    "\n",
    "This dataset allows us to view Maine specific colleges categorized by the same name, school type, early career pay, and the percent of STEM degrees. \n",
    "\n",
    "## Specific Dataset - Northeast States\n",
    "Dataset Name: The Best Colleges in Massachusetts by Salary Potential\n",
    "\n",
    "Link to the dataset: https://www.payscale.com/college-salary-report/best-schools-by-state/bachelors/massachusetts  \n",
    "\n",
    "Number of observations: 64\n",
    "\n",
    "This dataset allows us to view Massachusetts specific colleges categorized by the same name, school type, early career pay, and the percent of STEM degrees. \n",
    "\n",
    "## Specific Dataset - Northeast States\n",
    "Dataset Name: The Best Colleges in New Hampshire by Salary Potential\n",
    "\n",
    "Link to the dataset: https://www.payscale.com/college-salary-report/best-schools-by-state/bachelors/new-hampshire  \n",
    "\n",
    "Number of observations: 13\n",
    "\n",
    "This dataset allows us to view New Hampshire specific colleges categorized by the same name, school type, early career pay, and the percent of STEM degrees. \n",
    "\n",
    "## Specific Dataset - Northeast States\n",
    "Dataset Name: The Best Colleges in New Jersey by Salary Potential\n",
    "\n",
    "Link to the dataset: https://www.payscale.com/college-salary-report/best-schools-by-state/bachelors/new-jersey  \n",
    "\n",
    "Number of observations: 28\n",
    "\n",
    "This dataset allows us to view New Jersey specific colleges categorized by the same name, school type, early career pay, and the percent of STEM degrees. \n",
    "\n",
    "## Specific Dataset - Northeast States\n",
    "Dataset Name: The Best Colleges in New York by Salary Potential\n",
    "\n",
    "Link to the dataset: https://www.payscale.com/college-salary-report/best-schools-by-state/bachelors/new-york   \n",
    "\n",
    "Number of observations: 119\n",
    "\n",
    "This dataset allows us to view New York specific colleges categorized by the same name, school type, early career pay, and the percent of STEM degrees. \n",
    "\n",
    "## Specific Dataset - Northeast States\n",
    "Dataset Name: The Best Colleges in Pennsylvania by Salary Potential\n",
    "\n",
    "Link to the dataset: https://www.payscale.com/college-salary-report/best-schools-by-state/bachelors/pennsylvania   \n",
    "\n",
    "Number of observations: 103\n",
    "\n",
    "This dataset allows us to view Pennsylvania specific colleges categorized by the same name, school type, early career pay, and the percent of STEM degrees. \n",
    "\n",
    "## Specific Dataset - Northeast States\n",
    "Dataset Name: The Best Colleges in Rhode Island by Salary Potential\n",
    "\n",
    "Link to the dataset: https://www.payscale.com/college-salary-report/best-schools-by-state/bachelors/rhode-island    \n",
    "\n",
    "Number of observations: 11\n",
    "This dataset allows us to view Rhode Island specific colleges categorized by the same name, school type, early career pay, and the percent of STEM degrees. \n",
    "\n",
    "## Specific Dataset - Northeast States\n",
    "Dataset Name: The Best Colleges in Vermont by Salary Potential\n",
    "\n",
    "Link to the dataset: https://www.payscale.com/college-salary-report/best-schools-by-state/bachelors/vermont    \n",
    "\n",
    "Number of observations: 10\n",
    "\n",
    "This dataset allows us to view Vermont specific colleges categorized by the same name, school type, early career pay, and the percent of STEM degrees. \n",
    "\n",
    "We plan on combining the “Specific Dataset - Pacific States” together and then the “Specific Dataset - Northeast States” together so that we can analyze the effects of region on the post-graduation salary of a public vs private university. Since all of the “Specific Datasets” have the same names as the main dataset, we can seamlessly merge the California, Alaska, Oregon, Washington, and Hawaii as Pacific Dataset, and then Connecticut, Maine, Massachusetts, New Hampshire, New Jersey, New York, Pennsylvania, Rhode Island, and Vermont as the Northeast Dataset. "
   ]
  },
  {
   "cell_type": "markdown",
   "metadata": {},
   "source": [
    "# Setup"
   ]
  },
  {
   "cell_type": "markdown",
   "metadata": {},
   "source": [
    "The following are packages imported that are needed to perform our analysis"
   ]
  },
  {
   "cell_type": "code",
   "execution_count": 1,
   "metadata": {},
   "outputs": [],
   "source": [
    "import requests\n",
    "import pandas as pd\n",
    "from bs4 import BeautifulSoup\n",
    "\n",
    "%matplotlib inline\n",
    "import numpy as np\n",
    "\n",
    "# Import seaborn and apply its plotting styles\n",
    "import seaborn as sns\n",
    "sns.set(font_scale=2, style=\"white\")\n",
    "\n",
    "# import matplotlib\n",
    "import matplotlib as mpl\n",
    "import matplotlib.pyplot as plt\n",
    "import matplotlib.style as style\n",
    "# set plotting size parameter\n",
    "plt.rcParams['figure.figsize'] = (12, 5)\n",
    "\n",
    "# import patsy\n",
    "import patsy\n",
    "import statsmodels.api as sm\n",
    "import scipy.stats as stats\n",
    "from scipy.stats import ttest_ind, chisquare, normaltest"
   ]
  },
  {
   "cell_type": "markdown",
   "metadata": {},
   "source": [
    "## Webscraping\n",
    "**The data use in our analysis has been taken from tables on the webpages of our sources. The following is the code used to scrape the data off those sites into usable dataframes.**"
   ]
  },
  {
   "cell_type": "markdown",
   "metadata": {},
   "source": [
    "The function webscrapePayscale takes a url and the number of pages the table is and extracts the datatable of colleges from the Payscale website. We use this to extract all Payscale datasets."
   ]
  },
  {
   "cell_type": "code",
   "execution_count": 2,
   "metadata": {},
   "outputs": [],
   "source": [
    "def webscrapePayscale(url, pages):\n",
    "    # we first extract the first part of the table from the first page\n",
    "\n",
    "    page = requests.get(url).text\n",
    "\n",
    "    soup = BeautifulSoup(page, 'lxml')\n",
    "\n",
    "    # extract table tag\n",
    "    table = soup.find(\"table\", attrs={\"class\": \"data-table\"})\n",
    "    # # extract data tags\n",
    "    table_data = table.tbody.find_all(\"tr\")\n",
    "\n",
    "    # this will store the table headers\n",
    "    headings = []\n",
    "\n",
    "    # extract table headings\n",
    "    for head in table_data[0].find_all(\"td\"):\n",
    "        headings.append(head.text.replace('\\n', ' ').strip().split(':')[0])\n",
    "\n",
    "    # this will store all the rows of data for the table\n",
    "    # data is a list of dictionaries where each dictionary is an row in the table\n",
    "    data = []\n",
    "\n",
    "    # iterate over all rows\n",
    "    for row in table_data:\n",
    "        r={}\n",
    "        for td, th in zip(row.find_all(\"td\"), headings):\n",
    "            r[th]=td.text.replace('\\n', ' ').strip().split(':')[1]\n",
    "        data.append(r)\n",
    "    \n",
    "    # if the table consists of more than one webpage\n",
    "    if pages>0:\n",
    "        # iterate over all pages of the table following previously defined steps\n",
    "        for i in range(2, pages+1):\n",
    "            urlis = url+\"page/\"+str(i)\n",
    "            page = requests.get(urlis).text\n",
    "\n",
    "            soup = BeautifulSoup(page, 'lxml')\n",
    "\n",
    "            table = soup.find(\"table\", attrs={\"class\": \"data-table\"})\n",
    "            table_data = table.tbody.find_all(\"tr\")\n",
    "\n",
    "            for row in table_data:\n",
    "                r={}\n",
    "                for td, th in zip(row.find_all(\"td\"), headings):\n",
    "                    r[th]=td.text.replace('\\n', ' ').strip().split(':')[1]\n",
    "                data.append(r)\n",
    "\n",
    "    # convert to pandas dataframe\n",
    "    outputdf = pd.DataFrame(data)\n",
    "    return outputdf\n",
    "\n",
    "    "
   ]
  },
  {
   "cell_type": "markdown",
   "metadata": {},
   "source": [
    "## Pacific States Payscale\n",
    "- California\n",
    "- Alaska\n",
    "- Oregon\n",
    "- Washington\n",
    "- Hawaii"
   ]
  },
  {
   "cell_type": "markdown",
   "metadata": {},
   "source": [
    "### California"
   ]
  },
  {
   "cell_type": "code",
   "execution_count": 3,
   "metadata": {},
   "outputs": [
    {
     "data": {
      "text/html": [
       "<div>\n",
       "<style scoped>\n",
       "    .dataframe tbody tr th:only-of-type {\n",
       "        vertical-align: middle;\n",
       "    }\n",
       "\n",
       "    .dataframe tbody tr th {\n",
       "        vertical-align: top;\n",
       "    }\n",
       "\n",
       "    .dataframe thead th {\n",
       "        text-align: right;\n",
       "    }\n",
       "</style>\n",
       "<table border=\"1\" class=\"dataframe\">\n",
       "  <thead>\n",
       "    <tr style=\"text-align: right;\">\n",
       "      <th></th>\n",
       "      <th>Rank</th>\n",
       "      <th>School Name</th>\n",
       "      <th>School Type</th>\n",
       "      <th>Early Career Pay</th>\n",
       "      <th>Mid-Career Pay</th>\n",
       "      <th>% High Meaning</th>\n",
       "      <th>% STEM Degrees</th>\n",
       "    </tr>\n",
       "  </thead>\n",
       "  <tbody>\n",
       "    <tr>\n",
       "      <th>0</th>\n",
       "      <td>1</td>\n",
       "      <td>Harvey Mudd College</td>\n",
       "      <td>Engineering, Liberal Arts School, Private School</td>\n",
       "      <td>$91,400</td>\n",
       "      <td>$162,500</td>\n",
       "      <td>56%</td>\n",
       "      <td>85%</td>\n",
       "    </tr>\n",
       "    <tr>\n",
       "      <th>1</th>\n",
       "      <td>2</td>\n",
       "      <td>California Institute of Technology</td>\n",
       "      <td>Engineering, Private School, Research University</td>\n",
       "      <td>$87,600</td>\n",
       "      <td>$150,300</td>\n",
       "      <td>56%</td>\n",
       "      <td>97%</td>\n",
       "    </tr>\n",
       "    <tr>\n",
       "      <th>2</th>\n",
       "      <td>3</td>\n",
       "      <td>Stanford University</td>\n",
       "      <td>Engineering, Private School, Research Universi...</td>\n",
       "      <td>$81,800</td>\n",
       "      <td>$147,100</td>\n",
       "      <td>56%</td>\n",
       "      <td>51%</td>\n",
       "    </tr>\n",
       "    <tr>\n",
       "      <th>3</th>\n",
       "      <td>4</td>\n",
       "      <td>Santa Clara University</td>\n",
       "      <td>Private School, Religious, For Sports Fans</td>\n",
       "      <td>$71,100</td>\n",
       "      <td>$146,300</td>\n",
       "      <td>45%</td>\n",
       "      <td>29%</td>\n",
       "    </tr>\n",
       "    <tr>\n",
       "      <th>4</th>\n",
       "      <td>5</td>\n",
       "      <td>University of California-Berkeley</td>\n",
       "      <td>Research University, For Sports Fans, State Sc...</td>\n",
       "      <td>$72,600</td>\n",
       "      <td>$138,800</td>\n",
       "      <td>49%</td>\n",
       "      <td>36%</td>\n",
       "    </tr>\n",
       "  </tbody>\n",
       "</table>\n",
       "</div>"
      ],
      "text/plain": [
       "  Rank                         School Name  \\\n",
       "0    1                 Harvey Mudd College   \n",
       "1    2  California Institute of Technology   \n",
       "2    3                 Stanford University   \n",
       "3    4              Santa Clara University   \n",
       "4    5   University of California-Berkeley   \n",
       "\n",
       "                                         School Type Early Career Pay  \\\n",
       "0   Engineering, Liberal Arts School, Private School          $91,400   \n",
       "1   Engineering, Private School, Research University          $87,600   \n",
       "2  Engineering, Private School, Research Universi...          $81,800   \n",
       "3         Private School, Religious, For Sports Fans          $71,100   \n",
       "4  Research University, For Sports Fans, State Sc...          $72,600   \n",
       "\n",
       "  Mid-Career Pay % High Meaning % STEM Degrees  \n",
       "0       $162,500            56%            85%  \n",
       "1       $150,300            56%            97%  \n",
       "2       $147,100            56%            51%  \n",
       "3       $146,300            45%            29%  \n",
       "4       $138,800            49%            36%  "
      ]
     },
     "execution_count": 3,
     "metadata": {},
     "output_type": "execute_result"
    }
   ],
   "source": [
    "payscale_Cal = webscrapePayscale(\"https://www.payscale.com/college-salary-report/best-schools-by-state/bachelors/california/\", 4)\n",
    "payscale_Cal.head()"
   ]
  },
  {
   "cell_type": "markdown",
   "metadata": {},
   "source": [
    "### Alaska"
   ]
  },
  {
   "cell_type": "code",
   "execution_count": 4,
   "metadata": {},
   "outputs": [
    {
     "data": {
      "text/html": [
       "<div>\n",
       "<style scoped>\n",
       "    .dataframe tbody tr th:only-of-type {\n",
       "        vertical-align: middle;\n",
       "    }\n",
       "\n",
       "    .dataframe tbody tr th {\n",
       "        vertical-align: top;\n",
       "    }\n",
       "\n",
       "    .dataframe thead th {\n",
       "        text-align: right;\n",
       "    }\n",
       "</style>\n",
       "<table border=\"1\" class=\"dataframe\">\n",
       "  <thead>\n",
       "    <tr style=\"text-align: right;\">\n",
       "      <th></th>\n",
       "      <th>Rank</th>\n",
       "      <th>School Name</th>\n",
       "      <th>School Type</th>\n",
       "      <th>Early Career Pay</th>\n",
       "      <th>Mid-Career Pay</th>\n",
       "      <th>% High Meaning</th>\n",
       "      <th>% STEM Degrees</th>\n",
       "    </tr>\n",
       "  </thead>\n",
       "  <tbody>\n",
       "    <tr>\n",
       "      <th>0</th>\n",
       "      <td>1</td>\n",
       "      <td>University of Alaska Fairbanks</td>\n",
       "      <td>Research University, State School</td>\n",
       "      <td>$60,000</td>\n",
       "      <td>$101,100</td>\n",
       "      <td>53%</td>\n",
       "      <td>20%</td>\n",
       "    </tr>\n",
       "    <tr>\n",
       "      <th>1</th>\n",
       "      <td>2</td>\n",
       "      <td>University of Alaska Anchorage</td>\n",
       "      <td>State School</td>\n",
       "      <td>$57,900</td>\n",
       "      <td>$100,400</td>\n",
       "      <td>58%</td>\n",
       "      <td>10%</td>\n",
       "    </tr>\n",
       "    <tr>\n",
       "      <th>2</th>\n",
       "      <td>3</td>\n",
       "      <td>Alaska Pacific University</td>\n",
       "      <td>Private School, Religious</td>\n",
       "      <td>$51,500</td>\n",
       "      <td>$88,100</td>\n",
       "      <td>60%</td>\n",
       "      <td>6%</td>\n",
       "    </tr>\n",
       "    <tr>\n",
       "      <th>3</th>\n",
       "      <td>4</td>\n",
       "      <td>University of Alaska Southeast</td>\n",
       "      <td>State School</td>\n",
       "      <td>$53,000</td>\n",
       "      <td>$81,200</td>\n",
       "      <td>74%</td>\n",
       "      <td>3%</td>\n",
       "    </tr>\n",
       "  </tbody>\n",
       "</table>\n",
       "</div>"
      ],
      "text/plain": [
       "  Rank                     School Name                        School Type  \\\n",
       "0    1  University of Alaska Fairbanks  Research University, State School   \n",
       "1    2  University of Alaska Anchorage                       State School   \n",
       "2    3       Alaska Pacific University          Private School, Religious   \n",
       "3    4  University of Alaska Southeast                       State School   \n",
       "\n",
       "  Early Career Pay Mid-Career Pay % High Meaning % STEM Degrees  \n",
       "0          $60,000       $101,100            53%            20%  \n",
       "1          $57,900       $100,400            58%            10%  \n",
       "2          $51,500        $88,100            60%             6%  \n",
       "3          $53,000        $81,200            74%             3%  "
      ]
     },
     "execution_count": 4,
     "metadata": {},
     "output_type": "execute_result"
    }
   ],
   "source": [
    "payscale_Alaska = webscrapePayscale(\"https://www.payscale.com/college-salary-report/best-schools-by-state/bachelors/alaska/\", 0)\n",
    "payscale_Alaska.head()"
   ]
  },
  {
   "cell_type": "markdown",
   "metadata": {},
   "source": [
    "### Oregon"
   ]
  },
  {
   "cell_type": "code",
   "execution_count": 5,
   "metadata": {},
   "outputs": [
    {
     "data": {
      "text/html": [
       "<div>\n",
       "<style scoped>\n",
       "    .dataframe tbody tr th:only-of-type {\n",
       "        vertical-align: middle;\n",
       "    }\n",
       "\n",
       "    .dataframe tbody tr th {\n",
       "        vertical-align: top;\n",
       "    }\n",
       "\n",
       "    .dataframe thead th {\n",
       "        text-align: right;\n",
       "    }\n",
       "</style>\n",
       "<table border=\"1\" class=\"dataframe\">\n",
       "  <thead>\n",
       "    <tr style=\"text-align: right;\">\n",
       "      <th></th>\n",
       "      <th>Rank</th>\n",
       "      <th>School Name</th>\n",
       "      <th>School Type</th>\n",
       "      <th>Early Career Pay</th>\n",
       "      <th>Mid-Career Pay</th>\n",
       "      <th>% High Meaning</th>\n",
       "      <th>% STEM Degrees</th>\n",
       "    </tr>\n",
       "  </thead>\n",
       "  <tbody>\n",
       "    <tr>\n",
       "      <th>0</th>\n",
       "      <td>1</td>\n",
       "      <td>Reed College</td>\n",
       "      <td>Liberal Arts School, Private School</td>\n",
       "      <td>$57,300</td>\n",
       "      <td>$109,700</td>\n",
       "      <td>45%</td>\n",
       "      <td>26%</td>\n",
       "    </tr>\n",
       "    <tr>\n",
       "      <th>1</th>\n",
       "      <td>2</td>\n",
       "      <td>Willamette University</td>\n",
       "      <td>Liberal Arts School, Private School</td>\n",
       "      <td>$52,800</td>\n",
       "      <td>$108,900</td>\n",
       "      <td>51%</td>\n",
       "      <td>14%</td>\n",
       "    </tr>\n",
       "    <tr>\n",
       "      <th>2</th>\n",
       "      <td>3</td>\n",
       "      <td>University of Portland</td>\n",
       "      <td>Private School, Religious, For Sports Fans</td>\n",
       "      <td>$60,200</td>\n",
       "      <td>$106,300</td>\n",
       "      <td>53%</td>\n",
       "      <td>28%</td>\n",
       "    </tr>\n",
       "    <tr>\n",
       "      <th>3</th>\n",
       "      <td>4</td>\n",
       "      <td>Oregon State University</td>\n",
       "      <td>Research University, For Sports Fans, State Sc...</td>\n",
       "      <td>$57,700</td>\n",
       "      <td>$104,500</td>\n",
       "      <td>53%</td>\n",
       "      <td>34%</td>\n",
       "    </tr>\n",
       "    <tr>\n",
       "      <th>4</th>\n",
       "      <td>5</td>\n",
       "      <td>Oregon Institute of Technology</td>\n",
       "      <td>State School</td>\n",
       "      <td>$63,100</td>\n",
       "      <td>$104,100</td>\n",
       "      <td>60%</td>\n",
       "      <td>27%</td>\n",
       "    </tr>\n",
       "  </tbody>\n",
       "</table>\n",
       "</div>"
      ],
      "text/plain": [
       "  Rank                     School Name  \\\n",
       "0    1                    Reed College   \n",
       "1    2           Willamette University   \n",
       "2    3          University of Portland   \n",
       "3    4         Oregon State University   \n",
       "4    5  Oregon Institute of Technology   \n",
       "\n",
       "                                         School Type Early Career Pay  \\\n",
       "0                Liberal Arts School, Private School          $57,300   \n",
       "1                Liberal Arts School, Private School          $52,800   \n",
       "2         Private School, Religious, For Sports Fans          $60,200   \n",
       "3  Research University, For Sports Fans, State Sc...          $57,700   \n",
       "4                                       State School          $63,100   \n",
       "\n",
       "  Mid-Career Pay % High Meaning % STEM Degrees  \n",
       "0       $109,700            45%            26%  \n",
       "1       $108,900            51%            14%  \n",
       "2       $106,300            53%            28%  \n",
       "3       $104,500            53%            34%  \n",
       "4       $104,100            60%            27%  "
      ]
     },
     "execution_count": 5,
     "metadata": {},
     "output_type": "execute_result"
    }
   ],
   "source": [
    "payscale_Or = webscrapePayscale(\"https://www.payscale.com/college-salary-report/best-schools-by-state/bachelors/oregon/\", 0)\n",
    "payscale_Or.head()"
   ]
  },
  {
   "cell_type": "markdown",
   "metadata": {},
   "source": [
    "### Washington "
   ]
  },
  {
   "cell_type": "code",
   "execution_count": 6,
   "metadata": {},
   "outputs": [
    {
     "data": {
      "text/html": [
       "<div>\n",
       "<style scoped>\n",
       "    .dataframe tbody tr th:only-of-type {\n",
       "        vertical-align: middle;\n",
       "    }\n",
       "\n",
       "    .dataframe tbody tr th {\n",
       "        vertical-align: top;\n",
       "    }\n",
       "\n",
       "    .dataframe thead th {\n",
       "        text-align: right;\n",
       "    }\n",
       "</style>\n",
       "<table border=\"1\" class=\"dataframe\">\n",
       "  <thead>\n",
       "    <tr style=\"text-align: right;\">\n",
       "      <th></th>\n",
       "      <th>Rank</th>\n",
       "      <th>School Name</th>\n",
       "      <th>School Type</th>\n",
       "      <th>Early Career Pay</th>\n",
       "      <th>Mid-Career Pay</th>\n",
       "      <th>% High Meaning</th>\n",
       "      <th>% STEM Degrees</th>\n",
       "    </tr>\n",
       "  </thead>\n",
       "  <tbody>\n",
       "    <tr>\n",
       "      <th>0</th>\n",
       "      <td>1</td>\n",
       "      <td>Seattle University</td>\n",
       "      <td>Private School, Religious, For Sports Fans</td>\n",
       "      <td>$61,900</td>\n",
       "      <td>$115,700</td>\n",
       "      <td>58%</td>\n",
       "      <td>12%</td>\n",
       "    </tr>\n",
       "    <tr>\n",
       "      <th>1</th>\n",
       "      <td>2</td>\n",
       "      <td>University of Washington-Seattle Campus</td>\n",
       "      <td>Research University, For Sports Fans, State Sc...</td>\n",
       "      <td>$63,300</td>\n",
       "      <td>$115,400</td>\n",
       "      <td>52%</td>\n",
       "      <td>34%</td>\n",
       "    </tr>\n",
       "    <tr>\n",
       "      <th>2</th>\n",
       "      <td>3</td>\n",
       "      <td>Whitman College</td>\n",
       "      <td>Liberal Arts School, Private School</td>\n",
       "      <td>$55,800</td>\n",
       "      <td>$114,500</td>\n",
       "      <td>52%</td>\n",
       "      <td>33%</td>\n",
       "    </tr>\n",
       "    <tr>\n",
       "      <th>3</th>\n",
       "      <td>4</td>\n",
       "      <td>Gonzaga University</td>\n",
       "      <td>Private School, Religious, For Sports Fans</td>\n",
       "      <td>$59,400</td>\n",
       "      <td>$112,700</td>\n",
       "      <td>51%</td>\n",
       "      <td>19%</td>\n",
       "    </tr>\n",
       "    <tr>\n",
       "      <th>4</th>\n",
       "      <td>5</td>\n",
       "      <td>Seattle Pacific University</td>\n",
       "      <td>Private School, Religious, Research University</td>\n",
       "      <td>$54,400</td>\n",
       "      <td>$108,800</td>\n",
       "      <td>53%</td>\n",
       "      <td>9%</td>\n",
       "    </tr>\n",
       "  </tbody>\n",
       "</table>\n",
       "</div>"
      ],
      "text/plain": [
       "  Rank                              School Name  \\\n",
       "0    1                       Seattle University   \n",
       "1    2  University of Washington-Seattle Campus   \n",
       "2    3                          Whitman College   \n",
       "3    4                       Gonzaga University   \n",
       "4    5               Seattle Pacific University   \n",
       "\n",
       "                                         School Type Early Career Pay  \\\n",
       "0         Private School, Religious, For Sports Fans          $61,900   \n",
       "1  Research University, For Sports Fans, State Sc...          $63,300   \n",
       "2                Liberal Arts School, Private School          $55,800   \n",
       "3         Private School, Religious, For Sports Fans          $59,400   \n",
       "4     Private School, Religious, Research University          $54,400   \n",
       "\n",
       "  Mid-Career Pay % High Meaning % STEM Degrees  \n",
       "0       $115,700            58%            12%  \n",
       "1       $115,400            52%            34%  \n",
       "2       $114,500            52%            33%  \n",
       "3       $112,700            51%            19%  \n",
       "4       $108,800            53%             9%  "
      ]
     },
     "execution_count": 6,
     "metadata": {},
     "output_type": "execute_result"
    }
   ],
   "source": [
    "payscale_Wash = webscrapePayscale(\"https://www.payscale.com/college-salary-report/best-schools-by-state/bachelors/washington/\", 0)\n",
    "payscale_Wash.head()"
   ]
  },
  {
   "cell_type": "markdown",
   "metadata": {},
   "source": [
    "### Hawaii"
   ]
  },
  {
   "cell_type": "code",
   "execution_count": 7,
   "metadata": {},
   "outputs": [
    {
     "data": {
      "text/html": [
       "<div>\n",
       "<style scoped>\n",
       "    .dataframe tbody tr th:only-of-type {\n",
       "        vertical-align: middle;\n",
       "    }\n",
       "\n",
       "    .dataframe tbody tr th {\n",
       "        vertical-align: top;\n",
       "    }\n",
       "\n",
       "    .dataframe thead th {\n",
       "        text-align: right;\n",
       "    }\n",
       "</style>\n",
       "<table border=\"1\" class=\"dataframe\">\n",
       "  <thead>\n",
       "    <tr style=\"text-align: right;\">\n",
       "      <th></th>\n",
       "      <th>Rank</th>\n",
       "      <th>School Name</th>\n",
       "      <th>School Type</th>\n",
       "      <th>Early Career Pay</th>\n",
       "      <th>Mid-Career Pay</th>\n",
       "      <th>% High Meaning</th>\n",
       "      <th>% STEM Degrees</th>\n",
       "    </tr>\n",
       "  </thead>\n",
       "  <tbody>\n",
       "    <tr>\n",
       "      <th>0</th>\n",
       "      <td>1</td>\n",
       "      <td>Brigham Young University-Hawaii</td>\n",
       "      <td>Private School, Religious</td>\n",
       "      <td>$53,000</td>\n",
       "      <td>$99,800</td>\n",
       "      <td>59%</td>\n",
       "      <td>12%</td>\n",
       "    </tr>\n",
       "    <tr>\n",
       "      <th>1</th>\n",
       "      <td>2</td>\n",
       "      <td>Hawaii Pacific University</td>\n",
       "      <td>Private School</td>\n",
       "      <td>$53,300</td>\n",
       "      <td>$94,000</td>\n",
       "      <td>59%</td>\n",
       "      <td>15%</td>\n",
       "    </tr>\n",
       "    <tr>\n",
       "      <th>2</th>\n",
       "      <td>3</td>\n",
       "      <td>University of Hawaii at Manoa</td>\n",
       "      <td>Research University, For Sports Fans, State Sc...</td>\n",
       "      <td>$52,800</td>\n",
       "      <td>$92,400</td>\n",
       "      <td>57%</td>\n",
       "      <td>18%</td>\n",
       "    </tr>\n",
       "    <tr>\n",
       "      <th>3</th>\n",
       "      <td>4</td>\n",
       "      <td>Chaminade University of Honolulu</td>\n",
       "      <td>Private School, Religious</td>\n",
       "      <td>$46,400</td>\n",
       "      <td>$89,600</td>\n",
       "      <td>53%</td>\n",
       "      <td>3%</td>\n",
       "    </tr>\n",
       "    <tr>\n",
       "      <th>4</th>\n",
       "      <td>5</td>\n",
       "      <td>University of Hawaii-West Oahu</td>\n",
       "      <td>State School</td>\n",
       "      <td>$43,600</td>\n",
       "      <td>$76,800</td>\n",
       "      <td>57%</td>\n",
       "      <td>0%</td>\n",
       "    </tr>\n",
       "  </tbody>\n",
       "</table>\n",
       "</div>"
      ],
      "text/plain": [
       "  Rank                       School Name  \\\n",
       "0    1   Brigham Young University-Hawaii   \n",
       "1    2         Hawaii Pacific University   \n",
       "2    3     University of Hawaii at Manoa   \n",
       "3    4  Chaminade University of Honolulu   \n",
       "4    5    University of Hawaii-West Oahu   \n",
       "\n",
       "                                         School Type Early Career Pay  \\\n",
       "0                          Private School, Religious          $53,000   \n",
       "1                                     Private School          $53,300   \n",
       "2  Research University, For Sports Fans, State Sc...          $52,800   \n",
       "3                          Private School, Religious          $46,400   \n",
       "4                                       State School          $43,600   \n",
       "\n",
       "  Mid-Career Pay % High Meaning % STEM Degrees  \n",
       "0        $99,800            59%            12%  \n",
       "1        $94,000            59%            15%  \n",
       "2        $92,400            57%            18%  \n",
       "3        $89,600            53%             3%  \n",
       "4        $76,800            57%             0%  "
      ]
     },
     "execution_count": 7,
     "metadata": {},
     "output_type": "execute_result"
    }
   ],
   "source": [
    "payscale_Haw = webscrapePayscale(\"https://www.payscale.com/college-salary-report/best-schools-by-state/bachelors/hawaii/\", 0)\n",
    "payscale_Haw.head()"
   ]
  },
  {
   "cell_type": "markdown",
   "metadata": {},
   "source": []
  },
  {
   "cell_type": "markdown",
   "metadata": {},
   "source": [
    "## Northeastern States Payscale:\n",
    "- Connecticut\n",
    "- Maine\n",
    "- Massachusetts\n",
    "- New Hampshire\n",
    "- New Jersey\n",
    "- New York\n",
    "- Pennsylvania\n",
    "- Rhode Island\n",
    "- Vermont"
   ]
  },
  {
   "cell_type": "markdown",
   "metadata": {},
   "source": []
  },
  {
   "cell_type": "markdown",
   "metadata": {},
   "source": [
    "### Connecticut"
   ]
  },
  {
   "cell_type": "code",
   "execution_count": 8,
   "metadata": {},
   "outputs": [
    {
     "data": {
      "text/html": [
       "<div>\n",
       "<style scoped>\n",
       "    .dataframe tbody tr th:only-of-type {\n",
       "        vertical-align: middle;\n",
       "    }\n",
       "\n",
       "    .dataframe tbody tr th {\n",
       "        vertical-align: top;\n",
       "    }\n",
       "\n",
       "    .dataframe thead th {\n",
       "        text-align: right;\n",
       "    }\n",
       "</style>\n",
       "<table border=\"1\" class=\"dataframe\">\n",
       "  <thead>\n",
       "    <tr style=\"text-align: right;\">\n",
       "      <th></th>\n",
       "      <th>Rank</th>\n",
       "      <th>School Name</th>\n",
       "      <th>School Type</th>\n",
       "      <th>Early Career Pay</th>\n",
       "      <th>Mid-Career Pay</th>\n",
       "      <th>% High Meaning</th>\n",
       "      <th>% STEM Degrees</th>\n",
       "    </tr>\n",
       "  </thead>\n",
       "  <tbody>\n",
       "    <tr>\n",
       "      <th>0</th>\n",
       "      <td>1</td>\n",
       "      <td>Yale University</td>\n",
       "      <td>Ivy League, Private School, Research Universit...</td>\n",
       "      <td>$72,700</td>\n",
       "      <td>$141,300</td>\n",
       "      <td>53%</td>\n",
       "      <td>22%</td>\n",
       "    </tr>\n",
       "    <tr>\n",
       "      <th>1</th>\n",
       "      <td>2</td>\n",
       "      <td>Wesleyan University</td>\n",
       "      <td>Liberal Arts School, Private School</td>\n",
       "      <td>$62,700</td>\n",
       "      <td>$123,600</td>\n",
       "      <td>51%</td>\n",
       "      <td>21%</td>\n",
       "    </tr>\n",
       "    <tr>\n",
       "      <th>2</th>\n",
       "      <td>3</td>\n",
       "      <td>Fairfield University</td>\n",
       "      <td>Private School, Religious, For Sports Fans</td>\n",
       "      <td>$63,100</td>\n",
       "      <td>$122,200</td>\n",
       "      <td>41%</td>\n",
       "      <td>17%</td>\n",
       "    </tr>\n",
       "    <tr>\n",
       "      <th>3</th>\n",
       "      <td>4</td>\n",
       "      <td>United States Coast Guard Academy</td>\n",
       "      <td>Engineering, State School</td>\n",
       "      <td>$72,600</td>\n",
       "      <td>$119,200</td>\n",
       "      <td>70%</td>\n",
       "      <td>69%</td>\n",
       "    </tr>\n",
       "    <tr>\n",
       "      <th>4</th>\n",
       "      <td>5</td>\n",
       "      <td>Trinity College</td>\n",
       "      <td>Liberal Arts School, Private School</td>\n",
       "      <td>$60,700</td>\n",
       "      <td>$116,800</td>\n",
       "      <td>51%</td>\n",
       "      <td>22%</td>\n",
       "    </tr>\n",
       "  </tbody>\n",
       "</table>\n",
       "</div>"
      ],
      "text/plain": [
       "  Rank                        School Name  \\\n",
       "0    1                    Yale University   \n",
       "1    2                Wesleyan University   \n",
       "2    3               Fairfield University   \n",
       "3    4  United States Coast Guard Academy   \n",
       "4    5                    Trinity College   \n",
       "\n",
       "                                         School Type Early Career Pay  \\\n",
       "0  Ivy League, Private School, Research Universit...          $72,700   \n",
       "1                Liberal Arts School, Private School          $62,700   \n",
       "2         Private School, Religious, For Sports Fans          $63,100   \n",
       "3                          Engineering, State School          $72,600   \n",
       "4                Liberal Arts School, Private School          $60,700   \n",
       "\n",
       "  Mid-Career Pay % High Meaning % STEM Degrees  \n",
       "0       $141,300            53%            22%  \n",
       "1       $123,600            51%            21%  \n",
       "2       $122,200            41%            17%  \n",
       "3       $119,200            70%            69%  \n",
       "4       $116,800            51%            22%  "
      ]
     },
     "execution_count": 8,
     "metadata": {},
     "output_type": "execute_result"
    }
   ],
   "source": [
    "payscale_Conn = webscrapePayscale(\"https://www.payscale.com/college-salary-report/best-schools-by-state/bachelors/connecticut/\", 0)\n",
    "payscale_Conn.head()"
   ]
  },
  {
   "cell_type": "markdown",
   "metadata": {},
   "source": [
    "### Maine"
   ]
  },
  {
   "cell_type": "code",
   "execution_count": 9,
   "metadata": {},
   "outputs": [
    {
     "data": {
      "text/html": [
       "<div>\n",
       "<style scoped>\n",
       "    .dataframe tbody tr th:only-of-type {\n",
       "        vertical-align: middle;\n",
       "    }\n",
       "\n",
       "    .dataframe tbody tr th {\n",
       "        vertical-align: top;\n",
       "    }\n",
       "\n",
       "    .dataframe thead th {\n",
       "        text-align: right;\n",
       "    }\n",
       "</style>\n",
       "<table border=\"1\" class=\"dataframe\">\n",
       "  <thead>\n",
       "    <tr style=\"text-align: right;\">\n",
       "      <th></th>\n",
       "      <th>Rank</th>\n",
       "      <th>School Name</th>\n",
       "      <th>School Type</th>\n",
       "      <th>Early Career Pay</th>\n",
       "      <th>Mid-Career Pay</th>\n",
       "      <th>% High Meaning</th>\n",
       "      <th>% STEM Degrees</th>\n",
       "    </tr>\n",
       "  </thead>\n",
       "  <tbody>\n",
       "    <tr>\n",
       "      <th>0</th>\n",
       "      <td>1</td>\n",
       "      <td>Bates College</td>\n",
       "      <td>Liberal Arts School, Private School</td>\n",
       "      <td>$59,100</td>\n",
       "      <td>$124,500</td>\n",
       "      <td>52%</td>\n",
       "      <td>23%</td>\n",
       "    </tr>\n",
       "    <tr>\n",
       "      <th>1</th>\n",
       "      <td>2</td>\n",
       "      <td>Bowdoin College</td>\n",
       "      <td>Liberal Arts School, Private School</td>\n",
       "      <td>$62,800</td>\n",
       "      <td>$124,400</td>\n",
       "      <td>55%</td>\n",
       "      <td>37%</td>\n",
       "    </tr>\n",
       "    <tr>\n",
       "      <th>2</th>\n",
       "      <td>3</td>\n",
       "      <td>Maine Maritime Academy</td>\n",
       "      <td>State School</td>\n",
       "      <td>$67,600</td>\n",
       "      <td>$124,000</td>\n",
       "      <td>63%</td>\n",
       "      <td>48%</td>\n",
       "    </tr>\n",
       "    <tr>\n",
       "      <th>3</th>\n",
       "      <td>4</td>\n",
       "      <td>Colby College</td>\n",
       "      <td>Liberal Arts School, Private School</td>\n",
       "      <td>$61,000</td>\n",
       "      <td>$105,700</td>\n",
       "      <td>50%</td>\n",
       "      <td>25%</td>\n",
       "    </tr>\n",
       "    <tr>\n",
       "      <th>4</th>\n",
       "      <td>5</td>\n",
       "      <td>University of Maine</td>\n",
       "      <td>Party School, Research University, For Sports ...</td>\n",
       "      <td>$54,000</td>\n",
       "      <td>$92,900</td>\n",
       "      <td>51%</td>\n",
       "      <td>24%</td>\n",
       "    </tr>\n",
       "  </tbody>\n",
       "</table>\n",
       "</div>"
      ],
      "text/plain": [
       "  Rank             School Name  \\\n",
       "0    1           Bates College   \n",
       "1    2         Bowdoin College   \n",
       "2    3  Maine Maritime Academy   \n",
       "3    4           Colby College   \n",
       "4    5     University of Maine   \n",
       "\n",
       "                                         School Type Early Career Pay  \\\n",
       "0                Liberal Arts School, Private School          $59,100   \n",
       "1                Liberal Arts School, Private School          $62,800   \n",
       "2                                       State School          $67,600   \n",
       "3                Liberal Arts School, Private School          $61,000   \n",
       "4  Party School, Research University, For Sports ...          $54,000   \n",
       "\n",
       "  Mid-Career Pay % High Meaning % STEM Degrees  \n",
       "0       $124,500            52%            23%  \n",
       "1       $124,400            55%            37%  \n",
       "2       $124,000            63%            48%  \n",
       "3       $105,700            50%            25%  \n",
       "4        $92,900            51%            24%  "
      ]
     },
     "execution_count": 9,
     "metadata": {},
     "output_type": "execute_result"
    }
   ],
   "source": [
    "payscale_Maine = webscrapePayscale(\"https://www.payscale.com/college-salary-report/best-schools-by-state/bachelors/maine/\", 0)\n",
    "payscale_Maine.head()"
   ]
  },
  {
   "cell_type": "markdown",
   "metadata": {},
   "source": [
    "### Massachusetts"
   ]
  },
  {
   "cell_type": "code",
   "execution_count": 10,
   "metadata": {},
   "outputs": [
    {
     "data": {
      "text/html": [
       "<div>\n",
       "<style scoped>\n",
       "    .dataframe tbody tr th:only-of-type {\n",
       "        vertical-align: middle;\n",
       "    }\n",
       "\n",
       "    .dataframe tbody tr th {\n",
       "        vertical-align: top;\n",
       "    }\n",
       "\n",
       "    .dataframe thead th {\n",
       "        text-align: right;\n",
       "    }\n",
       "</style>\n",
       "<table border=\"1\" class=\"dataframe\">\n",
       "  <thead>\n",
       "    <tr style=\"text-align: right;\">\n",
       "      <th></th>\n",
       "      <th>Rank</th>\n",
       "      <th>School Name</th>\n",
       "      <th>School Type</th>\n",
       "      <th>Early Career Pay</th>\n",
       "      <th>Mid-Career Pay</th>\n",
       "      <th>% High Meaning</th>\n",
       "      <th>% STEM Degrees</th>\n",
       "    </tr>\n",
       "  </thead>\n",
       "  <tbody>\n",
       "    <tr>\n",
       "      <th>0</th>\n",
       "      <td>1</td>\n",
       "      <td>Massachusetts Institute of Technology</td>\n",
       "      <td>Engineering, Private School, Research University</td>\n",
       "      <td>$88,300</td>\n",
       "      <td>$158,100</td>\n",
       "      <td>52%</td>\n",
       "      <td>69%</td>\n",
       "    </tr>\n",
       "    <tr>\n",
       "      <th>1</th>\n",
       "      <td>2</td>\n",
       "      <td>Harvard University</td>\n",
       "      <td>Ivy League, Private School, Research Universit...</td>\n",
       "      <td>$76,400</td>\n",
       "      <td>$147,700</td>\n",
       "      <td>55%</td>\n",
       "      <td>19%</td>\n",
       "    </tr>\n",
       "    <tr>\n",
       "      <th>2</th>\n",
       "      <td>3</td>\n",
       "      <td>Babson College</td>\n",
       "      <td>Business, Private School</td>\n",
       "      <td>$73,000</td>\n",
       "      <td>$146,200</td>\n",
       "      <td>42%</td>\n",
       "      <td>0%</td>\n",
       "    </tr>\n",
       "    <tr>\n",
       "      <th>3</th>\n",
       "      <td>4</td>\n",
       "      <td>Williams College</td>\n",
       "      <td>Liberal Arts School, Private School</td>\n",
       "      <td>$67,600</td>\n",
       "      <td>$142,300</td>\n",
       "      <td>46%</td>\n",
       "      <td>32%</td>\n",
       "    </tr>\n",
       "    <tr>\n",
       "      <th>4</th>\n",
       "      <td>5</td>\n",
       "      <td>Worcester Polytechnic Institute</td>\n",
       "      <td>Engineering, Private School, Research University</td>\n",
       "      <td>$74,600</td>\n",
       "      <td>$135,500</td>\n",
       "      <td>48%</td>\n",
       "      <td>86%</td>\n",
       "    </tr>\n",
       "  </tbody>\n",
       "</table>\n",
       "</div>"
      ],
      "text/plain": [
       "  Rank                            School Name  \\\n",
       "0    1  Massachusetts Institute of Technology   \n",
       "1    2                     Harvard University   \n",
       "2    3                         Babson College   \n",
       "3    4                       Williams College   \n",
       "4    5        Worcester Polytechnic Institute   \n",
       "\n",
       "                                         School Type Early Career Pay  \\\n",
       "0   Engineering, Private School, Research University          $88,300   \n",
       "1  Ivy League, Private School, Research Universit...          $76,400   \n",
       "2                           Business, Private School          $73,000   \n",
       "3                Liberal Arts School, Private School          $67,600   \n",
       "4   Engineering, Private School, Research University          $74,600   \n",
       "\n",
       "  Mid-Career Pay % High Meaning % STEM Degrees  \n",
       "0       $158,100            52%            69%  \n",
       "1       $147,700            55%            19%  \n",
       "2       $146,200            42%             0%  \n",
       "3       $142,300            46%            32%  \n",
       "4       $135,500            48%            86%  "
      ]
     },
     "execution_count": 10,
     "metadata": {},
     "output_type": "execute_result"
    }
   ],
   "source": [
    "payscale_Mass = webscrapePayscale(\"https://www.payscale.com/college-salary-report/best-schools-by-state/bachelors/massachusetts/\", 3)\n",
    "payscale_Mass.head()"
   ]
  },
  {
   "cell_type": "markdown",
   "metadata": {},
   "source": [
    "### New Hampshire"
   ]
  },
  {
   "cell_type": "code",
   "execution_count": 11,
   "metadata": {},
   "outputs": [
    {
     "data": {
      "text/html": [
       "<div>\n",
       "<style scoped>\n",
       "    .dataframe tbody tr th:only-of-type {\n",
       "        vertical-align: middle;\n",
       "    }\n",
       "\n",
       "    .dataframe tbody tr th {\n",
       "        vertical-align: top;\n",
       "    }\n",
       "\n",
       "    .dataframe thead th {\n",
       "        text-align: right;\n",
       "    }\n",
       "</style>\n",
       "<table border=\"1\" class=\"dataframe\">\n",
       "  <thead>\n",
       "    <tr style=\"text-align: right;\">\n",
       "      <th></th>\n",
       "      <th>Rank</th>\n",
       "      <th>School Name</th>\n",
       "      <th>School Type</th>\n",
       "      <th>Early Career Pay</th>\n",
       "      <th>Mid-Career Pay</th>\n",
       "      <th>% High Meaning</th>\n",
       "      <th>% STEM Degrees</th>\n",
       "    </tr>\n",
       "  </thead>\n",
       "  <tbody>\n",
       "    <tr>\n",
       "      <th>0</th>\n",
       "      <td>1</td>\n",
       "      <td>Dartmouth College</td>\n",
       "      <td>Ivy League, Private School, Research Universit...</td>\n",
       "      <td>$73,300</td>\n",
       "      <td>$141,400</td>\n",
       "      <td>45%</td>\n",
       "      <td>35%</td>\n",
       "    </tr>\n",
       "    <tr>\n",
       "      <th>1</th>\n",
       "      <td>2</td>\n",
       "      <td>Saint Anselm College</td>\n",
       "      <td>Liberal Arts School, Private School, Religious</td>\n",
       "      <td>$56,400</td>\n",
       "      <td>$104,600</td>\n",
       "      <td>58%</td>\n",
       "      <td>11%</td>\n",
       "    </tr>\n",
       "    <tr>\n",
       "      <th>2</th>\n",
       "      <td>3</td>\n",
       "      <td>University of New Hampshire-Main Campus</td>\n",
       "      <td>Research University, For Sports Fans, State Sc...</td>\n",
       "      <td>$55,300</td>\n",
       "      <td>$102,300</td>\n",
       "      <td>52%</td>\n",
       "      <td>23%</td>\n",
       "    </tr>\n",
       "    <tr>\n",
       "      <th>3</th>\n",
       "      <td>4</td>\n",
       "      <td>Thomas More College of Liberal Arts</td>\n",
       "      <td>Liberal Arts School, Private School, Religious</td>\n",
       "      <td>$51,000</td>\n",
       "      <td>$92,400</td>\n",
       "      <td>-</td>\n",
       "      <td>0%</td>\n",
       "    </tr>\n",
       "    <tr>\n",
       "      <th>4</th>\n",
       "      <td>5</td>\n",
       "      <td>New England College</td>\n",
       "      <td>Private School</td>\n",
       "      <td>$45,200</td>\n",
       "      <td>$89,800</td>\n",
       "      <td>45%</td>\n",
       "      <td>24%</td>\n",
       "    </tr>\n",
       "  </tbody>\n",
       "</table>\n",
       "</div>"
      ],
      "text/plain": [
       "  Rank                              School Name  \\\n",
       "0    1                        Dartmouth College   \n",
       "1    2                     Saint Anselm College   \n",
       "2    3  University of New Hampshire-Main Campus   \n",
       "3    4      Thomas More College of Liberal Arts   \n",
       "4    5                      New England College   \n",
       "\n",
       "                                         School Type Early Career Pay  \\\n",
       "0  Ivy League, Private School, Research Universit...          $73,300   \n",
       "1     Liberal Arts School, Private School, Religious          $56,400   \n",
       "2  Research University, For Sports Fans, State Sc...          $55,300   \n",
       "3     Liberal Arts School, Private School, Religious          $51,000   \n",
       "4                                     Private School          $45,200   \n",
       "\n",
       "  Mid-Career Pay % High Meaning % STEM Degrees  \n",
       "0       $141,400            45%            35%  \n",
       "1       $104,600            58%            11%  \n",
       "2       $102,300            52%            23%  \n",
       "3        $92,400              -             0%  \n",
       "4        $89,800            45%            24%  "
      ]
     },
     "execution_count": 11,
     "metadata": {},
     "output_type": "execute_result"
    }
   ],
   "source": [
    "payscale_newHamp = webscrapePayscale(\"https://www.payscale.com/college-salary-report/best-schools-by-state/bachelors/new-hampshire/\", 0)\n",
    "payscale_newHamp.head()"
   ]
  },
  {
   "cell_type": "markdown",
   "metadata": {},
   "source": [
    "### New York"
   ]
  },
  {
   "cell_type": "code",
   "execution_count": 12,
   "metadata": {},
   "outputs": [
    {
     "data": {
      "text/html": [
       "<div>\n",
       "<style scoped>\n",
       "    .dataframe tbody tr th:only-of-type {\n",
       "        vertical-align: middle;\n",
       "    }\n",
       "\n",
       "    .dataframe tbody tr th {\n",
       "        vertical-align: top;\n",
       "    }\n",
       "\n",
       "    .dataframe thead th {\n",
       "        text-align: right;\n",
       "    }\n",
       "</style>\n",
       "<table border=\"1\" class=\"dataframe\">\n",
       "  <thead>\n",
       "    <tr style=\"text-align: right;\">\n",
       "      <th></th>\n",
       "      <th>Rank</th>\n",
       "      <th>School Name</th>\n",
       "      <th>School Type</th>\n",
       "      <th>Early Career Pay</th>\n",
       "      <th>Mid-Career Pay</th>\n",
       "      <th>% High Meaning</th>\n",
       "      <th>% STEM Degrees</th>\n",
       "    </tr>\n",
       "  </thead>\n",
       "  <tbody>\n",
       "    <tr>\n",
       "      <th>0</th>\n",
       "      <td>1</td>\n",
       "      <td>Princeton University</td>\n",
       "      <td>Ivy League, Private School, Research Universit...</td>\n",
       "      <td>$77,300</td>\n",
       "      <td>$150,500</td>\n",
       "      <td>49%</td>\n",
       "      <td>48%</td>\n",
       "    </tr>\n",
       "    <tr>\n",
       "      <th>1</th>\n",
       "      <td>2</td>\n",
       "      <td>Stevens Institute of Technology</td>\n",
       "      <td>Engineering, Private School, Research University</td>\n",
       "      <td>$75,800</td>\n",
       "      <td>$144,300</td>\n",
       "      <td>48%</td>\n",
       "      <td>79%</td>\n",
       "    </tr>\n",
       "    <tr>\n",
       "      <th>2</th>\n",
       "      <td>3</td>\n",
       "      <td>New Jersey Institute of Technology</td>\n",
       "      <td>Engineering, Research University, For Sports F...</td>\n",
       "      <td>$65,700</td>\n",
       "      <td>$124,400</td>\n",
       "      <td>52%</td>\n",
       "      <td>75%</td>\n",
       "    </tr>\n",
       "    <tr>\n",
       "      <th>3</th>\n",
       "      <td>4</td>\n",
       "      <td>Rutgers University-New Brunswick</td>\n",
       "      <td>Research University, For Sports Fans, State Sc...</td>\n",
       "      <td>$60,800</td>\n",
       "      <td>$115,200</td>\n",
       "      <td>43%</td>\n",
       "      <td>29%</td>\n",
       "    </tr>\n",
       "    <tr>\n",
       "      <th>4</th>\n",
       "      <td>5</td>\n",
       "      <td>Seton Hall University</td>\n",
       "      <td>Private School, Religious, Research University...</td>\n",
       "      <td>$58,600</td>\n",
       "      <td>$104,800</td>\n",
       "      <td>48%</td>\n",
       "      <td>8%</td>\n",
       "    </tr>\n",
       "  </tbody>\n",
       "</table>\n",
       "</div>"
      ],
      "text/plain": [
       "  Rank                         School Name  \\\n",
       "0    1                Princeton University   \n",
       "1    2     Stevens Institute of Technology   \n",
       "2    3  New Jersey Institute of Technology   \n",
       "3    4    Rutgers University-New Brunswick   \n",
       "4    5               Seton Hall University   \n",
       "\n",
       "                                         School Type Early Career Pay  \\\n",
       "0  Ivy League, Private School, Research Universit...          $77,300   \n",
       "1   Engineering, Private School, Research University          $75,800   \n",
       "2  Engineering, Research University, For Sports F...          $65,700   \n",
       "3  Research University, For Sports Fans, State Sc...          $60,800   \n",
       "4  Private School, Religious, Research University...          $58,600   \n",
       "\n",
       "  Mid-Career Pay % High Meaning % STEM Degrees  \n",
       "0       $150,500            49%            48%  \n",
       "1       $144,300            48%            79%  \n",
       "2       $124,400            52%            75%  \n",
       "3       $115,200            43%            29%  \n",
       "4       $104,800            48%             8%  "
      ]
     },
     "execution_count": 12,
     "metadata": {},
     "output_type": "execute_result"
    }
   ],
   "source": [
    "payscale_jersey = webscrapePayscale(\"https://www.payscale.com/college-salary-report/best-schools-by-state/bachelors/new-jersey/\", 0)\n",
    "payscale_jersey.head()"
   ]
  },
  {
   "cell_type": "markdown",
   "metadata": {},
   "source": [
    "### New Jersey"
   ]
  },
  {
   "cell_type": "code",
   "execution_count": 13,
   "metadata": {},
   "outputs": [
    {
     "data": {
      "text/html": [
       "<div>\n",
       "<style scoped>\n",
       "    .dataframe tbody tr th:only-of-type {\n",
       "        vertical-align: middle;\n",
       "    }\n",
       "\n",
       "    .dataframe tbody tr th {\n",
       "        vertical-align: top;\n",
       "    }\n",
       "\n",
       "    .dataframe thead th {\n",
       "        text-align: right;\n",
       "    }\n",
       "</style>\n",
       "<table border=\"1\" class=\"dataframe\">\n",
       "  <thead>\n",
       "    <tr style=\"text-align: right;\">\n",
       "      <th></th>\n",
       "      <th>Rank</th>\n",
       "      <th>School Name</th>\n",
       "      <th>School Type</th>\n",
       "      <th>Early Career Pay</th>\n",
       "      <th>Mid-Career Pay</th>\n",
       "      <th>% High Meaning</th>\n",
       "      <th>% STEM Degrees</th>\n",
       "    </tr>\n",
       "  </thead>\n",
       "  <tbody>\n",
       "    <tr>\n",
       "      <th>0</th>\n",
       "      <td>1</td>\n",
       "      <td>United States Military Academy</td>\n",
       "      <td>Liberal Arts School, Sober School, For Sports ...</td>\n",
       "      <td>$81,100</td>\n",
       "      <td>$146,300</td>\n",
       "      <td>62%</td>\n",
       "      <td>39%</td>\n",
       "    </tr>\n",
       "    <tr>\n",
       "      <th>1</th>\n",
       "      <td>2</td>\n",
       "      <td>Colgate University</td>\n",
       "      <td>Liberal Arts School, Party School, Private Sch...</td>\n",
       "      <td>$69,700</td>\n",
       "      <td>$144,800</td>\n",
       "      <td>40%</td>\n",
       "      <td>26%</td>\n",
       "    </tr>\n",
       "    <tr>\n",
       "      <th>2</th>\n",
       "      <td>3</td>\n",
       "      <td>SUNY Maritime College</td>\n",
       "      <td>State School</td>\n",
       "      <td>$74,500</td>\n",
       "      <td>$143,400</td>\n",
       "      <td>52%</td>\n",
       "      <td>32%</td>\n",
       "    </tr>\n",
       "    <tr>\n",
       "      <th>3</th>\n",
       "      <td>4</td>\n",
       "      <td>Albany College of Pharmacy and Health Sciences</td>\n",
       "      <td>Private School</td>\n",
       "      <td>$77,700</td>\n",
       "      <td>$140,800</td>\n",
       "      <td>86%</td>\n",
       "      <td>2%</td>\n",
       "    </tr>\n",
       "    <tr>\n",
       "      <th>4</th>\n",
       "      <td>5</td>\n",
       "      <td>United States Merchant Marine Academy</td>\n",
       "      <td>Engineering, State School</td>\n",
       "      <td>$84,300</td>\n",
       "      <td>$138,500</td>\n",
       "      <td>61%</td>\n",
       "      <td>56%</td>\n",
       "    </tr>\n",
       "  </tbody>\n",
       "</table>\n",
       "</div>"
      ],
      "text/plain": [
       "  Rank                                     School Name  \\\n",
       "0    1                  United States Military Academy   \n",
       "1    2                              Colgate University   \n",
       "2    3                           SUNY Maritime College   \n",
       "3    4  Albany College of Pharmacy and Health Sciences   \n",
       "4    5           United States Merchant Marine Academy   \n",
       "\n",
       "                                         School Type Early Career Pay  \\\n",
       "0  Liberal Arts School, Sober School, For Sports ...          $81,100   \n",
       "1  Liberal Arts School, Party School, Private Sch...          $69,700   \n",
       "2                                       State School          $74,500   \n",
       "3                                     Private School          $77,700   \n",
       "4                          Engineering, State School          $84,300   \n",
       "\n",
       "  Mid-Career Pay % High Meaning % STEM Degrees  \n",
       "0       $146,300            62%            39%  \n",
       "1       $144,800            40%            26%  \n",
       "2       $143,400            52%            32%  \n",
       "3       $140,800            86%             2%  \n",
       "4       $138,500            61%            56%  "
      ]
     },
     "execution_count": 13,
     "metadata": {},
     "output_type": "execute_result"
    }
   ],
   "source": [
    "payscale_york = webscrapePayscale(\"https://www.payscale.com/college-salary-report/best-schools-by-state/bachelors/new-york/\", 5)\n",
    "payscale_york.head()"
   ]
  },
  {
   "cell_type": "markdown",
   "metadata": {},
   "source": [
    "### Pennsylvania"
   ]
  },
  {
   "cell_type": "code",
   "execution_count": 14,
   "metadata": {},
   "outputs": [
    {
     "data": {
      "text/html": [
       "<div>\n",
       "<style scoped>\n",
       "    .dataframe tbody tr th:only-of-type {\n",
       "        vertical-align: middle;\n",
       "    }\n",
       "\n",
       "    .dataframe tbody tr th {\n",
       "        vertical-align: top;\n",
       "    }\n",
       "\n",
       "    .dataframe thead th {\n",
       "        text-align: right;\n",
       "    }\n",
       "</style>\n",
       "<table border=\"1\" class=\"dataframe\">\n",
       "  <thead>\n",
       "    <tr style=\"text-align: right;\">\n",
       "      <th></th>\n",
       "      <th>Rank</th>\n",
       "      <th>School Name</th>\n",
       "      <th>School Type</th>\n",
       "      <th>Early Career Pay</th>\n",
       "      <th>Mid-Career Pay</th>\n",
       "      <th>% High Meaning</th>\n",
       "      <th>% STEM Degrees</th>\n",
       "    </tr>\n",
       "  </thead>\n",
       "  <tbody>\n",
       "    <tr>\n",
       "      <th>0</th>\n",
       "      <td>1</td>\n",
       "      <td>University of Pennsylvania</td>\n",
       "      <td>Ivy League, Private School, Research Universit...</td>\n",
       "      <td>$73,700</td>\n",
       "      <td>$142,900</td>\n",
       "      <td>41%</td>\n",
       "      <td>21%</td>\n",
       "    </tr>\n",
       "    <tr>\n",
       "      <th>1</th>\n",
       "      <td>2</td>\n",
       "      <td>Swarthmore College</td>\n",
       "      <td>Liberal Arts School, Private School</td>\n",
       "      <td>$67,700</td>\n",
       "      <td>$141,000</td>\n",
       "      <td>46%</td>\n",
       "      <td>45%</td>\n",
       "    </tr>\n",
       "    <tr>\n",
       "      <th>2</th>\n",
       "      <td>3</td>\n",
       "      <td>Lehigh University</td>\n",
       "      <td>Engineering, Private School, Research Universi...</td>\n",
       "      <td>$70,300</td>\n",
       "      <td>$139,800</td>\n",
       "      <td>45%</td>\n",
       "      <td>52%</td>\n",
       "    </tr>\n",
       "    <tr>\n",
       "      <th>3</th>\n",
       "      <td>4</td>\n",
       "      <td>Carnegie Mellon University</td>\n",
       "      <td>Engineering, Private School, Research University</td>\n",
       "      <td>$78,600</td>\n",
       "      <td>$136,500</td>\n",
       "      <td>45%</td>\n",
       "      <td>66%</td>\n",
       "    </tr>\n",
       "    <tr>\n",
       "      <th>4</th>\n",
       "      <td>5</td>\n",
       "      <td>Haverford College</td>\n",
       "      <td>Liberal Arts School, Private School</td>\n",
       "      <td>$61,300</td>\n",
       "      <td>$136,300</td>\n",
       "      <td>47%</td>\n",
       "      <td>36%</td>\n",
       "    </tr>\n",
       "  </tbody>\n",
       "</table>\n",
       "</div>"
      ],
      "text/plain": [
       "  Rank                 School Name  \\\n",
       "0    1  University of Pennsylvania   \n",
       "1    2          Swarthmore College   \n",
       "2    3           Lehigh University   \n",
       "3    4  Carnegie Mellon University   \n",
       "4    5           Haverford College   \n",
       "\n",
       "                                         School Type Early Career Pay  \\\n",
       "0  Ivy League, Private School, Research Universit...          $73,700   \n",
       "1                Liberal Arts School, Private School          $67,700   \n",
       "2  Engineering, Private School, Research Universi...          $70,300   \n",
       "3   Engineering, Private School, Research University          $78,600   \n",
       "4                Liberal Arts School, Private School          $61,300   \n",
       "\n",
       "  Mid-Career Pay % High Meaning % STEM Degrees  \n",
       "0       $142,900            41%            21%  \n",
       "1       $141,000            46%            45%  \n",
       "2       $139,800            45%            52%  \n",
       "3       $136,500            45%            66%  \n",
       "4       $136,300            47%            36%  "
      ]
     },
     "execution_count": 14,
     "metadata": {},
     "output_type": "execute_result"
    }
   ],
   "source": [
    "payscale_penn = webscrapePayscale(\"https://www.payscale.com/college-salary-report/best-schools-by-state/bachelors/pennsylvania/\", 5)\n",
    "payscale_penn.head()"
   ]
  },
  {
   "cell_type": "markdown",
   "metadata": {},
   "source": [
    "### Rhode Island"
   ]
  },
  {
   "cell_type": "code",
   "execution_count": 15,
   "metadata": {},
   "outputs": [
    {
     "data": {
      "text/html": [
       "<div>\n",
       "<style scoped>\n",
       "    .dataframe tbody tr th:only-of-type {\n",
       "        vertical-align: middle;\n",
       "    }\n",
       "\n",
       "    .dataframe tbody tr th {\n",
       "        vertical-align: top;\n",
       "    }\n",
       "\n",
       "    .dataframe thead th {\n",
       "        text-align: right;\n",
       "    }\n",
       "</style>\n",
       "<table border=\"1\" class=\"dataframe\">\n",
       "  <thead>\n",
       "    <tr style=\"text-align: right;\">\n",
       "      <th></th>\n",
       "      <th>Rank</th>\n",
       "      <th>School Name</th>\n",
       "      <th>School Type</th>\n",
       "      <th>Early Career Pay</th>\n",
       "      <th>Mid-Career Pay</th>\n",
       "      <th>% High Meaning</th>\n",
       "      <th>% STEM Degrees</th>\n",
       "    </tr>\n",
       "  </thead>\n",
       "  <tbody>\n",
       "    <tr>\n",
       "      <th>0</th>\n",
       "      <td>1</td>\n",
       "      <td>Brown University</td>\n",
       "      <td>Ivy League, Private School, Research Universit...</td>\n",
       "      <td>$69,900</td>\n",
       "      <td>$136,700</td>\n",
       "      <td>46%</td>\n",
       "      <td>43%</td>\n",
       "    </tr>\n",
       "    <tr>\n",
       "      <th>1</th>\n",
       "      <td>2</td>\n",
       "      <td>Providence College</td>\n",
       "      <td>Private School, Religious, For Sports Fans</td>\n",
       "      <td>$60,100</td>\n",
       "      <td>$111,900</td>\n",
       "      <td>46%</td>\n",
       "      <td>11%</td>\n",
       "    </tr>\n",
       "    <tr>\n",
       "      <th>2</th>\n",
       "      <td>3</td>\n",
       "      <td>Bryant University</td>\n",
       "      <td>Business, Private School, For Sports Fans</td>\n",
       "      <td>$61,000</td>\n",
       "      <td>$108,500</td>\n",
       "      <td>38%</td>\n",
       "      <td>8%</td>\n",
       "    </tr>\n",
       "    <tr>\n",
       "      <th>3</th>\n",
       "      <td>4</td>\n",
       "      <td>Rhode Island School of Design</td>\n",
       "      <td>Art, Private School</td>\n",
       "      <td>$57,300</td>\n",
       "      <td>$102,500</td>\n",
       "      <td>38%</td>\n",
       "      <td>0%</td>\n",
       "    </tr>\n",
       "    <tr>\n",
       "      <th>4</th>\n",
       "      <td>5</td>\n",
       "      <td>University of Rhode Island</td>\n",
       "      <td>Party School, Research University, For Sports ...</td>\n",
       "      <td>$55,300</td>\n",
       "      <td>$102,000</td>\n",
       "      <td>50%</td>\n",
       "      <td>18%</td>\n",
       "    </tr>\n",
       "  </tbody>\n",
       "</table>\n",
       "</div>"
      ],
      "text/plain": [
       "  Rank                    School Name  \\\n",
       "0    1               Brown University   \n",
       "1    2             Providence College   \n",
       "2    3              Bryant University   \n",
       "3    4  Rhode Island School of Design   \n",
       "4    5     University of Rhode Island   \n",
       "\n",
       "                                         School Type Early Career Pay  \\\n",
       "0  Ivy League, Private School, Research Universit...          $69,900   \n",
       "1         Private School, Religious, For Sports Fans          $60,100   \n",
       "2          Business, Private School, For Sports Fans          $61,000   \n",
       "3                                Art, Private School          $57,300   \n",
       "4  Party School, Research University, For Sports ...          $55,300   \n",
       "\n",
       "  Mid-Career Pay % High Meaning % STEM Degrees  \n",
       "0       $136,700            46%            43%  \n",
       "1       $111,900            46%            11%  \n",
       "2       $108,500            38%             8%  \n",
       "3       $102,500            38%             0%  \n",
       "4       $102,000            50%            18%  "
      ]
     },
     "execution_count": 15,
     "metadata": {},
     "output_type": "execute_result"
    }
   ],
   "source": [
    "payscale_rho = webscrapePayscale(\"https://www.payscale.com/college-salary-report/best-schools-by-state/bachelors/rhode-island/\", 0)\n",
    "payscale_rho.head()"
   ]
  },
  {
   "cell_type": "markdown",
   "metadata": {},
   "source": [
    "### Vermont"
   ]
  },
  {
   "cell_type": "code",
   "execution_count": 16,
   "metadata": {},
   "outputs": [
    {
     "data": {
      "text/html": [
       "<div>\n",
       "<style scoped>\n",
       "    .dataframe tbody tr th:only-of-type {\n",
       "        vertical-align: middle;\n",
       "    }\n",
       "\n",
       "    .dataframe tbody tr th {\n",
       "        vertical-align: top;\n",
       "    }\n",
       "\n",
       "    .dataframe thead th {\n",
       "        text-align: right;\n",
       "    }\n",
       "</style>\n",
       "<table border=\"1\" class=\"dataframe\">\n",
       "  <thead>\n",
       "    <tr style=\"text-align: right;\">\n",
       "      <th></th>\n",
       "      <th>Rank</th>\n",
       "      <th>School Name</th>\n",
       "      <th>School Type</th>\n",
       "      <th>Early Career Pay</th>\n",
       "      <th>Mid-Career Pay</th>\n",
       "      <th>% High Meaning</th>\n",
       "      <th>% STEM Degrees</th>\n",
       "    </tr>\n",
       "  </thead>\n",
       "  <tbody>\n",
       "    <tr>\n",
       "      <th>0</th>\n",
       "      <td>1</td>\n",
       "      <td>Middlebury College</td>\n",
       "      <td>Liberal Arts School, Private School</td>\n",
       "      <td>$61,800</td>\n",
       "      <td>$118,400</td>\n",
       "      <td>50%</td>\n",
       "      <td>19%</td>\n",
       "    </tr>\n",
       "    <tr>\n",
       "      <th>1</th>\n",
       "      <td>2</td>\n",
       "      <td>Saint Michael's College</td>\n",
       "      <td>Liberal Arts School, Private School, Religious</td>\n",
       "      <td>$52,600</td>\n",
       "      <td>$103,200</td>\n",
       "      <td>41%</td>\n",
       "      <td>18%</td>\n",
       "    </tr>\n",
       "    <tr>\n",
       "      <th>2</th>\n",
       "      <td>3</td>\n",
       "      <td>University of Vermont</td>\n",
       "      <td>Research University, For Sports Fans, State Sc...</td>\n",
       "      <td>$54,500</td>\n",
       "      <td>$101,900</td>\n",
       "      <td>52%</td>\n",
       "      <td>22%</td>\n",
       "    </tr>\n",
       "    <tr>\n",
       "      <th>3</th>\n",
       "      <td>4</td>\n",
       "      <td>Norwich University</td>\n",
       "      <td>Private School</td>\n",
       "      <td>$57,700</td>\n",
       "      <td>$99,000</td>\n",
       "      <td>53%</td>\n",
       "      <td>20%</td>\n",
       "    </tr>\n",
       "    <tr>\n",
       "      <th>4</th>\n",
       "      <td>5</td>\n",
       "      <td>Bennington College</td>\n",
       "      <td>Liberal Arts School, Private School</td>\n",
       "      <td>$48,600</td>\n",
       "      <td>$94,800</td>\n",
       "      <td>47%</td>\n",
       "      <td>5%</td>\n",
       "    </tr>\n",
       "  </tbody>\n",
       "</table>\n",
       "</div>"
      ],
      "text/plain": [
       "  Rank              School Name  \\\n",
       "0    1       Middlebury College   \n",
       "1    2  Saint Michael's College   \n",
       "2    3    University of Vermont   \n",
       "3    4       Norwich University   \n",
       "4    5       Bennington College   \n",
       "\n",
       "                                         School Type Early Career Pay  \\\n",
       "0                Liberal Arts School, Private School          $61,800   \n",
       "1     Liberal Arts School, Private School, Religious          $52,600   \n",
       "2  Research University, For Sports Fans, State Sc...          $54,500   \n",
       "3                                     Private School          $57,700   \n",
       "4                Liberal Arts School, Private School          $48,600   \n",
       "\n",
       "  Mid-Career Pay % High Meaning % STEM Degrees  \n",
       "0       $118,400            50%            19%  \n",
       "1       $103,200            41%            18%  \n",
       "2       $101,900            52%            22%  \n",
       "3        $99,000            53%            20%  \n",
       "4        $94,800            47%             5%  "
      ]
     },
     "execution_count": 16,
     "metadata": {},
     "output_type": "execute_result"
    }
   ],
   "source": [
    "payscale_ver = webscrapePayscale(\"https://www.payscale.com/college-salary-report/best-schools-by-state/bachelors/vermont/\", 0)\n",
    "payscale_ver.head()"
   ]
  },
  {
   "cell_type": "markdown",
   "metadata": {},
   "source": [
    "# Data Cleaning"
   ]
  },
  {
   "cell_type": "markdown",
   "metadata": {},
   "source": [
    "In sreplace, we remove dollar sign characters, commas from number values, and \".00\" from dollar amounts. We also split the school type column in the Payscale dataframes into multiple columns."
   ]
  },
  {
   "cell_type": "code",
   "execution_count": 17,
   "metadata": {},
   "outputs": [],
   "source": [
    "def sreplace(string):\n",
    "    temp = string.replace('$','')\n",
    "    temp = temp.replace('.00','')\n",
    "    return temp.replace(',','')"
   ]
  },
  {
   "cell_type": "markdown",
   "metadata": {},
   "source": [
    "The isPrivate function is used in creating a column signifying if a school is private or public."
   ]
  },
  {
   "cell_type": "code",
   "execution_count": 18,
   "metadata": {},
   "outputs": [],
   "source": [
    "def isPrivate(string):\n",
    "    return 'Private School' in string"
   ]
  },
  {
   "cell_type": "markdown",
   "metadata": {},
   "source": [
    "cleanstate is an all in one function to apply previous functions to given dataframe"
   ]
  },
  {
   "cell_type": "code",
   "execution_count": 19,
   "metadata": {},
   "outputs": [],
   "source": [
    "def cleanstate(data):\n",
    "    data=data.drop(columns='% High Meaning')\n",
    "    data=data.drop(columns='% STEM Degrees')\n",
    "    data=data.drop(columns='Mid-Career Pay')\n",
    "    \n",
    "    data['Early Career Pay']=data['Early Career Pay'].apply(sreplace)\n",
    "    data = data.assign(Private_School=data['School Type'].apply(isPrivate))\n",
    "    data=data.drop(columns='School Type')\n",
    "    data=data.drop(columns='Rank')\n",
    "    return data"
   ]
  },
  {
   "cell_type": "markdown",
   "metadata": {},
   "source": [
    "In the following cells, we apply these defined functions to each of the dataframes defined previously."
   ]
  },
  {
   "cell_type": "markdown",
   "metadata": {},
   "source": [
    "### Pacific Region"
   ]
  },
  {
   "cell_type": "code",
   "execution_count": 20,
   "metadata": {},
   "outputs": [],
   "source": [
    "payscale_Cal=cleanstate(payscale_Cal)\n",
    "payscale_Alaska=cleanstate(payscale_Alaska)\n",
    "payscale_Or=cleanstate(payscale_Or)\n",
    "payscale_Wash=cleanstate(payscale_Wash)\n",
    "payscale_Haw=cleanstate(payscale_Haw)"
   ]
  },
  {
   "cell_type": "markdown",
   "metadata": {},
   "source": [
    "#### Create Pacific Dataframe"
   ]
  },
  {
   "cell_type": "code",
   "execution_count": 21,
   "metadata": {},
   "outputs": [
    {
     "data": {
      "text/html": [
       "<div>\n",
       "<style scoped>\n",
       "    .dataframe tbody tr th:only-of-type {\n",
       "        vertical-align: middle;\n",
       "    }\n",
       "\n",
       "    .dataframe tbody tr th {\n",
       "        vertical-align: top;\n",
       "    }\n",
       "\n",
       "    .dataframe thead th {\n",
       "        text-align: right;\n",
       "    }\n",
       "</style>\n",
       "<table border=\"1\" class=\"dataframe\">\n",
       "  <thead>\n",
       "    <tr style=\"text-align: right;\">\n",
       "      <th></th>\n",
       "      <th>School Name</th>\n",
       "      <th>Early Career Pay</th>\n",
       "      <th>Private_School</th>\n",
       "      <th>Pacific</th>\n",
       "    </tr>\n",
       "  </thead>\n",
       "  <tbody>\n",
       "    <tr>\n",
       "      <th>0</th>\n",
       "      <td>Harvey Mudd College</td>\n",
       "      <td>91400</td>\n",
       "      <td>True</td>\n",
       "      <td>True</td>\n",
       "    </tr>\n",
       "    <tr>\n",
       "      <th>1</th>\n",
       "      <td>California Institute of Technology</td>\n",
       "      <td>87600</td>\n",
       "      <td>True</td>\n",
       "      <td>True</td>\n",
       "    </tr>\n",
       "    <tr>\n",
       "      <th>2</th>\n",
       "      <td>Stanford University</td>\n",
       "      <td>81800</td>\n",
       "      <td>True</td>\n",
       "      <td>True</td>\n",
       "    </tr>\n",
       "    <tr>\n",
       "      <th>3</th>\n",
       "      <td>Santa Clara University</td>\n",
       "      <td>71100</td>\n",
       "      <td>True</td>\n",
       "      <td>True</td>\n",
       "    </tr>\n",
       "    <tr>\n",
       "      <th>4</th>\n",
       "      <td>University of California-Berkeley</td>\n",
       "      <td>72600</td>\n",
       "      <td>False</td>\n",
       "      <td>True</td>\n",
       "    </tr>\n",
       "  </tbody>\n",
       "</table>\n",
       "</div>"
      ],
      "text/plain": [
       "                          School Name Early Career Pay  Private_School  \\\n",
       "0                 Harvey Mudd College            91400            True   \n",
       "1  California Institute of Technology            87600            True   \n",
       "2                 Stanford University            81800            True   \n",
       "3              Santa Clara University            71100            True   \n",
       "4   University of California-Berkeley            72600           False   \n",
       "\n",
       "   Pacific  \n",
       "0     True  \n",
       "1     True  \n",
       "2     True  \n",
       "3     True  \n",
       "4     True  "
      ]
     },
     "execution_count": 21,
     "metadata": {},
     "output_type": "execute_result"
    }
   ],
   "source": [
    "df_Pacific=pd.concat([payscale_Cal,payscale_Alaska,payscale_Or,payscale_Wash,payscale_Haw],axis=0)\n",
    "df_Pacific['Pacific']= True\n",
    "df_Pacific.head()"
   ]
  },
  {
   "cell_type": "markdown",
   "metadata": {},
   "source": [
    "### Northeastern Region"
   ]
  },
  {
   "cell_type": "code",
   "execution_count": 22,
   "metadata": {},
   "outputs": [],
   "source": [
    "payscale_Conn=cleanstate(payscale_Conn)\n",
    "payscale_Maine=cleanstate(payscale_Maine)\n",
    "payscale_Mass=cleanstate(payscale_Mass)\n",
    "payscale_newHamp=cleanstate(payscale_newHamp)\n",
    "payscale_jersey=cleanstate(payscale_jersey)\n",
    "payscale_york=cleanstate(payscale_york)\n",
    "payscale_penn=cleanstate(payscale_penn)\n",
    "payscale_rho=cleanstate(payscale_rho)\n",
    "payscale_ver=cleanstate(payscale_ver)"
   ]
  },
  {
   "cell_type": "markdown",
   "metadata": {},
   "source": [
    "#### Create Northeastern Dataframe"
   ]
  },
  {
   "cell_type": "code",
   "execution_count": 23,
   "metadata": {},
   "outputs": [
    {
     "data": {
      "text/html": [
       "<div>\n",
       "<style scoped>\n",
       "    .dataframe tbody tr th:only-of-type {\n",
       "        vertical-align: middle;\n",
       "    }\n",
       "\n",
       "    .dataframe tbody tr th {\n",
       "        vertical-align: top;\n",
       "    }\n",
       "\n",
       "    .dataframe thead th {\n",
       "        text-align: right;\n",
       "    }\n",
       "</style>\n",
       "<table border=\"1\" class=\"dataframe\">\n",
       "  <thead>\n",
       "    <tr style=\"text-align: right;\">\n",
       "      <th></th>\n",
       "      <th>School Name</th>\n",
       "      <th>Early Career Pay</th>\n",
       "      <th>Private_School</th>\n",
       "      <th>Pacific</th>\n",
       "    </tr>\n",
       "  </thead>\n",
       "  <tbody>\n",
       "    <tr>\n",
       "      <th>0</th>\n",
       "      <td>Yale University</td>\n",
       "      <td>72700</td>\n",
       "      <td>True</td>\n",
       "      <td>False</td>\n",
       "    </tr>\n",
       "    <tr>\n",
       "      <th>1</th>\n",
       "      <td>Wesleyan University</td>\n",
       "      <td>62700</td>\n",
       "      <td>True</td>\n",
       "      <td>False</td>\n",
       "    </tr>\n",
       "    <tr>\n",
       "      <th>2</th>\n",
       "      <td>Fairfield University</td>\n",
       "      <td>63100</td>\n",
       "      <td>True</td>\n",
       "      <td>False</td>\n",
       "    </tr>\n",
       "    <tr>\n",
       "      <th>3</th>\n",
       "      <td>United States Coast Guard Academy</td>\n",
       "      <td>72600</td>\n",
       "      <td>False</td>\n",
       "      <td>False</td>\n",
       "    </tr>\n",
       "    <tr>\n",
       "      <th>4</th>\n",
       "      <td>Trinity College</td>\n",
       "      <td>60700</td>\n",
       "      <td>True</td>\n",
       "      <td>False</td>\n",
       "    </tr>\n",
       "  </tbody>\n",
       "</table>\n",
       "</div>"
      ],
      "text/plain": [
       "                         School Name Early Career Pay  Private_School  Pacific\n",
       "0                    Yale University            72700            True    False\n",
       "1                Wesleyan University            62700            True    False\n",
       "2               Fairfield University            63100            True    False\n",
       "3  United States Coast Guard Academy            72600           False    False\n",
       "4                    Trinity College            60700            True    False"
      ]
     },
     "execution_count": 23,
     "metadata": {},
     "output_type": "execute_result"
    }
   ],
   "source": [
    "df_NorEast=pd.concat([payscale_Conn,payscale_Maine,payscale_Mass,\n",
    "                       payscale_newHamp,payscale_jersey,payscale_york,\n",
    "                       payscale_penn,payscale_rho,payscale_ver],axis=0)\n",
    "df_NorEast['Pacific']=False\n",
    "df_NorEast.head()"
   ]
  },
  {
   "cell_type": "markdown",
   "metadata": {},
   "source": [
    "### Both Northeast and Pacific Regions"
   ]
  },
  {
   "cell_type": "code",
   "execution_count": 24,
   "metadata": {},
   "outputs": [
    {
     "data": {
      "text/html": [
       "<div>\n",
       "<style scoped>\n",
       "    .dataframe tbody tr th:only-of-type {\n",
       "        vertical-align: middle;\n",
       "    }\n",
       "\n",
       "    .dataframe tbody tr th {\n",
       "        vertical-align: top;\n",
       "    }\n",
       "\n",
       "    .dataframe thead th {\n",
       "        text-align: right;\n",
       "    }\n",
       "</style>\n",
       "<table border=\"1\" class=\"dataframe\">\n",
       "  <thead>\n",
       "    <tr style=\"text-align: right;\">\n",
       "      <th></th>\n",
       "      <th>School Name</th>\n",
       "      <th>Early Career Pay</th>\n",
       "      <th>SchoolType</th>\n",
       "      <th>Region</th>\n",
       "    </tr>\n",
       "  </thead>\n",
       "  <tbody>\n",
       "    <tr>\n",
       "      <th>0</th>\n",
       "      <td>Harvey Mudd College</td>\n",
       "      <td>91400</td>\n",
       "      <td>Private</td>\n",
       "      <td>Pacific</td>\n",
       "    </tr>\n",
       "    <tr>\n",
       "      <th>1</th>\n",
       "      <td>California Institute of Technology</td>\n",
       "      <td>87600</td>\n",
       "      <td>Private</td>\n",
       "      <td>Pacific</td>\n",
       "    </tr>\n",
       "    <tr>\n",
       "      <th>2</th>\n",
       "      <td>Stanford University</td>\n",
       "      <td>81800</td>\n",
       "      <td>Private</td>\n",
       "      <td>Pacific</td>\n",
       "    </tr>\n",
       "    <tr>\n",
       "      <th>3</th>\n",
       "      <td>Santa Clara University</td>\n",
       "      <td>71100</td>\n",
       "      <td>Private</td>\n",
       "      <td>Pacific</td>\n",
       "    </tr>\n",
       "    <tr>\n",
       "      <th>4</th>\n",
       "      <td>University of California-Berkeley</td>\n",
       "      <td>72600</td>\n",
       "      <td>Public</td>\n",
       "      <td>Pacific</td>\n",
       "    </tr>\n",
       "  </tbody>\n",
       "</table>\n",
       "</div>"
      ],
      "text/plain": [
       "                          School Name  Early Career Pay SchoolType   Region\n",
       "0                 Harvey Mudd College             91400    Private  Pacific\n",
       "1  California Institute of Technology             87600    Private  Pacific\n",
       "2                 Stanford University             81800    Private  Pacific\n",
       "3              Santa Clara University             71100    Private  Pacific\n",
       "4   University of California-Berkeley             72600     Public  Pacific"
      ]
     },
     "execution_count": 24,
     "metadata": {},
     "output_type": "execute_result"
    }
   ],
   "source": [
    "df_All=pd.concat([df_Pacific,df_NorEast],axis=0)\n",
    "df_All[\"Early Career Pay\"]=df_All[\"Early Career Pay\"].astype(int)\n",
    "df_All['Private_School'] = df_All['Private_School'].replace([True,False],['Private','Public'])\n",
    "df_All['Pacific'] = df_All['Pacific'].replace([True,False],['Pacific','Northeastern'])\n",
    "df_All=df_All.rename(columns={'Private_School':'SchoolType','Pacific':'Region'})\n",
    "df_All.head()"
   ]
  },
  {
   "cell_type": "markdown",
   "metadata": {},
   "source": [
    "### Datatype Correction:\n",
    "\n",
    "We correct the data in columns stored as objects to be integers for each of the new cumulative dataframes."
   ]
  },
  {
   "cell_type": "code",
   "execution_count": 25,
   "metadata": {},
   "outputs": [],
   "source": [
    "df_Private=pd.concat([df_Pacific[df_Pacific['Private_School']==True],df_NorEast[df_NorEast['Private_School']==True]],axis=0)\n",
    "df_Private[\"Early Career Pay\"]=df_Private[\"Early Career Pay\"].astype(int)\n",
    "\n",
    "df_Public=pd.concat([df_Pacific[df_Pacific['Private_School']==False],df_NorEast[df_NorEast['Private_School']==False]],axis=0)\n",
    "df_Public[\"Early Career Pay\"]=df_Public[\"Early Career Pay\"].astype(int)\n",
    "\n",
    "df_Pacific[\"Early Career Pay\"]=df_Pacific[\"Early Career Pay\"].astype(int)\n",
    "\n",
    "df_NorEast[\"Early Career Pay\"]=df_NorEast[\"Early Career Pay\"].astype(int)"
   ]
  },
  {
   "cell_type": "markdown",
   "metadata": {},
   "source": [
    "# Data Analysis & Results"
   ]
  },
  {
   "cell_type": "markdown",
   "metadata": {},
   "source": [
    "### School Type: Public Vs. Private Universities on Early Career Pay\n",
    "\n",
    "We first wanted to look at the effect of public vs private universities on early career pay. We took a sample of 100 public and 100 private universities to account for a difference in number of school types. Our dataframes include df_Private, a dataframe containing all private schools in our dataset, and df_Public, a dataframe containing all public schools and generated a histogram. \n",
    "\n",
    "This histogram has early career pay on the x-axis and the number of schools within a certain bin on the y-axis. "
   ]
  },
  {
   "cell_type": "code",
   "execution_count": 26,
   "metadata": {},
   "outputs": [
    {
     "data": {
      "text/plain": [
       "Text(0.5, 0, 'Pay')"
      ]
     },
     "execution_count": 26,
     "metadata": {},
     "output_type": "execute_result"
    },
    {
     "data": {
      "image/png": "[encoded data removed]",
      "text/plain": [
       "<Figure size 864x360 with 2 Axes>"
      ]
     },
     "metadata": {},
     "output_type": "display_data"
    }
   ],
   "source": [
    "#get sample here\n",
    "fig, (ax1, ax2) = plt.subplots(ncols=2, sharey=True)\n",
    "\n",
    "df_Private.sample(100).hist(column='Early Career Pay', bins=30,ax=ax1)\n",
    "fig.suptitle('Private Vs. Public in Early Career Pay',size=20)\n",
    "ax1.set_title('Private',size=14)\n",
    "ax1.set_xlabel('Pay',size=14)\n",
    "ax1.set_ylabel('Number of Schools',size=14)\n",
    "\n",
    "df_Public.sample(100).hist(column='Early Career Pay', bins=30,ax=ax2)\n",
    "ax2.set_title('Public',size=14)\n",
    "ax2.set_xlabel('Pay',size=14)"
   ]
  },
  {
   "cell_type": "markdown",
   "metadata": {},
   "source": [
    "**Private Vs. Public in Early Career Pay** This histogram uses data that is a random sample of size 100 of our original dataframe.\n",
    "The point of this histogram is to compare the difference between early career pay in private vs public universities. On the x-axis, we have the early career pay that ranges from ~\\$40,000 to ~\\$100,000. The y-axis represents the number of schools which have the early career pay for private and public schools.\n",
    "\n",
    "Note: this graph is a sample - view full statistics below"
   ]
  },
  {
   "cell_type": "markdown",
   "metadata": {},
   "source": [
    "\n",
    "\n",
    "**Below we generate the basic statistics across all private universities.**"
   ]
  },
  {
   "cell_type": "code",
   "execution_count": 27,
   "metadata": {},
   "outputs": [
    {
     "data": {
      "text/html": [
       "<div>\n",
       "<style scoped>\n",
       "    .dataframe tbody tr th:only-of-type {\n",
       "        vertical-align: middle;\n",
       "    }\n",
       "\n",
       "    .dataframe tbody tr th {\n",
       "        vertical-align: top;\n",
       "    }\n",
       "\n",
       "    .dataframe thead th {\n",
       "        text-align: right;\n",
       "    }\n",
       "</style>\n",
       "<table border=\"1\" class=\"dataframe\">\n",
       "  <thead>\n",
       "    <tr style=\"text-align: right;\">\n",
       "      <th></th>\n",
       "      <th>Early Career Pay</th>\n",
       "    </tr>\n",
       "  </thead>\n",
       "  <tbody>\n",
       "    <tr>\n",
       "      <th>count</th>\n",
       "      <td>358.000000</td>\n",
       "    </tr>\n",
       "    <tr>\n",
       "      <th>mean</th>\n",
       "      <td>54424.581006</td>\n",
       "    </tr>\n",
       "    <tr>\n",
       "      <th>std</th>\n",
       "      <td>9194.515429</td>\n",
       "    </tr>\n",
       "    <tr>\n",
       "      <th>min</th>\n",
       "      <td>34200.000000</td>\n",
       "    </tr>\n",
       "    <tr>\n",
       "      <th>25%</th>\n",
       "      <td>48500.000000</td>\n",
       "    </tr>\n",
       "    <tr>\n",
       "      <th>50%</th>\n",
       "      <td>53000.000000</td>\n",
       "    </tr>\n",
       "    <tr>\n",
       "      <th>75%</th>\n",
       "      <td>58350.000000</td>\n",
       "    </tr>\n",
       "    <tr>\n",
       "      <th>max</th>\n",
       "      <td>93900.000000</td>\n",
       "    </tr>\n",
       "  </tbody>\n",
       "</table>\n",
       "</div>"
      ],
      "text/plain": [
       "       Early Career Pay\n",
       "count        358.000000\n",
       "mean       54424.581006\n",
       "std         9194.515429\n",
       "min        34200.000000\n",
       "25%        48500.000000\n",
       "50%        53000.000000\n",
       "75%        58350.000000\n",
       "max        93900.000000"
      ]
     },
     "execution_count": 27,
     "metadata": {},
     "output_type": "execute_result"
    }
   ],
   "source": [
    "#view the Private vs Early Career Pay statistics \n",
    "df_Private.describe()"
   ]
  },
  {
   "cell_type": "markdown",
   "metadata": {},
   "source": [
    "**Below we generate the basic statistics of all public universities.**"
   ]
  },
  {
   "cell_type": "code",
   "execution_count": 28,
   "metadata": {},
   "outputs": [
    {
     "data": {
      "text/html": [
       "<div>\n",
       "<style scoped>\n",
       "    .dataframe tbody tr th:only-of-type {\n",
       "        vertical-align: middle;\n",
       "    }\n",
       "\n",
       "    .dataframe tbody tr th {\n",
       "        vertical-align: top;\n",
       "    }\n",
       "\n",
       "    .dataframe thead th {\n",
       "        text-align: right;\n",
       "    }\n",
       "</style>\n",
       "<table border=\"1\" class=\"dataframe\">\n",
       "  <thead>\n",
       "    <tr style=\"text-align: right;\">\n",
       "      <th></th>\n",
       "      <th>Early Career Pay</th>\n",
       "    </tr>\n",
       "  </thead>\n",
       "  <tbody>\n",
       "    <tr>\n",
       "      <th>count</th>\n",
       "      <td>177.000000</td>\n",
       "    </tr>\n",
       "    <tr>\n",
       "      <th>mean</th>\n",
       "      <td>53133.898305</td>\n",
       "    </tr>\n",
       "    <tr>\n",
       "      <th>std</th>\n",
       "      <td>7561.932402</td>\n",
       "    </tr>\n",
       "    <tr>\n",
       "      <th>min</th>\n",
       "      <td>38100.000000</td>\n",
       "    </tr>\n",
       "    <tr>\n",
       "      <th>25%</th>\n",
       "      <td>48000.000000</td>\n",
       "    </tr>\n",
       "    <tr>\n",
       "      <th>50%</th>\n",
       "      <td>52000.000000</td>\n",
       "    </tr>\n",
       "    <tr>\n",
       "      <th>75%</th>\n",
       "      <td>57200.000000</td>\n",
       "    </tr>\n",
       "    <tr>\n",
       "      <th>max</th>\n",
       "      <td>84300.000000</td>\n",
       "    </tr>\n",
       "  </tbody>\n",
       "</table>\n",
       "</div>"
      ],
      "text/plain": [
       "       Early Career Pay\n",
       "count        177.000000\n",
       "mean       53133.898305\n",
       "std         7561.932402\n",
       "min        38100.000000\n",
       "25%        48000.000000\n",
       "50%        52000.000000\n",
       "75%        57200.000000\n",
       "max        84300.000000"
      ]
     },
     "execution_count": 28,
     "metadata": {},
     "output_type": "execute_result"
    }
   ],
   "source": [
    "#view the Public vs Early Career Pay statistics \n",
    "df_Public.describe()"
   ]
  },
  {
   "cell_type": "markdown",
   "metadata": {},
   "source": [
    "**Basic Statistics Public vs. Private**: In comparing the basic statistics above between private and public universities, there are a few major differences. The first of these differences is that private universities have a higher average early career pay (\\$54424.581006 > \\$53133.898305) than public universities. Secondly the standard deviation in both of these fields is higher for private universities than public universities with the standard deviation being over \\$2000 more for private universities than public ones. Additionally the maximum pay and the highest percentiles of pay for early career pay is significantly higher for private schools than that of public schools as seen above. However public schools have a greater minimum pay than public schools in our dataset for both early (\\$38100 > \\$34200)."
   ]
  },
  {
   "cell_type": "markdown",
   "metadata": {},
   "source": [
    "### Region: Northeast Vs. Pacific on Early Career Pay\n",
    "\n",
    "\n",
    "After analyzing school type, we wanted to look at the effect of universities in the Northeast vs Pacific regions on early career pay. We took a sample of 100 Northeast and 100 Pacific universities to account for the difference of schools in each region. Our dataframes include df_NorEast, a dataframe containing all Northeast schools in our dataset, and df_Pacific, a dataframe containing all Pacific schools and generated a histogram. \n",
    "\n",
    "This histogram has early career pay is on the x-axis and the number of schools in each bin on the y-axis. "
   ]
  },
  {
   "cell_type": "code",
   "execution_count": 30,
   "metadata": {},
   "outputs": [
    {
     "data": {
      "text/plain": [
       "Text(0.5, 0, 'Pay')"
      ]
     },
     "execution_count": 30,
     "metadata": {},
     "output_type": "execute_result"
    },
    {
     "data": {
      "image/png": "[encoded data removed]",
      "text/plain": [
       "<Figure size 864x360 with 2 Axes>"
      ]
     },
     "metadata": {},
     "output_type": "display_data"
    }
   ],
   "source": [
    "#get sample here\n",
    "fig, (ax1, ax2) = plt.subplots(ncols=2, sharey=True)\n",
    "fig.suptitle('Pacific Vs. Northeast in Early Career Pay',size=20)\n",
    "\n",
    "df_Pacific.sample(100).hist(column='Early Career Pay', bins=30,ax=ax1, color = \"green\")\n",
    "ax1.set_title('Pacific',size=14)\n",
    "ax1.set_xlabel('Pay',size=14)\n",
    "ax1.set_ylabel('Number of Schools',size=14)\n",
    "\n",
    "df_NorEast.sample(100).hist(column='Early Career Pay', bins=30,ax=ax2, color = \"green\")\n",
    "ax2.set_title('Northeast',size=14)\n",
    "ax2.set_xlabel('Pay',size=14)"
   ]
  },
  {
   "cell_type": "markdown",
   "metadata": {},
   "source": [
    "**Pacific Vs. Northeast in Early Career Pay**\n",
    "The point of this histogram is to compare the difference between early career pay in Pacific vs Northeast universities. On the x-axis, we have the early career pay that ranges from ~\\$40,000 to ~\\$100,000. The y-axis represents the number of schools which have the early career pay for pacific and northeastern schools."
   ]
  },
  {
   "cell_type": "code",
   "execution_count": 31,
   "metadata": {},
   "outputs": [
    {
     "data": {
      "text/html": [
       "<div>\n",
       "<style scoped>\n",
       "    .dataframe tbody tr th:only-of-type {\n",
       "        vertical-align: middle;\n",
       "    }\n",
       "\n",
       "    .dataframe tbody tr th {\n",
       "        vertical-align: top;\n",
       "    }\n",
       "\n",
       "    .dataframe thead th {\n",
       "        text-align: right;\n",
       "    }\n",
       "</style>\n",
       "<table border=\"1\" class=\"dataframe\">\n",
       "  <thead>\n",
       "    <tr style=\"text-align: right;\">\n",
       "      <th></th>\n",
       "      <th>Early Career Pay</th>\n",
       "    </tr>\n",
       "  </thead>\n",
       "  <tbody>\n",
       "    <tr>\n",
       "      <th>count</th>\n",
       "      <td>154.000000</td>\n",
       "    </tr>\n",
       "    <tr>\n",
       "      <th>mean</th>\n",
       "      <td>55273.376623</td>\n",
       "    </tr>\n",
       "    <tr>\n",
       "      <th>std</th>\n",
       "      <td>8993.193085</td>\n",
       "    </tr>\n",
       "    <tr>\n",
       "      <th>min</th>\n",
       "      <td>35800.000000</td>\n",
       "    </tr>\n",
       "    <tr>\n",
       "      <th>25%</th>\n",
       "      <td>50400.000000</td>\n",
       "    </tr>\n",
       "    <tr>\n",
       "      <th>50%</th>\n",
       "      <td>53900.000000</td>\n",
       "    </tr>\n",
       "    <tr>\n",
       "      <th>75%</th>\n",
       "      <td>58700.000000</td>\n",
       "    </tr>\n",
       "    <tr>\n",
       "      <th>max</th>\n",
       "      <td>93900.000000</td>\n",
       "    </tr>\n",
       "  </tbody>\n",
       "</table>\n",
       "</div>"
      ],
      "text/plain": [
       "       Early Career Pay\n",
       "count        154.000000\n",
       "mean       55273.376623\n",
       "std         8993.193085\n",
       "min        35800.000000\n",
       "25%        50400.000000\n",
       "50%        53900.000000\n",
       "75%        58700.000000\n",
       "max        93900.000000"
      ]
     },
     "execution_count": 31,
     "metadata": {},
     "output_type": "execute_result"
    }
   ],
   "source": [
    "#view the Pacific vs Early Career Pay statistics \n",
    "df_Pacific.describe()"
   ]
  },
  {
   "cell_type": "code",
   "execution_count": 32,
   "metadata": {},
   "outputs": [
    {
     "data": {
      "text/html": [
       "<div>\n",
       "<style scoped>\n",
       "    .dataframe tbody tr th:only-of-type {\n",
       "        vertical-align: middle;\n",
       "    }\n",
       "\n",
       "    .dataframe tbody tr th {\n",
       "        vertical-align: top;\n",
       "    }\n",
       "\n",
       "    .dataframe thead th {\n",
       "        text-align: right;\n",
       "    }\n",
       "</style>\n",
       "<table border=\"1\" class=\"dataframe\">\n",
       "  <thead>\n",
       "    <tr style=\"text-align: right;\">\n",
       "      <th></th>\n",
       "      <th>Early Career Pay</th>\n",
       "    </tr>\n",
       "  </thead>\n",
       "  <tbody>\n",
       "    <tr>\n",
       "      <th>count</th>\n",
       "      <td>381.000000</td>\n",
       "    </tr>\n",
       "    <tr>\n",
       "      <th>mean</th>\n",
       "      <td>53481.889764</td>\n",
       "    </tr>\n",
       "    <tr>\n",
       "      <th>std</th>\n",
       "      <td>8540.261465</td>\n",
       "    </tr>\n",
       "    <tr>\n",
       "      <th>min</th>\n",
       "      <td>34200.000000</td>\n",
       "    </tr>\n",
       "    <tr>\n",
       "      <th>25%</th>\n",
       "      <td>47900.000000</td>\n",
       "    </tr>\n",
       "    <tr>\n",
       "      <th>50%</th>\n",
       "      <td>52300.000000</td>\n",
       "    </tr>\n",
       "    <tr>\n",
       "      <th>75%</th>\n",
       "      <td>57100.000000</td>\n",
       "    </tr>\n",
       "    <tr>\n",
       "      <th>max</th>\n",
       "      <td>88300.000000</td>\n",
       "    </tr>\n",
       "  </tbody>\n",
       "</table>\n",
       "</div>"
      ],
      "text/plain": [
       "       Early Career Pay\n",
       "count        381.000000\n",
       "mean       53481.889764\n",
       "std         8540.261465\n",
       "min        34200.000000\n",
       "25%        47900.000000\n",
       "50%        52300.000000\n",
       "75%        57100.000000\n",
       "max        88300.000000"
      ]
     },
     "execution_count": 32,
     "metadata": {},
     "output_type": "execute_result"
    }
   ],
   "source": [
    "#view the Northeast vs Early Career Pay statistics \n",
    "df_NorEast.describe()"
   ]
  },
  {
   "cell_type": "markdown",
   "metadata": {},
   "source": [
    "**Basic Statistics Northeast vs. Pacific**: In comparing the basic statistics above between universities of the northeast and the universities of the pacific, there are two major differences. The first of these differences is that pacific universities have a higher average early career pay (\\$55273.376623 > \\$53481.889764) than northeastern universities. The second of these differences is that in all percentiles, graduates of pacific universities earn more than those of northeastern universities."
   ]
  },
  {
   "cell_type": "markdown",
   "metadata": {},
   "source": [
    "### School Type and Region on Early Career Pay\n",
    "\n",
    "After analyzing school type and region individually, we wanted to look at the effect of both school type and region on early career pay. Our dataframe is df_All which includes all schools and generated a boxplot. "
   ]
  },
  {
   "cell_type": "code",
   "execution_count": 33,
   "metadata": {},
   "outputs": [
    {
     "data": {
      "text/plain": [
       "<matplotlib.legend.Legend at 0x7f5d949b0790>"
      ]
     },
     "execution_count": 33,
     "metadata": {},
     "output_type": "execute_result"
    },
    {
     "data": {
      "image/png": "[encoded data removed]",
      "text/plain": [
       "<Figure size 864x360 with 1 Axes>"
      ]
     },
     "metadata": {},
     "output_type": "display_data"
    }
   ],
   "source": [
    "sns.boxplot(x=\"SchoolType\", y=\"Early Career Pay\", hue=\"Region\", data=df_All, palette=\"flare\", linewidth=None, fliersize=2)\n",
    "plt.legend(loc=\"upper right\",bbox_to_anchor=(1.25, 1))"
   ]
  },
  {
   "cell_type": "markdown",
   "metadata": {},
   "source": [
    "**Pacific vs Northeast Early Career Pay**\n",
    "This boxplot shows the difference between pacific private and public universities with early career pay. The light pink represents public universities (ie private = false) and the magenta represents private universities (ie private = true). The barplot also shows the standard error."
   ]
  },
  {
   "cell_type": "markdown",
   "metadata": {},
   "source": [
    "### School Type Within Pacific Region ###"
   ]
  },
  {
   "cell_type": "markdown",
   "metadata": {},
   "source": [
    "The statistics early career pay of pacific public universities:"
   ]
  },
  {
   "cell_type": "code",
   "execution_count": 34,
   "metadata": {},
   "outputs": [
    {
     "data": {
      "text/html": [
       "<div>\n",
       "<style scoped>\n",
       "    .dataframe tbody tr th:only-of-type {\n",
       "        vertical-align: middle;\n",
       "    }\n",
       "\n",
       "    .dataframe tbody tr th {\n",
       "        vertical-align: top;\n",
       "    }\n",
       "\n",
       "    .dataframe thead th {\n",
       "        text-align: right;\n",
       "    }\n",
       "</style>\n",
       "<table border=\"1\" class=\"dataframe\">\n",
       "  <thead>\n",
       "    <tr style=\"text-align: right;\">\n",
       "      <th></th>\n",
       "      <th>Early Career Pay</th>\n",
       "    </tr>\n",
       "  </thead>\n",
       "  <tbody>\n",
       "    <tr>\n",
       "      <th>count</th>\n",
       "      <td>56.000000</td>\n",
       "    </tr>\n",
       "    <tr>\n",
       "      <th>mean</th>\n",
       "      <td>55514.285714</td>\n",
       "    </tr>\n",
       "    <tr>\n",
       "      <th>std</th>\n",
       "      <td>6719.291861</td>\n",
       "    </tr>\n",
       "    <tr>\n",
       "      <th>min</th>\n",
       "      <td>43500.000000</td>\n",
       "    </tr>\n",
       "    <tr>\n",
       "      <th>25%</th>\n",
       "      <td>51175.000000</td>\n",
       "    </tr>\n",
       "    <tr>\n",
       "      <th>50%</th>\n",
       "      <td>54100.000000</td>\n",
       "    </tr>\n",
       "    <tr>\n",
       "      <th>75%</th>\n",
       "      <td>59450.000000</td>\n",
       "    </tr>\n",
       "    <tr>\n",
       "      <th>max</th>\n",
       "      <td>72600.000000</td>\n",
       "    </tr>\n",
       "  </tbody>\n",
       "</table>\n",
       "</div>"
      ],
      "text/plain": [
       "       Early Career Pay\n",
       "count         56.000000\n",
       "mean       55514.285714\n",
       "std         6719.291861\n",
       "min        43500.000000\n",
       "25%        51175.000000\n",
       "50%        54100.000000\n",
       "75%        59450.000000\n",
       "max        72600.000000"
      ]
     },
     "execution_count": 34,
     "metadata": {},
     "output_type": "execute_result"
    }
   ],
   "source": [
    "df_Pacific[df_Pacific['Private_School']==False].describe()"
   ]
  },
  {
   "cell_type": "markdown",
   "metadata": {},
   "source": [
    "The statistics early career pay of pacific private universities:"
   ]
  },
  {
   "cell_type": "code",
   "execution_count": 35,
   "metadata": {},
   "outputs": [
    {
     "data": {
      "text/html": [
       "<div>\n",
       "<style scoped>\n",
       "    .dataframe tbody tr th:only-of-type {\n",
       "        vertical-align: middle;\n",
       "    }\n",
       "\n",
       "    .dataframe tbody tr th {\n",
       "        vertical-align: top;\n",
       "    }\n",
       "\n",
       "    .dataframe thead th {\n",
       "        text-align: right;\n",
       "    }\n",
       "</style>\n",
       "<table border=\"1\" class=\"dataframe\">\n",
       "  <thead>\n",
       "    <tr style=\"text-align: right;\">\n",
       "      <th></th>\n",
       "      <th>Early Career Pay</th>\n",
       "    </tr>\n",
       "  </thead>\n",
       "  <tbody>\n",
       "    <tr>\n",
       "      <th>count</th>\n",
       "      <td>98.000000</td>\n",
       "    </tr>\n",
       "    <tr>\n",
       "      <th>mean</th>\n",
       "      <td>55135.714286</td>\n",
       "    </tr>\n",
       "    <tr>\n",
       "      <th>std</th>\n",
       "      <td>10095.403159</td>\n",
       "    </tr>\n",
       "    <tr>\n",
       "      <th>min</th>\n",
       "      <td>35800.000000</td>\n",
       "    </tr>\n",
       "    <tr>\n",
       "      <th>25%</th>\n",
       "      <td>49500.000000</td>\n",
       "    </tr>\n",
       "    <tr>\n",
       "      <th>50%</th>\n",
       "      <td>53850.000000</td>\n",
       "    </tr>\n",
       "    <tr>\n",
       "      <th>75%</th>\n",
       "      <td>57600.000000</td>\n",
       "    </tr>\n",
       "    <tr>\n",
       "      <th>max</th>\n",
       "      <td>93900.000000</td>\n",
       "    </tr>\n",
       "  </tbody>\n",
       "</table>\n",
       "</div>"
      ],
      "text/plain": [
       "       Early Career Pay\n",
       "count         98.000000\n",
       "mean       55135.714286\n",
       "std        10095.403159\n",
       "min        35800.000000\n",
       "25%        49500.000000\n",
       "50%        53850.000000\n",
       "75%        57600.000000\n",
       "max        93900.000000"
      ]
     },
     "execution_count": 35,
     "metadata": {},
     "output_type": "execute_result"
    }
   ],
   "source": [
    "df_Pacific[df_Pacific['Private_School']==True].describe()"
   ]
  },
  {
   "cell_type": "markdown",
   "metadata": {},
   "source": [
    "**Basic Statistics Pacific Private vs. Public**: From this comparison we can see that there is no significant difference in average pay between pacific private and public universities. However, private universities differ from public universities in the west in that 1) the maximum pay in early career pay is higher than public universities in our dataset, 2) in our dataset the minimum pay in early career is higher for graduates of public universities, and 3) the variation from the average pay is higher for private universities in the pacific than public ones"
   ]
  },
  {
   "cell_type": "markdown",
   "metadata": {},
   "source": [
    "### School Type Within Northeast Region ###"
   ]
  },
  {
   "cell_type": "markdown",
   "metadata": {},
   "source": [
    "The statistics early career pay of Northeast public universities:"
   ]
  },
  {
   "cell_type": "code",
   "execution_count": 36,
   "metadata": {},
   "outputs": [
    {
     "data": {
      "text/html": [
       "<div>\n",
       "<style scoped>\n",
       "    .dataframe tbody tr th:only-of-type {\n",
       "        vertical-align: middle;\n",
       "    }\n",
       "\n",
       "    .dataframe tbody tr th {\n",
       "        vertical-align: top;\n",
       "    }\n",
       "\n",
       "    .dataframe thead th {\n",
       "        text-align: right;\n",
       "    }\n",
       "</style>\n",
       "<table border=\"1\" class=\"dataframe\">\n",
       "  <thead>\n",
       "    <tr style=\"text-align: right;\">\n",
       "      <th></th>\n",
       "      <th>Early Career Pay</th>\n",
       "    </tr>\n",
       "  </thead>\n",
       "  <tbody>\n",
       "    <tr>\n",
       "      <th>count</th>\n",
       "      <td>121.000000</td>\n",
       "    </tr>\n",
       "    <tr>\n",
       "      <th>mean</th>\n",
       "      <td>52032.231405</td>\n",
       "    </tr>\n",
       "    <tr>\n",
       "      <th>std</th>\n",
       "      <td>7701.095321</td>\n",
       "    </tr>\n",
       "    <tr>\n",
       "      <th>min</th>\n",
       "      <td>38100.000000</td>\n",
       "    </tr>\n",
       "    <tr>\n",
       "      <th>25%</th>\n",
       "      <td>47300.000000</td>\n",
       "    </tr>\n",
       "    <tr>\n",
       "      <th>50%</th>\n",
       "      <td>50900.000000</td>\n",
       "    </tr>\n",
       "    <tr>\n",
       "      <th>75%</th>\n",
       "      <td>54400.000000</td>\n",
       "    </tr>\n",
       "    <tr>\n",
       "      <th>max</th>\n",
       "      <td>84300.000000</td>\n",
       "    </tr>\n",
       "  </tbody>\n",
       "</table>\n",
       "</div>"
      ],
      "text/plain": [
       "       Early Career Pay\n",
       "count        121.000000\n",
       "mean       52032.231405\n",
       "std         7701.095321\n",
       "min        38100.000000\n",
       "25%        47300.000000\n",
       "50%        50900.000000\n",
       "75%        54400.000000\n",
       "max        84300.000000"
      ]
     },
     "execution_count": 36,
     "metadata": {},
     "output_type": "execute_result"
    }
   ],
   "source": [
    "df_NorEast[df_NorEast['Private_School']==False].describe()"
   ]
  },
  {
   "cell_type": "markdown",
   "metadata": {},
   "source": [
    "The statistics early career pay of northeastern private universities:"
   ]
  },
  {
   "cell_type": "code",
   "execution_count": 37,
   "metadata": {},
   "outputs": [
    {
     "data": {
      "text/html": [
       "<div>\n",
       "<style scoped>\n",
       "    .dataframe tbody tr th:only-of-type {\n",
       "        vertical-align: middle;\n",
       "    }\n",
       "\n",
       "    .dataframe tbody tr th {\n",
       "        vertical-align: top;\n",
       "    }\n",
       "\n",
       "    .dataframe thead th {\n",
       "        text-align: right;\n",
       "    }\n",
       "</style>\n",
       "<table border=\"1\" class=\"dataframe\">\n",
       "  <thead>\n",
       "    <tr style=\"text-align: right;\">\n",
       "      <th></th>\n",
       "      <th>Early Career Pay</th>\n",
       "    </tr>\n",
       "  </thead>\n",
       "  <tbody>\n",
       "    <tr>\n",
       "      <th>count</th>\n",
       "      <td>260.000000</td>\n",
       "    </tr>\n",
       "    <tr>\n",
       "      <th>mean</th>\n",
       "      <td>54156.538462</td>\n",
       "    </tr>\n",
       "    <tr>\n",
       "      <th>std</th>\n",
       "      <td>8837.061935</td>\n",
       "    </tr>\n",
       "    <tr>\n",
       "      <th>min</th>\n",
       "      <td>34200.000000</td>\n",
       "    </tr>\n",
       "    <tr>\n",
       "      <th>25%</th>\n",
       "      <td>48200.000000</td>\n",
       "    </tr>\n",
       "    <tr>\n",
       "      <th>50%</th>\n",
       "      <td>52750.000000</td>\n",
       "    </tr>\n",
       "    <tr>\n",
       "      <th>75%</th>\n",
       "      <td>58525.000000</td>\n",
       "    </tr>\n",
       "    <tr>\n",
       "      <th>max</th>\n",
       "      <td>88300.000000</td>\n",
       "    </tr>\n",
       "  </tbody>\n",
       "</table>\n",
       "</div>"
      ],
      "text/plain": [
       "       Early Career Pay\n",
       "count        260.000000\n",
       "mean       54156.538462\n",
       "std         8837.061935\n",
       "min        34200.000000\n",
       "25%        48200.000000\n",
       "50%        52750.000000\n",
       "75%        58525.000000\n",
       "max        88300.000000"
      ]
     },
     "execution_count": 37,
     "metadata": {},
     "output_type": "execute_result"
    }
   ],
   "source": [
    "df_NorEast[df_NorEast['Private_School']==True].describe()"
   ]
  },
  {
   "cell_type": "markdown",
   "metadata": {},
   "source": [
    "**Basic Statistics Northeast Private vs. Public**: From this comparison we can see that on average graduates of private universities in the northeastern United States earn more than graduates of public universities. In fact, graduates of private universities in the northeast earn higher in all percentiles than graduates of public universities in the northeast."
   ]
  },
  {
   "cell_type": "markdown",
   "metadata": {},
   "source": [
    "### Finding  A Significance"
   ]
  },
  {
   "cell_type": "markdown",
   "metadata": {},
   "source": [
    "We first rename the Early Career Pay column to make it easier for OLS syntax. Then, we view the pivot table for early career pay split by region and school type."
   ]
  },
  {
   "cell_type": "code",
   "execution_count": 38,
   "metadata": {},
   "outputs": [
    {
     "data": {
      "text/html": [
       "<div>\n",
       "<style scoped>\n",
       "    .dataframe tbody tr th:only-of-type {\n",
       "        vertical-align: middle;\n",
       "    }\n",
       "\n",
       "    .dataframe tbody tr th {\n",
       "        vertical-align: top;\n",
       "    }\n",
       "\n",
       "    .dataframe thead th {\n",
       "        text-align: right;\n",
       "    }\n",
       "</style>\n",
       "<table border=\"1\" class=\"dataframe\">\n",
       "  <thead>\n",
       "    <tr style=\"text-align: right;\">\n",
       "      <th></th>\n",
       "      <th></th>\n",
       "      <th>Early_Career_Pay</th>\n",
       "    </tr>\n",
       "    <tr>\n",
       "      <th>SchoolType</th>\n",
       "      <th>Region</th>\n",
       "      <th></th>\n",
       "    </tr>\n",
       "  </thead>\n",
       "  <tbody>\n",
       "    <tr>\n",
       "      <th rowspan=\"2\" valign=\"top\">Private</th>\n",
       "      <th>Northeastern</th>\n",
       "      <td>54156.538462</td>\n",
       "    </tr>\n",
       "    <tr>\n",
       "      <th>Pacific</th>\n",
       "      <td>55135.714286</td>\n",
       "    </tr>\n",
       "    <tr>\n",
       "      <th rowspan=\"2\" valign=\"top\">Public</th>\n",
       "      <th>Northeastern</th>\n",
       "      <td>52032.231405</td>\n",
       "    </tr>\n",
       "    <tr>\n",
       "      <th>Pacific</th>\n",
       "      <td>55514.285714</td>\n",
       "    </tr>\n",
       "  </tbody>\n",
       "</table>\n",
       "</div>"
      ],
      "text/plain": [
       "                         Early_Career_Pay\n",
       "SchoolType Region                        \n",
       "Private    Northeastern      54156.538462\n",
       "           Pacific           55135.714286\n",
       "Public     Northeastern      52032.231405\n",
       "           Pacific           55514.285714"
      ]
     },
     "execution_count": 38,
     "metadata": {},
     "output_type": "execute_result"
    }
   ],
   "source": [
    "#rename Early Career Pay before ols\n",
    "df_All.rename(columns={'Early Career Pay':'Early_Career_Pay'}, inplace=True)\n",
    "\n",
    "pv = pd.pivot_table(df_All, values= 'Early_Career_Pay', index= ['SchoolType', 'Region'])\n",
    "pv"
   ]
  },
  {
   "cell_type": "markdown",
   "metadata": {},
   "source": [
    "#### OLS Analysis - School Type\n",
    "\n",
    "Below we run an OLS analysis using school type as a single predictor of early career pay and print its summary statistics."
   ]
  },
  {
   "cell_type": "code",
   "execution_count": 39,
   "metadata": {},
   "outputs": [],
   "source": [
    "outcome_1, predictors_1 = patsy.dmatrices('Early_Career_Pay ~ SchoolType', df_All)\n",
    "mod_1 = sm.OLS(outcome_1, predictors_1)\n",
    "res_1 = mod_1.fit()"
   ]
  },
  {
   "cell_type": "code",
   "execution_count": 40,
   "metadata": {},
   "outputs": [
    {
     "name": "stdout",
     "output_type": "stream",
     "text": [
      "                            OLS Regression Results                            \n",
      "==============================================================================\n",
      "Dep. Variable:       Early_Career_Pay   R-squared:                       0.005\n",
      "Model:                            OLS   Adj. R-squared:                  0.003\n",
      "Method:                 Least Squares   F-statistic:                     2.613\n",
      "Date:                Tue, 08 Jun 2021   Prob (F-statistic):              0.107\n",
      "Time:                        20:24:19   Log-Likelihood:                -5610.5\n",
      "No. Observations:                 535   AIC:                         1.123e+04\n",
      "Df Residuals:                     533   BIC:                         1.123e+04\n",
      "Df Model:                           1                                         \n",
      "Covariance Type:            nonrobust                                         \n",
      "========================================================================================\n",
      "                           coef    std err          t      P>|t|      [0.025      0.975]\n",
      "----------------------------------------------------------------------------------------\n",
      "Intercept             5.442e+04    459.250    118.508      0.000    5.35e+04    5.53e+04\n",
      "SchoolType[T.Public] -1290.6827    798.434     -1.617      0.107   -2859.147     277.781\n",
      "==============================================================================\n",
      "Omnibus:                      119.545   Durbin-Watson:                   0.612\n",
      "Prob(Omnibus):                  0.000   Jarque-Bera (JB):              263.193\n",
      "Skew:                           1.181   Prob(JB):                     7.05e-58\n",
      "Kurtosis:                       5.496   Cond. No.                         2.41\n",
      "==============================================================================\n",
      "\n",
      "Notes:\n",
      "[1] Standard Errors assume that the covariance matrix of the errors is correctly specified.\n"
     ]
    }
   ],
   "source": [
    "print(res_1.summary())"
   ]
  },
  {
   "cell_type": "markdown",
   "metadata": {},
   "source": [
    "**School Type on Early Career Pay:** From this regression model, we can see that the p-value is 0.107, which is greater than 0.05. Therefore, we can determine that there is not a significant effect of school type (Private vs Public) on Early Career Pay, and that it is due to chance alone. "
   ]
  },
  {
   "cell_type": "markdown",
   "metadata": {},
   "source": [
    "#### OLS Analysis - Region\n",
    "\n",
    "Below we run an OLS analysis using region as a single predictor of early career pay and print its summary statistics."
   ]
  },
  {
   "cell_type": "code",
   "execution_count": 41,
   "metadata": {},
   "outputs": [],
   "source": [
    "outcome_2, predictors_2 = patsy.dmatrices('Early_Career_Pay ~ Region', df_All)\n",
    "mod_2 = sm.OLS(outcome_2, predictors_2)\n",
    "res_2 = mod_2.fit()"
   ]
  },
  {
   "cell_type": "code",
   "execution_count": 42,
   "metadata": {},
   "outputs": [
    {
     "name": "stdout",
     "output_type": "stream",
     "text": [
      "                            OLS Regression Results                            \n",
      "==============================================================================\n",
      "Dep. Variable:       Early_Career_Pay   R-squared:                       0.009\n",
      "Model:                            OLS   Adj. R-squared:                  0.007\n",
      "Method:                 Least Squares   F-statistic:                     4.680\n",
      "Date:                Tue, 08 Jun 2021   Prob (F-statistic):             0.0310\n",
      "Time:                        20:24:19   Log-Likelihood:                -5609.5\n",
      "No. Observations:                 535   AIC:                         1.122e+04\n",
      "Df Residuals:                     533   BIC:                         1.123e+04\n",
      "Df Model:                           1                                         \n",
      "Covariance Type:            nonrobust                                         \n",
      "=====================================================================================\n",
      "                        coef    std err          t      P>|t|      [0.025      0.975]\n",
      "-------------------------------------------------------------------------------------\n",
      "Intercept          5.348e+04    444.316    120.369      0.000    5.26e+04    5.44e+04\n",
      "Region[T.Pacific]  1791.4869    828.149      2.163      0.031     164.651    3418.322\n",
      "==============================================================================\n",
      "Omnibus:                      122.032   Durbin-Watson:                   0.605\n",
      "Prob(Omnibus):                  0.000   Jarque-Bera (JB):              265.924\n",
      "Skew:                           1.210   Prob(JB):                     1.80e-58\n",
      "Kurtosis:                       5.465   Cond. No.                         2.43\n",
      "==============================================================================\n",
      "\n",
      "Notes:\n",
      "[1] Standard Errors assume that the covariance matrix of the errors is correctly specified.\n"
     ]
    }
   ],
   "source": [
    "print(res_2.summary())"
   ]
  },
  {
   "cell_type": "markdown",
   "metadata": {},
   "source": [
    "**Region on Early Career Pay:** From this regression model, we can see that the p-value is 0.031, which is less than 0.05. Therefore, we can determine that there is a significant effect of Region (Northeast vs Pacific) on Early Career Pay that is not due to chance alone. "
   ]
  },
  {
   "cell_type": "markdown",
   "metadata": {},
   "source": [
    "#### OLS Analysis - School Type and Region\n",
    "\n",
    "Below we run an OLS analysis using both school type and region as predictors of early career pay and print its summary statistics."
   ]
  },
  {
   "cell_type": "code",
   "execution_count": 43,
   "metadata": {},
   "outputs": [],
   "source": [
    "outcome_3, predictors_3 = patsy.dmatrices('Early_Career_Pay ~ SchoolType+Region', df_All)\n",
    "mod_3 = sm.OLS(outcome_3, predictors_3)\n",
    "res_3 = mod_3.fit()"
   ]
  },
  {
   "cell_type": "code",
   "execution_count": 44,
   "metadata": {},
   "outputs": [
    {
     "name": "stdout",
     "output_type": "stream",
     "text": [
      "                            OLS Regression Results                            \n",
      "==============================================================================\n",
      "Dep. Variable:       Early_Career_Pay   R-squared:                       0.014\n",
      "Model:                            OLS   Adj. R-squared:                  0.010\n",
      "Method:                 Least Squares   F-statistic:                     3.828\n",
      "Date:                Tue, 08 Jun 2021   Prob (F-statistic):             0.0224\n",
      "Time:                        20:24:19   Log-Likelihood:                -5608.0\n",
      "No. Observations:                 535   AIC:                         1.122e+04\n",
      "Df Residuals:                     532   BIC:                         1.123e+04\n",
      "Df Model:                           2                                         \n",
      "Covariance Type:            nonrobust                                         \n",
      "========================================================================================\n",
      "                           coef    std err          t      P>|t|      [0.025      0.975]\n",
      "----------------------------------------------------------------------------------------\n",
      "Intercept             5.392e+04    510.525    105.611      0.000    5.29e+04    5.49e+04\n",
      "SchoolType[T.Public] -1369.7636    796.220     -1.720      0.086   -2933.884     194.357\n",
      "Region[T.Pacific]     1854.5659    827.443      2.241      0.025     229.109    3480.023\n",
      "==============================================================================\n",
      "Omnibus:                      117.983   Durbin-Watson:                   0.622\n",
      "Prob(Omnibus):                  0.000   Jarque-Bera (JB):              252.965\n",
      "Skew:                           1.178   Prob(JB):                     1.17e-55\n",
      "Kurtosis:                       5.408   Cond. No.                         2.62\n",
      "==============================================================================\n",
      "\n",
      "Notes:\n",
      "[1] Standard Errors assume that the covariance matrix of the errors is correctly specified.\n"
     ]
    }
   ],
   "source": [
    "print(res_3.summary())"
   ]
  },
  {
   "cell_type": "markdown",
   "metadata": {},
   "source": [
    "**School Type and Region on Early Career Pay:** We are using a linear model to predict Early Career Pay from both school type (private vs public) and region (Northeast vs Pacific). Even when we take into account region (which is significant from regression above), there is still no significance of school type on early career pay. The P value for school type is 0.086 which is < 0.05 and thus not significant. On the other hand, the P value for region is 0.025 which is < 0.05 which is significant."
   ]
  },
  {
   "cell_type": "markdown",
   "metadata": {},
   "source": [
    "### Outliers ###"
   ]
  },
  {
   "cell_type": "code",
   "execution_count": 45,
   "metadata": {},
   "outputs": [
    {
     "data": {
      "text/html": [
       "<div>\n",
       "<style scoped>\n",
       "    .dataframe tbody tr th:only-of-type {\n",
       "        vertical-align: middle;\n",
       "    }\n",
       "\n",
       "    .dataframe tbody tr th {\n",
       "        vertical-align: top;\n",
       "    }\n",
       "\n",
       "    .dataframe thead th {\n",
       "        text-align: right;\n",
       "    }\n",
       "</style>\n",
       "<table border=\"1\" class=\"dataframe\">\n",
       "  <thead>\n",
       "    <tr style=\"text-align: right;\">\n",
       "      <th></th>\n",
       "      <th>School Name</th>\n",
       "      <th>Early Career Pay</th>\n",
       "      <th>Private_School</th>\n",
       "      <th>Pacific</th>\n",
       "    </tr>\n",
       "  </thead>\n",
       "  <tbody>\n",
       "    <tr>\n",
       "      <th>7</th>\n",
       "      <td>Samuel Merritt University</td>\n",
       "      <td>93900</td>\n",
       "      <td>True</td>\n",
       "      <td>True</td>\n",
       "    </tr>\n",
       "    <tr>\n",
       "      <th>0</th>\n",
       "      <td>Harvey Mudd College</td>\n",
       "      <td>91400</td>\n",
       "      <td>True</td>\n",
       "      <td>True</td>\n",
       "    </tr>\n",
       "    <tr>\n",
       "      <th>1</th>\n",
       "      <td>California Institute of Technology</td>\n",
       "      <td>87600</td>\n",
       "      <td>True</td>\n",
       "      <td>True</td>\n",
       "    </tr>\n",
       "    <tr>\n",
       "      <th>8</th>\n",
       "      <td>Charles R Drew University of Medicine and Science</td>\n",
       "      <td>85700</td>\n",
       "      <td>True</td>\n",
       "      <td>True</td>\n",
       "    </tr>\n",
       "    <tr>\n",
       "      <th>2</th>\n",
       "      <td>Stanford University</td>\n",
       "      <td>81800</td>\n",
       "      <td>True</td>\n",
       "      <td>True</td>\n",
       "    </tr>\n",
       "  </tbody>\n",
       "</table>\n",
       "</div>"
      ],
      "text/plain": [
       "                                         School Name  Early Career Pay  \\\n",
       "7                          Samuel Merritt University             93900   \n",
       "0                                Harvey Mudd College             91400   \n",
       "1                 California Institute of Technology             87600   \n",
       "8  Charles R Drew University of Medicine and Science             85700   \n",
       "2                                Stanford University             81800   \n",
       "\n",
       "   Private_School  Pacific  \n",
       "7            True     True  \n",
       "0            True     True  \n",
       "1            True     True  \n",
       "8            True     True  \n",
       "2            True     True  "
      ]
     },
     "execution_count": 45,
     "metadata": {},
     "output_type": "execute_result"
    }
   ],
   "source": [
    "df_Pacific[df_Pacific['Early Career Pay'].isin(df_Pacific['Early Career Pay'].nlargest(5))].sort_values(\"Early Career Pay\",ascending=False)"
   ]
  },
  {
   "cell_type": "markdown",
   "metadata": {},
   "source": [
    "Of the top early career pay earners of the pacific, Harvey Mudd College, California Institute of Technology, and Stanford are known as highly selective universities that output high achieving graduates. Samuel Merritt University is one in Oakland, CA that does not seem to have a lot of information online. It may be ranked one of the highest earners because of low survey responses for that university. Charles R Drew University of Medicine and Science is a medical school; doctors are known to be high earners so that can be a factor in its ranking."
   ]
  },
  {
   "cell_type": "code",
   "execution_count": 46,
   "metadata": {},
   "outputs": [
    {
     "data": {
      "text/html": [
       "<div>\n",
       "<style scoped>\n",
       "    .dataframe tbody tr th:only-of-type {\n",
       "        vertical-align: middle;\n",
       "    }\n",
       "\n",
       "    .dataframe tbody tr th {\n",
       "        vertical-align: top;\n",
       "    }\n",
       "\n",
       "    .dataframe thead th {\n",
       "        text-align: right;\n",
       "    }\n",
       "</style>\n",
       "<table border=\"1\" class=\"dataframe\">\n",
       "  <thead>\n",
       "    <tr style=\"text-align: right;\">\n",
       "      <th></th>\n",
       "      <th>School Name</th>\n",
       "      <th>Early Career Pay</th>\n",
       "      <th>Private_School</th>\n",
       "      <th>Pacific</th>\n",
       "    </tr>\n",
       "  </thead>\n",
       "  <tbody>\n",
       "    <tr>\n",
       "      <th>0</th>\n",
       "      <td>Massachusetts Institute of Technology</td>\n",
       "      <td>88300</td>\n",
       "      <td>True</td>\n",
       "      <td>False</td>\n",
       "    </tr>\n",
       "    <tr>\n",
       "      <th>4</th>\n",
       "      <td>United States Merchant Marine Academy</td>\n",
       "      <td>84300</td>\n",
       "      <td>False</td>\n",
       "      <td>False</td>\n",
       "    </tr>\n",
       "    <tr>\n",
       "      <th>5</th>\n",
       "      <td>Webb Institute</td>\n",
       "      <td>81500</td>\n",
       "      <td>True</td>\n",
       "      <td>False</td>\n",
       "    </tr>\n",
       "    <tr>\n",
       "      <th>0</th>\n",
       "      <td>United States Military Academy</td>\n",
       "      <td>81100</td>\n",
       "      <td>False</td>\n",
       "      <td>False</td>\n",
       "    </tr>\n",
       "    <tr>\n",
       "      <th>3</th>\n",
       "      <td>Carnegie Mellon University</td>\n",
       "      <td>78600</td>\n",
       "      <td>True</td>\n",
       "      <td>False</td>\n",
       "    </tr>\n",
       "  </tbody>\n",
       "</table>\n",
       "</div>"
      ],
      "text/plain": [
       "                             School Name  Early Career Pay  Private_School  \\\n",
       "0  Massachusetts Institute of Technology             88300            True   \n",
       "4  United States Merchant Marine Academy             84300           False   \n",
       "5                         Webb Institute             81500            True   \n",
       "0         United States Military Academy             81100           False   \n",
       "3             Carnegie Mellon University             78600            True   \n",
       "\n",
       "   Pacific  \n",
       "0    False  \n",
       "4    False  \n",
       "5    False  \n",
       "0    False  \n",
       "3    False  "
      ]
     },
     "execution_count": 46,
     "metadata": {},
     "output_type": "execute_result"
    }
   ],
   "source": [
    "df_NorEast[df_NorEast['Early Career Pay'].isin(df_NorEast['Early Career Pay'].nlargest(5))].sort_values(\"Early Career Pay\",ascending=False)"
   ]
  },
  {
   "cell_type": "markdown",
   "metadata": {},
   "source": [
    "All of these institutions which are in the northeast are known for their graduates earn higher early career salaries. Webb Institute may be more unknown but it is known for its high ranking naval architecture and marine engineering program (which is the only degree it offers). The university is highly ranked in Princeton Review and US News Report."
   ]
  },
  {
   "cell_type": "markdown",
   "metadata": {},
   "source": [
    "# Ethics & Privacy"
   ]
  },
  {
   "cell_type": "markdown",
   "metadata": {},
   "source": [
    "Our research question focuses primarily on the effects of both a private and public university education and the university’s region on post-graduation salary. However, there are many factors that play in post-graduation salary that are not accounted for with just these two variables. When thinking about factors that could influence one’s post-graduate salary, their socioeconomic background comes to mind as this could play a role in the type of college they would be able to attend in the first place. Additionally, once in university, the major one chooses along with their performance in school (GPA, test scores, etc.) and the extracurricular experience they gained (internships, volunteer work, etc.) could play a role in their success in obtaining a post-graduation job that pays well. \n",
    "\n",
    "In order to account for these possible confounding factors, there were a few things we did during our data analysis. The data set we used (https://www.payscale.com/college-salary-report/bachelors) included schools from 6 different regions across the United States. Given our knowledge of demographics in the United States and similarities between different regions, we decided to choose the Pacific region and the Northeastern region to analyze as a counter mechanism for differences in socioeconomic background differences. To account for differences in the other factors that started to play a role once the student had entered college, we chose a data set that has 249 data points for the type of college and 320 data points for the region and 50 majors were represented. In conducting our analysis we also made sure to analyze starting median salary as we figured by the time an individual reaches the middle of their careers, their salaries would be more normalized. \n",
    "\n",
    "In regards to the data set itself, there was a lot more northeast school data than pacific school data which we realized skewed our graphs slightly. To fix this, we took samples for 100 data points for both and took out the outliers."
   ]
  },
  {
   "cell_type": "markdown",
   "metadata": {},
   "source": [
    "# Conclusion & Discussion"
   ]
  },
  {
   "cell_type": "markdown",
   "metadata": {},
   "source": [
    "**Conclusion**:\n",
    "There is not a significant effect of school type (Private vs Public) on post graduation salary, even when region is taken into account. However, the region (Pacific vs. Northeast) alone has a significant effect on post-graduation salary. \n",
    "\n",
    "**Discussion**: First, we compared the effect of school type (private vs. public universities) on early career pay (disregarding the region) and found through a linear model using OLS that there is not a significant effect of school type on early career salary. This was clear from the p-value of 0.107 which is greater than our decided p-value cutoff, 0.05 in our first linear regression model. We used this analysis to draw conclusions about the significance of the differences of school type and early career salary that we identified from our histograms in our earlier analysis. At first glance our histogram data seemed to indicate that there was an effect of school type on early career pay, especially when we found the mean early career pay for private schools was \\$54,425 with a standard deviation of \\$9,195 and the mean for public schools was \\$53,134 with a standard deviation of \\$7,561, but it became clear after our linear regression results that the effect was not significant.\n",
    "\n",
    "Next, we compared the effect of region (Northeast vs. Pacific) on early career pay (disregarding school type) and found through a linear model using OLS that there is a significant effect of region on early career salary. We found a p-value of 0.031, which is smaller than 0.05 and therefore indicates a 95% confidence that the region can predict early career pay. While the distribution in our histogram titled “Pacific vs. Northeast in Early Career Pay,” was similar for both regions, the described statistics delved deeper into the analysis we drew using linear regression. It was clear from these statistics that the Pacific region correlates to a higher post-graduation salary. The mean for the Pacific region was \\$55,273 with a standard deviation of \\$8993 which is higher than the mean for the Northeast region which was \\$53,482 with a standard deviation of \\$8540. \n",
    "\n",
    "Lastly, since region had a significant effect on early career salary, we wanted to further investigate the impact of school type on early career salary when also factoring in region as a predictor. To do this, we used OLS to create a multivariate regression to determine if school type and region together could predict early career salary. As can be seen in our OLS results, the p-value of school type significantly decreases from 0.13 as an independent predictor of early career salary to 0.086 as a joint predictor with region. This further establishes the school’s region as a significant predictor of early career salary and normalizes the effect of school-type on early career salary to yield school type as a relatively more statistically significant predictor than before. However even with region taken into account, school type’s overall effect on early career salary was not found to be statistically significant.\n",
    "\n",
    "When reflecting back on the way we carried out our analysis there were a number of additional analyses and modifications to our analysis that we could have run on our data set to further deduce the effects of school type and region on early career salary. However, limiting us from conducting these additional analyses was time. Of these possible modifications we could have expanded our dataset to include more regions of the United States, taken major into account, explored the effects region and school type had on mid-career pay and factored in average wage statistics for each state we analyzed. Specifically, analyzing the effect of major in conjunction with school type could have revealed more information on the effect on early career salary since it is known that salaries widely vary with major. An additional analysis we could have run that would have been informative was to run geospatial analysis since part of our analysis was based on the effect of region. "
   ]
  },
  {
   "cell_type": "markdown",
   "metadata": {},
   "source": [
    "# Team Contributions"
   ]
  },
  {
   "cell_type": "markdown",
   "metadata": {},
   "source": [
    "Noura: Performed webscraping to obtain dataset, helped in writing the Overview, Discussion and Conclusion sections, and added structure + descriptions in the EDA section.\n",
    "\n",
    "Elvin: Ran EDA analysis and performed all data cleaning.\n",
    "\n",
    "Lydia: Wrote Background and Prior work, wrote Datasets, helped with EDA analysis and descriptions, wrote part of the Conclusion and Discussion.\n",
    "\n",
    "Meera: Wrote the Ethics and part of the Conclusion and Discussion section, helped in writing the Overview section and conducting EDA analysis.\n",
    "\n",
    "All Contributed to: Research Question and Hypothesis Sections"
   ]
  }
 ],
 "metadata": {
  "kernelspec": {
   "display_name": "Python 3",
   "language": "python",
   "name": "python3"
  },
  "language_info": {
   "codemirror_mode": {
    "name": "ipython",
    "version": 3
   },
   "file_extension": ".py",
   "mimetype": "text/x-python",
   "name": "python",
   "nbconvert_exporter": "python",
   "pygments_lexer": "ipython3",
   "version": "3.7.7"
  },
  "metadata": {
   "interpreter": {
    "hash": "aee8b7b246df8f9039afb4144a1f6fd8d2ca17a180786b69acc140d282b71a49"
   }
  }
 },
 "nbformat": 4,
 "nbformat_minor": 2
}
