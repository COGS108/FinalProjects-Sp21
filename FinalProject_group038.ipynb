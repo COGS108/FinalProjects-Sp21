{
 "cells": [
  {
   "cell_type": "markdown",
   "metadata": {
    "id": "Km-zItbR0OuO"
   },
   "source": [
    "# COGS 108 - Final Project - Group 38\n",
    "\n",
    "---\n",
    "\n",
    "# The State's Response to Shootings\n",
    "\n",
    "### A Data Science Analysis on Law Enforcement Policy in California"
   ]
  },
  {
   "cell_type": "markdown",
   "metadata": {
    "id": "aPzbVYS20OuX"
   },
   "source": [
    "# Overview"
   ]
  },
  {
   "cell_type": "markdown",
   "metadata": {
    "id": "tMUo6IdI0OuY"
   },
   "source": [
    "We analyzed the relationship between the amount of police-involved shootings in California and the number of law-enforcement related bills proposed in the state. We isolated police-involved shootings that occurred in California from the nationwide shootong database. We used webscraping to isolate the bills relating to law enforcement in addition to using police code and vocab datasets to detect as many bills as possible from the California bill dataset. We came to the final conclusion that there is not enough conclusive evidence to state any kind of relationship between shooting incidents and number of proposed bills. "
   ]
  },
  {
   "cell_type": "markdown",
   "metadata": {
    "id": "LqM6mWW00OuZ"
   },
   "source": [
    "# Names\n",
    "\n",
    "- Nick Fithen\n",
    "- Lupe De Anda\n",
    "- Andrew Lona\n",
    "- Kimberly Alonzo\n",
    "- Andres Villegas"
   ]
  },
  {
   "cell_type": "markdown",
   "metadata": {
    "id": "2pKrLpds0OuZ"
   },
   "source": [
    "<a id='research_question'></a>\n",
    "# Research Question"
   ]
  },
  {
   "cell_type": "markdown",
   "metadata": {
    "id": "HpfXwzL30Oua"
   },
   "source": [
    "What is the relationship between the amount of reported California police shootings and the number of law-enforcement related bills proposed in the state from 2015 to now?\n",
    "\n",
    "\n"
   ]
  },
  {
   "cell_type": "markdown",
   "metadata": {
    "id": "AP5be6al0Oua"
   },
   "source": [
    "<a id='background'></a>\n",
    "\n",
    "## Background & Prior Work"
   ]
  },
  {
   "cell_type": "markdown",
   "metadata": {
    "id": "VAgFI4PV0Oua"
   },
   "source": [
    "**Introduction:**\n",
    "\n",
    "As the occurrence of police-involved shootings continue to increase, the public is becoming more and more aware of them. We aim to look for a relationship between the number of law-enforcement related bills proposed in California and the number of reported police-involved shootings between 2015 to present time. We hope to construct a model that can track past shooting cases in California and find a relationship for how much the shootings compare to the amount of law-enforcement bill proposals in the state. The proposal of bills in California are actions that will certainly be present in the future as government officials are always looking for ways to improve their quality of living. The continued use of firearms in State Enforcement will provide future data of enforcement related shootings.  \n",
    "\n",
    "\n",
    "**Prior Work:**\n",
    "\n",
    "Michael Luca, Deepak Malhotra, and Christopher Poliquin \n",
    "conducted a study on the impact of mass shootings on gun policy. They found that mass shootings evoke large policy responses, specifically, a 15% increase in firearm bills inroduced.They also found that the amount of firearm bills that were actually enacted into law depended on the party in power, with a Replican controlled legislature resulting in less gun restrictions. They concluded that there was no significant effect of mass shootings on enacted laws for tighter gun restrictions. This study is relevant to our project in terms of how they analyzed and visualized the bills that were introduced.\n",
    "\n",
    "Luca: https://www.hbs.edu/ris/Publication%20Files/16-126_ce055015-fc1c-4a8c-9a8a-8a9361d808bb.pdf \n",
    "\n",
    "Raheem Hosseini points out in his article, \"Will California Change Policing\", how current law enforcement related bills are being proposed in response to shooting involving police. Hosseini states that law enforcement groups claim that a bill that would bar officers from using chokeholds wasn't explicit enough for officers to know they can defend themselves. Hosseini includes an assembly member's response which was that the right for officers to defend themselves is clear in the state penal code so they didn't want to make the bill text redundant. This is relevant to our topic because the level of how explicit a bill's text tends to be. We will used a broad range of terms when trying to pull out the law-enforcement related bills from the database.\n",
    "\n",
    "Hosseini: https://calmatters.org/justice/2020/08/california-police-reform-bills/ \n",
    "\n",
    "**Initial Research:**\n",
    "\n",
    "- 1) Links to words associated with law enforcement. \n",
    "  - Link(s): \n",
    "  - (1) https://policeteststudyguide.com/top-50-police-vocabulary-you-need-to-know/ \n",
    "  - (2) https://policecodes.net/\n",
    "- 2) An up-to-date catalog of all reported police-related shootings in the US from Jan 2, 2015. Information contains names of victims, their location by coordinates, city and state, whether they were armed, victim's age, gender, and race, as well as threat level.\n",
    "  - Link: https://github.com/washingtonpost/data-police-shootings\n",
    "- 3) A dataframe of all currently proposed and in-progress bills within the California legislature organized by bill number. It contains the title of the bill, bill number, name of the main author, and progress.\n",
    "  - Link: https://leginfo.legislature.ca.gov/faces/billSearchClient.xhtml"
   ]
  },
  {
   "cell_type": "markdown",
   "metadata": {
    "id": "bA68bee70Oub"
   },
   "source": [
    "# Hypothesis\n"
   ]
  },
  {
   "cell_type": "markdown",
   "metadata": {
    "id": "z0ruDAzF0Oub"
   },
   "source": [
    "We hypothesize that there is a positive relationship between the amount of statewide shootings in California and the number of law-enforcement related bills proposed within the state. \n",
    "\n",
    "We believe we will find a positive relationship because, as the public becomes more aware of police-involved shootings, bills for law enforcement reform should become introduced more frequently as a response."
   ]
  },
  {
   "cell_type": "markdown",
   "metadata": {
    "id": "v2gB1qBW0Ouc"
   },
   "source": [
    "# Dataset(s)"
   ]
  },
  {
   "cell_type": "markdown",
   "metadata": {
    "id": "3m3ZZa220Ouc"
   },
   "source": [
    "**df_vocab**\n",
    "- Dataset Name: Top 50 Police Vocabulary\n",
    "- Gained access to dataset via: https://policeteststudyguide.com/top-50-police-vocabulary-you-need-to-know/\n",
    "- Number of observations: 50\n",
    "\n",
    "The dataset takes 50 words that are used and understood by professionals in the police force. We additionally added the definitions of each word in a separate column. \n",
    "\n",
    "**df_codes**\n",
    "- Dataset Name: Popular Police Codes\n",
    "- Gained access to dataset via: https://policecodes.net\n",
    "- Number of observations: 30\n",
    "\n",
    "The dataset takes 30 police codes that officers used to communicate emergencies, crimes, and situations on the job. We included the descriptions of each code in a separate column.\n",
    "\n",
    "**df_shootings**\n",
    "- Dataset Name: Fatal Police Shootings Data\n",
    "- Gained access to dataset via: https://github.com/washingtonpost/data-police-shootings\n",
    "- Number of observations: 6,241\n",
    "\n",
    "The dataset monitors all reported police shootings across the United States since 2015. Columns in the dataset document how the person was shot and describe the victim and events leading up to the incident.\n",
    "\n",
    "**df_bills***\n",
    "- Dataset Name: California Legislative Information\n",
    "- Gained access to dataset via: https://leginfo.legislature.ca.gov/faces/billSearchClient.xhtml \n",
    "- Number of observations: 1811\n",
    "\n",
    "The dataset includes the measure, subject, author, and status of bills proposed in the state of California. The dataset comes from the official California Legislative Information government website."
   ]
  },
  {
   "cell_type": "markdown",
   "metadata": {
    "id": "3vDq4cT-0Ouc"
   },
   "source": [
    "# Setup"
   ]
  },
  {
   "cell_type": "code",
   "execution_count": null,
   "metadata": {
    "id": "qZL-N9d30Oud"
   },
   "outputs": [],
   "source": [
    "#importing basic programs + explanations of each import\n",
    "import pandas as pd # needed to create and modify dataframes from the data we collect (and hopefully merge them together)\n",
    "\n",
    "import seaborn as sns # needed to quickly graph data for visual inspection (such as for outliers)\n",
    "import matplotlib.pyplot as plt # important for creating specific visualizations\n",
    "import numpy as np # useful for array manipulations\n",
    "\n",
    "from bs4 import BeautifulSoup # Beautiful Soup library used for web scraping\n",
    "import requests # needed to communicate with the html file"
   ]
  },
  {
   "cell_type": "markdown",
   "metadata": {
    "id": "19JObrTC0Oue"
   },
   "source": [
    "# Data Cleaning"
   ]
  },
  {
   "cell_type": "code",
   "execution_count": null,
   "metadata": {
    "id": "w2-fztYc0Ouf"
   },
   "outputs": [],
   "source": [
    "#reading in dataframes for cleaning\n",
    "\n",
    "df_vocab = pd.read_csv('https://raw.githubusercontent.com/lupedeanda/test_repo/main/vocab.csv')\n",
    "df_codes = pd.read_csv('https://raw.githubusercontent.com/lupedeanda/test_repo/main/codes.csv')\n",
    "df_bills = pd.read_csv('https://raw.githubusercontent.com/lupedeanda/test_repo/main/bills.csv')\n",
    "df_shootings = pd.read_csv('https://raw.githubusercontent.com/lupedeanda/test_repo/main/shootings.csv')\n",
    "\n",
    "#df_vocab and df_codes are already in a good clean format - only have 2 columns, words and defns\n",
    "#df_shootings still needs to be cleaned"
   ]
  },
  {
   "cell_type": "code",
   "execution_count": null,
   "metadata": {
    "id": "sBYSWh3A11bP"
   },
   "outputs": [],
   "source": [
    "#dropping names of victims for privacy\n",
    "df_shootings = df_shootings.drop(labels='name',axis=1)\n",
    "\n",
    "#dropping columns we dont need to answer our question \n",
    "df_shootings = df_shootings.drop(labels=['latitude','longitude','is_geocoding_exact','signs_of_mental_illness','threat_level','flee','body_camera'],axis=1)"
   ]
  },
  {
   "cell_type": "code",
   "execution_count": null,
   "metadata": {
    "colab": {
     "base_uri": "https://localhost:8080/",
     "height": 142
    },
    "id": "b0xSRRzm16XK",
    "outputId": "26f48dda-af39-4900-97ce-5abc127c8cc8"
   },
   "outputs": [
    {
     "data": {
      "text/html": [
       "<div>\n",
       "<style scoped>\n",
       "    .dataframe tbody tr th:only-of-type {\n",
       "        vertical-align: middle;\n",
       "    }\n",
       "\n",
       "    .dataframe tbody tr th {\n",
       "        vertical-align: top;\n",
       "    }\n",
       "\n",
       "    .dataframe thead th {\n",
       "        text-align: right;\n",
       "    }\n",
       "</style>\n",
       "<table border=\"1\" class=\"dataframe\">\n",
       "  <thead>\n",
       "    <tr style=\"text-align: right;\">\n",
       "      <th></th>\n",
       "      <th>Unnamed: 0</th>\n",
       "      <th>id</th>\n",
       "      <th>date</th>\n",
       "      <th>manner_of_death</th>\n",
       "      <th>armed</th>\n",
       "      <th>age</th>\n",
       "      <th>gender</th>\n",
       "      <th>race</th>\n",
       "      <th>city</th>\n",
       "      <th>state</th>\n",
       "      <th>date_homogenized</th>\n",
       "      <th>month</th>\n",
       "      <th>year</th>\n",
       "    </tr>\n",
       "  </thead>\n",
       "  <tbody>\n",
       "    <tr>\n",
       "      <th>3</th>\n",
       "      <td>3</td>\n",
       "      <td>8</td>\n",
       "      <td>2015-01-04</td>\n",
       "      <td>shot</td>\n",
       "      <td>toy weapon</td>\n",
       "      <td>32.0</td>\n",
       "      <td>M</td>\n",
       "      <td>W</td>\n",
       "      <td>San Francisco</td>\n",
       "      <td>CA</td>\n",
       "      <td>20150104</td>\n",
       "      <td>1</td>\n",
       "      <td>2015</td>\n",
       "    </tr>\n",
       "    <tr>\n",
       "      <th>10</th>\n",
       "      <td>10</td>\n",
       "      <td>19</td>\n",
       "      <td>2015-01-06</td>\n",
       "      <td>shot and Tasered</td>\n",
       "      <td>knife</td>\n",
       "      <td>25.0</td>\n",
       "      <td>M</td>\n",
       "      <td>W</td>\n",
       "      <td>Stockton</td>\n",
       "      <td>CA</td>\n",
       "      <td>20150106</td>\n",
       "      <td>1</td>\n",
       "      <td>2015</td>\n",
       "    </tr>\n",
       "    <tr>\n",
       "      <th>22</th>\n",
       "      <td>22</td>\n",
       "      <td>43</td>\n",
       "      <td>2015-01-11</td>\n",
       "      <td>shot</td>\n",
       "      <td>gun</td>\n",
       "      <td>23.0</td>\n",
       "      <td>M</td>\n",
       "      <td>H</td>\n",
       "      <td>South Gate</td>\n",
       "      <td>CA</td>\n",
       "      <td>20150111</td>\n",
       "      <td>1</td>\n",
       "      <td>2015</td>\n",
       "    </tr>\n",
       "  </tbody>\n",
       "</table>\n",
       "</div>"
      ],
      "text/plain": [
       "    Unnamed: 0  id       date  ... date_homogenized month  year\n",
       "3            3   8 2015-01-04  ...         20150104     1  2015\n",
       "10          10  19 2015-01-06  ...         20150106     1  2015\n",
       "22          22  43 2015-01-11  ...         20150111     1  2015\n",
       "\n",
       "[3 rows x 13 columns]"
      ]
     },
     "execution_count": 31,
     "metadata": {
      "tags": []
     },
     "output_type": "execute_result"
    }
   ],
   "source": [
    "#narrowing down data to only include CA\n",
    "df_shootings = df_shootings[df_shootings['state']=='CA']\n",
    "\n",
    "#converting to datetime and creating month and year columns\n",
    "df_shootings.loc[:,'date'] = pd.to_datetime(df_shootings['date'])\n",
    "df_shootings['month'] = df_shootings['date'].dt.month\n",
    "df_shootings['year'] = df_shootings['date'].dt.year\n",
    "df_shootings.head(3)"
   ]
  },
  {
   "cell_type": "code",
   "execution_count": null,
   "metadata": {
    "id": "jVuIDQ4219mT"
   },
   "outputs": [],
   "source": [
    "#dataframes of shootings sorted by year \n",
    "shootings_2015 = df_shootings[df_shootings['year']==2015]\n",
    "shootings_2016 = df_shootings[df_shootings['year']==2016]\n",
    "shootings_2017 = df_shootings[df_shootings['year']==2017]\n",
    "shootings_2018 = df_shootings[df_shootings['year']==2018]\n",
    "shootings_2019 = df_shootings[df_shootings['year']==2019]\n",
    "shootings_2020 = df_shootings[df_shootings['year']==2020]\n",
    "shootings_2021 = df_shootings[df_shootings['year']==2021]"
   ]
  },
  {
   "cell_type": "code",
   "execution_count": null,
   "metadata": {
    "id": "EfYFBlYs1-pQ"
   },
   "outputs": [],
   "source": [
    "#dataframes of shootings per month regardless of year\n",
    "shootings_jan_all = df_shootings[df_shootings['month']==1]\n",
    "shootings_feb_all = df_shootings[df_shootings['month']==2]\n",
    "shootings_mar_all = df_shootings[df_shootings['month']==3]\n",
    "shootings_apr_all = df_shootings[df_shootings['month']==4]\n",
    "shootings_may_all = df_shootings[df_shootings['month']==5]\n",
    "shootings_jun_all = df_shootings[df_shootings['month']==6]\n",
    "shootings_jul_all = df_shootings[df_shootings['month']==7]\n",
    "shootings_aug_all = df_shootings[df_shootings['month']==8]\n",
    "shootings_sep_all = df_shootings[df_shootings['month']==9]\n",
    "shootings_oct_all = df_shootings[df_shootings['month']==10]\n",
    "shootings_nov_all = df_shootings[df_shootings['month']==11]\n",
    "shootings_dec_all = df_shootings[df_shootings['month']==12]"
   ]
  },
  {
   "cell_type": "code",
   "execution_count": null,
   "metadata": {
    "id": "xf1hec0w2Az5"
   },
   "outputs": [],
   "source": [
    "#to access a specific month of a specific year we can use: \n",
    "#variable_name = shootings_xxxx[shootings_xxxx['month' == y]] \n",
    "#where xxxx is year as an integer and y is the month as an integer\n",
    "\n",
    "#uncomment to run example:\n",
    "#jan_2020 = shootings_2020[shootings_2020['month']==1]\n",
    "#jan_2020"
   ]
  },
  {
   "cell_type": "markdown",
   "metadata": {
    "id": "5N8IHCGs0Ouf"
   },
   "source": [
    "# Data Analysis & Results"
   ]
  },
  {
   "cell_type": "markdown",
   "metadata": {
    "id": "lc-g5BO70Ouf"
   },
   "source": [
    "#Structure\n",
    "\n",
    "Our data is spread across 4 different dataframes (`df_codes`, `df_vocab`, `df_shootings`, and `df_bills`), all of which are in tabular format. Each observation (word in `df_codes` and `df_vocab`, incident in `df_shootings`, and bill in `df_bills`) has an independent row.\n",
    "\n",
    "\n",
    "The information we have for each set includes:\n",
    "- `df_shootings`: personal identifiers,\tdate of incident,\tmanner of death,\twhether the victim was armed (and, if so, what they armed with),\ttheir age,\tgender,\tand race,\tthe city and\tstate it took place in, and the\tmonth and\tyear (extracted from date to help with indexing)\n",
    "- `df_codes` and `df_vocab`: words associated with police enforcement, specifically radio codes and 'important vocab each police officer should know', along with their definitions\n",
    "- `df_bills`: ID # of the bill, ID of the session, number of the bill proposed (series of letters, number), status of the bill (based on a 1-5 scale, where each number represents a stage in the process), current decision made on the bill, date the bill status was decided, bill title, desctiption of the bill, ID of the committee, date that last time there was action with the bill, desctiption of the actions taken, url for the bill, state link.\n",
    "\n",
    "\n",
    "> `Type` of information in each column:\n",
    "\n",
    "- all columns except for date of incident, month, and\tyear within `df_shootings` are strings; date of incident, month, and\tyear are integers converted from initial datetime objects\n",
    "- all columns in `df_codes` and `df_vocab` are strings\n",
    "- bill number, status description, title, description, comittee, last action, and provided links in `df_bills` are stored as strings, everything else is stored as an integer (bill and session id, status, status date, comittee id, and last action date)\n",
    "\n",
    "\n",
    "#Granularity\n",
    "\n",
    "> What is represented in each row:\n",
    "\n",
    "- `df_shootings`: An individual instance in which someone died to a police related shooting. Additional variables in the row describe the specifics of the shooting (time, reason for shooting, date, etc.)\n",
    "-`df_codes` and `df_vocab`: A common word/code that is understood and used in the police force. The additional definition provides a description for that word or the situation for the code.\n",
    "-`df_bills`: An individual bill that was proposed. Additional variables found in the column also describe specifics of the bill (dates, people that introduced it, purpose of the bill, current status, etc.)\n",
    "\n",
    "These are all shown to be the same level of granularity. Each column focuses one thing and includes specific information about it, whether it is a victim, bill, word/code.\n",
    "\n",
    "> Aggregations and data metric(s) used for summarization\n",
    "\n",
    "It is hard to have outliers for a recorded shooting or a bill that is proposed so we will be using mean to describe variables within our data.  \n",
    "\n",
    "#Scope"
   ]
  },
  {
   "cell_type": "code",
   "execution_count": null,
   "metadata": {
    "colab": {
     "base_uri": "https://localhost:8080/",
     "height": 296
    },
    "id": "uB1YQo1j0Oug",
    "outputId": "39ae4665-7ca9-4c0d-a89f-7a1f7945b82f"
   },
   "outputs": [
    {
     "data": {
      "text/plain": [
       "<matplotlib.axes._subplots.AxesSubplot at 0x7f5ffec73290>"
      ]
     },
     "execution_count": 8,
     "metadata": {
      "tags": []
     },
     "output_type": "execute_result"
    },
    {
     "data": {
      "image/png": "[encoded data removed]",
      "text/plain": [
       "<Figure size 432x288 with 1 Axes>"
      ]
     },
     "metadata": {
      "needs_background": "light",
      "tags": []
     },
     "output_type": "display_data"
    }
   ],
   "source": [
    "#First visualization is a scatter plot of ages of people that were killed each year.\n",
    "sns.scatterplot(data=df_shootings, x='date', y='age') "
   ]
  },
  {
   "cell_type": "code",
   "execution_count": null,
   "metadata": {
    "colab": {
     "base_uri": "https://localhost:8080/",
     "height": 296
    },
    "id": "pJcHFgK-bbAz",
    "outputId": "21bdc675-592b-451c-89f4-51cc21daae3b"
   },
   "outputs": [
    {
     "data": {
      "text/plain": [
       "<matplotlib.axes._subplots.AxesSubplot at 0x7f5ffec5c050>"
      ]
     },
     "execution_count": 9,
     "metadata": {
      "tags": []
     },
     "output_type": "execute_result"
    },
    {
     "data": {
      "image/png": "[encoded data removed]",
      "text/plain": [
       "<Figure size 432x288 with 1 Axes>"
      ]
     },
     "metadata": {
      "needs_background": "light",
      "tags": []
     },
     "output_type": "display_data"
    }
   ],
   "source": [
    "#second visualization \n",
    "sns.histplot(df_shootings['age'], bins=10, kde=True)"
   ]
  },
  {
   "cell_type": "code",
   "execution_count": null,
   "metadata": {
    "colab": {
     "base_uri": "https://localhost:8080/",
     "height": 421
    },
    "id": "jerFLT9RbdWI",
    "outputId": "d903f1f3-c981-4198-c6dc-ecc41f36dc2a"
   },
   "outputs": [
    {
     "data": {
      "text/plain": [
       "[Text(0.5, 1.0, 'Number of CA Shootings per Year')]"
      ]
     },
     "execution_count": 10,
     "metadata": {
      "tags": []
     },
     "output_type": "execute_result"
    },
    {
     "data": {
      "image/png": "[encoded data removed]",
      "text/plain": [
       "<Figure size 720x432 with 1 Axes>"
      ]
     },
     "metadata": {
      "needs_background": "light",
      "tags": []
     },
     "output_type": "display_data"
    }
   ],
   "source": [
    "#visualization for shootings in California for every year (something happend with my original graph so aI am redoing it)-Nick\n",
    "#making the plot much bigger to see\n",
    "plt.figure(figsize= (10,6))\n",
    "cpshooty= sns.countplot(x= df_shootings['year'], data= df_shootings, palette= 'pastel' ).set(title= 'Number of CA Shootings per Year')\n",
    "#increasing the y-axis\n",
    "plt.ylim(0, 250)\n",
    "cpshooty"
   ]
  },
  {
   "cell_type": "markdown",
   "metadata": {
    "id": "v8D6Vz1jbrps"
   },
   "source": [
    "#Temporality\n",
    "\n",
    "> Dates in dataframes\n",
    "\n",
    "-status description, last action columns in `df_bills`: dates that correspond to the status description of each bill, dates for the last actions made for each bill.\n",
    "-date column in `df_shootings`: date of incident for each police shooting reported\n",
    "\n",
    "\n",
    ">Date formating\n",
    "\n",
    "- The status desciption and last action made columns in `df_bills` are dated using a YYYY-MM-DD format. They have been converted from datetime to an integer format (8 digits per date).\n",
    "-In `df_shootings`, the date column is in a YYYY-MM-DD format along with additional columns for individual months (labeled 1-12) and individual year (labeled YYYY). The regular dates have been converted from datetime to an integer format (8 digits per date).\n",
    "\n",
    "- Null timestamps are represented with \"NaN\" \n",
    "\n",
    ">Aggregations/summarizations\n",
    "\n",
    "- Pulled all of the bills that can be categorized as law enforcement.\n",
    "- Ploted the amount of shootings per year against the amount of bills proposed in California to see if there is any relationship.\n",
    "\n",
    "#Faithfulness\n",
    "\n",
    "- The values for bills are resonable as we have removed any older dated bills from years that we do not have shooting data for.\n",
    "\n",
    "- Each row of each initial table is an individual case, so there is no possibility for an instance of inconsistencies between tables, since no data is ever repeated. Any merging done was with data we knew was consistent.\n",
    "\n",
    "- `df_codes` and `df_vocab` were transfered over from a webpage to an excel spreadsheet, then converted to CSVs by hand. Inconsistencies were dealt with by copying and pasting longer definitions and cross checking once the transfer had finished.\n",
    "\n",
    "- There are no obvious signs of falsification in our data."
   ]
  },
  {
   "cell_type": "markdown",
   "metadata": {
    "id": "rKWJkhFZ0Oug"
   },
   "source": [
    "# Ethics & Privacy"
   ]
  },
  {
   "cell_type": "markdown",
   "metadata": {
    "id": "mub_pRl_0Oug"
   },
   "source": [
    "\n",
    "- The names of shooting victims have been dropped from the original dataset in order to maintain privacy. The original dataset provided ID numbers to each row which allowed us to immediately drop names so no analysis or code was conducted with names.\n",
    "- Data that occured outside of California were dropped so as to not influence our analysis or be used to make inferences to the entire U.S., given that our bills dataset only gives information pertaining to California.\n",
    "\n",
    "- The database for police shootings states that there are 301 shootings that are unaccounted for due to unverified locations, which creates a bias because of the missing information. FBI and CDC officials acknowledge that while they attempt to log all instances of fatal shootings by police, their data is incomplete. We must also, then, acknowledge that the dataset we are working with is not a complete and comprehensive set and be mindful of this while conducting analysis.\n",
    "\n",
    "- When using webscraping to isolate the bills relating to law enforcement, the bills containing vague or misleading language could be left undetected. To prevent this, we will use a broad list of law enforcement terms to detect as many bills as possible.\n",
    "\n",
    "- Our results could be used to draw conclusions about the impact that law enforcement has on politics, as well as whether those people proposing said bills care about the regulation of policing. Because of this we would like to explicitly state that *we are merely analyzing trends and correlation rather than intent, causality, or explanation*. We recognize that  relationships between fatal police shootings and California/U.S. politics is complex and requires further in-depth analysis that considers more variables in order to make a statement about it. In order to discourage the use of our data as independent proof of any statement, we will include disclaimers on data visualizations as we deem fit and take into consideration the wording in our project, specifically within the conclusion and discussion, making sure that this stance is as clear as can be."
   ]
  },
  {
   "cell_type": "markdown",
   "metadata": {
    "id": "ozxuu6zr0Ouh"
   },
   "source": [
    "# Conclusion & Discussion"
   ]
  },
  {
   "cell_type": "markdown",
   "metadata": {
    "id": "GnWH55l60Ouh"
   },
   "source": [
    "Through the information we gathered, we came to the final conclusion that there is not enough conclusive evidence to state any kind of relationship between shooting incidents and number of proposed bills. "
   ]
  },
  {
   "cell_type": "markdown",
   "metadata": {
    "id": "dTWZSc4r0Ouh"
   },
   "source": [
    "# Team Contributions"
   ]
  },
  {
   "cell_type": "markdown",
   "metadata": {
    "id": "BukqWM9E0Ouh"
   },
   "source": [
    "- Nick - notebook organization and editing, writing code\n",
    "- Lupe - initial data cleaning, notebook organization and editing\n",
    "- Andrew - web scraping, data visualizations\n",
    "- Kimberly - notebook organization and editing\n",
    "- Andres - "
   ]
  },
  {
   "cell_type": "code",
   "execution_count": null,
   "metadata": {
    "id": "l8gMOQSqsjQ9"
   },
   "outputs": [],
   "source": []
  }
 ],
 "metadata": {
  "colab": {
   "collapsed_sections": [],
   "name": "FinalProject_group038.ipynb",
   "provenance": []
  },
  "kernelspec": {
   "display_name": "Python 3",
   "language": "python",
   "name": "python3"
  },
  "language_info": {
   "codemirror_mode": {
    "name": "ipython",
    "version": 3
   },
   "file_extension": ".py",
   "mimetype": "text/x-python",
   "name": "python",
   "nbconvert_exporter": "python",
   "pygments_lexer": "ipython3",
   "version": "3.7.7"
  }
 },
 "nbformat": 4,
 "nbformat_minor": 1
}
