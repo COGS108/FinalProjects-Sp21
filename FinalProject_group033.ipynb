{
 "cells": [
  {
   "cell_type": "markdown",
   "metadata": {},
   "source": [
    "# COGS 108 - Demographic information and Mental health"
   ]
  },
  {
   "cell_type": "markdown",
   "metadata": {},
   "source": [
    "# Overview"
   ]
  },
  {
   "cell_type": "markdown",
   "metadata": {},
   "source": [
    "How do demographics affect one’s mental health? In order to identify the disadvantaged group and raise public awareness to ameliorate their living conditions, we explored data from the 2019 National Health Interview Survey, the most representative database of national health. \n",
    "\n",
    "\n",
    "In this project, we analyzed the correlation between a list of demographic factors and mental health issues (depression and anxiety) and developed a typology of adults who are vulnerable to mental health conditions based on their demographics. We hypothesize that some demographic factors will contribute to a higher probability of a mental health condition. To examine our hypothesis, we use methods like T-test, one-way ANOVA, and Tukey’s HSD on different demographics factors such as Gender, Sexual Orientation, BMI, Income, and Household Location. We also utilized Machine Learning to explore that if we can accurately predict mental health issues. "
   ]
  },
  {
   "cell_type": "markdown",
   "metadata": {},
   "source": [
    "# Names\n",
    "\n",
    "- Adam Liu\n",
    "- Siming Jin\n",
    "- Xiaoye Zuo\n",
    "- Derek Chen"
   ]
  },
  {
   "cell_type": "markdown",
   "metadata": {},
   "source": [
    "<a id='research_question'></a>\n",
    "# Research Question"
   ]
  },
  {
   "cell_type": "markdown",
   "metadata": {},
   "source": [
    "Are demographic information like income, education level, race, and household region correlated with chronic mental health conditions like anxiety and depression in US adutls?"
   ]
  },
  {
   "cell_type": "markdown",
   "metadata": {},
   "source": [
    "<a id='background'></a>\n",
    "\n",
    "## Background & Prior Work"
   ]
  },
  {
   "cell_type": "markdown",
   "metadata": {},
   "source": [
    "Mental health has become a serious problem in modern day America. According to a 2020 survey by the American Psychology Association, nearly 1 in 5 adults (19%) say their mental health is worse than it was at this time last year. Therefore, it would be benificial to the general public to explore the relationships between those mental health disease and sociodemographic factors.\n",
    "\n",
    "In Noori & Janet's 2007 paper, the authors' explored the factors of age, gender, marital status, education, immigrant status, and income in young adults (16-24) and seniors (65+) with respect to depression. They found out that\n",
    "\n",
    "    1. marital status does not affect depression status\n",
    "    2. lowest rates of depression is associated with less than secondary school education, while the highest rate is associated with \"other post-secondary\" education\n",
    "    3. people who were born in Canada has higher depression rate compared to residents who immigrated to Canada\n",
    "    \n",
    "Another paper by Nikolaos Koutsouleris et al. explored the use of machine learning models on predicting depression and psychosis, and found out that the models often outperform human pregnosis. \n",
    "\n",
    "References (include links):\n",
    "- 1) [Stress in America 2020 Survey - APA](https://www.apa.org/news/press/releases/2020/10/stress-mental-health-crisis)\n",
    "- 2) [Relation between depression and sociodemographic factors](https://link.springer.com/article/10.1186/1752-4458-1-4)\n",
    "- 3) [Prediction Models of Funtional Outcomes for Individuals in the Clinical High-Risk State for Psychosis or With Recent-Onset Depression](https://jamanetwork.com/journals/jamapsychiatry/article-abstract/2707956)"
   ]
  },
  {
   "cell_type": "markdown",
   "metadata": {},
   "source": [
    "# Hypothesis\n"
   ]
  },
  {
   "cell_type": "markdown",
   "metadata": {},
   "source": [
    "We hypothesize that the following factor in ranking will contribute to a higher probabiltiy of a mental health condition:\n",
    "\n",
    "    - lower income\n",
    "    - lower education level\n",
    "    - higher/lower than average BMI\n",
    "    - minority race\n",
    "    - poorer household region\n",
    "    \n",
    "due to the fact that they are usually the most vulnerable socioeconomic group. They often need to handle higher level of stress, possily due to financial/job/housing/healthcare insecurity."
   ]
  },
  {
   "cell_type": "markdown",
   "metadata": {},
   "source": [
    "# Dataset(s)"
   ]
  },
  {
   "cell_type": "markdown",
   "metadata": {},
   "source": [
    "- Dataset Name: 2019 National Health Interview Survey\n",
    "- Link to the dataset: https://www.cdc.gov/nchs/nhis/2019nhis.htm\n",
    "- Number of observations: 31996\n",
    "\n",
    "The NHIS is the annual cross-sectional health survey conducted by the Centers for Disease Control and Prevention. It surveys a wide range of health status and utilizations among population in the United States. We picked the adult subset because we think it would be more representative of the mental health condition in the United States. This data includes all the demographic informations of the survery taker and store them into categories for privacy issue, while also many different heath probelm inculding mental health and the frequceny of having these problems. Which later helps us to created a score system to determined mental health's correlation with other factor, where a higher score means that the sample has a worse mental health condition. "
   ]
  },
  {
   "cell_type": "markdown",
   "metadata": {},
   "source": [
    "# Setup"
   ]
  },
  {
   "cell_type": "code",
   "execution_count": 1,
   "metadata": {},
   "outputs": [],
   "source": [
    "import pandas as pd\n",
    "import numpy as np\n",
    "import matplotlib.pyplot as plt\n",
    "import seaborn as sns\n",
    "import math\n",
    "import scipy\n",
    "import statsmodels.api as sm\n",
    "import patsy\n",
    "import sklearn.linear_model\n",
    "import sklearn.ensemble\n",
    "import sklearn.neural_network\n",
    "from statsmodels.stats.multicomp import pairwise_tukeyhsd\n",
    "from pandas.plotting import scatter_matrix"
   ]
  },
  {
   "cell_type": "code",
   "execution_count": 2,
   "metadata": {},
   "outputs": [],
   "source": [
    "import warnings\n",
    "warnings.filterwarnings(\"ignore\", category=UserWarning)"
   ]
  },
  {
   "cell_type": "code",
   "execution_count": 3,
   "metadata": {},
   "outputs": [],
   "source": [
    "# read in cleaned dataset\n",
    "df = pd.read_csv(\"./datasets/adult_cleaned.csv\")\n",
    "df.drop(labels=['Unnamed: 0'], axis=1, inplace=True)"
   ]
  },
  {
   "cell_type": "code",
   "execution_count": 4,
   "metadata": {},
   "outputs": [],
   "source": [
    "sns.set(rc={\"figure.figsize\":(12, 5)})"
   ]
  },
  {
   "cell_type": "markdown",
   "metadata": {},
   "source": [
    "# Data Cleaning"
   ]
  },
  {
   "cell_type": "markdown",
   "metadata": {},
   "source": [
    "Steps:\n",
    "1. Renaming columns based on codebook provided by CDC code book since the original columns names are really confusing<br>\n",
    "\n",
    "2. Replace the value 5 in anxiety and depression frequency to 0<br>\n",
    "These columns are how often the person feel worried, nervous, or anxious <br>\n",
    "1-4 are range in “Daily”, “Weekly”, “Monthly”, “A few times in a year”<br>\n",
    "5 in both anxiety and depression frequency means never experiencing the problem.<br>\n",
    "3. Replace NAN in anxiety and depression level with 0<br>\n",
    "1-3 are range in “A little”, “A lot”, “Somewhere in between a little and a lot”. <br>\n",
    "4. Removing rows of ambiguous samples with responses, “I don’t know”, “not ascertained”, and “refused”, from the rest of dataset<br>\n",
    "5. Encode all binary responses to 1/0 instead of 1/2 for yes/no. \n",
    "6. Reduce the number of categories for the education column to 3 because it had too many details. \n",
    "6. After this brief cleaning, there are 29504 samples left from the original dataset with 31997 samples. <br>"
   ]
  },
  {
   "cell_type": "code",
   "execution_count": 5,
   "metadata": {},
   "outputs": [],
   "source": [
    "## YOUR CODE HERE\n",
    "\n",
    "adult_df = pd.read_csv('./datasets/adult19.csv')"
   ]
  },
  {
   "cell_type": "markdown",
   "metadata": {},
   "source": [
    "This dataset has very confusing attribute names. Renaming columns based on [codebook](https://ftp.cdc.gov/pub/Health_Statistics/NCHS/Dataset_Documentation/NHIS/2019/adult-summary.pdf) provided by the CDC. "
   ]
  },
  {
   "cell_type": "code",
   "execution_count": 6,
   "metadata": {},
   "outputs": [],
   "source": [
    "need_cols = ['URBRRL', 'AGEP_A', 'SEX_A', 'EDUC_A', 'ANXEV_A', 'DEPEV_A',\n",
    "             'NOTCOV_A', 'ANXFREQ_A', 'ANXLEVEL_A', 'DEPFREQ_A','DEPLEVEL_A',\n",
    "             'ORIENT_A', 'MARITAL_A', 'AFVET_A', 'CITZNSTP_A', 'INCGRP_A', 'BMICAT_A']"
   ]
  },
  {
   "cell_type": "code",
   "execution_count": 7,
   "metadata": {},
   "outputs": [],
   "source": [
    "subset_df = adult_df[need_cols]"
   ]
  },
  {
   "cell_type": "code",
   "execution_count": 8,
   "metadata": {},
   "outputs": [
    {
     "data": {
      "text/plain": [
       "Index(['URBRRL', 'AGEP_A', 'SEX_A', 'EDUC_A', 'ANXEV_A', 'DEPEV_A', 'NOTCOV_A',\n",
       "       'ANXFREQ_A', 'ANXLEVEL_A', 'DEPFREQ_A', 'DEPLEVEL_A', 'ORIENT_A',\n",
       "       'MARITAL_A', 'AFVET_A', 'CITZNSTP_A', 'INCGRP_A', 'BMICAT_A'],\n",
       "      dtype='object')"
      ]
     },
     "execution_count": 8,
     "metadata": {},
     "output_type": "execute_result"
    }
   ],
   "source": [
    "subset_df.columns"
   ]
  },
  {
   "cell_type": "code",
   "execution_count": 9,
   "metadata": {},
   "outputs": [],
   "source": [
    "subset_df.columns = ['urbanrural', 'age', 'sex', 'edu', 'anx_ever', 'dep_ever', \n",
    "                    'inscov', 'anx_freq', 'anx_level', 'dep_freq', 'dep_level', \n",
    "                    'orient', 'marital', 'military_ever', 'citizenship', 'income', 'bmi']"
   ]
  },
  {
   "cell_type": "code",
   "execution_count": 10,
   "metadata": {},
   "outputs": [],
   "source": [
    "column_map = dict(zip(subset_df.columns, need_cols))"
   ]
  },
  {
   "cell_type": "markdown",
   "metadata": {},
   "source": [
    "Column anx_freq and dep_freq (anxiety and depression frequency) encodes \"never\" as 5, replacing with 0."
   ]
  },
  {
   "cell_type": "code",
   "execution_count": 11,
   "metadata": {},
   "outputs": [],
   "source": [
    "subset_df = subset_df.replace({\"anx_freq\": {5: 0}, \"dep_freq\": {5: 0}})"
   ]
  },
  {
   "cell_type": "code",
   "execution_count": 12,
   "metadata": {},
   "outputs": [
    {
     "data": {
      "text/plain": [
       "urbanrural       False\n",
       "age              False\n",
       "sex              False\n",
       "edu              False\n",
       "anx_ever         False\n",
       "dep_ever         False\n",
       "inscov           False\n",
       "anx_freq         False\n",
       "anx_level         True\n",
       "dep_freq         False\n",
       "dep_level         True\n",
       "orient           False\n",
       "marital          False\n",
       "military_ever    False\n",
       "citizenship      False\n",
       "income           False\n",
       "bmi              False\n",
       "dtype: bool"
      ]
     },
     "execution_count": 12,
     "metadata": {},
     "output_type": "execute_result"
    }
   ],
   "source": [
    "subset_df.isna().any()"
   ]
  },
  {
   "cell_type": "markdown",
   "metadata": {},
   "source": [
    "Column anx_level (anxiety level) and dep_level (depression level) has NaN values. Replace them with 0 "
   ]
  },
  {
   "cell_type": "code",
   "execution_count": 13,
   "metadata": {},
   "outputs": [],
   "source": [
    "subset_df.loc[:, 'anx_level'] = subset_df.loc[:, 'anx_level'].apply(lambda x : 0 if math.isnan(x) else x)"
   ]
  },
  {
   "cell_type": "code",
   "execution_count": 14,
   "metadata": {},
   "outputs": [],
   "source": [
    "subset_df.loc[:, 'dep_level'] = subset_df.loc[:, 'dep_level'].apply(lambda x : 0 if math.isnan(x) else x)"
   ]
  },
  {
   "cell_type": "code",
   "execution_count": 15,
   "metadata": {},
   "outputs": [
    {
     "data": {
      "text/plain": [
       "1.0    10849\n",
       "0.0    10371\n",
       "3.0     7974\n",
       "2.0     2609\n",
       "9.0       97\n",
       "7.0       87\n",
       "8.0       10\n",
       "Name: anx_level, dtype: int64"
      ]
     },
     "execution_count": 15,
     "metadata": {},
     "output_type": "execute_result"
    }
   ],
   "source": [
    "subset_df['anx_level'].value_counts()"
   ]
  },
  {
   "cell_type": "markdown",
   "metadata": {},
   "source": [
    "Also in these columns, values 7, 8, and 9 means a response that's either 'i don't know' or refused to answer. Removing these samples from the dataset. "
   ]
  },
  {
   "cell_type": "code",
   "execution_count": 16,
   "metadata": {},
   "outputs": [],
   "source": [
    "subset_df = subset_df[(subset_df['anx_level'] < 7.0) & (subset_df['dep_level'] < 7.0)]\n",
    "# less than 1% of the sample is removed."
   ]
  },
  {
   "cell_type": "code",
   "execution_count": 17,
   "metadata": {},
   "outputs": [
    {
     "data": {
      "text/plain": [
       "{'urbanrural': 'URBRRL',\n",
       " 'age': 'AGEP_A',\n",
       " 'sex': 'SEX_A',\n",
       " 'edu': 'EDUC_A',\n",
       " 'anx_ever': 'ANXEV_A',\n",
       " 'dep_ever': 'DEPEV_A',\n",
       " 'inscov': 'NOTCOV_A',\n",
       " 'anx_freq': 'ANXFREQ_A',\n",
       " 'anx_level': 'ANXLEVEL_A',\n",
       " 'dep_freq': 'DEPFREQ_A',\n",
       " 'dep_level': 'DEPLEVEL_A',\n",
       " 'orient': 'ORIENT_A',\n",
       " 'marital': 'MARITAL_A',\n",
       " 'military_ever': 'AFVET_A',\n",
       " 'citizenship': 'CITZNSTP_A',\n",
       " 'income': 'INCGRP_A',\n",
       " 'bmi': 'BMICAT_A'}"
      ]
     },
     "execution_count": 17,
     "metadata": {},
     "output_type": "execute_result"
    }
   ],
   "source": [
    "column_map"
   ]
  },
  {
   "cell_type": "markdown",
   "metadata": {},
   "source": [
    "Doing the same thing for the remaining columns that contains \"don't know\" answers."
   ]
  },
  {
   "cell_type": "code",
   "execution_count": 18,
   "metadata": {},
   "outputs": [],
   "source": [
    "subset_df = subset_df[(subset_df['sex'] <= 2) & (subset_df['edu'] <= 11) & \n",
    "          (subset_df['age'] <= 85) & (subset_df['anx_ever'] <= 2) & (subset_df['dep_ever'] <= 2) & \n",
    "          (subset_df['inscov'] <= 2) & (subset_df['orient'] <= 4) & (subset_df['marital'] <= 3) &\n",
    "          (subset_df['military_ever'] <= 2) & (subset_df['citizenship'] <= 2) & (subset_df['bmi'] <= 4)]"
   ]
  },
  {
   "cell_type": "markdown",
   "metadata": {},
   "source": [
    "Since there are many different categories in the education column, we reduce the coding to three main categories: 1 encodes for people without a college degree(high school or below), 2 indicates a college degree or equivalent, 3 stands for a professional degree (Master's, PhD, MD, JD..). The first, second, and third categories take up roughly 55%, 35%, and 10% of the entire data, which looks intuitive to us based on experience. "
   ]
  },
  {
   "cell_type": "code",
   "execution_count": 19,
   "metadata": {},
   "outputs": [],
   "source": [
    "def map_edu(x):\n",
    "    if x in {0, 1, 2, 3, 4, 5}:\n",
    "        return 1\n",
    "    elif x in {6, 7, 8}:\n",
    "        return 2\n",
    "    return 3"
   ]
  },
  {
   "cell_type": "code",
   "execution_count": 20,
   "metadata": {},
   "outputs": [],
   "source": [
    "subset_df['edu'] = subset_df['edu'].apply(map_edu)"
   ]
  },
  {
   "cell_type": "code",
   "execution_count": 21,
   "metadata": {},
   "outputs": [],
   "source": [
    "subset_df['military_ever'] = subset_df['military_ever'].apply(lambda x : 0 if (x == 2) else x)"
   ]
  },
  {
   "cell_type": "code",
   "execution_count": 22,
   "metadata": {},
   "outputs": [],
   "source": [
    "subset_df['anx_ever'] = subset_df['anx_ever'].apply(lambda x : 0 if (x == 2) else x)"
   ]
  },
  {
   "cell_type": "code",
   "execution_count": 23,
   "metadata": {},
   "outputs": [],
   "source": [
    "subset_df['dep_ever'] = subset_df['dep_ever'].apply(lambda x : 0 if (x == 2) else x)"
   ]
  },
  {
   "cell_type": "markdown",
   "metadata": {},
   "source": [
    "## Creating the score column\n",
    "\n",
    "Since we are trying to determine the correlation between demographics information and mental health condition, we need a quantitative measure for mental health condition. We first explore variables related to mental health conditions"
   ]
  },
  {
   "cell_type": "markdown",
   "metadata": {},
   "source": [
    "Since we have information on the level and frequency of anxiety and depression, we define a mental health score for each sample using the following. \n",
    "\n",
    "$\\text{Score} = \\text{anx_level} \\times \\text{anx_freq} + \\text{dep_level} \\times \\text{dep_freq}$"
   ]
  },
  {
   "cell_type": "markdown",
   "metadata": {},
   "source": [
    "where a higher score means that the sample has a worse mental health condition. This mental health score has several limitations. First of all, it's implying that a person who feels anxiety/depressed daily is 4 times worse than a person who feels so a few times a year. Secondly, we are assuming depression and anxiety plays the same role in a person's mental health condition, while in reality they're not equal. \n",
    "\n",
    "\n",
    "There are also several advantages of using this score. First of all, people who don't have any mental health illness will automatically get a score of 0. Moreover, a higher score means a person either has a high anxiety/depression level, or it means that the person feels depressed/anxiety more frequently. Both are indications of worse mental health conditions. Due to the limitation of the dataset, we will use this definition as a measure for mental health. "
   ]
  },
  {
   "cell_type": "code",
   "execution_count": 88,
   "metadata": {},
   "outputs": [],
   "source": [
    "def mh_score(row):\n",
    "    return row['anx_level'] * row['anx_freq'] + row['dep_level'] * row['dep_freq']"
   ]
  },
  {
   "cell_type": "code",
   "execution_count": 89,
   "metadata": {},
   "outputs": [],
   "source": [
    "df['score'] = df.apply(mh_score, axis=1)"
   ]
  },
  {
   "cell_type": "code",
   "execution_count": 93,
   "metadata": {},
   "outputs": [
    {
     "data": {
      "text/plain": [
       "Text(0.5, 1.0, 'Frequency Distribution of Mental Health Score')"
      ]
     },
     "execution_count": 93,
     "metadata": {},
     "output_type": "execute_result"
    },
    {
     "data": {
      "image/png": "[encoded data removed]",
      "text/plain": [
       "<Figure size 864x360 with 1 Axes>"
      ]
     },
     "metadata": {},
     "output_type": "display_data"
    }
   ],
   "source": [
    "sns.histplot(data=df, x='score', stat=\"probability\", bins=15)\n",
    "plt.title(\"Frequency Distribution of Mental Health Score\")"
   ]
  },
  {
   "cell_type": "markdown",
   "metadata": {},
   "source": [
    "Since the score column is skewed, we use sklearn's standard scaler to normalize it and store in another column"
   ]
  },
  {
   "cell_type": "code",
   "execution_count": 91,
   "metadata": {},
   "outputs": [],
   "source": [
    "# create new column using standard scaler\n",
    "df['norm_score'] = sklearn.preprocessing.StandardScaler().fit_transform(df['score'].to_numpy().reshape(-1,1))"
   ]
  },
  {
   "cell_type": "code",
   "execution_count": 92,
   "metadata": {},
   "outputs": [
    {
     "data": {
      "text/plain": [
       "Text(0.5, 1.0, 'Frequency Distribution of Normalized Mental Health Score')"
      ]
     },
     "execution_count": 92,
     "metadata": {},
     "output_type": "execute_result"
    },
    {
     "data": {
      "image/png": "[encoded data removed]",
      "text/plain": [
       "<Figure size 864x360 with 1 Axes>"
      ]
     },
     "metadata": {},
     "output_type": "display_data"
    }
   ],
   "source": [
    "sns.histplot(data=df, x='norm_score', stat=\"probability\", bins=15)\n",
    "plt.title(\"Frequency Distribution of Normalized Mental Health Score\")"
   ]
  },
  {
   "cell_type": "markdown",
   "metadata": {},
   "source": [
    "We also create a binary variable indicating that if a sample has > 0 mental health score, so that we can frame our problem as both regression and classfication problem. "
   ]
  },
  {
   "cell_type": "code",
   "execution_count": 29,
   "metadata": {},
   "outputs": [],
   "source": [
    "df['mh_ever'] = df['score'].apply(lambda x : x > 0)"
   ]
  },
  {
   "cell_type": "code",
   "execution_count": 98,
   "metadata": {},
   "outputs": [
    {
     "data": {
      "text/plain": [
       "Text(0.5, 1.0, 'Ever Had Mental Health Issues')"
      ]
     },
     "execution_count": 98,
     "metadata": {},
     "output_type": "execute_result"
    },
    {
     "data": {
      "image/png": "[encoded data removed]",
      "text/plain": [
       "<Figure size 864x360 with 1 Axes>"
      ]
     },
     "metadata": {},
     "output_type": "display_data"
    }
   ],
   "source": [
    "sns.barplot(x=\"mh_ever\", y=\"mh_ever\", data=df, estimator=lambda x: len(x) / len(df) * 100, order=[True, False])\n",
    "plt.xlabel('Ever had any mental health conditions')\n",
    "plt.title('Ever Had Mental Health Issues')"
   ]
  },
  {
   "cell_type": "markdown",
   "metadata": {},
   "source": [
    "Surprisingly, more often than not, people have reported that they have at least some mental health issues like anxiety and depression. "
   ]
  },
  {
   "cell_type": "markdown",
   "metadata": {},
   "source": [
    "# Data Analysis & Results"
   ]
  },
  {
   "cell_type": "markdown",
   "metadata": {},
   "source": [
    "Include cells that describe the steps in your data analysis."
   ]
  },
  {
   "cell_type": "code",
   "execution_count": 31,
   "metadata": {},
   "outputs": [],
   "source": [
    "# read in cleaned dataset\n",
    "df = pd.read_csv(\"./datasets/adult_cleaned.csv\")\n",
    "df.drop(labels=['Unnamed: 0'], axis=1, inplace=True)"
   ]
  },
  {
   "cell_type": "markdown",
   "metadata": {},
   "source": [
    "## EDA"
   ]
  },
  {
   "cell_type": "code",
   "execution_count": 32,
   "metadata": {},
   "outputs": [
    {
     "data": {
      "text/plain": [
       "Index(['urbanrural', 'age', 'sex', 'edu', 'inscov', 'anx_freq', 'anx_level',\n",
       "       'dep_freq', 'dep_level', 'orient', 'marital', 'military_ever',\n",
       "       'citizenship', 'income', 'bmi', 'score', 'lgbt', 'mh_ever', 'urban'],\n",
       "      dtype='object')"
      ]
     },
     "execution_count": 32,
     "metadata": {},
     "output_type": "execute_result"
    }
   ],
   "source": [
    "df.columns"
   ]
  },
  {
   "cell_type": "code",
   "execution_count": 33,
   "metadata": {},
   "outputs": [
    {
     "data": {
      "text/html": [
       "<div>\n",
       "<style scoped>\n",
       "    .dataframe tbody tr th:only-of-type {\n",
       "        vertical-align: middle;\n",
       "    }\n",
       "\n",
       "    .dataframe tbody tr th {\n",
       "        vertical-align: top;\n",
       "    }\n",
       "\n",
       "    .dataframe thead th {\n",
       "        text-align: right;\n",
       "    }\n",
       "</style>\n",
       "<table border=\"1\" class=\"dataframe\">\n",
       "  <thead>\n",
       "    <tr style=\"text-align: right;\">\n",
       "      <th></th>\n",
       "      <th>urbanrural</th>\n",
       "      <th>age</th>\n",
       "      <th>sex</th>\n",
       "      <th>edu</th>\n",
       "      <th>inscov</th>\n",
       "      <th>anx_freq</th>\n",
       "      <th>anx_level</th>\n",
       "      <th>dep_freq</th>\n",
       "      <th>dep_level</th>\n",
       "      <th>orient</th>\n",
       "      <th>marital</th>\n",
       "      <th>military_ever</th>\n",
       "      <th>citizenship</th>\n",
       "      <th>income</th>\n",
       "      <th>bmi</th>\n",
       "      <th>score</th>\n",
       "      <th>lgbt</th>\n",
       "      <th>mh_ever</th>\n",
       "      <th>urban</th>\n",
       "    </tr>\n",
       "  </thead>\n",
       "  <tbody>\n",
       "    <tr>\n",
       "      <th>0</th>\n",
       "      <td>4</td>\n",
       "      <td>28</td>\n",
       "      <td>2</td>\n",
       "      <td>2</td>\n",
       "      <td>2</td>\n",
       "      <td>1</td>\n",
       "      <td>2.0</td>\n",
       "      <td>0</td>\n",
       "      <td>0.0</td>\n",
       "      <td>2</td>\n",
       "      <td>1</td>\n",
       "      <td>0</td>\n",
       "      <td>1</td>\n",
       "      <td>3</td>\n",
       "      <td>2</td>\n",
       "      <td>2.0</td>\n",
       "      <td>0</td>\n",
       "      <td>True</td>\n",
       "      <td>False</td>\n",
       "    </tr>\n",
       "    <tr>\n",
       "      <th>1</th>\n",
       "      <td>4</td>\n",
       "      <td>72</td>\n",
       "      <td>1</td>\n",
       "      <td>1</td>\n",
       "      <td>2</td>\n",
       "      <td>1</td>\n",
       "      <td>1.0</td>\n",
       "      <td>1</td>\n",
       "      <td>1.0</td>\n",
       "      <td>2</td>\n",
       "      <td>1</td>\n",
       "      <td>1</td>\n",
       "      <td>1</td>\n",
       "      <td>3</td>\n",
       "      <td>3</td>\n",
       "      <td>2.0</td>\n",
       "      <td>0</td>\n",
       "      <td>True</td>\n",
       "      <td>False</td>\n",
       "    </tr>\n",
       "    <tr>\n",
       "      <th>2</th>\n",
       "      <td>4</td>\n",
       "      <td>60</td>\n",
       "      <td>1</td>\n",
       "      <td>2</td>\n",
       "      <td>2</td>\n",
       "      <td>0</td>\n",
       "      <td>0.0</td>\n",
       "      <td>1</td>\n",
       "      <td>1.0</td>\n",
       "      <td>2</td>\n",
       "      <td>1</td>\n",
       "      <td>1</td>\n",
       "      <td>1</td>\n",
       "      <td>5</td>\n",
       "      <td>4</td>\n",
       "      <td>1.0</td>\n",
       "      <td>0</td>\n",
       "      <td>True</td>\n",
       "      <td>False</td>\n",
       "    </tr>\n",
       "    <tr>\n",
       "      <th>3</th>\n",
       "      <td>1</td>\n",
       "      <td>60</td>\n",
       "      <td>1</td>\n",
       "      <td>1</td>\n",
       "      <td>2</td>\n",
       "      <td>3</td>\n",
       "      <td>2.0</td>\n",
       "      <td>4</td>\n",
       "      <td>2.0</td>\n",
       "      <td>2</td>\n",
       "      <td>1</td>\n",
       "      <td>0</td>\n",
       "      <td>1</td>\n",
       "      <td>1</td>\n",
       "      <td>4</td>\n",
       "      <td>14.0</td>\n",
       "      <td>0</td>\n",
       "      <td>True</td>\n",
       "      <td>True</td>\n",
       "    </tr>\n",
       "    <tr>\n",
       "      <th>4</th>\n",
       "      <td>1</td>\n",
       "      <td>78</td>\n",
       "      <td>1</td>\n",
       "      <td>1</td>\n",
       "      <td>2</td>\n",
       "      <td>1</td>\n",
       "      <td>2.0</td>\n",
       "      <td>1</td>\n",
       "      <td>2.0</td>\n",
       "      <td>2</td>\n",
       "      <td>1</td>\n",
       "      <td>1</td>\n",
       "      <td>1</td>\n",
       "      <td>2</td>\n",
       "      <td>4</td>\n",
       "      <td>4.0</td>\n",
       "      <td>0</td>\n",
       "      <td>True</td>\n",
       "      <td>True</td>\n",
       "    </tr>\n",
       "  </tbody>\n",
       "</table>\n",
       "</div>"
      ],
      "text/plain": [
       "   urbanrural  age  sex  edu  inscov  anx_freq  anx_level  dep_freq  \\\n",
       "0           4   28    2    2       2         1        2.0         0   \n",
       "1           4   72    1    1       2         1        1.0         1   \n",
       "2           4   60    1    2       2         0        0.0         1   \n",
       "3           1   60    1    1       2         3        2.0         4   \n",
       "4           1   78    1    1       2         1        2.0         1   \n",
       "\n",
       "   dep_level  orient  marital  military_ever  citizenship  income  bmi  score  \\\n",
       "0        0.0       2        1              0            1       3    2    2.0   \n",
       "1        1.0       2        1              1            1       3    3    2.0   \n",
       "2        1.0       2        1              1            1       5    4    1.0   \n",
       "3        2.0       2        1              0            1       1    4   14.0   \n",
       "4        2.0       2        1              1            1       2    4    4.0   \n",
       "\n",
       "   lgbt  mh_ever  urban  \n",
       "0     0     True  False  \n",
       "1     0     True  False  \n",
       "2     0     True  False  \n",
       "3     0     True   True  \n",
       "4     0     True   True  "
      ]
     },
     "execution_count": 33,
     "metadata": {},
     "output_type": "execute_result"
    }
   ],
   "source": [
    "df.head()"
   ]
  },
  {
   "cell_type": "markdown",
   "metadata": {},
   "source": [
    "## Score\n",
    "* Type: Numeric, continuous\n",
    "* Description: mental health score, defined as $\\text{Score} = \\text{anx_level} \\times \\text{anx_freq} + \\text{dep_level} \\times \\text{dep_freq}$"
   ]
  },
  {
   "cell_type": "code",
   "execution_count": 34,
   "metadata": {
    "scrolled": true
   },
   "outputs": [
    {
     "data": {
      "image/png": "[encoded data removed]",
      "text/plain": [
       "<Figure size 864x360 with 2 Axes>"
      ]
     },
     "metadata": {},
     "output_type": "display_data"
    }
   ],
   "source": [
    "\n",
    "fig, axes = plt.subplots(1, 2)\n",
    "sns.histplot(data=df, x='score', bins=15, kde=True, ax = axes[0], stat=\"probability\").set_ylabel('Percent')\n",
    "plt.suptitle('Depression/Anxiety Score Distribution')\n",
    "sns.boxplot(data=df, x='score', ax = axes[1])\n",
    "fig.show()"
   ]
  },
  {
   "cell_type": "code",
   "execution_count": 35,
   "metadata": {},
   "outputs": [],
   "source": [
    "def get_outliers(col):\n",
    "    IQR = col.quantile(q=0.75) - col.quantile(q=0.25)\n",
    "    return col[np.abs(col - col.mean()) > 1.5 * IQR]"
   ]
  },
  {
   "cell_type": "markdown",
   "metadata": {},
   "source": [
    "The resulting distribution is extremely right-skewed, which is expected since most samples in this dataset has no mental health issues. "
   ]
  },
  {
   "cell_type": "code",
   "execution_count": 36,
   "metadata": {},
   "outputs": [
    {
     "data": {
      "text/plain": [
       "3        14.0\n",
       "26       14.0\n",
       "34       16.0\n",
       "36       13.0\n",
       "38       14.0\n",
       "         ... \n",
       "29461    12.0\n",
       "29483    24.0\n",
       "29485    16.0\n",
       "29486    12.0\n",
       "29498    18.0\n",
       "Name: score, Length: 2807, dtype: float64"
      ]
     },
     "execution_count": 36,
     "metadata": {},
     "output_type": "execute_result"
    }
   ],
   "source": [
    "get_outliers(df['score'])"
   ]
  },
  {
   "cell_type": "code",
   "execution_count": 37,
   "metadata": {},
   "outputs": [
    {
     "data": {
      "text/plain": [
       "5.0015226397554855"
      ]
     },
     "execution_count": 37,
     "metadata": {},
     "output_type": "execute_result"
    }
   ],
   "source": [
    "df['score'].std()"
   ]
  },
  {
   "cell_type": "markdown",
   "metadata": {},
   "source": [
    "2807 outliers are in this column using the 1.5*IQR rule. This is due to the fact that our distribution is too right-skewed, with most of the samples concentrated in the 0-5 range. As a result, any sample with > ~9 score is considered an outlier"
   ]
  },
  {
   "cell_type": "markdown",
   "metadata": {},
   "source": [
    "## Age\n",
    "* Type: numeric, discrete\n",
    "* Description: age"
   ]
  },
  {
   "cell_type": "code",
   "execution_count": 38,
   "metadata": {},
   "outputs": [
    {
     "data": {
      "text/plain": [
       "Text(0.5, 1.0, 'Age Distribution')"
      ]
     },
     "execution_count": 38,
     "metadata": {},
     "output_type": "execute_result"
    },
    {
     "data": {
      "image/png": "[encoded data removed]",
      "text/plain": [
       "<Figure size 864x360 with 1 Axes>"
      ]
     },
     "metadata": {},
     "output_type": "display_data"
    }
   ],
   "source": [
    "ax = sns.histplot(x = 'age', data = df, stat=\"probability\", bins = 15, kde=True)\n",
    "ax.set_title('Age Distribution')"
   ]
  },
  {
   "cell_type": "markdown",
   "metadata": {},
   "source": [
    "The age column has a roughly uniform distribution, with most survey participants' age around 20-80. Each age bin contains roughly the same number of samples. Since the survey only has samples from age 18+, relatively few people are younger than 20 years old. There is a roughly equal probability for each age range/bin. "
   ]
  },
  {
   "cell_type": "code",
   "execution_count": 39,
   "metadata": {},
   "outputs": [
    {
     "data": {
      "text/plain": [
       "Series([], Name: age, dtype: int64)"
      ]
     },
     "execution_count": 39,
     "metadata": {},
     "output_type": "execute_result"
    }
   ],
   "source": [
    "get_outliers(df['age'])"
   ]
  },
  {
   "cell_type": "markdown",
   "metadata": {},
   "source": [
    "Using the $1.5 \\times IQR$ definition for outliers, the age column does not have any outlier."
   ]
  },
  {
   "cell_type": "markdown",
   "metadata": {},
   "source": [
    "## Regional Information: Urban/Rural\n",
    "* Type: Categorical\n",
    "* Description: Describe the survey participants' urban-rural classification according to 2013 [NCHS](https://www.cdc.gov/nchs/index.htm)\n",
    "* Encoding\n",
    "    - 1 --> Large central metro\n",
    "    - 2 --> Large fringe metro\n",
    "    - 3 --> Medium and small metro\n",
    "    - 4 --> Nonmetropolitan"
   ]
  },
  {
   "cell_type": "code",
   "execution_count": 40,
   "metadata": {},
   "outputs": [
    {
     "data": {
      "text/plain": [
       "Text(0.5, 1.0, 'Urban/Rural Breakdown')"
      ]
     },
     "execution_count": 40,
     "metadata": {},
     "output_type": "execute_result"
    },
    {
     "data": {
      "image/png": "[encoded data removed]",
      "text/plain": [
       "<Figure size 864x360 with 1 Axes>"
      ]
     },
     "metadata": {},
     "output_type": "display_data"
    }
   ],
   "source": [
    "ax = sns.barplot(x=\"urbanrural\", y=\"urbanrural\", data=df, estimator=lambda x: len(x) / len(df) * 100)\n",
    "ax.set(ylabel=\"Percent\")\n",
    "ax.set_title('Urban/Rural Breakdown')"
   ]
  },
  {
   "cell_type": "markdown",
   "metadata": {},
   "source": [
    "From the graph, we could see that most people surveyed live in metro areas with more than 25% reporting to be in large central metro. This attribute is of our interest because living in the city can be both rewarding and stressful compared to life in the countryside. Does people live in the metropolitan area feel more anxious and depressed? Does the size of the metro influence the mental health score?"
   ]
  },
  {
   "cell_type": "markdown",
   "metadata": {},
   "source": [
    "## Gender\n",
    "* Type: Categorical\n",
    "* Description: Sex of survey participants\n",
    "* Encoding\n",
    "    - 1 --> Male\n",
    "    - 2 --> Female"
   ]
  },
  {
   "cell_type": "code",
   "execution_count": 95,
   "metadata": {},
   "outputs": [
    {
     "data": {
      "text/plain": [
       "Text(0.5, 1.0, 'Gender Breakdown')"
      ]
     },
     "execution_count": 95,
     "metadata": {},
     "output_type": "execute_result"
    },
    {
     "data": {
      "image/png": "[encoded data removed]",
      "text/plain": [
       "<Figure size 864x360 with 1 Axes>"
      ]
     },
     "metadata": {},
     "output_type": "display_data"
    }
   ],
   "source": [
    "ax = sns.barplot(x=\"sex\", y=\"sex\", data=df, estimator=lambda x: len(x) / len(df) * 100)\n",
    "ax.set(ylabel=\"Percent\")\n",
    "ax.set_title('Gender Breakdown')"
   ]
  },
  {
   "cell_type": "markdown",
   "metadata": {},
   "source": [
    "We can see from out plot that around 46% of the survey response are from male, while 53% is from female. Notably, according to the [2020 US census](https://www.census.gov/quickfacts/fact/table/US/LFE046219), 50.8% of all US population are female. This suggests that our dataset is representative of the total population."
   ]
  },
  {
   "cell_type": "markdown",
   "metadata": {},
   "source": [
    "## Education Level\n",
    "* Type: Categorical\n",
    "* Description: Education level of survey participant\n",
    "* Encoding\n",
    "    - 1 --> No college degree\n",
    "    - 2 --> Bachelor's degree\n",
    "    - 3 --> Professional degree (masters, Ph.D., or equivalent)"
   ]
  },
  {
   "cell_type": "code",
   "execution_count": 42,
   "metadata": {},
   "outputs": [
    {
     "data": {
      "text/plain": [
       "Text(0.5, 1.0, 'Education Level Breakdown')"
      ]
     },
     "execution_count": 42,
     "metadata": {},
     "output_type": "execute_result"
    },
    {
     "data": {
      "image/png": "[encoded data removed]",
      "text/plain": [
       "<Figure size 864x360 with 1 Axes>"
      ]
     },
     "metadata": {},
     "output_type": "display_data"
    }
   ],
   "source": [
    "ax = sns.barplot(x=\"edu\", y=\"edu\", data=df, estimator=lambda x: len(x) / len(df) * 100)\n",
    "ax.set(ylabel=\"Percent\")\n",
    "ax.set_title('Education Level Breakdown')"
   ]
  },
  {
   "cell_type": "markdown",
   "metadata": {},
   "source": [
    "Not surprisingly, 'no college degree' is the most frequent category at about 51%, with bachelor's being the second frequent. A professional degree is significantly rarer at only 13%. Note that if \"bachelor's or above\" is a cateogry, it would account for 49% of all samples. "
   ]
  },
  {
   "cell_type": "markdown",
   "metadata": {},
   "source": [
    "## Anxiety Level and Depression Level\n",
    "* Type: Categorical\n",
    "* Descrption: Self-reported anxiety / depression level\n",
    "* Encoding\n",
    "    - 0 ---> no anxiety reported\n",
    "    - 1 ---> \"A little\"\n",
    "    - 2 ---> \"Between a little and a lot\"\n",
    "    - 3 ---> \"A lot\""
   ]
  },
  {
   "cell_type": "code",
   "execution_count": 43,
   "metadata": {
    "scrolled": true
   },
   "outputs": [
    {
     "data": {
      "image/png": "[encoded data removed]",
      "text/plain": [
       "<Figure size 864x360 with 2 Axes>"
      ]
     },
     "metadata": {},
     "output_type": "display_data"
    }
   ],
   "source": [
    "fig, axes =plt.subplots(1,2)\n",
    "sns.barplot(x=\"anx_level\", y=\"anx_level\", data=df, estimator=lambda x: len(x) / len(df) * 100, ax = axes[0]).set(ylabel=\"Percent\")\n",
    "axes[0].set_title('Anxiety Level Breakdown')\n",
    "sns.barplot(x=\"dep_level\", y=\"dep_level\", data=df, estimator=lambda x: len(x) / len(df) * 100, ax = axes[1]).set(ylabel=\"Percent\")\n",
    "axes[1].set_title('Depression Level Breakdown')\n",
    "fig.show()"
   ]
  },
  {
   "cell_type": "markdown",
   "metadata": {},
   "source": [
    "In both graphs, most people show little or no anixety/depression. However, from the plots, participants tend to be more anxious than depressesd. "
   ]
  },
  {
   "cell_type": "markdown",
   "metadata": {},
   "source": [
    "## Anxiety Frequency and Depression Frequency\n",
    "* Type: Categorical\n",
    "* Description: Response to survey question: How often do you feel anxiety / depressed? Would you say daily, weekly, monthly, a few \n",
    "times a year, or never? \n",
    "* Encoding\n",
    "    - 0 ---> never\n",
    "    - 1 ---> A few times a year\n",
    "    - 2 ---> Monthly\n",
    "    - 3 ---> Weekly\n",
    "    - 4 ---> Daily"
   ]
  },
  {
   "cell_type": "code",
   "execution_count": 44,
   "metadata": {},
   "outputs": [
    {
     "data": {
      "image/png": "[encoded data removed]",
      "text/plain": [
       "<Figure size 864x360 with 2 Axes>"
      ]
     },
     "metadata": {},
     "output_type": "display_data"
    }
   ],
   "source": [
    "fig, axes =plt.subplots(1,2)\n",
    "sns.barplot(x=\"anx_freq\", y=\"anx_freq\", data=df, estimator=lambda x: len(x) / len(df) * 100, ax = axes[0]).set(ylabel=\"Percent\")\n",
    "axes[0].set_title('Anxiety Frequency')\n",
    "sns.barplot(x=\"dep_freq\", y=\"dep_freq\", data=df, estimator=lambda x: len(x) / len(df) * 100, ax = axes[1]).set(ylabel=\"Percent\")\n",
    "axes[1].set_title('Depression Frequency')\n",
    "fig.show()"
   ]
  },
  {
   "cell_type": "markdown",
   "metadata": {},
   "source": [
    "We can see from our plots that most people surveyed don't experience anxiety or depression. However, a lot more people reported feeling anxious than those who feel depressed. In general, both frequency counts have right-skewed distributions."
   ]
  },
  {
   "cell_type": "markdown",
   "metadata": {},
   "source": [
    "## Insurance Coverage\n",
    "* Type: Categorical\n",
    "* Descrption: Medical insurance coverage status\n",
    "* Encoding\n",
    "    - 1 ---> not covered\n",
    "    - 2 ---> covered"
   ]
  },
  {
   "cell_type": "code",
   "execution_count": 45,
   "metadata": {},
   "outputs": [
    {
     "data": {
      "text/plain": [
       "Text(0.5, 1.0, 'Medical Insurance Coverage')"
      ]
     },
     "execution_count": 45,
     "metadata": {},
     "output_type": "execute_result"
    },
    {
     "data": {
      "image/png": "[encoded data removed]",
      "text/plain": [
       "<Figure size 864x360 with 1 Axes>"
      ]
     },
     "metadata": {},
     "output_type": "display_data"
    }
   ],
   "source": [
    "ax_ins = sns.barplot(x=\"inscov\", y=\"inscov\", data=df, estimator=lambda x: len(x) / len(df) * 100)\n",
    "ax_ins.set(ylabel=\"Percent\", xlabel = 'insurance coverage')\n",
    "ax_ins.set_title('Medical Insurance Coverage')"
   ]
  },
  {
   "cell_type": "markdown",
   "metadata": {},
   "source": [
    "Most people are covered with some medical insurance. We included this variable since that whether or not people can get affordable care can affect their mental health conditions. "
   ]
  },
  {
   "cell_type": "markdown",
   "metadata": {},
   "source": [
    "## Sexual Orientation\n",
    "* Type: Categorical\n",
    "* Description: Sexual orientation\n",
    "* Encoding\n",
    "    - 1 ---> Gay/Lesbian\n",
    "    - 2 ---> Straight\n",
    "    - 3 ---> Bisexual\n",
    "    - 4 ---> Something else"
   ]
  },
  {
   "cell_type": "code",
   "execution_count": 46,
   "metadata": {},
   "outputs": [
    {
     "data": {
      "text/plain": [
       "Text(0.5, 1.0, 'Sexual Orientation Breakdown')"
      ]
     },
     "execution_count": 46,
     "metadata": {},
     "output_type": "execute_result"
    },
    {
     "data": {
      "image/png": "[encoded data removed]",
      "text/plain": [
       "<Figure size 864x360 with 1 Axes>"
      ]
     },
     "metadata": {},
     "output_type": "display_data"
    }
   ],
   "source": [
    "ax = sns.barplot(x=\"orient\", y=\"orient\", data=df, estimator=lambda x: len(x) / len(df) * 100)\n",
    "ax.set(ylabel=\"Percent\")\n",
    "ax.set_title('Sexual Orientation Breakdown')"
   ]
  },
  {
   "cell_type": "markdown",
   "metadata": {},
   "source": [
    "We can see that 95% of the people surveyed are straight, which aligns with the overall sexuality percentage in the US. According to [some sources](https://www.nami.org/Your-Journey/Identity-and-Cultural-Dimensions/LGBTQI), LGBTQ teens are at higher risk of suicide thoughts and attempts due to a lack of mental support, so it's meaningful to look at the potential association between sexual orientation and mental health conditions. "
   ]
  },
  {
   "cell_type": "markdown",
   "metadata": {},
   "source": [
    "## Marital\n",
    "* Type: Categorical\n",
    "* Description: Marital status\n",
    "* Encoding\n",
    "    - 1 ---> married\n",
    "    - 2 ---> living with partner together as unmarried couple\n",
    "    - 3 ---> Neither"
   ]
  },
  {
   "cell_type": "code",
   "execution_count": 47,
   "metadata": {},
   "outputs": [
    {
     "data": {
      "text/plain": [
       "Text(0.5, 1.0, 'Marital Status Breakdown')"
      ]
     },
     "execution_count": 47,
     "metadata": {},
     "output_type": "execute_result"
    },
    {
     "data": {
      "image/png": "[encoded data removed]",
      "text/plain": [
       "<Figure size 864x360 with 1 Axes>"
      ]
     },
     "metadata": {},
     "output_type": "display_data"
    }
   ],
   "source": [
    "ax_marital = sns.barplot(x=\"marital\", y=\"marital\", data=df, estimator=lambda x: len(x) / len(df) * 100)\n",
    "ax_marital.set(ylabel=\"Percent\")\n",
    "ax_marital.set_title('Marital Status Breakdown')"
   ]
  },
  {
   "cell_type": "markdown",
   "metadata": {},
   "source": [
    "There is approximately the same number of people staying single and entering marriages. Based on the paper, (https://users.wfu.edu/simonr/pdfs/Simon%20AJS%202002.pdf), married groups have better mental health conditions than the unmarried groups. In this project, We are also interested to see whether our model confirms this finding."
   ]
  },
  {
   "cell_type": "markdown",
   "metadata": {},
   "source": [
    "## military_ever\n",
    "* Type: Categorical\n",
    "* Description: response to survey question: Did you ever serve on active duty in the U.S. Armed Forces, military Reserves, \n",
    "or National Guard?  \n",
    "* Encoding\n",
    "    - 0 ---> No\n",
    "    - 1 ---> Yes"
   ]
  },
  {
   "cell_type": "code",
   "execution_count": 48,
   "metadata": {},
   "outputs": [
    {
     "data": {
      "text/plain": [
       "Text(0.5, 1.0, 'Military Hisotry Breakdown')"
      ]
     },
     "execution_count": 48,
     "metadata": {},
     "output_type": "execute_result"
    },
    {
     "data": {
      "image/png": "[encoded data removed]",
      "text/plain": [
       "<Figure size 864x360 with 1 Axes>"
      ]
     },
     "metadata": {},
     "output_type": "display_data"
    }
   ],
   "source": [
    "ax_military = sns.barplot(x=\"military_ever\", y=\"military_ever\", data=df, estimator=lambda x: len(x) / len(df) * 100)\n",
    "ax_military.set(ylabel=\"Percent\")\n",
    "ax_military.set_title('Military Hisotry Breakdown')"
   ]
  },
  {
   "cell_type": "markdown",
   "metadata": {},
   "source": [
    "Less than 10% of samples indicated that they have served in the military. A military career can be potentially associated with worse mental health conditions due to severe trainings and war situations. Many military soldiers retired with mental disorders like PTSD."
   ]
  },
  {
   "cell_type": "markdown",
   "metadata": {},
   "source": [
    "## citizenship\n",
    "* Type: Categorical\n",
    "* Description:Citizenship status\n",
    "* Encoding\n",
    "    - 0: No, not a citizen of United States\n",
    "    - 1: Yes, a citizen of United States."
   ]
  },
  {
   "cell_type": "code",
   "execution_count": 49,
   "metadata": {},
   "outputs": [
    {
     "data": {
      "text/plain": [
       "Text(0.5, 1.0, 'US Citizenship Status Breakdown')"
      ]
     },
     "execution_count": 49,
     "metadata": {},
     "output_type": "execute_result"
    },
    {
     "data": {
      "image/png": "[encoded data removed]",
      "text/plain": [
       "<Figure size 864x360 with 1 Axes>"
      ]
     },
     "metadata": {},
     "output_type": "display_data"
    }
   ],
   "source": [
    "ax_citizen = sns.barplot(x=\"citizenship\", y=\"citizenship\", data=df, estimator=lambda x: len(x) / len(df) * 100)\n",
    "ax_citizen.set(ylabel=\"Percent\")\n",
    "ax_citizen.set_title('US Citizenship Status Breakdown')"
   ]
  },
  {
   "cell_type": "markdown",
   "metadata": {},
   "source": [
    "Most people surveyed are citizen of the US. We should look at potential association between citizenship and mental wellbeing because people like illegal immigrants might have worse mental health conditions."
   ]
  },
  {
   "cell_type": "markdown",
   "metadata": {},
   "source": [
    "## income\n",
    "* Type: Categorical\n",
    "* Description: family income of sample adult\n",
    "* Encoding\n",
    "    - 1->\\$0 to 34,999\n",
    "    - 2->\\$35,000 to 49,999\n",
    "    - 3->\\$50,000 to 74,999 \n",
    "    - 4->\\$75,000 to 99,999\n",
    "    - 5->\\$100,000 or greater "
   ]
  },
  {
   "cell_type": "code",
   "execution_count": 50,
   "metadata": {},
   "outputs": [
    {
     "data": {
      "text/plain": [
       "Text(0.5, 1.0, 'Household Income Breakdown')"
      ]
     },
     "execution_count": 50,
     "metadata": {},
     "output_type": "execute_result"
    },
    {
     "data": {
      "image/png": "[encoded data removed]",
      "text/plain": [
       "<Figure size 864x360 with 1 Axes>"
      ]
     },
     "metadata": {},
     "output_type": "display_data"
    }
   ],
   "source": [
    "ax_income = sns.barplot(x=\"income\", y=\"income\", data=df, estimator=lambda x: len(x) / len(df) * 100)\n",
    "ax_income.set(ylabel=\"Percent\")\n",
    "ax_income.set_title('Household Income Breakdown')"
   ]
  },
  {
   "cell_type": "markdown",
   "metadata": {},
   "source": [
    "The income variable resembles a bimodal distribution, with more than 8000 samples beloning in the poorest and the richest category. Income should also be a significant predictor of mental health, since we assume more well off families have better mental health conditions."
   ]
  },
  {
   "cell_type": "markdown",
   "metadata": {},
   "source": [
    "## bmi\n",
    "* Type: Categorical\n",
    "* Description: Categorical body mass index\n",
    "* Encoding\n",
    "    - 1->Underweight\n",
    "    - 2->Healthy weight\n",
    "    - 3->Overweight \n",
    "    - 4->Obese \n"
   ]
  },
  {
   "cell_type": "code",
   "execution_count": 51,
   "metadata": {},
   "outputs": [
    {
     "data": {
      "text/plain": [
       "Text(0.5, 1.0, 'BMI Breakdown')"
      ]
     },
     "execution_count": 51,
     "metadata": {},
     "output_type": "execute_result"
    },
    {
     "data": {
      "image/png": "[encoded data removed]",
      "text/plain": [
       "<Figure size 864x360 with 1 Axes>"
      ]
     },
     "metadata": {},
     "output_type": "display_data"
    }
   ],
   "source": [
    "ax_bmi = sns.barplot(x=\"bmi\", y=\"bmi\", data=df, estimator=lambda x: len(x) / len(df) * 100)\n",
    "ax_bmi.set(ylabel=\"Percent\")\n",
    "ax_bmi.set_title('BMI Breakdown')"
   ]
  },
  {
   "cell_type": "markdown",
   "metadata": {},
   "source": [
    "From the graph, we can see that the vast majority of participants are either overweight or obese, suggesting that there might be an obesity problem in the sample dataset. The study (https://pubmed.ncbi.nlm.nih.gov/29289809/) indicates that there is a strong correlation between abnormal body weight and mental health issues. We will also try to substantiate this finding in this project."
   ]
  },
  {
   "cell_type": "markdown",
   "metadata": {},
   "source": [
    "## Potential association between variables\n",
    "\n",
    "We look at the following variable pairs for potential relationships:\n",
    "1. education, sex, insurance coverage vs. income\n",
    "2. age, sex, education, insurance coverage, marital status, sexual orientation, military, income vs. score."
   ]
  },
  {
   "cell_type": "markdown",
   "metadata": {},
   "source": [
    "### Correlation matrix"
   ]
  },
  {
   "cell_type": "code",
   "execution_count": 52,
   "metadata": {},
   "outputs": [
    {
     "data": {
      "text/plain": [
       "urbanrural      -0.127932\n",
       "age             -0.117478\n",
       "sex             -0.094054\n",
       "edu              0.375434\n",
       "inscov           0.163701\n",
       "anx_freq        -0.071935\n",
       "anx_level       -0.071556\n",
       "dep_freq        -0.180221\n",
       "dep_level       -0.154644\n",
       "orient          -0.034901\n",
       "marital         -0.411476\n",
       "military_ever    0.009670\n",
       "citizenship      0.064840\n",
       "income           1.000000\n",
       "bmi             -0.070100\n",
       "score           -0.160445\n",
       "lgbt            -0.030203\n",
       "mh_ever         -0.012147\n",
       "urban            0.126545\n",
       "Name: income, dtype: float64"
      ]
     },
     "execution_count": 52,
     "metadata": {},
     "output_type": "execute_result"
    }
   ],
   "source": [
    "df.corr()['income']"
   ]
  },
  {
   "cell_type": "markdown",
   "metadata": {},
   "source": [
    "### Association between education and income"
   ]
  },
  {
   "cell_type": "code",
   "execution_count": 53,
   "metadata": {},
   "outputs": [
    {
     "data": {
      "text/html": [
       "<div>\n",
       "<style scoped>\n",
       "    .dataframe tbody tr th:only-of-type {\n",
       "        vertical-align: middle;\n",
       "    }\n",
       "\n",
       "    .dataframe tbody tr th {\n",
       "        vertical-align: top;\n",
       "    }\n",
       "\n",
       "    .dataframe thead th {\n",
       "        text-align: right;\n",
       "    }\n",
       "</style>\n",
       "<table border=\"1\" class=\"dataframe\">\n",
       "  <thead>\n",
       "    <tr style=\"text-align: right;\">\n",
       "      <th></th>\n",
       "      <th>income</th>\n",
       "      <th>edu</th>\n",
       "    </tr>\n",
       "  </thead>\n",
       "  <tbody>\n",
       "    <tr>\n",
       "      <th>income</th>\n",
       "      <td>1.000000</td>\n",
       "      <td>0.375434</td>\n",
       "    </tr>\n",
       "    <tr>\n",
       "      <th>edu</th>\n",
       "      <td>0.375434</td>\n",
       "      <td>1.000000</td>\n",
       "    </tr>\n",
       "  </tbody>\n",
       "</table>\n",
       "</div>"
      ],
      "text/plain": [
       "          income       edu\n",
       "income  1.000000  0.375434\n",
       "edu     0.375434  1.000000"
      ]
     },
     "execution_count": 53,
     "metadata": {},
     "output_type": "execute_result"
    }
   ],
   "source": [
    "income_edu = df[['income', 'edu']].copy()\n",
    "income_edu.corr()"
   ]
  },
  {
   "cell_type": "code",
   "execution_count": 54,
   "metadata": {},
   "outputs": [
    {
     "data": {
      "text/plain": [
       "<seaborn.axisgrid.FacetGrid at 0x1db85ae7b20>"
      ]
     },
     "execution_count": 54,
     "metadata": {},
     "output_type": "execute_result"
    },
    {
     "data": {
      "image/png": "[encoded data removed]",
      "text/plain": [
       "<Figure size 360x360 with 1 Axes>"
      ]
     },
     "metadata": {},
     "output_type": "display_data"
    }
   ],
   "source": [
    "sns.catplot(x=\"edu\", y=\"income\", kind=\"box\", data=df)\n"
   ]
  },
  {
   "cell_type": "markdown",
   "metadata": {},
   "source": [
    "### Association between sex and income"
   ]
  },
  {
   "cell_type": "code",
   "execution_count": 55,
   "metadata": {},
   "outputs": [
    {
     "data": {
      "text/html": [
       "<div>\n",
       "<style scoped>\n",
       "    .dataframe tbody tr th:only-of-type {\n",
       "        vertical-align: middle;\n",
       "    }\n",
       "\n",
       "    .dataframe tbody tr th {\n",
       "        vertical-align: top;\n",
       "    }\n",
       "\n",
       "    .dataframe thead th {\n",
       "        text-align: right;\n",
       "    }\n",
       "</style>\n",
       "<table border=\"1\" class=\"dataframe\">\n",
       "  <thead>\n",
       "    <tr style=\"text-align: right;\">\n",
       "      <th></th>\n",
       "      <th>income</th>\n",
       "      <th>sex</th>\n",
       "    </tr>\n",
       "  </thead>\n",
       "  <tbody>\n",
       "    <tr>\n",
       "      <th>income</th>\n",
       "      <td>1.000000</td>\n",
       "      <td>-0.094054</td>\n",
       "    </tr>\n",
       "    <tr>\n",
       "      <th>sex</th>\n",
       "      <td>-0.094054</td>\n",
       "      <td>1.000000</td>\n",
       "    </tr>\n",
       "  </tbody>\n",
       "</table>\n",
       "</div>"
      ],
      "text/plain": [
       "          income       sex\n",
       "income  1.000000 -0.094054\n",
       "sex    -0.094054  1.000000"
      ]
     },
     "execution_count": 55,
     "metadata": {},
     "output_type": "execute_result"
    }
   ],
   "source": [
    "income_sex = df[['income', 'sex']].copy()\n",
    "income_sex.corr()"
   ]
  },
  {
   "cell_type": "code",
   "execution_count": 56,
   "metadata": {},
   "outputs": [
    {
     "data": {
      "text/plain": [
       "<seaborn.axisgrid.FacetGrid at 0x1db852787f0>"
      ]
     },
     "execution_count": 56,
     "metadata": {},
     "output_type": "execute_result"
    },
    {
     "data": {
      "image/png": "[encoded data removed]",
      "text/plain": [
       "<Figure size 360x360 with 1 Axes>"
      ]
     },
     "metadata": {},
     "output_type": "display_data"
    }
   ],
   "source": [
    "sns.catplot(x=\"sex\", y=\"income\", kind=\"box\", data=df)"
   ]
  },
  {
   "cell_type": "markdown",
   "metadata": {},
   "source": [
    "### Association between insurance coverage and income"
   ]
  },
  {
   "cell_type": "code",
   "execution_count": 57,
   "metadata": {},
   "outputs": [
    {
     "data": {
      "text/html": [
       "<div>\n",
       "<style scoped>\n",
       "    .dataframe tbody tr th:only-of-type {\n",
       "        vertical-align: middle;\n",
       "    }\n",
       "\n",
       "    .dataframe tbody tr th {\n",
       "        vertical-align: top;\n",
       "    }\n",
       "\n",
       "    .dataframe thead th {\n",
       "        text-align: right;\n",
       "    }\n",
       "</style>\n",
       "<table border=\"1\" class=\"dataframe\">\n",
       "  <thead>\n",
       "    <tr style=\"text-align: right;\">\n",
       "      <th></th>\n",
       "      <th>income</th>\n",
       "      <th>inscov</th>\n",
       "    </tr>\n",
       "  </thead>\n",
       "  <tbody>\n",
       "    <tr>\n",
       "      <th>income</th>\n",
       "      <td>1.000000</td>\n",
       "      <td>0.163701</td>\n",
       "    </tr>\n",
       "    <tr>\n",
       "      <th>inscov</th>\n",
       "      <td>0.163701</td>\n",
       "      <td>1.000000</td>\n",
       "    </tr>\n",
       "  </tbody>\n",
       "</table>\n",
       "</div>"
      ],
      "text/plain": [
       "          income    inscov\n",
       "income  1.000000  0.163701\n",
       "inscov  0.163701  1.000000"
      ]
     },
     "execution_count": 57,
     "metadata": {},
     "output_type": "execute_result"
    }
   ],
   "source": [
    "income_ins = df[['income', 'inscov']].copy()\n",
    "income_ins.corr()"
   ]
  },
  {
   "cell_type": "code",
   "execution_count": 58,
   "metadata": {},
   "outputs": [
    {
     "data": {
      "text/plain": [
       "<seaborn.axisgrid.FacetGrid at 0x1db880e4f40>"
      ]
     },
     "execution_count": 58,
     "metadata": {},
     "output_type": "execute_result"
    },
    {
     "data": {
      "image/png": "[encoded data removed]",
      "text/plain": [
       "<Figure size 360x360 with 1 Axes>"
      ]
     },
     "metadata": {},
     "output_type": "display_data"
    }
   ],
   "source": [
    "sns.catplot(x=\"inscov\", y=\"income\", kind=\"box\", data=df)"
   ]
  },
  {
   "cell_type": "markdown",
   "metadata": {},
   "source": [
    "From the correlation coefficients, we can see that education has the highest correlation with income. (we skipped marital status since the income variable denotes family income, and married couples have ~2x the income as unmarried ones) This aligns with our assumption that a better education will result in higher income. \n",
    "\n",
    "Sex is slightly correlated with income with a r=-0.09. \n",
    "\n",
    "Finally, insurance coverage is slightly positively correlated with income, with higher income families more likely to have medical insurance coverage. We can also see from the box plot that people with insurance coverage has higher median income than non-insured ones."
   ]
  },
  {
   "cell_type": "markdown",
   "metadata": {},
   "source": [
    "### Correlation coefficient for score"
   ]
  },
  {
   "cell_type": "code",
   "execution_count": 59,
   "metadata": {},
   "outputs": [
    {
     "data": {
      "text/plain": [
       "urbanrural       0.030173\n",
       "age             -0.114995\n",
       "sex              0.125775\n",
       "edu             -0.056256\n",
       "inscov          -0.029351\n",
       "anx_freq         0.816019\n",
       "anx_level        0.749101\n",
       "dep_freq         0.834451\n",
       "dep_level        0.753815\n",
       "orient           0.087515\n",
       "marital          0.115489\n",
       "military_ever   -0.041297\n",
       "citizenship      0.069695\n",
       "income          -0.160445\n",
       "bmi              0.033985\n",
       "score            1.000000\n",
       "lgbt             0.122029\n",
       "mh_ever          0.489024\n",
       "urban           -0.023525\n",
       "Name: score, dtype: float64"
      ]
     },
     "execution_count": 59,
     "metadata": {},
     "output_type": "execute_result"
    }
   ],
   "source": [
    "df.corr()['score']"
   ]
  },
  {
   "cell_type": "markdown",
   "metadata": {},
   "source": [
    "### Association between income and score"
   ]
  },
  {
   "cell_type": "code",
   "execution_count": 60,
   "metadata": {},
   "outputs": [
    {
     "data": {
      "text/html": [
       "<div>\n",
       "<style scoped>\n",
       "    .dataframe tbody tr th:only-of-type {\n",
       "        vertical-align: middle;\n",
       "    }\n",
       "\n",
       "    .dataframe tbody tr th {\n",
       "        vertical-align: top;\n",
       "    }\n",
       "\n",
       "    .dataframe thead th {\n",
       "        text-align: right;\n",
       "    }\n",
       "</style>\n",
       "<table border=\"1\" class=\"dataframe\">\n",
       "  <thead>\n",
       "    <tr style=\"text-align: right;\">\n",
       "      <th></th>\n",
       "      <th>income</th>\n",
       "      <th>score</th>\n",
       "    </tr>\n",
       "  </thead>\n",
       "  <tbody>\n",
       "    <tr>\n",
       "      <th>income</th>\n",
       "      <td>1.000000</td>\n",
       "      <td>-0.160445</td>\n",
       "    </tr>\n",
       "    <tr>\n",
       "      <th>score</th>\n",
       "      <td>-0.160445</td>\n",
       "      <td>1.000000</td>\n",
       "    </tr>\n",
       "  </tbody>\n",
       "</table>\n",
       "</div>"
      ],
      "text/plain": [
       "          income     score\n",
       "income  1.000000 -0.160445\n",
       "score  -0.160445  1.000000"
      ]
     },
     "execution_count": 60,
     "metadata": {},
     "output_type": "execute_result"
    }
   ],
   "source": [
    "income_score = df[['income', 'score']].copy()\n",
    "income_score.corr()"
   ]
  },
  {
   "cell_type": "code",
   "execution_count": 61,
   "metadata": {},
   "outputs": [
    {
     "data": {
      "text/plain": [
       "<seaborn.axisgrid.FacetGrid at 0x1db862e1790>"
      ]
     },
     "execution_count": 61,
     "metadata": {},
     "output_type": "execute_result"
    },
    {
     "data": {
      "image/png": "[encoded data removed]",
      "text/plain": [
       "<Figure size 360x360 with 1 Axes>"
      ]
     },
     "metadata": {},
     "output_type": "display_data"
    }
   ],
   "source": [
    "sns.catplot(x=\"income\", y=\"score\", kind=\"box\", data=df)"
   ]
  },
  {
   "cell_type": "markdown",
   "metadata": {},
   "source": [
    "From the boxplots above, we can see that as income increase, less people have higher mental risks. All boxplots seem to have similar medians, indicating that all income groups have similar score distributions for the lower 50 percentile. "
   ]
  },
  {
   "cell_type": "markdown",
   "metadata": {},
   "source": [
    "### Association between BMI and depression score"
   ]
  },
  {
   "cell_type": "code",
   "execution_count": 62,
   "metadata": {},
   "outputs": [
    {
     "data": {
      "text/html": [
       "<div>\n",
       "<style scoped>\n",
       "    .dataframe tbody tr th:only-of-type {\n",
       "        vertical-align: middle;\n",
       "    }\n",
       "\n",
       "    .dataframe tbody tr th {\n",
       "        vertical-align: top;\n",
       "    }\n",
       "\n",
       "    .dataframe thead th {\n",
       "        text-align: right;\n",
       "    }\n",
       "</style>\n",
       "<table border=\"1\" class=\"dataframe\">\n",
       "  <thead>\n",
       "    <tr style=\"text-align: right;\">\n",
       "      <th></th>\n",
       "      <th>bmi</th>\n",
       "      <th>score</th>\n",
       "    </tr>\n",
       "  </thead>\n",
       "  <tbody>\n",
       "    <tr>\n",
       "      <th>bmi</th>\n",
       "      <td>1.000000</td>\n",
       "      <td>0.033985</td>\n",
       "    </tr>\n",
       "    <tr>\n",
       "      <th>score</th>\n",
       "      <td>0.033985</td>\n",
       "      <td>1.000000</td>\n",
       "    </tr>\n",
       "  </tbody>\n",
       "</table>\n",
       "</div>"
      ],
      "text/plain": [
       "            bmi     score\n",
       "bmi    1.000000  0.033985\n",
       "score  0.033985  1.000000"
      ]
     },
     "execution_count": 62,
     "metadata": {},
     "output_type": "execute_result"
    }
   ],
   "source": [
    "bmi_dep = df[['bmi', 'score']].copy()\n",
    "bmi_dep.corr()"
   ]
  },
  {
   "cell_type": "markdown",
   "metadata": {},
   "source": [
    "The correlation between BMI and depression score is 0.033, so there isn't a strong correlation between these two attributes."
   ]
  },
  {
   "cell_type": "code",
   "execution_count": 63,
   "metadata": {},
   "outputs": [
    {
     "data": {
      "text/plain": [
       "<seaborn.axisgrid.FacetGrid at 0x1db86700100>"
      ]
     },
     "execution_count": 63,
     "metadata": {},
     "output_type": "execute_result"
    },
    {
     "data": {
      "image/png": "[encoded data removed]",
      "text/plain": [
       "<Figure size 360x360 with 1 Axes>"
      ]
     },
     "metadata": {},
     "output_type": "display_data"
    }
   ],
   "source": [
    "sns.catplot(x=\"bmi\", y=\"score\", kind=\"box\", data=df)"
   ]
  },
  {
   "cell_type": "markdown",
   "metadata": {},
   "source": [
    "From the boxplots above, we can tell that people who are obese or underweight have higher depression/anxiety score for the upper 50 percentile. This makes sense since people who expereince depression/anxiety usually suffer from eating disorders as a result.. "
   ]
  },
  {
   "cell_type": "markdown",
   "metadata": {},
   "source": [
    "## Mental Health and Gender\n",
    "\n",
    "We first explore the effect of gender on mental health score. "
   ]
  },
  {
   "cell_type": "code",
   "execution_count": 64,
   "metadata": {},
   "outputs": [],
   "source": [
    "male_mh_score = df[df['sex'] == 1]['score']\n",
    "female_mh_score = df[df['sex'] == 2]['score']"
   ]
  },
  {
   "cell_type": "code",
   "execution_count": 65,
   "metadata": {},
   "outputs": [
    {
     "data": {
      "text/plain": [
       "Text(0.5, 1.0, 'Mental health score by gender')"
      ]
     },
     "execution_count": 65,
     "metadata": {},
     "output_type": "execute_result"
    },
    {
     "data": {
      "image/png": "[encoded data removed]",
      "text/plain": [
       "<Figure size 360x360 with 1 Axes>"
      ]
     },
     "metadata": {},
     "output_type": "display_data"
    }
   ],
   "source": [
    "sns.catplot(kind='box', x='sex',y='score',data=df)\n",
    "ax = plt.gca()\n",
    "ax.set_xticklabels(labels=['Male','Female'])\n",
    "plt.title('Mental health score by gender')"
   ]
  },
  {
   "cell_type": "markdown",
   "metadata": {},
   "source": [
    "From the graph we can see roughly that females have higher mental health score (worse condition) than male in our dataset. Is the difference statistically significant? Here we will use an independent samples t test. Since our data came from a national health survey. Samples in our dataset can be considered to be  independent"
   ]
  },
  {
   "cell_type": "code",
   "execution_count": 66,
   "metadata": {},
   "outputs": [
    {
     "data": {
      "text/plain": [
       "(-21.77625521792158, 1.2939376572161482e-104, 29502.0)"
      ]
     },
     "execution_count": 66,
     "metadata": {},
     "output_type": "execute_result"
    }
   ],
   "source": [
    "sm.stats.ttest_ind(male_mh_score, female_mh_score, alternative='smaller')"
   ]
  },
  {
   "cell_type": "markdown",
   "metadata": {},
   "source": [
    "With a p value in the order of 10e-104, we can see that the difference between male and female mental health score is statistically significant. Females have worse mental conditions than men. "
   ]
  },
  {
   "cell_type": "markdown",
   "metadata": {},
   "source": [
    "## Mental Health and Sexual Orientation\n",
    "\n",
    "In this section, we explore the effect of being LGBT on mental health conditions. Since we have 4 categories of sexual orientation (straight, bisexual, gay/lesbian, others), we encode them into a binary variable: LGBT or non-LGBT, so that we can see the effect more clearly."
   ]
  },
  {
   "cell_type": "code",
   "execution_count": 67,
   "metadata": {},
   "outputs": [],
   "source": [
    "LGBT_score = df[df['orient'] != 2]['score']\n",
    "non_LGBT_score = df[df['orient'] == 2]['score']"
   ]
  },
  {
   "cell_type": "code",
   "execution_count": 68,
   "metadata": {},
   "outputs": [],
   "source": [
    "# create new binary variable based on LGBT or straight\n",
    "df['lgbt'] = df['orient'].apply(lambda x : 1 if x != 2 else 0)"
   ]
  },
  {
   "cell_type": "code",
   "execution_count": 69,
   "metadata": {},
   "outputs": [
    {
     "data": {
      "text/plain": [
       "Text(0.5, 1.0, 'Mental Health Score by Sexual Orientation')"
      ]
     },
     "execution_count": 69,
     "metadata": {},
     "output_type": "execute_result"
    },
    {
     "data": {
      "image/png": "[encoded data removed]",
      "text/plain": [
       "<Figure size 864x360 with 1 Axes>"
      ]
     },
     "metadata": {},
     "output_type": "display_data"
    }
   ],
   "source": [
    "# graph new column against mental health score\n",
    "sns.boxplot(x='lgbt', y='score', data=df)\n",
    "ax = plt.gca()\n",
    "ax.set_xticklabels(['Straight', 'LGBT'])\n",
    "ax.set_xlabel('')\n",
    "plt.title(\"Mental Health Score by Sexual Orientation\")"
   ]
  },
  {
   "cell_type": "markdown",
   "metadata": {},
   "source": [
    "From the box plot, we see that LGBT population has a higher median, 25% and 75% percentile than the straight population. We again use t test to verify statistical significance"
   ]
  },
  {
   "cell_type": "code",
   "execution_count": 70,
   "metadata": {},
   "outputs": [
    {
     "data": {
      "text/plain": [
       "(21.117788352933935, 1.4587527160851227e-98)"
      ]
     },
     "execution_count": 70,
     "metadata": {},
     "output_type": "execute_result"
    }
   ],
   "source": [
    "t, p, dof = sm.stats.ttest_ind(LGBT_score, non_LGBT_score, alternative='larger')\n",
    "t, p"
   ]
  },
  {
   "cell_type": "markdown",
   "metadata": {},
   "source": [
    "Again, the p value we get is extremely small, suggesting that the difference is statistically significant. The LGBT population does appear to have a higher mean mental health score than straight population. "
   ]
  },
  {
   "cell_type": "markdown",
   "metadata": {},
   "source": [
    "## Mental Health and BMI (body weight)\n",
    "In our EDA, we explored the relationship between BMI and mental health score. We hypothesized that underweight and overweight people are more likely (i.e. has higher mental health score than) people with normal bodyweight."
   ]
  },
  {
   "cell_type": "code",
   "execution_count": 71,
   "metadata": {},
   "outputs": [],
   "source": [
    "underweight_scores = df[df['bmi'] == 1]['score']\n",
    "normal_scores = df[(df['bmi'] == 2)]['score']\n",
    "overweight_scores = df[(df['bmi'] == 4)| (df['bmi'] == 3)]['score']"
   ]
  },
  {
   "cell_type": "code",
   "execution_count": 72,
   "metadata": {},
   "outputs": [
    {
     "data": {
      "text/plain": [
       "Text(0.5, 1.0, 'Mental Health Score by Bodyweight')"
      ]
     },
     "execution_count": 72,
     "metadata": {},
     "output_type": "execute_result"
    },
    {
     "data": {
      "image/png": "[encoded data removed]",
      "text/plain": [
       "<Figure size 864x360 with 1 Axes>"
      ]
     },
     "metadata": {},
     "output_type": "display_data"
    }
   ],
   "source": [
    "sns.boxplot(x='bmi', y='score', data=df)\n",
    "ax = plt.gca()\n",
    "ax.set_xticklabels(['Underweight', 'Normal Weight', 'Obese', 'Overweight'])\n",
    "ax.set_xlabel('')\n",
    "plt.title(\"Mental Health Score by Bodyweight\")"
   ]
  },
  {
   "cell_type": "markdown",
   "metadata": {},
   "source": [
    "We can see from the graph that underweight and overweight people generally have higher mental health score than normal weight/obese people. We can test for our hypothesis using one way ANOVA."
   ]
  },
  {
   "cell_type": "code",
   "execution_count": 73,
   "metadata": {},
   "outputs": [
    {
     "data": {
      "text/plain": [
       "F_onewayResult(statistic=4.532796816062099, pvalue=0.010758055035707459)"
      ]
     },
     "execution_count": 73,
     "metadata": {},
     "output_type": "execute_result"
    }
   ],
   "source": [
    "scipy.stats.f_oneway(overweight_scores, normal_scores, underweight_scores)"
   ]
  },
  {
   "cell_type": "markdown",
   "metadata": {},
   "source": [
    "With a 0.01 p value, we reject our null hypothesis. Bodyweight does seem to affect mental health score. However, an ANOVA does not tell us where the effect came from. Therefore, we perform a [Tukey's HSD test](https://en.wikipedia.org/wiki/Tukey%27s_range_test) to identify effect source. "
   ]
  },
  {
   "cell_type": "code",
   "execution_count": 74,
   "metadata": {},
   "outputs": [
    {
     "name": "stdout",
     "output_type": "stream",
     "text": [
      "Multiple Comparison of Means - Tukey HSD, FWER=0.05 \n",
      "====================================================\n",
      "group1 group2 meandiff p-adj   lower   upper  reject\n",
      "----------------------------------------------------\n",
      "     1      2  -0.6857 0.0193 -1.2922 -0.0791   True\n",
      "     1      3  -0.9983  0.001 -1.6038 -0.3928   True\n",
      "     1      4  -0.1819 0.8525 -0.7883  0.4245  False\n",
      "     2      3  -0.3127  0.001 -0.4964  -0.129   True\n",
      "     2      4   0.5037  0.001  0.3173  0.6902   True\n",
      "     3      4   0.8164  0.001  0.6334  0.9994   True\n",
      "----------------------------------------------------\n"
     ]
    }
   ],
   "source": [
    "# perform Tukey's HSD. Here, group 1 is underweight, group 2 is considered normal bmi, group 3 and 4 are obese\n",
    "# /overweight\n",
    "print(pairwise_tukeyhsd(df['score'], df['bmi']))"
   ]
  },
  {
   "cell_type": "markdown",
   "metadata": {},
   "source": [
    "From the HSD result, we confirmed the fact that being overweight/underweight can affect mental health conditions, since the null hypothesis is rejected for all pairs of underweight/overweight vs. normal bmi. This suggests that under/overweight people have worse mental health conditions than people with normal bodyweight."
   ]
  },
  {
   "cell_type": "markdown",
   "metadata": {},
   "source": [
    "## Mental Health and Income\n",
    "\n",
    "We expect to see that higher income will associate with a lower mental health score, since people with higher income typically have better living conditions. Again, we have 5 income groups encoded ordinally, so we will use a one way ANOVA to test for mean difference. "
   ]
  },
  {
   "cell_type": "code",
   "execution_count": 75,
   "metadata": {},
   "outputs": [
    {
     "data": {
      "text/plain": [
       "F_onewayResult(statistic=209.69529595827885, pvalue=1.032556098074986e-177)"
      ]
     },
     "execution_count": 75,
     "metadata": {},
     "output_type": "execute_result"
    }
   ],
   "source": [
    "# aggregate score by income groups, then conduct one way ANOVA\n",
    "income_groups = df.groupby('income').agg(list)['score']\n",
    "\n",
    "scipy.stats.f_oneway(*income_groups)"
   ]
  },
  {
   "cell_type": "markdown",
   "metadata": {},
   "source": [
    "This is an extremely small p value, so we are really confident that mean mental health scores is not the same across all income groups. To identify effect source, we again conduct a pairwise Tukey's HSD test. "
   ]
  },
  {
   "cell_type": "code",
   "execution_count": 76,
   "metadata": {},
   "outputs": [
    {
     "name": "stdout",
     "output_type": "stream",
     "text": [
      "Multiple Comparison of Means - Tukey HSD, FWER=0.05 \n",
      "====================================================\n",
      "group1 group2 meandiff p-adj   lower   upper  reject\n",
      "----------------------------------------------------\n",
      "     1      2  -0.9616  0.001 -1.2235 -0.6997   True\n",
      "     1      3  -1.5278  0.001 -1.7628 -1.2927   True\n",
      "     1      4  -1.8253  0.001 -2.0902 -1.5604   True\n",
      "     1      5  -2.0514  0.001   -2.26 -1.8429   True\n",
      "     2      3  -0.5661  0.001 -0.8514 -0.2809   True\n",
      "     2      4  -0.8637  0.001  -1.174 -0.5534   True\n",
      "     2      5  -1.0898  0.001 -1.3536  -0.826   True\n",
      "     3      4  -0.2976 0.0388 -0.5856 -0.0096   True\n",
      "     3      5  -0.5237  0.001 -0.7609 -0.2865   True\n",
      "     4      5  -0.2261 0.1409 -0.4929  0.0407  False\n",
      "----------------------------------------------------\n"
     ]
    }
   ],
   "source": [
    "print(pairwise_tukeyhsd(df['score'], df['income']))"
   ]
  },
  {
   "cell_type": "markdown",
   "metadata": {},
   "source": [
    "Apart from the richest 2 income groups, the mean differences are all statistically significant. Notably, group 1 and 5 (richest and poorest groups) has the largest mean difference at 2.05, while the smallest mean difference is group 4 and 5 at only 0.22. "
   ]
  },
  {
   "cell_type": "markdown",
   "metadata": {},
   "source": [
    "## Mental Health and Household Location\n",
    "\n",
    "Household location is another potential predictor of mental health. Here, we expect that people who live in large urban areas are more likely to have mental health issues than people who live in rural areas due to their fast-paced lifestyles. We have 5 classes of household location. Here, we cast them into a binary variable of urban or rural. "
   ]
  },
  {
   "cell_type": "code",
   "execution_count": 77,
   "metadata": {},
   "outputs": [],
   "source": [
    "df['urban'] = df['urbanrural'].apply(lambda x : x != 4)\n",
    "rural_scores = df[df['urbanrural'] == 4]['score']\n",
    "urban_scores = df[df['urbanrural'] != 4]['score']"
   ]
  },
  {
   "cell_type": "code",
   "execution_count": 78,
   "metadata": {},
   "outputs": [
    {
     "data": {
      "image/png": "[encoded data removed]",
      "text/plain": [
       "<Figure size 864x360 with 2 Axes>"
      ]
     },
     "metadata": {},
     "output_type": "display_data"
    }
   ],
   "source": [
    "# display mental health score between urban and rural populations\n",
    "f, a = plt.subplots(1,2)\n",
    "a = a.flatten()\n",
    "a[0].boxplot(rural_scores)\n",
    "a[0].set_xticklabels(\"\")\n",
    "a[0].set_title('Rural Population')\n",
    "a[0].set_ylabel('Mental Health Score')\n",
    "a[1].boxplot(urban_scores)\n",
    "a[1].set_xticklabels(\"\")\n",
    "a[1].set_ylabel('Mental Health Score')\n",
    "a[1].set_title('Urban Population')\n",
    "plt.tight_layout()"
   ]
  },
  {
   "cell_type": "markdown",
   "metadata": {},
   "source": [
    "We can see that contrary to our assumptions, rural population seems to have a slightly higher mental health scores. We test this hypothesis using independent samples t test."
   ]
  },
  {
   "cell_type": "code",
   "execution_count": 79,
   "metadata": {},
   "outputs": [
    {
     "data": {
      "text/plain": [
       "(4.041883755904036, 2.6578971351769542e-05)"
      ]
     },
     "execution_count": 79,
     "metadata": {},
     "output_type": "execute_result"
    }
   ],
   "source": [
    "t, p, dof = sm.stats.ttest_ind(rural_scores, urban_scores, alternative='larger')\n",
    "\n",
    "t, p"
   ]
  },
  {
   "cell_type": "markdown",
   "metadata": {},
   "source": [
    "At a significance level of 0.05, the t test confirms that rural population has higher mean mental health score than the urban population, suggesting a worse mental health condition. "
   ]
  },
  {
   "cell_type": "markdown",
   "metadata": {},
   "source": [
    "## Machine Learning\n",
    "\n",
    "In this section, we employ machine learning to see that if we can effectively predict mental health score using demographics information. To do this, we frame both a regression and a classification task. For regression, we aim to directly predict mental health score, which is a continuous variable. For classification task, we split the dataset into score < 2.0 (median score) and score > 2.0 category, yielding a balanced classification task. We also introduce another classification task that predicts between score = 0 and score > 0, which is slightly unbalanced but is more meaningful in predicting whether people **has** any mental health condition than using median threshold. \n",
    "\n",
    "To achieve the best possible performance on each model, we use a randomized search cross validation on all possible hyperparameters."
   ]
  },
  {
   "cell_type": "code",
   "execution_count": 5,
   "metadata": {},
   "outputs": [
    {
     "data": {
      "text/plain": [
       "count    29504.000000\n",
       "mean         3.809145\n",
       "std          5.001523\n",
       "min          0.000000\n",
       "25%          0.000000\n",
       "50%          2.000000\n",
       "75%          5.000000\n",
       "max         24.000000\n",
       "Name: score, dtype: float64"
      ]
     },
     "execution_count": 5,
     "metadata": {},
     "output_type": "execute_result"
    }
   ],
   "source": [
    "df['score'].describe()"
   ]
  },
  {
   "cell_type": "markdown",
   "metadata": {},
   "source": [
    "### Models\n",
    "For regression task, we will compare performance between SGD regression, support vector regression (an extension of SVM clasifier), and random forest regressor (an extension of classifier countepart).\n",
    "\n",
    "For classification tasks, we wil compare between Logistic Regression, SVM, Random Forest, and Multi-layer Perceptron. Since data to contain a lot of random noise, we expect ensemble methods like the random forest to achive better performance. "
   ]
  },
  {
   "cell_type": "code",
   "execution_count": 6,
   "metadata": {},
   "outputs": [
    {
     "data": {
      "text/plain": [
       "Index(['urbanrural', 'age', 'sex', 'edu', 'inscov', 'anx_freq', 'anx_level',\n",
       "       'dep_freq', 'dep_level', 'orient', 'marital', 'military_ever',\n",
       "       'citizenship', 'income', 'bmi', 'score', 'lgbt', 'mh_ever', 'urban'],\n",
       "      dtype='object')"
      ]
     },
     "execution_count": 6,
     "metadata": {},
     "output_type": "execute_result"
    }
   ],
   "source": [
    "df.columns"
   ]
  },
  {
   "cell_type": "markdown",
   "metadata": {},
   "source": [
    "### Features\n",
    "We incoorporate all features that might be useful in predicting mental health conditions. In our dataset, we have urban, age, sex, edu, inscov, marital, citizenship, income, bmi, and lgbt. Sexual orientation is skipped since it's already encoded as a binary variable in lgbt column. "
   ]
  },
  {
   "cell_type": "markdown",
   "metadata": {},
   "source": [
    "### Regression"
   ]
  },
  {
   "cell_type": "code",
   "execution_count": 7,
   "metadata": {},
   "outputs": [],
   "source": [
    "# features in regression analysis\n",
    "cols = ['age', 'income', 'inscov', 'urban', 'sex', 'edu','lgbt','bmi','marital']\n",
    "\n",
    "# regressor candidates\n",
    "regressors = [sklearn.linear_model.SGDRegressor(), sklearn.svm.SVR(), sklearn.ensemble.RandomForestRegressor()]"
   ]
  },
  {
   "cell_type": "code",
   "execution_count": 8,
   "metadata": {},
   "outputs": [],
   "source": [
    "# hyperparameters for regressors\n",
    "params = [{'penalty':['l1','l2','elasticnet'], 'loss': ['huber','squared_loss'], \n",
    "          'alpha':[10e-4,10e-3,10e-2,1,10]}, \n",
    "         {'kernel': ['rbf','linear','sigmoid'], 'C': [10e-4,10e-3,10e-2,1,10]}, \n",
    "         {'criterion': ['mse', 'mae'], 'max_features':['auto','sqrt','log2'], 'min_samples_split': [2,4,6]}]"
   ]
  },
  {
   "cell_type": "code",
   "execution_count": 9,
   "metadata": {},
   "outputs": [
    {
     "name": "stdout",
     "output_type": "stream",
     "text": [
      "Fitting SGDRegressor()\n",
      "Fitting 5 folds for each of 10 candidates, totalling 50 fits\n",
      "MSE of best model: 33.450927585910826\n",
      "\n",
      "Fitting SVR()\n",
      "Fitting 5 folds for each of 10 candidates, totalling 50 fits\n",
      "MSE of best model: 25.965680488931085\n",
      "\n",
      "Fitting RandomForestRegressor()\n",
      "Fitting 5 folds for each of 10 candidates, totalling 50 fits\n",
      "MSE of best model: 24.36179175139807\n",
      "\n"
     ]
    }
   ],
   "source": [
    "# training and performance comparison\n",
    "random_seed = np.random.randint(low=1)\n",
    "best = []\n",
    "for idx, rg in enumerate(regressors):\n",
    "    print('Fitting',rg)\n",
    "    param = params[idx] # hyperparameter grid\n",
    "    gs = sklearn.model_selection.RandomizedSearchCV(estimator=rg, \n",
    "                                              param_distributions=param, \n",
    "                                              scoring=['r2','neg_mean_squared_error'],\n",
    "                                              verbose=2,\n",
    "                                              n_jobs=-1,\n",
    "                                             refit='neg_mean_squared_error')\n",
    "    train, test = sklearn.model_selection.train_test_split(df, test_size=0.2,random_state=random_seed)\n",
    "    X_train = train[cols]\n",
    "    Y_train = train['score']\n",
    "    gs.fit(X_train, Y_train)\n",
    "    best_rg = gs.best_estimator_\n",
    "    # test best regressor on test set\n",
    "    pred = best_rg.predict(test[cols])\n",
    "    best.append(best_rg)\n",
    "    print(\"MSE of best model:\",sklearn.metrics.mean_squared_error(test['score'], pred))\n",
    "    print()\n",
    "    "
   ]
  },
  {
   "cell_type": "code",
   "execution_count": 10,
   "metadata": {},
   "outputs": [
    {
     "data": {
      "text/plain": [
       "[SGDRegressor(alpha=10, penalty='l1'),\n",
       " SVR(C=10, kernel='linear'),\n",
       " RandomForestRegressor(criterion='mae', max_features='log2', min_samples_split=6)]"
      ]
     },
     "execution_count": 10,
     "metadata": {},
     "output_type": "execute_result"
    }
   ],
   "source": [
    "best # models producing best MSE"
   ]
  },
  {
   "cell_type": "markdown",
   "metadata": {},
   "source": [
    "During the training process, most of the models converged in less than a minute. However, the SVR regressor with linear kernel ran for ~13 minutes before converging, suggesting our data is not linearly seperable. This prompted us to pick models like decision tree or random forest during the classfication task.\n",
    "\n",
    "In the regression task, SVR regressor achieves similar performance to random forest regressor. However, the MSE is still quite high at ~24. Due to the limitations of our mental health score definition, this is expected. Therefore, we turn to the two binary classification tasks to see that if we can accurately predict classes."
   ]
  },
  {
   "cell_type": "markdown",
   "metadata": {},
   "source": [
    "## Classification Task\n",
    "\n",
    "Before we start training, we transform all categorical (encoded ordinally) columns using a one hot encoder. This because all of our categorical variables have no quantitative relationships between them. For example, the income groups were encoded as integer 1 - 5. However, the highest income group is not necessarily 5 times richer than the lowest one. For this reason, one hot encoding is a more accurate way of encoding our categorical information. "
   ]
  },
  {
   "cell_type": "code",
   "execution_count": 11,
   "metadata": {},
   "outputs": [],
   "source": [
    "cols = ['age', 'income', 'inscov', 'urban', 'sex', 'edu','lgbt','bmi','marital'] # features\n",
    "cat_cols = ['income', 'inscov', 'urban', 'sex', 'edu','lgbt','bmi','marital'] # categorical features\n",
    "onehot = sklearn.preprocessing.OneHotEncoder()\n",
    "clf_df = df[cols].copy() # copy all features into a new df so we do not mess up our dataset"
   ]
  },
  {
   "cell_type": "code",
   "execution_count": 12,
   "metadata": {},
   "outputs": [],
   "source": [
    "clf_df['mh_ever'] = df['mh_ever'].copy() # copy first target variable. is the score > 0?\n",
    "clf_df['score'] = df['score'].copy()"
   ]
  },
  {
   "cell_type": "code",
   "execution_count": 13,
   "metadata": {},
   "outputs": [],
   "source": [
    "# construct second target label. is the score in the top 50%?\n",
    "median_score = df['score'].median()\n",
    "clf_df['top50'] = clf_df['score'].apply(lambda x : x > median_score)"
   ]
  },
  {
   "cell_type": "code",
   "execution_count": 14,
   "metadata": {},
   "outputs": [
    {
     "data": {
      "text/html": [
       "<div>\n",
       "<style scoped>\n",
       "    .dataframe tbody tr th:only-of-type {\n",
       "        vertical-align: middle;\n",
       "    }\n",
       "\n",
       "    .dataframe tbody tr th {\n",
       "        vertical-align: top;\n",
       "    }\n",
       "\n",
       "    .dataframe thead th {\n",
       "        text-align: right;\n",
       "    }\n",
       "</style>\n",
       "<table border=\"1\" class=\"dataframe\">\n",
       "  <thead>\n",
       "    <tr style=\"text-align: right;\">\n",
       "      <th></th>\n",
       "      <th>0</th>\n",
       "      <th>1</th>\n",
       "      <th>2</th>\n",
       "      <th>3</th>\n",
       "      <th>4</th>\n",
       "      <th>5</th>\n",
       "      <th>6</th>\n",
       "      <th>7</th>\n",
       "      <th>8</th>\n",
       "      <th>9</th>\n",
       "      <th>...</th>\n",
       "      <th>13</th>\n",
       "      <th>14</th>\n",
       "      <th>15</th>\n",
       "      <th>16</th>\n",
       "      <th>17</th>\n",
       "      <th>18</th>\n",
       "      <th>19</th>\n",
       "      <th>20</th>\n",
       "      <th>21</th>\n",
       "      <th>22</th>\n",
       "    </tr>\n",
       "  </thead>\n",
       "  <tbody>\n",
       "    <tr>\n",
       "      <th>0</th>\n",
       "      <td>0.0</td>\n",
       "      <td>0.0</td>\n",
       "      <td>1.0</td>\n",
       "      <td>0.0</td>\n",
       "      <td>0.0</td>\n",
       "      <td>0.0</td>\n",
       "      <td>1.0</td>\n",
       "      <td>1.0</td>\n",
       "      <td>0.0</td>\n",
       "      <td>0.0</td>\n",
       "      <td>...</td>\n",
       "      <td>0.0</td>\n",
       "      <td>1.0</td>\n",
       "      <td>0.0</td>\n",
       "      <td>0.0</td>\n",
       "      <td>1.0</td>\n",
       "      <td>0.0</td>\n",
       "      <td>0.0</td>\n",
       "      <td>1.0</td>\n",
       "      <td>0.0</td>\n",
       "      <td>0.0</td>\n",
       "    </tr>\n",
       "    <tr>\n",
       "      <th>1</th>\n",
       "      <td>0.0</td>\n",
       "      <td>0.0</td>\n",
       "      <td>1.0</td>\n",
       "      <td>0.0</td>\n",
       "      <td>0.0</td>\n",
       "      <td>0.0</td>\n",
       "      <td>1.0</td>\n",
       "      <td>1.0</td>\n",
       "      <td>0.0</td>\n",
       "      <td>1.0</td>\n",
       "      <td>...</td>\n",
       "      <td>0.0</td>\n",
       "      <td>1.0</td>\n",
       "      <td>0.0</td>\n",
       "      <td>0.0</td>\n",
       "      <td>0.0</td>\n",
       "      <td>1.0</td>\n",
       "      <td>0.0</td>\n",
       "      <td>1.0</td>\n",
       "      <td>0.0</td>\n",
       "      <td>0.0</td>\n",
       "    </tr>\n",
       "    <tr>\n",
       "      <th>2</th>\n",
       "      <td>0.0</td>\n",
       "      <td>0.0</td>\n",
       "      <td>0.0</td>\n",
       "      <td>0.0</td>\n",
       "      <td>1.0</td>\n",
       "      <td>0.0</td>\n",
       "      <td>1.0</td>\n",
       "      <td>1.0</td>\n",
       "      <td>0.0</td>\n",
       "      <td>1.0</td>\n",
       "      <td>...</td>\n",
       "      <td>0.0</td>\n",
       "      <td>1.0</td>\n",
       "      <td>0.0</td>\n",
       "      <td>0.0</td>\n",
       "      <td>0.0</td>\n",
       "      <td>0.0</td>\n",
       "      <td>1.0</td>\n",
       "      <td>1.0</td>\n",
       "      <td>0.0</td>\n",
       "      <td>0.0</td>\n",
       "    </tr>\n",
       "    <tr>\n",
       "      <th>3</th>\n",
       "      <td>1.0</td>\n",
       "      <td>0.0</td>\n",
       "      <td>0.0</td>\n",
       "      <td>0.0</td>\n",
       "      <td>0.0</td>\n",
       "      <td>0.0</td>\n",
       "      <td>1.0</td>\n",
       "      <td>0.0</td>\n",
       "      <td>1.0</td>\n",
       "      <td>1.0</td>\n",
       "      <td>...</td>\n",
       "      <td>0.0</td>\n",
       "      <td>1.0</td>\n",
       "      <td>0.0</td>\n",
       "      <td>0.0</td>\n",
       "      <td>0.0</td>\n",
       "      <td>0.0</td>\n",
       "      <td>1.0</td>\n",
       "      <td>1.0</td>\n",
       "      <td>0.0</td>\n",
       "      <td>0.0</td>\n",
       "    </tr>\n",
       "    <tr>\n",
       "      <th>4</th>\n",
       "      <td>0.0</td>\n",
       "      <td>1.0</td>\n",
       "      <td>0.0</td>\n",
       "      <td>0.0</td>\n",
       "      <td>0.0</td>\n",
       "      <td>0.0</td>\n",
       "      <td>1.0</td>\n",
       "      <td>0.0</td>\n",
       "      <td>1.0</td>\n",
       "      <td>1.0</td>\n",
       "      <td>...</td>\n",
       "      <td>0.0</td>\n",
       "      <td>1.0</td>\n",
       "      <td>0.0</td>\n",
       "      <td>0.0</td>\n",
       "      <td>0.0</td>\n",
       "      <td>0.0</td>\n",
       "      <td>1.0</td>\n",
       "      <td>1.0</td>\n",
       "      <td>0.0</td>\n",
       "      <td>0.0</td>\n",
       "    </tr>\n",
       "  </tbody>\n",
       "</table>\n",
       "<p>5 rows × 23 columns</p>\n",
       "</div>"
      ],
      "text/plain": [
       "    0    1    2    3    4    5    6    7    8    9   ...   13   14   15   16  \\\n",
       "0  0.0  0.0  1.0  0.0  0.0  0.0  1.0  1.0  0.0  0.0  ...  0.0  1.0  0.0  0.0   \n",
       "1  0.0  0.0  1.0  0.0  0.0  0.0  1.0  1.0  0.0  1.0  ...  0.0  1.0  0.0  0.0   \n",
       "2  0.0  0.0  0.0  0.0  1.0  0.0  1.0  1.0  0.0  1.0  ...  0.0  1.0  0.0  0.0   \n",
       "3  1.0  0.0  0.0  0.0  0.0  0.0  1.0  0.0  1.0  1.0  ...  0.0  1.0  0.0  0.0   \n",
       "4  0.0  1.0  0.0  0.0  0.0  0.0  1.0  0.0  1.0  1.0  ...  0.0  1.0  0.0  0.0   \n",
       "\n",
       "    17   18   19   20   21   22  \n",
       "0  1.0  0.0  0.0  1.0  0.0  0.0  \n",
       "1  0.0  1.0  0.0  1.0  0.0  0.0  \n",
       "2  0.0  0.0  1.0  1.0  0.0  0.0  \n",
       "3  0.0  0.0  1.0  1.0  0.0  0.0  \n",
       "4  0.0  0.0  1.0  1.0  0.0  0.0  \n",
       "\n",
       "[5 rows x 23 columns]"
      ]
     },
     "execution_count": 14,
     "metadata": {},
     "output_type": "execute_result"
    }
   ],
   "source": [
    "cat_df = pd.DataFrame.sparse.from_spmatrix(onehot.fit_transform(clf_df[cat_cols])) # use one hot encoding for all categorical columns\n",
    "cat_df.head()"
   ]
  },
  {
   "cell_type": "markdown",
   "metadata": {},
   "source": [
    "The onehot encoding converted our 8 categorical columns into 22. Since we only have one numerical feature (age), we will merge that with all the categorical ones to form our feature matrix. T"
   ]
  },
  {
   "cell_type": "code",
   "execution_count": 15,
   "metadata": {},
   "outputs": [],
   "source": [
    "cat_df['age']  = clf_df['age'].copy()"
   ]
  },
  {
   "cell_type": "markdown",
   "metadata": {},
   "source": [
    "Finally, we copy over both targets so that we can start training our models"
   ]
  },
  {
   "cell_type": "code",
   "execution_count": 16,
   "metadata": {},
   "outputs": [],
   "source": [
    "cat_df['target1'] = clf_df['mh_ever'].copy()\n",
    "cat_df['target2'] = clf_df['top50'].copy()"
   ]
  },
  {
   "cell_type": "code",
   "execution_count": 17,
   "metadata": {},
   "outputs": [
    {
     "data": {
      "text/html": [
       "<div>\n",
       "<style scoped>\n",
       "    .dataframe tbody tr th:only-of-type {\n",
       "        vertical-align: middle;\n",
       "    }\n",
       "\n",
       "    .dataframe tbody tr th {\n",
       "        vertical-align: top;\n",
       "    }\n",
       "\n",
       "    .dataframe thead th {\n",
       "        text-align: right;\n",
       "    }\n",
       "</style>\n",
       "<table border=\"1\" class=\"dataframe\">\n",
       "  <thead>\n",
       "    <tr style=\"text-align: right;\">\n",
       "      <th></th>\n",
       "      <th>0</th>\n",
       "      <th>1</th>\n",
       "      <th>2</th>\n",
       "      <th>3</th>\n",
       "      <th>4</th>\n",
       "      <th>5</th>\n",
       "      <th>6</th>\n",
       "      <th>7</th>\n",
       "      <th>8</th>\n",
       "      <th>9</th>\n",
       "      <th>...</th>\n",
       "      <th>16</th>\n",
       "      <th>17</th>\n",
       "      <th>18</th>\n",
       "      <th>19</th>\n",
       "      <th>20</th>\n",
       "      <th>21</th>\n",
       "      <th>22</th>\n",
       "      <th>age</th>\n",
       "      <th>target1</th>\n",
       "      <th>target2</th>\n",
       "    </tr>\n",
       "  </thead>\n",
       "  <tbody>\n",
       "    <tr>\n",
       "      <th>0</th>\n",
       "      <td>0.0</td>\n",
       "      <td>0.0</td>\n",
       "      <td>1.0</td>\n",
       "      <td>0.0</td>\n",
       "      <td>0.0</td>\n",
       "      <td>0.0</td>\n",
       "      <td>1.0</td>\n",
       "      <td>1.0</td>\n",
       "      <td>0.0</td>\n",
       "      <td>0.0</td>\n",
       "      <td>...</td>\n",
       "      <td>0.0</td>\n",
       "      <td>1.0</td>\n",
       "      <td>0.0</td>\n",
       "      <td>0.0</td>\n",
       "      <td>1.0</td>\n",
       "      <td>0.0</td>\n",
       "      <td>0.0</td>\n",
       "      <td>28</td>\n",
       "      <td>True</td>\n",
       "      <td>False</td>\n",
       "    </tr>\n",
       "    <tr>\n",
       "      <th>1</th>\n",
       "      <td>0.0</td>\n",
       "      <td>0.0</td>\n",
       "      <td>1.0</td>\n",
       "      <td>0.0</td>\n",
       "      <td>0.0</td>\n",
       "      <td>0.0</td>\n",
       "      <td>1.0</td>\n",
       "      <td>1.0</td>\n",
       "      <td>0.0</td>\n",
       "      <td>1.0</td>\n",
       "      <td>...</td>\n",
       "      <td>0.0</td>\n",
       "      <td>0.0</td>\n",
       "      <td>1.0</td>\n",
       "      <td>0.0</td>\n",
       "      <td>1.0</td>\n",
       "      <td>0.0</td>\n",
       "      <td>0.0</td>\n",
       "      <td>72</td>\n",
       "      <td>True</td>\n",
       "      <td>False</td>\n",
       "    </tr>\n",
       "    <tr>\n",
       "      <th>2</th>\n",
       "      <td>0.0</td>\n",
       "      <td>0.0</td>\n",
       "      <td>0.0</td>\n",
       "      <td>0.0</td>\n",
       "      <td>1.0</td>\n",
       "      <td>0.0</td>\n",
       "      <td>1.0</td>\n",
       "      <td>1.0</td>\n",
       "      <td>0.0</td>\n",
       "      <td>1.0</td>\n",
       "      <td>...</td>\n",
       "      <td>0.0</td>\n",
       "      <td>0.0</td>\n",
       "      <td>0.0</td>\n",
       "      <td>1.0</td>\n",
       "      <td>1.0</td>\n",
       "      <td>0.0</td>\n",
       "      <td>0.0</td>\n",
       "      <td>60</td>\n",
       "      <td>True</td>\n",
       "      <td>False</td>\n",
       "    </tr>\n",
       "    <tr>\n",
       "      <th>3</th>\n",
       "      <td>1.0</td>\n",
       "      <td>0.0</td>\n",
       "      <td>0.0</td>\n",
       "      <td>0.0</td>\n",
       "      <td>0.0</td>\n",
       "      <td>0.0</td>\n",
       "      <td>1.0</td>\n",
       "      <td>0.0</td>\n",
       "      <td>1.0</td>\n",
       "      <td>1.0</td>\n",
       "      <td>...</td>\n",
       "      <td>0.0</td>\n",
       "      <td>0.0</td>\n",
       "      <td>0.0</td>\n",
       "      <td>1.0</td>\n",
       "      <td>1.0</td>\n",
       "      <td>0.0</td>\n",
       "      <td>0.0</td>\n",
       "      <td>60</td>\n",
       "      <td>True</td>\n",
       "      <td>True</td>\n",
       "    </tr>\n",
       "    <tr>\n",
       "      <th>4</th>\n",
       "      <td>0.0</td>\n",
       "      <td>1.0</td>\n",
       "      <td>0.0</td>\n",
       "      <td>0.0</td>\n",
       "      <td>0.0</td>\n",
       "      <td>0.0</td>\n",
       "      <td>1.0</td>\n",
       "      <td>0.0</td>\n",
       "      <td>1.0</td>\n",
       "      <td>1.0</td>\n",
       "      <td>...</td>\n",
       "      <td>0.0</td>\n",
       "      <td>0.0</td>\n",
       "      <td>0.0</td>\n",
       "      <td>1.0</td>\n",
       "      <td>1.0</td>\n",
       "      <td>0.0</td>\n",
       "      <td>0.0</td>\n",
       "      <td>78</td>\n",
       "      <td>True</td>\n",
       "      <td>True</td>\n",
       "    </tr>\n",
       "  </tbody>\n",
       "</table>\n",
       "<p>5 rows × 26 columns</p>\n",
       "</div>"
      ],
      "text/plain": [
       "     0    1    2    3    4    5    6    7    8    9  ...   16   17   18   19  \\\n",
       "0  0.0  0.0  1.0  0.0  0.0  0.0  1.0  1.0  0.0  0.0  ...  0.0  1.0  0.0  0.0   \n",
       "1  0.0  0.0  1.0  0.0  0.0  0.0  1.0  1.0  0.0  1.0  ...  0.0  0.0  1.0  0.0   \n",
       "2  0.0  0.0  0.0  0.0  1.0  0.0  1.0  1.0  0.0  1.0  ...  0.0  0.0  0.0  1.0   \n",
       "3  1.0  0.0  0.0  0.0  0.0  0.0  1.0  0.0  1.0  1.0  ...  0.0  0.0  0.0  1.0   \n",
       "4  0.0  1.0  0.0  0.0  0.0  0.0  1.0  0.0  1.0  1.0  ...  0.0  0.0  0.0  1.0   \n",
       "\n",
       "    20   21   22  age  target1  target2  \n",
       "0  1.0  0.0  0.0   28     True    False  \n",
       "1  1.0  0.0  0.0   72     True    False  \n",
       "2  1.0  0.0  0.0   60     True    False  \n",
       "3  1.0  0.0  0.0   60     True     True  \n",
       "4  1.0  0.0  0.0   78     True     True  \n",
       "\n",
       "[5 rows x 26 columns]"
      ]
     },
     "execution_count": 17,
     "metadata": {},
     "output_type": "execute_result"
    }
   ],
   "source": [
    "cat_df.head() # all features + 2 targets"
   ]
  },
  {
   "cell_type": "markdown",
   "metadata": {},
   "source": [
    "The resulting matrix has 26 columns with 2 targets. \n",
    "\n",
    "### Predicting Target 1\n"
   ]
  },
  {
   "cell_type": "code",
   "execution_count": 18,
   "metadata": {},
   "outputs": [
    {
     "data": {
      "text/plain": [
       "True     20891\n",
       "False     8613\n",
       "Name: target1, dtype: int64"
      ]
     },
     "execution_count": 18,
     "metadata": {},
     "output_type": "execute_result"
    }
   ],
   "source": [
    "cat_df['target1'].value_counts()"
   ]
  },
  {
   "cell_type": "markdown",
   "metadata": {},
   "source": [
    "As we can see, target 1 is highy unbalanced. However, it is significant since it's defined by whether a person will suffer from anxiety or depression at all. "
   ]
  },
  {
   "cell_type": "code",
   "execution_count": 19,
   "metadata": {},
   "outputs": [
    {
     "name": "stdout",
     "output_type": "stream",
     "text": [
      "Fitting LogisticRegression(class_weight='balanced')\n",
      "Fitting 5 folds for each of 10 candidates, totalling 50 fits\n",
      "              precision    recall  f1-score   support\n",
      "\n",
      "       False       0.36      0.58      0.45      1716\n",
      "        True       0.77      0.59      0.67      4185\n",
      "\n",
      "    accuracy                           0.58      5901\n",
      "   macro avg       0.57      0.58      0.56      5901\n",
      "weighted avg       0.65      0.58      0.60      5901\n",
      "\n",
      "\n",
      "Fitting SVC()\n",
      "Fitting 5 folds for each of 10 candidates, totalling 50 fits\n",
      "              precision    recall  f1-score   support\n",
      "\n",
      "       False       0.00      0.00      0.00      1716\n",
      "        True       0.71      1.00      0.83      4185\n",
      "\n",
      "    accuracy                           0.71      5901\n",
      "   macro avg       0.35      0.50      0.41      5901\n",
      "weighted avg       0.50      0.71      0.59      5901\n",
      "\n",
      "\n",
      "Fitting RandomForestClassifier()\n",
      "Fitting 5 folds for each of 10 candidates, totalling 50 fits\n",
      "              precision    recall  f1-score   support\n",
      "\n",
      "       False       0.38      0.20      0.26      1716\n",
      "        True       0.72      0.87      0.79      4185\n",
      "\n",
      "    accuracy                           0.67      5901\n",
      "   macro avg       0.55      0.53      0.52      5901\n",
      "weighted avg       0.62      0.67      0.64      5901\n",
      "\n",
      "\n",
      "Fitting MLPClassifier()\n",
      "Fitting 5 folds for each of 10 candidates, totalling 50 fits\n",
      "              precision    recall  f1-score   support\n",
      "\n",
      "       False       0.00      0.00      0.00      1716\n",
      "        True       0.71      1.00      0.83      4185\n",
      "\n",
      "    accuracy                           0.71      5901\n",
      "   macro avg       0.35      0.50      0.41      5901\n",
      "weighted avg       0.50      0.71      0.59      5901\n",
      "\n",
      "\n"
     ]
    }
   ],
   "source": [
    "# classification on target1\n",
    "random_seed = np.random.randint(0,100)\n",
    "clf_list = [sklearn.linear_model.LogisticRegression(class_weight='balanced'), \n",
    "            sklearn.svm.SVC(), sklearn.ensemble.RandomForestClassifier(), \n",
    "      sklearn.neural_network.MLPClassifier()]\n",
    "param_list = [{'C': [10e-4, 10e-3,10e-2,1,100], 'solver':['saga','lbfgs']},              \n",
    "              {'kernel': ['linear','rbf','sigmoid'],'C': [10e-4, 10e-3,10e-2,1,100]}, \n",
    "             {'criterion': ['gini','entropy'], 'max_features':['auto','sqrt','log2'], 'min_samples_split': [2,4,6,8]},\n",
    "             {'activation': ['relu','tanh','logistic'],\n",
    "              'hidden_layer_sizes': [(1,15), (2, 6)],'alpha': [0.0001,0.001,0.1,1,10]}]\n",
    "\n",
    "best_clf = []\n",
    "\n",
    "for idx, clf in enumerate(clf_list):\n",
    "    print('Fitting', clf)\n",
    "    param = param_list[idx]\n",
    "    train, test = sklearn.model_selection.train_test_split(cat_df, test_size = 0.2, random_state=random_seed)\n",
    "    gs = sklearn.model_selection.RandomizedSearchCV(estimator=clf, \n",
    "                                                    param_distributions=param,scoring='accuracy',\n",
    "                                                    refit=True,\n",
    "                                                   verbose=1, n_jobs=-1)\n",
    "    # drop target columns so we have X\n",
    "    X_train = train.drop(['target1','target2'], axis=1)\n",
    "    y_train = train['target1']\n",
    "    # do the same for test set\n",
    "    X_test = test.drop(['target1','target2'],axis=1)\n",
    "    y_test = test['target1']\n",
    "    # randomized gridsearch on all params\n",
    "    gs.fit(X_train, y_train)\n",
    "    pred_test = gs.best_estimator_.predict(X_test) # predicted test set labels\n",
    "    best_clf.append(gs.best_estimator_) # store best estimator so we can see its hyperparameters\n",
    "    # show classification report on best model \n",
    "    print(sklearn.metrics.classification_report(y_test, pred_test))\n",
    "    print()"
   ]
  },
  {
   "cell_type": "markdown",
   "metadata": {},
   "source": [
    "Random Forest classifier produced the best prediction accuracy at 70%, with an f1 score of 0.59. Considering that we only have 2 classes to predict from, this is fairly decent performance -- given demographics information like age, income group, etc., we have about 70% chance of predicting whether that person has had anxiety or depression. "
   ]
  },
  {
   "cell_type": "code",
   "execution_count": 20,
   "metadata": {},
   "outputs": [
    {
     "data": {
      "text/plain": [
       "[LogisticRegression(C=0.01, class_weight='balanced', solver='saga'),\n",
       " SVC(C=0.01, kernel='linear'),\n",
       " RandomForestClassifier(min_samples_split=8),\n",
       " MLPClassifier(alpha=1, hidden_layer_sizes=(1, 15))]"
      ]
     },
     "execution_count": 20,
     "metadata": {},
     "output_type": "execute_result"
    }
   ],
   "source": [
    "# hyperparameters with the best performance\n",
    "best_clf "
   ]
  },
  {
   "cell_type": "markdown",
   "metadata": {},
   "source": [
    "### Predicting Target 2"
   ]
  },
  {
   "cell_type": "code",
   "execution_count": 21,
   "metadata": {},
   "outputs": [
    {
     "data": {
      "text/plain": [
       "False    16917\n",
       "True     12587\n",
       "Name: target2, dtype: int64"
      ]
     },
     "execution_count": 21,
     "metadata": {},
     "output_type": "execute_result"
    }
   ],
   "source": [
    "cat_df['target2'].value_counts()"
   ]
  },
  {
   "cell_type": "markdown",
   "metadata": {},
   "source": [
    "Target 2 is well-balanced since we defined it as \"if the mental health score is higher than the median\". This variable will predict if the person has a higher than usual mental health score."
   ]
  },
  {
   "cell_type": "code",
   "execution_count": 22,
   "metadata": {},
   "outputs": [
    {
     "name": "stdout",
     "output_type": "stream",
     "text": [
      "Fitting LogisticRegression(class_weight='balanced')\n",
      "Fitting 5 folds for each of 10 candidates, totalling 50 fits\n",
      "              precision    recall  f1-score   support\n",
      "\n",
      "       False       0.66      0.60      0.63      3357\n",
      "        True       0.53      0.59      0.56      2544\n",
      "\n",
      "    accuracy                           0.60      5901\n",
      "   macro avg       0.59      0.60      0.59      5901\n",
      "weighted avg       0.60      0.60      0.60      5901\n",
      "\n",
      "\n",
      "Fitting SVC()\n",
      "Fitting 5 folds for each of 10 candidates, totalling 50 fits\n",
      "              precision    recall  f1-score   support\n",
      "\n",
      "       False       0.59      0.91      0.72      3357\n",
      "        True       0.59      0.17      0.27      2544\n",
      "\n",
      "    accuracy                           0.59      5901\n",
      "   macro avg       0.59      0.54      0.49      5901\n",
      "weighted avg       0.59      0.59      0.52      5901\n",
      "\n",
      "\n",
      "Fitting RandomForestClassifier()\n",
      "Fitting 5 folds for each of 10 candidates, totalling 50 fits\n",
      "              precision    recall  f1-score   support\n",
      "\n",
      "       False       0.61      0.66      0.63      3357\n",
      "        True       0.49      0.44      0.46      2544\n",
      "\n",
      "    accuracy                           0.56      5901\n",
      "   macro avg       0.55      0.55      0.55      5901\n",
      "weighted avg       0.56      0.56      0.56      5901\n",
      "\n",
      "\n",
      "Fitting MLPClassifier()\n",
      "Fitting 5 folds for each of 10 candidates, totalling 50 fits\n",
      "              precision    recall  f1-score   support\n",
      "\n",
      "       False       0.63      0.76      0.69      3357\n",
      "        True       0.57      0.42      0.48      2544\n",
      "\n",
      "    accuracy                           0.61      5901\n",
      "   macro avg       0.60      0.59      0.59      5901\n",
      "weighted avg       0.61      0.61      0.60      5901\n",
      "\n",
      "\n"
     ]
    }
   ],
   "source": [
    "# do the same thing as above, swap target 1 for 2\n",
    "best_clf = []\n",
    "\n",
    "for idx, clf in enumerate(clf_list):\n",
    "    print('Fitting', clf)\n",
    "    param = param_list[idx]\n",
    "    train, test = sklearn.model_selection.train_test_split(cat_df, test_size = 0.2, random_state=random_seed)\n",
    "    gs = sklearn.model_selection.RandomizedSearchCV(estimator=clf, \n",
    "                                                    param_distributions=param,scoring='accuracy',\n",
    "                                                    refit=True,\n",
    "                                                   verbose=1, n_jobs=-1)\n",
    "    # drop target columns so we have X\n",
    "    X_train = train.drop(['target1','target2'], axis=1)\n",
    "    y_train = train['target2']\n",
    "    # do the same for test set\n",
    "    X_test = test.drop(['target1','target2'],axis=1)\n",
    "    y_test = test['target2']\n",
    "    # randomized gridsearch on all params\n",
    "    gs.fit(X_train, y_train)\n",
    "    pred_test = gs.best_estimator_.predict(X_test) # predicted test set labels\n",
    "    best_clf.append(gs.best_estimator_) # store best estimator so we can see its hyperparameters\n",
    "    # show classification report on best model \n",
    "    print(sklearn.metrics.classification_report(y_test, pred_test))\n",
    "    print()"
   ]
  },
  {
   "cell_type": "markdown",
   "metadata": {},
   "source": [
    "In a more balanced problem, our highest test set accuracy dropped to 61% with multi-layer perceptron classifier. This is expected since our model will have a lower chance of hitting true positives. Our resulting model has a 61% accuracy in predicting whether a person has higher than usual mental health score. Notably, MLP achived best performance in both task, beating linear models like logistic regression. This might suggest that our data is not linearly seperable. "
   ]
  },
  {
   "cell_type": "code",
   "execution_count": 23,
   "metadata": {},
   "outputs": [
    {
     "data": {
      "text/plain": [
       "[LogisticRegression(C=1, class_weight='balanced'),\n",
       " SVC(C=1),\n",
       " RandomForestClassifier(min_samples_split=8),\n",
       " MLPClassifier(activation='logistic', alpha=0.1, hidden_layer_sizes=(2, 6))]"
      ]
     },
     "execution_count": 23,
     "metadata": {},
     "output_type": "execute_result"
    }
   ],
   "source": [
    "best_clf # best hyperparameters in target 2"
   ]
  },
  {
   "cell_type": "markdown",
   "metadata": {},
   "source": [
    "# Ethics & Privacy"
   ]
  },
  {
   "cell_type": "markdown",
   "metadata": {},
   "source": [
    "In order to validate our source’s credibility, we chose the National Health Interview Survey, which is a government-issued census and represents the 87,500 persons in 35,000 households in the United States. As one of the data collection programs of the NCHS (National Center for Health Statistics), NHIS secured credibility and privacy. In terms of privacy issues, in this dataset, most of the information is categorized to anonymize sensitive information and protect participants’ identities. For example, the individual BMI scores were categorized into 5 categories before being published, which protects the participants' privacy.\n",
    "\n",
    "We analyzed and visualized the distribution of relevant attributes in our dataset and the percentage breakdowns are pretty representative of the US adult population. However, this dataset could be potentially biased towards a WEIRD (western, educated, industrialized, rich, democratic) audience and against marginalized groups. Specifically, since the survey was not mandatory for every US citizen and its responses were collected using sampling methods, there could be participation bias in the dataset. For example, immigrants with language barriers may be underrepresented as the subject of the census. Although the census is not inherently biased, we should not hence overlook the impact of population bias in the NHIS dataset. This means that there could be marginalized population that are unrepresented or underrepresented in this dataset and a more comprehensive study should include data from more inclusive sources.\n",
    "\n",
    "Furthermore, we need to be careful of handling the implications of our results. We hope that our predictor of mental health issues won't be used against marginalized and susceptible groups that would get higher scores using our method. Instead, we view our model as a preventative guide for the government to support those people by allocating more mental health resources. Since we designed our input parameters to our model specifically to work with the anonymized NHIS dataset, it likely won't cause a privacy issue on this dataset. However, our approach should not be replicated on identified datasets because seeing a high predictive score could potentially contribute to a person's anxiety/depression."
   ]
  },
  {
   "cell_type": "markdown",
   "metadata": {},
   "source": [
    "# Conclusion & Discussion"
   ]
  },
  {
   "cell_type": "markdown",
   "metadata": {},
   "source": [
    "Before starting the project, We hypothesized that demographic factors such as lower income, lower education level, minority race, LGBTQ sexuality, household region, and even abnormal BMI will increase the likelihood of a person suffering from mental health conditions (eg, anxiety and depression). \n",
    "\n",
    "\n",
    "Firstly, in order to understand the correlation between individual variables and undermine the confounding variables, we set up a scoring system for a person’s mental health condition in the EDA section. Through data exploring, we noticed some demographic factors are internally correlated: for example, insurance coverage and education has the highest correlation with income. These correlations indicated that people’s mental health conditions can be affected by the interactions of different factors, such that one factor may not show a high enough correlation. \n",
    "\n",
    "\n",
    "Secondly, we went in-depth analyzing the effect of individual factors on mental health score. In this section, we particularly scrutinized the effect of gender, sexual orientation, BMI, income, and household location. Using independent samples t test, we found out that females, LGBT, and people who live in rural areas all have a higher risk of mental health condition than their counterparts. In the multi-class variables, we employed one way ANOVA with Tukey's HSD test to identify effect source. Eventually, we found out that lower income, lower education level, and a higher/lower than normal BMI all contribute to worse mental health conditions. \n",
    "\n",
    "\n",
    "Thirdly, we trained machine learning models to see if we can effectively predict mental health scores using demographic information. We utilized both regression and classification frameworks to accomplish this task. In regression task, our MSE reached ~20 in our best models, suggesting that regression models does not work well with our dataset. Compared to regression models, our data yields better results on classification models with higher accuracy of 70% in predicting mental health conditions based on demographics. This implies that given demographics information, we can predict if people have had any mental health conditions before with reasonable accuracy, but not the level of mental health condition. \n",
    "\n",
    "By going through each demographic factor and finding its correlation between mental health scores we are able to find some surprising results. For example, by using a boxplot and independent sample T-test, we concluded that females have worse mental conditions than males (due to the underpopulation of “others” which only occupied less than 1% of the dataset, we only considered the binary gender in this case). Additionally, when comparing BMI with mental health scores, we found out that people with abnormal body weight (under/overweight) are more likely to suffer from worse mental health conditions than people with normal body weight. \n",
    "\n",
    "In future works, more data can be collected to increase the accuracy for our models. For example, instead of collecting income as income groups, a numerical income value is more accurate and potentially may be a better predictor for mental health. We can also expand the definition of mental health conditions beyond just anxiety and depression, yielding a better numeric measure for mental health conditions.\n",
    "\n",
    "Finally, our results might guide future efforts in improving mental well-being. Since we know that income, sexuality, and household region can be a predictor of mental health conditions, governments or agencies can divert more funding and attention to demographics that are at a higher risk.  "
   ]
  },
  {
   "cell_type": "markdown",
   "metadata": {},
   "source": [
    "## Limitations\n",
    "1. Working with categorical data \n",
    "\n",
    "In order to protect participants’ privacy, NHIS published most information as categorical in this dataset. For example, the BMI variable is divided into several categories before being released. Working with mostly categorical data poses bigger challenges because they cannot easily fit into a regression model, and we need to work around that limitation when exploring and analyzing data.\n",
    "\n",
    "Furthermore, some of the categorical data are encoding in a way that may cause issues when analyzing.  Data on family income are being used in our project, yet it is hard to identify which family income is from marriage and which is from single. Even more, it also raises the question such as does marriage actually increase family income in this case? This time for simplicity we choose to assume that family income acts as a reliable way of measuring income. This can be fixed by doing further research on the data and even completing our own correlation analysis on family income and marital status to see how these two variables are being affected in our project.\n",
    "\n",
    "2. The limited definition of mental health issues \n",
    "\n",
    "In this project, we narrowly defined the term “mental health issues” as mental conditions that are associated with depression and/or anxiety, disregarding a wider range of mental disorders that are distinctive from depression and anxiety. If time allows, we can conduct the same process on other mental health issues and with different scoring systems for each mental health problem instead of moving them to one large scale.\n",
    "\n",
    "3. Definition of mental health score\n",
    "\n",
    "We created this variable out of our original dataset in order to have a quantitative measure of anxiety and depression levels. This mental health score has several limitations. First of all, it's implying that a person who feels anxiety/depressed daily is 4 times worse than a person who feels so a few times a year. Secondly, we are assuming depression and anxiety plays the same role in a person's mental health condition, while in reality they're not equal.\n",
    "\n",
    "There are also several advantages of using this score. First of all, people who don't have any mental health illness will automatically get a score of 0. Moreover, a higher score means a person either has a high anxiety/depression level, or it means that the person feels depressed/anxiety more frequently. Both are indications of worse mental health conditions. Due to the limitation of the dataset, we will use this definition as a measure for mental health."
   ]
  },
  {
   "cell_type": "markdown",
   "metadata": {},
   "source": [
    "# Team Contributions"
   ]
  },
  {
   "cell_type": "markdown",
   "metadata": {},
   "source": [
    "* Adam Liu: EDA, Data analysis and result, machine learning\n",
    "* Siming Jin: Conlusion & Discussion, Overview, EDA, ethics and privacy.\n",
    "* Derek Chen:  Conlusion & Discussion, Overview, EDA, ethics and privacy.\n",
    "* Xiaoye Zuo: Conlusion & Discussion, Overview, EDA, data analysis results, ethics and privacy.\n",
    "\n",
    "Note: All of our write-ups were completed on Google Docs and updated to Github by Adam, so the commit history might not reflect this."
   ]
  },
  {
   "cell_type": "code",
   "execution_count": null,
   "metadata": {},
   "outputs": [],
   "source": []
  }
 ],
 "metadata": {
  "kernelspec": {
   "display_name": "Python 3",
   "language": "python",
   "name": "python3"
  },
  "language_info": {
   "codemirror_mode": {
    "name": "ipython",
    "version": 3
   },
   "file_extension": ".py",
   "mimetype": "text/x-python",
   "name": "python",
   "nbconvert_exporter": "python",
   "pygments_lexer": "ipython3",
   "version": "3.7.7"
  }
 },
 "nbformat": 4,
 "nbformat_minor": 2
}
