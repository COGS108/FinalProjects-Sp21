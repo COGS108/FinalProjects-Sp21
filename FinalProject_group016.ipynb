{
 "cells": [
  {
   "cell_type": "markdown",
   "metadata": {},
   "source": [
    "# COGS 108 - Exonerations and Race in the United States"
   ]
  },
  {
   "cell_type": "markdown",
   "metadata": {},
   "source": [
    "# Overview"
   ]
  },
  {
   "cell_type": "markdown",
   "metadata": {},
   "source": [
    "In this project, we explore the relationship between race and reasons for exoneration using data from the National Registry of Exonerations. To determine if there is an association between exoneration reason and race, we first use a Chi-Square Independence test to establish whether there is a relationship, then test whether the relationship is statistically substantial using Cramer's V coefficents. From these analyses, we find evidence that Witness Misidentification and False Evidence are exoneration reasons that are correlated with Race."
   ]
  },
  {
   "cell_type": "markdown",
   "metadata": {},
   "source": [
    "# Names\n",
    "\n",
    "- Allison Bhavsar\n",
    "- Jon Chang\n",
    "- Mikaela Grenion\n",
    "- Nathan Nakamura\n",
    "- Tilak Patel"
   ]
  },
  {
   "cell_type": "markdown",
   "metadata": {},
   "source": [
    "<a id='research_question'></a>\n",
    "# Research Question"
   ]
  },
  {
   "cell_type": "markdown",
   "metadata": {},
   "source": [
    "What is the relationship between race and reason for wrongful conviction among exonerees in the United States?"
   ]
  },
  {
   "cell_type": "markdown",
   "metadata": {},
   "source": [
    "<a id='background'></a>\n",
    "\n",
    "## Background & Prior Work"
   ]
  },
  {
   "cell_type": "markdown",
   "metadata": {},
   "source": [
    "Right now, very little research on wrongful convictions and exonerations has been done in the United States. In “The Criminology of Wrongful Conviction: A decade later,” author Richard Leo details the history of these convictions and what research has been done in the field. Before DNA analysis was used in criminal cases, wrongful convictions were thought of as extremely rare occurrences that did not justify rethinking how evidence was evaluated. At the time, this system was upheld as a way to produce ‘reliable outcomes,’ even though there was and is still really no way to ensure that these convictions are just. DNA evidence was first introduced in 1986 and led to rapid amounts of exonerations in the 1990’s and early 2000’s. These breakthroughs led researchers in crime, law, and sociology to delve into why and how these convictions occur [2].\n",
    "\n",
    "Although the specifics of many of these cases differ from one to the next, there exist commonalities between them that have yet to be fully explored. In “Mass Exoneration data and the causes of wrongful convictions,” Russell Covey explores two cases of mass exonerations (multiple convictions overturned in related cases) and the similarities between the cases. In many exoneration cases, the persons involved are convicted of very serious crimes with the penalty of serving long terms or death sentences, meaning the stakes of these sentences are incredibly high. Covey also found that the accused argue non-guilt at the trial as opposed to 90% of all other convictions that are obtained through guilty pleas. Very few wrongful convictions come from pleading guilty (less than 6%). The author also found that people of color are at greater risk of facing wrongful convictions. In the two cases he examines (Ramport and Tulia exonerations), the mass majority of exonerees were Hispanic or Black. This research becomes especially important when attempting to determine the causes of these convictions. Although many exonerations came from DNA evidence clearing the accused, many also come from police misconduct. This involves officers filing false police reports, planting drugs/weapons, and giving false testimonies [1]. As exonerations become a prevalent topic, more research needs to be done into whether background, including race and economic status, plays a substantial role in these convictions. \n",
    "\n",
    "References:\n",
    "- 1) [Mass Exoneration data and the causes of wrongful convictions](https://poseidon01.ssrn.com/delivery.php?ID=193021116117102011096085081115078018050053039063074059107020113074026014125096008122062055115111018120051028085020083026011022011005029023065115127088065091019001028030057095103101103071111115004110113123117120113004090090010012080073066011002005115&EXT=pdf&INDEX=TRUE)\n",
    "- 2) [The Criminology of Wrongful Conviction: A Decade Later](https://papers.ssrn.com/sol3/papers.cfm?abstract_id=2838951)"
   ]
  },
  {
   "cell_type": "markdown",
   "metadata": {},
   "source": [
    "# Hypothesis\n"
   ]
  },
  {
   "cell_type": "markdown",
   "metadata": {},
   "source": [
    "Based on our prior research, we hypothesize that wrongfully convicted People Of Color are more likely to be exonerated due to malicious and false reasons than their Caucasian counterparts. For our hypothesis, we are qualifying malicious and false reasons as any of the following: false confession, perjury or false accusation, false or misleading forensic evidence, official misconduct, and inadequate legal defense."
   ]
  },
  {
   "cell_type": "markdown",
   "metadata": {},
   "source": [
    "# Dataset"
   ]
  },
  {
   "cell_type": "markdown",
   "metadata": {},
   "source": [
    "Our dataset is from the National Registry of Exonerations, which keeps track of all known exonerations in the United States from 1989 to present. There are 2765 observations (exonerees) and variables include their name, age, race, sex, location, crimes commited, sentence, relevant dates, and seven variables spanning different reasons contributing to their exoneration. \n",
    "\n",
    "- Dataset Name: The National Registry of Exonerations\n",
    "- Link to the dataset: https://www.law.umich.edu/special/exoneration/Pages/detaillist.aspx\n",
    "- Number of observations: 2765"
   ]
  },
  {
   "cell_type": "markdown",
   "metadata": {},
   "source": [
    "# Setup"
   ]
  },
  {
   "cell_type": "code",
   "execution_count": 1,
   "metadata": {},
   "outputs": [
    {
     "data": {
      "text/html": [
       "<div>\n",
       "<style scoped>\n",
       "    .dataframe tbody tr th:only-of-type {\n",
       "        vertical-align: middle;\n",
       "    }\n",
       "\n",
       "    .dataframe tbody tr th {\n",
       "        vertical-align: top;\n",
       "    }\n",
       "\n",
       "    .dataframe thead th {\n",
       "        text-align: right;\n",
       "    }\n",
       "</style>\n",
       "<table border=\"1\" class=\"dataframe\">\n",
       "  <thead>\n",
       "    <tr style=\"text-align: right;\">\n",
       "      <th></th>\n",
       "      <th>Last Name</th>\n",
       "      <th>First Name</th>\n",
       "      <th>Age</th>\n",
       "      <th>Race</th>\n",
       "      <th>Sex</th>\n",
       "      <th>State</th>\n",
       "      <th>County</th>\n",
       "      <th>Tags</th>\n",
       "      <th>Worst Crime Display</th>\n",
       "      <th>List Add'l Crimes Recode</th>\n",
       "      <th>...</th>\n",
       "      <th>*</th>\n",
       "      <th>FC</th>\n",
       "      <th>MWID</th>\n",
       "      <th>F/MFE</th>\n",
       "      <th>P/FA</th>\n",
       "      <th>OM</th>\n",
       "      <th>ILD</th>\n",
       "      <th>Posting Date</th>\n",
       "      <th>OM Tags</th>\n",
       "      <th>Occurred</th>\n",
       "    </tr>\n",
       "  </thead>\n",
       "  <tbody>\n",
       "    <tr>\n",
       "      <th>0</th>\n",
       "      <td>Abbitt</td>\n",
       "      <td>Joseph</td>\n",
       "      <td>31.0</td>\n",
       "      <td>Black</td>\n",
       "      <td>Male</td>\n",
       "      <td>North Carolina</td>\n",
       "      <td>Forsyth</td>\n",
       "      <td>CV;#IO</td>\n",
       "      <td>Child Sex Abuse</td>\n",
       "      <td>Sexual Assault;#Kidnapping;#Burglary/Unlawful ...</td>\n",
       "      <td>...</td>\n",
       "      <td>NaN</td>\n",
       "      <td>NaN</td>\n",
       "      <td>MWID</td>\n",
       "      <td>NaN</td>\n",
       "      <td>NaN</td>\n",
       "      <td>NaN</td>\n",
       "      <td>NaN</td>\n",
       "      <td>2011-09-01</td>\n",
       "      <td>NaN</td>\n",
       "      <td>1991</td>\n",
       "    </tr>\n",
       "    <tr>\n",
       "      <th>1</th>\n",
       "      <td>Abdal</td>\n",
       "      <td>Warith Habib</td>\n",
       "      <td>43.0</td>\n",
       "      <td>Black</td>\n",
       "      <td>Male</td>\n",
       "      <td>New York</td>\n",
       "      <td>Erie</td>\n",
       "      <td>IO</td>\n",
       "      <td>Sexual Assault</td>\n",
       "      <td>Robbery</td>\n",
       "      <td>...</td>\n",
       "      <td>NaN</td>\n",
       "      <td>NaN</td>\n",
       "      <td>MWID</td>\n",
       "      <td>F/MFE</td>\n",
       "      <td>NaN</td>\n",
       "      <td>OM</td>\n",
       "      <td>NaN</td>\n",
       "      <td>2011-08-29</td>\n",
       "      <td>OF;#WH;#NW;#WT</td>\n",
       "      <td>1982</td>\n",
       "    </tr>\n",
       "    <tr>\n",
       "      <th>2</th>\n",
       "      <td>Abernathy</td>\n",
       "      <td>Christopher</td>\n",
       "      <td>17.0</td>\n",
       "      <td>White</td>\n",
       "      <td>Male</td>\n",
       "      <td>Illinois</td>\n",
       "      <td>Cook</td>\n",
       "      <td>CIU;#CV;#H;#IO</td>\n",
       "      <td>Murder</td>\n",
       "      <td>Rape;#Robbery</td>\n",
       "      <td>...</td>\n",
       "      <td>NaN</td>\n",
       "      <td>FC</td>\n",
       "      <td>NaN</td>\n",
       "      <td>NaN</td>\n",
       "      <td>P/FA</td>\n",
       "      <td>OM</td>\n",
       "      <td>NaN</td>\n",
       "      <td>2015-02-13</td>\n",
       "      <td>OF;#WH;#NW;#INT</td>\n",
       "      <td>1984</td>\n",
       "    </tr>\n",
       "    <tr>\n",
       "      <th>3</th>\n",
       "      <td>Abney</td>\n",
       "      <td>Quentin</td>\n",
       "      <td>32.0</td>\n",
       "      <td>Black</td>\n",
       "      <td>Male</td>\n",
       "      <td>New York</td>\n",
       "      <td>New York</td>\n",
       "      <td>CV</td>\n",
       "      <td>Robbery</td>\n",
       "      <td>NaN</td>\n",
       "      <td>...</td>\n",
       "      <td>NaN</td>\n",
       "      <td>NaN</td>\n",
       "      <td>MWID</td>\n",
       "      <td>NaN</td>\n",
       "      <td>NaN</td>\n",
       "      <td>NaN</td>\n",
       "      <td>NaN</td>\n",
       "      <td>2019-05-13</td>\n",
       "      <td>NaN</td>\n",
       "      <td>2005</td>\n",
       "    </tr>\n",
       "    <tr>\n",
       "      <th>4</th>\n",
       "      <td>Acero</td>\n",
       "      <td>Longino</td>\n",
       "      <td>35.0</td>\n",
       "      <td>Hispanic</td>\n",
       "      <td>Male</td>\n",
       "      <td>California</td>\n",
       "      <td>Santa Clara</td>\n",
       "      <td>NC;#P</td>\n",
       "      <td>Sex Offender Registration</td>\n",
       "      <td>NaN</td>\n",
       "      <td>...</td>\n",
       "      <td>NaN</td>\n",
       "      <td>NaN</td>\n",
       "      <td>NaN</td>\n",
       "      <td>NaN</td>\n",
       "      <td>NaN</td>\n",
       "      <td>NaN</td>\n",
       "      <td>ILD</td>\n",
       "      <td>2011-08-29</td>\n",
       "      <td>NaN</td>\n",
       "      <td>1994</td>\n",
       "    </tr>\n",
       "  </tbody>\n",
       "</table>\n",
       "<p>5 rows × 24 columns</p>\n",
       "</div>"
      ],
      "text/plain": [
       "   Last Name    First Name   Age      Race   Sex           State       County  \\\n",
       "0     Abbitt       Joseph   31.0     Black  Male  North Carolina      Forsyth   \n",
       "1      Abdal  Warith Habib  43.0     Black  Male        New York         Erie   \n",
       "2  Abernathy   Christopher  17.0     White  Male        Illinois         Cook   \n",
       "3      Abney       Quentin  32.0     Black  Male        New York     New York   \n",
       "4      Acero       Longino  35.0  Hispanic  Male      California  Santa Clara   \n",
       "\n",
       "             Tags        Worst Crime Display  \\\n",
       "0          CV;#IO            Child Sex Abuse   \n",
       "1              IO             Sexual Assault   \n",
       "2  CIU;#CV;#H;#IO                     Murder   \n",
       "3              CV                    Robbery   \n",
       "4           NC;#P  Sex Offender Registration   \n",
       "\n",
       "                            List Add'l Crimes Recode  ...    *   FC  MWID  \\\n",
       "0  Sexual Assault;#Kidnapping;#Burglary/Unlawful ...  ...  NaN  NaN  MWID   \n",
       "1                                            Robbery  ...  NaN  NaN  MWID   \n",
       "2                                      Rape;#Robbery  ...  NaN   FC   NaN   \n",
       "3                                                NaN  ...  NaN  NaN  MWID   \n",
       "4                                                NaN  ...  NaN  NaN   NaN   \n",
       "\n",
       "   F/MFE  P/FA   OM  ILD Posting Date          OM Tags Occurred  \n",
       "0    NaN   NaN  NaN  NaN   2011-09-01              NaN     1991  \n",
       "1  F/MFE   NaN   OM  NaN   2011-08-29   OF;#WH;#NW;#WT     1982  \n",
       "2    NaN  P/FA   OM  NaN   2015-02-13  OF;#WH;#NW;#INT     1984  \n",
       "3    NaN   NaN  NaN  NaN   2019-05-13              NaN     2005  \n",
       "4    NaN   NaN  NaN  ILD   2011-08-29              NaN     1994  \n",
       "\n",
       "[5 rows x 24 columns]"
      ]
     },
     "execution_count": 1,
     "metadata": {},
     "output_type": "execute_result"
    }
   ],
   "source": [
    "# imports\n",
    "import pandas as pd\n",
    "import numpy as np\n",
    "import seaborn as sns\n",
    "import matplotlib.pyplot as plt\n",
    "from scipy.stats import chi2_contingency\n",
    "\n",
    "# dataset\n",
    "df = pd.read_excel ('data/publicspreadsheet.xlsx')\n",
    "df.head()"
   ]
  },
  {
   "cell_type": "markdown",
   "metadata": {},
   "source": [
    "# Data Cleaning"
   ]
  },
  {
   "cell_type": "markdown",
   "metadata": {},
   "source": [
    "### Removing Variables and Observations\n",
    "First, we remove columns for variables that do not pertain to our research question and those containing identifying information in order to anonymize the data. We also drop rows where race is unknown since we cannot make assumptions about an exoneree's race if it is not explicitly stated."
   ]
  },
  {
   "cell_type": "code",
   "execution_count": 2,
   "metadata": {},
   "outputs": [
    {
     "data": {
      "text/plain": [
       "array(['Black', 'White', 'Hispanic', 'Other', 'Asian', \"Don't Know\",\n",
       "       'Native American'], dtype=object)"
      ]
     },
     "execution_count": 2,
     "metadata": {},
     "output_type": "execute_result"
    }
   ],
   "source": [
    "# Drop columns containing information irrelevant to our research question\n",
    "df = df.drop([\"Sex\", \"Age\", \"Sentence\", \"Convicted\", \"Exonerated\", \"Occurred\", \"County\", \"State\", \"Posting Date\",\n",
    "              \"Tags\", \"OM Tags\", \"*\", \"List Add'l Crimes Recode\"], axis=1)\n",
    "\n",
    "# Drop columns with identifying information – anonymize data\n",
    "df = df.drop([\"Last Name\", \"First Name\"], axis=1)\n",
    "\n",
    "# Examine unique values for 'Race'\n",
    "df['Race'].unique()"
   ]
  },
  {
   "cell_type": "code",
   "execution_count": 3,
   "metadata": {},
   "outputs": [
    {
     "data": {
      "text/html": [
       "<div>\n",
       "<style scoped>\n",
       "    .dataframe tbody tr th:only-of-type {\n",
       "        vertical-align: middle;\n",
       "    }\n",
       "\n",
       "    .dataframe tbody tr th {\n",
       "        vertical-align: top;\n",
       "    }\n",
       "\n",
       "    .dataframe thead th {\n",
       "        text-align: right;\n",
       "    }\n",
       "</style>\n",
       "<table border=\"1\" class=\"dataframe\">\n",
       "  <thead>\n",
       "    <tr style=\"text-align: right;\">\n",
       "      <th></th>\n",
       "      <th>Race</th>\n",
       "      <th>Worst Crime Display</th>\n",
       "      <th>DNA</th>\n",
       "      <th>FC</th>\n",
       "      <th>MWID</th>\n",
       "      <th>F/MFE</th>\n",
       "      <th>P/FA</th>\n",
       "      <th>OM</th>\n",
       "      <th>ILD</th>\n",
       "    </tr>\n",
       "  </thead>\n",
       "  <tbody>\n",
       "    <tr>\n",
       "      <th>0</th>\n",
       "      <td>Black</td>\n",
       "      <td>Child Sex Abuse</td>\n",
       "      <td>DNA</td>\n",
       "      <td>NaN</td>\n",
       "      <td>MWID</td>\n",
       "      <td>NaN</td>\n",
       "      <td>NaN</td>\n",
       "      <td>NaN</td>\n",
       "      <td>NaN</td>\n",
       "    </tr>\n",
       "    <tr>\n",
       "      <th>1</th>\n",
       "      <td>Black</td>\n",
       "      <td>Sexual Assault</td>\n",
       "      <td>DNA</td>\n",
       "      <td>NaN</td>\n",
       "      <td>MWID</td>\n",
       "      <td>F/MFE</td>\n",
       "      <td>NaN</td>\n",
       "      <td>OM</td>\n",
       "      <td>NaN</td>\n",
       "    </tr>\n",
       "    <tr>\n",
       "      <th>2</th>\n",
       "      <td>White</td>\n",
       "      <td>Murder</td>\n",
       "      <td>DNA</td>\n",
       "      <td>FC</td>\n",
       "      <td>NaN</td>\n",
       "      <td>NaN</td>\n",
       "      <td>P/FA</td>\n",
       "      <td>OM</td>\n",
       "      <td>NaN</td>\n",
       "    </tr>\n",
       "    <tr>\n",
       "      <th>3</th>\n",
       "      <td>Black</td>\n",
       "      <td>Robbery</td>\n",
       "      <td>NaN</td>\n",
       "      <td>NaN</td>\n",
       "      <td>MWID</td>\n",
       "      <td>NaN</td>\n",
       "      <td>NaN</td>\n",
       "      <td>NaN</td>\n",
       "      <td>NaN</td>\n",
       "    </tr>\n",
       "    <tr>\n",
       "      <th>4</th>\n",
       "      <td>Hispanic</td>\n",
       "      <td>Sex Offender Registration</td>\n",
       "      <td>NaN</td>\n",
       "      <td>NaN</td>\n",
       "      <td>NaN</td>\n",
       "      <td>NaN</td>\n",
       "      <td>NaN</td>\n",
       "      <td>NaN</td>\n",
       "      <td>ILD</td>\n",
       "    </tr>\n",
       "  </tbody>\n",
       "</table>\n",
       "</div>"
      ],
      "text/plain": [
       "       Race        Worst Crime Display  DNA   FC  MWID  F/MFE  P/FA   OM  ILD\n",
       "0     Black            Child Sex Abuse  DNA  NaN  MWID    NaN   NaN  NaN  NaN\n",
       "1     Black             Sexual Assault  DNA  NaN  MWID  F/MFE   NaN   OM  NaN\n",
       "2     White                     Murder  DNA   FC   NaN    NaN  P/FA   OM  NaN\n",
       "3     Black                    Robbery  NaN  NaN  MWID    NaN   NaN  NaN  NaN\n",
       "4  Hispanic  Sex Offender Registration  NaN  NaN   NaN    NaN   NaN  NaN  ILD"
      ]
     },
     "execution_count": 3,
     "metadata": {},
     "output_type": "execute_result"
    }
   ],
   "source": [
    "# Drop rows where race infornation is unknown (either 'Other' or 'Don't Know')\n",
    "df = df[(df['Race'] != \"Don't Know\") & (df['Race'] != 'Other')]\n",
    "\n",
    "df.head()"
   ]
  },
  {
   "cell_type": "markdown",
   "metadata": {},
   "source": [
    "### Renaming Columns\n",
    "Currently, the columns representing reasons for exoneration are denoted using codes (FC, MWID, F/MFE, P/FA, OM, ILD). We give them more meaningful names in order to make it immediately clear what each reason column represents."
   ]
  },
  {
   "cell_type": "code",
   "execution_count": 4,
   "metadata": {},
   "outputs": [
    {
     "data": {
      "text/html": [
       "<div>\n",
       "<style scoped>\n",
       "    .dataframe tbody tr th:only-of-type {\n",
       "        vertical-align: middle;\n",
       "    }\n",
       "\n",
       "    .dataframe tbody tr th {\n",
       "        vertical-align: top;\n",
       "    }\n",
       "\n",
       "    .dataframe thead th {\n",
       "        text-align: right;\n",
       "    }\n",
       "</style>\n",
       "<table border=\"1\" class=\"dataframe\">\n",
       "  <thead>\n",
       "    <tr style=\"text-align: right;\">\n",
       "      <th></th>\n",
       "      <th>Race</th>\n",
       "      <th>Worst Crime Display</th>\n",
       "      <th>DNA</th>\n",
       "      <th>False Confession</th>\n",
       "      <th>Witness Misidentification</th>\n",
       "      <th>False Evidence</th>\n",
       "      <th>Perjury</th>\n",
       "      <th>Official Misconduct</th>\n",
       "      <th>Legal Defense</th>\n",
       "    </tr>\n",
       "  </thead>\n",
       "  <tbody>\n",
       "    <tr>\n",
       "      <th>0</th>\n",
       "      <td>Black</td>\n",
       "      <td>Child Sex Abuse</td>\n",
       "      <td>DNA</td>\n",
       "      <td>NaN</td>\n",
       "      <td>MWID</td>\n",
       "      <td>NaN</td>\n",
       "      <td>NaN</td>\n",
       "      <td>NaN</td>\n",
       "      <td>NaN</td>\n",
       "    </tr>\n",
       "    <tr>\n",
       "      <th>1</th>\n",
       "      <td>Black</td>\n",
       "      <td>Sexual Assault</td>\n",
       "      <td>DNA</td>\n",
       "      <td>NaN</td>\n",
       "      <td>MWID</td>\n",
       "      <td>F/MFE</td>\n",
       "      <td>NaN</td>\n",
       "      <td>OM</td>\n",
       "      <td>NaN</td>\n",
       "    </tr>\n",
       "    <tr>\n",
       "      <th>2</th>\n",
       "      <td>White</td>\n",
       "      <td>Murder</td>\n",
       "      <td>DNA</td>\n",
       "      <td>FC</td>\n",
       "      <td>NaN</td>\n",
       "      <td>NaN</td>\n",
       "      <td>P/FA</td>\n",
       "      <td>OM</td>\n",
       "      <td>NaN</td>\n",
       "    </tr>\n",
       "    <tr>\n",
       "      <th>3</th>\n",
       "      <td>Black</td>\n",
       "      <td>Robbery</td>\n",
       "      <td>NaN</td>\n",
       "      <td>NaN</td>\n",
       "      <td>MWID</td>\n",
       "      <td>NaN</td>\n",
       "      <td>NaN</td>\n",
       "      <td>NaN</td>\n",
       "      <td>NaN</td>\n",
       "    </tr>\n",
       "    <tr>\n",
       "      <th>4</th>\n",
       "      <td>Hispanic</td>\n",
       "      <td>Sex Offender Registration</td>\n",
       "      <td>NaN</td>\n",
       "      <td>NaN</td>\n",
       "      <td>NaN</td>\n",
       "      <td>NaN</td>\n",
       "      <td>NaN</td>\n",
       "      <td>NaN</td>\n",
       "      <td>ILD</td>\n",
       "    </tr>\n",
       "  </tbody>\n",
       "</table>\n",
       "</div>"
      ],
      "text/plain": [
       "       Race        Worst Crime Display  DNA False Confession  \\\n",
       "0     Black            Child Sex Abuse  DNA              NaN   \n",
       "1     Black             Sexual Assault  DNA              NaN   \n",
       "2     White                     Murder  DNA               FC   \n",
       "3     Black                    Robbery  NaN              NaN   \n",
       "4  Hispanic  Sex Offender Registration  NaN              NaN   \n",
       "\n",
       "  Witness Misidentification False Evidence Perjury Official Misconduct  \\\n",
       "0                      MWID            NaN     NaN                 NaN   \n",
       "1                      MWID          F/MFE     NaN                  OM   \n",
       "2                       NaN            NaN    P/FA                  OM   \n",
       "3                      MWID            NaN     NaN                 NaN   \n",
       "4                       NaN            NaN     NaN                 NaN   \n",
       "\n",
       "  Legal Defense  \n",
       "0           NaN  \n",
       "1           NaN  \n",
       "2           NaN  \n",
       "3           NaN  \n",
       "4           ILD  "
      ]
     },
     "execution_count": 4,
     "metadata": {},
     "output_type": "execute_result"
    }
   ],
   "source": [
    "# Rename acronyms with clearer names\n",
    "df = df.rename(columns={\"FC\" : \"False Confession\", \"MWID\": \"Witness Misidentification\", \"F/MFE\": \"False Evidence\",\n",
    "                        \"P/FA\": \"Perjury\", \"OM\": \"Official Misconduct\", \"ILD\": \"Legal Defense\"})\n",
    "\n",
    "df.head()"
   ]
  },
  {
   "cell_type": "markdown",
   "metadata": {},
   "source": [
    "### Standardize Exoneration Reasons\n",
    "For each exoneration reason column, the initial dataset encodes binary values using the reason's code (FC, MWID, F/MFE, P/FA, OM, ILD) if an individual was exonerated for that reason, and a NaN otherwise. To keep the type of these values consistent, we change NaNs to 0s and the code values to 1s. By encoding the reasons as 0s and 1s, we can take the sum of a reason column in order to get the counts of how many exonerees this reason pertains to, along with performing other convenient operations."
   ]
  },
  {
   "cell_type": "code",
   "execution_count": 5,
   "metadata": {},
   "outputs": [
    {
     "data": {
      "text/html": [
       "<div>\n",
       "<style scoped>\n",
       "    .dataframe tbody tr th:only-of-type {\n",
       "        vertical-align: middle;\n",
       "    }\n",
       "\n",
       "    .dataframe tbody tr th {\n",
       "        vertical-align: top;\n",
       "    }\n",
       "\n",
       "    .dataframe thead th {\n",
       "        text-align: right;\n",
       "    }\n",
       "</style>\n",
       "<table border=\"1\" class=\"dataframe\">\n",
       "  <thead>\n",
       "    <tr style=\"text-align: right;\">\n",
       "      <th></th>\n",
       "      <th>Race</th>\n",
       "      <th>Worst Crime Display</th>\n",
       "      <th>DNA</th>\n",
       "      <th>False Confession</th>\n",
       "      <th>Witness Misidentification</th>\n",
       "      <th>False Evidence</th>\n",
       "      <th>Perjury</th>\n",
       "      <th>Official Misconduct</th>\n",
       "      <th>Legal Defense</th>\n",
       "    </tr>\n",
       "  </thead>\n",
       "  <tbody>\n",
       "    <tr>\n",
       "      <th>0</th>\n",
       "      <td>Black</td>\n",
       "      <td>Child Sex Abuse</td>\n",
       "      <td>1</td>\n",
       "      <td>0</td>\n",
       "      <td>1</td>\n",
       "      <td>0</td>\n",
       "      <td>0</td>\n",
       "      <td>0</td>\n",
       "      <td>0</td>\n",
       "    </tr>\n",
       "    <tr>\n",
       "      <th>1</th>\n",
       "      <td>Black</td>\n",
       "      <td>Sexual Assault</td>\n",
       "      <td>1</td>\n",
       "      <td>0</td>\n",
       "      <td>1</td>\n",
       "      <td>1</td>\n",
       "      <td>0</td>\n",
       "      <td>1</td>\n",
       "      <td>0</td>\n",
       "    </tr>\n",
       "    <tr>\n",
       "      <th>2</th>\n",
       "      <td>White</td>\n",
       "      <td>Murder</td>\n",
       "      <td>1</td>\n",
       "      <td>1</td>\n",
       "      <td>0</td>\n",
       "      <td>0</td>\n",
       "      <td>1</td>\n",
       "      <td>1</td>\n",
       "      <td>0</td>\n",
       "    </tr>\n",
       "    <tr>\n",
       "      <th>3</th>\n",
       "      <td>Black</td>\n",
       "      <td>Robbery</td>\n",
       "      <td>0</td>\n",
       "      <td>0</td>\n",
       "      <td>1</td>\n",
       "      <td>0</td>\n",
       "      <td>0</td>\n",
       "      <td>0</td>\n",
       "      <td>0</td>\n",
       "    </tr>\n",
       "    <tr>\n",
       "      <th>4</th>\n",
       "      <td>Hispanic</td>\n",
       "      <td>Sex Offender Registration</td>\n",
       "      <td>0</td>\n",
       "      <td>0</td>\n",
       "      <td>0</td>\n",
       "      <td>0</td>\n",
       "      <td>0</td>\n",
       "      <td>0</td>\n",
       "      <td>1</td>\n",
       "    </tr>\n",
       "  </tbody>\n",
       "</table>\n",
       "</div>"
      ],
      "text/plain": [
       "       Race        Worst Crime Display  DNA  False Confession  \\\n",
       "0     Black            Child Sex Abuse    1                 0   \n",
       "1     Black             Sexual Assault    1                 0   \n",
       "2     White                     Murder    1                 1   \n",
       "3     Black                    Robbery    0                 0   \n",
       "4  Hispanic  Sex Offender Registration    0                 0   \n",
       "\n",
       "   Witness Misidentification  False Evidence  Perjury  Official Misconduct  \\\n",
       "0                          1               0        0                    0   \n",
       "1                          1               1        0                    1   \n",
       "2                          0               0        1                    1   \n",
       "3                          1               0        0                    0   \n",
       "4                          0               0        0                    0   \n",
       "\n",
       "   Legal Defense  \n",
       "0              0  \n",
       "1              0  \n",
       "2              0  \n",
       "3              0  \n",
       "4              1  "
      ]
     },
     "execution_count": 5,
     "metadata": {},
     "output_type": "execute_result"
    }
   ],
   "source": [
    "# Make exoneration reason columns booleans (1 if it was a reason, 0 otherwise replacing NaNs)\n",
    "df.update(df[[\"DNA\", \"False Confession\", \"Witness Misidentification\",\"False Evidence\",\"Perjury\",\n",
    "              \"Official Misconduct\",\"Legal Defense\"]].fillna(0))\n",
    "df = df.replace({\"DNA\": 1,\"FC\" :1,\"MWID\":1, \"F/MFE\": 1, \"P/FA\": 1, \"OM\": 1, \"ILD\": 1})\n",
    "\n",
    "df.head()"
   ]
  },
  {
   "cell_type": "markdown",
   "metadata": {},
   "source": [
    "### Standardize Worst Crime Display\n",
    "Finally, we standardize the 'Worst Crime Display' column, categorizing the large variety of crimes into seven distinct groups: sex crimes, violent crimes, property crimes, consensual crimes, white collar crimes, harrassment crimes, and nonviolent crimes. This helps us make sense of how type of crime might also correlate to reason for exoneration in addition to race."
   ]
  },
  {
   "cell_type": "code",
   "execution_count": 6,
   "metadata": {},
   "outputs": [
    {
     "data": {
      "text/plain": [
       "array(['Child Sex Abuse', 'Sexual Assault', 'Murder', 'Robbery',\n",
       "       'Sex Offender Registration', 'Manslaughter', 'Theft',\n",
       "       'Drug Possession or Sale', 'Menacing', 'Assault',\n",
       "       'Weapon Possession or Sale', 'Kidnapping', 'Bribery',\n",
       "       'Burglary/Unlawful Entry', 'Other Violent Felony',\n",
       "       'Attempted Murder', 'Fraud', 'Arson', 'Child Abuse',\n",
       "       'Attempt, Violent', 'Other Nonviolent Felony',\n",
       "       'Accessory to Murder', 'Tax Evasion/Fraud', 'Other',\n",
       "       'Possession of Stolen Property', 'Perjury', 'Traffic Offense',\n",
       "       'Stalking', 'Threats', 'Other Nonviolent Misdemeanor',\n",
       "       'Destruction of Property', 'Filing a False Report', 'Harassment',\n",
       "       'Supporting Terrorism', 'Military Justice Offense',\n",
       "       'Official Misconduct', 'Other Violent Misdemeanor', 'Solicitation',\n",
       "       'Forgery', 'Immigration', 'Failure to Pay Child Support',\n",
       "       'Conspiracy', 'Dependent Adult Abuse', 'Obstruction of Justice'],\n",
       "      dtype=object)"
      ]
     },
     "execution_count": 6,
     "metadata": {},
     "output_type": "execute_result"
    }
   ],
   "source": [
    "# Examine unique values for 'Worst Crime Display'\n",
    "df['Worst Crime Display'].unique()"
   ]
  },
  {
   "cell_type": "code",
   "execution_count": 7,
   "metadata": {},
   "outputs": [
    {
     "data": {
      "text/plain": [
       "array(['sex crimes', 'violent crimes', 'property crimes',\n",
       "       'consensual crimes', 'harrassment crimes', 'white collar crimes',\n",
       "       'nonviolent crimes'], dtype=object)"
      ]
     },
     "execution_count": 7,
     "metadata": {},
     "output_type": "execute_result"
    }
   ],
   "source": [
    "# function to apply to 'Worst Crime Display' column\n",
    "def standardize_crime(string):\n",
    "    if \"Sex\" in string:\n",
    "        output = 'sex crimes'\n",
    "    elif (string == 'Murder' or string == 'Robbery' or string == 'Manslaughter' or string == 'Assault'\n",
    "        or string == 'Kidnapping' or string == 'Other Violent Felony' or string == 'Attempted Murder'\n",
    "        or string == 'Child Abuse' or string == 'Attempt, Violent' or string == 'Accessory to Murder'\n",
    "        or string == 'Traffic Offense' or string == 'Supporting Terrorism' or string == 'Other Violent Misdemeanor'\n",
    "        or string == 'Dependent Adult Abuse'):\n",
    "        output = 'violent crimes'\n",
    "    elif (string == 'Theft' or string == 'Burglary/Unlawful Entry' or string == 'Arson'\n",
    "         or string == 'Possession of Stolen Property' or string == 'Destruction of Property'):\n",
    "        output = 'property crimes'\n",
    "    elif (string == 'Drug Possession or Sale' or string == 'Weapon Possession or Sale' or string == 'Solicitation'\n",
    "         or string == 'Conspiracy'):\n",
    "        output = 'consensual crimes'\n",
    "    elif (string == 'Bribery' or string == 'Fraud' or string == 'Tax Evasion/Fraud' or string == 'Perjury'\n",
    "         or string == 'Threats' or string == 'Filing a False Report' or string == 'Official Misconduct'\n",
    "         or string == 'Forgery' or string == 'Obstruction of Justice'):\n",
    "        output = 'white collar crimes'\n",
    "    elif (string == 'Stalking' or string == 'Menacing' or string == 'Harrassment'):\n",
    "        output = 'harrassment crimes'\n",
    "    elif (string == 'Immigration' or string == 'Other Nonviolent Felony' or string == 'Other Nonviolent Misdemeanor'\n",
    "         or string == 'Failure to Pay Child Support'):\n",
    "        output = 'nonviolent crimes'\n",
    "    else:\n",
    "        output = ''\n",
    "        \n",
    "    return output\n",
    "\n",
    "# apply the function\n",
    "df['Worst Crime Display'] = df['Worst Crime Display'].apply(standardize_crime)\n",
    "df = df[df['Worst Crime Display'] != '']\n",
    "\n",
    "# Updated unique values for 'Worst Crime Display'\n",
    "df['Worst Crime Display'].unique()"
   ]
  },
  {
   "cell_type": "markdown",
   "metadata": {},
   "source": [
    "### Final Cleaned Dataset"
   ]
  },
  {
   "cell_type": "code",
   "execution_count": 8,
   "metadata": {
    "scrolled": true
   },
   "outputs": [
    {
     "data": {
      "text/html": [
       "<div>\n",
       "<style scoped>\n",
       "    .dataframe tbody tr th:only-of-type {\n",
       "        vertical-align: middle;\n",
       "    }\n",
       "\n",
       "    .dataframe tbody tr th {\n",
       "        vertical-align: top;\n",
       "    }\n",
       "\n",
       "    .dataframe thead th {\n",
       "        text-align: right;\n",
       "    }\n",
       "</style>\n",
       "<table border=\"1\" class=\"dataframe\">\n",
       "  <thead>\n",
       "    <tr style=\"text-align: right;\">\n",
       "      <th></th>\n",
       "      <th>Race</th>\n",
       "      <th>Worst Crime Display</th>\n",
       "      <th>DNA</th>\n",
       "      <th>False Confession</th>\n",
       "      <th>Witness Misidentification</th>\n",
       "      <th>False Evidence</th>\n",
       "      <th>Perjury</th>\n",
       "      <th>Official Misconduct</th>\n",
       "      <th>Legal Defense</th>\n",
       "    </tr>\n",
       "  </thead>\n",
       "  <tbody>\n",
       "    <tr>\n",
       "      <th>0</th>\n",
       "      <td>Black</td>\n",
       "      <td>sex crimes</td>\n",
       "      <td>1</td>\n",
       "      <td>0</td>\n",
       "      <td>1</td>\n",
       "      <td>0</td>\n",
       "      <td>0</td>\n",
       "      <td>0</td>\n",
       "      <td>0</td>\n",
       "    </tr>\n",
       "    <tr>\n",
       "      <th>1</th>\n",
       "      <td>Black</td>\n",
       "      <td>sex crimes</td>\n",
       "      <td>1</td>\n",
       "      <td>0</td>\n",
       "      <td>1</td>\n",
       "      <td>1</td>\n",
       "      <td>0</td>\n",
       "      <td>1</td>\n",
       "      <td>0</td>\n",
       "    </tr>\n",
       "    <tr>\n",
       "      <th>2</th>\n",
       "      <td>White</td>\n",
       "      <td>violent crimes</td>\n",
       "      <td>1</td>\n",
       "      <td>1</td>\n",
       "      <td>0</td>\n",
       "      <td>0</td>\n",
       "      <td>1</td>\n",
       "      <td>1</td>\n",
       "      <td>0</td>\n",
       "    </tr>\n",
       "    <tr>\n",
       "      <th>3</th>\n",
       "      <td>Black</td>\n",
       "      <td>violent crimes</td>\n",
       "      <td>0</td>\n",
       "      <td>0</td>\n",
       "      <td>1</td>\n",
       "      <td>0</td>\n",
       "      <td>0</td>\n",
       "      <td>0</td>\n",
       "      <td>0</td>\n",
       "    </tr>\n",
       "    <tr>\n",
       "      <th>4</th>\n",
       "      <td>Hispanic</td>\n",
       "      <td>sex crimes</td>\n",
       "      <td>0</td>\n",
       "      <td>0</td>\n",
       "      <td>0</td>\n",
       "      <td>0</td>\n",
       "      <td>0</td>\n",
       "      <td>0</td>\n",
       "      <td>1</td>\n",
       "    </tr>\n",
       "  </tbody>\n",
       "</table>\n",
       "</div>"
      ],
      "text/plain": [
       "       Race Worst Crime Display  DNA  False Confession  \\\n",
       "0     Black          sex crimes    1                 0   \n",
       "1     Black          sex crimes    1                 0   \n",
       "2     White      violent crimes    1                 1   \n",
       "3     Black      violent crimes    0                 0   \n",
       "4  Hispanic          sex crimes    0                 0   \n",
       "\n",
       "   Witness Misidentification  False Evidence  Perjury  Official Misconduct  \\\n",
       "0                          1               0        0                    0   \n",
       "1                          1               1        0                    1   \n",
       "2                          0               0        1                    1   \n",
       "3                          1               0        0                    0   \n",
       "4                          0               0        0                    0   \n",
       "\n",
       "   Legal Defense  \n",
       "0              0  \n",
       "1              0  \n",
       "2              0  \n",
       "3              0  \n",
       "4              1  "
      ]
     },
     "execution_count": 8,
     "metadata": {},
     "output_type": "execute_result"
    }
   ],
   "source": [
    "df.head()"
   ]
  },
  {
   "cell_type": "markdown",
   "metadata": {},
   "source": [
    "# Data Analysis & Results"
   ]
  },
  {
   "cell_type": "markdown",
   "metadata": {},
   "source": [
    "## Exploratory Data Analysis"
   ]
  },
  {
   "cell_type": "markdown",
   "metadata": {},
   "source": [
    "### Distribution of Race\n",
    "We first visualize race to understand the distribution of Black, White, Hispanic, Asian, and Native American exonerees in the dataset."
   ]
  },
  {
   "cell_type": "code",
   "execution_count": 9,
   "metadata": {},
   "outputs": [
    {
     "data": {
      "image/png": "[encoded data removed]",
      "text/plain": [
       "<Figure size 432x288 with 1 Axes>"
      ]
     },
     "metadata": {
      "needs_background": "light"
     },
     "output_type": "display_data"
    }
   ],
   "source": [
    "# Plot the distribution of race in our data set\n",
    "ax = sns.histplot(df['Race'], kde=False)\n",
    "ax.set_title('Distribution of Race')\n",
    "plt.show()"
   ]
  },
  {
   "cell_type": "markdown",
   "metadata": {},
   "source": [
    "From this distribution, we can see that the majority of the data comes from exonerations involving Black (\\~1350) or White (\\~1000) individuals. Hispanic individuals represent about 300 observations and Asians and Native Americans have < 200 observations."
   ]
  },
  {
   "cell_type": "markdown",
   "metadata": {},
   "source": [
    "### Exoneration Reason Counts\n",
    "For exoneration reasons __(DNA, False Confession, Witness Misidentification, False Evidence, Perjury, Official Misconduct, Legal Defense)__, we look at the total counts of individuals that were and were not exonerated for each reason. In the following count plots, 0 indicates that an exoneree was not exonerated for the corresponding reason, while a 1 indicates that they were exonerated for this reason."
   ]
  },
  {
   "cell_type": "code",
   "execution_count": 10,
   "metadata": {},
   "outputs": [
    {
     "data": {
      "image/png": "[encoded data removed]",
      "text/plain": [
       "<Figure size 1080x864 with 9 Axes>"
      ]
     },
     "metadata": {
      "needs_background": "light"
     },
     "output_type": "display_data"
    }
   ],
   "source": [
    "# Plot the distributions of the reasons for exoneration\n",
    "fig, ax = plt.subplots(3,3, figsize=(15,12))\n",
    "plt.subplots_adjust(hspace=0.3, wspace=0.3)\n",
    "\n",
    "# Each reason\n",
    "sns.countplot(x='DNA', data=df, ax=ax[0][0])\n",
    "sns.countplot(x='False Confession', data=df, ax=ax[0][1])\n",
    "sns.countplot(x='Witness Misidentification', data=df, ax=ax[0][2])\n",
    "sns.countplot(x='False Evidence', data=df, ax=ax[1][0])\n",
    "sns.countplot(x='Perjury', data=df, ax=ax[1][1])\n",
    "sns.countplot(x='Official Misconduct', data=df, ax=ax[1][2])\n",
    "sns.countplot(x='Legal Defense', data=df, ax=ax[2][0])\n",
    "\n",
    "ax[2, 1].axis('off')\n",
    "ax[2, 2].axis('off');"
   ]
  },
  {
   "cell_type": "markdown",
   "metadata": {},
   "source": [
    "From plotting each of the reasons for wrongful convictions, we are able to see that fewer cases involve DNA and False Confession.\n",
    "About 750 cases involve inadequate Legal Defense, Witness Misidentifiction, and False Evidence.\n",
    "A majority of the cases cite Official misconduct and perjury as reasons for wrongful conviction."
   ]
  },
  {
   "cell_type": "markdown",
   "metadata": {},
   "source": [
    "### Race Distribution for Each Exoneration Reason\n",
    "To begin understanding the relationship between race and reason, we visualize the proportion of each race exonerated for a given reason (out of the total number of exonerees of that race since we saw earlier that the distribution of races is not uniform). We will consider this for all 7 reasons for exoneration."
   ]
  },
  {
   "cell_type": "code",
   "execution_count": 11,
   "metadata": {},
   "outputs": [],
   "source": [
    "# function to plot proportion of each race exonerated for a given reason\n",
    "def plot_race_by_reason(reason):\n",
    "    proportions = (df.groupby(['Race']))[reason].value_counts(normalize=True).rename('proportion').reset_index()\n",
    "    proportions = proportions[proportions[reason] == 1]\n",
    "    proportions\n",
    "    ax = sns.barplot(x='Race', y='proportion', data=proportions)\n",
    "    ax.set_title(reason)\n",
    "    return ax"
   ]
  },
  {
   "cell_type": "code",
   "execution_count": 12,
   "metadata": {},
   "outputs": [
    {
     "data": {
      "image/png": "[encoded data removed]",
      "text/plain": [
       "<Figure size 1080x1440 with 7 Axes>"
      ]
     },
     "metadata": {
      "needs_background": "light"
     },
     "output_type": "display_data"
    }
   ],
   "source": [
    "plt.figure(figsize=(15, 20))\n",
    "plt.subplots_adjust(hspace=0.3, wspace=0.3)\n",
    "\n",
    "reasons = ['DNA', 'False Confession', 'Witness Misidentification', 'False Evidence', 'Perjury',\n",
    "           'Official Misconduct', 'Legal Defense']\n",
    "\n",
    "# plot for each reason\n",
    "for i in range(len(reasons)):\n",
    "    plt.subplot(4, 2, i + 1)\n",
    "    plot_race_by_reason(reasons[i])"
   ]
  },
  {
   "cell_type": "markdown",
   "metadata": {},
   "source": [
    "From the barplots, we observe some noticeable variations in race distribution for each reason. For example, Native Americans are particularly high for False Confession, while Whites and Asians are quite low for Witness Misidentification."
   ]
  },
  {
   "cell_type": "markdown",
   "metadata": {},
   "source": [
    "### Exoneration Reason Distribution for Each Race\n",
    "To further our understanding about the relationship between reason for exoneration and race, we look at the exoneration reason breakdown for each race individually. Since we used 0s and 1s to encode the values in the reason columns, we can take the sum of a reason column to get its count."
   ]
  },
  {
   "cell_type": "code",
   "execution_count": 13,
   "metadata": {},
   "outputs": [],
   "source": [
    "# function to plot the distribution of reasons within a specified race\n",
    "def plot_reasons_by_race(race):\n",
    "    df_race = df[df['Race'] == race]\n",
    "    ax = sns.barplot(y=['Perjury', 'Legal Defense', 'DNA', 'Witness Misidentification',\n",
    "                    'False Confession', 'False Evidence', 'Official Misconduct'],\n",
    "                x=[df_race['Perjury'].sum(), df_race['Legal Defense'].sum(), df_race['DNA'].sum(),\n",
    "                   df_race['Witness Misidentification'].sum(), df_race['False Confession'].sum(),\n",
    "                   df_race['False Evidence'].sum(), df_race['Official Misconduct'].sum()])\n",
    "    ax.set_title('{f_race} exonerees'.format(f_race = race))\n",
    "    ax.set_xlabel('Count');\n",
    "    return ax"
   ]
  },
  {
   "cell_type": "code",
   "execution_count": 14,
   "metadata": {},
   "outputs": [
    {
     "data": {
      "image/png": "[encoded data removed]",
      "text/plain": [
       "<Figure size 1080x1440 with 5 Axes>"
      ]
     },
     "metadata": {
      "needs_background": "light"
     },
     "output_type": "display_data"
    }
   ],
   "source": [
    "plt.figure(figsize=(15, 20))\n",
    "plt.subplots_adjust(hspace=0.3, wspace=0.5)\n",
    "\n",
    "races = df['Race'].unique()\n",
    "\n",
    "# plot for each race\n",
    "for i in range(len(races)):\n",
    "    plt.subplot(3, 2, i + 1)\n",
    "    plot_reasons_by_race(races[i])"
   ]
  },
  {
   "cell_type": "markdown",
   "metadata": {},
   "source": [
    "When looking at the distribution of reason for exoneration by race, perjury and official misconduct are consistently the top two reasons among all races. For 3 of the races (Black, Hispanic, Native American) witness misidentification is the 3rd highest reason for exoneration, while among Asians and Whites it is the 2nd lowest reason for exoneration."
   ]
  },
  {
   "cell_type": "markdown",
   "metadata": {},
   "source": [
    "## Inferential Analysis"
   ]
  },
  {
   "cell_type": "markdown",
   "metadata": {},
   "source": [
    "### Chi-Square Independence Test\n",
    "To determine whether there is a relationship between exoneree race and reason for exoneration, we will perform a Chi-Square Test of Independence since this test is ideal for determining whether two categorical variables are correlated. Since the encoding across reasons is not one-hot (i.e. some individuals were exonerated for more than 1 distinct reason), we will perform a separate Chi-Square test for each reason: **DNA, False Confession, Witness Misidentification, False Evidence, Perjury, Official Misconduct, and Legal Defense.**"
   ]
  },
  {
   "cell_type": "markdown",
   "metadata": {},
   "source": [
    "### Conditions\n",
    "In order to conduct a Chi-Square Test, we must satisfy the following conditions:\n",
    "- Two categorical variables – *Race and Reason* ✓\n",
    "- Two or more categories for each variable ✓\n",
    "  - *Race: White, Black, Hispanic, Asian, Native American*\n",
    "  - *Reason: 1, 0*\n",
    "- Independence of observations – *each observation is a distinct exoneree* ✓\n",
    "- Majority (80%) of expected frequencies are at least 5 – to be determined individually for each test"
   ]
  },
  {
   "cell_type": "code",
   "execution_count": 15,
   "metadata": {},
   "outputs": [],
   "source": [
    "# array to hold chi square test statistic for each test\n",
    "X2_s = []\n",
    "\n",
    "# dictionaries to hold observed/expected counts for each test\n",
    "observed_counts = {}\n",
    "expected_counts = {}"
   ]
  },
  {
   "cell_type": "markdown",
   "metadata": {},
   "source": [
    "### Independence of Race and DNA\n",
    "#### Hypotheses\n",
    "*H*<sub>0</sub>: Race and exoneration due to DNA evidence are independent amongst American exonerees.  \n",
    "*H*<sub>a</sub>: There is a correlation between race and exoneration due to DNA evidence amongst American exonerees.  \n",
    "We will be using $\\alpha$ = 0.05 for a 95% level of confidence."
   ]
  },
  {
   "cell_type": "code",
   "execution_count": 16,
   "metadata": {},
   "outputs": [
    {
     "data": {
      "image/png": "[encoded data removed]",
      "text/plain": [
       "<Figure size 432x288 with 2 Axes>"
      ]
     },
     "metadata": {
      "needs_background": "light"
     },
     "output_type": "display_data"
    }
   ],
   "source": [
    "# get observed frequencies\n",
    "contingency = pd.crosstab(df['Race'], df['DNA'])\n",
    "ax = sns.heatmap(contingency, annot=True, cmap=\"YlGnBu\")\n",
    "ax.set_title('Exonerees');"
   ]
  },
  {
   "cell_type": "markdown",
   "metadata": {},
   "source": [
    "This heatmap depicts the contingency table for Race and exoneration due to DNA evidence. It allows us to compare the observed counts of exonerees that were and were not exonerated because of DNA evidence for each race."
   ]
  },
  {
   "cell_type": "code",
   "execution_count": 17,
   "metadata": {},
   "outputs": [
    {
     "name": "stdout",
     "output_type": "stream",
     "text": [
      "Expected frequencies:\n",
      " [[  23.36287381    5.63712619]\n",
      " [1106.91684902  267.08315098]\n",
      " [ 259.40846098   62.59153902]\n",
      " [  14.50109409    3.49890591]\n",
      " [ 804.8107221   194.1892779 ]]\n",
      "\n",
      "test statistic:  25.79795740798864 \n",
      "\n",
      "p-value:  3.475582614735935e-05\n",
      "\n",
      "p-value < alpha =  True\n"
     ]
    }
   ],
   "source": [
    "# perform chi-square test\n",
    "c, p, dof, expected = chi2_contingency(contingency)\n",
    "\n",
    "X2_s.append(['DNA', c])\n",
    "observed_counts['DNA'] = contingency\n",
    "expected_counts['DNA'] = expected\n",
    "\n",
    "# results\n",
    "print('Expected frequencies:\\n', expected)\n",
    "print('\\ntest statistic: ', c, '\\n\\np-value: ', p)\n",
    "print('\\np-value < alpha = ', p < 0.05)"
   ]
  },
  {
   "cell_type": "markdown",
   "metadata": {},
   "source": [
    "The majority of the expected frequencies are at least 5, so the large sample size condition is satisfied for this test. ✓\n",
    "#### Conclusion\n",
    "Since 3.475582614735935e-05 < 0.05, we **reject** the null hypothesis at a 95% level of confidence and conclude that race and exoneration due to DNA evidence are correlated variables within our dataset."
   ]
  },
  {
   "cell_type": "markdown",
   "metadata": {},
   "source": [
    "### Independence of Race and False Confession\n",
    "#### Hypotheses\n",
    "*H*<sub>0</sub>: Race and exoneration due to false confession are independent among American exonerees.  \n",
    "*H*<sub>a</sub>: There is a correlation between race and exoneration due to false confession among American exonerees.  \n",
    "We will be using $\\alpha$ = 0.05 for a 95% level of confidence."
   ]
  },
  {
   "cell_type": "code",
   "execution_count": 18,
   "metadata": {},
   "outputs": [
    {
     "data": {
      "image/png": "[encoded data removed]",
      "text/plain": [
       "<Figure size 432x288 with 2 Axes>"
      ]
     },
     "metadata": {
      "needs_background": "light"
     },
     "output_type": "display_data"
    }
   ],
   "source": [
    "# get observed frequencies\n",
    "contingency = pd.crosstab(df['Race'], df['False Confession'])\n",
    "ax = sns.heatmap(contingency, annot=True, cmap=\"YlGnBu\")\n",
    "ax.set_title('Exonerees');"
   ]
  },
  {
   "cell_type": "markdown",
   "metadata": {},
   "source": [
    "This heatmap depicts the contingency table for Race and exoneration due to False Confession. It allows us to compare the observed counts of exonerees that were and were not exonerated because of False Confession for each race."
   ]
  },
  {
   "cell_type": "code",
   "execution_count": 19,
   "metadata": {},
   "outputs": [
    {
     "name": "stdout",
     "output_type": "stream",
     "text": [
      "Expected frequencies:\n",
      " [[  25.48869438    3.51130562]\n",
      " [1207.63676149  166.36323851]\n",
      " [ 283.01239971   38.98760029]\n",
      " [  15.82056893    2.17943107]\n",
      " [ 878.04157549  120.95842451]]\n",
      "\n",
      "test statistic:  5.322326048442201 \n",
      "\n",
      "p-value:  0.2557941751762767\n",
      "\n",
      "p-value < alpha =  False\n"
     ]
    }
   ],
   "source": [
    "# perform chi-square test\n",
    "c, p, dof, expected = chi2_contingency(contingency)\n",
    "\n",
    "X2_s.append(['False Confession', c])\n",
    "observed_counts['False Confession'] = contingency\n",
    "expected_counts['False Confession'] = expected\n",
    "\n",
    "# results\n",
    "print('Expected frequencies:\\n', expected)\n",
    "print('\\ntest statistic: ', c, '\\n\\np-value: ', p)\n",
    "print('\\np-value < alpha = ', p < 0.05)"
   ]
  },
  {
   "cell_type": "markdown",
   "metadata": {},
   "source": [
    "The majority of the expected frequencies are at least 5, so the large sample size condition is satisfied for this test. ✓\n",
    "#### Conclusion\n",
    "Since 0.2557941751762767 ≥ 0.05, we **do not reject** the null hypothesis at a 95% level of confidence and conclude that race and exoneration due to false confession are independent variables within our dataset."
   ]
  },
  {
   "cell_type": "markdown",
   "metadata": {},
   "source": [
    "### Independence of Race and Witness Misidentification\n",
    "#### Hypotheses\n",
    "*H*<sub>0</sub>: Race and exoneration due to witness misidentification are independent amongst American exonerees.  \n",
    "*H*<sub>a</sub>: There is a correlation between race and exoneration due to witness misidentification amongst American exonerees.  \n",
    "We will be using $\\alpha$ = 0.05 for a 95% level of confidence."
   ]
  },
  {
   "cell_type": "code",
   "execution_count": 20,
   "metadata": {},
   "outputs": [
    {
     "data": {
      "image/png": "[encoded data removed]",
      "text/plain": [
       "<Figure size 432x288 with 2 Axes>"
      ]
     },
     "metadata": {
      "needs_background": "light"
     },
     "output_type": "display_data"
    }
   ],
   "source": [
    "# get observed frequencies\n",
    "contingency = pd.crosstab(df['Race'], df['Witness Misidentification'])\n",
    "ax = sns.heatmap(contingency, annot=True, cmap=\"YlGnBu\")\n",
    "ax.set_title('Exonerees');"
   ]
  },
  {
   "cell_type": "markdown",
   "metadata": {},
   "source": [
    "This heatmap depicts the contingency table for Race and exoneration due to Witness Misidentification. It allows us to compare the observed counts of exonerees that were and were not exonerated because of Witness Misidentification for each race."
   ]
  },
  {
   "cell_type": "code",
   "execution_count": 21,
   "metadata": {},
   "outputs": [
    {
     "name": "stdout",
     "output_type": "stream",
     "text": [
      "Expected frequencies:\n",
      " [[ 20.77169949   8.22830051]\n",
      " [984.1487965  389.8512035 ]\n",
      " [230.63749088  91.36250912]\n",
      " [ 12.89277899   5.10722101]\n",
      " [715.54923414 283.45076586]]\n",
      "\n",
      "test statistic:  137.17710552632744 \n",
      "\n",
      "p-value:  1.1347699267649928e-28\n",
      "\n",
      "p-value < alpha =  True\n"
     ]
    }
   ],
   "source": [
    "# perform chi-square test\n",
    "c, p, dof, expected = chi2_contingency(contingency)\n",
    "\n",
    "X2_s.append(['Witness Misidentification', c])\n",
    "observed_counts['Witness Misidentification'] = contingency\n",
    "expected_counts['Witness Misidentification'] = expected\n",
    "\n",
    "# results\n",
    "print('Expected frequencies:\\n', expected)\n",
    "print('\\ntest statistic: ', c, '\\n\\np-value: ', p)\n",
    "print('\\np-value < alpha = ', p < 0.05)"
   ]
  },
  {
   "cell_type": "markdown",
   "metadata": {},
   "source": [
    "The majority of the expected frequencies are at least 5, so the large sample size condition is satisfied for this test. ✓\n",
    "#### Conclusion\n",
    "Since 1.1347699267649928e-28 < 0.05, we **reject** the null hypothesis at a 95% level of confidence and conclude that race and exoneration due to witness misidentification are correlated variables within our dataset."
   ]
  },
  {
   "cell_type": "markdown",
   "metadata": {},
   "source": [
    "### Independence of Race and False Evidence\n",
    "#### Hypotheses\n",
    "*H*<sub>0</sub>: Race and exoneration due to false evidence are independent amongst American exonerees.  \n",
    "*H*<sub>a</sub>: There is a correlation between race and exoneration due to false evidence amongst American exonerees.  \n",
    "We will be using $\\alpha$ = 0.05 for a 95% level of confidence."
   ]
  },
  {
   "cell_type": "code",
   "execution_count": 22,
   "metadata": {},
   "outputs": [
    {
     "data": {
      "image/png": "[encoded data removed]",
      "text/plain": [
       "<Figure size 432x288 with 2 Axes>"
      ]
     },
     "metadata": {
      "needs_background": "light"
     },
     "output_type": "display_data"
    }
   ],
   "source": [
    "# get observed frequencies\n",
    "contingency = pd.crosstab(df['Race'], df['False Evidence'])\n",
    "ax = sns.heatmap(contingency, annot=True, cmap=\"YlGnBu\")\n",
    "ax.set_title('Exonerees');"
   ]
  },
  {
   "cell_type": "markdown",
   "metadata": {},
   "source": [
    "This heatmap depicts the contingency table for Race and exoneration due to False Evidence. It allows us to compare the observed counts of exonerees that were and were not exonerated because of False Evidence for each race."
   ]
  },
  {
   "cell_type": "code",
   "execution_count": 23,
   "metadata": {},
   "outputs": [
    {
     "name": "stdout",
     "output_type": "stream",
     "text": [
      "Expected frequencies:\n",
      " [[  21.95623632    7.04376368]\n",
      " [1040.27133479  333.72866521]\n",
      " [ 243.78993435   78.21006565]\n",
      " [  13.62800875    4.37199125]\n",
      " [ 756.35448578  242.64551422]]\n",
      "\n",
      "test statistic:  33.092169997107874 \n",
      "\n",
      "p-value:  1.1436860316498327e-06\n",
      "\n",
      "p-value < alpha =  True\n"
     ]
    }
   ],
   "source": [
    "# perform chi-square test\n",
    "c, p, dof, expected = chi2_contingency(contingency)\n",
    "\n",
    "X2_s.append(['False Evidence', c])\n",
    "observed_counts['False Evidence'] = contingency\n",
    "expected_counts['False Evidence'] = expected\n",
    "\n",
    "# results\n",
    "print('Expected frequencies:\\n', expected)\n",
    "print('\\ntest statistic: ', c, '\\n\\np-value: ', p)\n",
    "print('\\np-value < alpha = ', p < 0.05)"
   ]
  },
  {
   "cell_type": "markdown",
   "metadata": {},
   "source": [
    "The majority of the expected frequencies are at least 5, so the large sample size condition is satisfied for this test. ✓\n",
    "#### Conclusion\n",
    "Since 1.1436860316498327e-06 < 0.05, we **reject** the null hypothesis at a 95% level of confidence and conclude that race and exoneration due to false evidence are correlated variables within our dataset."
   ]
  },
  {
   "cell_type": "markdown",
   "metadata": {},
   "source": [
    "### Independence of Race and Perjury\n",
    "#### Hypotheses\n",
    "*H*<sub>0</sub>: Race and exoneration due to perjury are independent amongst American exonerees.  \n",
    "*H*<sub>a</sub>: There is a correlation between race and exoneration due to perjury amongst American exonerees.  \n",
    "We will be using $\\alpha$ = 0.05 for a 95% level of confidence."
   ]
  },
  {
   "cell_type": "code",
   "execution_count": 24,
   "metadata": {},
   "outputs": [
    {
     "data": {
      "image/png": "[encoded data removed]",
      "text/plain": [
       "<Figure size 432x288 with 2 Axes>"
      ]
     },
     "metadata": {
      "needs_background": "light"
     },
     "output_type": "display_data"
    }
   ],
   "source": [
    "# get observed frequencies\n",
    "contingency = pd.crosstab(df['Race'], df['Perjury'])\n",
    "ax = sns.heatmap(contingency, annot=True, cmap=\"YlGnBu\")\n",
    "ax.set_title('Exonerees');"
   ]
  },
  {
   "cell_type": "markdown",
   "metadata": {},
   "source": [
    "This heatmap depicts the contingency table for Race and exoneration due to Perjury. It allows us to compare the observed counts of exonerees that were and were not exonerated because of Perjury for each race."
   ]
  },
  {
   "cell_type": "code",
   "execution_count": 25,
   "metadata": {},
   "outputs": [
    {
     "name": "stdout",
     "output_type": "stream",
     "text": [
      "Expected frequencies:\n",
      " [[ 11.57038658  17.42961342]\n",
      " [548.19693654 825.80306346]\n",
      " [128.47118891 193.52881109]\n",
      " [  7.18161926  10.81838074]\n",
      " [398.57986871 600.42013129]]\n",
      "\n",
      "test statistic:  4.417100457204157 \n",
      "\n",
      "p-value:  0.3524907015493141\n",
      "\n",
      "p-value < alpha =  False\n"
     ]
    }
   ],
   "source": [
    "# perform chi-square test\n",
    "c, p, dof, expected = chi2_contingency(contingency)\n",
    "\n",
    "X2_s.append(['Perjury', c])\n",
    "observed_counts['Perjury'] = contingency\n",
    "expected_counts['Perjury'] = expected\n",
    "\n",
    "# results\n",
    "print('Expected frequencies:\\n', expected)\n",
    "print('\\ntest statistic: ', c, '\\n\\np-value: ', p)\n",
    "print('\\np-value < alpha = ', p < 0.05)"
   ]
  },
  {
   "cell_type": "markdown",
   "metadata": {},
   "source": [
    "The majority of the expected frequencies are at least 5, so the large sample size condition is satisfied for this test. ✓\n",
    "#### Conclusion\n",
    "Since 0.3524907015493141 ≥ 0.05, we **fail to reject** the null hypothesis at a 95% level of confidence and conclude that race and exoneration due to false evidence are independent variables within our dataset."
   ]
  },
  {
   "cell_type": "markdown",
   "metadata": {},
   "source": [
    "### Independence of Race and Official Misconduct\n",
    "#### Hypotheses\n",
    "*H*<sub>0</sub>: Race and exoneration due to official misconduct are independent amongst American exonerees.  \n",
    "*H*<sub>a</sub>: There is a correlation between race and exoneration due to official misconduct amongst American exonerees.  \n",
    "We will be using $\\alpha$ = 0.05 for a 95% level of confidence."
   ]
  },
  {
   "cell_type": "code",
   "execution_count": 26,
   "metadata": {
    "scrolled": true
   },
   "outputs": [
    {
     "data": {
      "image/png": "[encoded data removed]",
      "text/plain": [
       "<Figure size 432x288 with 2 Axes>"
      ]
     },
     "metadata": {
      "needs_background": "light"
     },
     "output_type": "display_data"
    }
   ],
   "source": [
    "# get observed frequencies\n",
    "contingency = pd.crosstab(df['Race'], df['Official Misconduct'])\n",
    "ax = sns.heatmap(contingency, annot=True, cmap=\"YlGnBu\")\n",
    "ax.set_title('Exonerees');"
   ]
  },
  {
   "cell_type": "markdown",
   "metadata": {},
   "source": [
    "This heatmap depicts the contingency table for Race and exoneration due to Official Misconduct. It allows us to compare the observed counts of exonerees that were and were not exonerated because of Official Misconduct for each race."
   ]
  },
  {
   "cell_type": "code",
   "execution_count": 27,
   "metadata": {},
   "outputs": [
    {
     "name": "stdout",
     "output_type": "stream",
     "text": [
      "Expected frequencies:\n",
      " [[ 13.01932896  15.98067104]\n",
      " [616.84682713 757.15317287]\n",
      " [144.55944566 177.44055434]\n",
      " [  8.0809628    9.9190372 ]\n",
      " [448.49343545 550.50656455]]\n",
      "\n",
      "test statistic:  13.591648400204953 \n",
      "\n",
      "p-value:  0.008719128674316946\n",
      "\n",
      "p-value < alpha =  True\n"
     ]
    }
   ],
   "source": [
    "# perform chi-square test\n",
    "c, p, dof, expected = chi2_contingency(contingency)\n",
    "\n",
    "X2_s.append(['Official Misconduct', c])\n",
    "observed_counts['Official Misconduct'] = contingency\n",
    "expected_counts['Official Misconduct'] = expected\n",
    "\n",
    "# results\n",
    "print('Expected frequencies:\\n', expected)\n",
    "print('\\ntest statistic: ', c, '\\n\\np-value: ', p)\n",
    "print('\\np-value < alpha = ', p < 0.05)"
   ]
  },
  {
   "cell_type": "markdown",
   "metadata": {},
   "source": [
    "The majority of the expected frequencies are at least 5, so the large sample size condition is satisfied for this test. ✓\n",
    "#### Conclusion\n",
    "Since 0.008719128674316946 < 0.05, we **reject** the null hypothesis at a 95% level of confidence and conclude that race and exoneration due to official misconduct are correlated variables within our dataset."
   ]
  },
  {
   "cell_type": "markdown",
   "metadata": {},
   "source": [
    "### Independence of Race and Legal Defense\n",
    "#### Hypotheses\n",
    "*H*<sub>0</sub>: Race and exoneration due to legal defense are independent amongst American exonerees.  \n",
    "*H*<sub>a</sub>: There is a correlation between race and exoneration due to legal defense amongst American exonerees.  \n",
    "We will be using $\\alpha$ = 0.05 for a 95% level of confidence."
   ]
  },
  {
   "cell_type": "code",
   "execution_count": 28,
   "metadata": {},
   "outputs": [
    {
     "data": {
      "image/png": "[encoded data removed]",
      "text/plain": [
       "<Figure size 432x288 with 2 Axes>"
      ]
     },
     "metadata": {
      "needs_background": "light"
     },
     "output_type": "display_data"
    }
   ],
   "source": [
    "# get observed frequencies\n",
    "contingency = pd.crosstab(df['Race'], df['Legal Defense'])\n",
    "ax = sns.heatmap(contingency, annot=True, cmap=\"YlGnBu\")\n",
    "ax.set_title('Exonerees');"
   ]
  },
  {
   "cell_type": "markdown",
   "metadata": {},
   "source": [
    "This heatmap depicts the contingency table for Race and exoneration due to Legal Defense. It allows us to compare the observed counts of exonerees that were and were not exonerated because of Legal Defense for each race."
   ]
  },
  {
   "cell_type": "code",
   "execution_count": 29,
   "metadata": {},
   "outputs": [
    {
     "name": "stdout",
     "output_type": "stream",
     "text": [
      "Expected frequencies:\n",
      " [[ 21.0678337    7.9321663 ]\n",
      " [998.17943107 375.82056893]\n",
      " [233.92560175  88.07439825]\n",
      " [ 13.07658643   4.92341357]\n",
      " [725.75054705 273.24945295]]\n",
      "\n",
      "test statistic:  5.023334945071609 \n",
      "\n",
      "p-value:  0.28491155378791955\n",
      "\n",
      "p-value < alpha =  False\n"
     ]
    }
   ],
   "source": [
    "# perform chi-square test\n",
    "c, p, dof, expected = chi2_contingency(contingency)\n",
    "\n",
    "X2_s.append(['Legal Defense', c])\n",
    "observed_counts['Legal Defense'] = contingency\n",
    "expected_counts['Legal Defense'] = expected\n",
    "\n",
    "# results\n",
    "print('Expected frequencies:\\n', expected)\n",
    "print('\\ntest statistic: ', c, '\\n\\np-value: ', p)\n",
    "print('\\np-value < alpha = ', p < 0.05)"
   ]
  },
  {
   "cell_type": "markdown",
   "metadata": {},
   "source": [
    "The majority of the expected frequencies are at least 5, so the large sample size condition is satisfied for this test. ✓\n",
    "#### Conclusion\n",
    "Since 0.28491155378791955 ≥ 0.05, we **fail to reject** the null hypothesis at a 95% level of confidence and conclude that race and exoneration due to legal defense are independent variables within our dataset."
   ]
  },
  {
   "cell_type": "markdown",
   "metadata": {},
   "source": [
    "### Chi-Square Results\n",
    "After performing the Chi-Square Test for each exoneration reason, we reject our null hypothesis for DNA evidence, witness misidentification, false evidence, and official misconduct while we fail to reject the null hypothesis for false confession, perjury, and legal defense. We conclude that **DNA evidence, witness misidentification, false evidence, and official misconduct are not independent from race**, suggesting that certain races might be more likely to be exonerated for these reasons. Although we have found evidence of a relationship between race and these variables, the Chi-Square Test statistic does not tell us the nature of that relationship."
   ]
  },
  {
   "cell_type": "markdown",
   "metadata": {},
   "source": [
    "### Cramer’s V – Validating Our Results\n",
    "Often times, Chi-Square Tests yield **statistically significant** p-values due to large sample size rather than an actual association between variables. Since our cleaned dataset has 2742 observations, we take the extra precaution of calculating the Cramer's V coefficient for each $X^2$ test statistic, to validate that our results are **substantively significant**.\n",
    "\n",
    "The Cramer's V coefficient $V$ is given by:\n",
    "\n",
    "$V = \\sqrt{\\frac{X^2}{n(q-1)}}$\n",
    "\n",
    "where:\n",
    "\n",
    "$n = $ number of observations\n",
    "\n",
    "$q = $ min(# columns in contigency table, # rows in contingency table)\n",
    "\n",
    "And $V ≥ 0.1$ indicates a substantive relationship between two variables"
   ]
  },
  {
   "cell_type": "code",
   "execution_count": 30,
   "metadata": {},
   "outputs": [
    {
     "name": "stdout",
     "output_type": "stream",
     "text": [
      "Cramer's V Coefficients:\n",
      "V = 0.09699714142281292 (DNA)\n",
      "V = 0.04405721219262595 (False Confession)\n",
      "V = 0.22366966753979473 (Witness Misidentification)\n",
      "V = 0.1098572942053443 (False Evidence)\n",
      "V = 0.040136076241309354 (Perjury)\n",
      "V = 0.07040481156112353 (Official Misconduct)\n",
      "V = 0.042801830541368824 (Legal Defense)\n"
     ]
    }
   ],
   "source": [
    "n = df.shape[0]\n",
    "q = 2\n",
    "\n",
    "print('Cramer\\'s V Coefficients:')\n",
    "\n",
    "# calculate Cramer's V using each chi square test statistic\n",
    "for X2 in X2_s:\n",
    "    print('V =', np.sqrt(X2[1] / (n * (q - 1))), f'({X2[0]})')"
   ]
  },
  {
   "cell_type": "markdown",
   "metadata": {},
   "source": [
    "### Cramer's V Results\n",
    "From the Cramer's V results we can see the strength of the association between race and each exoneration reason. Based on our threshold of 0.1, the Cramer's V coefficient suggests there is a **substantive relationship** between both **Witness Misidentification and Race** and **False Evidence and Race**, even after accounting for sensitivities resulting from large sample size.\n",
    "\n",
    "### A Closer Look at Witness Misidentification and False Evidence\n",
    "Now that we've determined there is a substantive correlation between race and both witness misidentification and false evidence, we can review the observed and expected counts for these variables."
   ]
  },
  {
   "cell_type": "markdown",
   "metadata": {},
   "source": [
    "#### Witness Misidentification: Expected vs. Observed"
   ]
  },
  {
   "cell_type": "code",
   "execution_count": 31,
   "metadata": {},
   "outputs": [
    {
     "name": "stdout",
     "output_type": "stream",
     "text": [
      "Expected Counts for Witness Misidentification:\n"
     ]
    },
    {
     "data": {
      "text/html": [
       "<div>\n",
       "<style scoped>\n",
       "    .dataframe tbody tr th:only-of-type {\n",
       "        vertical-align: middle;\n",
       "    }\n",
       "\n",
       "    .dataframe tbody tr th {\n",
       "        vertical-align: top;\n",
       "    }\n",
       "\n",
       "    .dataframe thead th {\n",
       "        text-align: right;\n",
       "    }\n",
       "</style>\n",
       "<table border=\"1\" class=\"dataframe\">\n",
       "  <thead>\n",
       "    <tr style=\"text-align: right;\">\n",
       "      <th></th>\n",
       "      <th>0</th>\n",
       "      <th>1</th>\n",
       "    </tr>\n",
       "  </thead>\n",
       "  <tbody>\n",
       "    <tr>\n",
       "      <th>Asian</th>\n",
       "      <td>20.771699</td>\n",
       "      <td>8.228301</td>\n",
       "    </tr>\n",
       "    <tr>\n",
       "      <th>Black</th>\n",
       "      <td>984.148796</td>\n",
       "      <td>389.851204</td>\n",
       "    </tr>\n",
       "    <tr>\n",
       "      <th>Hispanic</th>\n",
       "      <td>230.637491</td>\n",
       "      <td>91.362509</td>\n",
       "    </tr>\n",
       "    <tr>\n",
       "      <th>Native American</th>\n",
       "      <td>12.892779</td>\n",
       "      <td>5.107221</td>\n",
       "    </tr>\n",
       "    <tr>\n",
       "      <th>White</th>\n",
       "      <td>715.549234</td>\n",
       "      <td>283.450766</td>\n",
       "    </tr>\n",
       "  </tbody>\n",
       "</table>\n",
       "</div>"
      ],
      "text/plain": [
       "                          0           1\n",
       "Asian             20.771699    8.228301\n",
       "Black            984.148796  389.851204\n",
       "Hispanic         230.637491   91.362509\n",
       "Native American   12.892779    5.107221\n",
       "White            715.549234  283.450766"
      ]
     },
     "execution_count": 31,
     "metadata": {},
     "output_type": "execute_result"
    }
   ],
   "source": [
    "print('Expected Counts for Witness Misidentification:')\n",
    "pd.DataFrame(expected_counts['Witness Misidentification'], index=['Asian', 'Black', 'Hispanic', 'Native American',\n",
    "                                                                 'White'], columns=[0, 1])"
   ]
  },
  {
   "cell_type": "code",
   "execution_count": 32,
   "metadata": {},
   "outputs": [
    {
     "name": "stdout",
     "output_type": "stream",
     "text": [
      "Observed Counts for Witness Misidentification:\n"
     ]
    },
    {
     "data": {
      "text/html": [
       "<div>\n",
       "<style scoped>\n",
       "    .dataframe tbody tr th:only-of-type {\n",
       "        vertical-align: middle;\n",
       "    }\n",
       "\n",
       "    .dataframe tbody tr th {\n",
       "        vertical-align: top;\n",
       "    }\n",
       "\n",
       "    .dataframe thead th {\n",
       "        text-align: right;\n",
       "    }\n",
       "</style>\n",
       "<table border=\"1\" class=\"dataframe\">\n",
       "  <thead>\n",
       "    <tr style=\"text-align: right;\">\n",
       "      <th>Witness Misidentification</th>\n",
       "      <th>0</th>\n",
       "      <th>1</th>\n",
       "    </tr>\n",
       "    <tr>\n",
       "      <th>Race</th>\n",
       "      <th></th>\n",
       "      <th></th>\n",
       "    </tr>\n",
       "  </thead>\n",
       "  <tbody>\n",
       "    <tr>\n",
       "      <th>Asian</th>\n",
       "      <td>27</td>\n",
       "      <td>2</td>\n",
       "    </tr>\n",
       "    <tr>\n",
       "      <th>Black</th>\n",
       "      <td>873</td>\n",
       "      <td>501</td>\n",
       "    </tr>\n",
       "    <tr>\n",
       "      <th>Hispanic</th>\n",
       "      <td>212</td>\n",
       "      <td>110</td>\n",
       "    </tr>\n",
       "    <tr>\n",
       "      <th>Native American</th>\n",
       "      <td>10</td>\n",
       "      <td>8</td>\n",
       "    </tr>\n",
       "    <tr>\n",
       "      <th>White</th>\n",
       "      <td>842</td>\n",
       "      <td>157</td>\n",
       "    </tr>\n",
       "  </tbody>\n",
       "</table>\n",
       "</div>"
      ],
      "text/plain": [
       "Witness Misidentification    0    1\n",
       "Race                               \n",
       "Asian                       27    2\n",
       "Black                      873  501\n",
       "Hispanic                   212  110\n",
       "Native American             10    8\n",
       "White                      842  157"
      ]
     },
     "execution_count": 32,
     "metadata": {},
     "output_type": "execute_result"
    }
   ],
   "source": [
    "print('Observed Counts for Witness Misidentification:')\n",
    "observed_counts['Witness Misidentification']"
   ]
  },
  {
   "cell_type": "markdown",
   "metadata": {},
   "source": [
    "For witness misidentification, we see that there is higher number of Black, Hispanic, and Native American exonerees than expected."
   ]
  },
  {
   "cell_type": "markdown",
   "metadata": {},
   "source": [
    "#### False Evidence: Expected vs. Observed"
   ]
  },
  {
   "cell_type": "code",
   "execution_count": 33,
   "metadata": {},
   "outputs": [
    {
     "name": "stdout",
     "output_type": "stream",
     "text": [
      "Expected Counts for False Evidence:\n"
     ]
    },
    {
     "data": {
      "text/html": [
       "<div>\n",
       "<style scoped>\n",
       "    .dataframe tbody tr th:only-of-type {\n",
       "        vertical-align: middle;\n",
       "    }\n",
       "\n",
       "    .dataframe tbody tr th {\n",
       "        vertical-align: top;\n",
       "    }\n",
       "\n",
       "    .dataframe thead th {\n",
       "        text-align: right;\n",
       "    }\n",
       "</style>\n",
       "<table border=\"1\" class=\"dataframe\">\n",
       "  <thead>\n",
       "    <tr style=\"text-align: right;\">\n",
       "      <th></th>\n",
       "      <th>0</th>\n",
       "      <th>1</th>\n",
       "    </tr>\n",
       "  </thead>\n",
       "  <tbody>\n",
       "    <tr>\n",
       "      <th>Asian</th>\n",
       "      <td>21.956236</td>\n",
       "      <td>7.043764</td>\n",
       "    </tr>\n",
       "    <tr>\n",
       "      <th>Black</th>\n",
       "      <td>1040.271335</td>\n",
       "      <td>333.728665</td>\n",
       "    </tr>\n",
       "    <tr>\n",
       "      <th>Hispanic</th>\n",
       "      <td>243.789934</td>\n",
       "      <td>78.210066</td>\n",
       "    </tr>\n",
       "    <tr>\n",
       "      <th>Native American</th>\n",
       "      <td>13.628009</td>\n",
       "      <td>4.371991</td>\n",
       "    </tr>\n",
       "    <tr>\n",
       "      <th>White</th>\n",
       "      <td>756.354486</td>\n",
       "      <td>242.645514</td>\n",
       "    </tr>\n",
       "  </tbody>\n",
       "</table>\n",
       "</div>"
      ],
      "text/plain": [
       "                           0           1\n",
       "Asian              21.956236    7.043764\n",
       "Black            1040.271335  333.728665\n",
       "Hispanic          243.789934   78.210066\n",
       "Native American    13.628009    4.371991\n",
       "White             756.354486  242.645514"
      ]
     },
     "execution_count": 33,
     "metadata": {},
     "output_type": "execute_result"
    }
   ],
   "source": [
    "print('Expected Counts for False Evidence:')\n",
    "pd.DataFrame(expected_counts['False Evidence'], index=['Asian', 'Black', 'Hispanic', 'Native American',\n",
    "                                                                 'White'], columns=[0, 1])"
   ]
  },
  {
   "cell_type": "code",
   "execution_count": 34,
   "metadata": {},
   "outputs": [
    {
     "name": "stdout",
     "output_type": "stream",
     "text": [
      "Observed Counts for False Evidence:\n"
     ]
    },
    {
     "data": {
      "text/html": [
       "<div>\n",
       "<style scoped>\n",
       "    .dataframe tbody tr th:only-of-type {\n",
       "        vertical-align: middle;\n",
       "    }\n",
       "\n",
       "    .dataframe tbody tr th {\n",
       "        vertical-align: top;\n",
       "    }\n",
       "\n",
       "    .dataframe thead th {\n",
       "        text-align: right;\n",
       "    }\n",
       "</style>\n",
       "<table border=\"1\" class=\"dataframe\">\n",
       "  <thead>\n",
       "    <tr style=\"text-align: right;\">\n",
       "      <th>False Evidence</th>\n",
       "      <th>0</th>\n",
       "      <th>1</th>\n",
       "    </tr>\n",
       "    <tr>\n",
       "      <th>Race</th>\n",
       "      <th></th>\n",
       "      <th></th>\n",
       "    </tr>\n",
       "  </thead>\n",
       "  <tbody>\n",
       "    <tr>\n",
       "      <th>Asian</th>\n",
       "      <td>21</td>\n",
       "      <td>8</td>\n",
       "    </tr>\n",
       "    <tr>\n",
       "      <th>Black</th>\n",
       "      <td>1071</td>\n",
       "      <td>303</td>\n",
       "    </tr>\n",
       "    <tr>\n",
       "      <th>Hispanic</th>\n",
       "      <td>270</td>\n",
       "      <td>52</td>\n",
       "    </tr>\n",
       "    <tr>\n",
       "      <th>Native American</th>\n",
       "      <td>11</td>\n",
       "      <td>7</td>\n",
       "    </tr>\n",
       "    <tr>\n",
       "      <th>White</th>\n",
       "      <td>703</td>\n",
       "      <td>296</td>\n",
       "    </tr>\n",
       "  </tbody>\n",
       "</table>\n",
       "</div>"
      ],
      "text/plain": [
       "False Evidence      0    1\n",
       "Race                      \n",
       "Asian              21    8\n",
       "Black            1071  303\n",
       "Hispanic          270   52\n",
       "Native American    11    7\n",
       "White             703  296"
      ]
     },
     "execution_count": 34,
     "metadata": {},
     "output_type": "execute_result"
    }
   ],
   "source": [
    "print('Observed Counts for False Evidence:')\n",
    "observed_counts['False Evidence']"
   ]
  },
  {
   "cell_type": "markdown",
   "metadata": {},
   "source": [
    "For False Evidence, we observe a higher number of Asian, Native American, and White exonerees than expected. "
   ]
  },
  {
   "cell_type": "markdown",
   "metadata": {},
   "source": [
    "### Final Results\n",
    "After performing the Chi-Square Test of Independence we found **statistically significant** evidence that **DNA evidence, witness misidentification, false evidence, and official misconduct** are correlated with race.\n",
    "After calculating Cramer's V Coefficients for each exoneration reason to account for large sample size, we found **substantively significant** evidence that **witness misidentification and false evidence** are correlated with race. More Black, Hispanic, and Native American exonerees were exonerated due to witness misidentification than expected, and more Asian, Native American, and White exonerees were exonerated due to false evidence than expected."
   ]
  },
  {
   "cell_type": "markdown",
   "metadata": {},
   "source": [
    "# Ethics & Privacy"
   ]
  },
  {
   "cell_type": "markdown",
   "metadata": {},
   "source": [
    "The exonerations dataset is open for public access and provided by the National Registry of Exonerations, who have stated that they “rely entirely on publicly available information.” Therefore, it does not require any additional permissions for academic use. However, to protect the identity of exonerees in the dataset, we took the additional measure of removing personal information such as names and county before conducting our analysis. \n",
    "\n",
    "Our intent is to investigate any correlation between race and reasons for exoneration in the United States through an objective lens. Before analyzing our data, we removed observations for which race wasn't explicity identified, to avoid drawing false conclusions about race. We also observed that the race distribution is highly uneven and account for that by using a Chi-Square Test, which calculates expected frequencies based on the existing proportions in the dataset."
   ]
  },
  {
   "cell_type": "markdown",
   "metadata": {},
   "source": [
    "# Conclusion & Discussion"
   ]
  },
  {
   "cell_type": "markdown",
   "metadata": {},
   "source": [
    "For our project, our group decided to investigate the relationship between race and reason for wrongful conviction in the United States. Our group adopted the hypothesis that exonerees who are People of Color are more likely to be convicted for malicious and false reasons than Caucasians in the United States. We went about this by examining a dataset of exonerees from the United States, pulled from the National Registry of Exonerations and compiled by the University of Michigan Law School.\n",
    "\t\n",
    "Our team then began to analyze the dataset by first cleaning it up. Originally, we imported the data frame as it was and quickly realized that it had more information than we needed. Some of the data cleaning measures we took included renaming the columns for the reasons for exoneration, changing the values of these respective columns to 0’s and 1’s based on whether that victim was wrongfully convicted for that reason, and removing the columns pertaining to the person’s name or other personal information that does not help us come to a conclusion about our research question. After tidying up the dataset for our EDA, our group proceeded by creating graphs and visualizations that helped to describe the data in a more appealing way for the readers. Lastly, after having done all of the exploratory data analysis, we transitioned to inferential analysis by using the Chi-Square Independence test and Cramer’s V coefficients.\n",
    "\n",
    "After performing a Chi Square Independence Test for each exoneration reason, we found a statistically significant relationship between race and the following reasons: DNA evidence, witness misidentification, false evidence, and official misconduct. Verifying the strength of these correlations using each chi-square test statistic to calculate Cramer's V coefficients, we found a substantively significant relationship between race and these reasons: **witness misidentification and false evidence**. Upon inspecting observed and expected counts for witness misidentification and false evidence, we saw that **more Black, Hispanic, and Native American exonerees were exonerated due to witness misidentification** than expected, and **more Asian, Native American, and White exonerees were exonerated due to false evidence** than expected. The observation about witness misidentification is particularly interesting, since it suggests that perhaps mistaken witness identifications are racially motivated, specifically targeting People of Color (Black, Hispanic, Native American). These results emphasize the shortcomings of our country's legal processes and encourage us to rethink how the current systems might be racially biased. The more we expose about the weakness of our legal system, the more we can push for legal reform and a more unbiased and accurate legal proceeding."
   ]
  },
  {
   "cell_type": "markdown",
   "metadata": {},
   "source": [
    "# Team Contributions"
   ]
  },
  {
   "cell_type": "markdown",
   "metadata": {},
   "source": [
    "Jon Chang\n",
    "- Assisted in:\n",
    "    - Data Cleaning (Standardizing worst crime displayed)\n",
    "    - Ethics and Privacy Section\n",
    "    - General coding\n",
    "    - Project Video\n",
    "    \n",
    "Tilak Patel\n",
    "- Assisted in:\n",
    "    - Project Slide presentation\n",
    "    - General coding\n",
    "    - Project Video\n",
    "    \n",
    "Mikaela Grenion\n",
    "- Assisted in: \n",
    "    - Background and Prior Work\n",
    "    - Setup and Data Cleaning\n",
    "    - EDA\n",
    "    - General coding\n",
    "    - Project Video\n",
    "    \n",
    "Nathan Nakamura\n",
    "- Assisted in:\n",
    "    - Hypothesis and Research Question\n",
    "    - Conclusion and Discussion\n",
    "    - Data Analysis\n",
    "    - General coding\n",
    "    - Project Video\n",
    "\n",
    "Allison Bhavsar\n",
    "- Assisted in:\n",
    "    - Hypothesis and Research Question\n",
    "    - Data Analysis\n",
    "    - EDA\n",
    "    - General coding\n",
    "    - Project Video\n",
    " "
   ]
  }
 ],
 "metadata": {
  "kernelspec": {
   "display_name": "Python 3",
   "language": "python",
   "name": "python3"
  },
  "language_info": {
   "codemirror_mode": {
    "name": "ipython",
    "version": 3
   },
   "file_extension": ".py",
   "mimetype": "text/x-python",
   "name": "python",
   "nbconvert_exporter": "python",
   "pygments_lexer": "ipython3",
   "version": "3.7.7"
  }
 },
 "nbformat": 4,
 "nbformat_minor": 4
}
