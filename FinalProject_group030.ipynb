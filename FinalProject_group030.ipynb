{
 "cells": [
  {
   "cell_type": "markdown",
   "metadata": {},
   "source": [
    "# Exploring the Effects of COVID-19 Lockdown Status on Game Trends"
   ]
  },
  {
   "cell_type": "markdown",
   "metadata": {},
   "source": [
    "# Overview"
   ]
  },
  {
   "cell_type": "markdown",
   "metadata": {},
   "source": [
    "In our project, we investigated the relationship between the population of the United States in the COVID-19 lockdown (March 2020) and the sales of certain genres for Steam video games. After visualizing the merged datasets of lockdown and game sales into various line plots, scatterplots, and bar plots, we found no significant correlation as the sales of Steam video games throughout the year followed a similar trend to the years prior. As a result, we concluded the COVID-19 lockdown had no significant correlation to the sales of Steam video games."
   ]
  },
  {
   "cell_type": "markdown",
   "metadata": {},
   "source": [
    "# Names\n",
    "\n",
    "- Thuycam Nguyen\n",
    "- Shania Ie\n",
    "- Tiffany Ho\n",
    "- Shawn Kim\n",
    "- Karina Sevilla"
   ]
  },
  {
   "cell_type": "markdown",
   "metadata": {},
   "source": [
    "<a id='background'></a>\n",
    "\n",
    "## Background & Prior Work"
   ]
  },
  {
   "cell_type": "markdown",
   "metadata": {},
   "source": [
    "#### A brief introduction to Steam\n",
    "Steam is one of the largest video game digital distribution services [1]. As of 2021, it allows the purchase and download of over 50,000 games and services around 120 million monthly active users. During Covid-19, the Steam games Among Us, Rust, and Valheim faced notable spikes in popularity. During quarantine, Steam had increased popularity as an online, safe activity which connected friends and family. Because Steam is one of the largest video game distributors, we will compare its video game sales to the lockdown status of the United States.\n",
    "\n",
    "#### Video Games Trends During the Pandemic\n",
    "In “Everyone is playing video games during the pandemic”, Adam Epstein highlighted that the United States saw a drastic increase in video game sales in August 2020 [2]. According to a market research firm NPD Group, it accumulated a total of 3.3 billion USD just in that month. In total, there was an outstanding 23% increase in sales from the previous year, selling around $29.4 billion digital and physical copies. This trend continues to persist even when the travel restriction loosens and quarantine approaches an end. Evidently, the sales of gaming hardwares, such as consoles and accessories, sought an increase. However this trend is not only applicable to the United States, it has become a worldwide phenomenon. In Japan, there was a 44% increase in mobile game sales on Iphones and a 20% increase in the European Union by July. In France, Nielsen reported that 41% of self-identified gamers played more video games due to the pandemic. <br>\n",
    "   \n",
    "The increase in video game sales drove up the profits of multiple gaming companies. Nintendo, for example, had $1.4 billion in profits as they released a social simulation game Animal Crossing: New Horizons, which gained a lot of traction after its launch in March. First person shooter games like Call of Duty: Warzone increased its number of active players with a total of 75 million gamers in August; a whopping 45 million increase since late March. On the other hand, Electronic Arts’ FIFA gained 7 million new players, doubling the amount from previous year. While NBA 2K20, had an 82% increase in active players as people are no longer able to watch live basketball games.\n",
    "Though video games in general have increased in popularity not every game has been treated equally. A study by Inverse showed that a majority of players in their study either favored single player games or a mix of both single and multiplayer [3]. Multiplayer games were not favored overall. Though multiplayer games have also been found to be increasingly popular during the pandemic. This study also mentioned a shift in popularity from multiplayer to single player during the lockdown due to possible “fatigue” of the multiplayer games.\n",
    "\n",
    "### Previous Project Analysis\n",
    "\n",
    "#### Fall 2020 Final Project Group 4\n",
    "Group 4 of Fall 2020 analyzed a game's genre and critic score to measure whether a game would be popular, or have a relatively high number of sales [4]. They were able to predict whether a game was popular with a 66% accuracy and concluded that while the genre and critic score of a game did have some influence over a game's popularity, there were other factors that also affected whether a game would be popular or not. The 66% accuracy prediction reflects this since other factors that influence a game's popularity prediction were not taken into account. One example of this is that the games in the action genre were the most popular games in the North American and European regions but weren't necessarily the case in other regions.\n",
    "\n",
    "#### Fall 2020 Final Project Group 36 (“Associations Between Game Characteristics And Popularity”)\n",
    "This project analyzed the effect of certain video game features on the popularity of specific games on steam [5]. The features included genre, platform, price, and more, and they compared this to the number of owners of the game to determine popularity. They were able to find a positive relationship between certain features, specifically between recommendations and genres, and game ownership. They then were able to create classification models to predict whether a game would be popular, which was accurate two thirds of the time.\n",
    "\n",
    "#### Fall 2020 Final Project Group 37\n",
    "Using data from the Reddit community, the group for this project used data from the Reddit community and analyzed the most influential factors that make players more willing to spend real-world money in Fate/Grand Order [6]. They hypothesized that character-based features and player-based features all influenced the player's willingness to spend money on the game. For character-based features, only the North American servers show a significant positive for spending money on high power-level characters. They could partially reject their hypothesis on player-based features because players with a larger total time were more willing to spend money.\n",
    "\n",
    "### References/Links:\n",
    "1. Dean, B. (2021, April 13). Steam Usage and Catalog Stats for 2021. Backlinko. https://backlinko.com/steam-users.\n",
    "2. Epstein, A. (2020, September 16). The pandemic has turned everyone into gamers. Quartz. https://qz.com/1904276/everyone-is-playing-video-games-during-the-pandemic/.\n",
    "3. Plante, C. (2021, March 15). How has gaming changed in the pandemic? 2,900 Inverse readers reveal 3 big trends. Inverse. https://www.inverse.com/gaming/video-games-pandemic. \n",
    "4. https://github.com/COGS108/FinalProjects-Fa20/blob/main/FinalProject_group004.ipynb\n",
    "5. https://github.com/COGS108/FinalProjects-Fa20/blob/main/FinalProject_group036.ipynb\n",
    "6. https://github.com/COGS108/FinalProjects-Fa20/blob/main/FinalProject_group037.ipynb\n"
   ]
  },
  {
   "cell_type": "markdown",
   "metadata": {},
   "source": [
    "<a id='research_question'></a>\n",
    "# Research Question"
   ]
  },
  {
   "cell_type": "markdown",
   "metadata": {},
   "source": [
    "How have the number of concurrent users for various video game genres as well as US game sales been affected by the number of people in lockdown?"
   ]
  },
  {
   "cell_type": "markdown",
   "metadata": {},
   "source": [
    "<a id='hypothesis'></a>\n",
    "# Hypothesis"
   ]
  },
  {
   "cell_type": "markdown",
   "metadata": {},
   "source": [
    "Based on our background research showing the drastic increase in game sales and spike in popularity of certain games, we believe that as lockdown forces people to stay inside, more people will seek video games as a way to spend their time. Thus, we hypothesize that the increase in the number of people indoors as a result of the pandemic will increase the overall popularity of games. We will use game sales and number of video game players per genres to measure the “overall popularity” of games in our analysis."
   ]
  },
  {
   "cell_type": "markdown",
   "metadata": {},
   "source": [
    "# Dataset(s)"
   ]
  },
  {
   "cell_type": "markdown",
   "metadata": {},
   "source": [
    "Dataset Name: Steam charts <br>\n",
    "Link to the dataset: https://www.kaggle.com/michau96/popularity-of-games-on-steam <br>\n",
    "Number of observations: 83,790 <br>\n",
    "This dataset includes the monthly number of players for various games on steam. These measurements go from the year 2012-2021.<br> <br>\n",
    "\n",
    "Dataset Name: CDC lockdown by County<br>\n",
    "Link to the dataset: https://drive.google.com/file/d/1JhUlsJjyl-wYJmSkmCRVPjXkPjzGj6BY/view?usp=sharing<br>\n",
    "Number of observations: 436,739<br>\n",
    "This dataset includes the lockdown status of different counties in the United States. It has measurements for different quarters throughout the year 2020. <br> <br>\n",
    "\n",
    "Dataset Name: Game sales<br>\n",
    "Link to the dataset: https://github.com/COGS108/group030_sp21/blob/main/Datasets/gamesales.csv<br>\n",
    "Number of Observations: 37<br>\n",
    "This dataset includes the monthly amount in millions of USD generated by US sales of video games and video games software. The data includes sales from the years 2019-2021. This dataset was obtained by scraping venturebeat website, which contained a table of yearly report.<br><br>\n",
    "\n",
    "Dataset Name: Game genres<br>\n",
    "Link to the dataset: https://github.com/COGS108/group030_sp21/blob/main/Datasets/steam_app_data.csv<br>\n",
    "Number of Observations: 1276 <br>\n",
    "This dataset includes the genres of games in the \"Steam charts\" dataset. This information in this dataset was scraped from the official Steam store.\n",
    "<br><br>\n",
    "\n",
    "\n",
    "We plan to look at the relationship between the amount of people in lockdown in the US and video game sales in the US, over time. "
   ]
  },
  {
   "cell_type": "markdown",
   "metadata": {},
   "source": [
    "# Setup"
   ]
  },
  {
   "cell_type": "code",
   "execution_count": 1,
   "metadata": {},
   "outputs": [],
   "source": [
    "import pandas as pd\n",
    "import numpy as np\n",
    "import seaborn as sns\n",
    "import datetime\n",
    "from collections import defaultdict\n",
    "import matplotlib.pyplot as plt\n",
    "import matplotlib.ticker as ticker\n",
    "from ast import literal_eval"
   ]
  },
  {
   "cell_type": "markdown",
   "metadata": {},
   "source": [
    "# Data Cleaning"
   ]
  },
  {
   "cell_type": "markdown",
   "metadata": {},
   "source": [
    "The goal of data cleaning is to load all the necessary dataset that we are going to be using. Checking null values and dropping the rows or columns. Standardize the values by removing unknown characters that might interfere with data analysis. This makes the process cleaner as it would be easier to account for similar data, though originally written differently."
   ]
  },
  {
   "cell_type": "markdown",
   "metadata": {},
   "source": [
    "### Steam Dataset"
   ]
  },
  {
   "cell_type": "code",
   "execution_count": 2,
   "metadata": {},
   "outputs": [
    {
     "data": {
      "text/html": [
       "<div>\n",
       "<style scoped>\n",
       "    .dataframe tbody tr th:only-of-type {\n",
       "        vertical-align: middle;\n",
       "    }\n",
       "\n",
       "    .dataframe tbody tr th {\n",
       "        vertical-align: top;\n",
       "    }\n",
       "\n",
       "    .dataframe thead th {\n",
       "        text-align: right;\n",
       "    }\n",
       "</style>\n",
       "<table border=\"1\" class=\"dataframe\">\n",
       "  <thead>\n",
       "    <tr style=\"text-align: right;\">\n",
       "      <th></th>\n",
       "      <th>gamename</th>\n",
       "      <th>year</th>\n",
       "      <th>month</th>\n",
       "      <th>avg</th>\n",
       "      <th>gain</th>\n",
       "      <th>peak</th>\n",
       "      <th>avg_peak_perc</th>\n",
       "    </tr>\n",
       "  </thead>\n",
       "  <tbody>\n",
       "    <tr>\n",
       "      <th>0</th>\n",
       "      <td>Counter-Strike: Global Offensive</td>\n",
       "      <td>2021</td>\n",
       "      <td>February</td>\n",
       "      <td>741013.24</td>\n",
       "      <td>-2196.42</td>\n",
       "      <td>1123485</td>\n",
       "      <td>65.9567%</td>\n",
       "    </tr>\n",
       "    <tr>\n",
       "      <th>1</th>\n",
       "      <td>Counter-Strike: Global Offensive</td>\n",
       "      <td>2021</td>\n",
       "      <td>January</td>\n",
       "      <td>743209.66</td>\n",
       "      <td>25405.91</td>\n",
       "      <td>1124553</td>\n",
       "      <td>66.0893%</td>\n",
       "    </tr>\n",
       "    <tr>\n",
       "      <th>2</th>\n",
       "      <td>Counter-Strike: Global Offensive</td>\n",
       "      <td>2020</td>\n",
       "      <td>December</td>\n",
       "      <td>717803.75</td>\n",
       "      <td>49049.17</td>\n",
       "      <td>1164396</td>\n",
       "      <td>61.646%</td>\n",
       "    </tr>\n",
       "    <tr>\n",
       "      <th>3</th>\n",
       "      <td>Counter-Strike: Global Offensive</td>\n",
       "      <td>2020</td>\n",
       "      <td>November</td>\n",
       "      <td>668754.58</td>\n",
       "      <td>55087.89</td>\n",
       "      <td>1037464</td>\n",
       "      <td>64.4605%</td>\n",
       "    </tr>\n",
       "    <tr>\n",
       "      <th>4</th>\n",
       "      <td>Counter-Strike: Global Offensive</td>\n",
       "      <td>2020</td>\n",
       "      <td>October</td>\n",
       "      <td>613666.69</td>\n",
       "      <td>6816.37</td>\n",
       "      <td>943876</td>\n",
       "      <td>65.0156%</td>\n",
       "    </tr>\n",
       "  </tbody>\n",
       "</table>\n",
       "</div>"
      ],
      "text/plain": [
       "                           gamename  year     month        avg      gain  \\\n",
       "0  Counter-Strike: Global Offensive  2021  February  741013.24  -2196.42   \n",
       "1  Counter-Strike: Global Offensive  2021   January  743209.66  25405.91   \n",
       "2  Counter-Strike: Global Offensive  2020  December  717803.75  49049.17   \n",
       "3  Counter-Strike: Global Offensive  2020  November  668754.58  55087.89   \n",
       "4  Counter-Strike: Global Offensive  2020   October  613666.69   6816.37   \n",
       "\n",
       "      peak avg_peak_perc  \n",
       "0  1123485      65.9567%  \n",
       "1  1124553      66.0893%  \n",
       "2  1164396       61.646%  \n",
       "3  1037464      64.4605%  \n",
       "4   943876      65.0156%  "
      ]
     },
     "execution_count": 2,
     "metadata": {},
     "output_type": "execute_result"
    }
   ],
   "source": [
    "# Loading and reading the steam dataset\n",
    "steam_url = \"https://raw.githubusercontent.com/tiffanyxho/cogs108_sp21_group30/main/SteamCharts.csv\"\n",
    "steam_df = pd.read_csv(steam_url)\n",
    "\n",
    "# Removing trailing characters from the month value\n",
    "steam_df['month'] = steam_df['month'].apply(lambda x: x.strip())\n",
    "\n",
    "# Dropping null rows found from the gain column\n",
    "steam_df = steam_df.dropna(subset=['gain'])\n",
    "steam_df.head()"
   ]
  },
  {
   "cell_type": "code",
   "execution_count": 3,
   "metadata": {},
   "outputs": [
    {
     "data": {
      "text/html": [
       "<div>\n",
       "<style scoped>\n",
       "    .dataframe tbody tr th:only-of-type {\n",
       "        vertical-align: middle;\n",
       "    }\n",
       "\n",
       "    .dataframe tbody tr th {\n",
       "        vertical-align: top;\n",
       "    }\n",
       "\n",
       "    .dataframe thead th {\n",
       "        text-align: right;\n",
       "    }\n",
       "</style>\n",
       "<table border=\"1\" class=\"dataframe\">\n",
       "  <thead>\n",
       "    <tr style=\"text-align: right;\">\n",
       "      <th></th>\n",
       "      <th>gamename</th>\n",
       "      <th>year</th>\n",
       "      <th>month</th>\n",
       "      <th>avg</th>\n",
       "      <th>gain</th>\n",
       "      <th>peak</th>\n",
       "      <th>avg_peak_perc</th>\n",
       "    </tr>\n",
       "  </thead>\n",
       "  <tbody>\n",
       "    <tr>\n",
       "      <th>0</th>\n",
       "      <td>counter-strike: global offensive</td>\n",
       "      <td>2021</td>\n",
       "      <td>February</td>\n",
       "      <td>741013.24</td>\n",
       "      <td>-2196.42</td>\n",
       "      <td>1123485</td>\n",
       "      <td>65.9567%</td>\n",
       "    </tr>\n",
       "    <tr>\n",
       "      <th>1</th>\n",
       "      <td>counter-strike: global offensive</td>\n",
       "      <td>2021</td>\n",
       "      <td>January</td>\n",
       "      <td>743209.66</td>\n",
       "      <td>25405.91</td>\n",
       "      <td>1124553</td>\n",
       "      <td>66.0893%</td>\n",
       "    </tr>\n",
       "    <tr>\n",
       "      <th>2</th>\n",
       "      <td>counter-strike: global offensive</td>\n",
       "      <td>2020</td>\n",
       "      <td>December</td>\n",
       "      <td>717803.75</td>\n",
       "      <td>49049.17</td>\n",
       "      <td>1164396</td>\n",
       "      <td>61.646%</td>\n",
       "    </tr>\n",
       "    <tr>\n",
       "      <th>3</th>\n",
       "      <td>counter-strike: global offensive</td>\n",
       "      <td>2020</td>\n",
       "      <td>November</td>\n",
       "      <td>668754.58</td>\n",
       "      <td>55087.89</td>\n",
       "      <td>1037464</td>\n",
       "      <td>64.4605%</td>\n",
       "    </tr>\n",
       "    <tr>\n",
       "      <th>4</th>\n",
       "      <td>counter-strike: global offensive</td>\n",
       "      <td>2020</td>\n",
       "      <td>October</td>\n",
       "      <td>613666.69</td>\n",
       "      <td>6816.37</td>\n",
       "      <td>943876</td>\n",
       "      <td>65.0156%</td>\n",
       "    </tr>\n",
       "  </tbody>\n",
       "</table>\n",
       "</div>"
      ],
      "text/plain": [
       "                           gamename  year     month        avg      gain  \\\n",
       "0  counter-strike: global offensive  2021  February  741013.24  -2196.42   \n",
       "1  counter-strike: global offensive  2021   January  743209.66  25405.91   \n",
       "2  counter-strike: global offensive  2020  December  717803.75  49049.17   \n",
       "3  counter-strike: global offensive  2020  November  668754.58  55087.89   \n",
       "4  counter-strike: global offensive  2020   October  613666.69   6816.37   \n",
       "\n",
       "      peak avg_peak_perc  \n",
       "0  1123485      65.9567%  \n",
       "1  1124553      66.0893%  \n",
       "2  1164396       61.646%  \n",
       "3  1037464      64.4605%  \n",
       "4   943876      65.0156%  "
      ]
     },
     "execution_count": 3,
     "metadata": {},
     "output_type": "execute_result"
    }
   ],
   "source": [
    "# Standardize the game name by converting all text to lowercase and getting rid of not ascii characters\n",
    "steam_df['gamename'] = steam_df['gamename'].str.encode('ascii', 'ignore').str.decode('ascii')\n",
    "steam_df['gamename'] = steam_df['gamename'].apply(lambda x : x.lower())\n",
    "steam_df.head()"
   ]
  },
  {
   "cell_type": "markdown",
   "metadata": {},
   "source": [
    "### CDC Dataset"
   ]
  },
  {
   "cell_type": "code",
   "execution_count": 4,
   "metadata": {},
   "outputs": [
    {
     "data": {
      "text/html": [
       "<div>\n",
       "<style scoped>\n",
       "    .dataframe tbody tr th:only-of-type {\n",
       "        vertical-align: middle;\n",
       "    }\n",
       "\n",
       "    .dataframe tbody tr th {\n",
       "        vertical-align: top;\n",
       "    }\n",
       "\n",
       "    .dataframe thead th {\n",
       "        text-align: right;\n",
       "    }\n",
       "</style>\n",
       "<table border=\"1\" class=\"dataframe\">\n",
       "  <thead>\n",
       "    <tr style=\"text-align: right;\">\n",
       "      <th></th>\n",
       "      <th>stateFIPS</th>\n",
       "      <th>State</th>\n",
       "      <th>countyFIPS</th>\n",
       "      <th>County</th>\n",
       "      <th>Year</th>\n",
       "      <th>Value</th>\n",
       "      <th>Data Comment</th>\n",
       "      <th>Unnamed: 7</th>\n",
       "    </tr>\n",
       "  </thead>\n",
       "  <tbody>\n",
       "    <tr>\n",
       "      <th>0</th>\n",
       "      <td>1</td>\n",
       "      <td>Alabama</td>\n",
       "      <td>1001</td>\n",
       "      <td>Autauga</td>\n",
       "      <td>2019</td>\n",
       "      <td>55,869</td>\n",
       "      <td>NaN</td>\n",
       "      <td>NaN</td>\n",
       "    </tr>\n",
       "    <tr>\n",
       "      <th>1</th>\n",
       "      <td>1</td>\n",
       "      <td>Alabama</td>\n",
       "      <td>1003</td>\n",
       "      <td>Baldwin</td>\n",
       "      <td>2019</td>\n",
       "      <td>223,234</td>\n",
       "      <td>NaN</td>\n",
       "      <td>NaN</td>\n",
       "    </tr>\n",
       "    <tr>\n",
       "      <th>2</th>\n",
       "      <td>1</td>\n",
       "      <td>Alabama</td>\n",
       "      <td>1005</td>\n",
       "      <td>Barbour</td>\n",
       "      <td>2019</td>\n",
       "      <td>24,686</td>\n",
       "      <td>NaN</td>\n",
       "      <td>NaN</td>\n",
       "    </tr>\n",
       "    <tr>\n",
       "      <th>3</th>\n",
       "      <td>1</td>\n",
       "      <td>Alabama</td>\n",
       "      <td>1007</td>\n",
       "      <td>Bibb</td>\n",
       "      <td>2019</td>\n",
       "      <td>22,394</td>\n",
       "      <td>NaN</td>\n",
       "      <td>NaN</td>\n",
       "    </tr>\n",
       "    <tr>\n",
       "      <th>4</th>\n",
       "      <td>1</td>\n",
       "      <td>Alabama</td>\n",
       "      <td>1009</td>\n",
       "      <td>Blount</td>\n",
       "      <td>2019</td>\n",
       "      <td>57,826</td>\n",
       "      <td>NaN</td>\n",
       "      <td>NaN</td>\n",
       "    </tr>\n",
       "  </tbody>\n",
       "</table>\n",
       "</div>"
      ],
      "text/plain": [
       "   stateFIPS    State  countyFIPS   County  Year    Value  Data Comment  \\\n",
       "0          1  Alabama        1001  Autauga  2019   55,869           NaN   \n",
       "1          1  Alabama        1003  Baldwin  2019  223,234           NaN   \n",
       "2          1  Alabama        1005  Barbour  2019   24,686           NaN   \n",
       "3          1  Alabama        1007     Bibb  2019   22,394           NaN   \n",
       "4          1  Alabama        1009   Blount  2019   57,826           NaN   \n",
       "\n",
       "   Unnamed: 7  \n",
       "0         NaN  \n",
       "1         NaN  \n",
       "2         NaN  \n",
       "3         NaN  \n",
       "4         NaN  "
      ]
     },
     "execution_count": 4,
     "metadata": {},
     "output_type": "execute_result"
    }
   ],
   "source": [
    "# Loading and reading the County Population dataset\n",
    "population_county = pd.read_csv(\"./Datasets/population by county.csv\")\n",
    "population_county.head()"
   ]
  },
  {
   "cell_type": "code",
   "execution_count": 5,
   "metadata": {},
   "outputs": [
    {
     "data": {
      "text/html": [
       "<div>\n",
       "<style scoped>\n",
       "    .dataframe tbody tr th:only-of-type {\n",
       "        vertical-align: middle;\n",
       "    }\n",
       "\n",
       "    .dataframe tbody tr th {\n",
       "        vertical-align: top;\n",
       "    }\n",
       "\n",
       "    .dataframe thead th {\n",
       "        text-align: right;\n",
       "    }\n",
       "</style>\n",
       "<table border=\"1\" class=\"dataframe\">\n",
       "  <thead>\n",
       "    <tr style=\"text-align: right;\">\n",
       "      <th></th>\n",
       "      <th>stateFIPS</th>\n",
       "      <th>State</th>\n",
       "      <th>countyFIPS</th>\n",
       "      <th>County</th>\n",
       "      <th>Year</th>\n",
       "      <th>Value</th>\n",
       "    </tr>\n",
       "  </thead>\n",
       "  <tbody>\n",
       "    <tr>\n",
       "      <th>0</th>\n",
       "      <td>1</td>\n",
       "      <td>Alabama</td>\n",
       "      <td>1001</td>\n",
       "      <td>Autauga</td>\n",
       "      <td>2019</td>\n",
       "      <td>55,869</td>\n",
       "    </tr>\n",
       "    <tr>\n",
       "      <th>1</th>\n",
       "      <td>1</td>\n",
       "      <td>Alabama</td>\n",
       "      <td>1003</td>\n",
       "      <td>Baldwin</td>\n",
       "      <td>2019</td>\n",
       "      <td>223,234</td>\n",
       "    </tr>\n",
       "    <tr>\n",
       "      <th>2</th>\n",
       "      <td>1</td>\n",
       "      <td>Alabama</td>\n",
       "      <td>1005</td>\n",
       "      <td>Barbour</td>\n",
       "      <td>2019</td>\n",
       "      <td>24,686</td>\n",
       "    </tr>\n",
       "    <tr>\n",
       "      <th>3</th>\n",
       "      <td>1</td>\n",
       "      <td>Alabama</td>\n",
       "      <td>1007</td>\n",
       "      <td>Bibb</td>\n",
       "      <td>2019</td>\n",
       "      <td>22,394</td>\n",
       "    </tr>\n",
       "    <tr>\n",
       "      <th>4</th>\n",
       "      <td>1</td>\n",
       "      <td>Alabama</td>\n",
       "      <td>1009</td>\n",
       "      <td>Blount</td>\n",
       "      <td>2019</td>\n",
       "      <td>57,826</td>\n",
       "    </tr>\n",
       "  </tbody>\n",
       "</table>\n",
       "</div>"
      ],
      "text/plain": [
       "   stateFIPS    State  countyFIPS   County  Year    Value\n",
       "0          1  Alabama        1001  Autauga  2019   55,869\n",
       "1          1  Alabama        1003  Baldwin  2019  223,234\n",
       "2          1  Alabama        1005  Barbour  2019   24,686\n",
       "3          1  Alabama        1007     Bibb  2019   22,394\n",
       "4          1  Alabama        1009   Blount  2019   57,826"
      ]
     },
     "execution_count": 5,
     "metadata": {},
     "output_type": "execute_result"
    }
   ],
   "source": [
    "# Dropping null columns\n",
    "population_county = population_county.drop(columns=[\"Data Comment\", \"Unnamed: 7\"])\n",
    "population_county.head()"
   ]
  },
  {
   "cell_type": "markdown",
   "metadata": {},
   "source": [
    "### CDC Lockdown Dataset"
   ]
  },
  {
   "cell_type": "code",
   "execution_count": 6,
   "metadata": {},
   "outputs": [
    {
     "data": {
      "text/plain": [
       "stateFIPS                    0\n",
       "State                        0\n",
       "countyFIPS                   0\n",
       "County                       0\n",
       "Year                         0\n",
       "Value                        0\n",
       "Data Comment            436738\n",
       "County Order Status          0\n",
       "Quarter                      0\n",
       "Unnamed: 9              436738\n",
       "dtype: int64"
      ]
     },
     "execution_count": 6,
     "metadata": {},
     "output_type": "execute_result"
    }
   ],
   "source": [
    "# Loading the first part of the lockdown dataset\n",
    "lockdown_1 = pd.read_csv(\"./Datasets/lockdown by county pt 1.csv\")\n",
    "# Checking the sum of null values per column\n",
    "lockdown_1.isna().sum()"
   ]
  },
  {
   "cell_type": "code",
   "execution_count": 7,
   "metadata": {},
   "outputs": [
    {
     "data": {
      "text/html": [
       "<div>\n",
       "<style scoped>\n",
       "    .dataframe tbody tr th:only-of-type {\n",
       "        vertical-align: middle;\n",
       "    }\n",
       "\n",
       "    .dataframe tbody tr th {\n",
       "        vertical-align: top;\n",
       "    }\n",
       "\n",
       "    .dataframe thead th {\n",
       "        text-align: right;\n",
       "    }\n",
       "</style>\n",
       "<table border=\"1\" class=\"dataframe\">\n",
       "  <thead>\n",
       "    <tr style=\"text-align: right;\">\n",
       "      <th></th>\n",
       "      <th>stateFIPS</th>\n",
       "      <th>State</th>\n",
       "      <th>countyFIPS</th>\n",
       "      <th>County</th>\n",
       "      <th>Year</th>\n",
       "      <th>Value</th>\n",
       "      <th>County Order Status</th>\n",
       "      <th>Quarter</th>\n",
       "    </tr>\n",
       "  </thead>\n",
       "  <tbody>\n",
       "    <tr>\n",
       "      <th>0</th>\n",
       "      <td>1</td>\n",
       "      <td>Alabama</td>\n",
       "      <td>1001</td>\n",
       "      <td>Autauga</td>\n",
       "      <td>20200315</td>\n",
       "      <td>7</td>\n",
       "      <td>Mandatory - all people (7)</td>\n",
       "      <td>20200315</td>\n",
       "    </tr>\n",
       "    <tr>\n",
       "      <th>1</th>\n",
       "      <td>1</td>\n",
       "      <td>Alabama</td>\n",
       "      <td>1001</td>\n",
       "      <td>Autauga</td>\n",
       "      <td>20200316</td>\n",
       "      <td>7</td>\n",
       "      <td>Mandatory - all people (7)</td>\n",
       "      <td>20200316</td>\n",
       "    </tr>\n",
       "    <tr>\n",
       "      <th>2</th>\n",
       "      <td>1</td>\n",
       "      <td>Alabama</td>\n",
       "      <td>1001</td>\n",
       "      <td>Autauga</td>\n",
       "      <td>20200317</td>\n",
       "      <td>7</td>\n",
       "      <td>Mandatory - all people (7)</td>\n",
       "      <td>20200317</td>\n",
       "    </tr>\n",
       "    <tr>\n",
       "      <th>3</th>\n",
       "      <td>1</td>\n",
       "      <td>Alabama</td>\n",
       "      <td>1001</td>\n",
       "      <td>Autauga</td>\n",
       "      <td>20200318</td>\n",
       "      <td>7</td>\n",
       "      <td>Mandatory - all people (7)</td>\n",
       "      <td>20200318</td>\n",
       "    </tr>\n",
       "    <tr>\n",
       "      <th>4</th>\n",
       "      <td>1</td>\n",
       "      <td>Alabama</td>\n",
       "      <td>1001</td>\n",
       "      <td>Autauga</td>\n",
       "      <td>20200319</td>\n",
       "      <td>7</td>\n",
       "      <td>Mandatory - all people (7)</td>\n",
       "      <td>20200319</td>\n",
       "    </tr>\n",
       "  </tbody>\n",
       "</table>\n",
       "</div>"
      ],
      "text/plain": [
       "   stateFIPS    State  countyFIPS   County      Year  Value  \\\n",
       "0          1  Alabama        1001  Autauga  20200315      7   \n",
       "1          1  Alabama        1001  Autauga  20200316      7   \n",
       "2          1  Alabama        1001  Autauga  20200317      7   \n",
       "3          1  Alabama        1001  Autauga  20200318      7   \n",
       "4          1  Alabama        1001  Autauga  20200319      7   \n",
       "\n",
       "         County Order Status    Quarter  \n",
       "0  Mandatory - all people (7)  20200315  \n",
       "1  Mandatory - all people (7)  20200316  \n",
       "2  Mandatory - all people (7)  20200317  \n",
       "3  Mandatory - all people (7)  20200318  \n",
       "4  Mandatory - all people (7)  20200319  "
      ]
     },
     "execution_count": 7,
     "metadata": {},
     "output_type": "execute_result"
    }
   ],
   "source": [
    "# Dropping null columns\n",
    "lockdown_1 = lockdown_1.drop(columns = [\"Data Comment\", \"Unnamed: 9\"])\n",
    "lockdown_1.head()"
   ]
  },
  {
   "cell_type": "code",
   "execution_count": 8,
   "metadata": {},
   "outputs": [
    {
     "data": {
      "text/plain": [
       "stateFIPS                    0\n",
       "State                        0\n",
       "countyFIPS                   0\n",
       "County                       0\n",
       "Year                         0\n",
       "Value                        0\n",
       "Data Comment            480726\n",
       "County Order Status          0\n",
       "Quarter                      0\n",
       "Unnamed: 9              480726\n",
       "dtype: int64"
      ]
     },
     "execution_count": 8,
     "metadata": {},
     "output_type": "execute_result"
    }
   ],
   "source": [
    "# Loading the second part of the lockdown dataset\n",
    "lockdown_2 = pd.read_csv(\"./Datasets/lockdown by county pt 2.csv\")\n",
    "# Checking the sum of null values per column\n",
    "lockdown_2.isna().sum()"
   ]
  },
  {
   "cell_type": "markdown",
   "metadata": {},
   "source": [
    "### CDC Lockdown Part 2 Dataset"
   ]
  },
  {
   "cell_type": "code",
   "execution_count": 9,
   "metadata": {},
   "outputs": [
    {
     "data": {
      "text/html": [
       "<div>\n",
       "<style scoped>\n",
       "    .dataframe tbody tr th:only-of-type {\n",
       "        vertical-align: middle;\n",
       "    }\n",
       "\n",
       "    .dataframe tbody tr th {\n",
       "        vertical-align: top;\n",
       "    }\n",
       "\n",
       "    .dataframe thead th {\n",
       "        text-align: right;\n",
       "    }\n",
       "</style>\n",
       "<table border=\"1\" class=\"dataframe\">\n",
       "  <thead>\n",
       "    <tr style=\"text-align: right;\">\n",
       "      <th></th>\n",
       "      <th>stateFIPS</th>\n",
       "      <th>State</th>\n",
       "      <th>countyFIPS</th>\n",
       "      <th>County</th>\n",
       "      <th>Year</th>\n",
       "      <th>Value</th>\n",
       "      <th>County Order Status</th>\n",
       "      <th>Quarter</th>\n",
       "    </tr>\n",
       "  </thead>\n",
       "  <tbody>\n",
       "    <tr>\n",
       "      <th>0</th>\n",
       "      <td>1</td>\n",
       "      <td>Alabama</td>\n",
       "      <td>1001</td>\n",
       "      <td>Autauga</td>\n",
       "      <td>20200801</td>\n",
       "      <td>6</td>\n",
       "      <td>Mandatory - all people in certain areas of sta...</td>\n",
       "      <td>20200801</td>\n",
       "    </tr>\n",
       "    <tr>\n",
       "      <th>1</th>\n",
       "      <td>1</td>\n",
       "      <td>Alabama</td>\n",
       "      <td>1001</td>\n",
       "      <td>Autauga</td>\n",
       "      <td>20200802</td>\n",
       "      <td>6</td>\n",
       "      <td>Mandatory - all people in certain areas of sta...</td>\n",
       "      <td>20200802</td>\n",
       "    </tr>\n",
       "    <tr>\n",
       "      <th>2</th>\n",
       "      <td>1</td>\n",
       "      <td>Alabama</td>\n",
       "      <td>1001</td>\n",
       "      <td>Autauga</td>\n",
       "      <td>20200803</td>\n",
       "      <td>6</td>\n",
       "      <td>Mandatory - all people in certain areas of sta...</td>\n",
       "      <td>20200803</td>\n",
       "    </tr>\n",
       "    <tr>\n",
       "      <th>3</th>\n",
       "      <td>1</td>\n",
       "      <td>Alabama</td>\n",
       "      <td>1001</td>\n",
       "      <td>Autauga</td>\n",
       "      <td>20200804</td>\n",
       "      <td>6</td>\n",
       "      <td>Mandatory - all people in certain areas of sta...</td>\n",
       "      <td>20200804</td>\n",
       "    </tr>\n",
       "    <tr>\n",
       "      <th>4</th>\n",
       "      <td>1</td>\n",
       "      <td>Alabama</td>\n",
       "      <td>1001</td>\n",
       "      <td>Autauga</td>\n",
       "      <td>20200805</td>\n",
       "      <td>6</td>\n",
       "      <td>Mandatory - all people in certain areas of sta...</td>\n",
       "      <td>20200805</td>\n",
       "    </tr>\n",
       "  </tbody>\n",
       "</table>\n",
       "</div>"
      ],
      "text/plain": [
       "   stateFIPS    State  countyFIPS   County      Year  Value  \\\n",
       "0          1  Alabama        1001  Autauga  20200801      6   \n",
       "1          1  Alabama        1001  Autauga  20200802      6   \n",
       "2          1  Alabama        1001  Autauga  20200803      6   \n",
       "3          1  Alabama        1001  Autauga  20200804      6   \n",
       "4          1  Alabama        1001  Autauga  20200805      6   \n",
       "\n",
       "                                County Order Status    Quarter  \n",
       "0  Mandatory - all people in certain areas of sta...  20200801  \n",
       "1  Mandatory - all people in certain areas of sta...  20200802  \n",
       "2  Mandatory - all people in certain areas of sta...  20200803  \n",
       "3  Mandatory - all people in certain areas of sta...  20200804  \n",
       "4  Mandatory - all people in certain areas of sta...  20200805  "
      ]
     },
     "execution_count": 9,
     "metadata": {},
     "output_type": "execute_result"
    }
   ],
   "source": [
    "# Dropping null columns\n",
    "lockdown_2 = lockdown_2.drop(columns = [\"Data Comment\", \"Unnamed: 9\"])\n",
    "lockdown_2.head()"
   ]
  },
  {
   "cell_type": "markdown",
   "metadata": {},
   "source": [
    "### Combining Lockdown Datasets"
   ]
  },
  {
   "cell_type": "code",
   "execution_count": 10,
   "metadata": {},
   "outputs": [
    {
     "data": {
      "text/html": [
       "<div>\n",
       "<style scoped>\n",
       "    .dataframe tbody tr th:only-of-type {\n",
       "        vertical-align: middle;\n",
       "    }\n",
       "\n",
       "    .dataframe tbody tr th {\n",
       "        vertical-align: top;\n",
       "    }\n",
       "\n",
       "    .dataframe thead th {\n",
       "        text-align: right;\n",
       "    }\n",
       "</style>\n",
       "<table border=\"1\" class=\"dataframe\">\n",
       "  <thead>\n",
       "    <tr style=\"text-align: right;\">\n",
       "      <th></th>\n",
       "      <th>stateFIPS</th>\n",
       "      <th>State</th>\n",
       "      <th>countyFIPS</th>\n",
       "      <th>County</th>\n",
       "      <th>Year</th>\n",
       "      <th>Value</th>\n",
       "      <th>County Order Status</th>\n",
       "    </tr>\n",
       "  </thead>\n",
       "  <tbody>\n",
       "    <tr>\n",
       "      <th>0</th>\n",
       "      <td>1</td>\n",
       "      <td>Alabama</td>\n",
       "      <td>1001</td>\n",
       "      <td>Autauga</td>\n",
       "      <td>20200315</td>\n",
       "      <td>7</td>\n",
       "      <td>Mandatory - all people (7)</td>\n",
       "    </tr>\n",
       "    <tr>\n",
       "      <th>1</th>\n",
       "      <td>1</td>\n",
       "      <td>Alabama</td>\n",
       "      <td>1001</td>\n",
       "      <td>Autauga</td>\n",
       "      <td>20200316</td>\n",
       "      <td>7</td>\n",
       "      <td>Mandatory - all people (7)</td>\n",
       "    </tr>\n",
       "    <tr>\n",
       "      <th>2</th>\n",
       "      <td>1</td>\n",
       "      <td>Alabama</td>\n",
       "      <td>1001</td>\n",
       "      <td>Autauga</td>\n",
       "      <td>20200317</td>\n",
       "      <td>7</td>\n",
       "      <td>Mandatory - all people (7)</td>\n",
       "    </tr>\n",
       "    <tr>\n",
       "      <th>3</th>\n",
       "      <td>1</td>\n",
       "      <td>Alabama</td>\n",
       "      <td>1001</td>\n",
       "      <td>Autauga</td>\n",
       "      <td>20200318</td>\n",
       "      <td>7</td>\n",
       "      <td>Mandatory - all people (7)</td>\n",
       "    </tr>\n",
       "    <tr>\n",
       "      <th>4</th>\n",
       "      <td>1</td>\n",
       "      <td>Alabama</td>\n",
       "      <td>1001</td>\n",
       "      <td>Autauga</td>\n",
       "      <td>20200319</td>\n",
       "      <td>7</td>\n",
       "      <td>Mandatory - all people (7)</td>\n",
       "    </tr>\n",
       "  </tbody>\n",
       "</table>\n",
       "</div>"
      ],
      "text/plain": [
       "   stateFIPS    State  countyFIPS   County      Year  Value  \\\n",
       "0          1  Alabama        1001  Autauga  20200315      7   \n",
       "1          1  Alabama        1001  Autauga  20200316      7   \n",
       "2          1  Alabama        1001  Autauga  20200317      7   \n",
       "3          1  Alabama        1001  Autauga  20200318      7   \n",
       "4          1  Alabama        1001  Autauga  20200319      7   \n",
       "\n",
       "         County Order Status   \n",
       "0  Mandatory - all people (7)  \n",
       "1  Mandatory - all people (7)  \n",
       "2  Mandatory - all people (7)  \n",
       "3  Mandatory - all people (7)  \n",
       "4  Mandatory - all people (7)  "
      ]
     },
     "execution_count": 10,
     "metadata": {},
     "output_type": "execute_result"
    }
   ],
   "source": [
    "# Appending lists together\n",
    "lockdown = lockdown_1.append(lockdown_2,ignore_index = True)\n",
    "# Sorting lists by 'State', 'County', and 'Year'\n",
    "sorted_lockdown = lockdown.sort_values([\"State\",\"County\",\"Year\"])\n",
    "# Reseting Index\n",
    "lockdown = sorted_lockdown.reset_index()\n",
    "# drop index and quarter columns\n",
    "lockdown = lockdown.drop(columns = [\"index\", \"Quarter\"])\n",
    "lockdown.head()"
   ]
  },
  {
   "cell_type": "markdown",
   "metadata": {},
   "source": [
    "### Game Sales Dataset"
   ]
  },
  {
   "cell_type": "markdown",
   "metadata": {},
   "source": [
    "Unlike the other datasets, Game Sales Dataset is attained from scraping the venture beat website. More information regarding how we scraped the information can be found on 'scraper.ipynb'."
   ]
  },
  {
   "cell_type": "code",
   "execution_count": 11,
   "metadata": {},
   "outputs": [],
   "source": [
    "# Converts USD Values to floats\n",
    "def convertmillions(string):\n",
    "    # removing trailing characters\n",
    "    string = string.strip()\n",
    "    # replacing any occurences of 'm', ',', and '$ with ''\n",
    "    string = string.replace('m', '')\n",
    "    string = string.replace(',','')\n",
    "    string = string.replace('$','')\n",
    "    # if 'b' is identified in the string, then replace it with '' and multiply the value by 1000\n",
    "    if 'b' in string:\n",
    "        string = string.replace('b','')\n",
    "        return 1000 * float(string)\n",
    "    return float(string)"
   ]
  },
  {
   "cell_type": "code",
   "execution_count": 12,
   "metadata": {},
   "outputs": [
    {
     "data": {
      "text/html": [
       "<div>\n",
       "<style scoped>\n",
       "    .dataframe tbody tr th:only-of-type {\n",
       "        vertical-align: middle;\n",
       "    }\n",
       "\n",
       "    .dataframe tbody tr th {\n",
       "        vertical-align: top;\n",
       "    }\n",
       "\n",
       "    .dataframe thead th {\n",
       "        text-align: right;\n",
       "    }\n",
       "</style>\n",
       "<table border=\"1\" class=\"dataframe\">\n",
       "  <thead>\n",
       "    <tr style=\"text-align: right;\">\n",
       "      <th></th>\n",
       "      <th>Date</th>\n",
       "      <th>Total Video Game Sales</th>\n",
       "      <th>Video Games Hardware</th>\n",
       "      <th>PC &amp; Video Games Software</th>\n",
       "      <th>Video Game Accessories &amp; Game Cards</th>\n",
       "    </tr>\n",
       "  </thead>\n",
       "  <tbody>\n",
       "    <tr>\n",
       "      <th>0</th>\n",
       "      <td>July’18</td>\n",
       "      <td>759.0</td>\n",
       "      <td>217.0</td>\n",
       "      <td>253.0</td>\n",
       "      <td>289.0</td>\n",
       "    </tr>\n",
       "    <tr>\n",
       "      <th>1</th>\n",
       "      <td>July’19</td>\n",
       "      <td>762.0</td>\n",
       "      <td>169.0</td>\n",
       "      <td>340.0</td>\n",
       "      <td>254.0</td>\n",
       "    </tr>\n",
       "    <tr>\n",
       "      <th>2</th>\n",
       "      <td>Aug’18</td>\n",
       "      <td>812.0</td>\n",
       "      <td>214.0</td>\n",
       "      <td>341.0</td>\n",
       "      <td>257.0</td>\n",
       "    </tr>\n",
       "    <tr>\n",
       "      <th>3</th>\n",
       "      <td>Aug’19</td>\n",
       "      <td>666.0</td>\n",
       "      <td>167.0</td>\n",
       "      <td>257.0</td>\n",
       "      <td>242.0</td>\n",
       "    </tr>\n",
       "    <tr>\n",
       "      <th>4</th>\n",
       "      <td>Sep’18</td>\n",
       "      <td>1396.0</td>\n",
       "      <td>307.0</td>\n",
       "      <td>761.0</td>\n",
       "      <td>328.0</td>\n",
       "    </tr>\n",
       "    <tr>\n",
       "      <th>5</th>\n",
       "      <td>Sep’19</td>\n",
       "      <td>1278.0</td>\n",
       "      <td>240.0</td>\n",
       "      <td>732.0</td>\n",
       "      <td>308.0</td>\n",
       "    </tr>\n",
       "    <tr>\n",
       "      <th>6</th>\n",
       "      <td>Oct’18</td>\n",
       "      <td>1570.0</td>\n",
       "      <td>307.0</td>\n",
       "      <td>983.0</td>\n",
       "      <td>277.0</td>\n",
       "    </tr>\n",
       "    <tr>\n",
       "      <th>7</th>\n",
       "      <td>Oct’19</td>\n",
       "      <td>1030.0</td>\n",
       "      <td>182.0</td>\n",
       "      <td>620.0</td>\n",
       "      <td>231.0</td>\n",
       "    </tr>\n",
       "    <tr>\n",
       "      <th>8</th>\n",
       "      <td>Dec’18</td>\n",
       "      <td>3494.0</td>\n",
       "      <td>1168.0</td>\n",
       "      <td>1314.0</td>\n",
       "      <td>1012.0</td>\n",
       "    </tr>\n",
       "    <tr>\n",
       "      <th>9</th>\n",
       "      <td>Dec’19</td>\n",
       "      <td>2984.0</td>\n",
       "      <td>973.0</td>\n",
       "      <td>1141.0</td>\n",
       "      <td>869.0</td>\n",
       "    </tr>\n",
       "    <tr>\n",
       "      <th>10</th>\n",
       "      <td>Jan’19</td>\n",
       "      <td>918.0</td>\n",
       "      <td>199.0</td>\n",
       "      <td>451.0</td>\n",
       "      <td>268.0</td>\n",
       "    </tr>\n",
       "    <tr>\n",
       "      <th>11</th>\n",
       "      <td>Jan’20</td>\n",
       "      <td>678.0</td>\n",
       "      <td>129.0</td>\n",
       "      <td>311.0</td>\n",
       "      <td>238.0</td>\n",
       "    </tr>\n",
       "    <tr>\n",
       "      <th>12</th>\n",
       "      <td>Feb’19</td>\n",
       "      <td>1061.0</td>\n",
       "      <td>277.0</td>\n",
       "      <td>477.0</td>\n",
       "      <td>308.0</td>\n",
       "    </tr>\n",
       "    <tr>\n",
       "      <th>13</th>\n",
       "      <td>Feb’20</td>\n",
       "      <td>755.0</td>\n",
       "      <td>183.0</td>\n",
       "      <td>307.0</td>\n",
       "      <td>265.0</td>\n",
       "    </tr>\n",
       "    <tr>\n",
       "      <th>14</th>\n",
       "      <td>Mar’19</td>\n",
       "      <td>1186.0</td>\n",
       "      <td>282.0</td>\n",
       "      <td>550.0</td>\n",
       "      <td>354.0</td>\n",
       "    </tr>\n",
       "    <tr>\n",
       "      <th>15</th>\n",
       "      <td>Mar’20</td>\n",
       "      <td>1597.0</td>\n",
       "      <td>461.0</td>\n",
       "      <td>739.0</td>\n",
       "      <td>397.0</td>\n",
       "    </tr>\n",
       "    <tr>\n",
       "      <th>16</th>\n",
       "      <td>Apr’19</td>\n",
       "      <td>846.0</td>\n",
       "      <td>160.0</td>\n",
       "      <td>428.0</td>\n",
       "      <td>258.0</td>\n",
       "    </tr>\n",
       "    <tr>\n",
       "      <th>17</th>\n",
       "      <td>Apr’20</td>\n",
       "      <td>1466.0</td>\n",
       "      <td>420.0</td>\n",
       "      <td>662.0</td>\n",
       "      <td>384.0</td>\n",
       "    </tr>\n",
       "    <tr>\n",
       "      <th>18</th>\n",
       "      <td>May ’19</td>\n",
       "      <td>642.0</td>\n",
       "      <td>150.0</td>\n",
       "      <td>262.0</td>\n",
       "      <td>230.0</td>\n",
       "    </tr>\n",
       "    <tr>\n",
       "      <th>19</th>\n",
       "      <td>May ’20</td>\n",
       "      <td>977.0</td>\n",
       "      <td>235.0</td>\n",
       "      <td>438.0</td>\n",
       "      <td>304.0</td>\n",
       "    </tr>\n",
       "    <tr>\n",
       "      <th>20</th>\n",
       "      <td>Jun’19</td>\n",
       "      <td>934.0</td>\n",
       "      <td>231.0</td>\n",
       "      <td>382.0</td>\n",
       "      <td>322.0</td>\n",
       "    </tr>\n",
       "    <tr>\n",
       "      <th>21</th>\n",
       "      <td>Jun’20</td>\n",
       "      <td>1178.0</td>\n",
       "      <td>191.0</td>\n",
       "      <td>570.0</td>\n",
       "      <td>417.0</td>\n",
       "    </tr>\n",
       "  </tbody>\n",
       "</table>\n",
       "</div>"
      ],
      "text/plain": [
       "       Date  Total Video Game Sales  Video Games Hardware  \\\n",
       "0   July’18                   759.0                 217.0   \n",
       "1   July’19                   762.0                 169.0   \n",
       "2    Aug’18                   812.0                 214.0   \n",
       "3    Aug’19                   666.0                 167.0   \n",
       "4    Sep’18                  1396.0                 307.0   \n",
       "5    Sep’19                  1278.0                 240.0   \n",
       "6    Oct’18                  1570.0                 307.0   \n",
       "7    Oct’19                  1030.0                 182.0   \n",
       "8    Dec’18                  3494.0                1168.0   \n",
       "9    Dec’19                  2984.0                 973.0   \n",
       "10   Jan’19                   918.0                 199.0   \n",
       "11   Jan’20                   678.0                 129.0   \n",
       "12   Feb’19                  1061.0                 277.0   \n",
       "13   Feb’20                   755.0                 183.0   \n",
       "14   Mar’19                  1186.0                 282.0   \n",
       "15   Mar’20                  1597.0                 461.0   \n",
       "16   Apr’19                   846.0                 160.0   \n",
       "17   Apr’20                  1466.0                 420.0   \n",
       "18  May ’19                   642.0                 150.0   \n",
       "19  May ’20                   977.0                 235.0   \n",
       "20   Jun’19                   934.0                 231.0   \n",
       "21   Jun’20                  1178.0                 191.0   \n",
       "\n",
       "    PC & Video Games Software  Video Game Accessories & Game Cards  \n",
       "0                       253.0                                289.0  \n",
       "1                       340.0                                254.0  \n",
       "2                       341.0                                257.0  \n",
       "3                       257.0                                242.0  \n",
       "4                       761.0                                328.0  \n",
       "5                       732.0                                308.0  \n",
       "6                       983.0                                277.0  \n",
       "7                       620.0                                231.0  \n",
       "8                      1314.0                               1012.0  \n",
       "9                      1141.0                                869.0  \n",
       "10                      451.0                                268.0  \n",
       "11                      311.0                                238.0  \n",
       "12                      477.0                                308.0  \n",
       "13                      307.0                                265.0  \n",
       "14                      550.0                                354.0  \n",
       "15                      739.0                                397.0  \n",
       "16                      428.0                                258.0  \n",
       "17                      662.0                                384.0  \n",
       "18                      262.0                                230.0  \n",
       "19                      438.0                                304.0  \n",
       "20                      382.0                                322.0  \n",
       "21                      570.0                                417.0  "
      ]
     },
     "execution_count": 12,
     "metadata": {},
     "output_type": "execute_result"
    }
   ],
   "source": [
    "# Loading and reading the gamesales dataset that does not take microtransactions into account\n",
    "gamesales_1_df = pd.read_csv(\"./Datasets/gamesales(Jan_2020_June_2020).csv\")\n",
    "# Dropping a duplicate indexing column\n",
    "gamesales_1_df = gamesales_1_df.drop('Unnamed: 0', axis=1)\n",
    "# Applies convertmillions function to every column, except for date\n",
    "for i in range(1, len(gamesales_1_df.columns)):\n",
    "    gamesales_1_df[gamesales_1_df.columns[i]] = gamesales_1_df[gamesales_1_df.columns[i]].apply(convertmillions)\n",
    "gamesales_1_df"
   ]
  },
  {
   "cell_type": "markdown",
   "metadata": {},
   "source": [
    "Note that data for November 2018 and November 2019 are missing."
   ]
  },
  {
   "cell_type": "code",
   "execution_count": 13,
   "metadata": {},
   "outputs": [
    {
     "data": {
      "text/html": [
       "<div>\n",
       "<style scoped>\n",
       "    .dataframe tbody tr th:only-of-type {\n",
       "        vertical-align: middle;\n",
       "    }\n",
       "\n",
       "    .dataframe tbody tr th {\n",
       "        vertical-align: top;\n",
       "    }\n",
       "\n",
       "    .dataframe thead th {\n",
       "        text-align: right;\n",
       "    }\n",
       "</style>\n",
       "<table border=\"1\" class=\"dataframe\">\n",
       "  <thead>\n",
       "    <tr style=\"text-align: right;\">\n",
       "      <th></th>\n",
       "      <th>Date</th>\n",
       "      <th>Total Video Game Sales</th>\n",
       "      <th>Video Game Hardware</th>\n",
       "      <th>Video Game Content</th>\n",
       "      <th>Video Game Accessories</th>\n",
       "    </tr>\n",
       "  </thead>\n",
       "  <tbody>\n",
       "    <tr>\n",
       "      <th>0</th>\n",
       "      <td>Jul’19</td>\n",
       "      <td>2723.0</td>\n",
       "      <td>170.0</td>\n",
       "      <td>2426.0</td>\n",
       "      <td>127.0</td>\n",
       "    </tr>\n",
       "    <tr>\n",
       "      <th>1</th>\n",
       "      <td>Jul’20</td>\n",
       "      <td>3587.0</td>\n",
       "      <td>166.0</td>\n",
       "      <td>3251.0</td>\n",
       "      <td>170.0</td>\n",
       "    </tr>\n",
       "    <tr>\n",
       "      <th>2</th>\n",
       "      <td>Aug’19</td>\n",
       "      <td>2431.0</td>\n",
       "      <td>167.0</td>\n",
       "      <td>2147.0</td>\n",
       "      <td>117.0</td>\n",
       "    </tr>\n",
       "    <tr>\n",
       "      <th>3</th>\n",
       "      <td>Aug’20</td>\n",
       "      <td>3330.0</td>\n",
       "      <td>229.0</td>\n",
       "      <td>2935.0</td>\n",
       "      <td>166.0</td>\n",
       "    </tr>\n",
       "    <tr>\n",
       "      <th>4</th>\n",
       "      <td>Sep’19</td>\n",
       "      <td>3929.0</td>\n",
       "      <td>241.0</td>\n",
       "      <td>3541.0</td>\n",
       "      <td>148.0</td>\n",
       "    </tr>\n",
       "    <tr>\n",
       "      <th>5</th>\n",
       "      <td>Sep’20</td>\n",
       "      <td>4310.0</td>\n",
       "      <td>277.0</td>\n",
       "      <td>3841.0</td>\n",
       "      <td>191.0</td>\n",
       "    </tr>\n",
       "    <tr>\n",
       "      <th>6</th>\n",
       "      <td>Oct’19</td>\n",
       "      <td>3358.0</td>\n",
       "      <td>183.0</td>\n",
       "      <td>3054.0</td>\n",
       "      <td>121.0</td>\n",
       "    </tr>\n",
       "    <tr>\n",
       "      <th>7</th>\n",
       "      <td>Oct’20</td>\n",
       "      <td>3836.0</td>\n",
       "      <td>259.0</td>\n",
       "      <td>3429.0</td>\n",
       "      <td>148.0</td>\n",
       "    </tr>\n",
       "    <tr>\n",
       "      <th>8</th>\n",
       "      <td>Nov 2019</td>\n",
       "      <td>5162.0</td>\n",
       "      <td>897.0</td>\n",
       "      <td>3974.0</td>\n",
       "      <td>291.0</td>\n",
       "    </tr>\n",
       "    <tr>\n",
       "      <th>9</th>\n",
       "      <td>Nov 2020</td>\n",
       "      <td>6973.0</td>\n",
       "      <td>1415.0</td>\n",
       "      <td>5244.0</td>\n",
       "      <td>314.0</td>\n",
       "    </tr>\n",
       "    <tr>\n",
       "      <th>10</th>\n",
       "      <td>Dec 2019</td>\n",
       "      <td>6184.0</td>\n",
       "      <td>978.0</td>\n",
       "      <td>4732.0</td>\n",
       "      <td>474.0</td>\n",
       "    </tr>\n",
       "    <tr>\n",
       "      <th>11</th>\n",
       "      <td>Dec 2020</td>\n",
       "      <td>7702.0</td>\n",
       "      <td>1350.0</td>\n",
       "      <td>5806.0</td>\n",
       "      <td>546.0</td>\n",
       "    </tr>\n",
       "    <tr>\n",
       "      <th>12</th>\n",
       "      <td>Jan 2020</td>\n",
       "      <td>3320.0</td>\n",
       "      <td>131.0</td>\n",
       "      <td>3062.0</td>\n",
       "      <td>128.0</td>\n",
       "    </tr>\n",
       "    <tr>\n",
       "      <th>13</th>\n",
       "      <td>Jan 2021</td>\n",
       "      <td>4713.0</td>\n",
       "      <td>319.0</td>\n",
       "      <td>4172.0</td>\n",
       "      <td>222.0</td>\n",
       "    </tr>\n",
       "    <tr>\n",
       "      <th>14</th>\n",
       "      <td>Feb 2020</td>\n",
       "      <td>3397.0</td>\n",
       "      <td>184.0</td>\n",
       "      <td>3075.0</td>\n",
       "      <td>138.0</td>\n",
       "    </tr>\n",
       "    <tr>\n",
       "      <th>15</th>\n",
       "      <td>Feb 2021</td>\n",
       "      <td>4599.0</td>\n",
       "      <td>406.0</td>\n",
       "      <td>3998.0</td>\n",
       "      <td>195.0</td>\n",
       "    </tr>\n",
       "    <tr>\n",
       "      <th>16</th>\n",
       "      <td>Mar 2020</td>\n",
       "      <td>4762.0</td>\n",
       "      <td>463.0</td>\n",
       "      <td>4062.0</td>\n",
       "      <td>238.0</td>\n",
       "    </tr>\n",
       "    <tr>\n",
       "      <th>17</th>\n",
       "      <td>Mar 2021</td>\n",
       "      <td>5608.0</td>\n",
       "      <td>680.0</td>\n",
       "      <td>4628.0</td>\n",
       "      <td>300.0</td>\n",
       "    </tr>\n",
       "  </tbody>\n",
       "</table>\n",
       "</div>"
      ],
      "text/plain": [
       "        Date  Total Video Game Sales  Video Game Hardware  Video Game Content  \\\n",
       "0     Jul’19                  2723.0                170.0              2426.0   \n",
       "1     Jul’20                  3587.0                166.0              3251.0   \n",
       "2     Aug’19                  2431.0                167.0              2147.0   \n",
       "3     Aug’20                  3330.0                229.0              2935.0   \n",
       "4     Sep’19                  3929.0                241.0              3541.0   \n",
       "5     Sep’20                  4310.0                277.0              3841.0   \n",
       "6     Oct’19                  3358.0                183.0              3054.0   \n",
       "7     Oct’20                  3836.0                259.0              3429.0   \n",
       "8   Nov 2019                  5162.0                897.0              3974.0   \n",
       "9   Nov 2020                  6973.0               1415.0              5244.0   \n",
       "10  Dec 2019                  6184.0                978.0              4732.0   \n",
       "11  Dec 2020                  7702.0               1350.0              5806.0   \n",
       "12  Jan 2020                  3320.0                131.0              3062.0   \n",
       "13  Jan 2021                  4713.0                319.0              4172.0   \n",
       "14  Feb 2020                  3397.0                184.0              3075.0   \n",
       "15  Feb 2021                  4599.0                406.0              3998.0   \n",
       "16  Mar 2020                  4762.0                463.0              4062.0   \n",
       "17  Mar 2021                  5608.0                680.0              4628.0   \n",
       "\n",
       "    Video Game Accessories  \n",
       "0                    127.0  \n",
       "1                    170.0  \n",
       "2                    117.0  \n",
       "3                    166.0  \n",
       "4                    148.0  \n",
       "5                    191.0  \n",
       "6                    121.0  \n",
       "7                    148.0  \n",
       "8                    291.0  \n",
       "9                    314.0  \n",
       "10                   474.0  \n",
       "11                   546.0  \n",
       "12                   128.0  \n",
       "13                   222.0  \n",
       "14                   138.0  \n",
       "15                   195.0  \n",
       "16                   238.0  \n",
       "17                   300.0  "
      ]
     },
     "execution_count": 13,
     "metadata": {},
     "output_type": "execute_result"
    }
   ],
   "source": [
    "# Loading and reading the gamesales dataset that takes microtransactions into account\n",
    "gamesales_2_df = pd.read_csv(\"./Datasets/gamesales(July_2020_March_2021).csv\")\n",
    "# Dropping a duplicate indexing column\n",
    "gamesales_2_df = gamesales_2_df.drop('Unnamed: 0', axis=1)\n",
    "\n",
    "# Applies convertmillions function to every column, except for date\n",
    "for i in range(1, len(gamesales_2_df.columns)):\n",
    "    gamesales_2_df[gamesales_2_df.columns[i]] = gamesales_2_df[gamesales_2_df.columns[i]].apply(convertmillions)\n",
    "gamesales_2_df"
   ]
  },
  {
   "cell_type": "code",
   "execution_count": 14,
   "metadata": {},
   "outputs": [],
   "source": [
    "# Converting date into a uniform format\n",
    "def convert_date(string):\n",
    "    # get year from date\n",
    "    year_number = int(string[-2:])\n",
    "    \n",
    "    # get month from date\n",
    "    datetime_object = datetime.datetime.strptime(string[:3], \"%b\")\n",
    "    month_number = datetime_object.month\n",
    "    \n",
    "    # If the month number is less than double digits then add a '0' infront\n",
    "    # E.g. the month number of January is 1, and since it's not a double digit adding '0' would result in 01\n",
    "    if month_number < 10:\n",
    "        return '20' + str(year_number) + '-' + '0' + str(month_number)\n",
    "    return '20' + str(year_number) + '-' + str(month_number)\n",
    "\n",
    "# Apply the conversion to the date values of gamesales\n",
    "gamesales_1_df['Year-Month'] = gamesales_1_df['Date'].apply(convert_date)\n",
    "gamesales_2_df['Year-Month'] = gamesales_2_df['Date'].apply(convert_date)"
   ]
  },
  {
   "cell_type": "code",
   "execution_count": 15,
   "metadata": {},
   "outputs": [],
   "source": [
    "# Formatting the date into a year-month-day format\n",
    "def format_year(year):\n",
    "    # converting year into string\n",
    "    string = str(year)\n",
    "    # slicing the year, month, and day from the given string\n",
    "    y = string[:4]\n",
    "    m = string[4:6]\n",
    "    d = string[6:]\n",
    "    # returning in the desired format\n",
    "    return y + '-' + m + '-' + d\n",
    "\n",
    "# Formatting the date into a year-month format\n",
    "def format_year_no_day(year):\n",
    "    # converting year into string\n",
    "    string = str(year)\n",
    "    # slicing the year and month from the given string\n",
    "    y = string[:4]\n",
    "    m = string[4:6]\n",
    "    # returning in the desired format\n",
    "    return y + '-' + m\n",
    "\n",
    "# Apply conversion to standardize the lockdown dates\n",
    "lockdown['Year-Month'] = lockdown['Year'].apply(format_year_no_day)\n",
    "lockdown['Date'] = lockdown['Year'].apply(format_year)"
   ]
  },
  {
   "cell_type": "code",
   "execution_count": 16,
   "metadata": {},
   "outputs": [],
   "source": [
    "# Replacing ',' with '' and converting the population value into an int\n",
    "population_county['Value'] = population_county['Value'].str.replace(',', '').astype(int)"
   ]
  },
  {
   "cell_type": "markdown",
   "metadata": {},
   "source": [
    "### Steam Genres"
   ]
  },
  {
   "cell_type": "markdown",
   "metadata": {},
   "source": [
    "Steam game genres were obtained by modifying an existing Steam scraper: https://github.com/nik-davis/steam-data-science-project\n",
    "<br><br>\n",
    "Code with modifications are included in the 'genre_scraper' folder."
   ]
  },
  {
   "cell_type": "code",
   "execution_count": 17,
   "metadata": {},
   "outputs": [
    {
     "data": {
      "text/plain": [
       "(1276, 39)"
      ]
     },
     "execution_count": 17,
     "metadata": {},
     "output_type": "execute_result"
    }
   ],
   "source": [
    "# Loading and reading the steam genres dataset\n",
    "genres = pd.read_csv('Datasets/steam_app_data.csv')\n",
    "genres.shape"
   ]
  },
  {
   "cell_type": "code",
   "execution_count": 18,
   "metadata": {},
   "outputs": [
    {
     "data": {
      "text/plain": [
       "48"
      ]
     },
     "execution_count": 18,
     "metadata": {},
     "output_type": "execute_result"
    }
   ],
   "source": [
    "# Checking null values in genres column\n",
    "genres['genres'].isnull().sum()"
   ]
  },
  {
   "cell_type": "code",
   "execution_count": 19,
   "metadata": {},
   "outputs": [
    {
     "data": {
      "text/html": [
       "<div>\n",
       "<style scoped>\n",
       "    .dataframe tbody tr th:only-of-type {\n",
       "        vertical-align: middle;\n",
       "    }\n",
       "\n",
       "    .dataframe tbody tr th {\n",
       "        vertical-align: top;\n",
       "    }\n",
       "\n",
       "    .dataframe thead th {\n",
       "        text-align: right;\n",
       "    }\n",
       "</style>\n",
       "<table border=\"1\" class=\"dataframe\">\n",
       "  <thead>\n",
       "    <tr style=\"text-align: right;\">\n",
       "      <th></th>\n",
       "      <th>gamename</th>\n",
       "      <th>genres</th>\n",
       "    </tr>\n",
       "  </thead>\n",
       "  <tbody>\n",
       "    <tr>\n",
       "      <th>0</th>\n",
       "      <td>Kingdoms Reborn</td>\n",
       "      <td>[{'id': '23', 'description': 'Indie'}, {'id': ...</td>\n",
       "    </tr>\n",
       "    <tr>\n",
       "      <th>1</th>\n",
       "      <td>Craftopia</td>\n",
       "      <td>[{'id': '1', 'description': 'Action'}, {'id': ...</td>\n",
       "    </tr>\n",
       "    <tr>\n",
       "      <th>2</th>\n",
       "      <td>STAR WARS™: The Old Republic™</td>\n",
       "      <td>[{'id': '37', 'description': 'Free to Play'}, ...</td>\n",
       "    </tr>\n",
       "    <tr>\n",
       "      <th>3</th>\n",
       "      <td>YoloMouse</td>\n",
       "      <td>[{'id': '51', 'description': 'Animation &amp; Mode...</td>\n",
       "    </tr>\n",
       "    <tr>\n",
       "      <th>4</th>\n",
       "      <td>Train Sim World® 2</td>\n",
       "      <td>[{'id': '28', 'description': 'Simulation'}]</td>\n",
       "    </tr>\n",
       "  </tbody>\n",
       "</table>\n",
       "</div>"
      ],
      "text/plain": [
       "                        gamename  \\\n",
       "0                Kingdoms Reborn   \n",
       "1                      Craftopia   \n",
       "2  STAR WARS™: The Old Republic™   \n",
       "3                      YoloMouse   \n",
       "4             Train Sim World® 2   \n",
       "\n",
       "                                              genres  \n",
       "0  [{'id': '23', 'description': 'Indie'}, {'id': ...  \n",
       "1  [{'id': '1', 'description': 'Action'}, {'id': ...  \n",
       "2  [{'id': '37', 'description': 'Free to Play'}, ...  \n",
       "3  [{'id': '51', 'description': 'Animation & Mode...  \n",
       "4        [{'id': '28', 'description': 'Simulation'}]  "
      ]
     },
     "execution_count": 19,
     "metadata": {},
     "output_type": "execute_result"
    }
   ],
   "source": [
    "# Selecting the game name and genres column and these are the only values we need\n",
    "genres = genres[['name','genres']]\n",
    "# Renaming columns to allow a smooth merge between the steam games dataset\n",
    "genres.columns = ['gamename','genres']\n",
    "genres.head()"
   ]
  },
  {
   "cell_type": "code",
   "execution_count": 20,
   "metadata": {},
   "outputs": [],
   "source": [
    "# Dropping null values from 'genres'\n",
    "genres = genres.dropna(subset=['genres'])"
   ]
  },
  {
   "cell_type": "code",
   "execution_count": 21,
   "metadata": {},
   "outputs": [
    {
     "data": {
      "text/html": [
       "<div>\n",
       "<style scoped>\n",
       "    .dataframe tbody tr th:only-of-type {\n",
       "        vertical-align: middle;\n",
       "    }\n",
       "\n",
       "    .dataframe tbody tr th {\n",
       "        vertical-align: top;\n",
       "    }\n",
       "\n",
       "    .dataframe thead th {\n",
       "        text-align: right;\n",
       "    }\n",
       "</style>\n",
       "<table border=\"1\" class=\"dataframe\">\n",
       "  <thead>\n",
       "    <tr style=\"text-align: right;\">\n",
       "      <th></th>\n",
       "      <th>gamename</th>\n",
       "      <th>genres</th>\n",
       "    </tr>\n",
       "  </thead>\n",
       "  <tbody>\n",
       "    <tr>\n",
       "      <th>0</th>\n",
       "      <td>kingdoms reborn</td>\n",
       "      <td>Indie;Simulation;Strategy;Early Access</td>\n",
       "    </tr>\n",
       "    <tr>\n",
       "      <th>1</th>\n",
       "      <td>craftopia</td>\n",
       "      <td>Action;Adventure;Indie;RPG;Early Access</td>\n",
       "    </tr>\n",
       "    <tr>\n",
       "      <th>2</th>\n",
       "      <td>star wars: the old republic</td>\n",
       "      <td>Free to Play;Massively Multiplayer;RPG</td>\n",
       "    </tr>\n",
       "    <tr>\n",
       "      <th>3</th>\n",
       "      <td>yolomouse</td>\n",
       "      <td>Animation &amp; Modeling;Design &amp; Illustration;Edu...</td>\n",
       "    </tr>\n",
       "    <tr>\n",
       "      <th>4</th>\n",
       "      <td>train sim world 2</td>\n",
       "      <td>Simulation</td>\n",
       "    </tr>\n",
       "  </tbody>\n",
       "</table>\n",
       "</div>"
      ],
      "text/plain": [
       "                      gamename  \\\n",
       "0              kingdoms reborn   \n",
       "1                    craftopia   \n",
       "2  star wars: the old republic   \n",
       "3                    yolomouse   \n",
       "4            train sim world 2   \n",
       "\n",
       "                                              genres  \n",
       "0             Indie;Simulation;Strategy;Early Access  \n",
       "1            Action;Adventure;Indie;RPG;Early Access  \n",
       "2             Free to Play;Massively Multiplayer;RPG  \n",
       "3  Animation & Modeling;Design & Illustration;Edu...  \n",
       "4                                         Simulation  "
      ]
     },
     "execution_count": 21,
     "metadata": {},
     "output_type": "execute_result"
    }
   ],
   "source": [
    "# Standardize the game name by converting all text to lowercase and getting rid of not ascii characters\n",
    "genres['gamename'] = genres['gamename'].str.encode('ascii', 'ignore').str.decode('ascii')\n",
    "genres['gamename'] = genres['gamename'].apply(lambda x : x.lower())\n",
    "# Converting the genres into a string separated by ';'\n",
    "genres['genres'] = genres['genres'].apply(lambda x: ';'.join(item['description'] for item in literal_eval(x)))\n",
    "\n",
    "# Converting foreign words into English\n",
    "def to_english(string):\n",
    "    # Replacing words that share the same meaning\n",
    "    string = string.replace('Acción', 'Action')\n",
    "    string = string.replace('Ação', 'Action')\n",
    "    string = string.replace('Multijogador Massivo', 'Massively Multiplayer')\n",
    "    string = string.replace('Aventura', 'Adventure')\n",
    "    return string\n",
    "\n",
    "# Apply conversion to standardize the genres\n",
    "genres['genres'] = genres['genres'].apply(to_english)\n",
    "genres.head()"
   ]
  },
  {
   "cell_type": "code",
   "execution_count": 22,
   "metadata": {},
   "outputs": [
    {
     "data": {
      "text/html": [
       "<div>\n",
       "<style scoped>\n",
       "    .dataframe tbody tr th:only-of-type {\n",
       "        vertical-align: middle;\n",
       "    }\n",
       "\n",
       "    .dataframe tbody tr th {\n",
       "        vertical-align: top;\n",
       "    }\n",
       "\n",
       "    .dataframe thead th {\n",
       "        text-align: right;\n",
       "    }\n",
       "</style>\n",
       "<table border=\"1\" class=\"dataframe\">\n",
       "  <thead>\n",
       "    <tr style=\"text-align: right;\">\n",
       "      <th></th>\n",
       "      <th>gamename</th>\n",
       "      <th>year</th>\n",
       "      <th>month</th>\n",
       "      <th>avg</th>\n",
       "      <th>gain</th>\n",
       "      <th>peak</th>\n",
       "      <th>avg_peak_perc</th>\n",
       "      <th>genres</th>\n",
       "    </tr>\n",
       "  </thead>\n",
       "  <tbody>\n",
       "    <tr>\n",
       "      <th>0</th>\n",
       "      <td>counter-strike: global offensive</td>\n",
       "      <td>2021</td>\n",
       "      <td>February</td>\n",
       "      <td>741013.24</td>\n",
       "      <td>-2196.42</td>\n",
       "      <td>1123485</td>\n",
       "      <td>65.9567%</td>\n",
       "      <td>[Action, Free to Play]</td>\n",
       "    </tr>\n",
       "    <tr>\n",
       "      <th>1</th>\n",
       "      <td>counter-strike: global offensive</td>\n",
       "      <td>2021</td>\n",
       "      <td>January</td>\n",
       "      <td>743209.66</td>\n",
       "      <td>25405.91</td>\n",
       "      <td>1124553</td>\n",
       "      <td>66.0893%</td>\n",
       "      <td>[Action, Free to Play]</td>\n",
       "    </tr>\n",
       "    <tr>\n",
       "      <th>2</th>\n",
       "      <td>counter-strike: global offensive</td>\n",
       "      <td>2020</td>\n",
       "      <td>December</td>\n",
       "      <td>717803.75</td>\n",
       "      <td>49049.17</td>\n",
       "      <td>1164396</td>\n",
       "      <td>61.646%</td>\n",
       "      <td>[Action, Free to Play]</td>\n",
       "    </tr>\n",
       "    <tr>\n",
       "      <th>3</th>\n",
       "      <td>counter-strike: global offensive</td>\n",
       "      <td>2020</td>\n",
       "      <td>November</td>\n",
       "      <td>668754.58</td>\n",
       "      <td>55087.89</td>\n",
       "      <td>1037464</td>\n",
       "      <td>64.4605%</td>\n",
       "      <td>[Action, Free to Play]</td>\n",
       "    </tr>\n",
       "    <tr>\n",
       "      <th>4</th>\n",
       "      <td>counter-strike: global offensive</td>\n",
       "      <td>2020</td>\n",
       "      <td>October</td>\n",
       "      <td>613666.69</td>\n",
       "      <td>6816.37</td>\n",
       "      <td>943876</td>\n",
       "      <td>65.0156%</td>\n",
       "      <td>[Action, Free to Play]</td>\n",
       "    </tr>\n",
       "  </tbody>\n",
       "</table>\n",
       "</div>"
      ],
      "text/plain": [
       "                           gamename  year     month        avg      gain  \\\n",
       "0  counter-strike: global offensive  2021  February  741013.24  -2196.42   \n",
       "1  counter-strike: global offensive  2021   January  743209.66  25405.91   \n",
       "2  counter-strike: global offensive  2020  December  717803.75  49049.17   \n",
       "3  counter-strike: global offensive  2020  November  668754.58  55087.89   \n",
       "4  counter-strike: global offensive  2020   October  613666.69   6816.37   \n",
       "\n",
       "      peak avg_peak_perc                  genres  \n",
       "0  1123485      65.9567%  [Action, Free to Play]  \n",
       "1  1124553      66.0893%  [Action, Free to Play]  \n",
       "2  1164396       61.646%  [Action, Free to Play]  \n",
       "3  1037464      64.4605%  [Action, Free to Play]  \n",
       "4   943876      65.0156%  [Action, Free to Play]  "
      ]
     },
     "execution_count": 22,
     "metadata": {},
     "output_type": "execute_result"
    }
   ],
   "source": [
    "# Merging the genres and steam dataset to show the genres of each game\n",
    "complete_steam = pd.merge(steam_df, genres, on='gamename', how='left')\n",
    "# Dropping games that have no found genres\n",
    "complete_steam = complete_steam.dropna(subset=['genres'])\n",
    "# Splitting the string into a list\n",
    "complete_steam['genres'] = complete_steam['genres'].apply(lambda x : x.split(';'))\n",
    "complete_steam.head()"
   ]
  },
  {
   "cell_type": "code",
   "execution_count": 23,
   "metadata": {},
   "outputs": [
    {
     "data": {
      "text/html": [
       "<div>\n",
       "<style scoped>\n",
       "    .dataframe tbody tr th:only-of-type {\n",
       "        vertical-align: middle;\n",
       "    }\n",
       "\n",
       "    .dataframe tbody tr th {\n",
       "        vertical-align: top;\n",
       "    }\n",
       "\n",
       "    .dataframe thead th {\n",
       "        text-align: right;\n",
       "    }\n",
       "</style>\n",
       "<table border=\"1\" class=\"dataframe\">\n",
       "  <thead>\n",
       "    <tr style=\"text-align: right;\">\n",
       "      <th></th>\n",
       "      <th>gamename</th>\n",
       "      <th>year</th>\n",
       "      <th>month</th>\n",
       "      <th>avg</th>\n",
       "      <th>gain</th>\n",
       "      <th>peak</th>\n",
       "      <th>avg_peak_perc</th>\n",
       "      <th>genres</th>\n",
       "      <th>Year-Month</th>\n",
       "    </tr>\n",
       "  </thead>\n",
       "  <tbody>\n",
       "    <tr>\n",
       "      <th>0</th>\n",
       "      <td>counter-strike: global offensive</td>\n",
       "      <td>2021</td>\n",
       "      <td>February</td>\n",
       "      <td>741013.24</td>\n",
       "      <td>-2196.42</td>\n",
       "      <td>1123485</td>\n",
       "      <td>65.9567%</td>\n",
       "      <td>[Action, Free to Play]</td>\n",
       "      <td>2021-02</td>\n",
       "    </tr>\n",
       "    <tr>\n",
       "      <th>1</th>\n",
       "      <td>counter-strike: global offensive</td>\n",
       "      <td>2021</td>\n",
       "      <td>January</td>\n",
       "      <td>743209.66</td>\n",
       "      <td>25405.91</td>\n",
       "      <td>1124553</td>\n",
       "      <td>66.0893%</td>\n",
       "      <td>[Action, Free to Play]</td>\n",
       "      <td>2021-01</td>\n",
       "    </tr>\n",
       "    <tr>\n",
       "      <th>2</th>\n",
       "      <td>counter-strike: global offensive</td>\n",
       "      <td>2020</td>\n",
       "      <td>December</td>\n",
       "      <td>717803.75</td>\n",
       "      <td>49049.17</td>\n",
       "      <td>1164396</td>\n",
       "      <td>61.646%</td>\n",
       "      <td>[Action, Free to Play]</td>\n",
       "      <td>2020-12</td>\n",
       "    </tr>\n",
       "    <tr>\n",
       "      <th>3</th>\n",
       "      <td>counter-strike: global offensive</td>\n",
       "      <td>2020</td>\n",
       "      <td>November</td>\n",
       "      <td>668754.58</td>\n",
       "      <td>55087.89</td>\n",
       "      <td>1037464</td>\n",
       "      <td>64.4605%</td>\n",
       "      <td>[Action, Free to Play]</td>\n",
       "      <td>2020-11</td>\n",
       "    </tr>\n",
       "    <tr>\n",
       "      <th>4</th>\n",
       "      <td>counter-strike: global offensive</td>\n",
       "      <td>2020</td>\n",
       "      <td>October</td>\n",
       "      <td>613666.69</td>\n",
       "      <td>6816.37</td>\n",
       "      <td>943876</td>\n",
       "      <td>65.0156%</td>\n",
       "      <td>[Action, Free to Play]</td>\n",
       "      <td>2020-10</td>\n",
       "    </tr>\n",
       "  </tbody>\n",
       "</table>\n",
       "</div>"
      ],
      "text/plain": [
       "                           gamename  year     month        avg      gain  \\\n",
       "0  counter-strike: global offensive  2021  February  741013.24  -2196.42   \n",
       "1  counter-strike: global offensive  2021   January  743209.66  25405.91   \n",
       "2  counter-strike: global offensive  2020  December  717803.75  49049.17   \n",
       "3  counter-strike: global offensive  2020  November  668754.58  55087.89   \n",
       "4  counter-strike: global offensive  2020   October  613666.69   6816.37   \n",
       "\n",
       "      peak avg_peak_perc                  genres Year-Month  \n",
       "0  1123485      65.9567%  [Action, Free to Play]    2021-02  \n",
       "1  1124553      66.0893%  [Action, Free to Play]    2021-01  \n",
       "2  1164396       61.646%  [Action, Free to Play]    2020-12  \n",
       "3  1037464      64.4605%  [Action, Free to Play]    2020-11  \n",
       "4   943876      65.0156%  [Action, Free to Play]    2020-10  "
      ]
     },
     "execution_count": 23,
     "metadata": {},
     "output_type": "execute_result"
    }
   ],
   "source": [
    "# Converting date into a uniform format\n",
    "def combine_year_month(year, month):\n",
    "    datetime_object = datetime.datetime.strptime(month, \"%B\")\n",
    "    month_number = datetime_object.month\n",
    "    \n",
    "    # If the month number is less than double digits then add a '0' infront\n",
    "    # E.g. the month number of January is 1, and since it's not a double digit adding '0' would result in 01\n",
    "    if month_number < 10:\n",
    "        return str(year) + '-' + '0' + str(month_number)\n",
    "    return str(year) + '-' + str(month_number)\n",
    "\n",
    "# Applying conversion to the date\n",
    "complete_steam['Year-Month'] = complete_steam.apply(lambda x: combine_year_month(x['year'], x['month']), axis=1)\n",
    "complete_steam.head()"
   ]
  },
  {
   "cell_type": "markdown",
   "metadata": {},
   "source": [
    "# EDA"
   ]
  },
  {
   "cell_type": "markdown",
   "metadata": {},
   "source": [
    "Let's take a look at the first few rows of each dataset first. This helps us see the overall format of all dataset and also how each column looks like."
   ]
  },
  {
   "cell_type": "code",
   "execution_count": 24,
   "metadata": {},
   "outputs": [
    {
     "data": {
      "text/html": [
       "<div>\n",
       "<style scoped>\n",
       "    .dataframe tbody tr th:only-of-type {\n",
       "        vertical-align: middle;\n",
       "    }\n",
       "\n",
       "    .dataframe tbody tr th {\n",
       "        vertical-align: top;\n",
       "    }\n",
       "\n",
       "    .dataframe thead th {\n",
       "        text-align: right;\n",
       "    }\n",
       "</style>\n",
       "<table border=\"1\" class=\"dataframe\">\n",
       "  <thead>\n",
       "    <tr style=\"text-align: right;\">\n",
       "      <th></th>\n",
       "      <th>gamename</th>\n",
       "      <th>year</th>\n",
       "      <th>month</th>\n",
       "      <th>avg</th>\n",
       "      <th>gain</th>\n",
       "      <th>peak</th>\n",
       "      <th>avg_peak_perc</th>\n",
       "      <th>genres</th>\n",
       "      <th>Year-Month</th>\n",
       "    </tr>\n",
       "  </thead>\n",
       "  <tbody>\n",
       "    <tr>\n",
       "      <th>0</th>\n",
       "      <td>counter-strike: global offensive</td>\n",
       "      <td>2021</td>\n",
       "      <td>February</td>\n",
       "      <td>741013.24</td>\n",
       "      <td>-2196.42</td>\n",
       "      <td>1123485</td>\n",
       "      <td>65.9567%</td>\n",
       "      <td>[Action, Free to Play]</td>\n",
       "      <td>2021-02</td>\n",
       "    </tr>\n",
       "    <tr>\n",
       "      <th>1</th>\n",
       "      <td>counter-strike: global offensive</td>\n",
       "      <td>2021</td>\n",
       "      <td>January</td>\n",
       "      <td>743209.66</td>\n",
       "      <td>25405.91</td>\n",
       "      <td>1124553</td>\n",
       "      <td>66.0893%</td>\n",
       "      <td>[Action, Free to Play]</td>\n",
       "      <td>2021-01</td>\n",
       "    </tr>\n",
       "    <tr>\n",
       "      <th>2</th>\n",
       "      <td>counter-strike: global offensive</td>\n",
       "      <td>2020</td>\n",
       "      <td>December</td>\n",
       "      <td>717803.75</td>\n",
       "      <td>49049.17</td>\n",
       "      <td>1164396</td>\n",
       "      <td>61.646%</td>\n",
       "      <td>[Action, Free to Play]</td>\n",
       "      <td>2020-12</td>\n",
       "    </tr>\n",
       "    <tr>\n",
       "      <th>3</th>\n",
       "      <td>counter-strike: global offensive</td>\n",
       "      <td>2020</td>\n",
       "      <td>November</td>\n",
       "      <td>668754.58</td>\n",
       "      <td>55087.89</td>\n",
       "      <td>1037464</td>\n",
       "      <td>64.4605%</td>\n",
       "      <td>[Action, Free to Play]</td>\n",
       "      <td>2020-11</td>\n",
       "    </tr>\n",
       "    <tr>\n",
       "      <th>4</th>\n",
       "      <td>counter-strike: global offensive</td>\n",
       "      <td>2020</td>\n",
       "      <td>October</td>\n",
       "      <td>613666.69</td>\n",
       "      <td>6816.37</td>\n",
       "      <td>943876</td>\n",
       "      <td>65.0156%</td>\n",
       "      <td>[Action, Free to Play]</td>\n",
       "      <td>2020-10</td>\n",
       "    </tr>\n",
       "  </tbody>\n",
       "</table>\n",
       "</div>"
      ],
      "text/plain": [
       "                           gamename  year     month        avg      gain  \\\n",
       "0  counter-strike: global offensive  2021  February  741013.24  -2196.42   \n",
       "1  counter-strike: global offensive  2021   January  743209.66  25405.91   \n",
       "2  counter-strike: global offensive  2020  December  717803.75  49049.17   \n",
       "3  counter-strike: global offensive  2020  November  668754.58  55087.89   \n",
       "4  counter-strike: global offensive  2020   October  613666.69   6816.37   \n",
       "\n",
       "      peak avg_peak_perc                  genres Year-Month  \n",
       "0  1123485      65.9567%  [Action, Free to Play]    2021-02  \n",
       "1  1124553      66.0893%  [Action, Free to Play]    2021-01  \n",
       "2  1164396       61.646%  [Action, Free to Play]    2020-12  \n",
       "3  1037464      64.4605%  [Action, Free to Play]    2020-11  \n",
       "4   943876      65.0156%  [Action, Free to Play]    2020-10  "
      ]
     },
     "execution_count": 24,
     "metadata": {},
     "output_type": "execute_result"
    }
   ],
   "source": [
    "complete_steam.head()"
   ]
  },
  {
   "cell_type": "code",
   "execution_count": 25,
   "metadata": {},
   "outputs": [
    {
     "data": {
      "text/html": [
       "<div>\n",
       "<style scoped>\n",
       "    .dataframe tbody tr th:only-of-type {\n",
       "        vertical-align: middle;\n",
       "    }\n",
       "\n",
       "    .dataframe tbody tr th {\n",
       "        vertical-align: top;\n",
       "    }\n",
       "\n",
       "    .dataframe thead th {\n",
       "        text-align: right;\n",
       "    }\n",
       "</style>\n",
       "<table border=\"1\" class=\"dataframe\">\n",
       "  <thead>\n",
       "    <tr style=\"text-align: right;\">\n",
       "      <th></th>\n",
       "      <th>Date</th>\n",
       "      <th>Total Video Game Sales</th>\n",
       "      <th>Video Games Hardware</th>\n",
       "      <th>PC &amp; Video Games Software</th>\n",
       "      <th>Video Game Accessories &amp; Game Cards</th>\n",
       "      <th>Year-Month</th>\n",
       "    </tr>\n",
       "  </thead>\n",
       "  <tbody>\n",
       "    <tr>\n",
       "      <th>0</th>\n",
       "      <td>July’18</td>\n",
       "      <td>759.0</td>\n",
       "      <td>217.0</td>\n",
       "      <td>253.0</td>\n",
       "      <td>289.0</td>\n",
       "      <td>2018-07</td>\n",
       "    </tr>\n",
       "    <tr>\n",
       "      <th>1</th>\n",
       "      <td>July’19</td>\n",
       "      <td>762.0</td>\n",
       "      <td>169.0</td>\n",
       "      <td>340.0</td>\n",
       "      <td>254.0</td>\n",
       "      <td>2019-07</td>\n",
       "    </tr>\n",
       "    <tr>\n",
       "      <th>2</th>\n",
       "      <td>Aug’18</td>\n",
       "      <td>812.0</td>\n",
       "      <td>214.0</td>\n",
       "      <td>341.0</td>\n",
       "      <td>257.0</td>\n",
       "      <td>2018-08</td>\n",
       "    </tr>\n",
       "    <tr>\n",
       "      <th>3</th>\n",
       "      <td>Aug’19</td>\n",
       "      <td>666.0</td>\n",
       "      <td>167.0</td>\n",
       "      <td>257.0</td>\n",
       "      <td>242.0</td>\n",
       "      <td>2019-08</td>\n",
       "    </tr>\n",
       "    <tr>\n",
       "      <th>4</th>\n",
       "      <td>Sep’18</td>\n",
       "      <td>1396.0</td>\n",
       "      <td>307.0</td>\n",
       "      <td>761.0</td>\n",
       "      <td>328.0</td>\n",
       "      <td>2018-09</td>\n",
       "    </tr>\n",
       "  </tbody>\n",
       "</table>\n",
       "</div>"
      ],
      "text/plain": [
       "      Date  Total Video Game Sales  Video Games Hardware  \\\n",
       "0  July’18                   759.0                 217.0   \n",
       "1  July’19                   762.0                 169.0   \n",
       "2   Aug’18                   812.0                 214.0   \n",
       "3   Aug’19                   666.0                 167.0   \n",
       "4   Sep’18                  1396.0                 307.0   \n",
       "\n",
       "   PC & Video Games Software  Video Game Accessories & Game Cards Year-Month  \n",
       "0                      253.0                                289.0    2018-07  \n",
       "1                      340.0                                254.0    2019-07  \n",
       "2                      341.0                                257.0    2018-08  \n",
       "3                      257.0                                242.0    2019-08  \n",
       "4                      761.0                                328.0    2018-09  "
      ]
     },
     "execution_count": 25,
     "metadata": {},
     "output_type": "execute_result"
    }
   ],
   "source": [
    "gamesales_1_df.head()"
   ]
  },
  {
   "cell_type": "code",
   "execution_count": 26,
   "metadata": {},
   "outputs": [
    {
     "data": {
      "text/html": [
       "<div>\n",
       "<style scoped>\n",
       "    .dataframe tbody tr th:only-of-type {\n",
       "        vertical-align: middle;\n",
       "    }\n",
       "\n",
       "    .dataframe tbody tr th {\n",
       "        vertical-align: top;\n",
       "    }\n",
       "\n",
       "    .dataframe thead th {\n",
       "        text-align: right;\n",
       "    }\n",
       "</style>\n",
       "<table border=\"1\" class=\"dataframe\">\n",
       "  <thead>\n",
       "    <tr style=\"text-align: right;\">\n",
       "      <th></th>\n",
       "      <th>Date</th>\n",
       "      <th>Total Video Game Sales</th>\n",
       "      <th>Video Game Hardware</th>\n",
       "      <th>Video Game Content</th>\n",
       "      <th>Video Game Accessories</th>\n",
       "      <th>Year-Month</th>\n",
       "    </tr>\n",
       "  </thead>\n",
       "  <tbody>\n",
       "    <tr>\n",
       "      <th>0</th>\n",
       "      <td>Jul’19</td>\n",
       "      <td>2723.0</td>\n",
       "      <td>170.0</td>\n",
       "      <td>2426.0</td>\n",
       "      <td>127.0</td>\n",
       "      <td>2019-07</td>\n",
       "    </tr>\n",
       "    <tr>\n",
       "      <th>1</th>\n",
       "      <td>Jul’20</td>\n",
       "      <td>3587.0</td>\n",
       "      <td>166.0</td>\n",
       "      <td>3251.0</td>\n",
       "      <td>170.0</td>\n",
       "      <td>2020-07</td>\n",
       "    </tr>\n",
       "    <tr>\n",
       "      <th>2</th>\n",
       "      <td>Aug’19</td>\n",
       "      <td>2431.0</td>\n",
       "      <td>167.0</td>\n",
       "      <td>2147.0</td>\n",
       "      <td>117.0</td>\n",
       "      <td>2019-08</td>\n",
       "    </tr>\n",
       "    <tr>\n",
       "      <th>3</th>\n",
       "      <td>Aug’20</td>\n",
       "      <td>3330.0</td>\n",
       "      <td>229.0</td>\n",
       "      <td>2935.0</td>\n",
       "      <td>166.0</td>\n",
       "      <td>2020-08</td>\n",
       "    </tr>\n",
       "    <tr>\n",
       "      <th>4</th>\n",
       "      <td>Sep’19</td>\n",
       "      <td>3929.0</td>\n",
       "      <td>241.0</td>\n",
       "      <td>3541.0</td>\n",
       "      <td>148.0</td>\n",
       "      <td>2019-09</td>\n",
       "    </tr>\n",
       "  </tbody>\n",
       "</table>\n",
       "</div>"
      ],
      "text/plain": [
       "     Date  Total Video Game Sales  Video Game Hardware  Video Game Content  \\\n",
       "0  Jul’19                  2723.0                170.0              2426.0   \n",
       "1  Jul’20                  3587.0                166.0              3251.0   \n",
       "2  Aug’19                  2431.0                167.0              2147.0   \n",
       "3  Aug’20                  3330.0                229.0              2935.0   \n",
       "4  Sep’19                  3929.0                241.0              3541.0   \n",
       "\n",
       "   Video Game Accessories Year-Month  \n",
       "0                   127.0    2019-07  \n",
       "1                   170.0    2020-07  \n",
       "2                   117.0    2019-08  \n",
       "3                   166.0    2020-08  \n",
       "4                   148.0    2019-09  "
      ]
     },
     "execution_count": 26,
     "metadata": {},
     "output_type": "execute_result"
    }
   ],
   "source": [
    "gamesales_2_df.head()"
   ]
  },
  {
   "cell_type": "code",
   "execution_count": 27,
   "metadata": {},
   "outputs": [
    {
     "data": {
      "text/html": [
       "<div>\n",
       "<style scoped>\n",
       "    .dataframe tbody tr th:only-of-type {\n",
       "        vertical-align: middle;\n",
       "    }\n",
       "\n",
       "    .dataframe tbody tr th {\n",
       "        vertical-align: top;\n",
       "    }\n",
       "\n",
       "    .dataframe thead th {\n",
       "        text-align: right;\n",
       "    }\n",
       "</style>\n",
       "<table border=\"1\" class=\"dataframe\">\n",
       "  <thead>\n",
       "    <tr style=\"text-align: right;\">\n",
       "      <th></th>\n",
       "      <th>stateFIPS</th>\n",
       "      <th>State</th>\n",
       "      <th>countyFIPS</th>\n",
       "      <th>County</th>\n",
       "      <th>Year</th>\n",
       "      <th>Value</th>\n",
       "    </tr>\n",
       "  </thead>\n",
       "  <tbody>\n",
       "    <tr>\n",
       "      <th>0</th>\n",
       "      <td>1</td>\n",
       "      <td>Alabama</td>\n",
       "      <td>1001</td>\n",
       "      <td>Autauga</td>\n",
       "      <td>2019</td>\n",
       "      <td>55869</td>\n",
       "    </tr>\n",
       "    <tr>\n",
       "      <th>1</th>\n",
       "      <td>1</td>\n",
       "      <td>Alabama</td>\n",
       "      <td>1003</td>\n",
       "      <td>Baldwin</td>\n",
       "      <td>2019</td>\n",
       "      <td>223234</td>\n",
       "    </tr>\n",
       "    <tr>\n",
       "      <th>2</th>\n",
       "      <td>1</td>\n",
       "      <td>Alabama</td>\n",
       "      <td>1005</td>\n",
       "      <td>Barbour</td>\n",
       "      <td>2019</td>\n",
       "      <td>24686</td>\n",
       "    </tr>\n",
       "    <tr>\n",
       "      <th>3</th>\n",
       "      <td>1</td>\n",
       "      <td>Alabama</td>\n",
       "      <td>1007</td>\n",
       "      <td>Bibb</td>\n",
       "      <td>2019</td>\n",
       "      <td>22394</td>\n",
       "    </tr>\n",
       "    <tr>\n",
       "      <th>4</th>\n",
       "      <td>1</td>\n",
       "      <td>Alabama</td>\n",
       "      <td>1009</td>\n",
       "      <td>Blount</td>\n",
       "      <td>2019</td>\n",
       "      <td>57826</td>\n",
       "    </tr>\n",
       "  </tbody>\n",
       "</table>\n",
       "</div>"
      ],
      "text/plain": [
       "   stateFIPS    State  countyFIPS   County  Year   Value\n",
       "0          1  Alabama        1001  Autauga  2019   55869\n",
       "1          1  Alabama        1003  Baldwin  2019  223234\n",
       "2          1  Alabama        1005  Barbour  2019   24686\n",
       "3          1  Alabama        1007     Bibb  2019   22394\n",
       "4          1  Alabama        1009   Blount  2019   57826"
      ]
     },
     "execution_count": 27,
     "metadata": {},
     "output_type": "execute_result"
    }
   ],
   "source": [
    "population_county.head()"
   ]
  },
  {
   "cell_type": "code",
   "execution_count": 28,
   "metadata": {},
   "outputs": [
    {
     "data": {
      "text/html": [
       "<div>\n",
       "<style scoped>\n",
       "    .dataframe tbody tr th:only-of-type {\n",
       "        vertical-align: middle;\n",
       "    }\n",
       "\n",
       "    .dataframe tbody tr th {\n",
       "        vertical-align: top;\n",
       "    }\n",
       "\n",
       "    .dataframe thead th {\n",
       "        text-align: right;\n",
       "    }\n",
       "</style>\n",
       "<table border=\"1\" class=\"dataframe\">\n",
       "  <thead>\n",
       "    <tr style=\"text-align: right;\">\n",
       "      <th></th>\n",
       "      <th>stateFIPS</th>\n",
       "      <th>State</th>\n",
       "      <th>countyFIPS</th>\n",
       "      <th>County</th>\n",
       "      <th>Year</th>\n",
       "      <th>Value</th>\n",
       "      <th>County Order Status</th>\n",
       "      <th>Year-Month</th>\n",
       "      <th>Date</th>\n",
       "    </tr>\n",
       "  </thead>\n",
       "  <tbody>\n",
       "    <tr>\n",
       "      <th>0</th>\n",
       "      <td>1</td>\n",
       "      <td>Alabama</td>\n",
       "      <td>1001</td>\n",
       "      <td>Autauga</td>\n",
       "      <td>20200315</td>\n",
       "      <td>7</td>\n",
       "      <td>Mandatory - all people (7)</td>\n",
       "      <td>2020-03</td>\n",
       "      <td>2020-03-15</td>\n",
       "    </tr>\n",
       "    <tr>\n",
       "      <th>1</th>\n",
       "      <td>1</td>\n",
       "      <td>Alabama</td>\n",
       "      <td>1001</td>\n",
       "      <td>Autauga</td>\n",
       "      <td>20200316</td>\n",
       "      <td>7</td>\n",
       "      <td>Mandatory - all people (7)</td>\n",
       "      <td>2020-03</td>\n",
       "      <td>2020-03-16</td>\n",
       "    </tr>\n",
       "    <tr>\n",
       "      <th>2</th>\n",
       "      <td>1</td>\n",
       "      <td>Alabama</td>\n",
       "      <td>1001</td>\n",
       "      <td>Autauga</td>\n",
       "      <td>20200317</td>\n",
       "      <td>7</td>\n",
       "      <td>Mandatory - all people (7)</td>\n",
       "      <td>2020-03</td>\n",
       "      <td>2020-03-17</td>\n",
       "    </tr>\n",
       "    <tr>\n",
       "      <th>3</th>\n",
       "      <td>1</td>\n",
       "      <td>Alabama</td>\n",
       "      <td>1001</td>\n",
       "      <td>Autauga</td>\n",
       "      <td>20200318</td>\n",
       "      <td>7</td>\n",
       "      <td>Mandatory - all people (7)</td>\n",
       "      <td>2020-03</td>\n",
       "      <td>2020-03-18</td>\n",
       "    </tr>\n",
       "    <tr>\n",
       "      <th>4</th>\n",
       "      <td>1</td>\n",
       "      <td>Alabama</td>\n",
       "      <td>1001</td>\n",
       "      <td>Autauga</td>\n",
       "      <td>20200319</td>\n",
       "      <td>7</td>\n",
       "      <td>Mandatory - all people (7)</td>\n",
       "      <td>2020-03</td>\n",
       "      <td>2020-03-19</td>\n",
       "    </tr>\n",
       "  </tbody>\n",
       "</table>\n",
       "</div>"
      ],
      "text/plain": [
       "   stateFIPS    State  countyFIPS   County      Year  Value  \\\n",
       "0          1  Alabama        1001  Autauga  20200315      7   \n",
       "1          1  Alabama        1001  Autauga  20200316      7   \n",
       "2          1  Alabama        1001  Autauga  20200317      7   \n",
       "3          1  Alabama        1001  Autauga  20200318      7   \n",
       "4          1  Alabama        1001  Autauga  20200319      7   \n",
       "\n",
       "         County Order Status  Year-Month        Date  \n",
       "0  Mandatory - all people (7)    2020-03  2020-03-15  \n",
       "1  Mandatory - all people (7)    2020-03  2020-03-16  \n",
       "2  Mandatory - all people (7)    2020-03  2020-03-17  \n",
       "3  Mandatory - all people (7)    2020-03  2020-03-18  \n",
       "4  Mandatory - all people (7)    2020-03  2020-03-19  "
      ]
     },
     "execution_count": 28,
     "metadata": {},
     "output_type": "execute_result"
    }
   ],
   "source": [
    "lockdown.head()"
   ]
  },
  {
   "cell_type": "markdown",
   "metadata": {},
   "source": [
    "The Steam games dataset contains the average and peak concurrent players by game for each month, as well as various other calculatable statistics built into the dataset.\n",
    "\n",
    "For gamesales, each value is in units of millions of US dollars. Game sales scraped from July 2020 and onwards include additional metrics (e.g. money generated from microtransactions, downloadable content, subscriptions, and more; for the rest of this analysis, these items will be shortened to just \"microtransactions\") that otherwise do not appear in previous data points, so we have gamesales_1_df (where microtransactions aren't included) and gamesales_2_df (where such things are).\n",
    "\n",
    "The population by county dataset shows each county's population as of 2019.\n",
    "\n",
    "The lockdown dataset contains data on the lockdown status of each county in the US by day. Let's take a look at what each county order status number means."
   ]
  },
  {
   "cell_type": "code",
   "execution_count": 29,
   "metadata": {},
   "outputs": [
    {
     "data": {
      "text/plain": [
       "array(['Mandatory - all people (7)', 'No order found (1)',\n",
       "       'Mandatory - all people in certain areas of state (6)',\n",
       "       'Advisory/Recommendation (2)',\n",
       "       'Mandatory - at-risk in certain areas of state (3)',\n",
       "       'Mandatory - at-risk people only (5)'], dtype=object)"
      ]
     },
     "execution_count": 29,
     "metadata": {},
     "output_type": "execute_result"
    }
   ],
   "source": [
    "lockdown['County Order Status '].unique()"
   ]
  },
  {
   "cell_type": "markdown",
   "metadata": {},
   "source": [
    "There are 7 possible county order statuses, sorted by increasing levels of seriousness."
   ]
  },
  {
   "cell_type": "markdown",
   "metadata": {},
   "source": [
    "Now we look at the shape of each dataset."
   ]
  },
  {
   "cell_type": "code",
   "execution_count": 30,
   "metadata": {},
   "outputs": [
    {
     "data": {
      "text/plain": [
       "(71734, 9)"
      ]
     },
     "execution_count": 30,
     "metadata": {},
     "output_type": "execute_result"
    }
   ],
   "source": [
    "complete_steam.shape"
   ]
  },
  {
   "cell_type": "code",
   "execution_count": 31,
   "metadata": {},
   "outputs": [
    {
     "data": {
      "text/plain": [
       "1100"
      ]
     },
     "execution_count": 31,
     "metadata": {},
     "output_type": "execute_result"
    }
   ],
   "source": [
    "# Checking number of unique games\n",
    "len(complete_steam.gamename.unique())"
   ]
  },
  {
   "cell_type": "code",
   "execution_count": 32,
   "metadata": {},
   "outputs": [
    {
     "data": {
      "text/plain": [
       "(22, 6)"
      ]
     },
     "execution_count": 32,
     "metadata": {},
     "output_type": "execute_result"
    }
   ],
   "source": [
    "gamesales_1_df.shape"
   ]
  },
  {
   "cell_type": "code",
   "execution_count": 33,
   "metadata": {},
   "outputs": [
    {
     "data": {
      "text/plain": [
       "(18, 6)"
      ]
     },
     "execution_count": 33,
     "metadata": {},
     "output_type": "execute_result"
    }
   ],
   "source": [
    "gamesales_2_df.shape"
   ]
  },
  {
   "cell_type": "code",
   "execution_count": 34,
   "metadata": {},
   "outputs": [
    {
     "data": {
      "text/plain": [
       "(917464, 9)"
      ]
     },
     "execution_count": 34,
     "metadata": {},
     "output_type": "execute_result"
    }
   ],
   "source": [
    "lockdown.shape"
   ]
  },
  {
   "cell_type": "code",
   "execution_count": 35,
   "metadata": {},
   "outputs": [
    {
     "data": {
      "text/plain": [
       "(3142, 6)"
      ]
     },
     "execution_count": 35,
     "metadata": {},
     "output_type": "execute_result"
    }
   ],
   "source": [
    "population_county.shape"
   ]
  },
  {
   "cell_type": "markdown",
   "metadata": {},
   "source": [
    "There are a total of 1110 unique Steam games in the Steam games dataset and 71,734 total observations.\n",
    "\n",
    "We have 18 months of data for game sales without microtransactions and 16 months of data for game sales including microtransactions.\n",
    "\n",
    "Since there are 3142 rows in population_county, we know there are 3142 different counties.\n",
    "\n",
    "Let's look at some more specifics about the lockdown/county population datasets."
   ]
  },
  {
   "cell_type": "code",
   "execution_count": 36,
   "metadata": {},
   "outputs": [
    {
     "data": {
      "text/plain": [
       "3142"
      ]
     },
     "execution_count": 36,
     "metadata": {},
     "output_type": "execute_result"
    }
   ],
   "source": [
    "# We expect the number of counties in the lockdown data to be 3142, the same number of counties in population_county.\n",
    "len(lockdown['countyFIPS'].unique())"
   ]
  },
  {
   "cell_type": "code",
   "execution_count": 37,
   "metadata": {},
   "outputs": [
    {
     "data": {
      "text/plain": [
       "292"
      ]
     },
     "execution_count": 37,
     "metadata": {},
     "output_type": "execute_result"
    }
   ],
   "source": [
    "# Date range in days for lockdown data\n",
    "len(lockdown['Year'].unique())"
   ]
  },
  {
   "cell_type": "markdown",
   "metadata": {},
   "source": [
    "Looking at the type of each column, this helps us identify how to use each variables:"
   ]
  },
  {
   "cell_type": "code",
   "execution_count": 38,
   "metadata": {},
   "outputs": [
    {
     "data": {
      "text/plain": [
       "gamename          object\n",
       "year               int64\n",
       "month             object\n",
       "avg              float64\n",
       "gain             float64\n",
       "peak               int64\n",
       "avg_peak_perc     object\n",
       "genres            object\n",
       "Year-Month        object\n",
       "dtype: object"
      ]
     },
     "execution_count": 38,
     "metadata": {},
     "output_type": "execute_result"
    }
   ],
   "source": [
    "complete_steam.dtypes"
   ]
  },
  {
   "cell_type": "code",
   "execution_count": 39,
   "metadata": {},
   "outputs": [
    {
     "data": {
      "text/plain": [
       "Date                                    object\n",
       "Total Video Game Sales                 float64\n",
       "Video Games Hardware                   float64\n",
       "PC & Video Games Software              float64\n",
       "Video Game Accessories & Game Cards    float64\n",
       "Year-Month                              object\n",
       "dtype: object"
      ]
     },
     "execution_count": 39,
     "metadata": {},
     "output_type": "execute_result"
    }
   ],
   "source": [
    "gamesales_1_df.dtypes"
   ]
  },
  {
   "cell_type": "code",
   "execution_count": 40,
   "metadata": {},
   "outputs": [
    {
     "data": {
      "text/plain": [
       "Date                       object\n",
       "Total Video Game Sales    float64\n",
       "Video Game Hardware       float64\n",
       "Video Game Content        float64\n",
       "Video Game Accessories    float64\n",
       "Year-Month                 object\n",
       "dtype: object"
      ]
     },
     "execution_count": 40,
     "metadata": {},
     "output_type": "execute_result"
    }
   ],
   "source": [
    "gamesales_2_df.dtypes"
   ]
  },
  {
   "cell_type": "code",
   "execution_count": 41,
   "metadata": {},
   "outputs": [
    {
     "data": {
      "text/plain": [
       "stateFIPS                int64\n",
       "State                   object\n",
       "countyFIPS               int64\n",
       "County                  object\n",
       "Year                     int64\n",
       "Value                    int64\n",
       "County Order Status     object\n",
       "Year-Month              object\n",
       "Date                    object\n",
       "dtype: object"
      ]
     },
     "execution_count": 41,
     "metadata": {},
     "output_type": "execute_result"
    }
   ],
   "source": [
    "lockdown.dtypes"
   ]
  },
  {
   "cell_type": "code",
   "execution_count": 42,
   "metadata": {},
   "outputs": [
    {
     "data": {
      "text/plain": [
       "stateFIPS      int64\n",
       "State         object\n",
       "countyFIPS     int64\n",
       "County        object\n",
       "Year           int64\n",
       "Value          int64\n",
       "dtype: object"
      ]
     },
     "execution_count": 42,
     "metadata": {},
     "output_type": "execute_result"
    }
   ],
   "source": [
    "population_county.dtypes"
   ]
  },
  {
   "cell_type": "markdown",
   "metadata": {},
   "source": [
    "Now we take a look at the distribution of the numerical data types. This shows the summary statistics of each dataframe"
   ]
  },
  {
   "cell_type": "code",
   "execution_count": 43,
   "metadata": {},
   "outputs": [
    {
     "data": {
      "text/plain": [
       "count    7.173400e+04\n",
       "mean     3.111289e+03\n",
       "std      2.853864e+04\n",
       "min      0.000000e+00\n",
       "25%      5.097250e+01\n",
       "50%      1.964650e+02\n",
       "75%      7.687600e+02\n",
       "max      1.584887e+06\n",
       "Name: avg, dtype: float64"
      ]
     },
     "execution_count": 43,
     "metadata": {},
     "output_type": "execute_result"
    }
   ],
   "source": [
    "complete_steam['avg'].describe()"
   ]
  },
  {
   "cell_type": "code",
   "execution_count": 44,
   "metadata": {},
   "outputs": [
    {
     "data": {
      "text/html": [
       "<div>\n",
       "<style scoped>\n",
       "    .dataframe tbody tr th:only-of-type {\n",
       "        vertical-align: middle;\n",
       "    }\n",
       "\n",
       "    .dataframe tbody tr th {\n",
       "        vertical-align: top;\n",
       "    }\n",
       "\n",
       "    .dataframe thead th {\n",
       "        text-align: right;\n",
       "    }\n",
       "</style>\n",
       "<table border=\"1\" class=\"dataframe\">\n",
       "  <thead>\n",
       "    <tr style=\"text-align: right;\">\n",
       "      <th></th>\n",
       "      <th>Total Video Game Sales</th>\n",
       "      <th>Video Games Hardware</th>\n",
       "      <th>PC &amp; Video Games Software</th>\n",
       "      <th>Video Game Accessories &amp; Game Cards</th>\n",
       "    </tr>\n",
       "  </thead>\n",
       "  <tbody>\n",
       "    <tr>\n",
       "      <th>count</th>\n",
       "      <td>22.000000</td>\n",
       "      <td>22.000000</td>\n",
       "      <td>22.000000</td>\n",
       "      <td>22.000000</td>\n",
       "    </tr>\n",
       "    <tr>\n",
       "      <th>mean</th>\n",
       "      <td>1226.772727</td>\n",
       "      <td>311.909091</td>\n",
       "      <td>559.954545</td>\n",
       "      <td>355.090909</td>\n",
       "    </tr>\n",
       "    <tr>\n",
       "      <th>std</th>\n",
       "      <td>717.708386</td>\n",
       "      <td>260.700688</td>\n",
       "      <td>291.239629</td>\n",
       "      <td>198.075721</td>\n",
       "    </tr>\n",
       "    <tr>\n",
       "      <th>min</th>\n",
       "      <td>642.000000</td>\n",
       "      <td>129.000000</td>\n",
       "      <td>253.000000</td>\n",
       "      <td>230.000000</td>\n",
       "    </tr>\n",
       "    <tr>\n",
       "      <th>25%</th>\n",
       "      <td>774.500000</td>\n",
       "      <td>182.250000</td>\n",
       "      <td>340.250000</td>\n",
       "      <td>257.250000</td>\n",
       "    </tr>\n",
       "    <tr>\n",
       "      <th>50%</th>\n",
       "      <td>1003.500000</td>\n",
       "      <td>224.000000</td>\n",
       "      <td>464.000000</td>\n",
       "      <td>296.500000</td>\n",
       "    </tr>\n",
       "    <tr>\n",
       "      <th>75%</th>\n",
       "      <td>1366.500000</td>\n",
       "      <td>300.750000</td>\n",
       "      <td>714.500000</td>\n",
       "      <td>347.500000</td>\n",
       "    </tr>\n",
       "    <tr>\n",
       "      <th>max</th>\n",
       "      <td>3494.000000</td>\n",
       "      <td>1168.000000</td>\n",
       "      <td>1314.000000</td>\n",
       "      <td>1012.000000</td>\n",
       "    </tr>\n",
       "  </tbody>\n",
       "</table>\n",
       "</div>"
      ],
      "text/plain": [
       "       Total Video Game Sales  Video Games Hardware  \\\n",
       "count               22.000000             22.000000   \n",
       "mean              1226.772727            311.909091   \n",
       "std                717.708386            260.700688   \n",
       "min                642.000000            129.000000   \n",
       "25%                774.500000            182.250000   \n",
       "50%               1003.500000            224.000000   \n",
       "75%               1366.500000            300.750000   \n",
       "max               3494.000000           1168.000000   \n",
       "\n",
       "       PC & Video Games Software  Video Game Accessories & Game Cards  \n",
       "count                  22.000000                            22.000000  \n",
       "mean                  559.954545                           355.090909  \n",
       "std                   291.239629                           198.075721  \n",
       "min                   253.000000                           230.000000  \n",
       "25%                   340.250000                           257.250000  \n",
       "50%                   464.000000                           296.500000  \n",
       "75%                   714.500000                           347.500000  \n",
       "max                  1314.000000                          1012.000000  "
      ]
     },
     "execution_count": 44,
     "metadata": {},
     "output_type": "execute_result"
    }
   ],
   "source": [
    "gamesales_1_df.describe()"
   ]
  },
  {
   "cell_type": "code",
   "execution_count": 45,
   "metadata": {},
   "outputs": [
    {
     "data": {
      "text/html": [
       "<div>\n",
       "<style scoped>\n",
       "    .dataframe tbody tr th:only-of-type {\n",
       "        vertical-align: middle;\n",
       "    }\n",
       "\n",
       "    .dataframe tbody tr th {\n",
       "        vertical-align: top;\n",
       "    }\n",
       "\n",
       "    .dataframe thead th {\n",
       "        text-align: right;\n",
       "    }\n",
       "</style>\n",
       "<table border=\"1\" class=\"dataframe\">\n",
       "  <thead>\n",
       "    <tr style=\"text-align: right;\">\n",
       "      <th></th>\n",
       "      <th>Total Video Game Sales</th>\n",
       "      <th>Video Game Hardware</th>\n",
       "      <th>Video Game Content</th>\n",
       "      <th>Video Game Accessories</th>\n",
       "    </tr>\n",
       "  </thead>\n",
       "  <tbody>\n",
       "    <tr>\n",
       "      <th>count</th>\n",
       "      <td>18.000000</td>\n",
       "      <td>18.000000</td>\n",
       "      <td>18.000000</td>\n",
       "      <td>18.000000</td>\n",
       "    </tr>\n",
       "    <tr>\n",
       "      <th>mean</th>\n",
       "      <td>4440.222222</td>\n",
       "      <td>473.055556</td>\n",
       "      <td>3743.166667</td>\n",
       "      <td>224.111111</td>\n",
       "    </tr>\n",
       "    <tr>\n",
       "      <th>std</th>\n",
       "      <td>1440.730189</td>\n",
       "      <td>414.750027</td>\n",
       "      <td>951.310134</td>\n",
       "      <td>121.894308</td>\n",
       "    </tr>\n",
       "    <tr>\n",
       "      <th>min</th>\n",
       "      <td>2431.000000</td>\n",
       "      <td>131.000000</td>\n",
       "      <td>2147.000000</td>\n",
       "      <td>117.000000</td>\n",
       "    </tr>\n",
       "    <tr>\n",
       "      <th>25%</th>\n",
       "      <td>3367.750000</td>\n",
       "      <td>183.250000</td>\n",
       "      <td>3065.250000</td>\n",
       "      <td>140.500000</td>\n",
       "    </tr>\n",
       "    <tr>\n",
       "      <th>50%</th>\n",
       "      <td>4119.500000</td>\n",
       "      <td>268.000000</td>\n",
       "      <td>3691.000000</td>\n",
       "      <td>180.500000</td>\n",
       "    </tr>\n",
       "    <tr>\n",
       "      <th>75%</th>\n",
       "      <td>5062.000000</td>\n",
       "      <td>625.750000</td>\n",
       "      <td>4144.500000</td>\n",
       "      <td>277.750000</td>\n",
       "    </tr>\n",
       "    <tr>\n",
       "      <th>max</th>\n",
       "      <td>7702.000000</td>\n",
       "      <td>1415.000000</td>\n",
       "      <td>5806.000000</td>\n",
       "      <td>546.000000</td>\n",
       "    </tr>\n",
       "  </tbody>\n",
       "</table>\n",
       "</div>"
      ],
      "text/plain": [
       "       Total Video Game Sales  Video Game Hardware  Video Game Content  \\\n",
       "count               18.000000            18.000000           18.000000   \n",
       "mean              4440.222222           473.055556         3743.166667   \n",
       "std               1440.730189           414.750027          951.310134   \n",
       "min               2431.000000           131.000000         2147.000000   \n",
       "25%               3367.750000           183.250000         3065.250000   \n",
       "50%               4119.500000           268.000000         3691.000000   \n",
       "75%               5062.000000           625.750000         4144.500000   \n",
       "max               7702.000000          1415.000000         5806.000000   \n",
       "\n",
       "       Video Game Accessories  \n",
       "count               18.000000  \n",
       "mean               224.111111  \n",
       "std                121.894308  \n",
       "min                117.000000  \n",
       "25%                140.500000  \n",
       "50%                180.500000  \n",
       "75%                277.750000  \n",
       "max                546.000000  "
      ]
     },
     "execution_count": 45,
     "metadata": {},
     "output_type": "execute_result"
    }
   ],
   "source": [
    "gamesales_2_df.describe()"
   ]
  },
  {
   "cell_type": "code",
   "execution_count": 46,
   "metadata": {},
   "outputs": [
    {
     "data": {
      "text/plain": [
       "count    3.142000e+03\n",
       "mean     1.044683e+05\n",
       "std      3.334567e+05\n",
       "min      8.600000e+01\n",
       "25%      1.090250e+04\n",
       "50%      2.572600e+04\n",
       "75%      6.807275e+04\n",
       "max      1.003911e+07\n",
       "Name: Value, dtype: float64"
      ]
     },
     "execution_count": 46,
     "metadata": {},
     "output_type": "execute_result"
    }
   ],
   "source": [
    "population_county['Value'].describe()"
   ]
  },
  {
   "cell_type": "markdown",
   "metadata": {},
   "source": [
    "We want to see how much the US spent on video game software, not including microtransactions, has changed over time. Note that because November 2018 and November 2019 are missing, the graph near those months are not entirely accurate."
   ]
  },
  {
   "cell_type": "code",
   "execution_count": 47,
   "metadata": {},
   "outputs": [
    {
     "data": {
      "image/png": "[encoded data removed]",
      "text/plain": [
       "<Figure size 432x288 with 1 Axes>"
      ]
     },
     "metadata": {
      "needs_background": "light"
     },
     "output_type": "display_data"
    }
   ],
   "source": [
    "lp = sns.lineplot(x='Year-Month', y='PC & Video Games Software', data=gamesales_1_df.sort_values('Year-Month'))\n",
    "plt.ylabel(\"PC & Video Games Software Sales (in millions USD)\")\n",
    "plt.xlabel(\"Date\")\n",
    "plt.title(\"US Video Game Software Sales (without microtransactions) from 2018-2020\", pad=30);\n",
    "lp.xaxis.set_major_locator(ticker.MultipleLocator(4))"
   ]
  },
  {
   "cell_type": "markdown",
   "metadata": {},
   "source": [
    "There are two large peaks near December for both 2018 and 2019, meaning that there was a spike in sales during these two months. Both spikes were followed by a significant decline, meaning a significant drop in sales. After 2018 there was a somewhat continous pattern of increase and decline in sales for several months, and then again another dramatic increase in the begining of 2020. This could possibly be due to the pandemic because this is when the pandemic started and a lot of people were in status lockdwon 7. \n",
    "\n",
    "Now taking a closer look at the years 2019-2021, including microtransactions"
   ]
  },
  {
   "cell_type": "code",
   "execution_count": 48,
   "metadata": {},
   "outputs": [
    {
     "data": {
      "image/png": "[encoded data removed]",
      "text/plain": [
       "<Figure size 432x288 with 1 Axes>"
      ]
     },
     "metadata": {
      "needs_background": "light"
     },
     "output_type": "display_data"
    }
   ],
   "source": [
    "lp = sns.lineplot(x='Year-Month', y='Video Game Content', data=gamesales_2_df.sort_values('Year-Month'))\n",
    "plt.ylabel(\"Video Game Software Sales (in millions USD)\")\n",
    "plt.xlabel(\"Date\")\n",
    "plt.title(\"US Video Game Software Sales (with microtransactions) from 2019-2021\", pad=20);\n",
    "lp.xaxis.set_major_locator(ticker.MultipleLocator(3))"
   ]
  },
  {
   "cell_type": "markdown",
   "metadata": {},
   "source": [
    "After the spike near when lockdown in the US started, there was another decline. Unlike in the first graph, where the second December peak was lower than the first, the 2020 December peak was higher than 2019's, indicating that video games in general grew more in popularity between December 2019 and December 2020 than between December 2018 and December 2019. The spike near spring/summer of 2020 was also much more pronounced than in spring/summer of 2019. This could be attributed to the lockdown, where people who would not normally want to play video games now want to because they find themselves being limited to inside their homes.\n",
    "\n",
    "Because we don't know the impact microtransactions have on these game sales data, it is hard to make comparisons between the money values between the two graphs.\n",
    "\n",
    "We want to see how many of each county order status there is over time."
   ]
  },
  {
   "cell_type": "code",
   "execution_count": 49,
   "metadata": {},
   "outputs": [
    {
     "data": {
      "image/png": "[encoded data removed]",
      "text/plain": [
       "<Figure size 432x288 with 1 Axes>"
      ]
     },
     "metadata": {
      "needs_background": "light"
     },
     "output_type": "display_data"
    }
   ],
   "source": [
    "lp = sns.lineplot(x='Date', y='County', hue='Value', palette='tab10', data=lockdown.groupby(by=['Date', 'Value']).count())\n",
    "plt.ylabel(\"Number of counties\")\n",
    "plt.xlabel(\"Date\")\n",
    "plt.title(\"Number of County Order Status in 2020\", pad=20)\n",
    "plt.legend(bbox_to_anchor=(1.05, 1), loc=2, borderaxespad=0.)\n",
    "lp.xaxis.set_major_locator(ticker.MultipleLocator(90))"
   ]
  },
  {
   "cell_type": "markdown",
   "metadata": {},
   "source": [
    "Looking at the line for lockdown status 7, at the beginning, the middle of March, most counties had the highest level of lockdown. This quickly dropped as counties began to lower to status 6, \"all people in certain areas of state,\" near May. From there, the number of counties in either status 7 or 6 stabilized. This is interesting because this parallels the drop in video game sales after the beginning months of 2020. As the County order status' dropped so did the video game sales. As restrictions of what people could do starting lessining they started occupying themselves with other things rather than video games.\n"
   ]
  },
  {
   "cell_type": "markdown",
   "metadata": {},
   "source": [
    "We are curious on seeing the shift in number of players for the year of 2020 and the games that are most affected by the change."
   ]
  },
  {
   "cell_type": "code",
   "execution_count": 50,
   "metadata": {},
   "outputs": [
    {
     "data": {
      "text/html": [
       "<div>\n",
       "<style scoped>\n",
       "    .dataframe tbody tr th:only-of-type {\n",
       "        vertical-align: middle;\n",
       "    }\n",
       "\n",
       "    .dataframe tbody tr th {\n",
       "        vertical-align: top;\n",
       "    }\n",
       "\n",
       "    .dataframe thead th {\n",
       "        text-align: right;\n",
       "    }\n",
       "</style>\n",
       "<table border=\"1\" class=\"dataframe\">\n",
       "  <thead>\n",
       "    <tr style=\"text-align: right;\">\n",
       "      <th></th>\n",
       "      <th>gamename</th>\n",
       "      <th>year</th>\n",
       "      <th>month</th>\n",
       "      <th>avg</th>\n",
       "      <th>gain</th>\n",
       "      <th>peak</th>\n",
       "      <th>avg_peak_perc</th>\n",
       "      <th>genres</th>\n",
       "      <th>Year-Month</th>\n",
       "    </tr>\n",
       "  </thead>\n",
       "  <tbody>\n",
       "    <tr>\n",
       "      <th>0</th>\n",
       "      <td>counter-strike: global offensive</td>\n",
       "      <td>2020</td>\n",
       "      <td>January</td>\n",
       "      <td>501196.00</td>\n",
       "      <td>44494.44</td>\n",
       "      <td>817229</td>\n",
       "      <td>61.3287%</td>\n",
       "      <td>[Action, Free to Play]</td>\n",
       "      <td>2020-01</td>\n",
       "    </tr>\n",
       "    <tr>\n",
       "      <th>1</th>\n",
       "      <td>counter-strike: global offensive</td>\n",
       "      <td>2020</td>\n",
       "      <td>February</td>\n",
       "      <td>543979.15</td>\n",
       "      <td>42783.15</td>\n",
       "      <td>916996</td>\n",
       "      <td>59.3219%</td>\n",
       "      <td>[Action, Free to Play]</td>\n",
       "      <td>2020-02</td>\n",
       "    </tr>\n",
       "    <tr>\n",
       "      <th>2</th>\n",
       "      <td>counter-strike: global offensive</td>\n",
       "      <td>2020</td>\n",
       "      <td>March</td>\n",
       "      <td>671033.29</td>\n",
       "      <td>127054.13</td>\n",
       "      <td>1145972</td>\n",
       "      <td>58.5558%</td>\n",
       "      <td>[Action, Free to Play]</td>\n",
       "      <td>2020-03</td>\n",
       "    </tr>\n",
       "    <tr>\n",
       "      <th>3</th>\n",
       "      <td>counter-strike: global offensive</td>\n",
       "      <td>2020</td>\n",
       "      <td>April</td>\n",
       "      <td>857604.22</td>\n",
       "      <td>186570.94</td>\n",
       "      <td>1305714</td>\n",
       "      <td>65.6809%</td>\n",
       "      <td>[Action, Free to Play]</td>\n",
       "      <td>2020-04</td>\n",
       "    </tr>\n",
       "    <tr>\n",
       "      <th>4</th>\n",
       "      <td>counter-strike: global offensive</td>\n",
       "      <td>2020</td>\n",
       "      <td>May</td>\n",
       "      <td>768795.25</td>\n",
       "      <td>-88808.97</td>\n",
       "      <td>1193359</td>\n",
       "      <td>64.4228%</td>\n",
       "      <td>[Action, Free to Play]</td>\n",
       "      <td>2020-05</td>\n",
       "    </tr>\n",
       "    <tr>\n",
       "      <th>5</th>\n",
       "      <td>counter-strike: global offensive</td>\n",
       "      <td>2020</td>\n",
       "      <td>June</td>\n",
       "      <td>671647.46</td>\n",
       "      <td>-97147.79</td>\n",
       "      <td>1009467</td>\n",
       "      <td>66.5349%</td>\n",
       "      <td>[Action, Free to Play]</td>\n",
       "      <td>2020-06</td>\n",
       "    </tr>\n",
       "    <tr>\n",
       "      <th>6</th>\n",
       "      <td>counter-strike: global offensive</td>\n",
       "      <td>2020</td>\n",
       "      <td>July</td>\n",
       "      <td>625900.81</td>\n",
       "      <td>-45746.65</td>\n",
       "      <td>857560</td>\n",
       "      <td>72.9862%</td>\n",
       "      <td>[Action, Free to Play]</td>\n",
       "      <td>2020-07</td>\n",
       "    </tr>\n",
       "    <tr>\n",
       "      <th>7</th>\n",
       "      <td>counter-strike: global offensive</td>\n",
       "      <td>2020</td>\n",
       "      <td>August</td>\n",
       "      <td>639957.66</td>\n",
       "      <td>14056.85</td>\n",
       "      <td>925348</td>\n",
       "      <td>69.1586%</td>\n",
       "      <td>[Action, Free to Play]</td>\n",
       "      <td>2020-08</td>\n",
       "    </tr>\n",
       "    <tr>\n",
       "      <th>8</th>\n",
       "      <td>counter-strike: global offensive</td>\n",
       "      <td>2020</td>\n",
       "      <td>September</td>\n",
       "      <td>606850.32</td>\n",
       "      <td>-33107.34</td>\n",
       "      <td>977769</td>\n",
       "      <td>62.0648%</td>\n",
       "      <td>[Action, Free to Play]</td>\n",
       "      <td>2020-09</td>\n",
       "    </tr>\n",
       "    <tr>\n",
       "      <th>9</th>\n",
       "      <td>counter-strike: global offensive</td>\n",
       "      <td>2020</td>\n",
       "      <td>October</td>\n",
       "      <td>613666.69</td>\n",
       "      <td>6816.37</td>\n",
       "      <td>943876</td>\n",
       "      <td>65.0156%</td>\n",
       "      <td>[Action, Free to Play]</td>\n",
       "      <td>2020-10</td>\n",
       "    </tr>\n",
       "    <tr>\n",
       "      <th>10</th>\n",
       "      <td>counter-strike: global offensive</td>\n",
       "      <td>2020</td>\n",
       "      <td>November</td>\n",
       "      <td>668754.58</td>\n",
       "      <td>55087.89</td>\n",
       "      <td>1037464</td>\n",
       "      <td>64.4605%</td>\n",
       "      <td>[Action, Free to Play]</td>\n",
       "      <td>2020-11</td>\n",
       "    </tr>\n",
       "    <tr>\n",
       "      <th>11</th>\n",
       "      <td>counter-strike: global offensive</td>\n",
       "      <td>2020</td>\n",
       "      <td>December</td>\n",
       "      <td>717803.75</td>\n",
       "      <td>49049.17</td>\n",
       "      <td>1164396</td>\n",
       "      <td>61.646%</td>\n",
       "      <td>[Action, Free to Play]</td>\n",
       "      <td>2020-12</td>\n",
       "    </tr>\n",
       "  </tbody>\n",
       "</table>\n",
       "</div>"
      ],
      "text/plain": [
       "                            gamename  year      month        avg       gain  \\\n",
       "0   counter-strike: global offensive  2020    January  501196.00   44494.44   \n",
       "1   counter-strike: global offensive  2020   February  543979.15   42783.15   \n",
       "2   counter-strike: global offensive  2020      March  671033.29  127054.13   \n",
       "3   counter-strike: global offensive  2020      April  857604.22  186570.94   \n",
       "4   counter-strike: global offensive  2020        May  768795.25  -88808.97   \n",
       "5   counter-strike: global offensive  2020       June  671647.46  -97147.79   \n",
       "6   counter-strike: global offensive  2020       July  625900.81  -45746.65   \n",
       "7   counter-strike: global offensive  2020     August  639957.66   14056.85   \n",
       "8   counter-strike: global offensive  2020  September  606850.32  -33107.34   \n",
       "9   counter-strike: global offensive  2020    October  613666.69    6816.37   \n",
       "10  counter-strike: global offensive  2020   November  668754.58   55087.89   \n",
       "11  counter-strike: global offensive  2020   December  717803.75   49049.17   \n",
       "\n",
       "       peak avg_peak_perc                  genres Year-Month  \n",
       "0    817229      61.3287%  [Action, Free to Play]    2020-01  \n",
       "1    916996      59.3219%  [Action, Free to Play]    2020-02  \n",
       "2   1145972      58.5558%  [Action, Free to Play]    2020-03  \n",
       "3   1305714      65.6809%  [Action, Free to Play]    2020-04  \n",
       "4   1193359      64.4228%  [Action, Free to Play]    2020-05  \n",
       "5   1009467      66.5349%  [Action, Free to Play]    2020-06  \n",
       "6    857560      72.9862%  [Action, Free to Play]    2020-07  \n",
       "7    925348      69.1586%  [Action, Free to Play]    2020-08  \n",
       "8    977769      62.0648%  [Action, Free to Play]    2020-09  \n",
       "9    943876      65.0156%  [Action, Free to Play]    2020-10  \n",
       "10  1037464      64.4605%  [Action, Free to Play]    2020-11  \n",
       "11  1164396       61.646%  [Action, Free to Play]    2020-12  "
      ]
     },
     "execution_count": 50,
     "metadata": {},
     "output_type": "execute_result"
    }
   ],
   "source": [
    "# Finding the game with the highest number of average players per month in 2020\n",
    "\n",
    "months = [\"January\", \"February\", \"March\", \"April\", \"May\", \"June\", \n",
    "          \"July\", \"August\", \"September\", \"October\", \"November\", \"December\"]\n",
    "\n",
    "top_games_2020 = complete_steam.loc[complete_steam[complete_steam['year']== 2020].groupby('month')['avg'].idxmax().values]\n",
    "top_games_2020['month'] = pd.Categorical(top_games_2020['month'], categories = months)\n",
    "# Sorting the dataframe by months\n",
    "top_games_2020.sort_values(by='month').reset_index(drop=True)"
   ]
  },
  {
   "cell_type": "markdown",
   "metadata": {},
   "source": [
    "From the dataframe above, we've acquired the games with the maximum number of average players per month from the year 2020. As seen, the result is constant with \"Counter-Strike: Global Offensive\" having the most number of players per month. Let us graph the following result to see the overall trend."
   ]
  },
  {
   "cell_type": "code",
   "execution_count": 51,
   "metadata": {},
   "outputs": [
    {
     "data": {
      "text/plain": [
       "<matplotlib.legend.Legend at 0x7fba36d962e0>"
      ]
     },
     "execution_count": 51,
     "metadata": {},
     "output_type": "execute_result"
    },
    {
     "data": {
      "image/png": "[encoded data removed]",
      "text/plain": [
       "<Figure size 432x288 with 1 Axes>"
      ]
     },
     "metadata": {
      "needs_background": "light"
     },
     "output_type": "display_data"
    }
   ],
   "source": [
    "# Plotting the game with the highest number of average players per month in 2020\n",
    "\n",
    "ax = sns.lineplot(x='month', y='avg', hue='gamename', data=top_games_2020)\n",
    "\n",
    "for label in ax.xaxis.get_ticklabels()[::2]:\n",
    "    label.set_visible(False)\n",
    "ax.set_title('Games with the Highest Average Number of Players Per Month in 2020', pad=20);\n",
    "plt.ylabel(\"Average number of players\")\n",
    "plt.xlabel(\"Month\")\n",
    "plt.legend(bbox_to_anchor=(1.05, 1), loc=2, borderaxespad=0.)"
   ]
  },
  {
   "cell_type": "markdown",
   "metadata": {},
   "source": [
    "Counter-Strike: Global Offensive is the most popular game of 2020. Using this graph, we want to compare the number of average players and the lockdown statuses of counties. During March, we can see more than a 127,054 player increase compared to February. Then in April, there is a 186,570 player increase from March. But after April, there is a decline in the highest average number of players.\n",
    "\n",
    "This increase in highest average number of players is consistent with the line of lockdown status 7. During March, both the number of counties and the number of Counter-Strike: Global Offensive average players started to increase. And when the number of counties of lockdown status 7 started to decrease after April, the number of Counter-Strike: Global Offensive average players also started to decrease."
   ]
  },
  {
   "cell_type": "markdown",
   "metadata": {},
   "source": [
    "Next, we will see the games that gained the most number of players per month for the year of 2020."
   ]
  },
  {
   "cell_type": "code",
   "execution_count": 52,
   "metadata": {},
   "outputs": [
    {
     "data": {
      "text/html": [
       "<div>\n",
       "<style scoped>\n",
       "    .dataframe tbody tr th:only-of-type {\n",
       "        vertical-align: middle;\n",
       "    }\n",
       "\n",
       "    .dataframe tbody tr th {\n",
       "        vertical-align: top;\n",
       "    }\n",
       "\n",
       "    .dataframe thead th {\n",
       "        text-align: right;\n",
       "    }\n",
       "</style>\n",
       "<table border=\"1\" class=\"dataframe\">\n",
       "  <thead>\n",
       "    <tr style=\"text-align: right;\">\n",
       "      <th></th>\n",
       "      <th>gamename</th>\n",
       "      <th>year</th>\n",
       "      <th>month</th>\n",
       "      <th>avg</th>\n",
       "      <th>gain</th>\n",
       "      <th>peak</th>\n",
       "      <th>avg_peak_perc</th>\n",
       "      <th>genres</th>\n",
       "      <th>Year-Month</th>\n",
       "    </tr>\n",
       "  </thead>\n",
       "  <tbody>\n",
       "    <tr>\n",
       "      <th>0</th>\n",
       "      <td>monster hunter: world</td>\n",
       "      <td>2020</td>\n",
       "      <td>January</td>\n",
       "      <td>113236.24</td>\n",
       "      <td>82737.26</td>\n",
       "      <td>284090</td>\n",
       "      <td>39.8593%</td>\n",
       "      <td>[Action]</td>\n",
       "      <td>2020-01</td>\n",
       "    </tr>\n",
       "    <tr>\n",
       "      <th>1</th>\n",
       "      <td>counter-strike: global offensive</td>\n",
       "      <td>2020</td>\n",
       "      <td>February</td>\n",
       "      <td>543979.15</td>\n",
       "      <td>42783.15</td>\n",
       "      <td>916996</td>\n",
       "      <td>59.3219%</td>\n",
       "      <td>[Action, Free to Play]</td>\n",
       "      <td>2020-02</td>\n",
       "    </tr>\n",
       "    <tr>\n",
       "      <th>2</th>\n",
       "      <td>counter-strike: global offensive</td>\n",
       "      <td>2020</td>\n",
       "      <td>March</td>\n",
       "      <td>671033.29</td>\n",
       "      <td>127054.13</td>\n",
       "      <td>1145972</td>\n",
       "      <td>58.5558%</td>\n",
       "      <td>[Action, Free to Play]</td>\n",
       "      <td>2020-03</td>\n",
       "    </tr>\n",
       "    <tr>\n",
       "      <th>3</th>\n",
       "      <td>counter-strike: global offensive</td>\n",
       "      <td>2020</td>\n",
       "      <td>April</td>\n",
       "      <td>857604.22</td>\n",
       "      <td>186570.94</td>\n",
       "      <td>1305714</td>\n",
       "      <td>65.6809%</td>\n",
       "      <td>[Action, Free to Play]</td>\n",
       "      <td>2020-04</td>\n",
       "    </tr>\n",
       "    <tr>\n",
       "      <th>4</th>\n",
       "      <td>terraria</td>\n",
       "      <td>2020</td>\n",
       "      <td>May</td>\n",
       "      <td>129808.62</td>\n",
       "      <td>78493.53</td>\n",
       "      <td>486918</td>\n",
       "      <td>26.6592%</td>\n",
       "      <td>[Action, Adventure, Indie, RPG]</td>\n",
       "      <td>2020-05</td>\n",
       "    </tr>\n",
       "    <tr>\n",
       "      <th>5</th>\n",
       "      <td>destiny 2</td>\n",
       "      <td>2020</td>\n",
       "      <td>June</td>\n",
       "      <td>77550.23</td>\n",
       "      <td>25712.82</td>\n",
       "      <td>213681</td>\n",
       "      <td>36.2925%</td>\n",
       "      <td>[Action, Adventure, Free to Play]</td>\n",
       "      <td>2020-06</td>\n",
       "    </tr>\n",
       "    <tr>\n",
       "      <th>6</th>\n",
       "      <td>monster hunter: world</td>\n",
       "      <td>2020</td>\n",
       "      <td>July</td>\n",
       "      <td>48079.80</td>\n",
       "      <td>23934.18</td>\n",
       "      <td>144000</td>\n",
       "      <td>33.3888%</td>\n",
       "      <td>[Action]</td>\n",
       "      <td>2020-07</td>\n",
       "    </tr>\n",
       "    <tr>\n",
       "      <th>7</th>\n",
       "      <td>risk of rain 2</td>\n",
       "      <td>2020</td>\n",
       "      <td>August</td>\n",
       "      <td>25249.95</td>\n",
       "      <td>20718.12</td>\n",
       "      <td>71033</td>\n",
       "      <td>35.5468%</td>\n",
       "      <td>[Action, Indie]</td>\n",
       "      <td>2020-08</td>\n",
       "    </tr>\n",
       "    <tr>\n",
       "      <th>8</th>\n",
       "      <td>path of exile</td>\n",
       "      <td>2020</td>\n",
       "      <td>September</td>\n",
       "      <td>32050.11</td>\n",
       "      <td>13220.61</td>\n",
       "      <td>121595</td>\n",
       "      <td>26.3581%</td>\n",
       "      <td>[Action, Adventure, Free to Play, Indie, Massi...</td>\n",
       "      <td>2020-09</td>\n",
       "    </tr>\n",
       "    <tr>\n",
       "      <th>9</th>\n",
       "      <td>rocket league</td>\n",
       "      <td>2020</td>\n",
       "      <td>October</td>\n",
       "      <td>72355.61</td>\n",
       "      <td>19247.43</td>\n",
       "      <td>140667</td>\n",
       "      <td>51.4375%</td>\n",
       "      <td>[Action, Indie, Racing, Sports]</td>\n",
       "      <td>2020-10</td>\n",
       "    </tr>\n",
       "    <tr>\n",
       "      <th>10</th>\n",
       "      <td>counter-strike: global offensive</td>\n",
       "      <td>2020</td>\n",
       "      <td>November</td>\n",
       "      <td>668754.58</td>\n",
       "      <td>55087.89</td>\n",
       "      <td>1037464</td>\n",
       "      <td>64.4605%</td>\n",
       "      <td>[Action, Free to Play]</td>\n",
       "      <td>2020-11</td>\n",
       "    </tr>\n",
       "    <tr>\n",
       "      <th>11</th>\n",
       "      <td>counter-strike: global offensive</td>\n",
       "      <td>2020</td>\n",
       "      <td>December</td>\n",
       "      <td>717803.75</td>\n",
       "      <td>49049.17</td>\n",
       "      <td>1164396</td>\n",
       "      <td>61.646%</td>\n",
       "      <td>[Action, Free to Play]</td>\n",
       "      <td>2020-12</td>\n",
       "    </tr>\n",
       "  </tbody>\n",
       "</table>\n",
       "</div>"
      ],
      "text/plain": [
       "                            gamename  year      month        avg       gain  \\\n",
       "0              monster hunter: world  2020    January  113236.24   82737.26   \n",
       "1   counter-strike: global offensive  2020   February  543979.15   42783.15   \n",
       "2   counter-strike: global offensive  2020      March  671033.29  127054.13   \n",
       "3   counter-strike: global offensive  2020      April  857604.22  186570.94   \n",
       "4                           terraria  2020        May  129808.62   78493.53   \n",
       "5                          destiny 2  2020       June   77550.23   25712.82   \n",
       "6              monster hunter: world  2020       July   48079.80   23934.18   \n",
       "7                     risk of rain 2  2020     August   25249.95   20718.12   \n",
       "8                      path of exile  2020  September   32050.11   13220.61   \n",
       "9                      rocket league  2020    October   72355.61   19247.43   \n",
       "10  counter-strike: global offensive  2020   November  668754.58   55087.89   \n",
       "11  counter-strike: global offensive  2020   December  717803.75   49049.17   \n",
       "\n",
       "       peak avg_peak_perc                                             genres  \\\n",
       "0    284090      39.8593%                                           [Action]   \n",
       "1    916996      59.3219%                             [Action, Free to Play]   \n",
       "2   1145972      58.5558%                             [Action, Free to Play]   \n",
       "3   1305714      65.6809%                             [Action, Free to Play]   \n",
       "4    486918      26.6592%                    [Action, Adventure, Indie, RPG]   \n",
       "5    213681      36.2925%                  [Action, Adventure, Free to Play]   \n",
       "6    144000      33.3888%                                           [Action]   \n",
       "7     71033      35.5468%                                    [Action, Indie]   \n",
       "8    121595      26.3581%  [Action, Adventure, Free to Play, Indie, Massi...   \n",
       "9    140667      51.4375%                    [Action, Indie, Racing, Sports]   \n",
       "10  1037464      64.4605%                             [Action, Free to Play]   \n",
       "11  1164396       61.646%                             [Action, Free to Play]   \n",
       "\n",
       "   Year-Month  \n",
       "0     2020-01  \n",
       "1     2020-02  \n",
       "2     2020-03  \n",
       "3     2020-04  \n",
       "4     2020-05  \n",
       "5     2020-06  \n",
       "6     2020-07  \n",
       "7     2020-08  \n",
       "8     2020-09  \n",
       "9     2020-10  \n",
       "10    2020-11  \n",
       "11    2020-12  "
      ]
     },
     "execution_count": 52,
     "metadata": {},
     "output_type": "execute_result"
    }
   ],
   "source": [
    "# Finding the game with the highest number of concurrent players gained per month in 2020\n",
    "\n",
    "gain_games_2020 = complete_steam.loc[complete_steam[complete_steam['year']== 2020].groupby('month')['gain'].idxmax().values]\n",
    "gain_games_2020['month'] = pd.Categorical(gain_games_2020['month'], categories = months)\n",
    "gain_games_2020.sort_values(by='month').reset_index(drop=True)"
   ]
  },
  {
   "cell_type": "markdown",
   "metadata": {},
   "source": [
    "Although previously \"Counter-Strike: Global Offensive\" had the most number of players thoughout the year, yet it did not have the most number of player gains. This could be due to the reason that it is a very popular game, and therefore it only makes sense that it has the most number of players. However in this dataset, we could see that the distribution of games are pretty diverse. Let us identify further by plotting the trend below."
   ]
  },
  {
   "cell_type": "code",
   "execution_count": 53,
   "metadata": {},
   "outputs": [
    {
     "data": {
      "text/plain": [
       "<matplotlib.legend.Legend at 0x7fba37b20c40>"
      ]
     },
     "execution_count": 53,
     "metadata": {},
     "output_type": "execute_result"
    },
    {
     "data": {
      "image/png": "[encoded data removed]",
      "text/plain": [
       "<Figure size 432x288 with 1 Axes>"
      ]
     },
     "metadata": {
      "needs_background": "light"
     },
     "output_type": "display_data"
    }
   ],
   "source": [
    "# Plotting the game with the highest number of concurrent players gained per month in 2020\n",
    "\n",
    "ax = sns.barplot(x='month', y='gain', hue='gamename', data=gain_games_2020, dodge=False)\n",
    "ax.set_xticklabels(ax.get_xticklabels(), rotation=90);\n",
    "ax.set_title('Games with the Highest Number of Players Gained Per Month in 2020', pad=20);\n",
    "plt.ylabel(\"Number of Players Gained from Previous Month\")\n",
    "plt.xlabel('Month')\n",
    "plt.legend(bbox_to_anchor=(1.05, 1), loc=2, borderaxespad=0.)"
   ]
  },
  {
   "cell_type": "markdown",
   "metadata": {},
   "source": [
    "From February to April, Counter-Strike: Global Offensive gained the highest number of average players when lockdown 7 was increasing. Then from May to July, multiplayer RPG games like Terraria, Destiny 2, and Monster Hunter: World gained more players and became the games with the highest number of gained players when lockdown 7 was decreasing."
   ]
  },
  {
   "cell_type": "markdown",
   "metadata": {},
   "source": [
    "Now, let us look at the games the losses the most number of players per month for the year of 2020."
   ]
  },
  {
   "cell_type": "code",
   "execution_count": 54,
   "metadata": {},
   "outputs": [
    {
     "data": {
      "text/html": [
       "<div>\n",
       "<style scoped>\n",
       "    .dataframe tbody tr th:only-of-type {\n",
       "        vertical-align: middle;\n",
       "    }\n",
       "\n",
       "    .dataframe tbody tr th {\n",
       "        vertical-align: top;\n",
       "    }\n",
       "\n",
       "    .dataframe thead th {\n",
       "        text-align: right;\n",
       "    }\n",
       "</style>\n",
       "<table border=\"1\" class=\"dataframe\">\n",
       "  <thead>\n",
       "    <tr style=\"text-align: right;\">\n",
       "      <th></th>\n",
       "      <th>gamename</th>\n",
       "      <th>year</th>\n",
       "      <th>month</th>\n",
       "      <th>avg</th>\n",
       "      <th>gain</th>\n",
       "      <th>peak</th>\n",
       "      <th>avg_peak_perc</th>\n",
       "      <th>genres</th>\n",
       "      <th>Year-Month</th>\n",
       "    </tr>\n",
       "  </thead>\n",
       "  <tbody>\n",
       "    <tr>\n",
       "      <th>0</th>\n",
       "      <td>playerunknown's battlegrounds</td>\n",
       "      <td>2020</td>\n",
       "      <td>January</td>\n",
       "      <td>275363.04</td>\n",
       "      <td>-33082.41</td>\n",
       "      <td>645414</td>\n",
       "      <td>42.6646%</td>\n",
       "      <td>[Action, Adventure, Massively Multiplayer]</td>\n",
       "      <td>2020-01</td>\n",
       "    </tr>\n",
       "    <tr>\n",
       "      <th>1</th>\n",
       "      <td>path of exile</td>\n",
       "      <td>2020</td>\n",
       "      <td>February</td>\n",
       "      <td>17581.66</td>\n",
       "      <td>-22397.11</td>\n",
       "      <td>41010</td>\n",
       "      <td>42.8716%</td>\n",
       "      <td>[Action, Adventure, Free to Play, Indie, Massi...</td>\n",
       "      <td>2020-02</td>\n",
       "    </tr>\n",
       "    <tr>\n",
       "      <th>2</th>\n",
       "      <td>playerunknown's battlegrounds</td>\n",
       "      <td>2020</td>\n",
       "      <td>March</td>\n",
       "      <td>228467.17</td>\n",
       "      <td>-29117.16</td>\n",
       "      <td>562028</td>\n",
       "      <td>40.6505%</td>\n",
       "      <td>[Action, Adventure, Massively Multiplayer]</td>\n",
       "      <td>2020-03</td>\n",
       "    </tr>\n",
       "    <tr>\n",
       "      <th>3</th>\n",
       "      <td>borderlands 3</td>\n",
       "      <td>2020</td>\n",
       "      <td>April</td>\n",
       "      <td>22173.78</td>\n",
       "      <td>-30951.19</td>\n",
       "      <td>49479</td>\n",
       "      <td>44.8145%</td>\n",
       "      <td>[Action, RPG]</td>\n",
       "      <td>2020-04</td>\n",
       "    </tr>\n",
       "    <tr>\n",
       "      <th>4</th>\n",
       "      <td>counter-strike: global offensive</td>\n",
       "      <td>2020</td>\n",
       "      <td>May</td>\n",
       "      <td>768795.25</td>\n",
       "      <td>-88808.97</td>\n",
       "      <td>1193359</td>\n",
       "      <td>64.4228%</td>\n",
       "      <td>[Action, Free to Play]</td>\n",
       "      <td>2020-05</td>\n",
       "    </tr>\n",
       "    <tr>\n",
       "      <th>5</th>\n",
       "      <td>counter-strike: global offensive</td>\n",
       "      <td>2020</td>\n",
       "      <td>June</td>\n",
       "      <td>671647.46</td>\n",
       "      <td>-97147.79</td>\n",
       "      <td>1009467</td>\n",
       "      <td>66.5349%</td>\n",
       "      <td>[Action, Free to Play]</td>\n",
       "      <td>2020-06</td>\n",
       "    </tr>\n",
       "    <tr>\n",
       "      <th>6</th>\n",
       "      <td>counter-strike: global offensive</td>\n",
       "      <td>2020</td>\n",
       "      <td>July</td>\n",
       "      <td>625900.81</td>\n",
       "      <td>-45746.65</td>\n",
       "      <td>857560</td>\n",
       "      <td>72.9862%</td>\n",
       "      <td>[Action, Free to Play]</td>\n",
       "      <td>2020-07</td>\n",
       "    </tr>\n",
       "    <tr>\n",
       "      <th>7</th>\n",
       "      <td>dota 2</td>\n",
       "      <td>2020</td>\n",
       "      <td>August</td>\n",
       "      <td>429717.12</td>\n",
       "      <td>-20496.87</td>\n",
       "      <td>666138</td>\n",
       "      <td>64.5087%</td>\n",
       "      <td>[Action, Free to Play, Strategy]</td>\n",
       "      <td>2020-08</td>\n",
       "    </tr>\n",
       "    <tr>\n",
       "      <th>8</th>\n",
       "      <td>fall guys: ultimate knockout</td>\n",
       "      <td>2020</td>\n",
       "      <td>September</td>\n",
       "      <td>66899.48</td>\n",
       "      <td>-57579.87</td>\n",
       "      <td>150587</td>\n",
       "      <td>44.4258%</td>\n",
       "      <td>[Action, Casual, Indie, Massively Multiplayer,...</td>\n",
       "      <td>2020-09</td>\n",
       "    </tr>\n",
       "    <tr>\n",
       "      <th>9</th>\n",
       "      <td>fall guys: ultimate knockout</td>\n",
       "      <td>2020</td>\n",
       "      <td>October</td>\n",
       "      <td>26438.47</td>\n",
       "      <td>-40461.01</td>\n",
       "      <td>83964</td>\n",
       "      <td>31.4879%</td>\n",
       "      <td>[Action, Casual, Indie, Massively Multiplayer,...</td>\n",
       "      <td>2020-10</td>\n",
       "    </tr>\n",
       "    <tr>\n",
       "      <th>10</th>\n",
       "      <td>monster hunter: world</td>\n",
       "      <td>2020</td>\n",
       "      <td>November</td>\n",
       "      <td>24913.25</td>\n",
       "      <td>-22155.95</td>\n",
       "      <td>57301</td>\n",
       "      <td>43.4779%</td>\n",
       "      <td>[Action]</td>\n",
       "      <td>2020-11</td>\n",
       "    </tr>\n",
       "    <tr>\n",
       "      <th>11</th>\n",
       "      <td>destiny 2</td>\n",
       "      <td>2020</td>\n",
       "      <td>December</td>\n",
       "      <td>67000.69</td>\n",
       "      <td>-32899.28</td>\n",
       "      <td>139723</td>\n",
       "      <td>47.9525%</td>\n",
       "      <td>[Action, Adventure, Free to Play]</td>\n",
       "      <td>2020-12</td>\n",
       "    </tr>\n",
       "  </tbody>\n",
       "</table>\n",
       "</div>"
      ],
      "text/plain": [
       "                            gamename  year      month        avg      gain  \\\n",
       "0      playerunknown's battlegrounds  2020    January  275363.04 -33082.41   \n",
       "1                      path of exile  2020   February   17581.66 -22397.11   \n",
       "2      playerunknown's battlegrounds  2020      March  228467.17 -29117.16   \n",
       "3                      borderlands 3  2020      April   22173.78 -30951.19   \n",
       "4   counter-strike: global offensive  2020        May  768795.25 -88808.97   \n",
       "5   counter-strike: global offensive  2020       June  671647.46 -97147.79   \n",
       "6   counter-strike: global offensive  2020       July  625900.81 -45746.65   \n",
       "7                             dota 2  2020     August  429717.12 -20496.87   \n",
       "8       fall guys: ultimate knockout  2020  September   66899.48 -57579.87   \n",
       "9       fall guys: ultimate knockout  2020    October   26438.47 -40461.01   \n",
       "10             monster hunter: world  2020   November   24913.25 -22155.95   \n",
       "11                         destiny 2  2020   December   67000.69 -32899.28   \n",
       "\n",
       "       peak avg_peak_perc                                             genres  \\\n",
       "0    645414      42.6646%         [Action, Adventure, Massively Multiplayer]   \n",
       "1     41010      42.8716%  [Action, Adventure, Free to Play, Indie, Massi...   \n",
       "2    562028      40.6505%         [Action, Adventure, Massively Multiplayer]   \n",
       "3     49479      44.8145%                                      [Action, RPG]   \n",
       "4   1193359      64.4228%                             [Action, Free to Play]   \n",
       "5   1009467      66.5349%                             [Action, Free to Play]   \n",
       "6    857560      72.9862%                             [Action, Free to Play]   \n",
       "7    666138      64.5087%                   [Action, Free to Play, Strategy]   \n",
       "8    150587      44.4258%  [Action, Casual, Indie, Massively Multiplayer,...   \n",
       "9     83964      31.4879%  [Action, Casual, Indie, Massively Multiplayer,...   \n",
       "10    57301      43.4779%                                           [Action]   \n",
       "11   139723      47.9525%                  [Action, Adventure, Free to Play]   \n",
       "\n",
       "   Year-Month  \n",
       "0     2020-01  \n",
       "1     2020-02  \n",
       "2     2020-03  \n",
       "3     2020-04  \n",
       "4     2020-05  \n",
       "5     2020-06  \n",
       "6     2020-07  \n",
       "7     2020-08  \n",
       "8     2020-09  \n",
       "9     2020-10  \n",
       "10    2020-11  \n",
       "11    2020-12  "
      ]
     },
     "execution_count": 54,
     "metadata": {},
     "output_type": "execute_result"
    }
   ],
   "source": [
    "# Finding the game with the highest number of concurrent players lost per month in 2020\n",
    "\n",
    "lost_gain_2020 = complete_steam.loc[complete_steam[complete_steam['year']== 2020].groupby('month')['gain'].idxmin().values]\n",
    "lost_gain_2020['month'] = pd.Categorical(lost_gain_2020['month'], categories = months)\n",
    "lost_gain_2020.sort_values(by='month').reset_index(drop=True)"
   ]
  },
  {
   "cell_type": "markdown",
   "metadata": {},
   "source": [
    "As seen from the results above, the distribution is pretty diverse although it is fascinating to see that for three consecutive months between May - July, \"Counter-Strike: Global Offensive\" experienced the most losses. Let us look at the distribution of the trends in the graph below."
   ]
  },
  {
   "cell_type": "code",
   "execution_count": 55,
   "metadata": {},
   "outputs": [
    {
     "data": {
      "text/plain": [
       "<matplotlib.legend.Legend at 0x7fba4252c610>"
      ]
     },
     "execution_count": 55,
     "metadata": {},
     "output_type": "execute_result"
    },
    {
     "data": {
      "image/png": "[encoded data removed]",
      "text/plain": [
       "<Figure size 432x288 with 1 Axes>"
      ]
     },
     "metadata": {
      "needs_background": "light"
     },
     "output_type": "display_data"
    }
   ],
   "source": [
    "# Finding the game with the highest number of concurrent players lost per month in 2020\n",
    "\n",
    "ax = sns.barplot(x='month', y='gain', hue='gamename', data=lost_gain_2020, dodge=False)\n",
    "ax.set_xticklabels(ax.get_xticklabels(), rotation=90);\n",
    "ax.set_title('Games with the Highest Number of Players Lost Per Month in 2020', pad=20);\n",
    "plt.ylabel(\"Number of Players Lost from Previous Month\")\n",
    "plt.xlabel(\"Month\")\n",
    "plt.legend(bbox_to_anchor=(1.05, 1), loc=2, borderaxespad=0.)"
   ]
  },
  {
   "cell_type": "markdown",
   "metadata": {},
   "source": [
    "During March and April, PLAYERUNKNOWN'S BATTLEGROUNDS and Borderlands 3 were the games with the highest number of players lost. Then from May to July, Counter-Strike: Global Offensive was the game with the highest number of players lost."
   ]
  },
  {
   "cell_type": "markdown",
   "metadata": {},
   "source": [
    "## Comparisons"
   ]
  },
  {
   "cell_type": "markdown",
   "metadata": {},
   "source": [
    "During the increase of counties implementing lockdown status 7 from March to April, Counter Strike: Global Offensive saw the most growth out of any game. But after the decrease of counties with lockdown status 7, Counter Strike: Global Offensive was the game with the highest decreasing number of players from May to July. \n",
    "\n",
    "When the number of counties with lockdown status 7 starting decreasing, multiplayer RPG games like Terraria, Destiny 2, and Monster Hunter: World saw an increase in the highest number of average players."
   ]
  },
  {
   "cell_type": "code",
   "execution_count": 56,
   "metadata": {},
   "outputs": [
    {
     "data": {
      "text/html": [
       "<div>\n",
       "<style scoped>\n",
       "    .dataframe tbody tr th:only-of-type {\n",
       "        vertical-align: middle;\n",
       "    }\n",
       "\n",
       "    .dataframe tbody tr th {\n",
       "        vertical-align: top;\n",
       "    }\n",
       "\n",
       "    .dataframe thead th {\n",
       "        text-align: right;\n",
       "    }\n",
       "</style>\n",
       "<table border=\"1\" class=\"dataframe\">\n",
       "  <thead>\n",
       "    <tr style=\"text-align: right;\">\n",
       "      <th></th>\n",
       "      <th>stateFIPS_x</th>\n",
       "      <th>State_x</th>\n",
       "      <th>countyFIPS</th>\n",
       "      <th>County_x</th>\n",
       "      <th>Year_x</th>\n",
       "      <th>Value_x</th>\n",
       "      <th>County Order Status</th>\n",
       "      <th>Year-Month</th>\n",
       "      <th>Date</th>\n",
       "      <th>stateFIPS_y</th>\n",
       "      <th>State_y</th>\n",
       "      <th>County_y</th>\n",
       "      <th>Year_y</th>\n",
       "      <th>Value_y</th>\n",
       "    </tr>\n",
       "  </thead>\n",
       "  <tbody>\n",
       "    <tr>\n",
       "      <th>0</th>\n",
       "      <td>1</td>\n",
       "      <td>Alabama</td>\n",
       "      <td>1001</td>\n",
       "      <td>Autauga</td>\n",
       "      <td>20200315</td>\n",
       "      <td>7</td>\n",
       "      <td>Mandatory - all people (7)</td>\n",
       "      <td>2020-03</td>\n",
       "      <td>2020-03-15</td>\n",
       "      <td>1</td>\n",
       "      <td>Alabama</td>\n",
       "      <td>Autauga</td>\n",
       "      <td>2019</td>\n",
       "      <td>55869</td>\n",
       "    </tr>\n",
       "    <tr>\n",
       "      <th>1</th>\n",
       "      <td>1</td>\n",
       "      <td>Alabama</td>\n",
       "      <td>1001</td>\n",
       "      <td>Autauga</td>\n",
       "      <td>20200316</td>\n",
       "      <td>7</td>\n",
       "      <td>Mandatory - all people (7)</td>\n",
       "      <td>2020-03</td>\n",
       "      <td>2020-03-16</td>\n",
       "      <td>1</td>\n",
       "      <td>Alabama</td>\n",
       "      <td>Autauga</td>\n",
       "      <td>2019</td>\n",
       "      <td>55869</td>\n",
       "    </tr>\n",
       "    <tr>\n",
       "      <th>2</th>\n",
       "      <td>1</td>\n",
       "      <td>Alabama</td>\n",
       "      <td>1001</td>\n",
       "      <td>Autauga</td>\n",
       "      <td>20200317</td>\n",
       "      <td>7</td>\n",
       "      <td>Mandatory - all people (7)</td>\n",
       "      <td>2020-03</td>\n",
       "      <td>2020-03-17</td>\n",
       "      <td>1</td>\n",
       "      <td>Alabama</td>\n",
       "      <td>Autauga</td>\n",
       "      <td>2019</td>\n",
       "      <td>55869</td>\n",
       "    </tr>\n",
       "    <tr>\n",
       "      <th>3</th>\n",
       "      <td>1</td>\n",
       "      <td>Alabama</td>\n",
       "      <td>1001</td>\n",
       "      <td>Autauga</td>\n",
       "      <td>20200318</td>\n",
       "      <td>7</td>\n",
       "      <td>Mandatory - all people (7)</td>\n",
       "      <td>2020-03</td>\n",
       "      <td>2020-03-18</td>\n",
       "      <td>1</td>\n",
       "      <td>Alabama</td>\n",
       "      <td>Autauga</td>\n",
       "      <td>2019</td>\n",
       "      <td>55869</td>\n",
       "    </tr>\n",
       "    <tr>\n",
       "      <th>4</th>\n",
       "      <td>1</td>\n",
       "      <td>Alabama</td>\n",
       "      <td>1001</td>\n",
       "      <td>Autauga</td>\n",
       "      <td>20200319</td>\n",
       "      <td>7</td>\n",
       "      <td>Mandatory - all people (7)</td>\n",
       "      <td>2020-03</td>\n",
       "      <td>2020-03-19</td>\n",
       "      <td>1</td>\n",
       "      <td>Alabama</td>\n",
       "      <td>Autauga</td>\n",
       "      <td>2019</td>\n",
       "      <td>55869</td>\n",
       "    </tr>\n",
       "  </tbody>\n",
       "</table>\n",
       "</div>"
      ],
      "text/plain": [
       "   stateFIPS_x  State_x  countyFIPS County_x    Year_x  Value_x  \\\n",
       "0            1  Alabama        1001  Autauga  20200315        7   \n",
       "1            1  Alabama        1001  Autauga  20200316        7   \n",
       "2            1  Alabama        1001  Autauga  20200317        7   \n",
       "3            1  Alabama        1001  Autauga  20200318        7   \n",
       "4            1  Alabama        1001  Autauga  20200319        7   \n",
       "\n",
       "         County Order Status  Year-Month        Date  stateFIPS_y  State_y  \\\n",
       "0  Mandatory - all people (7)    2020-03  2020-03-15            1  Alabama   \n",
       "1  Mandatory - all people (7)    2020-03  2020-03-16            1  Alabama   \n",
       "2  Mandatory - all people (7)    2020-03  2020-03-17            1  Alabama   \n",
       "3  Mandatory - all people (7)    2020-03  2020-03-18            1  Alabama   \n",
       "4  Mandatory - all people (7)    2020-03  2020-03-19            1  Alabama   \n",
       "\n",
       "  County_y  Year_y  Value_y  \n",
       "0  Autauga    2019    55869  \n",
       "1  Autauga    2019    55869  \n",
       "2  Autauga    2019    55869  \n",
       "3  Autauga    2019    55869  \n",
       "4  Autauga    2019    55869  "
      ]
     },
     "execution_count": 56,
     "metadata": {},
     "output_type": "execute_result"
    }
   ],
   "source": [
    "# Merge lockdown statuses with population for each county\n",
    "\n",
    "merged_lockdown = pd.merge(lockdown, population_county, on='countyFIPS', how='left')\n",
    "merged_lockdown.head()"
   ]
  },
  {
   "cell_type": "code",
   "execution_count": 57,
   "metadata": {},
   "outputs": [
    {
     "data": {
      "text/html": [
       "<div>\n",
       "<style scoped>\n",
       "    .dataframe tbody tr th:only-of-type {\n",
       "        vertical-align: middle;\n",
       "    }\n",
       "\n",
       "    .dataframe tbody tr th {\n",
       "        vertical-align: top;\n",
       "    }\n",
       "\n",
       "    .dataframe thead th {\n",
       "        text-align: right;\n",
       "    }\n",
       "</style>\n",
       "<table border=\"1\" class=\"dataframe\">\n",
       "  <thead>\n",
       "    <tr style=\"text-align: right;\">\n",
       "      <th></th>\n",
       "      <th>stateFIPS_x</th>\n",
       "      <th>State_x</th>\n",
       "      <th>countyFIPS</th>\n",
       "      <th>County_x</th>\n",
       "      <th>Year_x</th>\n",
       "      <th>Value_x</th>\n",
       "      <th>County Order Status</th>\n",
       "      <th>Year-Month</th>\n",
       "      <th>Date</th>\n",
       "      <th>Value_y</th>\n",
       "    </tr>\n",
       "  </thead>\n",
       "  <tbody>\n",
       "    <tr>\n",
       "      <th>0</th>\n",
       "      <td>1</td>\n",
       "      <td>Alabama</td>\n",
       "      <td>1001</td>\n",
       "      <td>Autauga</td>\n",
       "      <td>20200315</td>\n",
       "      <td>7</td>\n",
       "      <td>Mandatory - all people (7)</td>\n",
       "      <td>2020-03</td>\n",
       "      <td>2020-03-15</td>\n",
       "      <td>55869</td>\n",
       "    </tr>\n",
       "    <tr>\n",
       "      <th>1</th>\n",
       "      <td>1</td>\n",
       "      <td>Alabama</td>\n",
       "      <td>1001</td>\n",
       "      <td>Autauga</td>\n",
       "      <td>20200316</td>\n",
       "      <td>7</td>\n",
       "      <td>Mandatory - all people (7)</td>\n",
       "      <td>2020-03</td>\n",
       "      <td>2020-03-16</td>\n",
       "      <td>55869</td>\n",
       "    </tr>\n",
       "    <tr>\n",
       "      <th>2</th>\n",
       "      <td>1</td>\n",
       "      <td>Alabama</td>\n",
       "      <td>1001</td>\n",
       "      <td>Autauga</td>\n",
       "      <td>20200317</td>\n",
       "      <td>7</td>\n",
       "      <td>Mandatory - all people (7)</td>\n",
       "      <td>2020-03</td>\n",
       "      <td>2020-03-17</td>\n",
       "      <td>55869</td>\n",
       "    </tr>\n",
       "    <tr>\n",
       "      <th>3</th>\n",
       "      <td>1</td>\n",
       "      <td>Alabama</td>\n",
       "      <td>1001</td>\n",
       "      <td>Autauga</td>\n",
       "      <td>20200318</td>\n",
       "      <td>7</td>\n",
       "      <td>Mandatory - all people (7)</td>\n",
       "      <td>2020-03</td>\n",
       "      <td>2020-03-18</td>\n",
       "      <td>55869</td>\n",
       "    </tr>\n",
       "    <tr>\n",
       "      <th>4</th>\n",
       "      <td>1</td>\n",
       "      <td>Alabama</td>\n",
       "      <td>1001</td>\n",
       "      <td>Autauga</td>\n",
       "      <td>20200319</td>\n",
       "      <td>7</td>\n",
       "      <td>Mandatory - all people (7)</td>\n",
       "      <td>2020-03</td>\n",
       "      <td>2020-03-19</td>\n",
       "      <td>55869</td>\n",
       "    </tr>\n",
       "  </tbody>\n",
       "</table>\n",
       "</div>"
      ],
      "text/plain": [
       "   stateFIPS_x  State_x  countyFIPS County_x    Year_x  Value_x  \\\n",
       "0            1  Alabama        1001  Autauga  20200315        7   \n",
       "1            1  Alabama        1001  Autauga  20200316        7   \n",
       "2            1  Alabama        1001  Autauga  20200317        7   \n",
       "3            1  Alabama        1001  Autauga  20200318        7   \n",
       "4            1  Alabama        1001  Autauga  20200319        7   \n",
       "\n",
       "         County Order Status  Year-Month        Date  Value_y  \n",
       "0  Mandatory - all people (7)    2020-03  2020-03-15    55869  \n",
       "1  Mandatory - all people (7)    2020-03  2020-03-16    55869  \n",
       "2  Mandatory - all people (7)    2020-03  2020-03-17    55869  \n",
       "3  Mandatory - all people (7)    2020-03  2020-03-18    55869  \n",
       "4  Mandatory - all people (7)    2020-03  2020-03-19    55869  "
      ]
     },
     "execution_count": 57,
     "metadata": {},
     "output_type": "execute_result"
    }
   ],
   "source": [
    "# Drop extraneous columns\n",
    "merged_lockdown = merged_lockdown.drop(['stateFIPS_y','State_y','County_y','Year_y'], axis=1)\n",
    "merged_lockdown.head()"
   ]
  },
  {
   "cell_type": "code",
   "execution_count": 58,
   "metadata": {},
   "outputs": [
    {
     "data": {
      "text/html": [
       "<div>\n",
       "<style scoped>\n",
       "    .dataframe tbody tr th:only-of-type {\n",
       "        vertical-align: middle;\n",
       "    }\n",
       "\n",
       "    .dataframe tbody tr th {\n",
       "        vertical-align: top;\n",
       "    }\n",
       "\n",
       "    .dataframe thead th {\n",
       "        text-align: right;\n",
       "    }\n",
       "</style>\n",
       "<table border=\"1\" class=\"dataframe\">\n",
       "  <thead>\n",
       "    <tr style=\"text-align: right;\">\n",
       "      <th></th>\n",
       "      <th>stateFIPS</th>\n",
       "      <th>State</th>\n",
       "      <th>countyFIPS</th>\n",
       "      <th>County</th>\n",
       "      <th>Year</th>\n",
       "      <th>Value</th>\n",
       "      <th>County Order Status</th>\n",
       "      <th>Year-Month</th>\n",
       "      <th>Date</th>\n",
       "      <th>Population</th>\n",
       "    </tr>\n",
       "  </thead>\n",
       "  <tbody>\n",
       "    <tr>\n",
       "      <th>0</th>\n",
       "      <td>1</td>\n",
       "      <td>Alabama</td>\n",
       "      <td>1001</td>\n",
       "      <td>Autauga</td>\n",
       "      <td>20200315</td>\n",
       "      <td>7</td>\n",
       "      <td>Mandatory - all people (7)</td>\n",
       "      <td>2020-03</td>\n",
       "      <td>2020-03-15</td>\n",
       "      <td>55869</td>\n",
       "    </tr>\n",
       "    <tr>\n",
       "      <th>1</th>\n",
       "      <td>1</td>\n",
       "      <td>Alabama</td>\n",
       "      <td>1001</td>\n",
       "      <td>Autauga</td>\n",
       "      <td>20200316</td>\n",
       "      <td>7</td>\n",
       "      <td>Mandatory - all people (7)</td>\n",
       "      <td>2020-03</td>\n",
       "      <td>2020-03-16</td>\n",
       "      <td>55869</td>\n",
       "    </tr>\n",
       "    <tr>\n",
       "      <th>2</th>\n",
       "      <td>1</td>\n",
       "      <td>Alabama</td>\n",
       "      <td>1001</td>\n",
       "      <td>Autauga</td>\n",
       "      <td>20200317</td>\n",
       "      <td>7</td>\n",
       "      <td>Mandatory - all people (7)</td>\n",
       "      <td>2020-03</td>\n",
       "      <td>2020-03-17</td>\n",
       "      <td>55869</td>\n",
       "    </tr>\n",
       "    <tr>\n",
       "      <th>3</th>\n",
       "      <td>1</td>\n",
       "      <td>Alabama</td>\n",
       "      <td>1001</td>\n",
       "      <td>Autauga</td>\n",
       "      <td>20200318</td>\n",
       "      <td>7</td>\n",
       "      <td>Mandatory - all people (7)</td>\n",
       "      <td>2020-03</td>\n",
       "      <td>2020-03-18</td>\n",
       "      <td>55869</td>\n",
       "    </tr>\n",
       "    <tr>\n",
       "      <th>4</th>\n",
       "      <td>1</td>\n",
       "      <td>Alabama</td>\n",
       "      <td>1001</td>\n",
       "      <td>Autauga</td>\n",
       "      <td>20200319</td>\n",
       "      <td>7</td>\n",
       "      <td>Mandatory - all people (7)</td>\n",
       "      <td>2020-03</td>\n",
       "      <td>2020-03-19</td>\n",
       "      <td>55869</td>\n",
       "    </tr>\n",
       "  </tbody>\n",
       "</table>\n",
       "</div>"
      ],
      "text/plain": [
       "   stateFIPS    State  countyFIPS   County      Year  Value  \\\n",
       "0          1  Alabama        1001  Autauga  20200315      7   \n",
       "1          1  Alabama        1001  Autauga  20200316      7   \n",
       "2          1  Alabama        1001  Autauga  20200317      7   \n",
       "3          1  Alabama        1001  Autauga  20200318      7   \n",
       "4          1  Alabama        1001  Autauga  20200319      7   \n",
       "\n",
       "          County Order Status Year-Month        Date  Population  \n",
       "0  Mandatory - all people (7)    2020-03  2020-03-15       55869  \n",
       "1  Mandatory - all people (7)    2020-03  2020-03-16       55869  \n",
       "2  Mandatory - all people (7)    2020-03  2020-03-17       55869  \n",
       "3  Mandatory - all people (7)    2020-03  2020-03-18       55869  \n",
       "4  Mandatory - all people (7)    2020-03  2020-03-19       55869  "
      ]
     },
     "execution_count": 58,
     "metadata": {},
     "output_type": "execute_result"
    }
   ],
   "source": [
    "# Rename columns\n",
    "merged_lockdown.columns = ['stateFIPS', 'State', 'countyFIPS', 'County', 'Year', 'Value',\n",
    "       'County Order Status', 'Year-Month', 'Date', 'Population']\n",
    "merged_lockdown.head()"
   ]
  },
  {
   "cell_type": "markdown",
   "metadata": {},
   "source": [
    "# Inferential Analysis"
   ]
  },
  {
   "cell_type": "code",
   "execution_count": 59,
   "metadata": {},
   "outputs": [
    {
     "name": "stdout",
     "output_type": "stream",
     "text": [
      "{'Game Development', 'Photo Editing', 'Sexual Content', 'Movie', 'Nudity', 'Early Access', 'Strategy', 'Indie', 'Animation & Modeling', 'Utilities', 'Gore', 'Adventure', 'Racing', 'Sports', 'Free to Play', 'Action', 'RPG', 'Simulation', 'Audio Production', 'Casual', 'Design & Illustration', 'Software Training', 'Violent', 'Video Production', 'Education', 'Massively Multiplayer', 'Web Publishing'}\n"
     ]
    }
   ],
   "source": [
    "# Find all unique genres\n",
    "unique_genres = set()\n",
    "for l in complete_steam['genres']:\n",
    "    for g in l:\n",
    "        unique_genres.add(g)\n",
    "print(unique_genres)"
   ]
  },
  {
   "cell_type": "code",
   "execution_count": 60,
   "metadata": {},
   "outputs": [
    {
     "data": {
      "text/plain": [
       "[('Action', 711),\n",
       " ('Indie', 554),\n",
       " ('Adventure', 420),\n",
       " ('RPG', 308),\n",
       " ('Simulation', 278),\n",
       " ('Strategy', 273),\n",
       " ('Free to Play', 204),\n",
       " ('Casual', 168),\n",
       " ('Massively Multiplayer', 117),\n",
       " ('Early Access', 71),\n",
       " ('Sports', 56),\n",
       " ('Racing', 41),\n",
       " ('Utilities', 10),\n",
       " ('Design & Illustration', 9),\n",
       " ('Animation & Modeling', 7),\n",
       " ('Violent', 5),\n",
       " ('Video Production', 5),\n",
       " ('Sexual Content', 4),\n",
       " ('Audio Production', 4),\n",
       " ('Web Publishing', 4),\n",
       " ('Nudity', 3),\n",
       " ('Movie', 2),\n",
       " ('Photo Editing', 2),\n",
       " ('Gore', 2),\n",
       " ('Education', 1),\n",
       " ('Software Training', 1),\n",
       " ('Game Development', 1)]"
      ]
     },
     "execution_count": 60,
     "metadata": {},
     "output_type": "execute_result"
    }
   ],
   "source": [
    "# Find the most popular genres\n",
    "split_genres = genres['genres'].str.split(\";\")\n",
    "genres_dict = defaultdict(int)\n",
    "for lst in split_genres:\n",
    "    for g in lst:\n",
    "        genres_dict[g] += 1\n",
    "sorted(genres_dict.items(), key=lambda item: -item[1])"
   ]
  },
  {
   "cell_type": "code",
   "execution_count": 61,
   "metadata": {},
   "outputs": [],
   "source": [
    "# Look at only the top 10 most popular genres\n",
    "# while ignoring \"Free to Play,\" \"Casual,\" \"Early Access\" as those are not really game genres\n",
    "important_genres = ['Action', 'Indie', 'Adventure', 'RPG', 'Simulation', 'Strategy', 'Massively Multiplayer', 'Sports', 'Racing']"
   ]
  },
  {
   "cell_type": "code",
   "execution_count": 62,
   "metadata": {},
   "outputs": [
    {
     "data": {
      "text/html": [
       "<div>\n",
       "<style scoped>\n",
       "    .dataframe tbody tr th:only-of-type {\n",
       "        vertical-align: middle;\n",
       "    }\n",
       "\n",
       "    .dataframe tbody tr th {\n",
       "        vertical-align: top;\n",
       "    }\n",
       "\n",
       "    .dataframe thead th {\n",
       "        text-align: right;\n",
       "    }\n",
       "</style>\n",
       "<table border=\"1\" class=\"dataframe\">\n",
       "  <thead>\n",
       "    <tr style=\"text-align: right;\">\n",
       "      <th></th>\n",
       "      <th>Date</th>\n",
       "      <th>stateFIPS</th>\n",
       "      <th>countyFIPS</th>\n",
       "      <th>Year</th>\n",
       "      <th>Value</th>\n",
       "      <th>Population</th>\n",
       "      <th>Year-Month</th>\n",
       "    </tr>\n",
       "  </thead>\n",
       "  <tbody>\n",
       "    <tr>\n",
       "      <th>0</th>\n",
       "      <td>2020-03-15</td>\n",
       "      <td>95140</td>\n",
       "      <td>95465549</td>\n",
       "      <td>63469389730</td>\n",
       "      <td>21994</td>\n",
       "      <td>328239523</td>\n",
       "      <td>2020-03</td>\n",
       "    </tr>\n",
       "    <tr>\n",
       "      <th>1</th>\n",
       "      <td>2020-03-16</td>\n",
       "      <td>95140</td>\n",
       "      <td>95465549</td>\n",
       "      <td>63469392872</td>\n",
       "      <td>21961</td>\n",
       "      <td>328239523</td>\n",
       "      <td>2020-03</td>\n",
       "    </tr>\n",
       "    <tr>\n",
       "      <th>2</th>\n",
       "      <td>2020-03-17</td>\n",
       "      <td>95140</td>\n",
       "      <td>95465549</td>\n",
       "      <td>63469396014</td>\n",
       "      <td>21961</td>\n",
       "      <td>328239523</td>\n",
       "      <td>2020-03</td>\n",
       "    </tr>\n",
       "    <tr>\n",
       "      <th>3</th>\n",
       "      <td>2020-03-18</td>\n",
       "      <td>95140</td>\n",
       "      <td>95465549</td>\n",
       "      <td>63469399156</td>\n",
       "      <td>21961</td>\n",
       "      <td>328239523</td>\n",
       "      <td>2020-03</td>\n",
       "    </tr>\n",
       "    <tr>\n",
       "      <th>4</th>\n",
       "      <td>2020-03-19</td>\n",
       "      <td>94792</td>\n",
       "      <td>95114185</td>\n",
       "      <td>62297783796</td>\n",
       "      <td>21555</td>\n",
       "      <td>288727300</td>\n",
       "      <td>2020-03</td>\n",
       "    </tr>\n",
       "    <tr>\n",
       "      <th>...</th>\n",
       "      <td>...</td>\n",
       "      <td>...</td>\n",
       "      <td>...</td>\n",
       "      <td>...</td>\n",
       "      <td>...</td>\n",
       "      <td>...</td>\n",
       "      <td>...</td>\n",
       "    </tr>\n",
       "    <tr>\n",
       "      <th>287</th>\n",
       "      <td>2020-12-27</td>\n",
       "      <td>94858</td>\n",
       "      <td>95180796</td>\n",
       "      <td>62522797565</td>\n",
       "      <td>19032</td>\n",
       "      <td>289410600</td>\n",
       "      <td>2020-12</td>\n",
       "    </tr>\n",
       "    <tr>\n",
       "      <th>288</th>\n",
       "      <td>2020-12-28</td>\n",
       "      <td>94858</td>\n",
       "      <td>95180796</td>\n",
       "      <td>62522800660</td>\n",
       "      <td>19032</td>\n",
       "      <td>289410600</td>\n",
       "      <td>2020-12</td>\n",
       "    </tr>\n",
       "    <tr>\n",
       "      <th>289</th>\n",
       "      <td>2020-12-29</td>\n",
       "      <td>94858</td>\n",
       "      <td>95180796</td>\n",
       "      <td>62522803755</td>\n",
       "      <td>19032</td>\n",
       "      <td>289410600</td>\n",
       "      <td>2020-12</td>\n",
       "    </tr>\n",
       "    <tr>\n",
       "      <th>290</th>\n",
       "      <td>2020-12-30</td>\n",
       "      <td>94858</td>\n",
       "      <td>95180796</td>\n",
       "      <td>62522806850</td>\n",
       "      <td>19032</td>\n",
       "      <td>289410600</td>\n",
       "      <td>2020-12</td>\n",
       "    </tr>\n",
       "    <tr>\n",
       "      <th>291</th>\n",
       "      <td>2020-12-31</td>\n",
       "      <td>94858</td>\n",
       "      <td>95180796</td>\n",
       "      <td>62522809945</td>\n",
       "      <td>19032</td>\n",
       "      <td>289410600</td>\n",
       "      <td>2020-12</td>\n",
       "    </tr>\n",
       "  </tbody>\n",
       "</table>\n",
       "<p>292 rows × 7 columns</p>\n",
       "</div>"
      ],
      "text/plain": [
       "           Date  stateFIPS  countyFIPS         Year  Value  Population  \\\n",
       "0    2020-03-15      95140    95465549  63469389730  21994   328239523   \n",
       "1    2020-03-16      95140    95465549  63469392872  21961   328239523   \n",
       "2    2020-03-17      95140    95465549  63469396014  21961   328239523   \n",
       "3    2020-03-18      95140    95465549  63469399156  21961   328239523   \n",
       "4    2020-03-19      94792    95114185  62297783796  21555   288727300   \n",
       "..          ...        ...         ...          ...    ...         ...   \n",
       "287  2020-12-27      94858    95180796  62522797565  19032   289410600   \n",
       "288  2020-12-28      94858    95180796  62522800660  19032   289410600   \n",
       "289  2020-12-29      94858    95180796  62522803755  19032   289410600   \n",
       "290  2020-12-30      94858    95180796  62522806850  19032   289410600   \n",
       "291  2020-12-31      94858    95180796  62522809945  19032   289410600   \n",
       "\n",
       "    Year-Month  \n",
       "0      2020-03  \n",
       "1      2020-03  \n",
       "2      2020-03  \n",
       "3      2020-03  \n",
       "4      2020-03  \n",
       "..         ...  \n",
       "287    2020-12  \n",
       "288    2020-12  \n",
       "289    2020-12  \n",
       "290    2020-12  \n",
       "291    2020-12  \n",
       "\n",
       "[292 rows x 7 columns]"
      ]
     },
     "execution_count": 62,
     "metadata": {},
     "output_type": "execute_result"
    }
   ],
   "source": [
    "# We consider a county in lockdown only if its lockdown status is 3 or greater, which indicates mandatory lockdown\n",
    "\n",
    "# Group lockdown data into months and find the total number of people in lockdown for each month\n",
    "\n",
    "\n",
    "grouped_lockdown = merged_lockdown[merged_lockdown['Value'] >= 3].groupby('Date', as_index=False).sum()\n",
    "\n",
    "def remove_day(string):\n",
    "    return string[:-3]\n",
    "\n",
    "grouped_lockdown['Year-Month'] = grouped_lockdown['Date'].apply(remove_day)\n",
    "grouped_lockdown"
   ]
  },
  {
   "cell_type": "code",
   "execution_count": 63,
   "metadata": {},
   "outputs": [
    {
     "data": {
      "text/html": [
       "<div>\n",
       "<style scoped>\n",
       "    .dataframe tbody tr th:only-of-type {\n",
       "        vertical-align: middle;\n",
       "    }\n",
       "\n",
       "    .dataframe tbody tr th {\n",
       "        vertical-align: top;\n",
       "    }\n",
       "\n",
       "    .dataframe thead th {\n",
       "        text-align: right;\n",
       "    }\n",
       "</style>\n",
       "<table border=\"1\" class=\"dataframe\">\n",
       "  <thead>\n",
       "    <tr style=\"text-align: right;\">\n",
       "      <th></th>\n",
       "      <th>stateFIPS</th>\n",
       "      <th>countyFIPS</th>\n",
       "      <th>Year</th>\n",
       "      <th>Value</th>\n",
       "      <th>Population</th>\n",
       "    </tr>\n",
       "    <tr>\n",
       "      <th>Year-Month</th>\n",
       "      <th></th>\n",
       "      <th></th>\n",
       "      <th></th>\n",
       "      <th></th>\n",
       "      <th></th>\n",
       "    </tr>\n",
       "  </thead>\n",
       "  <tbody>\n",
       "    <tr>\n",
       "      <th>2020-03</th>\n",
       "      <td>79963.588235</td>\n",
       "      <td>8.024729e+07</td>\n",
       "      <td>5.263847e+10</td>\n",
       "      <td>17486.941176</td>\n",
       "      <td>2.429857e+08</td>\n",
       "    </tr>\n",
       "    <tr>\n",
       "      <th>2020-04</th>\n",
       "      <td>37522.200000</td>\n",
       "      <td>3.765856e+07</td>\n",
       "      <td>2.296720e+10</td>\n",
       "      <td>6750.933333</td>\n",
       "      <td>9.212405e+07</td>\n",
       "    </tr>\n",
       "    <tr>\n",
       "      <th>2020-05</th>\n",
       "      <td>73694.774194</td>\n",
       "      <td>7.395715e+07</td>\n",
       "      <td>4.983142e+10</td>\n",
       "      <td>14396.225806</td>\n",
       "      <td>2.079139e+08</td>\n",
       "    </tr>\n",
       "    <tr>\n",
       "      <th>2020-06</th>\n",
       "      <td>94590.833333</td>\n",
       "      <td>9.491576e+07</td>\n",
       "      <td>6.311211e+10</td>\n",
       "      <td>18954.500000</td>\n",
       "      <td>3.178404e+08</td>\n",
       "    </tr>\n",
       "    <tr>\n",
       "      <th>2020-07</th>\n",
       "      <td>95136.354839</td>\n",
       "      <td>9.546190e+07</td>\n",
       "      <td>6.346218e+10</td>\n",
       "      <td>19217.096774</td>\n",
       "      <td>3.275900e+08</td>\n",
       "    </tr>\n",
       "    <tr>\n",
       "      <th>2020-08</th>\n",
       "      <td>95113.548387</td>\n",
       "      <td>9.543906e+07</td>\n",
       "      <td>6.345793e+10</td>\n",
       "      <td>19227.322581</td>\n",
       "      <td>3.281892e+08</td>\n",
       "    </tr>\n",
       "    <tr>\n",
       "      <th>2020-09</th>\n",
       "      <td>95140.000000</td>\n",
       "      <td>9.546555e+07</td>\n",
       "      <td>6.347128e+10</td>\n",
       "      <td>19235.400000</td>\n",
       "      <td>3.282395e+08</td>\n",
       "    </tr>\n",
       "    <tr>\n",
       "      <th>2020-10</th>\n",
       "      <td>95140.000000</td>\n",
       "      <td>9.546555e+07</td>\n",
       "      <td>6.347159e+10</td>\n",
       "      <td>19440.161290</td>\n",
       "      <td>3.282395e+08</td>\n",
       "    </tr>\n",
       "    <tr>\n",
       "      <th>2020-11</th>\n",
       "      <td>95140.000000</td>\n",
       "      <td>9.546555e+07</td>\n",
       "      <td>6.347190e+10</td>\n",
       "      <td>19361.333333</td>\n",
       "      <td>3.282395e+08</td>\n",
       "    </tr>\n",
       "    <tr>\n",
       "      <th>2020-12</th>\n",
       "      <td>94936.967742</td>\n",
       "      <td>9.526054e+07</td>\n",
       "      <td>6.278864e+10</td>\n",
       "      <td>19116.225806</td>\n",
       "      <td>2.990502e+08</td>\n",
       "    </tr>\n",
       "  </tbody>\n",
       "</table>\n",
       "</div>"
      ],
      "text/plain": [
       "               stateFIPS    countyFIPS          Year         Value  \\\n",
       "Year-Month                                                           \n",
       "2020-03     79963.588235  8.024729e+07  5.263847e+10  17486.941176   \n",
       "2020-04     37522.200000  3.765856e+07  2.296720e+10   6750.933333   \n",
       "2020-05     73694.774194  7.395715e+07  4.983142e+10  14396.225806   \n",
       "2020-06     94590.833333  9.491576e+07  6.311211e+10  18954.500000   \n",
       "2020-07     95136.354839  9.546190e+07  6.346218e+10  19217.096774   \n",
       "2020-08     95113.548387  9.543906e+07  6.345793e+10  19227.322581   \n",
       "2020-09     95140.000000  9.546555e+07  6.347128e+10  19235.400000   \n",
       "2020-10     95140.000000  9.546555e+07  6.347159e+10  19440.161290   \n",
       "2020-11     95140.000000  9.546555e+07  6.347190e+10  19361.333333   \n",
       "2020-12     94936.967742  9.526054e+07  6.278864e+10  19116.225806   \n",
       "\n",
       "              Population  \n",
       "Year-Month                \n",
       "2020-03     2.429857e+08  \n",
       "2020-04     9.212405e+07  \n",
       "2020-05     2.079139e+08  \n",
       "2020-06     3.178404e+08  \n",
       "2020-07     3.275900e+08  \n",
       "2020-08     3.281892e+08  \n",
       "2020-09     3.282395e+08  \n",
       "2020-10     3.282395e+08  \n",
       "2020-11     3.282395e+08  \n",
       "2020-12     2.990502e+08  "
      ]
     },
     "execution_count": 63,
     "metadata": {},
     "output_type": "execute_result"
    }
   ],
   "source": [
    "# Finding the average number of people in lockdown by month, since the original data is by day but our game sales\n",
    "# and player data is by month\n",
    "lockdown_group = grouped_lockdown.groupby(\"Year-Month\").mean()\n",
    "lockdown_group"
   ]
  },
  {
   "cell_type": "code",
   "execution_count": 64,
   "metadata": {},
   "outputs": [],
   "source": [
    "# Append columns with same name as genre to lockdown_group\n",
    "# where each column is the sum of number of players for a specific genre\n",
    "\n",
    "for genre in important_genres:\n",
    "    # Dataframe containing all games that contain this genre\n",
    "    subset_df = complete_steam[pd.DataFrame(complete_steam['genres'].tolist()).isin([genre]).any(1).values]\n",
    "        \n",
    "    genre_means_by_month = subset_df[subset_df['year']== 2020].groupby('month')['avg'].sum()\n",
    "    \n",
    "    genre_means_by_month.index = [datetime.datetime.strptime(x, \"%B\").month for x in genre_means_by_month.index]\n",
    "    genre_means_by_month = genre_means_by_month.sort_index()[2:]\n",
    "    \n",
    "    lockdown_group[genre] = genre_means_by_month.values"
   ]
  },
  {
   "cell_type": "code",
   "execution_count": 65,
   "metadata": {},
   "outputs": [
    {
     "data": {
      "image/png": "[encoded data removed]",
      "text/plain": [
       "<Figure size 432x288 with 1 Axes>"
      ]
     },
     "metadata": {
      "needs_background": "light"
     },
     "output_type": "display_data"
    },
    {
     "data": {
      "image/png": "[encoded data removed]",
      "text/plain": [
       "<Figure size 432x288 with 1 Axes>"
      ]
     },
     "metadata": {
      "needs_background": "light"
     },
     "output_type": "display_data"
    },
    {
     "data": {
      "image/png": "[encoded data removed]",
      "text/plain": [
       "<Figure size 432x288 with 1 Axes>"
      ]
     },
     "metadata": {
      "needs_background": "light"
     },
     "output_type": "display_data"
    },
    {
     "data": {
      "image/png": "[encoded data removed]",
      "text/plain": [
       "<Figure size 432x288 with 1 Axes>"
      ]
     },
     "metadata": {
      "needs_background": "light"
     },
     "output_type": "display_data"
    },
    {
     "data": {
      "image/png": "[encoded data removed]",
      "text/plain": [
       "<Figure size 432x288 with 1 Axes>"
      ]
     },
     "metadata": {
      "needs_background": "light"
     },
     "output_type": "display_data"
    },
    {
     "data": {
      "image/png": "[encoded data removed]",
      "text/plain": [
       "<Figure size 432x288 with 1 Axes>"
      ]
     },
     "metadata": {
      "needs_background": "light"
     },
     "output_type": "display_data"
    },
    {
     "data": {
      "image/png": "[encoded data removed]",
      "text/plain": [
       "<Figure size 432x288 with 1 Axes>"
      ]
     },
     "metadata": {
      "needs_background": "light"
     },
     "output_type": "display_data"
    },
    {
     "data": {
      "image/png": "[encoded data removed]",
      "text/plain": [
       "<Figure size 432x288 with 1 Axes>"
      ]
     },
     "metadata": {
      "needs_background": "light"
     },
     "output_type": "display_data"
    },
    {
     "data": {
      "image/png": "[encoded data removed]",
      "text/plain": [
       "<Figure size 432x288 with 1 Axes>"
      ]
     },
     "metadata": {
      "needs_background": "light"
     },
     "output_type": "display_data"
    }
   ],
   "source": [
    "# Plot lockdown population vs players, for each genre\n",
    "for genres in important_genres:\n",
    "    sns.regplot(x='Population', y=genres, data=lockdown_group)\n",
    "    plt.xlabel('Population in lockdown (millions)')\n",
    "    plt.ylabel('Number of Players')\n",
    "    plt.title('Number of ' + genres + ' Players vs Population in Lockdown', pad=20);\n",
    "    plt.show();"
   ]
  },
  {
   "cell_type": "markdown",
   "metadata": {},
   "source": [
    "For all of the genres except for Sports and Racing, we can see that there is a negative linear correlation between the number of players for the genre and population in lockdown. This means that having more people in lockdown does not lead to an increase in players (a factor that we use to predict popularity). It is important to note that for some genres there are outliers, which may affect how the linear relationship appears. As for the Sports and Racing genres, there does not appear to be any type of linear correlation between the population and number of players, so we are unable to draw any conclusions about whether the number of people in lockdown did or did not impact these 2 genres based on our data."
   ]
  },
  {
   "cell_type": "code",
   "execution_count": 66,
   "metadata": {},
   "outputs": [],
   "source": [
    "# Append game sales as another column to lockdown_group\n",
    "\n",
    "date_sorted_gamesales_1 = gamesales_1_df[gamesales_1_df['Year-Month'].str[:4] == '2020'].sort_values(by='Year-Month')\n",
    "software_sales_1 = date_sorted_gamesales_1['PC & Video Games Software'][2:].reset_index(drop=True)\n",
    "# Insert NaN for months 7-12\n",
    "lines = pd.Series([np.nan] * 6)\n",
    "software_sales_1 = pd.concat([software_sales_1, lines]).reset_index(drop=True)\n",
    "\n",
    "date_sorted_gamesales_2 = gamesales_2_df[gamesales_2_df['Year-Month'].str[:4] == '2020'].sort_values(by='Year-Month')\n",
    "software_sales_2 = date_sorted_gamesales_2['Video Game Content'][3:].reset_index(drop=True)\n",
    "\n",
    "# Insert NaN for months 3-6\n",
    "software_sales_2 = pd.concat([pd.Series([np.nan] * 4), software_sales_2]).reset_index(drop=True)\n",
    "\n",
    "# software_sales_1 is for months 3-6 (inclusive) where months 7+ are NaN\n",
    "# software_sales_2 is for months 7-12, inclusive, with months 3-6 having a value of NaN\n",
    "\n",
    "# Append as columns to lockdown_group\n",
    "lockdown_group['sales without micro'] = software_sales_1.values\n",
    "#lockdown_group\n",
    "lockdown_group['sales with micro'] = software_sales_2.values"
   ]
  },
  {
   "cell_type": "code",
   "execution_count": 67,
   "metadata": {},
   "outputs": [
    {
     "data": {
      "image/png": "[encoded data removed]",
      "text/plain": [
       "<Figure size 432x288 with 2 Axes>"
      ]
     },
     "metadata": {
      "needs_background": "light"
     },
     "output_type": "display_data"
    }
   ],
   "source": [
    "# Plot game sales and lockdown population over time\n",
    "\n",
    "# For the graph with no microtransactions, only use March-June\n",
    "lockdown_no_micro = lockdown_group.reset_index().iloc[:4] \n",
    "ax = lockdown_no_micro.plot(x='Year-Month', y='sales without micro', legend=False, color='b')\n",
    "ax2 = ax.twinx()\n",
    "lockdown_no_micro.plot(x='Year-Month', y='Population', ax=ax2, legend=False, color='r')\n",
    "\n",
    "ax.set_xlabel('Month')\n",
    "ax.set_ylabel('Video Game Software Sales (in millions USD)', color='b')\n",
    "ax2.set_ylabel('Population in Lockdown (in millions)', color='r')\n",
    "ax.set_title('US Video Game Software Sales (without microtransactions) & Lockdown Population, Over Time', pad=20);\n",
    "\n",
    "plt.show()"
   ]
  },
  {
   "cell_type": "markdown",
   "metadata": {},
   "source": [
    "Plotting the data for the number of US Video Game Software Sales shows between March and April, the number of people in lockdown and the number of gamesales both decreased. This means the decreasing number of game sales may have been impacted by the decreasing number of people in lockdown. Between the months of April and May, we are unable to say why the game sales continue to decrease despite the number of people in lockdown increasing. However, we do see an increase in game sales again when the number of people in lockdown continue to increase from May to June."
   ]
  },
  {
   "cell_type": "code",
   "execution_count": 68,
   "metadata": {},
   "outputs": [
    {
     "data": {
      "image/png": "[encoded data removed]",
      "text/plain": [
       "<Figure size 432x288 with 2 Axes>"
      ]
     },
     "metadata": {
      "needs_background": "light"
     },
     "output_type": "display_data"
    }
   ],
   "source": [
    "# For the graph with microtransactions, only use July-December\n",
    "lockdown_no_micro = lockdown_group.reset_index().iloc[4:] \n",
    "ax = lockdown_no_micro.plot(x='Year-Month', y='sales with micro', legend=False, color='b')\n",
    "ax2 = ax.twinx()\n",
    "lockdown_no_micro.plot(x='Year-Month', y='Population', ax=ax2, legend=False, color='r')\n",
    "\n",
    "ax.set_xlabel('Month')\n",
    "ax.set_ylabel('Video Game Software Sales (in millions USD)', color='b')\n",
    "ax2.set_ylabel('Population in lockdown (in millions)', color='r')\n",
    "ax.set_title('US Video Game Software Sales (with microtransactions) & Lockdown Population, Over Time', pad=20);\n",
    "\n",
    "plt.show()"
   ]
  },
  {
   "cell_type": "markdown",
   "metadata": {},
   "source": [
    "In general, the graph above shows that as lockdown continues, the number of microtransactions increase. However, this does not allow us to conclude that the increase in microtransactions is a result of the lockdown, especially since the number of people in lockdown sharply dips between November and December, but the microtransactions only continue to increase during this time. This is likely the result of the people spending more during the holiday season. We will also see this trend continue of more sales around December in following graphs."
   ]
  },
  {
   "cell_type": "code",
   "execution_count": 69,
   "metadata": {},
   "outputs": [
    {
     "data": {
      "image/png": "[encoded data removed]",
      "text/plain": [
       "<Figure size 432x288 with 1 Axes>"
      ]
     },
     "metadata": {
      "needs_background": "light"
     },
     "output_type": "display_data"
    }
   ],
   "source": [
    "# Splitting the Year and Month and assigning them to its own columns\n",
    "gamesales_1_df['Year'] = gamesales_1_df['Year-Month'].apply(lambda x: x.split('-')[0])\n",
    "gamesales_1_df['Month'] = gamesales_1_df['Year-Month'].apply(lambda x: x.split('-')[1])\n",
    "# Sort the values by month\n",
    "gamesales_1_df = gamesales_1_df.sort_values(by='Month')\n",
    "# Plotting the graph with Month as the x-axis and Video Game Content as the y-axis\n",
    "sns.lineplot(x= 'Month', y= 'PC & Video Games Software', hue= 'Year', \n",
    "             data=gamesales_1_df, hue_order = ['2019', '2020', '2018']);\n",
    "plt.ylabel(\"US Video Games Software Sales (in millions USD)\")\n",
    "plt.title(\"US Video Games Software Sales (without microtransactions) from 2018-2020\", pad=20);"
   ]
  },
  {
   "cell_type": "markdown",
   "metadata": {},
   "source": [
    "Here we can see that the trends for video game sales through the years 2018-2020 are pretty consistent. Though we don have some missing data, overall it seems that sales tend to rise during the beginning, middle and end months. This means that the significant rise in video game sales for the beginning months of 2020 is not something that we could nexcessarily contribute to the pandemic, since video game sales had already been increasing during those months for the past three years. Again, we cannot make an accurate conclusion due to the fact that we have missing data. "
   ]
  },
  {
   "cell_type": "code",
   "execution_count": 70,
   "metadata": {},
   "outputs": [
    {
     "data": {
      "image/png": "[encoded data removed]",
      "text/plain": [
       "<Figure size 432x288 with 1 Axes>"
      ]
     },
     "metadata": {
      "needs_background": "light"
     },
     "output_type": "display_data"
    }
   ],
   "source": [
    "# Splitting the Year and Month and assigning them to its own columns\n",
    "gamesales_2_df['Year'] = gamesales_2_df['Year-Month'].apply(lambda x: x.split('-')[0])\n",
    "gamesales_2_df['Month'] = gamesales_2_df['Year-Month'].apply(lambda x: x.split('-')[1])\n",
    "# Sort the values by month\n",
    "gamesales_2_df = gamesales_2_df.sort_values(by='Month')\n",
    "# Adding NaN values to show the missing months\n",
    "gamesales_2_df = pd.concat([gamesales_2_df[:6], pd.Series([np.nan] * 3), gamesales_2_df[6:]]).reset_index(drop=True)\n",
    "gamesales_2_df.iloc[[6],[2]] = '04'\n",
    "gamesales_2_df.iloc[[7],[2]] = '05'\n",
    "gamesales_2_df.iloc[[8],[2]] = '06'\n",
    "gamesales_2_df.iloc[[6,7,8],[7]] = '2020'\n",
    "# Plotting the graph with Month as the x-axis and Video Game Content as the y-axis\n",
    "sns.lineplot(x= 'Month', y= 'Video Game Content', hue= 'Year', \n",
    "             data=gamesales_2_df, hue_order = ['2019', '2020', '2021']);\n",
    "plt.ylabel(\"US Video Games Software Sales (in millions USD)\")\n",
    "plt.title(\"US Video Games Software Sales (with microtransactions) from 2019-2021\", pad=20);"
   ]
  },
  {
   "cell_type": "markdown",
   "metadata": {},
   "source": [
    "Here we are looking at the years 2019-2021. We the same sort of consistent trends as the graph above. There was an increase in sales during the beginning months and then another increase in sales at the end of the months. It does seem that the sales for the years 2020 and 2021 are higher than 2019, which we could be attributed to the pandemic, but it is not significant enough to be attributed to the pandemic. Unfortunately, we are missing the data so we are not able to see the information for march, when the pandemic started, but overall there are some strong consistent trends that seem to preceed the pandemic and this is a confounding factor to our analysis. "
   ]
  },
  {
   "cell_type": "markdown",
   "metadata": {},
   "source": [
    "# Ethics & Privacy"
   ]
  },
  {
   "cell_type": "markdown",
   "metadata": {},
   "source": [
    "Most of our data contains general information about video games and not the people playing these video games specifically (anonymized), therefore there is no concern for privacy of individuals. Our datasets are also licensed under the CC by 4.0 license or are available in the public domain. On the other hand, since our data of the number of people in lockdown is aggregated from a list of countries/regions, there may be a bias towards countries that entered lockdown and have a percentage of population with Internet access greater than the worldwide average. For example, if a large developing country entered lockdown, it may not affect games’ popularity much but would greatly influence the number of people in lockdown. This bias cannot be removed from our data, but it can be mitigated by looking at a large number of countries."
   ]
  },
  {
   "cell_type": "markdown",
   "metadata": {},
   "source": [
    "# Conclusion & Discussion"
   ]
  },
  {
   "cell_type": "markdown",
   "metadata": {},
   "source": [
    "   After our analysis on the effect of the 2020 lockdown orders status’ on video game popularity. We concluded that the pandemic did not have a significant effect on specific video game genre popularity. We weren’t able to draw any significant conclusions about how the number of people in lockdown impacted specific genres of games aside from seeing that there were conflicting linear relationship results and a number of outliers between the various genres and the number of people in lockdown. However, we can say that the number of people in lockdown did not increase the popularity of games based on genre, as we were unable to draw a positive linear correlation between them.\n",
    "\n",
    "   In our analysis we gathered data from the steam website, which is a video game digital distribution service. We looked at monthly average of players and monthly average sales to determine popularity and saw that there was a consistent trend of video game sales throughout the years of 2018-2021. We found that there would be big spikes in sales at the beginning and end of the years respectively. With two brief increases and decreases in between. This was consistent for all 3 years. All 3 years had pretty consistent trends with game sales and average number of players, therefore we cannot logically conclude that the number of people in lockdown increased the overall popularity of games.\n",
    "\n",
    "   We had a couple limitations to our project. We had some missing data for certain months in our game sales dataset. This could have had an impact on our analysis, not allowing us to see whether there might have been a significant decrease or increase during those respective months. Another limitation to our project was that our data did not match up in terms of timeline. We were not able to access all the data for game sales and players for the years 2018-2019. Our game sales dataset had data for 2018 whereas our average player dataset did not. Though it did have data from 2019-2021. As well as the factors we chose to determine video game genre popularity are not the only factors that determine video game genre popularity. \n",
    "\n",
    "   In the future if we were to expand on this project I think that we would need to add more variables to measure video game popularity. One idea could be using twitch streamers for specific games, to see how many people are watching other people play the game. We could also expand on our analysis of the genre’s, using a more in depth and non linear model to analyze specific genre video game popularity. \n",
    "\tThis project gives us a deeper insight into how the pandemic affected the video game industry. Showing us that the video game popularity is pretty stable even through a worldwide pandemic. This is important for people who invest in or have a video game business’. Knowing in advance when your sales increase and decrease can allow them to prepare for any kind of outside factors that might disrupt their revenue. \n"
   ]
  },
  {
   "cell_type": "markdown",
   "metadata": {},
   "source": [
    "# Team Contributions"
   ]
  },
  {
   "cell_type": "markdown",
   "metadata": {},
   "source": [
    "- Thuycam Nguyen: Research Question, Data Wrangling & Cleaning, Data Visualization and Analysis\n",
    "- Shania Ie: Background, Research Question, Data Wrangling & Cleaning, Data Visualization and Analysis\n",
    "- Tiffany Ho: Background, Hypothesis, Data Cleaning, Analysis, Conclusion & Discussion\n",
    "- Shawn Kim: Overview, Research Question, Background, Data Cleaning, Analysis, Video Compilation\n",
    "- Karina Sevilla: Background, formulating research question & hypothesis, Analysis, Discussion and Conclusion. "
   ]
  },
  {
   "cell_type": "code",
   "execution_count": null,
   "metadata": {},
   "outputs": [],
   "source": []
  }
 ],
 "metadata": {
  "kernelspec": {
   "display_name": "Python 3",
   "language": "python",
   "name": "python3"
  },
  "language_info": {
   "codemirror_mode": {
    "name": "ipython",
    "version": 3
   },
   "file_extension": ".py",
   "mimetype": "text/x-python",
   "name": "python",
   "nbconvert_exporter": "python",
   "pygments_lexer": "ipython3",
   "version": "3.7.7"
  }
 },
 "nbformat": 4,
 "nbformat_minor": 2
}
