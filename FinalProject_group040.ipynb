{
 "cells": [
  {
   "cell_type": "markdown",
   "metadata": {},
   "source": [
    "# What Makes a Bestselling Book?"
   ]
  },
  {
   "cell_type": "markdown",
   "metadata": {},
   "source": [
    "# Overview"
   ]
  },
  {
   "cell_type": "markdown",
   "metadata": {},
   "source": [
    "For our project we decided to analyze what features of a book make it a bestseller. Using data from goodreads, we created a dataset that gave us the genre, author, title, and ratings for a large number of books. Using a variety of bar plots, histograms, scatter plots and Support Vector Machines, we were able to discern that there is a high accuracy rate of correlation between book titles and genre, which makes for a good indication for whether or not the book will become a bestseller. "
   ]
  },
  {
   "cell_type": "markdown",
   "metadata": {},
   "source": [
    "# Names\n",
    "\n",
    "- Christine Nguyen A16114559\n",
    "- Adi Drapkin A13654388\n",
    "- Gwendolyn Warner A15421486\n",
    "- Hwang Min Yu A15334119"
   ]
  },
  {
   "cell_type": "markdown",
   "metadata": {},
   "source": [
    "<a id='research_question'></a>\n",
    "# Research Question"
   ]
  },
  {
   "cell_type": "markdown",
   "metadata": {},
   "source": [
    "What aspects of a novel correlate with a high probability of becoming a bestselling novel in the U.S.? Does a novel’s genre, length, release date, title, or subject matter highly correlate with it becoming successful?"
   ]
  },
  {
   "cell_type": "markdown",
   "metadata": {},
   "source": [
    "<a id='background'></a>\n",
    "\n",
    "## Background & Prior Work"
   ]
  },
  {
   "cell_type": "markdown",
   "metadata": {},
   "source": [
    "- Dataset Name: Fuzzy Book Genres from UCSD Book Graphs\n",
    "- Link to the dataset: https://sites.google.com/eng.ucsd.edu/ucsdbookgraph/books\n",
    "- Number of observations: 2360655\n",
    "\n",
    "This dataset has a list of book ids from GoodReads and for each has a dictionary matching the number of times a genre appears in user book reviews. This is due to GoodReads API not having a way to access a book’s genre.\n",
    "\n",
    "- Dataset Name: GoodReads-Books\n",
    "- Link to the dataset: https://www.kaggle.com/jealousleopard/goodreadsbooks\n",
    "- Number of observations: 11126\n",
    "\n",
    "This dataset has over 11,000 observations with book information from GoodReads.com including book IDs, title, author, language, number of pages, average rating, number of ratings, publication date, and publisher.\n",
    "\n",
    "Since book IDs are unique in the GoodReads database, we merged the two datasets on book ID in order to create one dataset (keeping only entries that were available in the 2nd dataset since it’s smaller). "
   ]
  },
  {
   "cell_type": "markdown",
   "metadata": {},
   "source": [
    "References (include links):\n",
    "- 1) https://github.com/amk986/Capstone-Project-Predicting-Book-success\n",
    "\n",
    "This project uploaded data from goodreads into jupyter notebooks, splitting the data by variables such as author, language, length, ratings, and publication information to analyze patterns that predict the success of a novel. Although the data appears incomplete, the project is a good reference point for understanding how to approach the question, categorize the information, and use graphs to make inferences about the data.\n",
    "- 2) https://epjdatascience.springeropen.com/articles/10.1140/epjds/s13688-018-0135-y\n",
    "\n",
    "The research article published took a look at what it is to make it onto the New York Time's bestseller list and what it takes for a book to be deemed successful amongst the 3 million books sold per year. Using sales patters of books and then the authors themselves, they find that books sale success follows trends similar to that of the economy. As for the authors success, repeat success was based off of serialized books, making familiarity with the author and their reputation a driving force for success. What this paper didn't focus on was attributes of the books themselves and how that leads into success, so for our project, we will try to look more specifically at the correlation between genre, title, and author with high book ratings. \n"
   ]
  },
  {
   "cell_type": "markdown",
   "metadata": {},
   "source": [
    "# Hypothesis\n"
   ]
  },
  {
   "cell_type": "markdown",
   "metadata": {},
   "source": [
    "Due to the article released by the website Marketwatch.com called “A data scientist cracks the code to landing on the New York Times best seller list,” we suspect in terms of genre, books that are “slice of life” fiction or autobiographies will best relate to a book’s success. Due to the comfort in familiarity, books written by authors that have released a lot of books will be more popular. Books with key-words in the title would entice a reader, therefore there should be a higher success rate for those books.\n"
   ]
  },
  {
   "cell_type": "markdown",
   "metadata": {},
   "source": [
    "# Dataset(s)"
   ]
  },
  {
   "cell_type": "markdown",
   "metadata": {},
   "source": [
    "- Dataset Name: Fuzzy Book Genres from UCSD Book Graphs\n",
    "- Link to the dataset: https://sites.google.com/eng.ucsd.edu/ucsdbookgraph/books\n",
    "- Number of observations: 2360655\n",
    "\n",
    "This dataset has a list of book ids from GoodReads and for each has a dictionary matching the number of times a genre appears in user book reviews. This is due to GoodReads API not having a way to access a book’s genre.\n",
    "\n",
    "- Dataset Name: GoodReads-Books\n",
    "- Link to the dataset: https://www.kaggle.com/jealousleopard/goodreadsbooks\n",
    "- Number of observations: 11126\n",
    "\n",
    "This dataset has over 11,000 observations with book information from GoodReads.com including book IDs, title, author, language, number of pages, average rating, number of ratings, publication date, and publisher.\n",
    "\n",
    "Since book IDs are unique in the GoodReads database, we merged the two datasets on book ID in order to create one dataset (keeping only entries that were available in the 2nd dataset since it’s smaller). "
   ]
  },
  {
   "cell_type": "markdown",
   "metadata": {},
   "source": [
    "# Setup"
   ]
  },
  {
   "cell_type": "code",
   "execution_count": 175,
   "metadata": {},
   "outputs": [],
   "source": [
    "# gzip package is used for reading the datasets\n",
    "import gzip\n",
    "# Used to get path to data files\n",
    "import os\n",
    "# numpy package is used to use arithmetic functions for cleaning the dataset\n",
    "import numpy as np\n",
    "# pandas package is used to work with DataFrame and its features\n",
    "import pandas as pd\n",
    "# packges for graphs\n",
    "import seaborn as sns\n",
    "import matplotlib.pyplot as plt\n",
    "# Import nltk package \n",
    "import nltk\n",
    "from nltk.tokenize import word_tokenize\n",
    "from nltk.corpus import stopwords\n",
    "# scikit-learn imports\n",
    "from sklearn.model_selection import train_test_split\n",
    "from sklearn.svm import SVC\n",
    "from sklearn.feature_extraction.text import CountVectorizer, TfidfVectorizer\n",
    "from sklearn.metrics import classification_report, precision_recall_fscore_support"
   ]
  },
  {
   "cell_type": "markdown",
   "metadata": {},
   "source": [
    "# Data Cleaning"
   ]
  },
  {
   "cell_type": "code",
   "execution_count": 176,
   "metadata": {},
   "outputs": [],
   "source": [
    "# parse gzip file into a more readable dataset\n",
    "def parse(f):\n",
    "    for l in gzip.open(f):\n",
    "        yield eval(l)"
   ]
  },
  {
   "cell_type": "code",
   "execution_count": 177,
   "metadata": {},
   "outputs": [],
   "source": [
    "# Convert gzip json file to list\n",
    "path = os.path.join('data', 'goodreads_book_genres_initial.json.gz')\n",
    "dataset = list(parse(path))"
   ]
  },
  {
   "cell_type": "code",
   "execution_count": 178,
   "metadata": {},
   "outputs": [
    {
     "data": {
      "text/html": [
       "<div>\n",
       "<style scoped>\n",
       "    .dataframe tbody tr th:only-of-type {\n",
       "        vertical-align: middle;\n",
       "    }\n",
       "\n",
       "    .dataframe tbody tr th {\n",
       "        vertical-align: top;\n",
       "    }\n",
       "\n",
       "    .dataframe thead th {\n",
       "        text-align: right;\n",
       "    }\n",
       "</style>\n",
       "<table border=\"1\" class=\"dataframe\">\n",
       "  <thead>\n",
       "    <tr style=\"text-align: right;\">\n",
       "      <th></th>\n",
       "      <th>book_id</th>\n",
       "      <th>genres</th>\n",
       "    </tr>\n",
       "  </thead>\n",
       "  <tbody>\n",
       "    <tr>\n",
       "      <th>0</th>\n",
       "      <td>5333265</td>\n",
       "      <td>{'history, historical fiction, biography': 1}</td>\n",
       "    </tr>\n",
       "    <tr>\n",
       "      <th>1</th>\n",
       "      <td>1333909</td>\n",
       "      <td>{'fiction': 219, 'history, historical fiction,...</td>\n",
       "    </tr>\n",
       "    <tr>\n",
       "      <th>2</th>\n",
       "      <td>7327624</td>\n",
       "      <td>{'fantasy, paranormal': 31, 'fiction': 8, 'mys...</td>\n",
       "    </tr>\n",
       "    <tr>\n",
       "      <th>3</th>\n",
       "      <td>6066819</td>\n",
       "      <td>{'fiction': 555, 'romance': 23, 'mystery, thri...</td>\n",
       "    </tr>\n",
       "    <tr>\n",
       "      <th>4</th>\n",
       "      <td>287140</td>\n",
       "      <td>{'non-fiction': 3}</td>\n",
       "    </tr>\n",
       "    <tr>\n",
       "      <th>...</th>\n",
       "      <td>...</td>\n",
       "      <td>...</td>\n",
       "    </tr>\n",
       "    <tr>\n",
       "      <th>2360650</th>\n",
       "      <td>3084038</td>\n",
       "      <td>{'non-fiction': 5, 'history, historical fictio...</td>\n",
       "    </tr>\n",
       "    <tr>\n",
       "      <th>2360651</th>\n",
       "      <td>26168430</td>\n",
       "      <td>{'mystery, thriller, crime': 4, 'children': 1,...</td>\n",
       "    </tr>\n",
       "    <tr>\n",
       "      <th>2360652</th>\n",
       "      <td>2342551</td>\n",
       "      <td>{'poetry': 14, 'children': 7, 'young-adult': 1...</td>\n",
       "    </tr>\n",
       "    <tr>\n",
       "      <th>2360653</th>\n",
       "      <td>22017381</td>\n",
       "      <td>{'romance': 13, 'mystery, thriller, crime': 2}</td>\n",
       "    </tr>\n",
       "    <tr>\n",
       "      <th>2360654</th>\n",
       "      <td>11419866</td>\n",
       "      <td>{'romance': 19, 'fiction': 4}</td>\n",
       "    </tr>\n",
       "  </tbody>\n",
       "</table>\n",
       "<p>2360655 rows × 2 columns</p>\n",
       "</div>"
      ],
      "text/plain": [
       "          book_id                                             genres\n",
       "0         5333265      {'history, historical fiction, biography': 1}\n",
       "1         1333909  {'fiction': 219, 'history, historical fiction,...\n",
       "2         7327624  {'fantasy, paranormal': 31, 'fiction': 8, 'mys...\n",
       "3         6066819  {'fiction': 555, 'romance': 23, 'mystery, thri...\n",
       "4          287140                                 {'non-fiction': 3}\n",
       "...           ...                                                ...\n",
       "2360650   3084038  {'non-fiction': 5, 'history, historical fictio...\n",
       "2360651  26168430  {'mystery, thriller, crime': 4, 'children': 1,...\n",
       "2360652   2342551  {'poetry': 14, 'children': 7, 'young-adult': 1...\n",
       "2360653  22017381     {'romance': 13, 'mystery, thriller, crime': 2}\n",
       "2360654  11419866                      {'romance': 19, 'fiction': 4}\n",
       "\n",
       "[2360655 rows x 2 columns]"
      ]
     },
     "execution_count": 178,
     "metadata": {},
     "output_type": "execute_result"
    }
   ],
   "source": [
    "# read the dataset for genres and book id as DataFrame\n",
    "lines = []\n",
    "for line in dataset:\n",
    "    lines.append(line)\n",
    "df = pd.DataFrame(lines)\n",
    "# change 'book_id' to int data type\n",
    "df['book_id'] = pd.to_numeric(df['book_id'])\n",
    "df"
   ]
  },
  {
   "cell_type": "code",
   "execution_count": 179,
   "metadata": {},
   "outputs": [
    {
     "data": {
      "text/html": [
       "<div>\n",
       "<style scoped>\n",
       "    .dataframe tbody tr th:only-of-type {\n",
       "        vertical-align: middle;\n",
       "    }\n",
       "\n",
       "    .dataframe tbody tr th {\n",
       "        vertical-align: top;\n",
       "    }\n",
       "\n",
       "    .dataframe thead th {\n",
       "        text-align: right;\n",
       "    }\n",
       "</style>\n",
       "<table border=\"1\" class=\"dataframe\">\n",
       "  <thead>\n",
       "    <tr style=\"text-align: right;\">\n",
       "      <th></th>\n",
       "      <th>bookID</th>\n",
       "      <th>title</th>\n",
       "      <th>authors</th>\n",
       "      <th>average_rating</th>\n",
       "      <th>isbn</th>\n",
       "      <th>isbn13</th>\n",
       "      <th>language_code</th>\n",
       "      <th>num_pages</th>\n",
       "      <th>ratings_count</th>\n",
       "      <th>text_reviews_count</th>\n",
       "      <th>publication_date</th>\n",
       "      <th>publisher</th>\n",
       "    </tr>\n",
       "  </thead>\n",
       "  <tbody>\n",
       "    <tr>\n",
       "      <th>0</th>\n",
       "      <td>1</td>\n",
       "      <td>Harry Potter and the Half-Blood Prince (Harry ...</td>\n",
       "      <td>J.K. Rowling/Mary GrandPré</td>\n",
       "      <td>4.57</td>\n",
       "      <td>439785960</td>\n",
       "      <td>9.78044E+12</td>\n",
       "      <td>eng</td>\n",
       "      <td>652</td>\n",
       "      <td>2095690</td>\n",
       "      <td>27591</td>\n",
       "      <td>9/16/2006</td>\n",
       "      <td>Scholastic Inc.</td>\n",
       "    </tr>\n",
       "    <tr>\n",
       "      <th>1</th>\n",
       "      <td>2</td>\n",
       "      <td>Harry Potter and the Order of the Phoenix (Har...</td>\n",
       "      <td>J.K. Rowling/Mary GrandPré</td>\n",
       "      <td>4.49</td>\n",
       "      <td>439358078</td>\n",
       "      <td>9.78044E+12</td>\n",
       "      <td>eng</td>\n",
       "      <td>870</td>\n",
       "      <td>2153167</td>\n",
       "      <td>29221</td>\n",
       "      <td>9/1/2004</td>\n",
       "      <td>Scholastic Inc.</td>\n",
       "    </tr>\n",
       "    <tr>\n",
       "      <th>2</th>\n",
       "      <td>4</td>\n",
       "      <td>Harry Potter and the Chamber of Secrets (Harry...</td>\n",
       "      <td>J.K. Rowling</td>\n",
       "      <td>4.42</td>\n",
       "      <td>439554896</td>\n",
       "      <td>9.78044E+12</td>\n",
       "      <td>eng</td>\n",
       "      <td>352</td>\n",
       "      <td>6333</td>\n",
       "      <td>244</td>\n",
       "      <td>11/1/2003</td>\n",
       "      <td>Scholastic</td>\n",
       "    </tr>\n",
       "    <tr>\n",
       "      <th>3</th>\n",
       "      <td>5</td>\n",
       "      <td>Harry Potter and the Prisoner of Azkaban (Harr...</td>\n",
       "      <td>J.K. Rowling/Mary GrandPré</td>\n",
       "      <td>4.56</td>\n",
       "      <td>043965548X</td>\n",
       "      <td>9.78044E+12</td>\n",
       "      <td>eng</td>\n",
       "      <td>435</td>\n",
       "      <td>2339585</td>\n",
       "      <td>36325</td>\n",
       "      <td>5/1/2004</td>\n",
       "      <td>Scholastic Inc.</td>\n",
       "    </tr>\n",
       "    <tr>\n",
       "      <th>4</th>\n",
       "      <td>8</td>\n",
       "      <td>Harry Potter Boxed Set  Books 1-5 (Harry Potte...</td>\n",
       "      <td>J.K. Rowling/Mary GrandPré</td>\n",
       "      <td>4.78</td>\n",
       "      <td>439682584</td>\n",
       "      <td>9.78044E+12</td>\n",
       "      <td>eng</td>\n",
       "      <td>2690</td>\n",
       "      <td>41428</td>\n",
       "      <td>164</td>\n",
       "      <td>9/13/2004</td>\n",
       "      <td>Scholastic</td>\n",
       "    </tr>\n",
       "    <tr>\n",
       "      <th>...</th>\n",
       "      <td>...</td>\n",
       "      <td>...</td>\n",
       "      <td>...</td>\n",
       "      <td>...</td>\n",
       "      <td>...</td>\n",
       "      <td>...</td>\n",
       "      <td>...</td>\n",
       "      <td>...</td>\n",
       "      <td>...</td>\n",
       "      <td>...</td>\n",
       "      <td>...</td>\n",
       "      <td>...</td>\n",
       "    </tr>\n",
       "    <tr>\n",
       "      <th>11120</th>\n",
       "      <td>45631</td>\n",
       "      <td>Expelled from Eden: A William T. Vollmann Reader</td>\n",
       "      <td>William T. Vollmann/Larry McCaffery/Michael He...</td>\n",
       "      <td>4.06</td>\n",
       "      <td>1560254416</td>\n",
       "      <td>9.78156E+12</td>\n",
       "      <td>eng</td>\n",
       "      <td>512</td>\n",
       "      <td>156</td>\n",
       "      <td>20</td>\n",
       "      <td>12/21/2004</td>\n",
       "      <td>Da Capo Press</td>\n",
       "    </tr>\n",
       "    <tr>\n",
       "      <th>11121</th>\n",
       "      <td>45633</td>\n",
       "      <td>You Bright and Risen Angels</td>\n",
       "      <td>William T. Vollmann</td>\n",
       "      <td>4.08</td>\n",
       "      <td>140110879</td>\n",
       "      <td>9.78014E+12</td>\n",
       "      <td>eng</td>\n",
       "      <td>635</td>\n",
       "      <td>783</td>\n",
       "      <td>56</td>\n",
       "      <td>12/1/1988</td>\n",
       "      <td>Penguin Books</td>\n",
       "    </tr>\n",
       "    <tr>\n",
       "      <th>11122</th>\n",
       "      <td>45634</td>\n",
       "      <td>The Ice-Shirt (Seven Dreams #1)</td>\n",
       "      <td>William T. Vollmann</td>\n",
       "      <td>3.96</td>\n",
       "      <td>140131965</td>\n",
       "      <td>9.78014E+12</td>\n",
       "      <td>eng</td>\n",
       "      <td>415</td>\n",
       "      <td>820</td>\n",
       "      <td>95</td>\n",
       "      <td>8/1/1993</td>\n",
       "      <td>Penguin Books</td>\n",
       "    </tr>\n",
       "    <tr>\n",
       "      <th>11123</th>\n",
       "      <td>45639</td>\n",
       "      <td>Poor People</td>\n",
       "      <td>William T. Vollmann</td>\n",
       "      <td>3.72</td>\n",
       "      <td>60878827</td>\n",
       "      <td>9.78006E+12</td>\n",
       "      <td>eng</td>\n",
       "      <td>434</td>\n",
       "      <td>769</td>\n",
       "      <td>139</td>\n",
       "      <td>2/27/2007</td>\n",
       "      <td>Ecco</td>\n",
       "    </tr>\n",
       "    <tr>\n",
       "      <th>11124</th>\n",
       "      <td>45641</td>\n",
       "      <td>Las aventuras de Tom Sawyer</td>\n",
       "      <td>Mark Twain</td>\n",
       "      <td>3.91</td>\n",
       "      <td>8497646983</td>\n",
       "      <td>9.7885E+12</td>\n",
       "      <td>spa</td>\n",
       "      <td>272</td>\n",
       "      <td>113</td>\n",
       "      <td>12</td>\n",
       "      <td>5/28/2006</td>\n",
       "      <td>Edimat Libros</td>\n",
       "    </tr>\n",
       "  </tbody>\n",
       "</table>\n",
       "<p>11125 rows × 12 columns</p>\n",
       "</div>"
      ],
      "text/plain": [
       "       bookID                                              title  \\\n",
       "0           1  Harry Potter and the Half-Blood Prince (Harry ...   \n",
       "1           2  Harry Potter and the Order of the Phoenix (Har...   \n",
       "2           4  Harry Potter and the Chamber of Secrets (Harry...   \n",
       "3           5  Harry Potter and the Prisoner of Azkaban (Harr...   \n",
       "4           8  Harry Potter Boxed Set  Books 1-5 (Harry Potte...   \n",
       "...       ...                                                ...   \n",
       "11120   45631   Expelled from Eden: A William T. Vollmann Reader   \n",
       "11121   45633                        You Bright and Risen Angels   \n",
       "11122   45634                    The Ice-Shirt (Seven Dreams #1)   \n",
       "11123   45639                                        Poor People   \n",
       "11124   45641                        Las aventuras de Tom Sawyer   \n",
       "\n",
       "                                                 authors average_rating  \\\n",
       "0                             J.K. Rowling/Mary GrandPré           4.57   \n",
       "1                             J.K. Rowling/Mary GrandPré           4.49   \n",
       "2                                           J.K. Rowling           4.42   \n",
       "3                             J.K. Rowling/Mary GrandPré           4.56   \n",
       "4                             J.K. Rowling/Mary GrandPré           4.78   \n",
       "...                                                  ...            ...   \n",
       "11120  William T. Vollmann/Larry McCaffery/Michael He...           4.06   \n",
       "11121                                William T. Vollmann           4.08   \n",
       "11122                                William T. Vollmann           3.96   \n",
       "11123                                William T. Vollmann           3.72   \n",
       "11124                                         Mark Twain           3.91   \n",
       "\n",
       "             isbn       isbn13 language_code   num_pages  ratings_count  \\\n",
       "0       439785960  9.78044E+12           eng         652        2095690   \n",
       "1       439358078  9.78044E+12           eng         870        2153167   \n",
       "2       439554896  9.78044E+12           eng         352           6333   \n",
       "3      043965548X  9.78044E+12           eng         435        2339585   \n",
       "4       439682584  9.78044E+12           eng        2690          41428   \n",
       "...           ...          ...           ...         ...            ...   \n",
       "11120  1560254416  9.78156E+12           eng         512            156   \n",
       "11121   140110879  9.78014E+12           eng         635            783   \n",
       "11122   140131965  9.78014E+12           eng         415            820   \n",
       "11123    60878827  9.78006E+12           eng         434            769   \n",
       "11124  8497646983   9.7885E+12           spa         272            113   \n",
       "\n",
       "       text_reviews_count publication_date        publisher  \n",
       "0                   27591        9/16/2006  Scholastic Inc.  \n",
       "1                   29221         9/1/2004  Scholastic Inc.  \n",
       "2                     244        11/1/2003       Scholastic  \n",
       "3                   36325         5/1/2004  Scholastic Inc.  \n",
       "4                     164        9/13/2004       Scholastic  \n",
       "...                   ...              ...              ...  \n",
       "11120                  20       12/21/2004    Da Capo Press  \n",
       "11121                  56        12/1/1988    Penguin Books  \n",
       "11122                  95         8/1/1993    Penguin Books  \n",
       "11123                 139        2/27/2007             Ecco  \n",
       "11124                  12        5/28/2006    Edimat Libros  \n",
       "\n",
       "[11125 rows x 12 columns]"
      ]
     },
     "execution_count": 179,
     "metadata": {},
     "output_type": "execute_result"
    }
   ],
   "source": [
    "# import dataset with book information\n",
    "path2 = os.path.join('data', 'books1.csv')\n",
    "dataset2 = pd.read_csv(path2)\n",
    "dataset2"
   ]
  },
  {
   "cell_type": "code",
   "execution_count": 180,
   "metadata": {},
   "outputs": [],
   "source": [
    "# merge using right merge on two datasets to have one dataset with genres and \n",
    "# other additional information\n",
    "merged = df.merge(dataset2,how='right', left_on='book_id', right_on='bookID')\n",
    "# drop duplicate column\n",
    "merged = merged.drop(columns=['book_id'])"
   ]
  },
  {
   "cell_type": "code",
   "execution_count": 181,
   "metadata": {},
   "outputs": [],
   "source": [
    "# Get the max frequency from each dictionary in genre to represent its key\n",
    "# as the genre of book\n",
    "genres = merged['genres']\n",
    "max_key = []\n",
    "for i in range(genres.shape[0]):\n",
    "    line = genres[i]\n",
    "    # check if the data type of each dictionary is a dictionary\n",
    "    if isinstance(line,dict):\n",
    "        # checks if dictionary is empty\n",
    "        if len(line) > 0:\n",
    "            # Gets the max frequency and its key from each dictionary\n",
    "            k = list(line.keys())\n",
    "            val = list(line.values())\n",
    "            v = max(val)\n",
    "            max_key.append(k[val.index(v)])\n",
    "        else:\n",
    "            # assign empty string for empty dictionary\n",
    "            max_key.append('')\n",
    "    else:\n",
    "        # assign empty string for non-dictionary values\n",
    "        max_key.append('')\n",
    "merged['genres'] = max_key"
   ]
  },
  {
   "cell_type": "code",
   "execution_count": 182,
   "metadata": {},
   "outputs": [],
   "source": [
    "# clean out empty genre rows and reorder index values\n",
    "merged = merged[merged['genres'] != ''].reset_index().drop(columns=['index'], axis=1)"
   ]
  },
  {
   "cell_type": "code",
   "execution_count": 183,
   "metadata": {},
   "outputs": [
    {
     "data": {
      "text/html": [
       "<div>\n",
       "<style scoped>\n",
       "    .dataframe tbody tr th:only-of-type {\n",
       "        vertical-align: middle;\n",
       "    }\n",
       "\n",
       "    .dataframe tbody tr th {\n",
       "        vertical-align: top;\n",
       "    }\n",
       "\n",
       "    .dataframe thead th {\n",
       "        text-align: right;\n",
       "    }\n",
       "</style>\n",
       "<table border=\"1\" class=\"dataframe\">\n",
       "  <thead>\n",
       "    <tr style=\"text-align: right;\">\n",
       "      <th></th>\n",
       "      <th>genres</th>\n",
       "      <th>bookID</th>\n",
       "      <th>title</th>\n",
       "      <th>authors</th>\n",
       "      <th>average_rating</th>\n",
       "      <th>isbn</th>\n",
       "      <th>isbn13</th>\n",
       "      <th>language_code</th>\n",
       "      <th>num_pages</th>\n",
       "      <th>ratings_count</th>\n",
       "      <th>text_reviews_count</th>\n",
       "      <th>publication_date</th>\n",
       "      <th>publisher</th>\n",
       "    </tr>\n",
       "  </thead>\n",
       "  <tbody>\n",
       "    <tr>\n",
       "      <th>0</th>\n",
       "      <td>fantasy, paranormal</td>\n",
       "      <td>1</td>\n",
       "      <td>Harry Potter and the Half-Blood Prince (Harry ...</td>\n",
       "      <td>J.K. Rowling/Mary GrandPré</td>\n",
       "      <td>4.57</td>\n",
       "      <td>439785960</td>\n",
       "      <td>9.78044E+12</td>\n",
       "      <td>eng</td>\n",
       "      <td>652</td>\n",
       "      <td>2095690</td>\n",
       "      <td>27591</td>\n",
       "      <td>9/16/2006</td>\n",
       "      <td>Scholastic Inc.</td>\n",
       "    </tr>\n",
       "    <tr>\n",
       "      <th>1</th>\n",
       "      <td>fantasy, paranormal</td>\n",
       "      <td>2</td>\n",
       "      <td>Harry Potter and the Order of the Phoenix (Har...</td>\n",
       "      <td>J.K. Rowling/Mary GrandPré</td>\n",
       "      <td>4.49</td>\n",
       "      <td>439358078</td>\n",
       "      <td>9.78044E+12</td>\n",
       "      <td>eng</td>\n",
       "      <td>870</td>\n",
       "      <td>2153167</td>\n",
       "      <td>29221</td>\n",
       "      <td>9/1/2004</td>\n",
       "      <td>Scholastic Inc.</td>\n",
       "    </tr>\n",
       "    <tr>\n",
       "      <th>2</th>\n",
       "      <td>fantasy, paranormal</td>\n",
       "      <td>4</td>\n",
       "      <td>Harry Potter and the Chamber of Secrets (Harry...</td>\n",
       "      <td>J.K. Rowling</td>\n",
       "      <td>4.42</td>\n",
       "      <td>439554896</td>\n",
       "      <td>9.78044E+12</td>\n",
       "      <td>eng</td>\n",
       "      <td>352</td>\n",
       "      <td>6333</td>\n",
       "      <td>244</td>\n",
       "      <td>11/1/2003</td>\n",
       "      <td>Scholastic</td>\n",
       "    </tr>\n",
       "    <tr>\n",
       "      <th>3</th>\n",
       "      <td>fiction</td>\n",
       "      <td>5</td>\n",
       "      <td>Harry Potter and the Prisoner of Azkaban (Harr...</td>\n",
       "      <td>J.K. Rowling/Mary GrandPré</td>\n",
       "      <td>4.56</td>\n",
       "      <td>043965548X</td>\n",
       "      <td>9.78044E+12</td>\n",
       "      <td>eng</td>\n",
       "      <td>435</td>\n",
       "      <td>2339585</td>\n",
       "      <td>36325</td>\n",
       "      <td>5/1/2004</td>\n",
       "      <td>Scholastic Inc.</td>\n",
       "    </tr>\n",
       "    <tr>\n",
       "      <th>4</th>\n",
       "      <td>fantasy, paranormal</td>\n",
       "      <td>8</td>\n",
       "      <td>Harry Potter Boxed Set  Books 1-5 (Harry Potte...</td>\n",
       "      <td>J.K. Rowling/Mary GrandPré</td>\n",
       "      <td>4.78</td>\n",
       "      <td>439682584</td>\n",
       "      <td>9.78044E+12</td>\n",
       "      <td>eng</td>\n",
       "      <td>2690</td>\n",
       "      <td>41428</td>\n",
       "      <td>164</td>\n",
       "      <td>9/13/2004</td>\n",
       "      <td>Scholastic</td>\n",
       "    </tr>\n",
       "    <tr>\n",
       "      <th>...</th>\n",
       "      <td>...</td>\n",
       "      <td>...</td>\n",
       "      <td>...</td>\n",
       "      <td>...</td>\n",
       "      <td>...</td>\n",
       "      <td>...</td>\n",
       "      <td>...</td>\n",
       "      <td>...</td>\n",
       "      <td>...</td>\n",
       "      <td>...</td>\n",
       "      <td>...</td>\n",
       "      <td>...</td>\n",
       "      <td>...</td>\n",
       "    </tr>\n",
       "    <tr>\n",
       "      <th>9259</th>\n",
       "      <td>non-fiction</td>\n",
       "      <td>45631</td>\n",
       "      <td>Expelled from Eden: A William T. Vollmann Reader</td>\n",
       "      <td>William T. Vollmann/Larry McCaffery/Michael He...</td>\n",
       "      <td>4.06</td>\n",
       "      <td>1560254416</td>\n",
       "      <td>9.78156E+12</td>\n",
       "      <td>eng</td>\n",
       "      <td>512</td>\n",
       "      <td>156</td>\n",
       "      <td>20</td>\n",
       "      <td>12/21/2004</td>\n",
       "      <td>Da Capo Press</td>\n",
       "    </tr>\n",
       "    <tr>\n",
       "      <th>9260</th>\n",
       "      <td>fiction</td>\n",
       "      <td>45633</td>\n",
       "      <td>You Bright and Risen Angels</td>\n",
       "      <td>William T. Vollmann</td>\n",
       "      <td>4.08</td>\n",
       "      <td>140110879</td>\n",
       "      <td>9.78014E+12</td>\n",
       "      <td>eng</td>\n",
       "      <td>635</td>\n",
       "      <td>783</td>\n",
       "      <td>56</td>\n",
       "      <td>12/1/1988</td>\n",
       "      <td>Penguin Books</td>\n",
       "    </tr>\n",
       "    <tr>\n",
       "      <th>9261</th>\n",
       "      <td>fiction</td>\n",
       "      <td>45634</td>\n",
       "      <td>The Ice-Shirt (Seven Dreams #1)</td>\n",
       "      <td>William T. Vollmann</td>\n",
       "      <td>3.96</td>\n",
       "      <td>140131965</td>\n",
       "      <td>9.78014E+12</td>\n",
       "      <td>eng</td>\n",
       "      <td>415</td>\n",
       "      <td>820</td>\n",
       "      <td>95</td>\n",
       "      <td>8/1/1993</td>\n",
       "      <td>Penguin Books</td>\n",
       "    </tr>\n",
       "    <tr>\n",
       "      <th>9262</th>\n",
       "      <td>non-fiction</td>\n",
       "      <td>45639</td>\n",
       "      <td>Poor People</td>\n",
       "      <td>William T. Vollmann</td>\n",
       "      <td>3.72</td>\n",
       "      <td>60878827</td>\n",
       "      <td>9.78006E+12</td>\n",
       "      <td>eng</td>\n",
       "      <td>434</td>\n",
       "      <td>769</td>\n",
       "      <td>139</td>\n",
       "      <td>2/27/2007</td>\n",
       "      <td>Ecco</td>\n",
       "    </tr>\n",
       "    <tr>\n",
       "      <th>9263</th>\n",
       "      <td>fiction</td>\n",
       "      <td>45641</td>\n",
       "      <td>Las aventuras de Tom Sawyer</td>\n",
       "      <td>Mark Twain</td>\n",
       "      <td>3.91</td>\n",
       "      <td>8497646983</td>\n",
       "      <td>9.7885E+12</td>\n",
       "      <td>spa</td>\n",
       "      <td>272</td>\n",
       "      <td>113</td>\n",
       "      <td>12</td>\n",
       "      <td>5/28/2006</td>\n",
       "      <td>Edimat Libros</td>\n",
       "    </tr>\n",
       "  </tbody>\n",
       "</table>\n",
       "<p>9264 rows × 13 columns</p>\n",
       "</div>"
      ],
      "text/plain": [
       "                   genres  bookID  \\\n",
       "0     fantasy, paranormal       1   \n",
       "1     fantasy, paranormal       2   \n",
       "2     fantasy, paranormal       4   \n",
       "3                 fiction       5   \n",
       "4     fantasy, paranormal       8   \n",
       "...                   ...     ...   \n",
       "9259          non-fiction   45631   \n",
       "9260              fiction   45633   \n",
       "9261              fiction   45634   \n",
       "9262          non-fiction   45639   \n",
       "9263              fiction   45641   \n",
       "\n",
       "                                                  title  \\\n",
       "0     Harry Potter and the Half-Blood Prince (Harry ...   \n",
       "1     Harry Potter and the Order of the Phoenix (Har...   \n",
       "2     Harry Potter and the Chamber of Secrets (Harry...   \n",
       "3     Harry Potter and the Prisoner of Azkaban (Harr...   \n",
       "4     Harry Potter Boxed Set  Books 1-5 (Harry Potte...   \n",
       "...                                                 ...   \n",
       "9259   Expelled from Eden: A William T. Vollmann Reader   \n",
       "9260                        You Bright and Risen Angels   \n",
       "9261                    The Ice-Shirt (Seven Dreams #1)   \n",
       "9262                                        Poor People   \n",
       "9263                        Las aventuras de Tom Sawyer   \n",
       "\n",
       "                                                authors average_rating  \\\n",
       "0                            J.K. Rowling/Mary GrandPré           4.57   \n",
       "1                            J.K. Rowling/Mary GrandPré           4.49   \n",
       "2                                          J.K. Rowling           4.42   \n",
       "3                            J.K. Rowling/Mary GrandPré           4.56   \n",
       "4                            J.K. Rowling/Mary GrandPré           4.78   \n",
       "...                                                 ...            ...   \n",
       "9259  William T. Vollmann/Larry McCaffery/Michael He...           4.06   \n",
       "9260                                William T. Vollmann           4.08   \n",
       "9261                                William T. Vollmann           3.96   \n",
       "9262                                William T. Vollmann           3.72   \n",
       "9263                                         Mark Twain           3.91   \n",
       "\n",
       "            isbn       isbn13 language_code   num_pages  ratings_count  \\\n",
       "0      439785960  9.78044E+12           eng         652        2095690   \n",
       "1      439358078  9.78044E+12           eng         870        2153167   \n",
       "2      439554896  9.78044E+12           eng         352           6333   \n",
       "3     043965548X  9.78044E+12           eng         435        2339585   \n",
       "4      439682584  9.78044E+12           eng        2690          41428   \n",
       "...          ...          ...           ...         ...            ...   \n",
       "9259  1560254416  9.78156E+12           eng         512            156   \n",
       "9260   140110879  9.78014E+12           eng         635            783   \n",
       "9261   140131965  9.78014E+12           eng         415            820   \n",
       "9262    60878827  9.78006E+12           eng         434            769   \n",
       "9263  8497646983   9.7885E+12           spa         272            113   \n",
       "\n",
       "      text_reviews_count publication_date        publisher  \n",
       "0                  27591        9/16/2006  Scholastic Inc.  \n",
       "1                  29221         9/1/2004  Scholastic Inc.  \n",
       "2                    244        11/1/2003       Scholastic  \n",
       "3                  36325         5/1/2004  Scholastic Inc.  \n",
       "4                    164        9/13/2004       Scholastic  \n",
       "...                  ...              ...              ...  \n",
       "9259                  20       12/21/2004    Da Capo Press  \n",
       "9260                  56        12/1/1988    Penguin Books  \n",
       "9261                  95         8/1/1993    Penguin Books  \n",
       "9262                 139        2/27/2007             Ecco  \n",
       "9263                  12        5/28/2006    Edimat Libros  \n",
       "\n",
       "[9264 rows x 13 columns]"
      ]
     },
     "execution_count": 183,
     "metadata": {},
     "output_type": "execute_result"
    }
   ],
   "source": [
    "merged"
   ]
  },
  {
   "cell_type": "markdown",
   "metadata": {},
   "source": [
    "# Data Analysis & Results"
   ]
  },
  {
   "cell_type": "markdown",
   "metadata": {},
   "source": [
    "## Data Exploration"
   ]
  },
  {
   "cell_type": "markdown",
   "metadata": {},
   "source": [
    "Beginning our analysis, we decide to take a look at the genres first. Since the 'young-adult' category is very small, in order to avoid any outliers, we will merge this category into the fiction category. "
   ]
  },
  {
   "cell_type": "code",
   "execution_count": 184,
   "metadata": {},
   "outputs": [
    {
     "data": {
      "text/plain": [
       "array(['fantasy, paranormal', 'fiction',\n",
       "       'history, historical fiction, biography', 'non-fiction',\n",
       "       'children', 'comics, graphic', 'mystery, thriller, crime',\n",
       "       'poetry', 'romance', 'young-adult'], dtype=object)"
      ]
     },
     "execution_count": 184,
     "metadata": {},
     "output_type": "execute_result"
    }
   ],
   "source": [
    "# Looks at the unique genres in the dataset\n",
    "merged['genres'].unique()"
   ]
  },
  {
   "cell_type": "code",
   "execution_count": 185,
   "metadata": {},
   "outputs": [
    {
     "data": {
      "text/plain": [
       "fiction                                   3242\n",
       "non-fiction                               1882\n",
       "history, historical fiction, biography     869\n",
       "fantasy, paranormal                        845\n",
       "mystery, thriller, crime                   824\n",
       "children                                   527\n",
       "comics, graphic                            381\n",
       "romance                                    299\n",
       "poetry                                     241\n",
       "young-adult                                154\n",
       "Name: genres, dtype: int64"
      ]
     },
     "execution_count": 185,
     "metadata": {},
     "output_type": "execute_result"
    }
   ],
   "source": [
    "# Get count of books for each genre\n",
    "merged['genres'].value_counts()"
   ]
  },
  {
   "cell_type": "code",
   "execution_count": 186,
   "metadata": {},
   "outputs": [],
   "source": [
    "# Replace 'young-adult' genre to fiction for simplicity\n",
    "merged['genres'] = merged['genres'].replace('young-adult', 'fiction')"
   ]
  },
  {
   "cell_type": "code",
   "execution_count": 187,
   "metadata": {},
   "outputs": [
    {
     "data": {
      "text/plain": [
       "fiction                                   3396\n",
       "non-fiction                               1882\n",
       "history, historical fiction, biography     869\n",
       "fantasy, paranormal                        845\n",
       "mystery, thriller, crime                   824\n",
       "children                                   527\n",
       "comics, graphic                            381\n",
       "romance                                    299\n",
       "poetry                                     241\n",
       "Name: genres, dtype: int64"
      ]
     },
     "execution_count": 187,
     "metadata": {},
     "output_type": "execute_result"
    }
   ],
   "source": [
    "# Get count of books for each genre\n",
    "merged['genres'].value_counts()"
   ]
  },
  {
   "cell_type": "markdown",
   "metadata": {},
   "source": [
    "For the purpose of our analysis, we want to be able to compare general genre success in addition to the specific ones. Therefore we will add another column to our data set, to compare overall fiction and non-fiction book success. To do this, we must first define what specific genre falls into which category, for example, history will go into non-fiction and comics will be fiction."
   ]
  },
  {
   "cell_type": "code",
   "execution_count": 188,
   "metadata": {},
   "outputs": [],
   "source": [
    "# Function for standardizing genres\n",
    "def standarize_genre(string):\n",
    "    if 'non-fiction' in string:\n",
    "        output = 'non-fiction'\n",
    "    elif 'fantasy' in string:\n",
    "        output = 'fiction'\n",
    "    elif 'mystery' in string:\n",
    "        output = 'fiction'\n",
    "    elif 'children' in string:\n",
    "        output = 'fiction'\n",
    "    elif 'comics' in string:\n",
    "        output = 'fiction'\n",
    "    elif 'romance' in string:\n",
    "        output = 'fiction'\n",
    "    elif 'fiction' in string:\n",
    "        output = 'fiction'\n",
    "    elif 'history' in string:\n",
    "        output = 'non-fiction'\n",
    "    else:\n",
    "        output = 'fiction'\n",
    "    return output"
   ]
  },
  {
   "cell_type": "code",
   "execution_count": 189,
   "metadata": {},
   "outputs": [],
   "source": [
    "# apply standardizing function\n",
    "merged['general genre'] = merged['genres'].apply(standarize_genre)"
   ]
  },
  {
   "cell_type": "code",
   "execution_count": 190,
   "metadata": {},
   "outputs": [
    {
     "data": {
      "text/html": [
       "<div>\n",
       "<style scoped>\n",
       "    .dataframe tbody tr th:only-of-type {\n",
       "        vertical-align: middle;\n",
       "    }\n",
       "\n",
       "    .dataframe tbody tr th {\n",
       "        vertical-align: top;\n",
       "    }\n",
       "\n",
       "    .dataframe thead th {\n",
       "        text-align: right;\n",
       "    }\n",
       "</style>\n",
       "<table border=\"1\" class=\"dataframe\">\n",
       "  <thead>\n",
       "    <tr style=\"text-align: right;\">\n",
       "      <th></th>\n",
       "      <th>genres</th>\n",
       "      <th>general genre</th>\n",
       "      <th>bookID</th>\n",
       "      <th>title</th>\n",
       "      <th>authors</th>\n",
       "      <th>average_rating</th>\n",
       "      <th>ratings_count</th>\n",
       "      <th>text_reviews_count</th>\n",
       "      <th>publisher</th>\n",
       "    </tr>\n",
       "  </thead>\n",
       "  <tbody>\n",
       "    <tr>\n",
       "      <th>0</th>\n",
       "      <td>fantasy, paranormal</td>\n",
       "      <td>fiction</td>\n",
       "      <td>1</td>\n",
       "      <td>Harry Potter and the Half-Blood Prince (Harry ...</td>\n",
       "      <td>J.K. Rowling/Mary GrandPré</td>\n",
       "      <td>4.57</td>\n",
       "      <td>2095690</td>\n",
       "      <td>27591</td>\n",
       "      <td>Scholastic Inc.</td>\n",
       "    </tr>\n",
       "    <tr>\n",
       "      <th>1</th>\n",
       "      <td>fantasy, paranormal</td>\n",
       "      <td>fiction</td>\n",
       "      <td>2</td>\n",
       "      <td>Harry Potter and the Order of the Phoenix (Har...</td>\n",
       "      <td>J.K. Rowling/Mary GrandPré</td>\n",
       "      <td>4.49</td>\n",
       "      <td>2153167</td>\n",
       "      <td>29221</td>\n",
       "      <td>Scholastic Inc.</td>\n",
       "    </tr>\n",
       "    <tr>\n",
       "      <th>2</th>\n",
       "      <td>fantasy, paranormal</td>\n",
       "      <td>fiction</td>\n",
       "      <td>4</td>\n",
       "      <td>Harry Potter and the Chamber of Secrets (Harry...</td>\n",
       "      <td>J.K. Rowling</td>\n",
       "      <td>4.42</td>\n",
       "      <td>6333</td>\n",
       "      <td>244</td>\n",
       "      <td>Scholastic</td>\n",
       "    </tr>\n",
       "    <tr>\n",
       "      <th>3</th>\n",
       "      <td>fiction</td>\n",
       "      <td>fiction</td>\n",
       "      <td>5</td>\n",
       "      <td>Harry Potter and the Prisoner of Azkaban (Harr...</td>\n",
       "      <td>J.K. Rowling/Mary GrandPré</td>\n",
       "      <td>4.56</td>\n",
       "      <td>2339585</td>\n",
       "      <td>36325</td>\n",
       "      <td>Scholastic Inc.</td>\n",
       "    </tr>\n",
       "    <tr>\n",
       "      <th>4</th>\n",
       "      <td>fantasy, paranormal</td>\n",
       "      <td>fiction</td>\n",
       "      <td>8</td>\n",
       "      <td>Harry Potter Boxed Set  Books 1-5 (Harry Potte...</td>\n",
       "      <td>J.K. Rowling/Mary GrandPré</td>\n",
       "      <td>4.78</td>\n",
       "      <td>41428</td>\n",
       "      <td>164</td>\n",
       "      <td>Scholastic</td>\n",
       "    </tr>\n",
       "    <tr>\n",
       "      <th>...</th>\n",
       "      <td>...</td>\n",
       "      <td>...</td>\n",
       "      <td>...</td>\n",
       "      <td>...</td>\n",
       "      <td>...</td>\n",
       "      <td>...</td>\n",
       "      <td>...</td>\n",
       "      <td>...</td>\n",
       "      <td>...</td>\n",
       "    </tr>\n",
       "    <tr>\n",
       "      <th>9259</th>\n",
       "      <td>non-fiction</td>\n",
       "      <td>non-fiction</td>\n",
       "      <td>45631</td>\n",
       "      <td>Expelled from Eden: A William T. Vollmann Reader</td>\n",
       "      <td>William T. Vollmann/Larry McCaffery/Michael He...</td>\n",
       "      <td>4.06</td>\n",
       "      <td>156</td>\n",
       "      <td>20</td>\n",
       "      <td>Da Capo Press</td>\n",
       "    </tr>\n",
       "    <tr>\n",
       "      <th>9260</th>\n",
       "      <td>fiction</td>\n",
       "      <td>fiction</td>\n",
       "      <td>45633</td>\n",
       "      <td>You Bright and Risen Angels</td>\n",
       "      <td>William T. Vollmann</td>\n",
       "      <td>4.08</td>\n",
       "      <td>783</td>\n",
       "      <td>56</td>\n",
       "      <td>Penguin Books</td>\n",
       "    </tr>\n",
       "    <tr>\n",
       "      <th>9261</th>\n",
       "      <td>fiction</td>\n",
       "      <td>fiction</td>\n",
       "      <td>45634</td>\n",
       "      <td>The Ice-Shirt (Seven Dreams #1)</td>\n",
       "      <td>William T. Vollmann</td>\n",
       "      <td>3.96</td>\n",
       "      <td>820</td>\n",
       "      <td>95</td>\n",
       "      <td>Penguin Books</td>\n",
       "    </tr>\n",
       "    <tr>\n",
       "      <th>9262</th>\n",
       "      <td>non-fiction</td>\n",
       "      <td>non-fiction</td>\n",
       "      <td>45639</td>\n",
       "      <td>Poor People</td>\n",
       "      <td>William T. Vollmann</td>\n",
       "      <td>3.72</td>\n",
       "      <td>769</td>\n",
       "      <td>139</td>\n",
       "      <td>Ecco</td>\n",
       "    </tr>\n",
       "    <tr>\n",
       "      <th>9263</th>\n",
       "      <td>fiction</td>\n",
       "      <td>fiction</td>\n",
       "      <td>45641</td>\n",
       "      <td>Las aventuras de Tom Sawyer</td>\n",
       "      <td>Mark Twain</td>\n",
       "      <td>3.91</td>\n",
       "      <td>113</td>\n",
       "      <td>12</td>\n",
       "      <td>Edimat Libros</td>\n",
       "    </tr>\n",
       "  </tbody>\n",
       "</table>\n",
       "<p>9264 rows × 9 columns</p>\n",
       "</div>"
      ],
      "text/plain": [
       "                   genres general genre  bookID  \\\n",
       "0     fantasy, paranormal       fiction       1   \n",
       "1     fantasy, paranormal       fiction       2   \n",
       "2     fantasy, paranormal       fiction       4   \n",
       "3                 fiction       fiction       5   \n",
       "4     fantasy, paranormal       fiction       8   \n",
       "...                   ...           ...     ...   \n",
       "9259          non-fiction   non-fiction   45631   \n",
       "9260              fiction       fiction   45633   \n",
       "9261              fiction       fiction   45634   \n",
       "9262          non-fiction   non-fiction   45639   \n",
       "9263              fiction       fiction   45641   \n",
       "\n",
       "                                                  title  \\\n",
       "0     Harry Potter and the Half-Blood Prince (Harry ...   \n",
       "1     Harry Potter and the Order of the Phoenix (Har...   \n",
       "2     Harry Potter and the Chamber of Secrets (Harry...   \n",
       "3     Harry Potter and the Prisoner of Azkaban (Harr...   \n",
       "4     Harry Potter Boxed Set  Books 1-5 (Harry Potte...   \n",
       "...                                                 ...   \n",
       "9259   Expelled from Eden: A William T. Vollmann Reader   \n",
       "9260                        You Bright and Risen Angels   \n",
       "9261                    The Ice-Shirt (Seven Dreams #1)   \n",
       "9262                                        Poor People   \n",
       "9263                        Las aventuras de Tom Sawyer   \n",
       "\n",
       "                                                authors average_rating  \\\n",
       "0                            J.K. Rowling/Mary GrandPré           4.57   \n",
       "1                            J.K. Rowling/Mary GrandPré           4.49   \n",
       "2                                          J.K. Rowling           4.42   \n",
       "3                            J.K. Rowling/Mary GrandPré           4.56   \n",
       "4                            J.K. Rowling/Mary GrandPré           4.78   \n",
       "...                                                 ...            ...   \n",
       "9259  William T. Vollmann/Larry McCaffery/Michael He...           4.06   \n",
       "9260                                William T. Vollmann           4.08   \n",
       "9261                                William T. Vollmann           3.96   \n",
       "9262                                William T. Vollmann           3.72   \n",
       "9263                                         Mark Twain           3.91   \n",
       "\n",
       "      ratings_count  text_reviews_count        publisher  \n",
       "0           2095690               27591  Scholastic Inc.  \n",
       "1           2153167               29221  Scholastic Inc.  \n",
       "2              6333                 244       Scholastic  \n",
       "3           2339585               36325  Scholastic Inc.  \n",
       "4             41428                 164       Scholastic  \n",
       "...             ...                 ...              ...  \n",
       "9259            156                  20    Da Capo Press  \n",
       "9260            783                  56    Penguin Books  \n",
       "9261            820                  95    Penguin Books  \n",
       "9262            769                 139             Ecco  \n",
       "9263            113                  12    Edimat Libros  \n",
       "\n",
       "[9264 rows x 9 columns]"
      ]
     },
     "execution_count": 190,
     "metadata": {},
     "output_type": "execute_result"
    }
   ],
   "source": [
    "# Create new DataFrame with only columns needed for analyzing\n",
    "mdf= merged[['genres','general genre','bookID','title','authors','average_rating','ratings_count','text_reviews_count','publisher']]\n",
    "mdf"
   ]
  },
  {
   "cell_type": "markdown",
   "metadata": {},
   "source": [
    "The next thing we are going to use in our analysis are the reviews. However, in order to get an accurate representation of the review, we need no less than 500 people to have reviewed the book. So we will remove any books that were reviewed by less than 500 people. "
   ]
  },
  {
   "cell_type": "code",
   "execution_count": 191,
   "metadata": {},
   "outputs": [],
   "source": [
    "# Filter DataFrame for data that has more than 500 reviews for each book\n",
    "mdf2 = mdf[mdf['text_reviews_count'] >= 500]"
   ]
  },
  {
   "cell_type": "code",
   "execution_count": 192,
   "metadata": {},
   "outputs": [],
   "source": [
    "# Reset index\n",
    "mdf2 = mdf2.reset_index(drop = True)"
   ]
  },
  {
   "cell_type": "code",
   "execution_count": 193,
   "metadata": {},
   "outputs": [
    {
     "data": {
      "text/html": [
       "<div>\n",
       "<style scoped>\n",
       "    .dataframe tbody tr th:only-of-type {\n",
       "        vertical-align: middle;\n",
       "    }\n",
       "\n",
       "    .dataframe tbody tr th {\n",
       "        vertical-align: top;\n",
       "    }\n",
       "\n",
       "    .dataframe thead th {\n",
       "        text-align: right;\n",
       "    }\n",
       "</style>\n",
       "<table border=\"1\" class=\"dataframe\">\n",
       "  <thead>\n",
       "    <tr style=\"text-align: right;\">\n",
       "      <th></th>\n",
       "      <th>genres</th>\n",
       "      <th>general genre</th>\n",
       "      <th>bookID</th>\n",
       "      <th>title</th>\n",
       "      <th>authors</th>\n",
       "      <th>average_rating</th>\n",
       "      <th>ratings_count</th>\n",
       "      <th>text_reviews_count</th>\n",
       "      <th>publisher</th>\n",
       "    </tr>\n",
       "  </thead>\n",
       "  <tbody>\n",
       "    <tr>\n",
       "      <th>0</th>\n",
       "      <td>fantasy, paranormal</td>\n",
       "      <td>fiction</td>\n",
       "      <td>1</td>\n",
       "      <td>Harry Potter and the Half-Blood Prince (Harry ...</td>\n",
       "      <td>J.K. Rowling/Mary GrandPré</td>\n",
       "      <td>4.57</td>\n",
       "      <td>2095690</td>\n",
       "      <td>27591</td>\n",
       "      <td>Scholastic Inc.</td>\n",
       "    </tr>\n",
       "    <tr>\n",
       "      <th>1</th>\n",
       "      <td>fantasy, paranormal</td>\n",
       "      <td>fiction</td>\n",
       "      <td>2</td>\n",
       "      <td>Harry Potter and the Order of the Phoenix (Har...</td>\n",
       "      <td>J.K. Rowling/Mary GrandPré</td>\n",
       "      <td>4.49</td>\n",
       "      <td>2153167</td>\n",
       "      <td>29221</td>\n",
       "      <td>Scholastic Inc.</td>\n",
       "    </tr>\n",
       "    <tr>\n",
       "      <th>2</th>\n",
       "      <td>fiction</td>\n",
       "      <td>fiction</td>\n",
       "      <td>5</td>\n",
       "      <td>Harry Potter and the Prisoner of Azkaban (Harr...</td>\n",
       "      <td>J.K. Rowling/Mary GrandPré</td>\n",
       "      <td>4.56</td>\n",
       "      <td>2339585</td>\n",
       "      <td>36325</td>\n",
       "      <td>Scholastic Inc.</td>\n",
       "    </tr>\n",
       "    <tr>\n",
       "      <th>3</th>\n",
       "      <td>fantasy, paranormal</td>\n",
       "      <td>fiction</td>\n",
       "      <td>10</td>\n",
       "      <td>Harry Potter Collection (Harry Potter  #1-6)</td>\n",
       "      <td>J.K. Rowling</td>\n",
       "      <td>4.73</td>\n",
       "      <td>28242</td>\n",
       "      <td>808</td>\n",
       "      <td>Scholastic</td>\n",
       "    </tr>\n",
       "    <tr>\n",
       "      <th>4</th>\n",
       "      <td>fiction</td>\n",
       "      <td>fiction</td>\n",
       "      <td>13</td>\n",
       "      <td>The Ultimate Hitchhiker's Guide to the Galaxy ...</td>\n",
       "      <td>Douglas Adams</td>\n",
       "      <td>4.38</td>\n",
       "      <td>249558</td>\n",
       "      <td>4080</td>\n",
       "      <td>Del Rey Books</td>\n",
       "    </tr>\n",
       "    <tr>\n",
       "      <th>...</th>\n",
       "      <td>...</td>\n",
       "      <td>...</td>\n",
       "      <td>...</td>\n",
       "      <td>...</td>\n",
       "      <td>...</td>\n",
       "      <td>...</td>\n",
       "      <td>...</td>\n",
       "      <td>...</td>\n",
       "      <td>...</td>\n",
       "    </tr>\n",
       "    <tr>\n",
       "      <th>1804</th>\n",
       "      <td>fiction</td>\n",
       "      <td>fiction</td>\n",
       "      <td>45252</td>\n",
       "      <td>Pandora's Star</td>\n",
       "      <td>Peter F. Hamilton</td>\n",
       "      <td>4.24</td>\n",
       "      <td>33987</td>\n",
       "      <td>1519</td>\n",
       "      <td>Del Rey</td>\n",
       "    </tr>\n",
       "    <tr>\n",
       "      <th>1805</th>\n",
       "      <td>fiction</td>\n",
       "      <td>fiction</td>\n",
       "      <td>45369</td>\n",
       "      <td>Arthur &amp; George</td>\n",
       "      <td>Julian Barnes</td>\n",
       "      <td>3.7</td>\n",
       "      <td>11626</td>\n",
       "      <td>1141</td>\n",
       "      <td>Vintage International</td>\n",
       "    </tr>\n",
       "    <tr>\n",
       "      <th>1806</th>\n",
       "      <td>fantasy, paranormal</td>\n",
       "      <td>fiction</td>\n",
       "      <td>45432</td>\n",
       "      <td>The Supernaturalist</td>\n",
       "      <td>Eoin Colfer</td>\n",
       "      <td>3.86</td>\n",
       "      <td>24863</td>\n",
       "      <td>1001</td>\n",
       "      <td>Disney-Hyperion</td>\n",
       "    </tr>\n",
       "    <tr>\n",
       "      <th>1807</th>\n",
       "      <td>fantasy, paranormal</td>\n",
       "      <td>fiction</td>\n",
       "      <td>45436</td>\n",
       "      <td>The Wish List</td>\n",
       "      <td>Eoin Colfer</td>\n",
       "      <td>3.77</td>\n",
       "      <td>13988</td>\n",
       "      <td>589</td>\n",
       "      <td>Scholastic Inc.</td>\n",
       "    </tr>\n",
       "    <tr>\n",
       "      <th>1808</th>\n",
       "      <td>history, historical fiction, biography</td>\n",
       "      <td>fiction</td>\n",
       "      <td>45546</td>\n",
       "      <td>Undaunted Courage: The Pioneering First Missio...</td>\n",
       "      <td>Stephen E. Ambrose</td>\n",
       "      <td>4.21</td>\n",
       "      <td>41236</td>\n",
       "      <td>1830</td>\n",
       "      <td>Simon &amp; Schuster</td>\n",
       "    </tr>\n",
       "  </tbody>\n",
       "</table>\n",
       "<p>1809 rows × 9 columns</p>\n",
       "</div>"
      ],
      "text/plain": [
       "                                      genres general genre  bookID  \\\n",
       "0                        fantasy, paranormal       fiction       1   \n",
       "1                        fantasy, paranormal       fiction       2   \n",
       "2                                    fiction       fiction       5   \n",
       "3                        fantasy, paranormal       fiction      10   \n",
       "4                                    fiction       fiction      13   \n",
       "...                                      ...           ...     ...   \n",
       "1804                                 fiction       fiction   45252   \n",
       "1805                                 fiction       fiction   45369   \n",
       "1806                     fantasy, paranormal       fiction   45432   \n",
       "1807                     fantasy, paranormal       fiction   45436   \n",
       "1808  history, historical fiction, biography       fiction   45546   \n",
       "\n",
       "                                                  title  \\\n",
       "0     Harry Potter and the Half-Blood Prince (Harry ...   \n",
       "1     Harry Potter and the Order of the Phoenix (Har...   \n",
       "2     Harry Potter and the Prisoner of Azkaban (Harr...   \n",
       "3          Harry Potter Collection (Harry Potter  #1-6)   \n",
       "4     The Ultimate Hitchhiker's Guide to the Galaxy ...   \n",
       "...                                                 ...   \n",
       "1804                                     Pandora's Star   \n",
       "1805                                    Arthur & George   \n",
       "1806                                The Supernaturalist   \n",
       "1807                                      The Wish List   \n",
       "1808  Undaunted Courage: The Pioneering First Missio...   \n",
       "\n",
       "                         authors average_rating  ratings_count  \\\n",
       "0     J.K. Rowling/Mary GrandPré           4.57        2095690   \n",
       "1     J.K. Rowling/Mary GrandPré           4.49        2153167   \n",
       "2     J.K. Rowling/Mary GrandPré           4.56        2339585   \n",
       "3                   J.K. Rowling           4.73          28242   \n",
       "4                  Douglas Adams           4.38         249558   \n",
       "...                          ...            ...            ...   \n",
       "1804           Peter F. Hamilton           4.24          33987   \n",
       "1805               Julian Barnes            3.7          11626   \n",
       "1806                 Eoin Colfer           3.86          24863   \n",
       "1807                 Eoin Colfer           3.77          13988   \n",
       "1808          Stephen E. Ambrose           4.21          41236   \n",
       "\n",
       "      text_reviews_count              publisher  \n",
       "0                  27591        Scholastic Inc.  \n",
       "1                  29221        Scholastic Inc.  \n",
       "2                  36325        Scholastic Inc.  \n",
       "3                    808             Scholastic  \n",
       "4                   4080          Del Rey Books  \n",
       "...                  ...                    ...  \n",
       "1804                1519                Del Rey  \n",
       "1805                1141  Vintage International  \n",
       "1806                1001        Disney-Hyperion  \n",
       "1807                 589        Scholastic Inc.  \n",
       "1808                1830       Simon & Schuster  \n",
       "\n",
       "[1809 rows x 9 columns]"
      ]
     },
     "execution_count": 193,
     "metadata": {},
     "output_type": "execute_result"
    }
   ],
   "source": [
    "mdf2"
   ]
  },
  {
   "cell_type": "code",
   "execution_count": 194,
   "metadata": {},
   "outputs": [
    {
     "data": {
      "text/plain": [
       "genres                object\n",
       "general genre         object\n",
       "bookID                 int64\n",
       "title                 object\n",
       "authors               object\n",
       "average_rating        object\n",
       "ratings_count          int64\n",
       "text_reviews_count     int64\n",
       "publisher             object\n",
       "dtype: object"
      ]
     },
     "execution_count": 194,
     "metadata": {},
     "output_type": "execute_result"
    }
   ],
   "source": [
    "# Checks the data type of each columns\n",
    "mdf2.dtypes"
   ]
  },
  {
   "cell_type": "code",
   "execution_count": 195,
   "metadata": {},
   "outputs": [],
   "source": [
    "# converts the 'average_rating' column's object type to float type\n",
    "mdf2['average_rating'] = pd.to_numeric(mdf2['average_rating'])"
   ]
  },
  {
   "cell_type": "markdown",
   "metadata": {},
   "source": [
    "## Visualization"
   ]
  },
  {
   "cell_type": "markdown",
   "metadata": {},
   "source": [
    "To begin our visual analysis, we want to first get an overall sense of the range of all the possible variables and how each is related to each other. "
   ]
  },
  {
   "cell_type": "code",
   "execution_count": 196,
   "metadata": {},
   "outputs": [
    {
     "data": {
      "image/png": "[encoded data removed]",
      "text/plain": [
       "<Figure size 432x288 with 16 Axes>"
      ]
     },
     "metadata": {
      "needs_background": "light"
     },
     "output_type": "display_data"
    }
   ],
   "source": [
    "# Create a scatter matrix of our dataset\n",
    "title = \"Scatter Matrix of the Good Reads Dataset\"\n",
    "fig = pd.plotting.scatter_matrix(mdf2)\n",
    "plt.suptitle(title)\n",
    "plt.show()"
   ]
  },
  {
   "cell_type": "markdown",
   "metadata": {},
   "source": [
    "Next we want to compare the general fiction vs. non-fiction genres. We can see based on the bar plot below that there is a significantly higher number of fiction best seller books sold in comparison to non-fiction. "
   ]
  },
  {
   "cell_type": "code",
   "execution_count": 197,
   "metadata": {},
   "outputs": [
    {
     "data": {
      "image/png": "[encoded data removed]",
      "text/plain": [
       "<Figure size 432x288 with 1 Axes>"
      ]
     },
     "metadata": {
      "needs_background": "light"
     },
     "output_type": "display_data"
    }
   ],
   "source": [
    "# Plot bar graph for counts of fiction vs non-fiction books\n",
    "title = \"General Fiction v.s. Non-Fiction\"\n",
    "mdf2['general genre'].value_counts().plot.bar(color='darkmagenta')\n",
    "plt.suptitle(title)\n",
    "plt.show()"
   ]
  },
  {
   "cell_type": "markdown",
   "metadata": {},
   "source": [
    "Looking at the bar plot generated below, we observe that even within specific genres, fiction books are still significantly higher in volume of best sellers. "
   ]
  },
  {
   "cell_type": "code",
   "execution_count": 198,
   "metadata": {},
   "outputs": [
    {
     "data": {
      "image/png": "[encoded data removed]",
      "text/plain": [
       "<Figure size 432x288 with 1 Axes>"
      ]
     },
     "metadata": {
      "needs_background": "light"
     },
     "output_type": "display_data"
    }
   ],
   "source": [
    "# Plot of books per genre\n",
    "title = \"Counts of Books Based on Genre\"\n",
    "mdf2['genres'].value_counts().plot.bar(color='darkmagenta')\n",
    "plt.suptitle(title)\n",
    "plt.show()"
   ]
  },
  {
   "cell_type": "markdown",
   "metadata": {},
   "source": [
    "The two histograms created below show the average ratings among the fiction and non-fiction best sellers. From this, we can note that there is a higher average scale for fiction (3.5-4.5) than for non-fiction (3.4-4.4). We can also note that the majority of fiction books rate at 4.0 wheras the average for non-fiction sits at 3.9. "
   ]
  },
  {
   "cell_type": "code",
   "execution_count": 199,
   "metadata": {},
   "outputs": [
    {
     "data": {
      "image/png": "[encoded data removed]",
      "text/plain": [
       "<Figure size 720x720 with 2 Axes>"
      ]
     },
     "metadata": {
      "needs_background": "light"
     },
     "output_type": "display_data"
    }
   ],
   "source": [
    "fig = plt.figure(figsize=(10,10))\n",
    "ax1 = fig.add_subplot(221)\n",
    "ax1.hist(mdf2[mdf2['general genre'] == 'fiction']['average_rating'],bins=10,color=\"deeppink\")\n",
    "ax1.title.set_text('Average Ratings for Fiction Books')\n",
    "ax2 = fig.add_subplot(222)\n",
    "ax2.hist(mdf2[mdf2['general genre'] == 'non-fiction']['average_rating'],bins=10,color='green')\n",
    "ax2.title.set_text('Average Ratings for Non-Fiction Books')"
   ]
  },
  {
   "cell_type": "markdown",
   "metadata": {},
   "source": [
    "The two histograms below depict the number of written reviews made on different genres, fiction vs. non-fiction. Based on the histograms, we can see that there are twice the amount of written reviews on fiction books than non-fiction books. "
   ]
  },
  {
   "cell_type": "code",
   "execution_count": 200,
   "metadata": {},
   "outputs": [
    {
     "data": {
      "image/png": "[encoded data removed]",
      "text/plain": [
       "<Figure size 720x720 with 2 Axes>"
      ]
     },
     "metadata": {
      "needs_background": "light"
     },
     "output_type": "display_data"
    }
   ],
   "source": [
    "fig = plt.figure(figsize=(10,10))\n",
    "ax1 = fig.add_subplot(221)\n",
    "ax1.hist(mdf2[mdf2['general genre'] == 'fiction']['text_reviews_count'],bins=10,color=\"deeppink\")\n",
    "ax1.title.set_text('Count of Written Reviews for Fiction Books')\n",
    "ax2 = fig.add_subplot(222)\n",
    "ax2.hist(mdf2[mdf2['general genre'] == 'non-fiction']['text_reviews_count'],bins=10,color='green')\n",
    "ax2.title.set_text('Count of Written Reviews for Non-Fiction Books')"
   ]
  },
  {
   "cell_type": "markdown",
   "metadata": {},
   "source": [
    "Here we see the number of people who simply rated the books, one histogram depicting the number of rating for fiction and the other for non-fiction. We can see based off of these histograms that the number of ratings for made for fiction books is five times the amount made for non-fiction books. "
   ]
  },
  {
   "cell_type": "code",
   "execution_count": 201,
   "metadata": {},
   "outputs": [
    {
     "data": {
      "image/png": "[encoded data removed]",
      "text/plain": [
       "<Figure size 720x720 with 2 Axes>"
      ]
     },
     "metadata": {
      "needs_background": "light"
     },
     "output_type": "display_data"
    }
   ],
   "source": [
    "fig = plt.figure(figsize=(10,10))\n",
    "ax1 = fig.add_subplot(221)\n",
    "ax1.hist(mdf2[mdf2['general genre'] == 'fiction']['ratings_count'],bins=10,color=\"deeppink\")\n",
    "ax1.title.set_text('Count of Ratings for Fiction Books')\n",
    "ax2 = fig.add_subplot(222)\n",
    "ax2.hist(mdf2[mdf2['general genre'] == 'non-fiction']['ratings_count'],bins=10,color='green')\n",
    "ax2.title.set_text('Count of Ratings for Non-Fiction Books')"
   ]
  },
  {
   "cell_type": "markdown",
   "metadata": {},
   "source": [
    "We analyzed the relationship between average rating and the number of ratings per book to see if books with higher ratings were bought and read more, as indicated by the rating count. Here we see that there is a slight correlation between average rating and the number of ratings, including those with written reviews. However, most of the books have a rating count below 20,000, even as the average rating increases, making it difficult to establish a strong linear relationship. There is a strong linear correlation between the number of overall ratings and the number of written reviews. One book had over 8,000 text reviews, making it an outlier."
   ]
  },
  {
   "cell_type": "code",
   "execution_count": 202,
   "metadata": {},
   "outputs": [
    {
     "data": {
      "text/plain": [
       "Text(0.5, 1.0, \"Scatterplot of 'text_reviews_count' and 'ratings_count'\")"
      ]
     },
     "execution_count": 202,
     "metadata": {},
     "output_type": "execute_result"
    },
    {
     "data": {
      "image/png": "[encoded data removed]",
      "text/plain": [
       "<Figure size 432x288 with 1 Axes>"
      ]
     },
     "metadata": {
      "needs_background": "light"
     },
     "output_type": "display_data"
    }
   ],
   "source": [
    "sns.regplot(data=mdf2, x = 'text_reviews_count', y='ratings_count',color='darkmagenta')\n",
    "ax = plt.gca()\n",
    "ax.set_title(\"Scatterplot of 'text_reviews_count' and 'ratings_count'\",pad=20)"
   ]
  },
  {
   "cell_type": "markdown",
   "metadata": {},
   "source": [
    "## Analysis"
   ]
  },
  {
   "cell_type": "markdown",
   "metadata": {},
   "source": [
    "### Test on title based on rating"
   ]
  },
  {
   "cell_type": "markdown",
   "metadata": {},
   "source": [
    "Repeating the process above, we are going to run an SVM to predict whether if key words in the title of the book correlate with how high the book gets rated.  "
   ]
  },
  {
   "cell_type": "code",
   "execution_count": 203,
   "metadata": {},
   "outputs": [],
   "source": [
    "# Function for standardizing ratings\n",
    "# 0 is low rating, 1 is good rating\n",
    "def standarize_rating(value):\n",
    "    if value < 4:\n",
    "        output = 0\n",
    "    elif value >= 4:\n",
    "        output = 1\n",
    "    return output"
   ]
  },
  {
   "cell_type": "code",
   "execution_count": 204,
   "metadata": {},
   "outputs": [
    {
     "name": "stderr",
     "output_type": "stream",
     "text": [
      "[nltk_data] Downloading package punkt to\n",
      "[nltk_data]     C:\\Users\\Xuyen\\AppData\\Roaming\\nltk_data...\n",
      "[nltk_data]   Package punkt is already up-to-date!\n",
      "[nltk_data] Downloading package stopwords to\n",
      "[nltk_data]     C:\\Users\\Xuyen\\AppData\\Roaming\\nltk_data...\n",
      "[nltk_data]   Package stopwords is already up-to-date!\n"
     ]
    },
    {
     "data": {
      "text/plain": [
       "True"
      ]
     },
     "execution_count": 204,
     "metadata": {},
     "output_type": "execute_result"
    }
   ],
   "source": [
    "# Download the NLTK English tokenizer and the stopwords of all languages\n",
    "nltk.download('punkt')\n",
    "nltk.download('stopwords')"
   ]
  },
  {
   "cell_type": "markdown",
   "metadata": {},
   "source": [
    "To begin our prediction model, we have to create an object that transforms the text data into vectors with numerical values and then use this object to transform our data set into vectors"
   ]
  },
  {
   "cell_type": "code",
   "execution_count": 205,
   "metadata": {},
   "outputs": [],
   "source": [
    "vectorizer = CountVectorizer(analyzer= 'word',max_features= 2000,tokenizer= word_tokenize,stop_words=stopwords.words('english'))"
   ]
  },
  {
   "cell_type": "code",
   "execution_count": 206,
   "metadata": {},
   "outputs": [],
   "source": [
    "mdf2['standard_rating'] = mdf2['average_rating'].apply(standarize_rating)"
   ]
  },
  {
   "cell_type": "markdown",
   "metadata": {},
   "source": [
    "Now we will define the train and test sets and then define the function that initializes an SVM classifier and trains it. \n"
   ]
  },
  {
   "cell_type": "code",
   "execution_count": 207,
   "metadata": {},
   "outputs": [
    {
     "name": "stderr",
     "output_type": "stream",
     "text": [
      "C:\\Users\\Xuyen\\anaconda3\\lib\\site-packages\\sklearn\\feature_extraction\\text.py:383: UserWarning: Your stop_words may be inconsistent with your preprocessing. Tokenizing the stop words generated tokens [\"'d\", \"'ll\", \"'re\", \"'s\", \"'ve\", 'could', 'might', 'must', \"n't\", 'need', 'sha', 'wo', 'would'] not in stop_words.\n",
      "  warnings.warn('Your stop_words may be inconsistent with '\n"
     ]
    }
   ],
   "source": [
    "MR_X_2 = vectorizer.fit_transform(mdf2[\"title\"]).toarray()"
   ]
  },
  {
   "cell_type": "code",
   "execution_count": 208,
   "metadata": {},
   "outputs": [],
   "source": [
    "MR_Y_2 =  np.array(mdf2['standard_rating'])"
   ]
  },
  {
   "cell_type": "code",
   "execution_count": 209,
   "metadata": {},
   "outputs": [],
   "source": [
    "# Function for training inputs to SVM\n",
    "def train_SVM(X, y, kernel='linear'):\n",
    "    clf = SVC(kernel=kernel)\n",
    "    clf.fit(X, y)\n",
    "    return clf"
   ]
  },
  {
   "cell_type": "code",
   "execution_count": 210,
   "metadata": {},
   "outputs": [],
   "source": [
    "MR_train_X2,MR_test_X2,MR_train_Y2,MR_test_Y2 = train_test_split(MR_X_2,MR_Y_2,test_size=0.2,random_state=200)"
   ]
  },
  {
   "cell_type": "markdown",
   "metadata": {},
   "source": [
    "Now we will train our SVM with the default linear kernel and then use it to predict our train and test samples\n"
   ]
  },
  {
   "cell_type": "code",
   "execution_count": 211,
   "metadata": {},
   "outputs": [],
   "source": [
    "MR_clf2 = train_SVM(MR_train_X2,MR_train_Y2)"
   ]
  },
  {
   "cell_type": "code",
   "execution_count": 212,
   "metadata": {},
   "outputs": [],
   "source": [
    "MR_predicted_train_Y2 = MR_clf2.predict(MR_train_X2)\n",
    "MR_predicted_test_Y2 = MR_clf2.predict(MR_test_X2)"
   ]
  },
  {
   "cell_type": "markdown",
   "metadata": {},
   "source": [
    "Lastly, we will print out the performance of the classifier on the training set and then on the test set. Taking a look at our prediction models below, we see that the classifier performed on the training set sits at a high 94% accuracy, whereas the the classifier performed on the test set sits significantly lower at 61% accuracy. This is not surprsing, as the training set is used to fine-tune the model hyperparameters, where as the test set is using the model that is fully trained and better curated, giving us a more accurate prediction to evauluate the model. With that being said, while 61% accuracy is not enough to say that the title is a complete indicator of whether a book will do well in the market, it is still high enough to confidently say that there is a correlation between book titles and how high their rating are. This is due to that fact that 61% is higher than chance, which is 50%, which would indicate that there was no meaningful correlation. "
   ]
  },
  {
   "cell_type": "code",
   "execution_count": 213,
   "metadata": {},
   "outputs": [
    {
     "name": "stdout",
     "output_type": "stream",
     "text": [
      "              precision    recall  f1-score   support\n",
      "\n",
      "           0       0.89      0.98      0.94       777\n",
      "           1       0.98      0.86      0.92       670\n",
      "\n",
      "    accuracy                           0.93      1447\n",
      "   macro avg       0.94      0.92      0.93      1447\n",
      "weighted avg       0.93      0.93      0.93      1447\n",
      "\n"
     ]
    }
   ],
   "source": [
    "print(classification_report(MR_train_Y2,MR_predicted_train_Y2))"
   ]
  },
  {
   "cell_type": "code",
   "execution_count": 214,
   "metadata": {},
   "outputs": [
    {
     "name": "stdout",
     "output_type": "stream",
     "text": [
      "              precision    recall  f1-score   support\n",
      "\n",
      "           0       0.63      0.72      0.67       199\n",
      "           1       0.59      0.48      0.53       163\n",
      "\n",
      "    accuracy                           0.61       362\n",
      "   macro avg       0.61      0.60      0.60       362\n",
      "weighted avg       0.61      0.61      0.61       362\n",
      "\n"
     ]
    }
   ],
   "source": [
    "print(classification_report(MR_test_Y2,MR_predicted_test_Y2))"
   ]
  },
  {
   "cell_type": "markdown",
   "metadata": {},
   "source": [
    "Taking in the highest ten weights and the lowest ten weights of the SVM and then printing out the word features correlating to those weights, we can see exactly the author names that have a correlation with high or low ratings. "
   ]
  },
  {
   "cell_type": "code",
   "execution_count": 215,
   "metadata": {},
   "outputs": [
    {
     "name": "stdout",
     "output_type": "stream",
     "text": [
      "Top 10 Words in Titles That Indicate High Rating: \n",
      "persuasion\n",
      "rescue\n",
      "castle\n",
      "john\n",
      "nine\n",
      "babylon\n",
      "crow\n",
      "walk\n",
      "country\n",
      "peter\n",
      "\n",
      "Top 10 Words in Titles That Indicate Low Rating: \n",
      "affair\n",
      "thinking\n",
      "girls\n",
      "meet\n",
      "chronicles\n",
      "austen\n",
      "beauty\n",
      "15\n",
      "winter\n",
      "bond\n"
     ]
    }
   ],
   "source": [
    "OneDCoef2 = MR_clf2.coef_.flatten()\n",
    "TopTenWordsForHighRatings = OneDCoef2.argsort()[-10:][::-1]\n",
    "TopTenWordsForHighRatings\n",
    "print(\"Top 10 Words in Titles That Indicate High Rating: \")\n",
    "for i in range(0,10):\n",
    "    print(vectorizer.get_feature_names()[TopTenWordsForHighRatings[i]])\n",
    "TopTenWordsForLowRatings = (-OneDCoef2).argsort()[-10:][::-1]\n",
    "print(\"\\nTop 10 Words in Titles That Indicate Low Rating: \")\n",
    "for i in range(0,10):\n",
    "    print(vectorizer.get_feature_names()[TopTenWordsForLowRatings[i]])"
   ]
  },
  {
   "cell_type": "markdown",
   "metadata": {},
   "source": [
    "### Test on author based on rating"
   ]
  },
  {
   "cell_type": "markdown",
   "metadata": {},
   "source": [
    "The last SVM that we wanted to run was to see if there was a correlation between the authors themselves and how high the book is rated. "
   ]
  },
  {
   "cell_type": "code",
   "execution_count": 216,
   "metadata": {},
   "outputs": [],
   "source": [
    "MR_X_3 = vectorizer.fit_transform(mdf2[\"authors\"]).toarray()"
   ]
  },
  {
   "cell_type": "code",
   "execution_count": 217,
   "metadata": {},
   "outputs": [],
   "source": [
    "MR_Y_3 =  np.array(mdf2['standard_rating'])"
   ]
  },
  {
   "cell_type": "code",
   "execution_count": 218,
   "metadata": {},
   "outputs": [],
   "source": [
    "MR_train_X3,MR_test_X3,MR_train_Y3,MR_test_Y3 = train_test_split(MR_X_3,MR_Y_3,test_size=0.2,random_state=200)"
   ]
  },
  {
   "cell_type": "code",
   "execution_count": 219,
   "metadata": {},
   "outputs": [],
   "source": [
    "MR_clf3 = train_SVM(MR_train_X3,MR_train_Y3)"
   ]
  },
  {
   "cell_type": "code",
   "execution_count": 220,
   "metadata": {},
   "outputs": [],
   "source": [
    "MR_predicted_train_Y3 = MR_clf3.predict(MR_train_X3)\n",
    "MR_predicted_test_Y3 = MR_clf3.predict(MR_test_X3)"
   ]
  },
  {
   "cell_type": "markdown",
   "metadata": {},
   "source": [
    "Similiar to the previous classification reports, we see that that there is a 91% accuracy on the training set and a 64% accuracy on the test set. Again, there is a larger discrepency between the training set and the test set, but as explained before, this is not uncommon. Again, while 64% accuracy is not enough to say that the author's name is a complete indicator of whether a book will do well in the market, it does tell us that there is a correlation between the author's name and a high rating, which could result in the assumption that well known authors have higher ratings on their books due in large part to noteriety of their name.  "
   ]
  },
  {
   "cell_type": "code",
   "execution_count": 221,
   "metadata": {},
   "outputs": [
    {
     "name": "stdout",
     "output_type": "stream",
     "text": [
      "              precision    recall  f1-score   support\n",
      "\n",
      "           0       0.90      0.93      0.92       777\n",
      "           1       0.92      0.88      0.90       670\n",
      "\n",
      "    accuracy                           0.91      1447\n",
      "   macro avg       0.91      0.91      0.91      1447\n",
      "weighted avg       0.91      0.91      0.91      1447\n",
      "\n"
     ]
    }
   ],
   "source": [
    "print(classification_report(MR_train_Y3,MR_predicted_train_Y3))"
   ]
  },
  {
   "cell_type": "code",
   "execution_count": 222,
   "metadata": {},
   "outputs": [
    {
     "name": "stdout",
     "output_type": "stream",
     "text": [
      "              precision    recall  f1-score   support\n",
      "\n",
      "           0       0.67      0.71      0.69       199\n",
      "           1       0.62      0.56      0.59       163\n",
      "\n",
      "    accuracy                           0.65       362\n",
      "   macro avg       0.64      0.64      0.64       362\n",
      "weighted avg       0.64      0.65      0.64       362\n",
      "\n"
     ]
    }
   ],
   "source": [
    "print(classification_report(MR_test_Y3,MR_predicted_test_Y3))"
   ]
  },
  {
   "cell_type": "markdown",
   "metadata": {},
   "source": [
    "Taking in the highest ten weights and the lowest ten weights of the SVM and then printing out the word features correlating to those weights, we can see exactly the author names that have a correlation with high or low ratings. "
   ]
  },
  {
   "cell_type": "code",
   "execution_count": 223,
   "metadata": {},
   "outputs": [
    {
     "name": "stdout",
     "output_type": "stream",
     "text": [
      "Top 10 Author Names That Indicate High Rating: \n",
      "sandford\n",
      "hawking\n",
      "hobb\n",
      "kelley\n",
      "patterson\n",
      "hamilton\n",
      "brian\n",
      "darren\n",
      "pat\n",
      "mccaffrey\n",
      "\n",
      "Top 10 Author Names in Titles That Indicate Low Rating: \n",
      "winchester\n",
      "atwood\n",
      "levithan\n",
      "matheson\n",
      "crichton\n",
      "harris\n",
      "sinclair\n",
      "roth\n",
      "bryson\n",
      "mccall\n"
     ]
    }
   ],
   "source": [
    "OneDCoef3 = MR_clf3.coef_.flatten()\n",
    "TopTenAuthorNamesForHighRatings = OneDCoef3.argsort()[-10:][::-1]\n",
    "TopTenAuthorNamesForHighRatings\n",
    "print(\"Top 10 Author Names That Indicate High Rating: \")\n",
    "for i in range(0,10):\n",
    "    print(vectorizer.get_feature_names()[TopTenAuthorNamesForHighRatings[i]])\n",
    "TopTenAuthorNamesForLowRatings = (-OneDCoef3).argsort()[-10:][::-1]\n",
    "print(\"\\nTop 10 Author Names in Titles That Indicate Low Rating: \")\n",
    "for i in range(0,10):\n",
    "    print(vectorizer.get_feature_names()[TopTenAuthorNamesForLowRatings[i]])"
   ]
  },
  {
   "cell_type": "markdown",
   "metadata": {},
   "source": [
    "### Test on Genre based on rating"
   ]
  },
  {
   "cell_type": "code",
   "execution_count": 224,
   "metadata": {},
   "outputs": [],
   "source": [
    "# Function for standardizing genre\n",
    "# 0 is non-fiction, 1 is fiction\n",
    "def standarize_fiction(string):\n",
    "    if 'non-fiction' in string:\n",
    "        output = 0\n",
    "    elif 'fiction' in string:\n",
    "        output = 1\n",
    "    else:\n",
    "        output = np.nan\n",
    "    return output"
   ]
  },
  {
   "cell_type": "code",
   "execution_count": 225,
   "metadata": {},
   "outputs": [],
   "source": [
    "# Standardize genre\n",
    "mdf2['fiction_genre'] = mdf2['general genre'].apply(standarize_fiction)"
   ]
  },
  {
   "cell_type": "code",
   "execution_count": 226,
   "metadata": {},
   "outputs": [
    {
     "name": "stdout",
     "output_type": "stream",
     "text": [
      "Regression Score [ 0.0026833256467234667 ]\n",
      "Model Weights [ [[-0.07268008]] ]\n"
     ]
    }
   ],
   "source": [
    "from sklearn.linear_model import LinearRegression\n",
    "rX = np.array(mdf2['fiction_genre']).reshape(-1,1)\n",
    "ry = np.array(mdf2['standard_rating']).reshape(-1,1)\n",
    "reg = LinearRegression().fit(rX, ry)\n",
    "print(\"Regression Score [\",reg.score(rX, ry),\"]\")\n",
    "print(\"Model Weights [\",reg.coef_,\"]\")"
   ]
  },
  {
   "cell_type": "markdown",
   "metadata": {},
   "source": [
    "This linear regression model that takes as input whether a book is fiction or non-fiction and outputs whether a book is a high-rated book or not has a score of less than 0.003. Considering that a score of 0 correlates to a linear regression model that only guesses the expected value of y, this would mean that there's really no significant correlation between a book's genre and it's book rating. "
   ]
  },
  {
   "cell_type": "markdown",
   "metadata": {},
   "source": [
    "# Ethics & Privacy"
   ]
  },
  {
   "cell_type": "markdown",
   "metadata": {},
   "source": [
    "I don’t believe that there are any term of use issues with the data we propose. It’s possible that some websites may not allow for web scraping under their Terms of Use agreement, but in that case, we simply won’t scrape that website and use another. There are possible biases in the dataset since when we scrape websites we’re compiling information and ratings from people who made online reviews, so the data we’re sampling will most likely exclude people who don’t have access to internet or electronic devices. It’s also possible that some books that are best selling may not be profiled on all websites. To challenge this bias, we could try to find datasets that already incorporate non-internet sources such as a list of best-selling books that wasn’t the result of web scraping. I don’t believe that there are any data privacy issues that could arise since the only possible privacy issue is that we may accidentally scrape usernames when we scrape websites, but we’ll simply take caution as to not do that by accident and in the case that we need to, we’d just sanitize the data before use as to further anonymize the data."
   ]
  },
  {
   "cell_type": "markdown",
   "metadata": {},
   "source": [
    "# Conclusion & Discussion"
   ]
  },
  {
   "cell_type": "markdown",
   "metadata": {},
   "source": [
    "Despite the boom in technology, reading books is still one of the most common pastimes in today’s culture. Throughout this project, we took a look at the common aspects that make up a book, specifically, genre, title, and author, and analyzed which of these makes for a successful book. \n",
    "\n",
    "\n",
    "As hypothesized, we were able to discern that a book's title and the author does have an effect on whether a book will have high ratings or not. This makes sense since being a well known author, or one that puts out a high volume of books is key to becoming a bestselling book. Additionally, having a good title, with specific keywords can also give a book a leg up in the competition for bestsellers. One example of this is Stephen Hawkings, since his books always have high ratings and as such, shows up second on the top 10 author names that indicate high ratings. With accuracy at 61% for title and 64% for author, the correlation between these two features and a book's ratings is high enough to make a difference. \n",
    "\n",
    "\n",
    "When training a linear regression model on a book's genre, however, the result was no better than random chance with a coefficient of determination R^2 of almost 0. Our hypothesis stated that there was a clear relationship between genre and high ratings, but now we can say certainly that a book's genre won't have a meaningful effect on it's success."
   ]
  },
  {
   "cell_type": "markdown",
   "metadata": {},
   "source": [
    "# Team Contributions"
   ]
  },
  {
   "cell_type": "markdown",
   "metadata": {},
   "source": [
    "Christine Nguyen\n",
    "- Pair programming with Hwang Min Yu to do the data cleaning, exploring data analysis, and analysis\n",
    "- Contributed to proposing the framework of the project (write-up for the proposal submission)\n",
    "- Wrote the ethics and privacy portion for the project\n",
    "- Co-wrote conclusion for the project\n",
    "\n",
    "Adi Drapkin\n",
    "- Wrote the markdowns for the project with Gwendolyn Warner\n",
    "- Wrote the background and prior works with Gwendolyn Warner\n",
    "- Co-wrote the conclusion for the project\n",
    "- Helped set the meetings up for the group\n",
    "- Initiated the idea and research question for the project\n",
    "\n",
    "Gwendolyn Warner\n",
    "- Wrote the markdowns for the project with Adi Drapkin\n",
    "- Wrote the background and prior works with Adi Drapkin\n",
    "- Contributed in meetings with stimulating ideas for the projects\n",
    "\n",
    "Hwang Min Yu\n",
    "- Pair programming with Christine Nguyen to do the data cleaning, exploring data analysis, and analysis\n",
    "- Programmed the visualization section of the project\n",
    "- Cleaned and edited the overall aesthetic of the project"
   ]
  }
 ],
 "metadata": {
  "kernelspec": {
   "display_name": "Python 3",
   "language": "python",
   "name": "python3"
  },
  "language_info": {
   "codemirror_mode": {
    "name": "ipython",
    "version": 3
   },
   "file_extension": ".py",
   "mimetype": "text/x-python",
   "name": "python",
   "nbconvert_exporter": "python",
   "pygments_lexer": "ipython3",
   "version": "3.7.7"
  }
 },
 "nbformat": 4,
 "nbformat_minor": 2
}
