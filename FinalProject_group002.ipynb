{
 "cells": [
  {
   "cell_type": "markdown",
   "metadata": {
    "id": "_L_AkheZCWQ4"
   },
   "source": [
    "# Choose Your Major, Choose Your Paycheck"
   ]
  },
  {
   "cell_type": "markdown",
   "metadata": {
    "id": "tUrX9cN-pvfM"
   },
   "source": [
    "# Overview\n"
   ]
  },
  {
   "cell_type": "markdown",
   "metadata": {
    "id": "4FOR1XFNUwXo"
   },
   "source": [
    "This project explores which factor, among major, college quality, gender, and intership experience, is most influential to the starting salary of college graduates in the US. Data were collected and cleaned from online datasets, and analyzed using linear regression. The influence of each factor is represented by the R-squared of each regression model, as a larger R--squared indicates the ability to explain more variability in the starting salary outcome. The results show that major is the most influential factor among the four, although the influence of other factors cannot be ruled out due to limitations like the data for each factor come from separate datasets."
   ]
  },
  {
   "cell_type": "markdown",
   "metadata": {
    "id": "jJ-9ggvxd5xi"
   },
   "source": [
    "# Names"
   ]
  },
  {
   "cell_type": "markdown",
   "metadata": {
    "id": "qqSFn6CYCWQ7"
   },
   "source": [
    "\n",
    "- Moyu Lyu\n",
    "- Catherine Ma\n",
    "- Ka Lam Wong\n",
    "- Chen Yang\n",
    "- Zhe Mo"
   ]
  },
  {
   "cell_type": "markdown",
   "metadata": {
    "id": "d71Rvr9DCWQ9"
   },
   "source": [
    "<a id='research_question'></a>\n",
    "# Research Question"
   ]
  },
  {
   "cell_type": "markdown",
   "metadata": {
    "id": "rk5Ku5kxCWQ-"
   },
   "source": [
    "Which factor, among major, college quality, internship experience, and gender, is the most influential on the starting salary of college graduates in the United States?"
   ]
  },
  {
   "cell_type": "markdown",
   "metadata": {
    "id": "Ll_MpIxtUHyJ"
   },
   "source": [
    "## Background & Prior Work"
   ]
  },
  {
   "cell_type": "markdown",
   "metadata": {
    "id": "rRgcYRYTp2bD"
   },
   "source": [
    "As college students, we cannot avoid thinking about our next step. If we decide to apply for jobs after receiving our bachelor’s degree, an important point to consider is what would help us get a higher starting salary for our first job. Is our destiny determined at birth with our gender, or at the start of college by our choice of university and major? Or do we still have a grasp on our fate as factors like internship experience that are more influential to our starting salary? This project tries to answer these questions by looking into datasets of starting salaries for college graduates and to seek potential connections between the starting salary with the four factors mentioned above (gender, college quality, major, and internship experience).\n",
    "\n",
    "Previous works, old and new, have been done on similar topics, using various kinds of experiments and modeling. In 1993, Rumberger and Thomas utilized hierarchical linear modeling(HLM) and ordinary least-squares(OLS) regression to estimate the impact of college major, school quality, and educational performance on the earnings of college graduates. The study involved two types of data: the individual data from the 1987 RCG and school-level data from ASC for 1985-1986. The research results show that college major had an important impact on earnings for both men and women, college performance only influenced the earnings of women, and College quality essentially contributed to the different average earnings of all graduates except engineering. This research has limitations since it focused on the impact of qualitative factors on initial salaries without considering the later salaries. Thomas and Zhang continued further research to examine the impact of college quality and academic major on the wage growth of college graduates. They did data analysis on data from individual college graduates and data from the colleges conferring their degrees. The results show that college quality and academic major play roles in wage growth. These two researches indicate the essential effect of academic major and college quality on the graduates’ salary. \n",
    "\n",
    "However, more recent studies publish some conflicting findings. Nunley et al. designed an experiment to test the effect of majors and internship experiences on applying for business-related jobs. They sent out nearly ten thousand pieces of randomly generated résumé to companies and corporations, and gained a shocking result: how successful college graduates are in finding jobs does not seem to be related to their choice of major. There is no significant difference between a résumé from a business-unrelated major graduate and that from a business-related major graduate. The only factor that mattered seems to be whether they had industry-relevant internship experiences.\n",
    "\n",
    "While these papers provide insight for our group’s topic, the datasets involved in the studies are outdated, and they fail to report a consistent result. Therefore, there is more to be explored about this topic, and our proposal aims to solve this question using more up-to-date datasets and analytical tools.\n",
    "\n",
    "**References (include links):**\n",
    "  1. https://link.springer.com/article/10.1007%2Fs11162-005-2969-y\n",
    "  2. https://www.sciencedirect.com/science/article/pii/027277579390040N\n",
    "  3. https://www.sciencedirect.com/science/article/pii/S0927537115001207\n"
   ]
  },
  {
   "cell_type": "markdown",
   "metadata": {
    "id": "LoTomRNHUEHp"
   },
   "source": [
    "# Hypothesis"
   ]
  },
  {
   "cell_type": "markdown",
   "metadata": {
    "id": "0iULHYaBp7Q4"
   },
   "source": [
    "We predict that major will be the most influential among the four factors since the population of graduate students from certain majors like Engineering and Computer Science cannot satisfy the enormous industrial need, resulting in an imbalance between the number of graduates and availability of corresponding jobs. In order to attract high-ended graduates, the industry will offer a higher salary to graduates in those majors."
   ]
  },
  {
   "cell_type": "markdown",
   "metadata": {
    "id": "75V57-dwCWQ-"
   },
   "source": [
    "# Dataset(s)"
   ]
  },
  {
   "cell_type": "markdown",
   "metadata": {
    "id": "1uW7m99dCWQ_"
   },
   "source": [
    "Dataset Name: Where it Pays to Attend College\n",
    "- Link to the dataset: https://www.kaggle.com/wsj/college-salaries\n",
    "- Number of observations:We will use the degrees-that-pay-back.csv which has 50 observations and salaries-by-college-type.csv which has 269 observations.\n",
    "- Description:The data in degrees-that-pay-back.csv are collected by PayScale Inc, it includes undergraduate major, starting median salary, and other periodic salary during the career. Related article, \"Ivy Leaguers' Big Edge: Starting Pay\" by Sarah E. Needleman : https://www.wsj.com/articles/SB121746658635199271). \n",
    "\n",
    "\n",
    "\n",
    "Dataset Name: World University Rankings\n",
    "- Link to the dataset: https://www.kaggle.com/mylesoneill/world-university-rankings   \n",
    "- Number of observations:We will use timesData.csv which has 2603 obeservations\n",
    "- Description: The timesData.csv includes world ranks with relative scores for different universities and their information like country and num of students. \n",
    "\n",
    "\n",
    "\n",
    "Dataset Name: Campus Recruitment\n",
    "- Link to the dataset: https://www.kaggle.com/benroshan/factors-affecting-campus-placement\n",
    "- Number of observations:The are 215 oberservations in the dataset. \n",
    "- Description: This data set consists of Placement data of students in an anonymous campus. It includes secondary and higher secondary school percentage and specialization. It also includes gender, degree specialization, type and work experience and salary offers to the placed students.\n",
    "\n",
    "Additional Information: We will merge the timesData.csv from World University Rankings with the salaries-by-college-type.csv from Where it Pays to Attend College into a single dataset for analyzing the effect of college quality on starting salary. We will use the degrees-that-pay-back.csv from the first dataset to analyze the effect of major and Placement_Data_Full_Class.csv from the third dataset to analyze the effect of gender and internship experience.  "
   ]
  },
  {
   "cell_type": "markdown",
   "metadata": {
    "id": "K9sWWHrtCWQ_"
   },
   "source": [
    "# Setup"
   ]
  },
  {
   "cell_type": "code",
   "execution_count": 1,
   "metadata": {
    "colab": {
     "base_uri": "https://localhost:8080/"
    },
    "id": "Vi2GX6V9CWRA",
    "outputId": "86037c9b-a952-4ed2-ec3d-11f4bd396c9e"
   },
   "outputs": [
    {
     "name": "stderr",
     "output_type": "stream",
     "text": [
      "/usr/local/lib/python3.7/dist-packages/statsmodels/tools/_testing.py:19: FutureWarning: pandas.util.testing is deprecated. Use the functions in the public API at pandas.testing instead.\n",
      "  import pandas.util.testing as tm\n"
     ]
    }
   ],
   "source": [
    "import pandas as pd\n",
    "import numpy as np\n",
    "import matplotlib.pyplot as plt\n",
    "get_ipython().magic('matplotlib inline')\n",
    "import seaborn as sns\n",
    "from scipy import stats\n",
    "import patsy\n",
    "import statsmodels.api as sm\n",
    "import warnings\n",
    "warnings.filterwarnings('ignore')\n",
    "import re"
   ]
  },
  {
   "cell_type": "code",
   "execution_count": 2,
   "metadata": {
    "id": "a6z8iuILVF8w"
   },
   "outputs": [],
   "source": [
    "# read raw files\n",
    "major= pd.read_csv('degrees-that-pay-back.csv')\n",
    "\n",
    "college_type = pd.read_csv('salaries-by-college-type.csv')\n",
    "college_rank = pd.read_csv('timesData.csv')\n",
    "\n",
    "gender = pd.read_csv('Placement_Data_Full_Class.csv')"
   ]
  },
  {
   "cell_type": "markdown",
   "metadata": {
    "id": "HgAQmybykD_b"
   },
   "source": [
    "Look at the uncleaned dataframes. "
   ]
  },
  {
   "cell_type": "code",
   "execution_count": null,
   "metadata": {
    "colab": {
     "base_uri": "https://localhost:8080/",
     "height": 343
    },
    "id": "-GIFTqtKj78J",
    "outputId": "0bcbff28-346e-443d-d880-25f9fb1b7317"
   },
   "outputs": [
    {
     "data": {
      "text/html": [
       "<div>\n",
       "<style scoped>\n",
       "    .dataframe tbody tr th:only-of-type {\n",
       "        vertical-align: middle;\n",
       "    }\n",
       "\n",
       "    .dataframe tbody tr th {\n",
       "        vertical-align: top;\n",
       "    }\n",
       "\n",
       "    .dataframe thead th {\n",
       "        text-align: right;\n",
       "    }\n",
       "</style>\n",
       "<table border=\"1\" class=\"dataframe\">\n",
       "  <thead>\n",
       "    <tr style=\"text-align: right;\">\n",
       "      <th></th>\n",
       "      <th>Undergraduate Major</th>\n",
       "      <th>Starting Median Salary</th>\n",
       "      <th>Mid-Career Median Salary</th>\n",
       "      <th>Percent change from Starting to Mid-Career Salary</th>\n",
       "      <th>Mid-Career 10th Percentile Salary</th>\n",
       "      <th>Mid-Career 25th Percentile Salary</th>\n",
       "      <th>Mid-Career 75th Percentile Salary</th>\n",
       "      <th>Mid-Career 90th Percentile Salary</th>\n",
       "    </tr>\n",
       "  </thead>\n",
       "  <tbody>\n",
       "    <tr>\n",
       "      <th>0</th>\n",
       "      <td>Accounting</td>\n",
       "      <td>$46,000.00</td>\n",
       "      <td>$77,100.00</td>\n",
       "      <td>67.6</td>\n",
       "      <td>$42,200.00</td>\n",
       "      <td>$56,100.00</td>\n",
       "      <td>$108,000.00</td>\n",
       "      <td>$152,000.00</td>\n",
       "    </tr>\n",
       "    <tr>\n",
       "      <th>1</th>\n",
       "      <td>Aerospace Engineering</td>\n",
       "      <td>$57,700.00</td>\n",
       "      <td>$101,000.00</td>\n",
       "      <td>75.0</td>\n",
       "      <td>$64,300.00</td>\n",
       "      <td>$82,100.00</td>\n",
       "      <td>$127,000.00</td>\n",
       "      <td>$161,000.00</td>\n",
       "    </tr>\n",
       "    <tr>\n",
       "      <th>2</th>\n",
       "      <td>Agriculture</td>\n",
       "      <td>$42,600.00</td>\n",
       "      <td>$71,900.00</td>\n",
       "      <td>68.8</td>\n",
       "      <td>$36,300.00</td>\n",
       "      <td>$52,100.00</td>\n",
       "      <td>$96,300.00</td>\n",
       "      <td>$150,000.00</td>\n",
       "    </tr>\n",
       "    <tr>\n",
       "      <th>3</th>\n",
       "      <td>Anthropology</td>\n",
       "      <td>$36,800.00</td>\n",
       "      <td>$61,500.00</td>\n",
       "      <td>67.1</td>\n",
       "      <td>$33,800.00</td>\n",
       "      <td>$45,500.00</td>\n",
       "      <td>$89,300.00</td>\n",
       "      <td>$138,000.00</td>\n",
       "    </tr>\n",
       "    <tr>\n",
       "      <th>4</th>\n",
       "      <td>Architecture</td>\n",
       "      <td>$41,600.00</td>\n",
       "      <td>$76,800.00</td>\n",
       "      <td>84.6</td>\n",
       "      <td>$50,600.00</td>\n",
       "      <td>$62,200.00</td>\n",
       "      <td>$97,000.00</td>\n",
       "      <td>$136,000.00</td>\n",
       "    </tr>\n",
       "  </tbody>\n",
       "</table>\n",
       "</div>"
      ],
      "text/plain": [
       "     Undergraduate Major  ... Mid-Career 90th Percentile Salary\n",
       "0             Accounting  ...                       $152,000.00\n",
       "1  Aerospace Engineering  ...                       $161,000.00\n",
       "2            Agriculture  ...                       $150,000.00\n",
       "3           Anthropology  ...                       $138,000.00\n",
       "4           Architecture  ...                       $136,000.00\n",
       "\n",
       "[5 rows x 8 columns]"
      ]
     },
     "execution_count": 198,
     "metadata": {
      "tags": []
     },
     "output_type": "execute_result"
    }
   ],
   "source": [
    "major.head()"
   ]
  },
  {
   "cell_type": "code",
   "execution_count": null,
   "metadata": {
    "colab": {
     "base_uri": "https://localhost:8080/",
     "height": 445
    },
    "id": "78GwR-2uj9W6",
    "outputId": "35e30a20-c536-46ec-c5d1-9f83c4224594"
   },
   "outputs": [
    {
     "data": {
      "text/html": [
       "<div>\n",
       "<style scoped>\n",
       "    .dataframe tbody tr th:only-of-type {\n",
       "        vertical-align: middle;\n",
       "    }\n",
       "\n",
       "    .dataframe tbody tr th {\n",
       "        vertical-align: top;\n",
       "    }\n",
       "\n",
       "    .dataframe thead th {\n",
       "        text-align: right;\n",
       "    }\n",
       "</style>\n",
       "<table border=\"1\" class=\"dataframe\">\n",
       "  <thead>\n",
       "    <tr style=\"text-align: right;\">\n",
       "      <th></th>\n",
       "      <th>School Name</th>\n",
       "      <th>School Type</th>\n",
       "      <th>Starting Median Salary</th>\n",
       "      <th>Mid-Career Median Salary</th>\n",
       "      <th>Mid-Career 10th Percentile Salary</th>\n",
       "      <th>Mid-Career 25th Percentile Salary</th>\n",
       "      <th>Mid-Career 75th Percentile Salary</th>\n",
       "      <th>Mid-Career 90th Percentile Salary</th>\n",
       "    </tr>\n",
       "  </thead>\n",
       "  <tbody>\n",
       "    <tr>\n",
       "      <th>0</th>\n",
       "      <td>Massachusetts Institute of Technology (MIT)</td>\n",
       "      <td>Engineering</td>\n",
       "      <td>$72,200.00</td>\n",
       "      <td>$126,000.00</td>\n",
       "      <td>$76,800.00</td>\n",
       "      <td>$99,200.00</td>\n",
       "      <td>$168,000.00</td>\n",
       "      <td>$220,000.00</td>\n",
       "    </tr>\n",
       "    <tr>\n",
       "      <th>1</th>\n",
       "      <td>California Institute of Technology (CIT)</td>\n",
       "      <td>Engineering</td>\n",
       "      <td>$75,500.00</td>\n",
       "      <td>$123,000.00</td>\n",
       "      <td>NaN</td>\n",
       "      <td>$104,000.00</td>\n",
       "      <td>$161,000.00</td>\n",
       "      <td>NaN</td>\n",
       "    </tr>\n",
       "    <tr>\n",
       "      <th>2</th>\n",
       "      <td>Harvey Mudd College</td>\n",
       "      <td>Engineering</td>\n",
       "      <td>$71,800.00</td>\n",
       "      <td>$122,000.00</td>\n",
       "      <td>NaN</td>\n",
       "      <td>$96,000.00</td>\n",
       "      <td>$180,000.00</td>\n",
       "      <td>NaN</td>\n",
       "    </tr>\n",
       "    <tr>\n",
       "      <th>3</th>\n",
       "      <td>Polytechnic University of New York, Brooklyn</td>\n",
       "      <td>Engineering</td>\n",
       "      <td>$62,400.00</td>\n",
       "      <td>$114,000.00</td>\n",
       "      <td>$66,800.00</td>\n",
       "      <td>$94,300.00</td>\n",
       "      <td>$143,000.00</td>\n",
       "      <td>$190,000.00</td>\n",
       "    </tr>\n",
       "    <tr>\n",
       "      <th>4</th>\n",
       "      <td>Cooper Union</td>\n",
       "      <td>Engineering</td>\n",
       "      <td>$62,200.00</td>\n",
       "      <td>$114,000.00</td>\n",
       "      <td>NaN</td>\n",
       "      <td>$80,200.00</td>\n",
       "      <td>$142,000.00</td>\n",
       "      <td>NaN</td>\n",
       "    </tr>\n",
       "  </tbody>\n",
       "</table>\n",
       "</div>"
      ],
      "text/plain": [
       "                                    School Name  ... Mid-Career 90th Percentile Salary\n",
       "0   Massachusetts Institute of Technology (MIT)  ...                       $220,000.00\n",
       "1      California Institute of Technology (CIT)  ...                               NaN\n",
       "2                           Harvey Mudd College  ...                               NaN\n",
       "3  Polytechnic University of New York, Brooklyn  ...                       $190,000.00\n",
       "4                                  Cooper Union  ...                               NaN\n",
       "\n",
       "[5 rows x 8 columns]"
      ]
     },
     "execution_count": 199,
     "metadata": {
      "tags": []
     },
     "output_type": "execute_result"
    }
   ],
   "source": [
    "college_type.head()"
   ]
  },
  {
   "cell_type": "code",
   "execution_count": null,
   "metadata": {
    "colab": {
     "base_uri": "https://localhost:8080/",
     "height": 394
    },
    "id": "mzgqgciYj_UY",
    "outputId": "5b1f0793-93e0-4f0b-cbe6-bd8a75d75517"
   },
   "outputs": [
    {
     "data": {
      "text/html": [
       "<div>\n",
       "<style scoped>\n",
       "    .dataframe tbody tr th:only-of-type {\n",
       "        vertical-align: middle;\n",
       "    }\n",
       "\n",
       "    .dataframe tbody tr th {\n",
       "        vertical-align: top;\n",
       "    }\n",
       "\n",
       "    .dataframe thead th {\n",
       "        text-align: right;\n",
       "    }\n",
       "</style>\n",
       "<table border=\"1\" class=\"dataframe\">\n",
       "  <thead>\n",
       "    <tr style=\"text-align: right;\">\n",
       "      <th></th>\n",
       "      <th>world_rank</th>\n",
       "      <th>university_name</th>\n",
       "      <th>country</th>\n",
       "      <th>teaching</th>\n",
       "      <th>international</th>\n",
       "      <th>research</th>\n",
       "      <th>citations</th>\n",
       "      <th>income</th>\n",
       "      <th>total_score</th>\n",
       "      <th>num_students</th>\n",
       "      <th>student_staff_ratio</th>\n",
       "      <th>international_students</th>\n",
       "      <th>female_male_ratio</th>\n",
       "      <th>year</th>\n",
       "    </tr>\n",
       "  </thead>\n",
       "  <tbody>\n",
       "    <tr>\n",
       "      <th>0</th>\n",
       "      <td>1</td>\n",
       "      <td>Harvard University</td>\n",
       "      <td>United States of America</td>\n",
       "      <td>99.7</td>\n",
       "      <td>72.4</td>\n",
       "      <td>98.7</td>\n",
       "      <td>98.8</td>\n",
       "      <td>34.5</td>\n",
       "      <td>96.1</td>\n",
       "      <td>20,152</td>\n",
       "      <td>8.9</td>\n",
       "      <td>25%</td>\n",
       "      <td>NaN</td>\n",
       "      <td>2011</td>\n",
       "    </tr>\n",
       "    <tr>\n",
       "      <th>1</th>\n",
       "      <td>2</td>\n",
       "      <td>California Institute of Technology</td>\n",
       "      <td>United States of America</td>\n",
       "      <td>97.7</td>\n",
       "      <td>54.6</td>\n",
       "      <td>98.0</td>\n",
       "      <td>99.9</td>\n",
       "      <td>83.7</td>\n",
       "      <td>96.0</td>\n",
       "      <td>2,243</td>\n",
       "      <td>6.9</td>\n",
       "      <td>27%</td>\n",
       "      <td>33 : 67</td>\n",
       "      <td>2011</td>\n",
       "    </tr>\n",
       "    <tr>\n",
       "      <th>2</th>\n",
       "      <td>3</td>\n",
       "      <td>Massachusetts Institute of Technology</td>\n",
       "      <td>United States of America</td>\n",
       "      <td>97.8</td>\n",
       "      <td>82.3</td>\n",
       "      <td>91.4</td>\n",
       "      <td>99.9</td>\n",
       "      <td>87.5</td>\n",
       "      <td>95.6</td>\n",
       "      <td>11,074</td>\n",
       "      <td>9.0</td>\n",
       "      <td>33%</td>\n",
       "      <td>37 : 63</td>\n",
       "      <td>2011</td>\n",
       "    </tr>\n",
       "    <tr>\n",
       "      <th>3</th>\n",
       "      <td>4</td>\n",
       "      <td>Stanford University</td>\n",
       "      <td>United States of America</td>\n",
       "      <td>98.3</td>\n",
       "      <td>29.5</td>\n",
       "      <td>98.1</td>\n",
       "      <td>99.2</td>\n",
       "      <td>64.3</td>\n",
       "      <td>94.3</td>\n",
       "      <td>15,596</td>\n",
       "      <td>7.8</td>\n",
       "      <td>22%</td>\n",
       "      <td>42 : 58</td>\n",
       "      <td>2011</td>\n",
       "    </tr>\n",
       "    <tr>\n",
       "      <th>4</th>\n",
       "      <td>5</td>\n",
       "      <td>Princeton University</td>\n",
       "      <td>United States of America</td>\n",
       "      <td>90.9</td>\n",
       "      <td>70.3</td>\n",
       "      <td>95.4</td>\n",
       "      <td>99.9</td>\n",
       "      <td>-</td>\n",
       "      <td>94.2</td>\n",
       "      <td>7,929</td>\n",
       "      <td>8.4</td>\n",
       "      <td>27%</td>\n",
       "      <td>45 : 55</td>\n",
       "      <td>2011</td>\n",
       "    </tr>\n",
       "  </tbody>\n",
       "</table>\n",
       "</div>"
      ],
      "text/plain": [
       "  world_rank                        university_name  ... female_male_ratio  year\n",
       "0          1                     Harvard University  ...               NaN  2011\n",
       "1          2     California Institute of Technology  ...           33 : 67  2011\n",
       "2          3  Massachusetts Institute of Technology  ...           37 : 63  2011\n",
       "3          4                    Stanford University  ...           42 : 58  2011\n",
       "4          5                   Princeton University  ...           45 : 55  2011\n",
       "\n",
       "[5 rows x 14 columns]"
      ]
     },
     "execution_count": 200,
     "metadata": {
      "tags": []
     },
     "output_type": "execute_result"
    }
   ],
   "source": [
    "college_rank.head()"
   ]
  },
  {
   "cell_type": "code",
   "execution_count": null,
   "metadata": {
    "colab": {
     "base_uri": "https://localhost:8080/",
     "height": 241
    },
    "id": "Xv3sZW7AkBSQ",
    "outputId": "4fc14960-47e2-480e-a186-ec6a8934804c"
   },
   "outputs": [
    {
     "data": {
      "text/html": [
       "<div>\n",
       "<style scoped>\n",
       "    .dataframe tbody tr th:only-of-type {\n",
       "        vertical-align: middle;\n",
       "    }\n",
       "\n",
       "    .dataframe tbody tr th {\n",
       "        vertical-align: top;\n",
       "    }\n",
       "\n",
       "    .dataframe thead th {\n",
       "        text-align: right;\n",
       "    }\n",
       "</style>\n",
       "<table border=\"1\" class=\"dataframe\">\n",
       "  <thead>\n",
       "    <tr style=\"text-align: right;\">\n",
       "      <th></th>\n",
       "      <th>sl_no</th>\n",
       "      <th>gender</th>\n",
       "      <th>ssc_p</th>\n",
       "      <th>ssc_b</th>\n",
       "      <th>hsc_p</th>\n",
       "      <th>hsc_b</th>\n",
       "      <th>hsc_s</th>\n",
       "      <th>degree_p</th>\n",
       "      <th>degree_t</th>\n",
       "      <th>workex</th>\n",
       "      <th>etest_p</th>\n",
       "      <th>specialisation</th>\n",
       "      <th>mba_p</th>\n",
       "      <th>status</th>\n",
       "      <th>salary</th>\n",
       "    </tr>\n",
       "  </thead>\n",
       "  <tbody>\n",
       "    <tr>\n",
       "      <th>0</th>\n",
       "      <td>1</td>\n",
       "      <td>M</td>\n",
       "      <td>67.00</td>\n",
       "      <td>Others</td>\n",
       "      <td>91.00</td>\n",
       "      <td>Others</td>\n",
       "      <td>Commerce</td>\n",
       "      <td>58.00</td>\n",
       "      <td>Sci&amp;Tech</td>\n",
       "      <td>No</td>\n",
       "      <td>55.0</td>\n",
       "      <td>Mkt&amp;HR</td>\n",
       "      <td>58.80</td>\n",
       "      <td>Placed</td>\n",
       "      <td>270000.0</td>\n",
       "    </tr>\n",
       "    <tr>\n",
       "      <th>1</th>\n",
       "      <td>2</td>\n",
       "      <td>M</td>\n",
       "      <td>79.33</td>\n",
       "      <td>Central</td>\n",
       "      <td>78.33</td>\n",
       "      <td>Others</td>\n",
       "      <td>Science</td>\n",
       "      <td>77.48</td>\n",
       "      <td>Sci&amp;Tech</td>\n",
       "      <td>Yes</td>\n",
       "      <td>86.5</td>\n",
       "      <td>Mkt&amp;Fin</td>\n",
       "      <td>66.28</td>\n",
       "      <td>Placed</td>\n",
       "      <td>200000.0</td>\n",
       "    </tr>\n",
       "    <tr>\n",
       "      <th>2</th>\n",
       "      <td>3</td>\n",
       "      <td>M</td>\n",
       "      <td>65.00</td>\n",
       "      <td>Central</td>\n",
       "      <td>68.00</td>\n",
       "      <td>Central</td>\n",
       "      <td>Arts</td>\n",
       "      <td>64.00</td>\n",
       "      <td>Comm&amp;Mgmt</td>\n",
       "      <td>No</td>\n",
       "      <td>75.0</td>\n",
       "      <td>Mkt&amp;Fin</td>\n",
       "      <td>57.80</td>\n",
       "      <td>Placed</td>\n",
       "      <td>250000.0</td>\n",
       "    </tr>\n",
       "    <tr>\n",
       "      <th>3</th>\n",
       "      <td>4</td>\n",
       "      <td>M</td>\n",
       "      <td>56.00</td>\n",
       "      <td>Central</td>\n",
       "      <td>52.00</td>\n",
       "      <td>Central</td>\n",
       "      <td>Science</td>\n",
       "      <td>52.00</td>\n",
       "      <td>Sci&amp;Tech</td>\n",
       "      <td>No</td>\n",
       "      <td>66.0</td>\n",
       "      <td>Mkt&amp;HR</td>\n",
       "      <td>59.43</td>\n",
       "      <td>Not Placed</td>\n",
       "      <td>NaN</td>\n",
       "    </tr>\n",
       "    <tr>\n",
       "      <th>4</th>\n",
       "      <td>5</td>\n",
       "      <td>M</td>\n",
       "      <td>85.80</td>\n",
       "      <td>Central</td>\n",
       "      <td>73.60</td>\n",
       "      <td>Central</td>\n",
       "      <td>Commerce</td>\n",
       "      <td>73.30</td>\n",
       "      <td>Comm&amp;Mgmt</td>\n",
       "      <td>No</td>\n",
       "      <td>96.8</td>\n",
       "      <td>Mkt&amp;Fin</td>\n",
       "      <td>55.50</td>\n",
       "      <td>Placed</td>\n",
       "      <td>425000.0</td>\n",
       "    </tr>\n",
       "  </tbody>\n",
       "</table>\n",
       "</div>"
      ],
      "text/plain": [
       "   sl_no gender  ssc_p    ssc_b  ...  specialisation  mba_p      status    salary\n",
       "0      1      M  67.00   Others  ...          Mkt&HR  58.80      Placed  270000.0\n",
       "1      2      M  79.33  Central  ...         Mkt&Fin  66.28      Placed  200000.0\n",
       "2      3      M  65.00  Central  ...         Mkt&Fin  57.80      Placed  250000.0\n",
       "3      4      M  56.00  Central  ...          Mkt&HR  59.43  Not Placed       NaN\n",
       "4      5      M  85.80  Central  ...         Mkt&Fin  55.50      Placed  425000.0\n",
       "\n",
       "[5 rows x 15 columns]"
      ]
     },
     "execution_count": 201,
     "metadata": {
      "tags": []
     },
     "output_type": "execute_result"
    }
   ],
   "source": [
    "gender.head()"
   ]
  },
  {
   "cell_type": "markdown",
   "metadata": {
    "id": "8MkqCMPMCWRA"
   },
   "source": [
    "# Data Cleaning"
   ]
  },
  {
   "cell_type": "markdown",
   "metadata": {
    "id": "WKWNQJuIQ6Bg"
   },
   "source": [
    "###Major"
   ]
  },
  {
   "cell_type": "markdown",
   "metadata": {
    "id": "SPJT0G77CWRB"
   },
   "source": [
    "To determine the majors that have higher starting salaries, we remove the \n",
    "columns that are unrelated to our research question from the original dataset like the mid-career salary. Then, we rename the columns using simpler terms and display the majors that have the highest starting median salary by ranking them from the highest to the lowest. Finally, we change the type of the salary column from objects into integers in order to analyze them quantitatively, and reset the index so the first row would be indexed as 0:\n"
   ]
  },
  {
   "cell_type": "code",
   "execution_count": 8,
   "metadata": {
    "id": "KlZg0ntSCWRB"
   },
   "outputs": [],
   "source": [
    "#keep only the necessary columns in major\n",
    "major = major[['Undergraduate Major','Starting Median Salary']]"
   ]
  },
  {
   "cell_type": "code",
   "execution_count": 9,
   "metadata": {
    "colab": {
     "base_uri": "https://localhost:8080/"
    },
    "id": "Unx_XpxVKCqW",
    "outputId": "13943b6b-20d5-4f94-f12b-24452f0b2a5e"
   },
   "outputs": [
    {
     "data": {
      "text/plain": [
       "False"
      ]
     },
     "execution_count": 9,
     "metadata": {
      "tags": []
     },
     "output_type": "execute_result"
    }
   ],
   "source": [
    "#check for NaN\n",
    "major['Starting Median Salary'].hasnans"
   ]
  },
  {
   "cell_type": "code",
   "execution_count": 10,
   "metadata": {
    "colab": {
     "base_uri": "https://localhost:8080/"
    },
    "id": "zOSPALD4bWzV",
    "outputId": "2a132954-3b9c-48c8-aef8-32a78bc58efb"
   },
   "outputs": [
    {
     "data": {
      "text/plain": [
       "Undergraduate Major       object\n",
       "Starting Median Salary    object\n",
       "dtype: object"
      ]
     },
     "execution_count": 10,
     "metadata": {
      "tags": []
     },
     "output_type": "execute_result"
    }
   ],
   "source": [
    "#check the type\n",
    "major.dtypes"
   ]
  },
  {
   "cell_type": "code",
   "execution_count": 11,
   "metadata": {
    "id": "ADUJitEYgM7K"
   },
   "outputs": [],
   "source": [
    "#change salary to int \n",
    "def int_salary(salary):\n",
    "  return int(salary.strip(\"$\").split('.')[0].replace(',',''))"
   ]
  },
  {
   "cell_type": "code",
   "execution_count": 12,
   "metadata": {
    "id": "dP2HyJMEKDDl"
   },
   "outputs": [],
   "source": [
    "#Change salary to int in major \n",
    "major = major.set_axis(['major','salary'], axis = 'columns')\n",
    "major.salary = major.salary.apply(int_salary)"
   ]
  },
  {
   "cell_type": "code",
   "execution_count": 13,
   "metadata": {
    "colab": {
     "base_uri": "https://localhost:8080/",
     "height": 204
    },
    "id": "zmutE2MSgzzt",
    "outputId": "64af1988-3fa0-4506-fe9f-c55a0e16c129"
   },
   "outputs": [
    {
     "data": {
      "text/html": [
       "<div>\n",
       "<style scoped>\n",
       "    .dataframe tbody tr th:only-of-type {\n",
       "        vertical-align: middle;\n",
       "    }\n",
       "\n",
       "    .dataframe tbody tr th {\n",
       "        vertical-align: top;\n",
       "    }\n",
       "\n",
       "    .dataframe thead th {\n",
       "        text-align: right;\n",
       "    }\n",
       "</style>\n",
       "<table border=\"1\" class=\"dataframe\">\n",
       "  <thead>\n",
       "    <tr style=\"text-align: right;\">\n",
       "      <th></th>\n",
       "      <th>major</th>\n",
       "      <th>salary</th>\n",
       "    </tr>\n",
       "  </thead>\n",
       "  <tbody>\n",
       "    <tr>\n",
       "      <th>0</th>\n",
       "      <td>Physician Assistant</td>\n",
       "      <td>74300</td>\n",
       "    </tr>\n",
       "    <tr>\n",
       "      <th>1</th>\n",
       "      <td>Chemical Engineering</td>\n",
       "      <td>63200</td>\n",
       "    </tr>\n",
       "    <tr>\n",
       "      <th>2</th>\n",
       "      <td>Computer Engineering</td>\n",
       "      <td>61400</td>\n",
       "    </tr>\n",
       "    <tr>\n",
       "      <th>3</th>\n",
       "      <td>Electrical Engineering</td>\n",
       "      <td>60900</td>\n",
       "    </tr>\n",
       "    <tr>\n",
       "      <th>4</th>\n",
       "      <td>Mechanical Engineering</td>\n",
       "      <td>57900</td>\n",
       "    </tr>\n",
       "  </tbody>\n",
       "</table>\n",
       "</div>"
      ],
      "text/plain": [
       "                    major  salary\n",
       "0     Physician Assistant   74300\n",
       "1    Chemical Engineering   63200\n",
       "2    Computer Engineering   61400\n",
       "3  Electrical Engineering   60900\n",
       "4  Mechanical Engineering   57900"
      ]
     },
     "execution_count": 13,
     "metadata": {
      "tags": []
     },
     "output_type": "execute_result"
    }
   ],
   "source": [
    "#sort values of salary\n",
    "major = major.sort_values(by=['salary'],ascending=False).reset_index(drop=True)\n",
    "major.head()"
   ]
  },
  {
   "cell_type": "markdown",
   "metadata": {
    "id": "a0fnkeQOitSE"
   },
   "source": [
    "After that, we try to categorize the different majors into 5 groups: Math & Science, Arts, Social Sci/Lit/Lang, Business, and Engineering & Tech by applying the function and store them into a new column named \"type\" which could be useful for future analysis (we classify the major based on our own perspective and use the article \"College Majors by Type: Arts, STEM, Business, and More\" written by Jackie Burrell as a reference: https://www.thebalancecareers.com/choosing-a-college-major-by-field-3570279\n",
    ",the major type for each major might vary from different universities):"
   ]
  },
  {
   "cell_type": "code",
   "execution_count": 14,
   "metadata": {
    "id": "RRpqZik0ivOl"
   },
   "outputs": [],
   "source": [
    "#categorize the type of the majors\n",
    "engr_tech= ['Chemical Engineering','Computer Engineering', 'Electrical Engineering',\n",
    "       'Mechanical Engineering', 'Aerospace Engineering',\n",
    "       'Industrial Engineering', 'Computer Science','Civil Engineering',\n",
    "      'Management Information Systems (MIS)', 'Information Technology (IT)']\n",
    "\n",
    "math_sci = ['Physician Assistant','Nursing','Construction', 'Physics',\n",
    "            'Math','Geology', 'Agriculture', 'Chemistry',\n",
    "            'Nutrition','Forestry','Biology']\n",
    "\n",
    "bus= ['Finance', 'Accounting','Business Management','Marketing']\n",
    "\n",
    "lang_SocSci= ['Criminal Justice', 'Education', 'Religion', 'Spanish',\n",
    "          'Anthropology', 'Sociology','Psychology', 'Communications', 'English',\n",
    "          'Hospitality & Tourism', 'Journalism', 'Health Care Administration',\n",
    "          'History','Political Science','Philosophy', 'International Relations','Geography','Economics']\n",
    "\n",
    "art =  ['Music', 'Drama', 'Art History', 'Graphic Design',\n",
    "        'Interior Design','Film','Architecture']"
   ]
  },
  {
   "cell_type": "code",
   "execution_count": 15,
   "metadata": {
    "id": "0wHYYksljVrp"
   },
   "outputs": [],
   "source": [
    "#function to categorize major \n",
    "def standardize_major(string):   \n",
    "   \n",
    "    if string in math_sci:\n",
    "        output = 'Math & Sci'\n",
    "    elif string in engr_tech:\n",
    "        output = 'Engineering & Tech'\n",
    "    elif string in bus:\n",
    "        output = 'Business'\n",
    "    elif string in lang_SocSci:\n",
    "        output = 'Social Sci/Lit/Lang'  \n",
    "    elif string in art:\n",
    "        output = 'Arts'\n",
    "    else:\n",
    "        output = string\n",
    "    \n",
    "    return output"
   ]
  },
  {
   "cell_type": "code",
   "execution_count": 16,
   "metadata": {
    "id": "XtJ180AbjZtO"
   },
   "outputs": [],
   "source": [
    "#apply the function into a new column\n",
    "major['type'] = major['major'].apply(standardize_major)"
   ]
  },
  {
   "cell_type": "code",
   "execution_count": 17,
   "metadata": {
    "colab": {
     "base_uri": "https://localhost:8080/",
     "height": 204
    },
    "id": "YfaGOpCEjdzq",
    "outputId": "3efabe6b-c081-495b-eab3-543432b6c481"
   },
   "outputs": [
    {
     "data": {
      "text/html": [
       "<div>\n",
       "<style scoped>\n",
       "    .dataframe tbody tr th:only-of-type {\n",
       "        vertical-align: middle;\n",
       "    }\n",
       "\n",
       "    .dataframe tbody tr th {\n",
       "        vertical-align: top;\n",
       "    }\n",
       "\n",
       "    .dataframe thead th {\n",
       "        text-align: right;\n",
       "    }\n",
       "</style>\n",
       "<table border=\"1\" class=\"dataframe\">\n",
       "  <thead>\n",
       "    <tr style=\"text-align: right;\">\n",
       "      <th></th>\n",
       "      <th>major</th>\n",
       "      <th>type</th>\n",
       "      <th>salary</th>\n",
       "    </tr>\n",
       "  </thead>\n",
       "  <tbody>\n",
       "    <tr>\n",
       "      <th>0</th>\n",
       "      <td>Physician Assistant</td>\n",
       "      <td>Math &amp; Sci</td>\n",
       "      <td>74300</td>\n",
       "    </tr>\n",
       "    <tr>\n",
       "      <th>1</th>\n",
       "      <td>Chemical Engineering</td>\n",
       "      <td>Engineering &amp; Tech</td>\n",
       "      <td>63200</td>\n",
       "    </tr>\n",
       "    <tr>\n",
       "      <th>2</th>\n",
       "      <td>Computer Engineering</td>\n",
       "      <td>Engineering &amp; Tech</td>\n",
       "      <td>61400</td>\n",
       "    </tr>\n",
       "    <tr>\n",
       "      <th>3</th>\n",
       "      <td>Electrical Engineering</td>\n",
       "      <td>Engineering &amp; Tech</td>\n",
       "      <td>60900</td>\n",
       "    </tr>\n",
       "    <tr>\n",
       "      <th>4</th>\n",
       "      <td>Mechanical Engineering</td>\n",
       "      <td>Engineering &amp; Tech</td>\n",
       "      <td>57900</td>\n",
       "    </tr>\n",
       "  </tbody>\n",
       "</table>\n",
       "</div>"
      ],
      "text/plain": [
       "                    major                type  salary\n",
       "0     Physician Assistant          Math & Sci   74300\n",
       "1    Chemical Engineering  Engineering & Tech   63200\n",
       "2    Computer Engineering  Engineering & Tech   61400\n",
       "3  Electrical Engineering  Engineering & Tech   60900\n",
       "4  Mechanical Engineering  Engineering & Tech   57900"
      ]
     },
     "execution_count": 17,
     "metadata": {
      "tags": []
     },
     "output_type": "execute_result"
    }
   ],
   "source": [
    "#re-order the columns\n",
    "major = major[['major','type', 'salary']]\n",
    "major.head()"
   ]
  },
  {
   "cell_type": "markdown",
   "metadata": {
    "id": "8NdsrwQbRDKU"
   },
   "source": [
    "###College Quality"
   ]
  },
  {
   "cell_type": "markdown",
   "metadata": {
    "id": "ulmTzE53YuHz"
   },
   "source": [
    "To determine how college quality can affect starting salary, we pull data from two datasets: college_type and college_rank. college_type contains information about universities and their corresponding starting median salary. college_rank has information about the world rank of universities. We first keep the columns relevant to our research question and rename them. After that, we check if there is any missing value in these datasets. Then we write a function to standardize the strings for the names of the universities. Finally, we perform an inner merge on the two dataset, sort it by descending value in salary, and reset the index."
   ]
  },
  {
   "cell_type": "code",
   "execution_count": null,
   "metadata": {
    "id": "SpjiBRWcK4zg"
   },
   "outputs": [],
   "source": [
    "# keep only the necessary columns in college_type\n",
    "college_df = college_type[['School Name', 'Starting Median Salary']]\n",
    "\n",
    "# rename columns\n",
    "college_df = college_df.rename(columns = {'School Name': 'name', 'Starting Median Salary': 'salary'})\n",
    "\n",
    "# keep only the necessary columns in college_rank\n",
    "rank_df = college_rank[['world_rank', 'university_name']]\n",
    "\n",
    "# only include the most comprehensive ranking (only run this cell once)\n",
    "comprehensive_rank_df = rank_df.iloc[1803 : -1, : ]\n",
    "comprehensive_rank_df.head()\n",
    "\n",
    "# rename columns\n",
    "comprehensive_rank_df = comprehensive_rank_df.rename(columns = {'university_name': 'name', 'world_rank': 'rank'})\n",
    "\n",
    "# making the ranks more exact\n",
    "comprehensive_rank_df = comprehensive_rank_df.reset_index(drop=True)\n",
    "comprehensive_rank_df['index1'] = comprehensive_rank_df.index\n",
    "comprehensive_rank_df = comprehensive_rank_df.assign(exact_rank = comprehensive_rank_df['index1'] + 1)\n",
    "exact_rank_df = comprehensive_rank_df[['name', 'exact_rank']]\n",
    "exact_rank_df = exact_rank_df.rename(columns = {'name': 'name', 'exact_rank': 'rank'})"
   ]
  },
  {
   "cell_type": "code",
   "execution_count": null,
   "metadata": {
    "colab": {
     "base_uri": "https://localhost:8080/"
    },
    "id": "bc6vFvrtd_yh",
    "outputId": "bbcaa920-e730-4a71-aa5c-5298d5457594"
   },
   "outputs": [
    {
     "name": "stdout",
     "output_type": "stream",
     "text": [
      "False False False False\n"
     ]
    }
   ],
   "source": [
    "# check for nans\n",
    "print(college_df['name'].hasnans,\n",
    "      college_df['salary'].hasnans,\n",
    "      exact_rank_df['name'].hasnans,\n",
    "      exact_rank_df['rank'].hasnans)"
   ]
  },
  {
   "cell_type": "code",
   "execution_count": null,
   "metadata": {
    "id": "57dW1Y-rLd-I"
   },
   "outputs": [],
   "source": [
    "# standardize college names\n",
    "def standardize_name(string):\n",
    "    \n",
    "    # remove things in parentheses\n",
    "    string = re.sub(r\"\\([^()]*\\)\", \"\", string)\n",
    "    \n",
    "    #all lowercase \n",
    "    string = string.lower()\n",
    "    string = string.strip()\n",
    "    \n",
    "    #remove punctuation marks and \n",
    "    string = string.replace(\",\", \"\")\n",
    "    string = string.replace(\"at\", \"\")\n",
    "    \n",
    "    output = string.strip()\n",
    "    \n",
    "    return output"
   ]
  },
  {
   "cell_type": "code",
   "execution_count": null,
   "metadata": {
    "id": "09wSc3U0LgtM"
   },
   "outputs": [],
   "source": [
    "# apply function to college_df\n",
    "pd.options.mode.chained_assignment = None\n",
    "college_df['name'] = college_df['name'].apply(standardize_name)\n",
    "\n",
    "# apply function to exact_rank_df\n",
    "pd.options.mode.chained_assignment = None\n",
    "exact_rank_df['name'] = exact_rank_df['name'].apply(standardize_name)"
   ]
  },
  {
   "cell_type": "code",
   "execution_count": null,
   "metadata": {
    "id": "MnFp5qoSLnHB"
   },
   "outputs": [],
   "source": [
    "# merge college_df and comprehensive_rank_df\n",
    "quality = pd.merge(college_df, exact_rank_df, on='name')"
   ]
  },
  {
   "cell_type": "code",
   "execution_count": null,
   "metadata": {
    "id": "QhVKFCFnhE9F"
   },
   "outputs": [],
   "source": [
    "#change salary in quality to integer \n",
    "quality.salary = quality.salary.apply(int_salary)"
   ]
  },
  {
   "cell_type": "code",
   "execution_count": null,
   "metadata": {
    "colab": {
     "base_uri": "https://localhost:8080/",
     "height": 419
    },
    "id": "XINuf2MfhOKu",
    "outputId": "3f8f555d-568f-47cd-b2ba-ef44d71a2889"
   },
   "outputs": [
    {
     "data": {
      "text/html": [
       "<div>\n",
       "<style scoped>\n",
       "    .dataframe tbody tr th:only-of-type {\n",
       "        vertical-align: middle;\n",
       "    }\n",
       "\n",
       "    .dataframe tbody tr th {\n",
       "        vertical-align: top;\n",
       "    }\n",
       "\n",
       "    .dataframe thead th {\n",
       "        text-align: right;\n",
       "    }\n",
       "</style>\n",
       "<table border=\"1\" class=\"dataframe\">\n",
       "  <thead>\n",
       "    <tr style=\"text-align: right;\">\n",
       "      <th></th>\n",
       "      <th>name</th>\n",
       "      <th>salary</th>\n",
       "      <th>rank</th>\n",
       "    </tr>\n",
       "  </thead>\n",
       "  <tbody>\n",
       "    <tr>\n",
       "      <th>0</th>\n",
       "      <td>california institute of technology</td>\n",
       "      <td>75500</td>\n",
       "      <td>1</td>\n",
       "    </tr>\n",
       "    <tr>\n",
       "      <th>1</th>\n",
       "      <td>massachusetts institute of technology</td>\n",
       "      <td>72200</td>\n",
       "      <td>5</td>\n",
       "    </tr>\n",
       "    <tr>\n",
       "      <th>2</th>\n",
       "      <td>princeton university</td>\n",
       "      <td>66500</td>\n",
       "      <td>7</td>\n",
       "    </tr>\n",
       "    <tr>\n",
       "      <th>3</th>\n",
       "      <td>harvard university</td>\n",
       "      <td>63400</td>\n",
       "      <td>6</td>\n",
       "    </tr>\n",
       "    <tr>\n",
       "      <th>4</th>\n",
       "      <td>carnegie mellon university</td>\n",
       "      <td>61800</td>\n",
       "      <td>22</td>\n",
       "    </tr>\n",
       "    <tr>\n",
       "      <th>...</th>\n",
       "      <td>...</td>\n",
       "      <td>...</td>\n",
       "      <td>...</td>\n",
       "    </tr>\n",
       "    <tr>\n",
       "      <th>85</th>\n",
       "      <td>university of new mexico</td>\n",
       "      <td>41600</td>\n",
       "      <td>375</td>\n",
       "    </tr>\n",
       "    <tr>\n",
       "      <th>86</th>\n",
       "      <td>university of south florida</td>\n",
       "      <td>41100</td>\n",
       "      <td>238</td>\n",
       "    </tr>\n",
       "    <tr>\n",
       "      <th>87</th>\n",
       "      <td>university of south carolina</td>\n",
       "      <td>40000</td>\n",
       "      <td>384</td>\n",
       "    </tr>\n",
       "    <tr>\n",
       "      <th>88</th>\n",
       "      <td>kent ste university</td>\n",
       "      <td>38700</td>\n",
       "      <td>540</td>\n",
       "    </tr>\n",
       "    <tr>\n",
       "      <th>89</th>\n",
       "      <td>university of montana</td>\n",
       "      <td>37300</td>\n",
       "      <td>372</td>\n",
       "    </tr>\n",
       "  </tbody>\n",
       "</table>\n",
       "<p>90 rows × 3 columns</p>\n",
       "</div>"
      ],
      "text/plain": [
       "                                     name  salary  rank\n",
       "0      california institute of technology   75500     1\n",
       "1   massachusetts institute of technology   72200     5\n",
       "2                    princeton university   66500     7\n",
       "3                      harvard university   63400     6\n",
       "4              carnegie mellon university   61800    22\n",
       "..                                    ...     ...   ...\n",
       "85               university of new mexico   41600   375\n",
       "86            university of south florida   41100   238\n",
       "87           university of south carolina   40000   384\n",
       "88                    kent ste university   38700   540\n",
       "89                  university of montana   37300   372\n",
       "\n",
       "[90 rows x 3 columns]"
      ]
     },
     "execution_count": 19,
     "metadata": {
      "tags": []
     },
     "output_type": "execute_result"
    }
   ],
   "source": [
    "# sort by values in salary and reset the index\n",
    "quality = quality.sort_values(by = ['salary'], ascending = False).reset_index(drop=True)\n",
    "quality"
   ]
  },
  {
   "cell_type": "markdown",
   "metadata": {
    "id": "DeV586uoRIJx"
   },
   "source": [
    "###Gender & Internship Experience"
   ]
  },
  {
   "cell_type": "markdown",
   "metadata": {
    "id": "n4sMOKsVjSex"
   },
   "source": [
    "In order to determine the effect of gender and internship experience on the starting salary, we keep the columns of \"gender\", \"workex\", and \"salary\". We also keep the \"degree_t\" column because this column contains information about major, which may help to proofread our analysis above. In addition, we binarize the entries under the \"workex\" column: 1 indicates having experience and 0 indicates no experience. And finally, we rename the columns."
   ]
  },
  {
   "cell_type": "code",
   "execution_count": 4,
   "metadata": {
    "id": "rCdbpVV8jvpR"
   },
   "outputs": [],
   "source": [
    "# drop NaN\n",
    "gender = gender.dropna()\n",
    "# only take useful columns\n",
    "gender_sub = gender[['gender','salary', 'workex', 'degree_t']]"
   ]
  },
  {
   "cell_type": "code",
   "execution_count": 5,
   "metadata": {
    "id": "6CSxzzi9ys-2"
   },
   "outputs": [],
   "source": [
    "# replace Yes with 1, No with 0 in the column 'workex'\n",
    "def binarize_column(str_in):\n",
    "    str_in = str_in.lower()\n",
    "    if 'no' in str_in:\n",
    "        output = 0\n",
    "    elif 'yes' in str_in:\n",
    "        output = 1\n",
    "        \n",
    "    return output"
   ]
  },
  {
   "cell_type": "code",
   "execution_count": 6,
   "metadata": {
    "id": "yK-PSdA0ISsT"
   },
   "outputs": [],
   "source": [
    "def standardize_gender(str_in):\n",
    "    str_in = str_in.lower()\n",
    "    if 'm' in str_in:\n",
    "        output = 'male'\n",
    "    elif 'f' in str_in:\n",
    "        output = 'female'\n",
    "        \n",
    "    return output"
   ]
  },
  {
   "cell_type": "code",
   "execution_count": 7,
   "metadata": {
    "colab": {
     "base_uri": "https://localhost:8080/",
     "height": 419
    },
    "id": "UO9M1kqaIYnO",
    "outputId": "28e27fc3-cc18-4513-8904-3148bb5caf1a"
   },
   "outputs": [
    {
     "data": {
      "text/html": [
       "<div>\n",
       "<style scoped>\n",
       "    .dataframe tbody tr th:only-of-type {\n",
       "        vertical-align: middle;\n",
       "    }\n",
       "\n",
       "    .dataframe tbody tr th {\n",
       "        vertical-align: top;\n",
       "    }\n",
       "\n",
       "    .dataframe thead th {\n",
       "        text-align: right;\n",
       "    }\n",
       "</style>\n",
       "<table border=\"1\" class=\"dataframe\">\n",
       "  <thead>\n",
       "    <tr style=\"text-align: right;\">\n",
       "      <th></th>\n",
       "      <th>gender</th>\n",
       "      <th>salary</th>\n",
       "      <th>workex</th>\n",
       "      <th>major</th>\n",
       "    </tr>\n",
       "  </thead>\n",
       "  <tbody>\n",
       "    <tr>\n",
       "      <th>0</th>\n",
       "      <td>male</td>\n",
       "      <td>940000.0</td>\n",
       "      <td>1</td>\n",
       "      <td>Comm&amp;Mgmt</td>\n",
       "    </tr>\n",
       "    <tr>\n",
       "      <th>1</th>\n",
       "      <td>male</td>\n",
       "      <td>690000.0</td>\n",
       "      <td>1</td>\n",
       "      <td>Sci&amp;Tech</td>\n",
       "    </tr>\n",
       "    <tr>\n",
       "      <th>2</th>\n",
       "      <td>female</td>\n",
       "      <td>650000.0</td>\n",
       "      <td>1</td>\n",
       "      <td>Comm&amp;Mgmt</td>\n",
       "    </tr>\n",
       "    <tr>\n",
       "      <th>3</th>\n",
       "      <td>male</td>\n",
       "      <td>500000.0</td>\n",
       "      <td>0</td>\n",
       "      <td>Sci&amp;Tech</td>\n",
       "    </tr>\n",
       "    <tr>\n",
       "      <th>4</th>\n",
       "      <td>male</td>\n",
       "      <td>500000.0</td>\n",
       "      <td>1</td>\n",
       "      <td>Sci&amp;Tech</td>\n",
       "    </tr>\n",
       "    <tr>\n",
       "      <th>...</th>\n",
       "      <td>...</td>\n",
       "      <td>...</td>\n",
       "      <td>...</td>\n",
       "      <td>...</td>\n",
       "    </tr>\n",
       "    <tr>\n",
       "      <th>143</th>\n",
       "      <td>male</td>\n",
       "      <td>200000.0</td>\n",
       "      <td>1</td>\n",
       "      <td>Sci&amp;Tech</td>\n",
       "    </tr>\n",
       "    <tr>\n",
       "      <th>144</th>\n",
       "      <td>female</td>\n",
       "      <td>200000.0</td>\n",
       "      <td>1</td>\n",
       "      <td>Comm&amp;Mgmt</td>\n",
       "    </tr>\n",
       "    <tr>\n",
       "      <th>145</th>\n",
       "      <td>female</td>\n",
       "      <td>200000.0</td>\n",
       "      <td>1</td>\n",
       "      <td>Comm&amp;Mgmt</td>\n",
       "    </tr>\n",
       "    <tr>\n",
       "      <th>146</th>\n",
       "      <td>female</td>\n",
       "      <td>200000.0</td>\n",
       "      <td>0</td>\n",
       "      <td>Comm&amp;Mgmt</td>\n",
       "    </tr>\n",
       "    <tr>\n",
       "      <th>147</th>\n",
       "      <td>female</td>\n",
       "      <td>200000.0</td>\n",
       "      <td>0</td>\n",
       "      <td>Comm&amp;Mgmt</td>\n",
       "    </tr>\n",
       "  </tbody>\n",
       "</table>\n",
       "<p>148 rows × 4 columns</p>\n",
       "</div>"
      ],
      "text/plain": [
       "     gender    salary  workex      major\n",
       "0      male  940000.0       1  Comm&Mgmt\n",
       "1      male  690000.0       1   Sci&Tech\n",
       "2    female  650000.0       1  Comm&Mgmt\n",
       "3      male  500000.0       0   Sci&Tech\n",
       "4      male  500000.0       1   Sci&Tech\n",
       "..      ...       ...     ...        ...\n",
       "143    male  200000.0       1   Sci&Tech\n",
       "144  female  200000.0       1  Comm&Mgmt\n",
       "145  female  200000.0       1  Comm&Mgmt\n",
       "146  female  200000.0       0  Comm&Mgmt\n",
       "147  female  200000.0       0  Comm&Mgmt\n",
       "\n",
       "[148 rows x 4 columns]"
      ]
     },
     "execution_count": 7,
     "metadata": {
      "tags": []
     },
     "output_type": "execute_result"
    }
   ],
   "source": [
    "#standardize the gender\n",
    "gender_sub['workex'] = gender_sub['workex'].apply(binarize_column)\n",
    "gender_sub['gender'] = gender_sub['gender'].apply(standardize_gender)\n",
    "gender_sub = gender_sub.rename(columns = {'degree_t': 'major'})\n",
    "gender_df = gender_sub.sort_values(by = ['salary'], ascending = False)\n",
    "gender_df = gender_df.reset_index(drop=True)\n",
    "gender_df"
   ]
  },
  {
   "cell_type": "markdown",
   "metadata": {
    "id": "0pceUxz8Ifd-"
   },
   "source": [
    "# Data Analysis & Results"
   ]
  },
  {
   "cell_type": "markdown",
   "metadata": {
    "id": "j_D8S9UFIe7f"
   },
   "source": [
    "## Exploratory Data Analysis"
   ]
  },
  {
   "cell_type": "markdown",
   "metadata": {
    "id": "ShbE_SNGLln-"
   },
   "source": [
    "The five properties of a dataset that EDA tries to understand are:\n",
    "\n",
    "(1) Structure\n",
    "\n",
    "(2) Granularity\n",
    "\n",
    "(3) Scope\n",
    "\n",
    "(4) Temporality\n",
    "\n",
    "(5) Faithfulness"
   ]
  },
  {
   "cell_type": "markdown",
   "metadata": {
    "id": "IyqpmL3kRT0S"
   },
   "source": [
    "###Major"
   ]
  },
  {
   "cell_type": "markdown",
   "metadata": {
    "id": "Ak0DCh2J5r4u"
   },
   "source": [
    "**(1)  Structure**\n",
    "\n",
    "Since we have already cleaned up the data by changing the columns names and checked for all the NaN values in the previous section, we can now take a look at the first few rows of the data, the shape and the type of each variable in the dataset:"
   ]
  },
  {
   "cell_type": "code",
   "execution_count": null,
   "metadata": {
    "colab": {
     "base_uri": "https://localhost:8080/",
     "height": 204
    },
    "id": "dJ_O1NAZ5z04",
    "outputId": "99731023-b09a-4e91-981e-0bc625d798af"
   },
   "outputs": [
    {
     "data": {
      "text/html": [
       "<div>\n",
       "<style scoped>\n",
       "    .dataframe tbody tr th:only-of-type {\n",
       "        vertical-align: middle;\n",
       "    }\n",
       "\n",
       "    .dataframe tbody tr th {\n",
       "        vertical-align: top;\n",
       "    }\n",
       "\n",
       "    .dataframe thead th {\n",
       "        text-align: right;\n",
       "    }\n",
       "</style>\n",
       "<table border=\"1\" class=\"dataframe\">\n",
       "  <thead>\n",
       "    <tr style=\"text-align: right;\">\n",
       "      <th></th>\n",
       "      <th>major</th>\n",
       "      <th>type</th>\n",
       "      <th>salary</th>\n",
       "    </tr>\n",
       "  </thead>\n",
       "  <tbody>\n",
       "    <tr>\n",
       "      <th>0</th>\n",
       "      <td>Physician Assistant</td>\n",
       "      <td>Math &amp; Sci</td>\n",
       "      <td>74300</td>\n",
       "    </tr>\n",
       "    <tr>\n",
       "      <th>1</th>\n",
       "      <td>Chemical Engineering</td>\n",
       "      <td>Engineering &amp; Tech</td>\n",
       "      <td>63200</td>\n",
       "    </tr>\n",
       "    <tr>\n",
       "      <th>2</th>\n",
       "      <td>Computer Engineering</td>\n",
       "      <td>Engineering &amp; Tech</td>\n",
       "      <td>61400</td>\n",
       "    </tr>\n",
       "    <tr>\n",
       "      <th>3</th>\n",
       "      <td>Electrical Engineering</td>\n",
       "      <td>Engineering &amp; Tech</td>\n",
       "      <td>60900</td>\n",
       "    </tr>\n",
       "    <tr>\n",
       "      <th>4</th>\n",
       "      <td>Mechanical Engineering</td>\n",
       "      <td>Engineering &amp; Tech</td>\n",
       "      <td>57900</td>\n",
       "    </tr>\n",
       "  </tbody>\n",
       "</table>\n",
       "</div>"
      ],
      "text/plain": [
       "                    major                type  salary\n",
       "0     Physician Assistant          Math & Sci   74300\n",
       "1    Chemical Engineering  Engineering & Tech   63200\n",
       "2    Computer Engineering  Engineering & Tech   61400\n",
       "3  Electrical Engineering  Engineering & Tech   60900\n",
       "4  Mechanical Engineering  Engineering & Tech   57900"
      ]
     },
     "execution_count": 223,
     "metadata": {
      "tags": []
     },
     "output_type": "execute_result"
    }
   ],
   "source": [
    "#display the data table\n",
    "major.head()"
   ]
  },
  {
   "cell_type": "markdown",
   "metadata": {
    "id": "epB5rXaO59CB"
   },
   "source": [
    "It clearly shows that the dataset contains tabular data as it includes observations in the rows and variables in the columns."
   ]
  },
  {
   "cell_type": "code",
   "execution_count": null,
   "metadata": {
    "colab": {
     "base_uri": "https://localhost:8080/"
    },
    "id": "9qWwXSbs6AkD",
    "outputId": "a00875ce-d731-4e81-e025-e64cfac4b6c7"
   },
   "outputs": [
    {
     "data": {
      "text/plain": [
       "(50, 3)"
      ]
     },
     "execution_count": 224,
     "metadata": {
      "tags": []
     },
     "output_type": "execute_result"
    }
   ],
   "source": [
    "#check the shape\n",
    "major.shape"
   ]
  },
  {
   "cell_type": "code",
   "execution_count": null,
   "metadata": {
    "colab": {
     "base_uri": "https://localhost:8080/"
    },
    "id": "uwr-_HL_6Cm0",
    "outputId": "1b621679-f33a-4ca5-ddd0-7b9a5e6af4b0"
   },
   "outputs": [
    {
     "data": {
      "text/plain": [
       "major     object\n",
       "type      object\n",
       "salary     int64\n",
       "dtype: object"
      ]
     },
     "execution_count": 225,
     "metadata": {
      "tags": []
     },
     "output_type": "execute_result"
    }
   ],
   "source": [
    "#display the type of the variables \n",
    "major.dtypes"
   ]
  },
  {
   "cell_type": "markdown",
   "metadata": {
    "id": "bfs-9dV86Flx"
   },
   "source": [
    "**(2) Granularity**\n",
    "\n",
    "The granularity of the major dataset is at group-level since each observation represents a group of people (graduates) by a particular major subject and their average starting salary:"
   ]
  },
  {
   "cell_type": "code",
   "execution_count": null,
   "metadata": {
    "colab": {
     "base_uri": "https://localhost:8080/"
    },
    "id": "_WAslRZf6EOG",
    "outputId": "925adbf0-61c2-46cd-945c-d4d01f9db5c7"
   },
   "outputs": [
    {
     "data": {
      "text/plain": [
       "array(['Physician Assistant', 'Chemical Engineering',\n",
       "       'Computer Engineering', 'Electrical Engineering',\n",
       "       'Mechanical Engineering', 'Aerospace Engineering',\n",
       "       'Industrial Engineering', 'Computer Science', 'Nursing',\n",
       "       'Civil Engineering', 'Construction', 'Physics', 'Economics',\n",
       "       'Management Information Systems (MIS)',\n",
       "       'Information Technology (IT)', 'Finance', 'Accounting', 'Math',\n",
       "       'Geology', 'Business Management', 'Agriculture', 'Chemistry',\n",
       "       'Architecture', 'Geography', 'International Relations',\n",
       "       'Political Science', 'Marketing', 'Philosophy', 'Nutrition',\n",
       "       'History', 'Forestry', 'Health Care Administration', 'Biology',\n",
       "       'Communications', 'English', 'Film', 'Hospitality & Tourism',\n",
       "       'Anthropology', 'Sociology', 'Interior Design', 'Psychology',\n",
       "       'Music', 'Drama', 'Art History', 'Graphic Design', 'Journalism',\n",
       "       'Criminal Justice', 'Education', 'Religion', 'Spanish'],\n",
       "      dtype=object)"
      ]
     },
     "execution_count": 226,
     "metadata": {
      "tags": []
     },
     "output_type": "execute_result"
    }
   ],
   "source": [
    "#display those majors\n",
    "major['major'].unique()"
   ]
  },
  {
   "cell_type": "code",
   "execution_count": null,
   "metadata": {
    "colab": {
     "base_uri": "https://localhost:8080/"
    },
    "id": "PdRs8SpbkdIu",
    "outputId": "2f11ea50-43c7-4bef-b208-2dd3ad6357ae"
   },
   "outputs": [
    {
     "data": {
      "text/plain": [
       "Social Sci/Lit/Lang    18\n",
       "Math & Sci             11\n",
       "Engineering & Tech     10\n",
       "Arts                    7\n",
       "Business                4\n",
       "Name: type, dtype: int64"
      ]
     },
     "execution_count": 227,
     "metadata": {
      "tags": []
     },
     "output_type": "execute_result"
    }
   ],
   "source": [
    "#check the number of each type of major \n",
    "major['type'].value_counts()"
   ]
  },
  {
   "cell_type": "markdown",
   "metadata": {
    "id": "NAy_cP0X6H1_"
   },
   "source": [
    "**(3) Scope**\n",
    "\n",
    "The dataset matches our research question as it presents the starting salary of each undergraduate major subject which allows us to discover the impact of major on starting salary as we moving forward. "
   ]
  },
  {
   "cell_type": "markdown",
   "metadata": {
    "id": "yBOKou5j6QIv"
   },
   "source": [
    "**(4)  Temporality**\n",
    "\n",
    "Although the dataset does not include the timestamp, the related article about the dataset, \"Ivy Leaguers' Big Edge: Starting Pay\" by Sarah E. Needleman was published in 2008, and it mentions the data were collected over 10 years (trend study)."
   ]
  },
  {
   "cell_type": "markdown",
   "metadata": {
    "id": "9otjMaX06UAd"
   },
   "source": [
    "**(5) Faithfulness**\n",
    "\n",
    "The data are collected from 1.2 million graduates with bachelor's degrees by PayScale Inc. (Sarah E. Needleman) through survey. Since the data are integrated by WSJ and PayScale,inc. and it shows that the dataset does not contain any null values, so we could assume that the data are credible:"
   ]
  },
  {
   "cell_type": "code",
   "execution_count": null,
   "metadata": {
    "colab": {
     "base_uri": "https://localhost:8080/"
    },
    "id": "9qGdYN116bMp",
    "outputId": "a57cf6d6-f11e-4e10-a613-cefd97cb0c03"
   },
   "outputs": [
    {
     "data": {
      "text/plain": [
       "False"
      ]
     },
     "execution_count": 228,
     "metadata": {
      "tags": []
     },
     "output_type": "execute_result"
    }
   ],
   "source": [
    "#check for NaN values \n",
    "major['major'].hasnans"
   ]
  },
  {
   "cell_type": "markdown",
   "metadata": {
    "id": "Px4f1osX6eRq"
   },
   "source": [
    "Now, we can take a look at the stats of the dataset and plotting the data:"
   ]
  },
  {
   "cell_type": "code",
   "execution_count": null,
   "metadata": {
    "colab": {
     "base_uri": "https://localhost:8080/",
     "height": 390
    },
    "id": "1ffCVS-56e6P",
    "outputId": "6c8bdd3d-a883-47d4-c90d-0fa5e06a7b67"
   },
   "outputs": [
    {
     "data": {
      "text/html": [
       "<div>\n",
       "<style scoped>\n",
       "    .dataframe tbody tr th:only-of-type {\n",
       "        vertical-align: middle;\n",
       "    }\n",
       "\n",
       "    .dataframe tbody tr th {\n",
       "        vertical-align: top;\n",
       "    }\n",
       "\n",
       "    .dataframe thead th {\n",
       "        text-align: right;\n",
       "    }\n",
       "</style>\n",
       "<table border=\"1\" class=\"dataframe\">\n",
       "  <thead>\n",
       "    <tr style=\"text-align: right;\">\n",
       "      <th></th>\n",
       "      <th>major</th>\n",
       "      <th>type</th>\n",
       "      <th>salary</th>\n",
       "    </tr>\n",
       "  </thead>\n",
       "  <tbody>\n",
       "    <tr>\n",
       "      <th>count</th>\n",
       "      <td>50</td>\n",
       "      <td>50</td>\n",
       "      <td>50.000000</td>\n",
       "    </tr>\n",
       "    <tr>\n",
       "      <th>unique</th>\n",
       "      <td>50</td>\n",
       "      <td>5</td>\n",
       "      <td>NaN</td>\n",
       "    </tr>\n",
       "    <tr>\n",
       "      <th>top</th>\n",
       "      <td>Computer Science</td>\n",
       "      <td>Social Sci/Lit/Lang</td>\n",
       "      <td>NaN</td>\n",
       "    </tr>\n",
       "    <tr>\n",
       "      <th>freq</th>\n",
       "      <td>1</td>\n",
       "      <td>18</td>\n",
       "      <td>NaN</td>\n",
       "    </tr>\n",
       "    <tr>\n",
       "      <th>mean</th>\n",
       "      <td>NaN</td>\n",
       "      <td>NaN</td>\n",
       "      <td>44310.000000</td>\n",
       "    </tr>\n",
       "    <tr>\n",
       "      <th>std</th>\n",
       "      <td>NaN</td>\n",
       "      <td>NaN</td>\n",
       "      <td>9360.866217</td>\n",
       "    </tr>\n",
       "    <tr>\n",
       "      <th>min</th>\n",
       "      <td>NaN</td>\n",
       "      <td>NaN</td>\n",
       "      <td>34000.000000</td>\n",
       "    </tr>\n",
       "    <tr>\n",
       "      <th>25%</th>\n",
       "      <td>NaN</td>\n",
       "      <td>NaN</td>\n",
       "      <td>37050.000000</td>\n",
       "    </tr>\n",
       "    <tr>\n",
       "      <th>50%</th>\n",
       "      <td>NaN</td>\n",
       "      <td>NaN</td>\n",
       "      <td>40850.000000</td>\n",
       "    </tr>\n",
       "    <tr>\n",
       "      <th>75%</th>\n",
       "      <td>NaN</td>\n",
       "      <td>NaN</td>\n",
       "      <td>49875.000000</td>\n",
       "    </tr>\n",
       "    <tr>\n",
       "      <th>max</th>\n",
       "      <td>NaN</td>\n",
       "      <td>NaN</td>\n",
       "      <td>74300.000000</td>\n",
       "    </tr>\n",
       "  </tbody>\n",
       "</table>\n",
       "</div>"
      ],
      "text/plain": [
       "                   major                 type        salary\n",
       "count                 50                   50     50.000000\n",
       "unique                50                    5           NaN\n",
       "top     Computer Science  Social Sci/Lit/Lang           NaN\n",
       "freq                   1                   18           NaN\n",
       "mean                 NaN                  NaN  44310.000000\n",
       "std                  NaN                  NaN   9360.866217\n",
       "min                  NaN                  NaN  34000.000000\n",
       "25%                  NaN                  NaN  37050.000000\n",
       "50%                  NaN                  NaN  40850.000000\n",
       "75%                  NaN                  NaN  49875.000000\n",
       "max                  NaN                  NaN  74300.000000"
      ]
     },
     "execution_count": 229,
     "metadata": {
      "tags": []
     },
     "output_type": "execute_result"
    }
   ],
   "source": [
    "# look at stats of the major dataset\n",
    "major.describe(include='all')"
   ]
  },
  {
   "cell_type": "markdown",
   "metadata": {
    "id": "IA-KkHs-6jK1"
   },
   "source": [
    "The stats above shows there are 50 different major subjects. As we categorized the major into 5 groups, it shows Social Sci/Lit/Lang is the most frequent major type among others which has 18 major subjects within it. \n",
    "It also shows that the mean of the starting salary is 44310, the maximum of the salary is 74300 and the minimum is 34000. \n",
    "\n",
    "We can now visualize the distributions and the relationship of the variables through the barplot and boxplot below: "
   ]
  },
  {
   "cell_type": "code",
   "execution_count": null,
   "metadata": {
    "colab": {
     "base_uri": "https://localhost:8080/",
     "height": 478
    },
    "id": "mD7QsOGY6j-f",
    "outputId": "1f19dc05-9183-42fd-9d32-43f9c104b45c"
   },
   "outputs": [
    {
     "data": {
      "image/png": "[encoded data removed]",
      "text/plain": [
       "<Figure size 1440x1080 with 1 Axes>"
      ]
     },
     "metadata": {
      "tags": []
     },
     "output_type": "display_data"
    }
   ],
   "source": [
    "#display the Salary of Major barplot \n",
    "plt.figure(figsize=(20, 15))\n",
    "major_salary = sns.barplot(x='salary', y='major', data=major);\n",
    "major_salary.set_title('Salary of Major');"
   ]
  },
  {
   "cell_type": "markdown",
   "metadata": {
    "id": "QDJqGsV8wY9q"
   },
   "source": [
    "Based on the barplot above, it shows that Physician Assistant has the highest salary while major in Spanish has the lowest. "
   ]
  },
  {
   "cell_type": "code",
   "execution_count": null,
   "metadata": {
    "colab": {
     "base_uri": "https://localhost:8080/",
     "height": 463
    },
    "id": "nqqDbBrKBCMe",
    "outputId": "58c403c5-a7f6-4a84-989a-257245b13d60"
   },
   "outputs": [
    {
     "data": {
      "image/png": "[encoded data removed]",
      "text/plain": [
       "<Figure size 936x576 with 1 Axes>"
      ]
     },
     "metadata": {
      "tags": []
     },
     "output_type": "display_data"
    }
   ],
   "source": [
    "#display boxplot of salary of major type \n",
    "plt.figure(figsize=(13, 8))\n",
    "major_type = sns.boxplot(x='type', y='salary', data=major)\n",
    "major_type.set_title('Salary of Major Type');"
   ]
  },
  {
   "cell_type": "markdown",
   "metadata": {
    "id": "m3xureh_6omN"
   },
   "source": [
    "Although Math & Sci subgroup contains one major subject that has the highest salary (at around 74000), Engineering & Tech group seems to have the highest average starting salary among other subgroups from around 49000 to 64000 dollar based on the boxplot above.\n",
    "\n",
    "\n",
    "Then, we can plot the data using boxplot to check if there are any wild outliers and find their approximate location: "
   ]
  },
  {
   "cell_type": "code",
   "execution_count": null,
   "metadata": {
    "colab": {
     "base_uri": "https://localhost:8080/",
     "height": 279
    },
    "id": "_cqQwleE6v8P",
    "outputId": "3acb03f4-2fdb-456f-ed53-b610177a8e74"
   },
   "outputs": [
    {
     "data": {
      "image/png": "[encoded data removed]",
      "text/plain": [
       "<Figure size 432x288 with 1 Axes>"
      ]
     },
     "metadata": {
      "tags": []
     },
     "output_type": "display_data"
    }
   ],
   "source": [
    "#approximately locate the outliers using boxplot\n",
    "sns.boxplot(x='salary', data=major);"
   ]
  },
  {
   "cell_type": "markdown",
   "metadata": {
    "id": "U0RAtnIC6yvv"
   },
   "source": [
    "Through plotting the data into a boxplot, it seems it has only one outlier within the salary data. To discover its exact location and filter out the outlier, we utilize the 0.01 and 0.99 quantiles method below:"
   ]
  },
  {
   "cell_type": "code",
   "execution_count": null,
   "metadata": {
    "colab": {
     "base_uri": "https://localhost:8080/"
    },
    "id": "1qFVQHHu60Vn",
    "outputId": "c05af035-a001-465a-9055-f90c5c487b13"
   },
   "outputs": [
    {
     "data": {
      "text/plain": [
       "(68860.99999999999, 34049.0)"
      ]
     },
     "execution_count": 233,
     "metadata": {
      "tags": []
     },
     "output_type": "execute_result"
    }
   ],
   "source": [
    "#apply quantiles method  \n",
    "lower= major['salary'].quantile(0.01)\n",
    "upper = major['salary'].quantile(0.99)\n",
    "upper,lower"
   ]
  },
  {
   "cell_type": "code",
   "execution_count": null,
   "metadata": {
    "id": "mGvTFdSp62Ou"
   },
   "outputs": [],
   "source": [
    "#filter the outlier \n",
    "major_wo_outlier = major[(major['salary'] >= lower)&(major['salary'] <= upper)]"
   ]
  },
  {
   "cell_type": "markdown",
   "metadata": {
    "id": "W_4kDT5D64kK"
   },
   "source": [
    "Now, we can look at the differences in the distribution of the major subgroups between the dataset with and without the outlier by displaying the boxplots: "
   ]
  },
  {
   "cell_type": "code",
   "execution_count": null,
   "metadata": {
    "colab": {
     "base_uri": "https://localhost:8080/",
     "height": 311
    },
    "id": "fGoMndOb67Ue",
    "outputId": "d632a0c0-dcb0-4b49-d10b-97d448dbdb1c"
   },
   "outputs": [
    {
     "data": {
      "image/png": "[encoded data removed]",
      "text/plain": [
       "<Figure size 1800x720 with 2 Axes>"
      ]
     },
     "metadata": {
      "tags": []
     },
     "output_type": "display_data"
    }
   ],
   "source": [
    "#compare two boxplots based on the outliers\n",
    "fig,(ax1,ax2) = plt.subplots(1,2, figsize=(25,10))\n",
    "\n",
    "sns.boxplot(ax=ax1, data=major, x='type', y='salary')\n",
    "ax1.set_title('With Outliers on Salary')\n",
    "ax1.set(xlabel='Major Type', ylabel='Salary')\n",
    "\n",
    "sns.boxplot(ax=ax2, data=major_wo_outlier, x='type', y='salary')\n",
    "ax2.set_title('Without Outliers on Salary')\n",
    "ax2.set(xlabel='Major Type', ylabel='Salary');"
   ]
  },
  {
   "cell_type": "markdown",
   "metadata": {
    "id": "IcIkT-6KLDCx"
   },
   "source": [
    "We can see that the distribution has changed when the outliers are removed. \n",
    "The major type that has the highest salary becomes Engineering & Tech instead of Math & Sci when we excluded the outliers. However, we believe that the outlier seems to have significant meaning to our analysis, so we decide to plot  both dataframes and temporarily keep the dataframe that without the outliers for our further analysis.\n",
    "\n"
   ]
  },
  {
   "cell_type": "markdown",
   "metadata": {
    "id": "fIZ3ut2_RdUR"
   },
   "source": [
    "###College Quality"
   ]
  },
  {
   "cell_type": "markdown",
   "metadata": {
    "id": "Kg4w3R3MMBNf"
   },
   "source": [
    "**(1) Structure**"
   ]
  },
  {
   "cell_type": "code",
   "execution_count": null,
   "metadata": {
    "colab": {
     "base_uri": "https://localhost:8080/",
     "height": 204
    },
    "id": "V0XwkzkZMU96",
    "outputId": "9e97e67e-cb9b-4599-a349-9e50faba2409"
   },
   "outputs": [
    {
     "data": {
      "text/html": [
       "<div>\n",
       "<style scoped>\n",
       "    .dataframe tbody tr th:only-of-type {\n",
       "        vertical-align: middle;\n",
       "    }\n",
       "\n",
       "    .dataframe tbody tr th {\n",
       "        vertical-align: top;\n",
       "    }\n",
       "\n",
       "    .dataframe thead th {\n",
       "        text-align: right;\n",
       "    }\n",
       "</style>\n",
       "<table border=\"1\" class=\"dataframe\">\n",
       "  <thead>\n",
       "    <tr style=\"text-align: right;\">\n",
       "      <th></th>\n",
       "      <th>name</th>\n",
       "      <th>salary</th>\n",
       "      <th>rank</th>\n",
       "    </tr>\n",
       "  </thead>\n",
       "  <tbody>\n",
       "    <tr>\n",
       "      <th>0</th>\n",
       "      <td>california institute of technology</td>\n",
       "      <td>75500</td>\n",
       "      <td>1</td>\n",
       "    </tr>\n",
       "    <tr>\n",
       "      <th>1</th>\n",
       "      <td>massachusetts institute of technology</td>\n",
       "      <td>72200</td>\n",
       "      <td>5</td>\n",
       "    </tr>\n",
       "    <tr>\n",
       "      <th>2</th>\n",
       "      <td>princeton university</td>\n",
       "      <td>66500</td>\n",
       "      <td>7</td>\n",
       "    </tr>\n",
       "    <tr>\n",
       "      <th>3</th>\n",
       "      <td>harvard university</td>\n",
       "      <td>63400</td>\n",
       "      <td>6</td>\n",
       "    </tr>\n",
       "    <tr>\n",
       "      <th>4</th>\n",
       "      <td>carnegie mellon university</td>\n",
       "      <td>61800</td>\n",
       "      <td>22</td>\n",
       "    </tr>\n",
       "  </tbody>\n",
       "</table>\n",
       "</div>"
      ],
      "text/plain": [
       "                                    name  salary  rank\n",
       "0     california institute of technology   75500     1\n",
       "1  massachusetts institute of technology   72200     5\n",
       "2                   princeton university   66500     7\n",
       "3                     harvard university   63400     6\n",
       "4             carnegie mellon university   61800    22"
      ]
     },
     "execution_count": 20,
     "metadata": {
      "tags": []
     },
     "output_type": "execute_result"
    }
   ],
   "source": [
    "# check for the shape of the dataset\n",
    "quality.head()"
   ]
  },
  {
   "cell_type": "code",
   "execution_count": null,
   "metadata": {
    "colab": {
     "base_uri": "https://localhost:8080/"
    },
    "id": "QhWHWwz6IpCK",
    "outputId": "b40bb1fe-1a20-4da4-e7cc-972f73660e14"
   },
   "outputs": [
    {
     "name": "stdout",
     "output_type": "stream",
     "text": [
      "False False False\n"
     ]
    }
   ],
   "source": [
    "# check for missing values in the quality dataset\n",
    "print(quality['name'].hasnans, quality['salary'].hasnans, quality['rank'].hasnans)"
   ]
  },
  {
   "cell_type": "markdown",
   "metadata": {
    "id": "viCRVpl3MXu_"
   },
   "source": [
    "we could see that this is tabular data with observations in rows and variables in columns, and the data is stored in a single dataset."
   ]
  },
  {
   "cell_type": "markdown",
   "metadata": {
    "id": "geRKVn9NNGd0"
   },
   "source": [
    "**(2) Granularity**\n",
    "\n",
    "This dataset is considered to have a group-level granularity since the salary data is acquired by summarizing information of multiple graduates from the college."
   ]
  },
  {
   "cell_type": "markdown",
   "metadata": {
    "id": "-pQAIWkSN_Uu"
   },
   "source": [
    "**(3) Scope**\n",
    "\n",
    "The description of the original college_df dataset states that the data is collected from bacholar's degree graduates from U.S. colleges. This fits with our research question as it aims to investigate the starting salary of college graduates in the United States. The other dataset used is rank_df, which provides world rank information of different colleges, some of which are included in the college_df, and thus covering the college quality part of our research question."
   ]
  },
  {
   "cell_type": "markdown",
   "metadata": {
    "id": "Rp5XBb3OPwWa"
   },
   "source": [
    "**(4) Temporality**\n",
    "\n",
    "The dataframe itself does not contain any timestamps, but the rank_df contains ranks for years 2011 to 2016. We chose the newest ranking, which is 2016, so the rankings in quality are from 2016. "
   ]
  },
  {
   "cell_type": "markdown",
   "metadata": {
    "id": "dbMAZJrZPzBc"
   },
   "source": [
    "**(5) Faithfulness**\n",
    "\n",
    "The college dataframe contains 269 real universities, and the ranking dataframe contains 799 college rankings; after merging the two dataframes, quality contains 90 observations. The universities are all real universities, and the college rankings are similar to what we expected. Therefore, the data is faithful. "
   ]
  },
  {
   "cell_type": "code",
   "execution_count": null,
   "metadata": {
    "colab": {
     "base_uri": "https://localhost:8080/"
    },
    "id": "4iEuanCUUw_e",
    "outputId": "cf0a1dbf-c950-4a79-d5ec-0a27c128836b"
   },
   "outputs": [
    {
     "name": "stdout",
     "output_type": "stream",
     "text": [
      "269 799 90\n"
     ]
    }
   ],
   "source": [
    "print(len(college_df), len(exact_rank_df), len(quality))"
   ]
  },
  {
   "cell_type": "markdown",
   "metadata": {
    "id": "_FYYEKfEP9et"
   },
   "source": [
    "After going over the five properties of quality dataset, we will then look at some of its basic statistics:"
   ]
  },
  {
   "cell_type": "code",
   "execution_count": null,
   "metadata": {
    "colab": {
     "base_uri": "https://localhost:8080/",
     "height": 297
    },
    "id": "CTgrX6GHIlGR",
    "outputId": "cdddd550-c051-476f-dffa-67f56d8cab8c"
   },
   "outputs": [
    {
     "data": {
      "text/html": [
       "<div>\n",
       "<style scoped>\n",
       "    .dataframe tbody tr th:only-of-type {\n",
       "        vertical-align: middle;\n",
       "    }\n",
       "\n",
       "    .dataframe tbody tr th {\n",
       "        vertical-align: top;\n",
       "    }\n",
       "\n",
       "    .dataframe thead th {\n",
       "        text-align: right;\n",
       "    }\n",
       "</style>\n",
       "<table border=\"1\" class=\"dataframe\">\n",
       "  <thead>\n",
       "    <tr style=\"text-align: right;\">\n",
       "      <th></th>\n",
       "      <th>salary</th>\n",
       "      <th>rank</th>\n",
       "    </tr>\n",
       "  </thead>\n",
       "  <tbody>\n",
       "    <tr>\n",
       "      <th>count</th>\n",
       "      <td>90.000000</td>\n",
       "      <td>90.000000</td>\n",
       "    </tr>\n",
       "    <tr>\n",
       "      <th>mean</th>\n",
       "      <td>48823.333333</td>\n",
       "      <td>259.266667</td>\n",
       "    </tr>\n",
       "    <tr>\n",
       "      <th>std</th>\n",
       "      <td>7127.980157</td>\n",
       "      <td>208.165762</td>\n",
       "    </tr>\n",
       "    <tr>\n",
       "      <th>min</th>\n",
       "      <td>37300.000000</td>\n",
       "      <td>1.000000</td>\n",
       "    </tr>\n",
       "    <tr>\n",
       "      <th>25%</th>\n",
       "      <td>44150.000000</td>\n",
       "      <td>75.000000</td>\n",
       "    </tr>\n",
       "    <tr>\n",
       "      <th>50%</th>\n",
       "      <td>46950.000000</td>\n",
       "      <td>221.000000</td>\n",
       "    </tr>\n",
       "    <tr>\n",
       "      <th>75%</th>\n",
       "      <td>51850.000000</td>\n",
       "      <td>398.250000</td>\n",
       "    </tr>\n",
       "    <tr>\n",
       "      <th>max</th>\n",
       "      <td>75500.000000</td>\n",
       "      <td>772.000000</td>\n",
       "    </tr>\n",
       "  </tbody>\n",
       "</table>\n",
       "</div>"
      ],
      "text/plain": [
       "             salary        rank\n",
       "count     90.000000   90.000000\n",
       "mean   48823.333333  259.266667\n",
       "std     7127.980157  208.165762\n",
       "min    37300.000000    1.000000\n",
       "25%    44150.000000   75.000000\n",
       "50%    46950.000000  221.000000\n",
       "75%    51850.000000  398.250000\n",
       "max    75500.000000  772.000000"
      ]
     },
     "execution_count": 23,
     "metadata": {
      "tags": []
     },
     "output_type": "execute_result"
    }
   ],
   "source": [
    "# look at stats of the quality dataset\n",
    "quality.describe()"
   ]
  },
  {
   "cell_type": "markdown",
   "metadata": {
    "id": "DlrRUxQRQNhR"
   },
   "source": [
    "We have two variables in our dataset, the first one is the rank of the college and the second one is the median starting salary of that college. We try to visualize the relationship between these two variables:"
   ]
  },
  {
   "cell_type": "code",
   "execution_count": null,
   "metadata": {
    "colab": {
     "base_uri": "https://localhost:8080/",
     "height": 294
    },
    "id": "fJGxUjhEIsjw",
    "outputId": "a0dde912-0923-445d-9263-58a391dcab11"
   },
   "outputs": [
    {
     "data": {
      "image/png": "[encoded data removed]",
      "text/plain": [
       "<Figure size 432x288 with 4 Axes>"
      ]
     },
     "metadata": {
      "needs_background": "light",
      "tags": []
     },
     "output_type": "display_data"
    }
   ],
   "source": [
    "# visualize the scatterplot of rank and salary\n",
    "pd.plotting.scatter_matrix(quality);"
   ]
  },
  {
   "cell_type": "markdown",
   "metadata": {
    "id": "5cZp8MpSQoAK"
   },
   "source": [
    "The trend seems vaguely linear, but there seems to be some outliers in the salary column. A histogram could be used to further look into the distribution:"
   ]
  },
  {
   "cell_type": "code",
   "execution_count": null,
   "metadata": {
    "colab": {
     "base_uri": "https://localhost:8080/",
     "height": 279
    },
    "id": "H93QGux7IxFt",
    "outputId": "f49cc560-8f96-4a65-df54-0a61489f2eea"
   },
   "outputs": [
    {
     "data": {
      "image/png": "[encoded data removed]",
      "text/plain": [
       "<Figure size 432x288 with 1 Axes>"
      ]
     },
     "metadata": {
      "needs_background": "light",
      "tags": []
     },
     "output_type": "display_data"
    }
   ],
   "source": [
    "# plot a histogram of salary\n",
    "sns.histplot(quality['salary'], kde=True);"
   ]
  },
  {
   "cell_type": "markdown",
   "metadata": {
    "id": "z2_e_yVdQ96d"
   },
   "source": [
    "The distribution skews to the right. A box plot could be used to locate the outliers:"
   ]
  },
  {
   "cell_type": "code",
   "execution_count": null,
   "metadata": {
    "colab": {
     "base_uri": "https://localhost:8080/",
     "height": 279
    },
    "id": "AYmiH3NuI2lx",
    "outputId": "619c9c3e-b323-46f2-a6b4-07e3ce1ffd11"
   },
   "outputs": [
    {
     "data": {
      "image/png": "[encoded data removed]",
      "text/plain": [
       "<Figure size 432x288 with 1 Axes>"
      ]
     },
     "metadata": {
      "needs_background": "light",
      "tags": []
     },
     "output_type": "display_data"
    }
   ],
   "source": [
    "# plot a box plot to locate potential outliers\n",
    "sns.boxplot(x='salary', data=quality);"
   ]
  },
  {
   "cell_type": "markdown",
   "metadata": {
    "id": "3nCGs12LRele"
   },
   "source": [
    "It seems clear that there are three outliers exceeding the upper threshold and no outliers on the lower side. Calculation is needed to find the exact value for the upper and lower boundaries."
   ]
  },
  {
   "cell_type": "code",
   "execution_count": null,
   "metadata": {
    "colab": {
     "base_uri": "https://localhost:8080/"
    },
    "id": "59Se_WMPJMT5",
    "outputId": "41c7a99e-b142-4712-8519-3cbe13b7a178"
   },
   "outputs": [
    {
     "name": "stdout",
     "output_type": "stream",
     "text": [
      "44150.0 51850.0 7700.0\n"
     ]
    }
   ],
   "source": [
    "# calculate the quantiles and IQR of salary\n",
    "Q1 = quality['salary'].quantile(0.25)\n",
    "Q3 = quality['salary'].quantile(0.75)\n",
    "IQR = Q3 - Q1\n",
    "print(Q1, Q3, IQR)"
   ]
  },
  {
   "cell_type": "code",
   "execution_count": null,
   "metadata": {
    "colab": {
     "base_uri": "https://localhost:8080/"
    },
    "id": "r0_dzAR4JVrW",
    "outputId": "b95894da-4d1d-4308-9853-ef12f38e15fa"
   },
   "outputs": [
    {
     "name": "stdout",
     "output_type": "stream",
     "text": [
      "32600.0 63400.0\n"
     ]
    }
   ],
   "source": [
    "# calculate boundaries for outliers\n",
    "lower = Q1 - 1.5 * IQR\n",
    "upper = Q3 + 1.5 * IQR\n",
    "print(lower, upper)"
   ]
  },
  {
   "cell_type": "markdown",
   "metadata": {
    "id": "z5pq85IKR61q"
   },
   "source": [
    "After we get the boundaries, we could slice out the rows with salaries outliers to see if the information presented in the box plot makes sense."
   ]
  },
  {
   "cell_type": "code",
   "execution_count": null,
   "metadata": {
    "colab": {
     "base_uri": "https://localhost:8080/",
     "height": 49
    },
    "id": "LobYilD9JXTL",
    "outputId": "de64597f-3001-4d60-c4b5-b2fe19d34230"
   },
   "outputs": [
    {
     "data": {
      "text/html": [
       "<div>\n",
       "<style scoped>\n",
       "    .dataframe tbody tr th:only-of-type {\n",
       "        vertical-align: middle;\n",
       "    }\n",
       "\n",
       "    .dataframe tbody tr th {\n",
       "        vertical-align: top;\n",
       "    }\n",
       "\n",
       "    .dataframe thead th {\n",
       "        text-align: right;\n",
       "    }\n",
       "</style>\n",
       "<table border=\"1\" class=\"dataframe\">\n",
       "  <thead>\n",
       "    <tr style=\"text-align: right;\">\n",
       "      <th></th>\n",
       "      <th>name</th>\n",
       "      <th>salary</th>\n",
       "      <th>rank</th>\n",
       "    </tr>\n",
       "  </thead>\n",
       "  <tbody>\n",
       "  </tbody>\n",
       "</table>\n",
       "</div>"
      ],
      "text/plain": [
       "Empty DataFrame\n",
       "Columns: [name, salary, rank]\n",
       "Index: []"
      ]
     },
     "execution_count": 29,
     "metadata": {
      "tags": []
     },
     "output_type": "execute_result"
    }
   ],
   "source": [
    "# try to locate any lower ourliers\n",
    "quality_lower_outliers = quality[quality['salary'] < lower]\n",
    "quality_lower_outliers"
   ]
  },
  {
   "cell_type": "code",
   "execution_count": null,
   "metadata": {
    "colab": {
     "base_uri": "https://localhost:8080/",
     "height": 142
    },
    "id": "6X3qO2pOJanh",
    "outputId": "c0fe7f5e-26fc-44f0-eae8-562b48518eb7"
   },
   "outputs": [
    {
     "data": {
      "text/html": [
       "<div>\n",
       "<style scoped>\n",
       "    .dataframe tbody tr th:only-of-type {\n",
       "        vertical-align: middle;\n",
       "    }\n",
       "\n",
       "    .dataframe tbody tr th {\n",
       "        vertical-align: top;\n",
       "    }\n",
       "\n",
       "    .dataframe thead th {\n",
       "        text-align: right;\n",
       "    }\n",
       "</style>\n",
       "<table border=\"1\" class=\"dataframe\">\n",
       "  <thead>\n",
       "    <tr style=\"text-align: right;\">\n",
       "      <th></th>\n",
       "      <th>name</th>\n",
       "      <th>salary</th>\n",
       "      <th>rank</th>\n",
       "    </tr>\n",
       "  </thead>\n",
       "  <tbody>\n",
       "    <tr>\n",
       "      <th>0</th>\n",
       "      <td>california institute of technology</td>\n",
       "      <td>75500</td>\n",
       "      <td>1</td>\n",
       "    </tr>\n",
       "    <tr>\n",
       "      <th>1</th>\n",
       "      <td>massachusetts institute of technology</td>\n",
       "      <td>72200</td>\n",
       "      <td>5</td>\n",
       "    </tr>\n",
       "    <tr>\n",
       "      <th>2</th>\n",
       "      <td>princeton university</td>\n",
       "      <td>66500</td>\n",
       "      <td>7</td>\n",
       "    </tr>\n",
       "  </tbody>\n",
       "</table>\n",
       "</div>"
      ],
      "text/plain": [
       "                                    name  salary  rank\n",
       "0     california institute of technology   75500     1\n",
       "1  massachusetts institute of technology   72200     5\n",
       "2                   princeton university   66500     7"
      ]
     },
     "execution_count": 30,
     "metadata": {
      "tags": []
     },
     "output_type": "execute_result"
    }
   ],
   "source": [
    "# try to locate any upper ourliers\n",
    "quality_upper_outliers = quality[quality['salary'] > upper]\n",
    "quality_upper_outliers"
   ]
  },
  {
   "cell_type": "markdown",
   "metadata": {
    "id": "vjmR6ZVoSI2q"
   },
   "source": [
    "This helps us to find three outliers on the upper side and no outliers on the lower side, which fits in with what we got from the box plot.\n",
    "\n",
    "These outliers are valuable for further exploration, but they can be misleading when we are trying to find the overall trend. We consider temporarily excluding them from our dataset to get a clearer view on the distribution of salary:"
   ]
  },
  {
   "cell_type": "code",
   "execution_count": null,
   "metadata": {
    "colab": {
     "base_uri": "https://localhost:8080/",
     "height": 279
    },
    "id": "RzU12AlpJdGV",
    "outputId": "32623072-9a1a-4699-e8e3-47b2c00936f4"
   },
   "outputs": [
    {
     "data": {
      "image/png": "[encoded data removed]",
      "text/plain": [
       "<Figure size 432x288 with 1 Axes>"
      ]
     },
     "metadata": {
      "needs_background": "light",
      "tags": []
     },
     "output_type": "display_data"
    }
   ],
   "source": [
    "# exclude the outliers and check out the distribution again\n",
    "no_outlier_quality = quality[quality['salary'] <= upper]\n",
    "sns.histplot(no_outlier_quality['salary'], kde=True, bins=10);"
   ]
  },
  {
   "cell_type": "markdown",
   "metadata": {
    "id": "_31Up33KTFwo"
   },
   "source": [
    "The histogram now shows a bimodal distribution. We try to separate the two modes and find each of their relationships with respect to rank."
   ]
  },
  {
   "cell_type": "code",
   "execution_count": null,
   "metadata": {
    "colab": {
     "base_uri": "https://localhost:8080/"
    },
    "id": "vUlkItCzJ73f",
    "outputId": "d144d842-eb7b-488f-aa07-63c11b911599"
   },
   "outputs": [
    {
     "data": {
      "text/plain": [
       "(37273.9, 39910.0]     2\n",
       "(39910.0, 42520.0]    10\n",
       "(42520.0, 45130.0]    20\n",
       "(45130.0, 47740.0]    21\n",
       "(47740.0, 50350.0]    10\n",
       "(50350.0, 52960.0]    11\n",
       "(52960.0, 55570.0]     1\n",
       "(55570.0, 58180.0]     3\n",
       "(58180.0, 60790.0]     5\n",
       "(60790.0, 63400.0]     4\n",
       "Name: salary, dtype: int64"
      ]
     },
     "execution_count": 32,
     "metadata": {
      "tags": []
     },
     "output_type": "execute_result"
    }
   ],
   "source": [
    "#dataframe showing the results of the histogram\n",
    "bimodal_df = pd.cut(no_outlier_quality['salary'], bins = 10).value_counts(sort=False)\n",
    "bimodal_df"
   ]
  },
  {
   "cell_type": "markdown",
   "metadata": {
    "id": "dozEyFI42ruV"
   },
   "source": [
    "From the histogram and dataframe above, we will split the dataset into two. One will be a salary below 52960, and the other will be a salary above 52960. "
   ]
  },
  {
   "cell_type": "code",
   "execution_count": null,
   "metadata": {
    "id": "4Chr09Nry3Re"
   },
   "outputs": [],
   "source": [
    "#splitting quality into two dataframes based on the results above\n",
    "lower_sal_df = no_outlier_quality[no_outlier_quality['salary'] <= 52960.0]\n",
    "upper_sal_df = no_outlier_quality[no_outlier_quality['salary'] > 52960.0]"
   ]
  },
  {
   "cell_type": "code",
   "execution_count": null,
   "metadata": {
    "colab": {
     "base_uri": "https://localhost:8080/",
     "height": 204
    },
    "id": "Cug_eM_F3K-E",
    "outputId": "7c7d3de3-3a83-4db3-da33-9855f51c93b8"
   },
   "outputs": [
    {
     "data": {
      "text/html": [
       "<div>\n",
       "<style scoped>\n",
       "    .dataframe tbody tr th:only-of-type {\n",
       "        vertical-align: middle;\n",
       "    }\n",
       "\n",
       "    .dataframe tbody tr th {\n",
       "        vertical-align: top;\n",
       "    }\n",
       "\n",
       "    .dataframe thead th {\n",
       "        text-align: right;\n",
       "    }\n",
       "</style>\n",
       "<table border=\"1\" class=\"dataframe\">\n",
       "  <thead>\n",
       "    <tr style=\"text-align: right;\">\n",
       "      <th></th>\n",
       "      <th>name</th>\n",
       "      <th>salary</th>\n",
       "      <th>rank</th>\n",
       "    </tr>\n",
       "  </thead>\n",
       "  <tbody>\n",
       "    <tr>\n",
       "      <th>16</th>\n",
       "      <td>university of illinois  urbana-champaign</td>\n",
       "      <td>52900</td>\n",
       "      <td>36</td>\n",
       "    </tr>\n",
       "    <tr>\n",
       "      <th>17</th>\n",
       "      <td>university of illinois  urbana-champaign</td>\n",
       "      <td>52900</td>\n",
       "      <td>36</td>\n",
       "    </tr>\n",
       "    <tr>\n",
       "      <th>18</th>\n",
       "      <td>university of virginia</td>\n",
       "      <td>52700</td>\n",
       "      <td>148</td>\n",
       "    </tr>\n",
       "    <tr>\n",
       "      <th>19</th>\n",
       "      <td>university of michigan</td>\n",
       "      <td>52700</td>\n",
       "      <td>21</td>\n",
       "    </tr>\n",
       "    <tr>\n",
       "      <th>20</th>\n",
       "      <td>university of california davis</td>\n",
       "      <td>52300</td>\n",
       "      <td>44</td>\n",
       "    </tr>\n",
       "  </tbody>\n",
       "</table>\n",
       "</div>"
      ],
      "text/plain": [
       "                                        name  salary  rank\n",
       "16  university of illinois  urbana-champaign   52900    36\n",
       "17  university of illinois  urbana-champaign   52900    36\n",
       "18                    university of virginia   52700   148\n",
       "19                    university of michigan   52700    21\n",
       "20            university of california davis   52300    44"
      ]
     },
     "execution_count": 34,
     "metadata": {
      "tags": []
     },
     "output_type": "execute_result"
    }
   ],
   "source": [
    "lower_sal_df.head()"
   ]
  },
  {
   "cell_type": "code",
   "execution_count": null,
   "metadata": {
    "colab": {
     "base_uri": "https://localhost:8080/",
     "height": 204
    },
    "id": "wvoFivaZ3NoP",
    "outputId": "e8648c0f-fe08-4b97-aac3-c2f1b4e395c8"
   },
   "outputs": [
    {
     "data": {
      "text/html": [
       "<div>\n",
       "<style scoped>\n",
       "    .dataframe tbody tr th:only-of-type {\n",
       "        vertical-align: middle;\n",
       "    }\n",
       "\n",
       "    .dataframe tbody tr th {\n",
       "        vertical-align: top;\n",
       "    }\n",
       "\n",
       "    .dataframe thead th {\n",
       "        text-align: right;\n",
       "    }\n",
       "</style>\n",
       "<table border=\"1\" class=\"dataframe\">\n",
       "  <thead>\n",
       "    <tr style=\"text-align: right;\">\n",
       "      <th></th>\n",
       "      <th>name</th>\n",
       "      <th>salary</th>\n",
       "      <th>rank</th>\n",
       "    </tr>\n",
       "  </thead>\n",
       "  <tbody>\n",
       "    <tr>\n",
       "      <th>3</th>\n",
       "      <td>harvard university</td>\n",
       "      <td>63400</td>\n",
       "      <td>6</td>\n",
       "    </tr>\n",
       "    <tr>\n",
       "      <th>4</th>\n",
       "      <td>carnegie mellon university</td>\n",
       "      <td>61800</td>\n",
       "      <td>22</td>\n",
       "    </tr>\n",
       "    <tr>\n",
       "      <th>5</th>\n",
       "      <td>rensselaer polytechnic institute</td>\n",
       "      <td>61100</td>\n",
       "      <td>286</td>\n",
       "    </tr>\n",
       "    <tr>\n",
       "      <th>6</th>\n",
       "      <td>university of pennsylvania</td>\n",
       "      <td>60900</td>\n",
       "      <td>17</td>\n",
       "    </tr>\n",
       "    <tr>\n",
       "      <th>7</th>\n",
       "      <td>cornell university</td>\n",
       "      <td>60300</td>\n",
       "      <td>18</td>\n",
       "    </tr>\n",
       "  </tbody>\n",
       "</table>\n",
       "</div>"
      ],
      "text/plain": [
       "                               name  salary  rank\n",
       "3                harvard university   63400     6\n",
       "4        carnegie mellon university   61800    22\n",
       "5  rensselaer polytechnic institute   61100   286\n",
       "6        university of pennsylvania   60900    17\n",
       "7                cornell university   60300    18"
      ]
     },
     "execution_count": 35,
     "metadata": {
      "tags": []
     },
     "output_type": "execute_result"
    }
   ],
   "source": [
    "upper_sal_df.head()"
   ]
  },
  {
   "cell_type": "markdown",
   "metadata": {
    "id": "Sa4ZR_T83aif"
   },
   "source": [
    "We will first try to find a relationship between rank and salary for the two separate dataframes. "
   ]
  },
  {
   "cell_type": "code",
   "execution_count": null,
   "metadata": {
    "colab": {
     "base_uri": "https://localhost:8080/",
     "height": 455
    },
    "id": "EUVz3SMc3ggb",
    "outputId": "22dbd7f6-fa12-489d-963b-fe0fb0a69967"
   },
   "outputs": [
    {
     "data": {
      "image/png": "[encoded data removed]",
      "text/plain": [
       "<Figure size 864x432 with 1 Axes>"
      ]
     },
     "metadata": {
      "needs_background": "light",
      "tags": []
     },
     "output_type": "display_data"
    }
   ],
   "source": [
    "# plot scatterplot of smaller mode between rank and salary\n",
    "sns.lmplot(x='rank', y='salary', \n",
    "           data=lower_sal_df, fit_reg=True, \n",
    "           height=6, aspect=2, \n",
    "           x_jitter=.5, y_jitter=.5);"
   ]
  },
  {
   "cell_type": "code",
   "execution_count": null,
   "metadata": {
    "colab": {
     "base_uri": "https://localhost:8080/",
     "height": 455
    },
    "id": "URwyPn9Q3w7h",
    "outputId": "b0070bb1-a59c-479e-e933-36e3ecdfff0e"
   },
   "outputs": [
    {
     "data": {
      "image/png": "[encoded data removed]",
      "text/plain": [
       "<Figure size 864x432 with 1 Axes>"
      ]
     },
     "metadata": {
      "needs_background": "light",
      "tags": []
     },
     "output_type": "display_data"
    }
   ],
   "source": [
    "# plot scatterplot of bigger mode between rank and salary\n",
    "sns.lmplot(x='rank', y='salary', \n",
    "           data=upper_sal_df, fit_reg=True, \n",
    "           height=6, aspect=2, \n",
    "           x_jitter=.5, y_jitter=.5);"
   ]
  },
  {
   "cell_type": "markdown",
   "metadata": {
    "id": "BaZPH7l35NdU"
   },
   "source": [
    "From the two plots above, we see that the dataframe where the first mode occurs shows a somewhat negative correlation between rank and salary, and the datapoints are scattered across the graph. On the other hand, for the dataframe with the higher salaries, most of the ranks are somewhere below 50, with only a few greater than 50. A relationship is not quite evident in this case. Therefore, despite the salary showing a bimodel distribution, we will not be separating the dataset into two for our modeling. "
   ]
  },
  {
   "cell_type": "code",
   "execution_count": null,
   "metadata": {
    "colab": {
     "base_uri": "https://localhost:8080/",
     "height": 434
    },
    "id": "7IKfZI0W34dl",
    "outputId": "e3caaf7f-c794-4334-89da-2c06730fb5a5"
   },
   "outputs": [
    {
     "data": {
      "image/png": "[encoded data removed]",
      "text/plain": [
       "<Figure size 864x432 with 1 Axes>"
      ]
     },
     "metadata": {
      "needs_background": "light",
      "tags": []
     },
     "output_type": "display_data"
    }
   ],
   "source": [
    "# plot scatterplot between rank and salary\n",
    "sns.lmplot(x='rank', y='salary', \n",
    "           data=no_outlier_quality, fit_reg=True, \n",
    "           height=6, aspect=2, \n",
    "           x_jitter=.5, y_jitter=.5);"
   ]
  },
  {
   "cell_type": "markdown",
   "metadata": {
    "id": "Mxy7XGYj6bZX"
   },
   "source": [
    "Using the entire salary distribution, the scatter plot above shows a potential negative correlation between rank and salary. As the university quality becomes lower, the starting median salary also decreases. "
   ]
  },
  {
   "cell_type": "markdown",
   "metadata": {
    "id": "PJhvQ5trR5no"
   },
   "source": [
    "###Gender & Internship Experience"
   ]
  },
  {
   "cell_type": "markdown",
   "metadata": {
    "id": "s9IwvnGSHWVT"
   },
   "source": [
    "**(1) Structure**\n"
   ]
  },
  {
   "cell_type": "code",
   "execution_count": 18,
   "metadata": {
    "colab": {
     "base_uri": "https://localhost:8080/"
    },
    "id": "Tmtd4Sx_HiY3",
    "outputId": "fcd41494-69bf-43b5-b838-c0133b7feef9"
   },
   "outputs": [
    {
     "data": {
      "text/plain": [
       "male      100\n",
       "female     48\n",
       "Name: gender, dtype: int64"
      ]
     },
     "execution_count": 18,
     "metadata": {
      "tags": []
     },
     "output_type": "execute_result"
    }
   ],
   "source": [
    "# look at the amount of each gender\n",
    "gender_df['gender'].value_counts()"
   ]
  },
  {
   "cell_type": "code",
   "execution_count": 19,
   "metadata": {
    "colab": {
     "base_uri": "https://localhost:8080/"
    },
    "id": "v1dA8TFXIEIT",
    "outputId": "d5f00cf2-4f7c-4609-e267-e18d23e5a4a4"
   },
   "outputs": [
    {
     "data": {
      "text/plain": [
       "count        48.000000\n",
       "mean     267291.666667\n",
       "std       75948.178955\n",
       "min      200000.000000\n",
       "25%      219500.000000\n",
       "50%      250000.000000\n",
       "75%      300000.000000\n",
       "max      650000.000000\n",
       "Name: salary, dtype: float64"
      ]
     },
     "execution_count": 19,
     "metadata": {
      "tags": []
     },
     "output_type": "execute_result"
    }
   ],
   "source": [
    "# look at stats of the female \n",
    "gender_df[gender_df['gender']=='female'].salary.describe()"
   ]
  },
  {
   "cell_type": "code",
   "execution_count": 20,
   "metadata": {
    "colab": {
     "base_uri": "https://localhost:8080/"
    },
    "id": "LwA_GygLIGL-",
    "outputId": "9aece653-53ca-49fe-f84e-be480a1c9994"
   },
   "outputs": [
    {
     "data": {
      "text/plain": [
       "count       100.000000\n",
       "mean     298910.000000\n",
       "std       99514.792058\n",
       "min      200000.000000\n",
       "25%      250000.000000\n",
       "50%      270000.000000\n",
       "75%      300000.000000\n",
       "max      940000.000000\n",
       "Name: salary, dtype: float64"
      ]
     },
     "execution_count": 20,
     "metadata": {
      "tags": []
     },
     "output_type": "execute_result"
    }
   ],
   "source": [
    "gender_df[gender_df['gender']=='male'].salary.describe()"
   ]
  },
  {
   "cell_type": "markdown",
   "metadata": {
    "id": "PGfwiT0XI5gy"
   },
   "source": [
    "**(2) Granularity**\n",
    "\n",
    "The granularity of the gender dataset is at group-level since the data stored all the summarized information of group of graduates who have different genders and work experience."
   ]
  },
  {
   "cell_type": "markdown",
   "metadata": {
    "id": "eXYCRjaAJA2q"
   },
   "source": [
    "**(3) Scope**\n",
    "\n",
    "The dataset includes the gender and internship information when presents the salary. And this can help us to continue work on our research question whether gender or work experience influence the starting salary. "
   ]
  },
  {
   "cell_type": "markdown",
   "metadata": {
    "id": "crLlmbD-JDEm"
   },
   "source": [
    "**(4) Temporality**\n",
    "\n",
    "THe dataset doesn't include a timestamp but from the kaggle, it says the dataset was updated a year ago. "
   ]
  },
  {
   "cell_type": "markdown",
   "metadata": {
    "id": "L20DgV5nJFog"
   },
   "source": [
    "**(5) Faithfulness**\n",
    "\n",
    "This data set consists of Placement data of students in an anonymous campus. It includes secondary and higher secondary school percentage and specialization. It also includes degree specialization, type and work experience and salary offers to the placed students. This information is provdied by Dr. Dhimant Ganatara, Professor Jain University. In that case, we can assume that the dataset is faithful."
   ]
  },
  {
   "cell_type": "markdown",
   "metadata": {
    "id": "IqpqUnLgJN2N"
   },
   "source": [
    "By observing those data, we can find that the mean value of the male's salary is slightly higher than the female's. The min value and the 75% value for each group are the same, but the 25% value and the 50% value for the male group is higher than the female group. This can be explained by that the female's salary is kind of concentrated in the lower range."
   ]
  },
  {
   "cell_type": "code",
   "execution_count": 21,
   "metadata": {
    "colab": {
     "base_uri": "https://localhost:8080/",
     "height": 877
    },
    "id": "pq-BRlc9I3fy",
    "outputId": "110edb76-dc52-469d-ee56-cf0dfd971823"
   },
   "outputs": [
    {
     "data": {
      "image/png": "[encoded data removed]",
      "text/plain": [
       "<Figure size 1440x1080 with 1 Axes>"
      ]
     },
     "metadata": {
      "needs_background": "light",
      "tags": []
     },
     "output_type": "display_data"
    }
   ],
   "source": [
    "#barplot for the dataset\n",
    "plt.figure(figsize=(20,15))\n",
    "sns.barplot(x=\"salary\", y=\"gender\", data=gender_df);"
   ]
  },
  {
   "cell_type": "code",
   "execution_count": 22,
   "metadata": {
    "colab": {
     "base_uri": "https://localhost:8080/",
     "height": 296
    },
    "id": "Vj_BXiafJakR",
    "outputId": "60eabf75-86d3-462c-a529-01f13efd4599"
   },
   "outputs": [
    {
     "data": {
      "text/plain": [
       "<matplotlib.axes._subplots.AxesSubplot at 0x7f7f3a7e4190>"
      ]
     },
     "execution_count": 22,
     "metadata": {
      "tags": []
     },
     "output_type": "execute_result"
    },
    {
     "data": {
      "image/png": "[encoded data removed]",
      "text/plain": [
       "<Figure size 432x288 with 1 Axes>"
      ]
     },
     "metadata": {
      "needs_background": "light",
      "tags": []
     },
     "output_type": "display_data"
    }
   ],
   "source": [
    "# take a look at the distribution of female's salary\n",
    "sns.histplot(data=gender_df[gender_df['gender']=='female'], x=\"salary\", kde=True, bins=30)"
   ]
  },
  {
   "cell_type": "code",
   "execution_count": 23,
   "metadata": {
    "colab": {
     "base_uri": "https://localhost:8080/",
     "height": 296
    },
    "id": "aQToPZYkJc2t",
    "outputId": "9d204051-af51-4f29-ba83-3fe90c68e99b"
   },
   "outputs": [
    {
     "data": {
      "text/plain": [
       "<matplotlib.axes._subplots.AxesSubplot at 0x7f7f381b57d0>"
      ]
     },
     "execution_count": 23,
     "metadata": {
      "tags": []
     },
     "output_type": "execute_result"
    },
    {
     "data": {
      "image/png": "[encoded data removed]",
      "text/plain": [
       "<Figure size 432x288 with 1 Axes>"
      ]
     },
     "metadata": {
      "needs_background": "light",
      "tags": []
     },
     "output_type": "display_data"
    }
   ],
   "source": [
    "# take a look at the distribution of male's salary\n",
    "sns.histplot(data=gender_df[gender_df['gender']=='male'], x=\"salary\", kde=True, bins=30)"
   ]
  },
  {
   "cell_type": "markdown",
   "metadata": {
    "id": "e1RgZj6jJgxJ"
   },
   "source": [
    "Since the number of males and females contained in the dataset are not equal, the histogram has differnt scales on y-axis, but we can still see that comparing to male, female has a higher density at low salary. A boxplot can also show this feature:"
   ]
  },
  {
   "cell_type": "code",
   "execution_count": 24,
   "metadata": {
    "colab": {
     "base_uri": "https://localhost:8080/",
     "height": 296
    },
    "id": "tb3_EKERJhd2",
    "outputId": "b1ddf233-37d5-4d8f-c706-1c4a8e26eb28"
   },
   "outputs": [
    {
     "data": {
      "text/plain": [
       "<matplotlib.axes._subplots.AxesSubplot at 0x7f7f38127a50>"
      ]
     },
     "execution_count": 24,
     "metadata": {
      "tags": []
     },
     "output_type": "execute_result"
    },
    {
     "data": {
      "image/png": "[encoded data removed]",
      "text/plain": [
       "<Figure size 432x288 with 1 Axes>"
      ]
     },
     "metadata": {
      "needs_background": "light",
      "tags": []
     },
     "output_type": "display_data"
    }
   ],
   "source": [
    "# use boxplot\n",
    "sns.boxplot(x='gender', y='salary', data=gender_df)"
   ]
  },
  {
   "cell_type": "code",
   "execution_count": 25,
   "metadata": {
    "colab": {
     "base_uri": "https://localhost:8080/"
    },
    "id": "sQEui-oKfYVu",
    "outputId": "7aa614ed-230c-42df-cf87-6827e1feac90"
   },
   "outputs": [
    {
     "data": {
      "text/plain": [
       "(532500.0000000002, 200000.0)"
      ]
     },
     "execution_count": 25,
     "metadata": {
      "tags": []
     },
     "output_type": "execute_result"
    }
   ],
   "source": [
    "# try to filter out the outliers for each gender\n",
    "f_lower= gender_df[gender_df['gender']=='female'].salary.quantile(0.01)\n",
    "f_upper = gender_df[gender_df['gender']=='female'].salary.quantile(0.99)\n",
    "f_upper, f_lower"
   ]
  },
  {
   "cell_type": "code",
   "execution_count": 26,
   "metadata": {
    "colab": {
     "base_uri": "https://localhost:8080/"
    },
    "id": "Ym48ezSVf1bh",
    "outputId": "9017100c-1777-4afc-f39b-7b15757ba4bf"
   },
   "outputs": [
    {
     "data": {
      "text/plain": [
       "(692500.0000000013, 200000.0)"
      ]
     },
     "execution_count": 26,
     "metadata": {
      "tags": []
     },
     "output_type": "execute_result"
    }
   ],
   "source": [
    "m_lower= gender_df[gender_df['gender']=='male'].salary.quantile(0.01)\n",
    "m_upper = gender_df[gender_df['gender']=='male'].salary.quantile(0.99)\n",
    "m_upper, m_lower"
   ]
  },
  {
   "cell_type": "code",
   "execution_count": 27,
   "metadata": {
    "colab": {
     "base_uri": "https://localhost:8080/",
     "height": 419
    },
    "id": "Ad_IVtIwfve2",
    "outputId": "c2c56fc4-eacb-434e-d1ae-27b02f01c0d6"
   },
   "outputs": [
    {
     "data": {
      "text/html": [
       "<div>\n",
       "<style scoped>\n",
       "    .dataframe tbody tr th:only-of-type {\n",
       "        vertical-align: middle;\n",
       "    }\n",
       "\n",
       "    .dataframe tbody tr th {\n",
       "        vertical-align: top;\n",
       "    }\n",
       "\n",
       "    .dataframe thead th {\n",
       "        text-align: right;\n",
       "    }\n",
       "</style>\n",
       "<table border=\"1\" class=\"dataframe\">\n",
       "  <thead>\n",
       "    <tr style=\"text-align: right;\">\n",
       "      <th></th>\n",
       "      <th>gender</th>\n",
       "      <th>salary</th>\n",
       "      <th>workex</th>\n",
       "      <th>major</th>\n",
       "    </tr>\n",
       "  </thead>\n",
       "  <tbody>\n",
       "    <tr>\n",
       "      <th>1</th>\n",
       "      <td>male</td>\n",
       "      <td>690000.0</td>\n",
       "      <td>1</td>\n",
       "      <td>Sci&amp;Tech</td>\n",
       "    </tr>\n",
       "    <tr>\n",
       "      <th>3</th>\n",
       "      <td>male</td>\n",
       "      <td>500000.0</td>\n",
       "      <td>0</td>\n",
       "      <td>Sci&amp;Tech</td>\n",
       "    </tr>\n",
       "    <tr>\n",
       "      <th>4</th>\n",
       "      <td>male</td>\n",
       "      <td>500000.0</td>\n",
       "      <td>1</td>\n",
       "      <td>Sci&amp;Tech</td>\n",
       "    </tr>\n",
       "    <tr>\n",
       "      <th>5</th>\n",
       "      <td>male</td>\n",
       "      <td>500000.0</td>\n",
       "      <td>1</td>\n",
       "      <td>Sci&amp;Tech</td>\n",
       "    </tr>\n",
       "    <tr>\n",
       "      <th>6</th>\n",
       "      <td>male</td>\n",
       "      <td>450000.0</td>\n",
       "      <td>0</td>\n",
       "      <td>Sci&amp;Tech</td>\n",
       "    </tr>\n",
       "    <tr>\n",
       "      <th>...</th>\n",
       "      <td>...</td>\n",
       "      <td>...</td>\n",
       "      <td>...</td>\n",
       "      <td>...</td>\n",
       "    </tr>\n",
       "    <tr>\n",
       "      <th>137</th>\n",
       "      <td>female</td>\n",
       "      <td>210000.0</td>\n",
       "      <td>1</td>\n",
       "      <td>Comm&amp;Mgmt</td>\n",
       "    </tr>\n",
       "    <tr>\n",
       "      <th>138</th>\n",
       "      <td>female</td>\n",
       "      <td>210000.0</td>\n",
       "      <td>1</td>\n",
       "      <td>Sci&amp;Tech</td>\n",
       "    </tr>\n",
       "    <tr>\n",
       "      <th>139</th>\n",
       "      <td>female</td>\n",
       "      <td>210000.0</td>\n",
       "      <td>0</td>\n",
       "      <td>Comm&amp;Mgmt</td>\n",
       "    </tr>\n",
       "    <tr>\n",
       "      <th>140</th>\n",
       "      <td>female</td>\n",
       "      <td>204000.0</td>\n",
       "      <td>0</td>\n",
       "      <td>Comm&amp;Mgmt</td>\n",
       "    </tr>\n",
       "    <tr>\n",
       "      <th>141</th>\n",
       "      <td>male</td>\n",
       "      <td>204000.0</td>\n",
       "      <td>1</td>\n",
       "      <td>Comm&amp;Mgmt</td>\n",
       "    </tr>\n",
       "  </tbody>\n",
       "</table>\n",
       "<p>140 rows × 4 columns</p>\n",
       "</div>"
      ],
      "text/plain": [
       "     gender    salary  workex      major\n",
       "1      male  690000.0       1   Sci&Tech\n",
       "3      male  500000.0       0   Sci&Tech\n",
       "4      male  500000.0       1   Sci&Tech\n",
       "5      male  500000.0       1   Sci&Tech\n",
       "6      male  450000.0       0   Sci&Tech\n",
       "..      ...       ...     ...        ...\n",
       "137  female  210000.0       1  Comm&Mgmt\n",
       "138  female  210000.0       1   Sci&Tech\n",
       "139  female  210000.0       0  Comm&Mgmt\n",
       "140  female  204000.0       0  Comm&Mgmt\n",
       "141    male  204000.0       1  Comm&Mgmt\n",
       "\n",
       "[140 rows x 4 columns]"
      ]
     },
     "execution_count": 27,
     "metadata": {
      "tags": []
     },
     "output_type": "execute_result"
    }
   ],
   "source": [
    "gender_wo_out = gender_df\n",
    "\n",
    "gender_wo_out = gender_wo_out.drop(gender_wo_out[(gender_wo_out['gender']=='female')&(gender_wo_out['salary']<=f_lower)].index)\n",
    "gender_wo_out = gender_wo_out.drop(gender_wo_out[(gender_wo_out['gender']=='female')&(gender_wo_out['salary']>=f_upper)].index)\n",
    "\n",
    "gender_wo_out = gender_wo_out.drop(gender_wo_out[(gender_wo_out['gender']=='male')&(gender_wo_out['salary']<=m_lower)].index)\n",
    "gender_wo_out = gender_wo_out.drop(gender_wo_out[(gender_wo_out['gender']=='male')&(gender_wo_out['salary']>=m_upper)].index)\n",
    "gender_wo_out"
   ]
  },
  {
   "cell_type": "code",
   "execution_count": 28,
   "metadata": {
    "colab": {
     "base_uri": "https://localhost:8080/",
     "height": 296
    },
    "id": "SwqlBdQVJ0Rn",
    "outputId": "77f364bb-89b2-4560-d26d-bc6c1050ed2c"
   },
   "outputs": [
    {
     "data": {
      "text/plain": [
       "<matplotlib.axes._subplots.AxesSubplot at 0x7f7f38096090>"
      ]
     },
     "execution_count": 28,
     "metadata": {
      "tags": []
     },
     "output_type": "execute_result"
    },
    {
     "data": {
      "image/png": "[encoded data removed]",
      "text/plain": [
       "<Figure size 432x288 with 1 Axes>"
      ]
     },
     "metadata": {
      "needs_background": "light",
      "tags": []
     },
     "output_type": "display_data"
    }
   ],
   "source": [
    "#plot again to see the distribution of whole dataset\n",
    "sns.histplot(data=gender_wo_out, x=\"salary\", kde=True, bins=30)"
   ]
  },
  {
   "cell_type": "markdown",
   "metadata": {
    "id": "Zo7g6VehJ4qj"
   },
   "source": [
    "It seems like we still need to filter the dataset. And maybe it is better to filter base on gender but it may cause more bias so at this point we consider whether other factors may affect."
   ]
  },
  {
   "cell_type": "markdown",
   "metadata": {
    "id": "boa3l7n5KAkq"
   },
   "source": [
    "However, will other factors affect the salary? Now, take a look at the effect of work experiences."
   ]
  },
  {
   "cell_type": "code",
   "execution_count": 29,
   "metadata": {
    "colab": {
     "base_uri": "https://localhost:8080/"
    },
    "id": "GRDgUBFuJ3nt",
    "outputId": "b78026cd-6073-47f0-ea09-948f40e09011"
   },
   "outputs": [
    {
     "data": {
      "text/plain": [
       "count        81.000000\n",
       "mean     280395.061728\n",
       "std       60898.825730\n",
       "min      204000.000000\n",
       "25%      240000.000000\n",
       "50%      265000.000000\n",
       "75%      300000.000000\n",
       "max      500000.000000\n",
       "Name: salary, dtype: float64"
      ]
     },
     "execution_count": 29,
     "metadata": {
      "tags": []
     },
     "output_type": "execute_result"
    }
   ],
   "source": [
    "# take a look at the description of inexperienced person's salary\n",
    "gender_wo_out[gender_wo_out['workex']==0].salary.describe()"
   ]
  },
  {
   "cell_type": "code",
   "execution_count": 30,
   "metadata": {
    "colab": {
     "base_uri": "https://localhost:8080/"
    },
    "id": "IKawybIvKDmb",
    "outputId": "19ca5e25-3978-4b86-e08c-9dcf37b0f2ef"
   },
   "outputs": [
    {
     "data": {
      "text/plain": [
       "count        59.000000\n",
       "mean     291847.457627\n",
       "std       80851.249870\n",
       "min      204000.000000\n",
       "25%      250000.000000\n",
       "50%      270000.000000\n",
       "75%      300000.000000\n",
       "max      690000.000000\n",
       "Name: salary, dtype: float64"
      ]
     },
     "execution_count": 30,
     "metadata": {
      "tags": []
     },
     "output_type": "execute_result"
    }
   ],
   "source": [
    "# take a look at the description of experienced person's salary\n",
    "gender_wo_out[gender_wo_out['workex']==1].salary.describe()"
   ]
  },
  {
   "cell_type": "code",
   "execution_count": 31,
   "metadata": {
    "colab": {
     "base_uri": "https://localhost:8080/",
     "height": 312
    },
    "id": "DrmbrllvKF1y",
    "outputId": "6de6ef47-0dcc-429c-85b8-2a157e0c5f3a"
   },
   "outputs": [
    {
     "data": {
      "text/plain": [
       "Text(0.5, 1.0, 'Experienced person')"
      ]
     },
     "execution_count": 31,
     "metadata": {
      "tags": []
     },
     "output_type": "execute_result"
    },
    {
     "data": {
      "image/png": "[encoded data removed]",
      "text/plain": [
       "<Figure size 432x288 with 2 Axes>"
      ]
     },
     "metadata": {
      "needs_background": "light",
      "tags": []
     },
     "output_type": "display_data"
    }
   ],
   "source": [
    "# take a look at the distribution of two groups\n",
    "fig, (ax1, ax2) = plt.subplots(ncols=2, sharey=True)\n",
    "sns.set_palette('Spectral')\n",
    "sns.histplot(data=gender_wo_out[gender_wo_out['workex']==0], x=\"salary\", ax=ax1, kde=False, bins=30)\n",
    "ax1.set_title('Inexperienced person')\n",
    "sns.histplot(data=gender_wo_out[gender_wo_out['workex']==1], x=\"salary\", ax=ax2, kde=False, bins=30)\n",
    "ax2.set_title('Experienced person')"
   ]
  },
  {
   "cell_type": "code",
   "execution_count": 32,
   "metadata": {
    "colab": {
     "base_uri": "https://localhost:8080/",
     "height": 296
    },
    "id": "rF6pVpAmKHtH",
    "outputId": "97e351c6-670c-4aaf-8e5d-90a04982f213"
   },
   "outputs": [
    {
     "data": {
      "text/plain": [
       "<matplotlib.axes._subplots.AxesSubplot at 0x7f7f37dfbdd0>"
      ]
     },
     "execution_count": 32,
     "metadata": {
      "tags": []
     },
     "output_type": "execute_result"
    },
    {
     "data": {
      "image/png": "[encoded data removed]",
      "text/plain": [
       "<Figure size 432x288 with 1 Axes>"
      ]
     },
     "metadata": {
      "needs_background": "light",
      "tags": []
     },
     "output_type": "display_data"
    }
   ],
   "source": [
    "# use boxplot\n",
    "sns.boxplot(x='workex', y='salary', data=gender_wo_out)"
   ]
  },
  {
   "cell_type": "code",
   "execution_count": 33,
   "metadata": {
    "colab": {
     "base_uri": "https://localhost:8080/"
    },
    "id": "0Vr1jcpXKKPp",
    "outputId": "4b3ce096-e96c-4144-f8d6-7121d0160126"
   },
   "outputs": [
    {
     "data": {
      "text/plain": [
       "array(['Sci&Tech', 'Comm&Mgmt', 'Others'], dtype=object)"
      ]
     },
     "execution_count": 33,
     "metadata": {
      "tags": []
     },
     "output_type": "execute_result"
    }
   ],
   "source": [
    "gender_wo_out['major'].unique()"
   ]
  },
  {
   "cell_type": "code",
   "execution_count": 34,
   "metadata": {
    "colab": {
     "base_uri": "https://localhost:8080/",
     "height": 296
    },
    "id": "LfgSug3bKMAD",
    "outputId": "5d376292-58c1-456a-ddb4-98833e00e85e"
   },
   "outputs": [
    {
     "data": {
      "text/plain": [
       "<matplotlib.axes._subplots.AxesSubplot at 0x7f7f37dcf990>"
      ]
     },
     "execution_count": 34,
     "metadata": {
      "tags": []
     },
     "output_type": "execute_result"
    },
    {
     "data": {
      "image/png": "[encoded data removed]",
      "text/plain": [
       "<Figure size 432x288 with 1 Axes>"
      ]
     },
     "metadata": {
      "needs_background": "light",
      "tags": []
     },
     "output_type": "display_data"
    }
   ],
   "source": [
    "sns.boxplot(x='major', y='salary', data=gender_wo_out)"
   ]
  },
  {
   "cell_type": "markdown",
   "metadata": {
    "id": "tq-iS0M6KR6V"
   },
   "source": [
    "We find that both gender and internship experience may exert an influence the starting salary."
   ]
  },
  {
   "cell_type": "markdown",
   "metadata": {
    "id": "_STJt12GSTeb"
   },
   "source": [
    "##Inferential Analysis"
   ]
  },
  {
   "cell_type": "markdown",
   "metadata": {
    "id": "1dFfjrvalJ-K"
   },
   "source": [
    "###Major"
   ]
  },
  {
   "cell_type": "markdown",
   "metadata": {
    "id": "4sBTPhmvuqMp"
   },
   "source": [
    "For our regression analysis,  we decide to utilize the dataset that includes the outliers on salary instead of the one that does not, since we believe that each of the variables are significant, especially when each major is unique in the dataset which might negatively affect our final result if we remove one of them.  \n",
    "\n",
    "We first transfer the categorical variables into dummy variables from the cleaned major dataset and create a new dataframe \"major dummy\":"
   ]
  },
  {
   "cell_type": "code",
   "execution_count": 35,
   "metadata": {
    "colab": {
     "base_uri": "https://localhost:8080/",
     "height": 204
    },
    "id": "wH8Wzf1aujYo",
    "outputId": "d8586fa1-51f9-42bd-8012-95c14a7c3cb9"
   },
   "outputs": [
    {
     "data": {
      "text/html": [
       "<div>\n",
       "<style scoped>\n",
       "    .dataframe tbody tr th:only-of-type {\n",
       "        vertical-align: middle;\n",
       "    }\n",
       "\n",
       "    .dataframe tbody tr th {\n",
       "        vertical-align: top;\n",
       "    }\n",
       "\n",
       "    .dataframe thead th {\n",
       "        text-align: right;\n",
       "    }\n",
       "</style>\n",
       "<table border=\"1\" class=\"dataframe\">\n",
       "  <thead>\n",
       "    <tr style=\"text-align: right;\">\n",
       "      <th></th>\n",
       "      <th>major</th>\n",
       "      <th>salary</th>\n",
       "      <th>Arts</th>\n",
       "      <th>Business</th>\n",
       "      <th>Engineering &amp; Tech</th>\n",
       "      <th>Math &amp; Sci</th>\n",
       "      <th>Social Sci/Lit/Lang</th>\n",
       "    </tr>\n",
       "  </thead>\n",
       "  <tbody>\n",
       "    <tr>\n",
       "      <th>0</th>\n",
       "      <td>Physician Assistant</td>\n",
       "      <td>74300</td>\n",
       "      <td>0</td>\n",
       "      <td>0</td>\n",
       "      <td>0</td>\n",
       "      <td>1</td>\n",
       "      <td>0</td>\n",
       "    </tr>\n",
       "    <tr>\n",
       "      <th>1</th>\n",
       "      <td>Chemical Engineering</td>\n",
       "      <td>63200</td>\n",
       "      <td>0</td>\n",
       "      <td>0</td>\n",
       "      <td>1</td>\n",
       "      <td>0</td>\n",
       "      <td>0</td>\n",
       "    </tr>\n",
       "    <tr>\n",
       "      <th>2</th>\n",
       "      <td>Computer Engineering</td>\n",
       "      <td>61400</td>\n",
       "      <td>0</td>\n",
       "      <td>0</td>\n",
       "      <td>1</td>\n",
       "      <td>0</td>\n",
       "      <td>0</td>\n",
       "    </tr>\n",
       "    <tr>\n",
       "      <th>3</th>\n",
       "      <td>Electrical Engineering</td>\n",
       "      <td>60900</td>\n",
       "      <td>0</td>\n",
       "      <td>0</td>\n",
       "      <td>1</td>\n",
       "      <td>0</td>\n",
       "      <td>0</td>\n",
       "    </tr>\n",
       "    <tr>\n",
       "      <th>4</th>\n",
       "      <td>Mechanical Engineering</td>\n",
       "      <td>57900</td>\n",
       "      <td>0</td>\n",
       "      <td>0</td>\n",
       "      <td>1</td>\n",
       "      <td>0</td>\n",
       "      <td>0</td>\n",
       "    </tr>\n",
       "  </tbody>\n",
       "</table>\n",
       "</div>"
      ],
      "text/plain": [
       "                    major  salary  ...  Math & Sci  Social Sci/Lit/Lang\n",
       "0     Physician Assistant   74300  ...           1                    0\n",
       "1    Chemical Engineering   63200  ...           0                    0\n",
       "2    Computer Engineering   61400  ...           0                    0\n",
       "3  Electrical Engineering   60900  ...           0                    0\n",
       "4  Mechanical Engineering   57900  ...           0                    0\n",
       "\n",
       "[5 rows x 7 columns]"
      ]
     },
     "execution_count": 35,
     "metadata": {
      "tags": []
     },
     "output_type": "execute_result"
    }
   ],
   "source": [
    "#transfer the categorical variables in to dummies\n",
    "major_dummy= pd.get_dummies(major['type'])\n",
    "#join two dataframes\n",
    "major_dummy= pd.concat([major,major_dummy],axis=1)\n",
    "#drop the repeated columns \n",
    "major_dummy.drop(['type'], axis =1,inplace=True)\n",
    "major_dummy.head()"
   ]
  },
  {
   "cell_type": "markdown",
   "metadata": {
    "id": "BU96KE3shvht"
   },
   "source": [
    "Then , we use the OLS model below to display the regression results:"
   ]
  },
  {
   "cell_type": "code",
   "execution_count": 36,
   "metadata": {
    "id": "C9ycK7KsvIV9"
   },
   "outputs": [],
   "source": [
    "X = major_dummy.drop(['major','salary'],axis=1)\n",
    "Y = major_dummy['salary']"
   ]
  },
  {
   "cell_type": "code",
   "execution_count": 37,
   "metadata": {
    "colab": {
     "base_uri": "https://localhost:8080/"
    },
    "id": "r_JanMmLvO50",
    "outputId": "f11a7612-18ca-44e4-ed43-ba9224873ab4"
   },
   "outputs": [
    {
     "name": "stdout",
     "output_type": "stream",
     "text": [
      "                            OLS Regression Results                            \n",
      "==============================================================================\n",
      "Dep. Variable:                 salary   R-squared:                       0.630\n",
      "Model:                            OLS   Adj. R-squared:                  0.597\n",
      "Method:                 Least Squares   F-statistic:                     19.15\n",
      "Date:                Mon, 07 Jun 2021   Prob (F-statistic):           2.94e-09\n",
      "Time:                        06:53:18   Log-Likelihood:                -502.81\n",
      "No. Observations:                  50   AIC:                             1016.\n",
      "Df Residuals:                      45   BIC:                             1025.\n",
      "Df Model:                           4                                         \n",
      "Covariance Type:            nonrobust                                         \n",
      "=======================================================================================\n",
      "                          coef    std err          t      P>|t|      [0.025      0.975]\n",
      "---------------------------------------------------------------------------------------\n",
      "Arts                 3.699e+04   2246.045     16.467      0.000    3.25e+04    4.15e+04\n",
      "Business             4.442e+04   2971.239     14.952      0.000    3.84e+04    5.04e+04\n",
      "Engineering & Tech   5.669e+04   1879.176     30.167      0.000    5.29e+04    6.05e+04\n",
      "Math & Sci           4.767e+04   1791.724     26.607      0.000    4.41e+04    5.13e+04\n",
      "Social Sci/Lit/Lang   3.82e+04   1400.655     27.273      0.000    3.54e+04     4.1e+04\n",
      "==============================================================================\n",
      "Omnibus:                       40.859   Durbin-Watson:                   1.234\n",
      "Prob(Omnibus):                  0.000   Jarque-Bera (JB):              167.465\n",
      "Skew:                           2.057   Prob(JB):                     4.32e-37\n",
      "Kurtosis:                      10.967   Cond. No.                         2.12\n",
      "==============================================================================\n",
      "\n",
      "Warnings:\n",
      "[1] Standard Errors assume that the covariance matrix of the errors is correctly specified.\n"
     ]
    }
   ],
   "source": [
    "major_model = sm.OLS(Y, X)\n",
    "major_res= major_model.fit()\n",
    "print(major_res.summary())"
   ]
  },
  {
   "cell_type": "markdown",
   "metadata": {
    "id": "U0UX_DXkjDXW"
   },
   "source": [
    "The above regression model shows that the R-squared value is 0.63 which means the percentage of the data to fit the regression line is 63%. "
   ]
  },
  {
   "cell_type": "code",
   "execution_count": 38,
   "metadata": {
    "colab": {
     "base_uri": "https://localhost:8080/",
     "height": 235
    },
    "id": "0ziJmVBoRACl",
    "outputId": "e483c492-ecd9-450e-bbf5-ed9a93e90a28"
   },
   "outputs": [
    {
     "data": {
      "text/html": [
       "<div>\n",
       "<style scoped>\n",
       "    .dataframe tbody tr th:only-of-type {\n",
       "        vertical-align: middle;\n",
       "    }\n",
       "\n",
       "    .dataframe tbody tr th {\n",
       "        vertical-align: top;\n",
       "    }\n",
       "\n",
       "    .dataframe thead th {\n",
       "        text-align: right;\n",
       "    }\n",
       "</style>\n",
       "<table border=\"1\" class=\"dataframe\">\n",
       "  <thead>\n",
       "    <tr style=\"text-align: right;\">\n",
       "      <th></th>\n",
       "      <th>salary</th>\n",
       "      <th>Arts</th>\n",
       "      <th>Business</th>\n",
       "      <th>Engineering &amp; Tech</th>\n",
       "      <th>Math &amp; Sci</th>\n",
       "      <th>Social Sci/Lit/Lang</th>\n",
       "    </tr>\n",
       "  </thead>\n",
       "  <tbody>\n",
       "    <tr>\n",
       "      <th>salary</th>\n",
       "      <td>1.000000</td>\n",
       "      <td>-0.318897</td>\n",
       "      <td>0.003659</td>\n",
       "      <td>0.667977</td>\n",
       "      <td>0.192720</td>\n",
       "      <td>-0.494508</td>\n",
       "    </tr>\n",
       "    <tr>\n",
       "      <th>Arts</th>\n",
       "      <td>-0.318897</td>\n",
       "      <td>1.000000</td>\n",
       "      <td>-0.118978</td>\n",
       "      <td>-0.201737</td>\n",
       "      <td>-0.214279</td>\n",
       "      <td>-0.302605</td>\n",
       "    </tr>\n",
       "    <tr>\n",
       "      <th>Business</th>\n",
       "      <td>0.003659</td>\n",
       "      <td>-0.118978</td>\n",
       "      <td>1.000000</td>\n",
       "      <td>-0.147442</td>\n",
       "      <td>-0.156608</td>\n",
       "      <td>-0.221163</td>\n",
       "    </tr>\n",
       "    <tr>\n",
       "      <th>Engineering &amp; Tech</th>\n",
       "      <td>0.667977</td>\n",
       "      <td>-0.201737</td>\n",
       "      <td>-0.147442</td>\n",
       "      <td>1.000000</td>\n",
       "      <td>-0.265543</td>\n",
       "      <td>-0.375000</td>\n",
       "    </tr>\n",
       "    <tr>\n",
       "      <th>Math &amp; Sci</th>\n",
       "      <td>0.192720</td>\n",
       "      <td>-0.214279</td>\n",
       "      <td>-0.156608</td>\n",
       "      <td>-0.265543</td>\n",
       "      <td>1.000000</td>\n",
       "      <td>-0.398314</td>\n",
       "    </tr>\n",
       "    <tr>\n",
       "      <th>Social Sci/Lit/Lang</th>\n",
       "      <td>-0.494508</td>\n",
       "      <td>-0.302605</td>\n",
       "      <td>-0.221163</td>\n",
       "      <td>-0.375000</td>\n",
       "      <td>-0.398314</td>\n",
       "      <td>1.000000</td>\n",
       "    </tr>\n",
       "  </tbody>\n",
       "</table>\n",
       "</div>"
      ],
      "text/plain": [
       "                       salary      Arts  ...  Math & Sci  Social Sci/Lit/Lang\n",
       "salary               1.000000 -0.318897  ...    0.192720            -0.494508\n",
       "Arts                -0.318897  1.000000  ...   -0.214279            -0.302605\n",
       "Business             0.003659 -0.118978  ...   -0.156608            -0.221163\n",
       "Engineering & Tech   0.667977 -0.201737  ...   -0.265543            -0.375000\n",
       "Math & Sci           0.192720 -0.214279  ...    1.000000            -0.398314\n",
       "Social Sci/Lit/Lang -0.494508 -0.302605  ...   -0.398314             1.000000\n",
       "\n",
       "[6 rows x 6 columns]"
      ]
     },
     "execution_count": 38,
     "metadata": {
      "tags": []
     },
     "output_type": "execute_result"
    }
   ],
   "source": [
    "#check the corr between the variables \n",
    "major_dummy.corr()"
   ]
  },
  {
   "cell_type": "markdown",
   "metadata": {
    "id": "Vkl0dtAJlmyN"
   },
   "source": [
    "P.S. Based on the correlation table above, Engineering & Tech major has the strongest positive relationship with salary than other major types with the value of ~0.668."
   ]
  },
  {
   "cell_type": "markdown",
   "metadata": {
    "id": "isoowCH1fnlg"
   },
   "source": [
    "###College Quality"
   ]
  },
  {
   "cell_type": "code",
   "execution_count": null,
   "metadata": {
    "colab": {
     "base_uri": "https://localhost:8080/"
    },
    "id": "xr1Qalghcegf",
    "outputId": "c5fa8140-200f-4e19-b8a8-889f23d60294"
   },
   "outputs": [
    {
     "name": "stdout",
     "output_type": "stream",
     "text": [
      "                            OLS Regression Results                            \n",
      "==============================================================================\n",
      "Dep. Variable:                 salary   R-squared:                       0.354\n",
      "Model:                            OLS   Adj. R-squared:                  0.347\n",
      "Method:                 Least Squares   F-statistic:                     46.64\n",
      "Date:                Mon, 07 Jun 2021   Prob (F-statistic):           1.20e-09\n",
      "Time:                        03:19:39   Log-Likelihood:                -857.91\n",
      "No. Observations:                  87   AIC:                             1720.\n",
      "Df Residuals:                      85   BIC:                             1725.\n",
      "Df Model:                           1                                         \n",
      "Covariance Type:            nonrobust                                         \n",
      "==============================================================================\n",
      "                 coef    std err          t      P>|t|      [0.025      0.975]\n",
      "------------------------------------------------------------------------------\n",
      "Intercept   5.254e+04    828.253     63.432      0.000    5.09e+04    5.42e+04\n",
      "rank         -16.7623      2.455     -6.829      0.000     -21.643     -11.882\n",
      "==============================================================================\n",
      "Omnibus:                        6.388   Durbin-Watson:                   0.721\n",
      "Prob(Omnibus):                  0.041   Jarque-Bera (JB):                6.120\n",
      "Skew:                           0.647   Prob(JB):                       0.0469\n",
      "Kurtosis:                       3.114   Cond. No.                         556.\n",
      "==============================================================================\n",
      "\n",
      "Warnings:\n",
      "[1] Standard Errors assume that the covariance matrix of the errors is correctly specified.\n"
     ]
    }
   ],
   "source": [
    "# linear regression model for college quality and salary\n",
    "\n",
    "quality_outcome, quality_predictors = patsy.dmatrices('salary ~ rank', no_outlier_quality)\n",
    "quality_mod = sm.OLS(quality_outcome, quality_predictors)\n",
    "quality_res = quality_mod.fit()\n",
    "print(quality_res.summary())"
   ]
  },
  {
   "cell_type": "markdown",
   "metadata": {
    "id": "3Z4D_xFfc-dm"
   },
   "source": [
    "The summary above indicates that the relationship between college quality and salary can be expressed by salary = 52540 - 16.7623 * rank. This indicates increased college quality, represented by a decrease in the numerical rank, can lead to an increase in the median starting salary of college graduates. 35.4% of the variation in salary is explained by college rank/quality."
   ]
  },
  {
   "cell_type": "markdown",
   "metadata": {
    "id": "tCrVXtKAa1a7"
   },
   "source": [
    "The regression can be visualized in the following graph:"
   ]
  },
  {
   "cell_type": "code",
   "execution_count": null,
   "metadata": {
    "colab": {
     "base_uri": "https://localhost:8080/",
     "height": 279
    },
    "id": "dpmi-SKcch5b",
    "outputId": "04e2a536-a550-4b11-872c-881117405b71"
   },
   "outputs": [
    {
     "data": {
      "image/png": "[encoded data removed]",
      "text/plain": [
       "<Figure size 432x288 with 1 Axes>"
      ]
     },
     "metadata": {
      "needs_background": "light",
      "tags": []
     },
     "output_type": "display_data"
    }
   ],
   "source": [
    "# Plot the orginal data on a scatter plot\n",
    "sns.scatterplot(x='rank', y='salary', data=no_outlier_quality);\n",
    "\n",
    "# Generate and plot the model fit line for quality\n",
    "xs = np.arange(no_outlier_quality['rank'].min(), no_outlier_quality['rank'].max())\n",
    "ys = -16.7623 * xs + 5.254e+04\n",
    "plt.plot(xs, ys, '--k', linewidth=4, label='Quality Model')\n",
    "\n",
    "# Rename the axis\n",
    "plt.xlabel('College Rank')\n",
    "plt.ylabel('Median Starting Salary')\n",
    "plt.legend();"
   ]
  },
  {
   "cell_type": "markdown",
   "metadata": {
    "id": "gck3WpODgmO6"
   },
   "source": [
    "### Gender & Internship Experience"
   ]
  },
  {
   "cell_type": "code",
   "execution_count": null,
   "metadata": {
    "colab": {
     "background_save": true
    },
    "id": "T0zWM2LqfRFm",
    "outputId": "f1ad56b7-35fa-45cf-8bd3-61c871a9acfd"
   },
   "outputs": [
    {
     "name": "stdout",
     "output_type": "stream",
     "text": [
      "                            OLS Regression Results                            \n",
      "==============================================================================\n",
      "Dep. Variable:                 salary   R-squared:                       0.039\n",
      "Model:                            OLS   Adj. R-squared:                  0.032\n",
      "Method:                 Least Squares   F-statistic:                     5.541\n",
      "Date:                Sun, 06 Jun 2021   Prob (F-statistic):             0.0200\n",
      "Time:                        15:10:05   Log-Likelihood:                -1757.2\n",
      "No. Observations:                 140   AIC:                             3518.\n",
      "Df Residuals:                     138   BIC:                             3524.\n",
      "Df Model:                           1                                         \n",
      "Covariance Type:            nonrobust                                         \n",
      "==================================================================================\n",
      "                     coef    std err          t      P>|t|      [0.025      0.975]\n",
      "----------------------------------------------------------------------------------\n",
      "Intercept       2.647e+05   1.05e+04     25.208      0.000    2.44e+05    2.85e+05\n",
      "gender[T.male]  2.969e+04   1.26e+04      2.354      0.020    4749.775    5.46e+04\n",
      "==============================================================================\n",
      "Omnibus:                       88.051   Durbin-Watson:                   0.147\n",
      "Prob(Omnibus):                  0.000   Jarque-Bera (JB):              479.126\n",
      "Skew:                           2.284   Prob(JB):                    9.10e-105\n",
      "Kurtosis:                      10.827   Cond. No.                         3.37\n",
      "==============================================================================\n",
      "\n",
      "Warnings:\n",
      "[1] Standard Errors assume that the covariance matrix of the errors is correctly specified.\n"
     ]
    }
   ],
   "source": [
    "# generate linear regression model. Gender is the predictor\n",
    "gender_outcome, gender_predictor = patsy.dmatrices('salary ~ gender', gender_wo_out)\n",
    "gender_model = sm.OLS(gender_outcome, gender_predictor)\n",
    "gender_result = gender_model.fit()\n",
    "print(gender_result.summary())"
   ]
  },
  {
   "cell_type": "code",
   "execution_count": null,
   "metadata": {
    "colab": {
     "background_save": true
    },
    "id": "zJBBaZELGFOP",
    "outputId": "c460779d-5c1b-4673-8190-ee6240d927a3"
   },
   "outputs": [
    {
     "name": "stdout",
     "output_type": "stream",
     "text": [
      "                            OLS Regression Results                            \n",
      "==============================================================================\n",
      "Dep. Variable:                 salary   R-squared:                       0.007\n",
      "Model:                            OLS   Adj. R-squared:                 -0.001\n",
      "Method:                 Least Squares   F-statistic:                    0.9142\n",
      "Date:                Sun, 06 Jun 2021   Prob (F-statistic):              0.341\n",
      "Time:                        15:10:05   Log-Likelihood:                -1759.5\n",
      "No. Observations:                 140   AIC:                             3523.\n",
      "Df Residuals:                     138   BIC:                             3529.\n",
      "Df Model:                           1                                         \n",
      "Covariance Type:            nonrobust                                         \n",
      "==============================================================================\n",
      "                 coef    std err          t      P>|t|      [0.025      0.975]\n",
      "------------------------------------------------------------------------------\n",
      "Intercept   2.804e+05   7775.678     36.061      0.000    2.65e+05    2.96e+05\n",
      "workex      1.145e+04    1.2e+04      0.956      0.341   -1.22e+04    3.51e+04\n",
      "==============================================================================\n",
      "Omnibus:                       87.505   Durbin-Watson:                   0.070\n",
      "Prob(Omnibus):                  0.000   Jarque-Bera (JB):              464.996\n",
      "Skew:                           2.279   Prob(JB):                    1.07e-101\n",
      "Kurtosis:                      10.678   Cond. No.                         2.47\n",
      "==============================================================================\n",
      "\n",
      "Warnings:\n",
      "[1] Standard Errors assume that the covariance matrix of the errors is correctly specified.\n"
     ]
    }
   ],
   "source": [
    "# generate linear regression model. Work experience is the predictor \n",
    "gender_outcome, gender_predictor = patsy.dmatrices('salary ~ workex', gender_wo_out)\n",
    "gender_model = sm.OLS(gender_outcome, gender_predictor)\n",
    "gender_result = gender_model.fit()\n",
    "print(gender_result.summary())"
   ]
  },
  {
   "cell_type": "markdown",
   "metadata": {
    "id": "eqkAZp-KS-n5"
   },
   "source": [
    "#### Further Exploration on the Dataset for Gender and Internship Experience"
   ]
  },
  {
   "cell_type": "markdown",
   "metadata": {
    "id": "sv5tumJIfk7q"
   },
   "source": [
    "When we only consider gender or internship experience to predict salary, the R-squared is really small, which means that the model is not good enough. So we decide to add in other factors to run a multiple lienar regression to improve our model. "
   ]
  },
  {
   "cell_type": "code",
   "execution_count": null,
   "metadata": {
    "colab": {
     "background_save": true
    },
    "id": "KcIvMyWKfnrJ",
    "outputId": "c06376a1-c312-4db0-9033-bd54079cb849"
   },
   "outputs": [
    {
     "name": "stdout",
     "output_type": "stream",
     "text": [
      "                            OLS Regression Results                            \n",
      "==============================================================================\n",
      "Dep. Variable:                 salary   R-squared:                       0.103\n",
      "Model:                            OLS   Adj. R-squared:                  0.083\n",
      "Method:                 Least Squares   F-statistic:                     5.220\n",
      "Date:                Sun, 06 Jun 2021   Prob (F-statistic):            0.00193\n",
      "Time:                        15:10:05   Log-Likelihood:                -1752.3\n",
      "No. Observations:                 140   AIC:                             3513.\n",
      "Df Residuals:                     136   BIC:                             3524.\n",
      "Df Model:                           3                                         \n",
      "Covariance Type:            nonrobust                                         \n",
      "==================================================================================\n",
      "                     coef    std err          t      P>|t|      [0.025      0.975]\n",
      "----------------------------------------------------------------------------------\n",
      "Intercept       2.495e+05   1.17e+04     21.384      0.000    2.26e+05    2.73e+05\n",
      "gender[T.male]   3.33e+04   1.24e+04      2.681      0.008    8734.688    5.79e+04\n",
      "major           3.195e+04   1.05e+04      3.036      0.003    1.11e+04    5.28e+04\n",
      "workex          2859.6550   1.17e+04      0.245      0.807   -2.02e+04     2.6e+04\n",
      "==============================================================================\n",
      "Omnibus:                       78.807   Durbin-Watson:                   0.271\n",
      "Prob(Omnibus):                  0.000   Jarque-Bera (JB):              365.113\n",
      "Skew:                           2.058   Prob(JB):                     5.21e-80\n",
      "Kurtosis:                       9.757   Cond. No.                         3.95\n",
      "==============================================================================\n",
      "\n",
      "Warnings:\n",
      "[1] Standard Errors assume that the covariance matrix of the errors is correctly specified.\n"
     ]
    }
   ],
   "source": [
    "#hot encode major \n",
    "gender_wo_out['major'] = gender_wo_out.major.map({\"Comm&Mgmt\":0,\"Sci&Tech\":1, \"Others\":2})\n",
    "#generate regression model for gender, major, workex\n",
    "gender_outcome, gender_predictor = patsy.dmatrices('salary ~ gender + major + workex', gender_wo_out)\n",
    "gender_model = sm.OLS(gender_outcome, gender_predictor)\n",
    "gender_result = gender_model.fit()\n",
    "print(gender_result.summary())"
   ]
  },
  {
   "cell_type": "markdown",
   "metadata": {
    "id": "t4SkWyqYfq0o"
   },
   "source": [
    "Since the R-square is only 0.103, which indicates that the model barely represent the relationship between outcome and predictors, we decide to include some other columns from the original dataset. We will use exlusive method by checking the p-value of each predictors or vairables in our regression model, trying to find the most significant factors that influence the salary within this dataset."
   ]
  },
  {
   "cell_type": "code",
   "execution_count": null,
   "metadata": {
    "colab": {
     "background_save": true
    },
    "id": "QykhwfF3fqDd",
    "outputId": "078b2d44-ce26-422c-c3e7-73575252ed3f"
   },
   "outputs": [
    {
     "data": {
      "text/plain": [
       "(148, 15)"
      ]
     },
     "execution_count": 0,
     "metadata": {
      "tags": []
     },
     "output_type": "execute_result"
    }
   ],
   "source": [
    "#check the shape of dataset\n",
    "gender.shape"
   ]
  },
  {
   "cell_type": "code",
   "execution_count": null,
   "metadata": {
    "colab": {
     "background_save": true
    },
    "id": "CHjKEHWxfuLJ"
   },
   "outputs": [],
   "source": [
    "#This time we consider the original dataset and drop some useless columns\n",
    "gender_df2 = gender.drop(columns=['sl_no','status','ssc_b','hsc_b','hsc_s'])\n",
    "gender_df2 = gender_df2.dropna()"
   ]
  },
  {
   "cell_type": "code",
   "execution_count": null,
   "metadata": {
    "colab": {
     "background_save": true
    },
    "id": "2Wbm9_lYfwRk"
   },
   "outputs": [],
   "source": [
    "#Doing data cleaning for the new dataset\n",
    "gender_df2['workex'] = gender_df2['workex'].apply(binarize_column)\n",
    "gender_df2['gender'] = gender_df2['gender'].apply(standardize_gender)\n",
    "gender_df2 = gender_df2.rename(columns = {'degree_t': 'major'})"
   ]
  },
  {
   "cell_type": "code",
   "execution_count": null,
   "metadata": {
    "colab": {
     "background_save": true
    },
    "id": "CpivGEBif3P9",
    "outputId": "4c916193-2662-4c59-c459-8993fa49e70c"
   },
   "outputs": [
    {
     "data": {
      "text/html": [
       "<div>\n",
       "<style scoped>\n",
       "    .dataframe tbody tr th:only-of-type {\n",
       "        vertical-align: middle;\n",
       "    }\n",
       "\n",
       "    .dataframe tbody tr th {\n",
       "        vertical-align: top;\n",
       "    }\n",
       "\n",
       "    .dataframe thead th {\n",
       "        text-align: right;\n",
       "    }\n",
       "</style>\n",
       "<table border=\"1\" class=\"dataframe\">\n",
       "  <thead>\n",
       "    <tr style=\"text-align: right;\">\n",
       "      <th></th>\n",
       "      <th>gender</th>\n",
       "      <th>ssc_p</th>\n",
       "      <th>hsc_p</th>\n",
       "      <th>degree_p</th>\n",
       "      <th>major</th>\n",
       "      <th>workex</th>\n",
       "      <th>etest_p</th>\n",
       "      <th>specialisation</th>\n",
       "      <th>mba_p</th>\n",
       "      <th>salary</th>\n",
       "    </tr>\n",
       "  </thead>\n",
       "  <tbody>\n",
       "    <tr>\n",
       "      <th>0</th>\n",
       "      <td>male</td>\n",
       "      <td>67.00</td>\n",
       "      <td>91.00</td>\n",
       "      <td>58.00</td>\n",
       "      <td>Sci&amp;Tech</td>\n",
       "      <td>0</td>\n",
       "      <td>55.0</td>\n",
       "      <td>Mkt&amp;HR</td>\n",
       "      <td>58.80</td>\n",
       "      <td>270000.0</td>\n",
       "    </tr>\n",
       "    <tr>\n",
       "      <th>1</th>\n",
       "      <td>male</td>\n",
       "      <td>79.33</td>\n",
       "      <td>78.33</td>\n",
       "      <td>77.48</td>\n",
       "      <td>Sci&amp;Tech</td>\n",
       "      <td>1</td>\n",
       "      <td>86.5</td>\n",
       "      <td>Mkt&amp;Fin</td>\n",
       "      <td>66.28</td>\n",
       "      <td>200000.0</td>\n",
       "    </tr>\n",
       "    <tr>\n",
       "      <th>2</th>\n",
       "      <td>male</td>\n",
       "      <td>65.00</td>\n",
       "      <td>68.00</td>\n",
       "      <td>64.00</td>\n",
       "      <td>Comm&amp;Mgmt</td>\n",
       "      <td>0</td>\n",
       "      <td>75.0</td>\n",
       "      <td>Mkt&amp;Fin</td>\n",
       "      <td>57.80</td>\n",
       "      <td>250000.0</td>\n",
       "    </tr>\n",
       "    <tr>\n",
       "      <th>4</th>\n",
       "      <td>male</td>\n",
       "      <td>85.80</td>\n",
       "      <td>73.60</td>\n",
       "      <td>73.30</td>\n",
       "      <td>Comm&amp;Mgmt</td>\n",
       "      <td>0</td>\n",
       "      <td>96.8</td>\n",
       "      <td>Mkt&amp;Fin</td>\n",
       "      <td>55.50</td>\n",
       "      <td>425000.0</td>\n",
       "    </tr>\n",
       "    <tr>\n",
       "      <th>7</th>\n",
       "      <td>male</td>\n",
       "      <td>82.00</td>\n",
       "      <td>64.00</td>\n",
       "      <td>66.00</td>\n",
       "      <td>Sci&amp;Tech</td>\n",
       "      <td>1</td>\n",
       "      <td>67.0</td>\n",
       "      <td>Mkt&amp;Fin</td>\n",
       "      <td>62.14</td>\n",
       "      <td>252000.0</td>\n",
       "    </tr>\n",
       "  </tbody>\n",
       "</table>\n",
       "</div>"
      ],
      "text/plain": [
       "  gender  ssc_p  hsc_p  degree_p  ... etest_p  specialisation  mba_p    salary\n",
       "0   male  67.00  91.00     58.00  ...    55.0          Mkt&HR  58.80  270000.0\n",
       "1   male  79.33  78.33     77.48  ...    86.5         Mkt&Fin  66.28  200000.0\n",
       "2   male  65.00  68.00     64.00  ...    75.0         Mkt&Fin  57.80  250000.0\n",
       "4   male  85.80  73.60     73.30  ...    96.8         Mkt&Fin  55.50  425000.0\n",
       "7   male  82.00  64.00     66.00  ...    67.0         Mkt&Fin  62.14  252000.0\n",
       "\n",
       "[5 rows x 10 columns]"
      ]
     },
     "execution_count": 0,
     "metadata": {
      "tags": []
     },
     "output_type": "execute_result"
    }
   ],
   "source": [
    "gender_df2.head()"
   ]
  },
  {
   "cell_type": "code",
   "execution_count": null,
   "metadata": {
    "colab": {
     "background_save": true
    },
    "id": "Z2eEjBo8f4w3"
   },
   "outputs": [],
   "source": [
    "# try to filter out the outliers\n",
    "f_lower= gender_df2[gender_df2['gender']=='female'].salary.quantile(0.01)\n",
    "f_upper = gender_df2[gender_df2['gender']=='female'].salary.quantile(0.99)\n",
    "\n",
    "m_lower= gender_df2[gender_df2['gender']=='male'].salary.quantile(0.01)\n",
    "m_upper = gender_df2[gender_df2['gender']=='male'].salary.quantile(0.99)\n",
    "\n",
    "gender_wo_out2 = gender_df2\n",
    "\n",
    "gender_wo_out2 = gender_wo_out2.drop(gender_wo_out2[(gender_wo_out2['gender']=='female')&(gender_wo_out2['salary']<=f_lower)].index)\n",
    "gender_wo_out2 = gender_wo_out2.drop(gender_wo_out2[(gender_wo_out2['gender']=='female')&(gender_wo_out2['salary']>=f_upper)].index)\n",
    "\n",
    "gender_wo_out2 = gender_wo_out2.drop(gender_wo_out2[(gender_wo_out2['gender']=='male')&(gender_wo_out2['salary']<=m_lower)].index)\n",
    "gender_wo_out2 = gender_wo_out2.drop(gender_wo_out2[(gender_wo_out2['gender']=='male')&(gender_wo_out2['salary']>=m_upper)].index)\n",
    "\n",
    "gender_wo_out2['major'] = gender_wo_out2.major.map({\"Comm&Mgmt\":0,\"Sci&Tech\":1, \"Others\":2})"
   ]
  },
  {
   "cell_type": "code",
   "execution_count": null,
   "metadata": {
    "colab": {
     "background_save": true
    },
    "id": "d5Rfeiknf6uv",
    "outputId": "1e884e27-d047-487e-9202-cae8fb70c3ad"
   },
   "outputs": [
    {
     "name": "stdout",
     "output_type": "stream",
     "text": [
      "                            OLS Regression Results                            \n",
      "==============================================================================\n",
      "Dep. Variable:                 salary   R-squared:                       0.175\n",
      "Model:                            OLS   Adj. R-squared:                  0.118\n",
      "Method:                 Least Squares   F-statistic:                     3.068\n",
      "Date:                Sun, 06 Jun 2021   Prob (F-statistic):            0.00229\n",
      "Time:                        15:10:05   Log-Likelihood:                -1746.5\n",
      "No. Observations:                 140   AIC:                             3513.\n",
      "Df Residuals:                     130   BIC:                             3542.\n",
      "Df Model:                           9                                         \n",
      "Covariance Type:            nonrobust                                         \n",
      "============================================================================================\n",
      "                               coef    std err          t      P>|t|      [0.025      0.975]\n",
      "--------------------------------------------------------------------------------------------\n",
      "Intercept                 1.082e+05   8.25e+04      1.311      0.192    -5.5e+04    2.71e+05\n",
      "gender[T.male]             3.98e+04   1.31e+04      3.048      0.003     1.4e+04    6.56e+04\n",
      "specialisation[T.Mkt&HR] -9937.0081   1.25e+04     -0.797      0.427   -3.46e+04    1.47e+04\n",
      "ssc_p                      570.2127    769.258      0.741      0.460    -951.672    2092.097\n",
      "hsc_p                     -391.5325    679.206     -0.576      0.565   -1735.261     952.196\n",
      "degree_p                 -1048.9545   1023.510     -1.025      0.307   -3073.847     975.938\n",
      "major                      2.66e+04   1.09e+04      2.449      0.016    5109.460    4.81e+04\n",
      "workex                   -5806.5006   1.19e+04     -0.490      0.625   -2.93e+04    1.76e+04\n",
      "etest_p                    236.9622    460.946      0.514      0.608    -674.965    1148.890\n",
      "mba_p                     2997.9876   1217.621      2.462      0.015     589.070    5406.905\n",
      "==============================================================================\n",
      "Omnibus:                       81.657   Durbin-Watson:                   2.129\n",
      "Prob(Omnibus):                  0.000   Jarque-Bera (JB):              439.462\n",
      "Skew:                           2.073   Prob(JB):                     3.73e-96\n",
      "Kurtosis:                      10.626   Cond. No.                     2.31e+03\n",
      "==============================================================================\n",
      "\n",
      "Warnings:\n",
      "[1] Standard Errors assume that the covariance matrix of the errors is correctly specified.\n",
      "[2] The condition number is large, 2.31e+03. This might indicate that there are\n",
      "strong multicollinearity or other numerical problems.\n"
     ]
    }
   ],
   "source": [
    "gender_outcome, gender_predictor = patsy.dmatrices('salary ~ gender+ssc_p+hsc_p+degree_p+major+workex+etest_p+specialisation+mba_p', \n",
    "                                                   gender_wo_out2)\n",
    "gender_model = sm.OLS(gender_outcome, gender_predictor)\n",
    "gender_result = gender_model.fit()\n",
    "print(gender_result.summary())"
   ]
  },
  {
   "cell_type": "markdown",
   "metadata": {
    "id": "MUjLfYOIf-Ux"
   },
   "source": [
    "We can remove the least significant variable which has the highest p-value.\n",
    "\n",
    "So we remove workex."
   ]
  },
  {
   "cell_type": "code",
   "execution_count": null,
   "metadata": {
    "colab": {
     "background_save": true
    },
    "id": "UlZKDtesf_An",
    "outputId": "4a9579b0-ecaf-4240-947c-443cc6a5c9ae"
   },
   "outputs": [
    {
     "name": "stdout",
     "output_type": "stream",
     "text": [
      "                            OLS Regression Results                            \n",
      "==============================================================================\n",
      "Dep. Variable:                 salary   R-squared:                       0.174\n",
      "Model:                            OLS   Adj. R-squared:                  0.123\n",
      "Method:                 Least Squares   F-statistic:                     3.441\n",
      "Date:                Sun, 06 Jun 2021   Prob (F-statistic):            0.00125\n",
      "Time:                        15:10:05   Log-Likelihood:                -1746.6\n",
      "No. Observations:                 140   AIC:                             3511.\n",
      "Df Residuals:                     131   BIC:                             3538.\n",
      "Df Model:                           8                                         \n",
      "Covariance Type:            nonrobust                                         \n",
      "============================================================================================\n",
      "                               coef    std err          t      P>|t|      [0.025      0.975]\n",
      "--------------------------------------------------------------------------------------------\n",
      "Intercept                 1.085e+05   8.23e+04      1.319      0.190   -5.42e+04    2.71e+05\n",
      "gender[T.male]            3.885e+04   1.29e+04      3.017      0.003    1.34e+04    6.43e+04\n",
      "specialisation[T.Mkt&HR] -9238.8456   1.24e+04     -0.748      0.456   -3.37e+04    1.52e+04\n",
      "ssc_p                      552.1080    766.138      0.721      0.472    -963.496    2067.712\n",
      "hsc_p                     -357.1657    673.613     -0.530      0.597   -1689.732     975.401\n",
      "degree_p                 -1003.0416   1016.252     -0.987      0.325   -3013.429    1007.346\n",
      "major                     2.593e+04   1.07e+04      2.413      0.017    4674.505    4.72e+04\n",
      "etest_p                    248.8600    458.969      0.542      0.589    -659.091    1156.811\n",
      "mba_p                     2882.4310   1191.093      2.420      0.017     526.164    5238.698\n",
      "==============================================================================\n",
      "Omnibus:                       80.596   Durbin-Watson:                   2.118\n",
      "Prob(Omnibus):                  0.000   Jarque-Bera (JB):              421.761\n",
      "Skew:                           2.052   Prob(JB):                     2.61e-92\n",
      "Kurtosis:                      10.447   Cond. No.                     2.31e+03\n",
      "==============================================================================\n",
      "\n",
      "Warnings:\n",
      "[1] Standard Errors assume that the covariance matrix of the errors is correctly specified.\n",
      "[2] The condition number is large, 2.31e+03. This might indicate that there are\n",
      "strong multicollinearity or other numerical problems.\n"
     ]
    }
   ],
   "source": [
    "gender_outcome, gender_predictor = patsy.dmatrices('salary ~ gender+ssc_p+hsc_p+degree_p+major+etest_p+specialisation+mba_p', \n",
    "                                                   gender_wo_out2)\n",
    "gender_model = sm.OLS(gender_outcome, gender_predictor)\n",
    "gender_result = gender_model.fit()\n",
    "print(gender_result.summary())"
   ]
  },
  {
   "cell_type": "markdown",
   "metadata": {
    "id": "4O6CP1CGgCen"
   },
   "source": [
    "Applying the same principle, we remove hsc_p."
   ]
  },
  {
   "cell_type": "code",
   "execution_count": null,
   "metadata": {
    "colab": {
     "background_save": true
    },
    "id": "9Of3KvcygAo_",
    "outputId": "f4f635d3-42f8-45f5-9d4a-2bf584a0361f"
   },
   "outputs": [
    {
     "name": "stdout",
     "output_type": "stream",
     "text": [
      "                            OLS Regression Results                            \n",
      "==============================================================================\n",
      "Dep. Variable:                 salary   R-squared:                       0.172\n",
      "Model:                            OLS   Adj. R-squared:                  0.128\n",
      "Method:                 Least Squares   F-statistic:                     3.914\n",
      "Date:                Sun, 06 Jun 2021   Prob (F-statistic):           0.000655\n",
      "Time:                        15:10:05   Log-Likelihood:                -1746.7\n",
      "No. Observations:                 140   AIC:                             3509.\n",
      "Df Residuals:                     132   BIC:                             3533.\n",
      "Df Model:                           7                                         \n",
      "Covariance Type:            nonrobust                                         \n",
      "============================================================================================\n",
      "                               coef    std err          t      P>|t|      [0.025      0.975]\n",
      "--------------------------------------------------------------------------------------------\n",
      "Intercept                 9.722e+04   7.92e+04      1.227      0.222   -5.95e+04    2.54e+05\n",
      "gender[T.male]             3.86e+04   1.28e+04      3.008      0.003    1.32e+04     6.4e+04\n",
      "specialisation[T.Mkt&HR] -9032.8026   1.23e+04     -0.734      0.464   -3.34e+04    1.53e+04\n",
      "ssc_p                      477.6066    751.089      0.636      0.526   -1008.123    1963.336\n",
      "degree_p                  -985.0597   1012.916     -0.972      0.333   -2988.708    1018.588\n",
      "major                      2.68e+04   1.06e+04      2.530      0.013    5849.455    4.78e+04\n",
      "etest_p                    218.4524    454.131      0.481      0.631    -679.863    1116.768\n",
      "mba_p                     2763.0539   1166.432      2.369      0.019     455.736    5070.372\n",
      "==============================================================================\n",
      "Omnibus:                       81.535   Durbin-Watson:                   2.135\n",
      "Prob(Omnibus):                  0.000   Jarque-Bera (JB):              439.853\n",
      "Skew:                           2.067   Prob(JB):                     3.07e-96\n",
      "Kurtosis:                      10.636   Cond. No.                     1.99e+03\n",
      "==============================================================================\n",
      "\n",
      "Warnings:\n",
      "[1] Standard Errors assume that the covariance matrix of the errors is correctly specified.\n",
      "[2] The condition number is large, 1.99e+03. This might indicate that there are\n",
      "strong multicollinearity or other numerical problems.\n"
     ]
    }
   ],
   "source": [
    "gender_outcome, gender_predictor = patsy.dmatrices('salary ~ gender+ssc_p+degree_p+major+etest_p+specialisation+mba_p', \n",
    "                                                   gender_wo_out2)\n",
    "gender_model = sm.OLS(gender_outcome, gender_predictor)\n",
    "gender_result = gender_model.fit()\n",
    "print(gender_result.summary())"
   ]
  },
  {
   "cell_type": "markdown",
   "metadata": {
    "id": "EvlHaN5mgEgD"
   },
   "source": [
    "Applying the same principle,We remove etest_p."
   ]
  },
  {
   "cell_type": "code",
   "execution_count": null,
   "metadata": {
    "colab": {
     "background_save": true
    },
    "id": "mgG48CmwgF9I",
    "outputId": "43e16a91-6a49-4236-8880-6b4e17846f01"
   },
   "outputs": [
    {
     "name": "stdout",
     "output_type": "stream",
     "text": [
      "                            OLS Regression Results                            \n",
      "==============================================================================\n",
      "Dep. Variable:                 salary   R-squared:                       0.170\n",
      "Model:                            OLS   Adj. R-squared:                  0.133\n",
      "Method:                 Least Squares   F-statistic:                     4.554\n",
      "Date:                Sun, 06 Jun 2021   Prob (F-statistic):           0.000311\n",
      "Time:                        15:10:05   Log-Likelihood:                -1746.9\n",
      "No. Observations:                 140   AIC:                             3508.\n",
      "Df Residuals:                     133   BIC:                             3528.\n",
      "Df Model:                           6                                         \n",
      "Covariance Type:            nonrobust                                         \n",
      "============================================================================================\n",
      "                               coef    std err          t      P>|t|      [0.025      0.975]\n",
      "--------------------------------------------------------------------------------------------\n",
      "Intercept                 1.003e+05   7.88e+04      1.274      0.205   -5.55e+04    2.56e+05\n",
      "gender[T.male]             3.99e+04   1.25e+04      3.191      0.002    1.52e+04    6.46e+04\n",
      "specialisation[T.Mkt&HR] -1.039e+04   1.19e+04     -0.870      0.386    -3.4e+04    1.32e+04\n",
      "ssc_p                      566.2062    726.049      0.780      0.437    -869.890    2002.303\n",
      "degree_p                  -962.9586   1008.945     -0.954      0.342   -2958.614    1032.696\n",
      "major                     2.681e+04   1.06e+04      2.539      0.012    5921.336    4.77e+04\n",
      "mba_p                     2836.2646   1153.114      2.460      0.015     555.450    5117.079\n",
      "==============================================================================\n",
      "Omnibus:                       79.167   Durbin-Watson:                   2.144\n",
      "Prob(Omnibus):                  0.000   Jarque-Bera (JB):              402.497\n",
      "Skew:                           2.020   Prob(JB):                     3.97e-88\n",
      "Kurtosis:                      10.258   Cond. No.                     1.68e+03\n",
      "==============================================================================\n",
      "\n",
      "Warnings:\n",
      "[1] Standard Errors assume that the covariance matrix of the errors is correctly specified.\n",
      "[2] The condition number is large, 1.68e+03. This might indicate that there are\n",
      "strong multicollinearity or other numerical problems.\n"
     ]
    }
   ],
   "source": [
    "gender_outcome, gender_predictor = patsy.dmatrices('salary ~ gender+ssc_p+degree_p+major+specialisation+mba_p', \n",
    "                                                   gender_wo_out2)\n",
    "gender_model = sm.OLS(gender_outcome, gender_predictor)\n",
    "gender_result = gender_model.fit()\n",
    "print(gender_result.summary())"
   ]
  },
  {
   "cell_type": "markdown",
   "metadata": {
    "id": "bLOBfTgGgHY9"
   },
   "source": [
    "Applying the same principle,We remove ssc_p."
   ]
  },
  {
   "cell_type": "code",
   "execution_count": null,
   "metadata": {
    "colab": {
     "background_save": true
    },
    "id": "flZZ0-7ngJJm",
    "outputId": "27b0d31b-9161-4079-f779-2765c92c567b"
   },
   "outputs": [
    {
     "name": "stdout",
     "output_type": "stream",
     "text": [
      "                            OLS Regression Results                            \n",
      "==============================================================================\n",
      "Dep. Variable:                 salary   R-squared:                       0.167\n",
      "Model:                            OLS   Adj. R-squared:                  0.136\n",
      "Method:                 Least Squares   F-statistic:                     5.359\n",
      "Date:                Sun, 06 Jun 2021   Prob (F-statistic):           0.000159\n",
      "Time:                        15:10:05   Log-Likelihood:                -1747.2\n",
      "No. Observations:                 140   AIC:                             3506.\n",
      "Df Residuals:                     134   BIC:                             3524.\n",
      "Df Model:                           5                                         \n",
      "Covariance Type:            nonrobust                                         \n",
      "============================================================================================\n",
      "                               coef    std err          t      P>|t|      [0.025      0.975]\n",
      "--------------------------------------------------------------------------------------------\n",
      "Intercept                 1.149e+05   7.64e+04      1.505      0.135   -3.61e+04    2.66e+05\n",
      "gender[T.male]            3.919e+04   1.25e+04      3.147      0.002    1.46e+04    6.38e+04\n",
      "specialisation[T.Mkt&HR] -1.095e+04   1.19e+04     -0.919      0.360   -3.45e+04    1.26e+04\n",
      "degree_p                  -791.2296    983.181     -0.805      0.422   -2735.789    1153.330\n",
      "major                     2.845e+04   1.03e+04      2.753      0.007    8013.335    4.89e+04\n",
      "mba_p                     3065.6784   1113.326      2.754      0.007     863.713    5267.644\n",
      "==============================================================================\n",
      "Omnibus:                       78.958   Durbin-Watson:                   2.152\n",
      "Prob(Omnibus):                  0.000   Jarque-Bera (JB):              398.256\n",
      "Skew:                           2.017   Prob(JB):                     3.31e-87\n",
      "Kurtosis:                      10.211   Cond. No.                     1.29e+03\n",
      "==============================================================================\n",
      "\n",
      "Warnings:\n",
      "[1] Standard Errors assume that the covariance matrix of the errors is correctly specified.\n",
      "[2] The condition number is large, 1.29e+03. This might indicate that there are\n",
      "strong multicollinearity or other numerical problems.\n"
     ]
    }
   ],
   "source": [
    "gender_outcome, gender_predictor = patsy.dmatrices('salary ~ gender+degree_p+major+specialisation+mba_p', \n",
    "                                                   gender_wo_out2)\n",
    "gender_model = sm.OLS(gender_outcome, gender_predictor)\n",
    "gender_result = gender_model.fit()\n",
    "print(gender_result.summary())"
   ]
  },
  {
   "cell_type": "markdown",
   "metadata": {
    "id": "590oDh7sgKuL"
   },
   "source": [
    "Applying the same principle,we remove degree_p."
   ]
  },
  {
   "cell_type": "code",
   "execution_count": null,
   "metadata": {
    "colab": {
     "background_save": true
    },
    "id": "55swO37ugMSO",
    "outputId": "60783d11-1ff9-4df6-f7bb-698b99413969"
   },
   "outputs": [
    {
     "name": "stdout",
     "output_type": "stream",
     "text": [
      "                            OLS Regression Results                            \n",
      "==============================================================================\n",
      "Dep. Variable:                 salary   R-squared:                       0.163\n",
      "Model:                            OLS   Adj. R-squared:                  0.138\n",
      "Method:                 Least Squares   F-statistic:                     6.554\n",
      "Date:                Sun, 06 Jun 2021   Prob (F-statistic):           7.51e-05\n",
      "Time:                        15:10:05   Log-Likelihood:                -1747.5\n",
      "No. Observations:                 140   AIC:                             3505.\n",
      "Df Residuals:                     135   BIC:                             3520.\n",
      "Df Model:                           4                                         \n",
      "Covariance Type:            nonrobust                                         \n",
      "============================================================================================\n",
      "                               coef    std err          t      P>|t|      [0.025      0.975]\n",
      "--------------------------------------------------------------------------------------------\n",
      "Intercept                 8.397e+04   6.59e+04      1.274      0.205   -4.63e+04    2.14e+05\n",
      "gender[T.male]            4.025e+04   1.24e+04      3.254      0.001    1.58e+04    6.47e+04\n",
      "specialisation[T.Mkt&HR] -1.082e+04   1.19e+04     -0.910      0.365   -3.43e+04    1.27e+04\n",
      "major                     2.924e+04   1.03e+04      2.846      0.005    8920.587    4.96e+04\n",
      "mba_p                     2676.6777   1001.610      2.672      0.008     695.802    4657.554\n",
      "==============================================================================\n",
      "Omnibus:                       82.137   Durbin-Watson:                   2.144\n",
      "Prob(Omnibus):                  0.000   Jarque-Bera (JB):              448.040\n",
      "Skew:                           2.082   Prob(JB):                     5.12e-98\n",
      "Kurtosis:                      10.712   Cond. No.                         754.\n",
      "==============================================================================\n",
      "\n",
      "Warnings:\n",
      "[1] Standard Errors assume that the covariance matrix of the errors is correctly specified.\n"
     ]
    }
   ],
   "source": [
    "gender_outcome, gender_predictor = patsy.dmatrices('salary ~ gender+major+specialisation+mba_p', \n",
    "                                                   gender_wo_out2)\n",
    "gender_model = sm.OLS(gender_outcome, gender_predictor)\n",
    "gender_result = gender_model.fit()\n",
    "print(gender_result.summary())"
   ]
  },
  {
   "cell_type": "markdown",
   "metadata": {
    "id": "GQe13KpYgO8I"
   },
   "source": [
    "Applying the same principle, we remove specialisation."
   ]
  },
  {
   "cell_type": "code",
   "execution_count": null,
   "metadata": {
    "colab": {
     "background_save": true
    },
    "id": "rDQifMY-gPbK",
    "outputId": "80f4a07d-8741-44d9-995f-4dd8d1a22f91"
   },
   "outputs": [
    {
     "name": "stdout",
     "output_type": "stream",
     "text": [
      "                            OLS Regression Results                            \n",
      "==============================================================================\n",
      "Dep. Variable:                 salary   R-squared:                       0.157\n",
      "Model:                            OLS   Adj. R-squared:                  0.139\n",
      "Method:                 Least Squares   F-statistic:                     8.474\n",
      "Date:                Sun, 06 Jun 2021   Prob (F-statistic):           3.35e-05\n",
      "Time:                        15:10:05   Log-Likelihood:                -1747.9\n",
      "No. Observations:                 140   AIC:                             3504.\n",
      "Df Residuals:                     136   BIC:                             3516.\n",
      "Df Model:                           3                                         \n",
      "Covariance Type:            nonrobust                                         \n",
      "==================================================================================\n",
      "                     coef    std err          t      P>|t|      [0.025      0.975]\n",
      "----------------------------------------------------------------------------------\n",
      "Intercept       6.629e+04   6.29e+04      1.054      0.294   -5.81e+04    1.91e+05\n",
      "gender[T.male]  4.168e+04   1.23e+04      3.400      0.001    1.74e+04    6.59e+04\n",
      "major           2.792e+04   1.02e+04      2.747      0.007    7818.382     4.8e+04\n",
      "mba_p           2889.9859    973.149      2.970      0.004     965.524    4814.448\n",
      "==============================================================================\n",
      "Omnibus:                       84.991   Durbin-Watson:                   2.121\n",
      "Prob(Omnibus):                  0.000   Jarque-Bera (JB):              491.506\n",
      "Skew:                           2.146   Prob(JB):                    1.87e-107\n",
      "Kurtosis:                      11.114   Cond. No.                         720.\n",
      "==============================================================================\n",
      "\n",
      "Warnings:\n",
      "[1] Standard Errors assume that the covariance matrix of the errors is correctly specified.\n"
     ]
    }
   ],
   "source": [
    "gender_outcome, gender_predictor = patsy.dmatrices('salary ~ gender+major+mba_p', \n",
    "                                                   gender_wo_out2)\n",
    "gender_model = sm.OLS(gender_outcome, gender_predictor)\n",
    "gender_result = gender_model.fit()\n",
    "print(gender_result.summary())"
   ]
  },
  {
   "cell_type": "markdown",
   "metadata": {
    "id": "0mUaWW3Qbwmm"
   },
   "source": [
    "After removing those least significant variables, gender, major, and mba_p are left.\n",
    "The model has a low R-square value which indicates the predictors cannot precisely predict the outcome using this model. \n",
    "\n",
    "However, comparing to other variables, gender, major, and MBA percentage significantly affect the salary.This also calls back to the previous regression results, where the linear regression model for major has a higher R-squared value compared to those of the other three factors."
   ]
  },
  {
   "cell_type": "markdown",
   "metadata": {
    "id": "AkzVFo8cTaL4"
   },
   "source": [
    "# Ethics & Privacy"
   ]
  },
  {
   "cell_type": "markdown",
   "metadata": {
    "id": "snTx-DMJqDLH"
   },
   "source": [
    "In our dataset, it may contain many potential biases with the data. After merging the two datasets, we have only 90 observations, so our dataset does not include every university in the US. This means that our dataset does not completely represent the entire population that we are targeting. Another potential bias can come from the collectors of the dataset. Sources collect data through different methodologies and categorize variables in different ways. Although our datasets were collected from Kaggle, a credible source, they were collected from different people and through different methodologies. This could potentially add human biases but would only have minimal effect. Other than biases, we did not have major privacy and terms of use issues with our data. No personal names were revealed, and the datasets are public to everyone.\n",
    "\n",
    "Even though we aim to minimize biases and privacy issues, there could be other issues related to our topic and data. For example, our data and results may reflect spurious correlations to race/ethnicity; some universities may have a higher international student population, reflecting a higher international recognition. Other inherent issues include the nature of certain jobs. The salary of some government jobs may be kept private, leaving a gap for salaries for students majoring in political science. Despite eliminating bias and privacy issues, there may also be potential negative consequences of our findings. Our results may discourage people from choosing particular majors or universities because they turn out to get a lower starting salary. However, our results only provide insight on the starting salaries, and many fields have a longer preparation time and may have a higher average salary overall. \n"
   ]
  },
  {
   "cell_type": "markdown",
   "metadata": {
    "id": "TfM6ZhY7TfJ6"
   },
   "source": [
    "#Conclusion & Discussion"
   ]
  },
  {
   "cell_type": "markdown",
   "metadata": {
    "id": "zLUGmSmlqGye"
   },
   "source": [
    "In this project, we try to explore any potential relationships between the starting salary of college graduates and four main factors: major, college quality, gender, and internship experience. We hypothesized that major would be the most influential factor due to high demands on graduates from majors like Engineering and Computer Science from the industry. Three online datasets were recruited for our subsequent analysis. The first dataset contains information about majors and their starting salaries. We kept the necessary columns, and subdivided the majors into five groups: Arts, Business, Engineering & Tech, Math & Sci, and Social Sci/Lit/Lang. We then fitted an OLS model between the subgroups and starting salaries, gaining an R-squared value of 0.63 and a p-value less than 0.0005. The second dataset provides information about college rank, and was merged with a part of the first dataset which contains names of the colleges and the median starting salaries of their graduates. After excluding the outliers, another OLS model was fitted, resulting in an R-squared value of 0.354 and p-values less than 0.0005. The third dataset includes information mainly on gender, work experience, and the starting salary. We trained the OLS model solely on gender as the predictor for the starting salary, which gave out a small R-squared value of 0.039, and a large p-value of 0.2. We then trained the OLS model solely on work experience as the predictor. The resulting R-squared value is only 0.007, and the p-value is 0.341. Overall, our hypothesis is supported by these models as the linear regression model based on majors has the largest R-squared value among the four.\n",
    "\n",
    "Comparing results from these models, we conclude that major is the most representative factors among the four since its linear regression model has the highest R-squared value among them. In other words, the model for major explains the most variability of the starting salary, which makes it the most influential factor among the four. These results support our hypothesis. Noticably, the model of the third dataset, which contains gender, has a very low R-squared value which means the OLS model can barely use gender to predict the starting salary. To further confirm whether gender matters, we decided to take some other variables (secondary education percentage, higher secondary education percentage, degree percentage…)  in the original dataset into account and gradually remove the less significant variables. In the end, the remaining variables are gender and major. Although the third model barely shows any influence of predictors on the starting salary, this result may imply that gender and major are relatively influential comparing to other factors such as work experience.\n",
    "\n",
    "However, since we use three separate datasets to train different OLS models, the result is not persuasive enough. The unrepresentativeness of the third model could be attributed to the dataset and variables. Since gender is a binary variable, it is not appropriate to use it as a predictor to train the OLS model. If we had a dataset that contains gender, college ranks, internship experience, majors, and starting salaries in a single table, or if models other than linear regression are considered, the result may be more persuasive. Anyway, based on this result, we conclude that starting salaries of college graduates are influenced more by the majors they have chosen comparing to other factors like college quality, gender, or internship experience. Therefore, students entering colleges should choose wisely on their major if they want to find a job with high starting salary right after they got their bachelor’s degrees."
   ]
  },
  {
   "cell_type": "markdown",
   "metadata": {
    "id": "l1yJHzBAqKlB"
   },
   "source": [
    "# Team Contributions\n"
   ]
  },
  {
   "cell_type": "markdown",
   "metadata": {
    "id": "9NPz0K9MTjyX"
   },
   "source": [
    "*   **Moyu Lyu**: Complete the background with Chen Yang. Data cleaning, EDA & Inferential Analysis of the Rank dataset with Catherine Ma. Overview and conclusion for materials used in the Video.\n",
    "*   **Catherine Ma**: Completed the Ethics & Privacy part with Ka Lam Wong; Cooperated with Moyu Lyu on EDA of Rank dataset; Video presentation \n",
    "*   **Ka Lam Wong**: Data cleaning, EDA & Inferential Analysis of the Major dataset; Completed the Ethics & Privacy part with Catherine Ma; Video presentation \n",
    "* **Chen Yang**: Complete the background with Moyu Lyu, Cooperate with Zhe Mo on Data cleaning, EDA, Inferential Analysis of the Gender dataset; Video presentation\n",
    "*   **Zhe Mo**: Cooperate with Chen Yang on Data cleaning, EDA, Inferential Analysis of the Gender dataset. Data description part of the project proposal. Conclusion for materials used in the Video."
   ]
  },
  {
   "cell_type": "code",
   "execution_count": null,
   "metadata": {
    "id": "eGDNZAgbzM9-"
   },
   "outputs": [],
   "source": []
  }
 ],
 "metadata": {
  "colab": {
   "collapsed_sections": [],
   "name": "FinalProject_group002.ipynb",
   "provenance": [],
   "toc_visible": true
  },
  "kernelspec": {
   "display_name": "Python 3",
   "language": "python",
   "name": "python3"
  },
  "language_info": {
   "codemirror_mode": {
    "name": "ipython",
    "version": 3
   },
   "file_extension": ".py",
   "mimetype": "text/x-python",
   "name": "python",
   "nbconvert_exporter": "python",
   "pygments_lexer": "ipython3",
   "version": "3.7.7"
  }
 },
 "nbformat": 4,
 "nbformat_minor": 1
}
